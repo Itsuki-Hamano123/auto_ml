{
  "nbformat": 4,
  "nbformat_minor": 0,
  "metadata": {
    "colab": {
      "name": "blood-transfusion_classification.ipynb",
      "provenance": [],
      "collapsed_sections": [],
      "mount_file_id": "1QZMQJgH0EGVz6hjfnMVaXLmNH5o_oOxd",
      "authorship_tag": "ABX9TyPfT7YnrbqCQP1PrFN1vbyK",
      "include_colab_link": true
    },
    "kernelspec": {
      "name": "python3",
      "display_name": "Python 3"
    },
    "widgets": {
      "application/vnd.jupyter.widget-state+json": {
        "fe3182d5da84488b9c883cd6fa58461f": {
          "model_module": "@jupyter-widgets/controls",
          "model_name": "HBoxModel",
          "state": {
            "_view_name": "HBoxView",
            "_dom_classes": [],
            "_model_name": "HBoxModel",
            "_view_module": "@jupyter-widgets/controls",
            "_model_module_version": "1.5.0",
            "_view_count": null,
            "_view_module_version": "1.5.0",
            "box_style": "",
            "layout": "IPY_MODEL_9d4b940014354ce7b368bc2ce9ec24ab",
            "_model_module": "@jupyter-widgets/controls",
            "children": [
              "IPY_MODEL_21eff9c4321d4d568a36c181565a9c6d",
              "IPY_MODEL_31675a7375d8426e9505c0ce6498be17"
            ]
          }
        },
        "9d4b940014354ce7b368bc2ce9ec24ab": {
          "model_module": "@jupyter-widgets/base",
          "model_name": "LayoutModel",
          "state": {
            "_view_name": "LayoutView",
            "grid_template_rows": null,
            "right": null,
            "justify_content": null,
            "_view_module": "@jupyter-widgets/base",
            "overflow": null,
            "_model_module_version": "1.2.0",
            "_view_count": null,
            "flex_flow": null,
            "width": null,
            "min_width": null,
            "border": null,
            "align_items": null,
            "bottom": null,
            "_model_module": "@jupyter-widgets/base",
            "top": null,
            "grid_column": null,
            "overflow_y": null,
            "overflow_x": null,
            "grid_auto_flow": null,
            "grid_area": null,
            "grid_template_columns": null,
            "flex": null,
            "_model_name": "LayoutModel",
            "justify_items": null,
            "grid_row": null,
            "max_height": null,
            "align_content": null,
            "visibility": null,
            "align_self": null,
            "height": null,
            "min_height": null,
            "padding": null,
            "grid_auto_rows": null,
            "grid_gap": null,
            "max_width": null,
            "order": null,
            "_view_module_version": "1.2.0",
            "grid_template_areas": null,
            "object_position": null,
            "object_fit": null,
            "grid_auto_columns": null,
            "margin": null,
            "display": null,
            "left": null
          }
        },
        "21eff9c4321d4d568a36c181565a9c6d": {
          "model_module": "@jupyter-widgets/controls",
          "model_name": "FloatProgressModel",
          "state": {
            "_view_name": "ProgressView",
            "style": "IPY_MODEL_ec472da916d8446dad642720b86990fa",
            "_dom_classes": [],
            "description": "Optimization Progress: 100%",
            "_model_name": "FloatProgressModel",
            "bar_style": "",
            "max": 300,
            "_view_module": "@jupyter-widgets/controls",
            "_model_module_version": "1.5.0",
            "value": 300,
            "_view_count": null,
            "_view_module_version": "1.5.0",
            "orientation": "horizontal",
            "min": 0,
            "description_tooltip": null,
            "_model_module": "@jupyter-widgets/controls",
            "layout": "IPY_MODEL_c5484f1edc844970b174aa5be5e40989"
          }
        },
        "31675a7375d8426e9505c0ce6498be17": {
          "model_module": "@jupyter-widgets/controls",
          "model_name": "HTMLModel",
          "state": {
            "_view_name": "HTMLView",
            "style": "IPY_MODEL_b71e04c229624cb982aa8589e7743861",
            "_dom_classes": [],
            "description": "",
            "_model_name": "HTMLModel",
            "placeholder": "​",
            "_view_module": "@jupyter-widgets/controls",
            "_model_module_version": "1.5.0",
            "value": " 300/300 [02:14&lt;00:00,  1.52pipeline/s]",
            "_view_count": null,
            "_view_module_version": "1.5.0",
            "description_tooltip": null,
            "_model_module": "@jupyter-widgets/controls",
            "layout": "IPY_MODEL_62d36d55147e43c2b77ac713ffed9cef"
          }
        },
        "ec472da916d8446dad642720b86990fa": {
          "model_module": "@jupyter-widgets/controls",
          "model_name": "ProgressStyleModel",
          "state": {
            "_view_name": "StyleView",
            "_model_name": "ProgressStyleModel",
            "description_width": "initial",
            "_view_module": "@jupyter-widgets/base",
            "_model_module_version": "1.5.0",
            "_view_count": null,
            "_view_module_version": "1.2.0",
            "bar_color": null,
            "_model_module": "@jupyter-widgets/controls"
          }
        },
        "c5484f1edc844970b174aa5be5e40989": {
          "model_module": "@jupyter-widgets/base",
          "model_name": "LayoutModel",
          "state": {
            "_view_name": "LayoutView",
            "grid_template_rows": null,
            "right": null,
            "justify_content": null,
            "_view_module": "@jupyter-widgets/base",
            "overflow": null,
            "_model_module_version": "1.2.0",
            "_view_count": null,
            "flex_flow": null,
            "width": null,
            "min_width": null,
            "border": null,
            "align_items": null,
            "bottom": null,
            "_model_module": "@jupyter-widgets/base",
            "top": null,
            "grid_column": null,
            "overflow_y": null,
            "overflow_x": null,
            "grid_auto_flow": null,
            "grid_area": null,
            "grid_template_columns": null,
            "flex": null,
            "_model_name": "LayoutModel",
            "justify_items": null,
            "grid_row": null,
            "max_height": null,
            "align_content": null,
            "visibility": null,
            "align_self": null,
            "height": null,
            "min_height": null,
            "padding": null,
            "grid_auto_rows": null,
            "grid_gap": null,
            "max_width": null,
            "order": null,
            "_view_module_version": "1.2.0",
            "grid_template_areas": null,
            "object_position": null,
            "object_fit": null,
            "grid_auto_columns": null,
            "margin": null,
            "display": null,
            "left": null
          }
        },
        "b71e04c229624cb982aa8589e7743861": {
          "model_module": "@jupyter-widgets/controls",
          "model_name": "DescriptionStyleModel",
          "state": {
            "_view_name": "StyleView",
            "_model_name": "DescriptionStyleModel",
            "description_width": "",
            "_view_module": "@jupyter-widgets/base",
            "_model_module_version": "1.5.0",
            "_view_count": null,
            "_view_module_version": "1.2.0",
            "_model_module": "@jupyter-widgets/controls"
          }
        },
        "62d36d55147e43c2b77ac713ffed9cef": {
          "model_module": "@jupyter-widgets/base",
          "model_name": "LayoutModel",
          "state": {
            "_view_name": "LayoutView",
            "grid_template_rows": null,
            "right": null,
            "justify_content": null,
            "_view_module": "@jupyter-widgets/base",
            "overflow": null,
            "_model_module_version": "1.2.0",
            "_view_count": null,
            "flex_flow": null,
            "width": null,
            "min_width": null,
            "border": null,
            "align_items": null,
            "bottom": null,
            "_model_module": "@jupyter-widgets/base",
            "top": null,
            "grid_column": null,
            "overflow_y": null,
            "overflow_x": null,
            "grid_auto_flow": null,
            "grid_area": null,
            "grid_template_columns": null,
            "flex": null,
            "_model_name": "LayoutModel",
            "justify_items": null,
            "grid_row": null,
            "max_height": null,
            "align_content": null,
            "visibility": null,
            "align_self": null,
            "height": null,
            "min_height": null,
            "padding": null,
            "grid_auto_rows": null,
            "grid_gap": null,
            "max_width": null,
            "order": null,
            "_view_module_version": "1.2.0",
            "grid_template_areas": null,
            "object_position": null,
            "object_fit": null,
            "grid_auto_columns": null,
            "margin": null,
            "display": null,
            "left": null
          }
        }
      }
    }
  },
  "cells": [
    {
      "cell_type": "markdown",
      "metadata": {
        "id": "view-in-github",
        "colab_type": "text"
      },
      "source": [
        "<a href=\"https://colab.research.google.com/github/Itsuki-Hamano123/auto_ml/blob/master/tpot/blood_transfusion_classification.ipynb\" target=\"_parent\"><img src=\"https://colab.research.google.com/assets/colab-badge.svg\" alt=\"Open In Colab\"/></a>"
      ]
    },
    {
      "cell_type": "code",
      "metadata": {
        "id": "X9avgfy440Gw",
        "outputId": "86ca834b-e51b-4d8c-92d3-7288abf40fdb",
        "colab": {
          "base_uri": "https://localhost:8080/",
          "height": 395
        }
      },
      "source": [
        "%pip install -q tpot\n",
        "%pip show tpot scikit-learn"
      ],
      "execution_count": 2,
      "outputs": [
        {
          "output_type": "stream",
          "text": [
            "Name: TPOT\n",
            "Version: 0.11.6\n",
            "Summary: Tree-based Pipeline Optimization Tool\n",
            "Home-page: https://github.com/EpistasisLab/tpot\n",
            "Author: Randal S. Olson\n",
            "Author-email: rso@randalolson.com\n",
            "License: GNU/LGPLv3\n",
            "Location: /usr/local/lib/python3.6/dist-packages\n",
            "Requires: scipy, pandas, tqdm, update-checker, numpy, deap, stopit, scikit-learn, joblib\n",
            "Required-by: \n",
            "---\n",
            "Name: scikit-learn\n",
            "Version: 0.22.2.post1\n",
            "Summary: A set of python modules for machine learning and data mining\n",
            "Home-page: http://scikit-learn.org\n",
            "Author: None\n",
            "Author-email: None\n",
            "License: new BSD\n",
            "Location: /usr/local/lib/python3.6/dist-packages\n",
            "Requires: scipy, numpy, joblib\n",
            "Required-by: yellowbrick, umap-learn, TPOT, textgenrnn, sklearn, sklearn-pandas, mlxtend, lucid, lightgbm, librosa, imbalanced-learn, fancyimpute\n"
          ],
          "name": "stdout"
        }
      ]
    },
    {
      "cell_type": "markdown",
      "metadata": {
        "id": "hPW_0GuC6foJ"
      },
      "source": [
        "[輸血データセット:https://www.openml.org/d/1464](https://www.openml.org/d/1464)"
      ]
    },
    {
      "cell_type": "code",
      "metadata": {
        "id": "K9cZDbpY6vBv"
      },
      "source": [
        "import cloudpickle, datetime, os\n",
        "\n",
        "from sklearn.datasets import fetch_openml\n",
        "from sklearn.model_selection import train_test_split\n",
        "from tpot import TPOTClassifier"
      ],
      "execution_count": 13,
      "outputs": []
    },
    {
      "cell_type": "markdown",
      "metadata": {
        "id": "uWiPUEPf9Myk"
      },
      "source": [
        "# データ読み込み"
      ]
    },
    {
      "cell_type": "code",
      "metadata": {
        "id": "I0_LeqYd6b77",
        "outputId": "e3b9567a-f0c2-4ae7-a970-b3b1c44d7403",
        "colab": {
          "base_uri": "https://localhost:8080/",
          "height": 723
        }
      },
      "source": [
        "%%time\n",
        "DATA_ID = '1464' #@param{type:'string'}\n",
        "\n",
        "# データセットをフェッチ\n",
        "X, y = fetch_openml(data_id=DATA_ID, return_X_y=True, as_frame=True)\n",
        "display(X)\n",
        "display(y)\n",
        "\n",
        "\n",
        "SEED = 7 #@param{type:'number'}\n",
        "SPLIT = 0.2 #@param{type:'number'}\n",
        "\n",
        "train_X, test_X, train_y, test_y = train_test_split(X, y,\n",
        "                                                    test_size=SPLIT,\n",
        "                                                    random_state=SEED,\n",
        "                                                    shuffle=True)\n",
        "display('train shape:{}'.format(train_X.shape))\n",
        "display('test shape:{}'.format(test_X.shape))"
      ],
      "execution_count": 14,
      "outputs": [
        {
          "output_type": "display_data",
          "data": {
            "text/html": [
              "<div>\n",
              "<style scoped>\n",
              "    .dataframe tbody tr th:only-of-type {\n",
              "        vertical-align: middle;\n",
              "    }\n",
              "\n",
              "    .dataframe tbody tr th {\n",
              "        vertical-align: top;\n",
              "    }\n",
              "\n",
              "    .dataframe thead th {\n",
              "        text-align: right;\n",
              "    }\n",
              "</style>\n",
              "<table border=\"1\" class=\"dataframe\">\n",
              "  <thead>\n",
              "    <tr style=\"text-align: right;\">\n",
              "      <th></th>\n",
              "      <th>V1</th>\n",
              "      <th>V2</th>\n",
              "      <th>V3</th>\n",
              "      <th>V4</th>\n",
              "    </tr>\n",
              "  </thead>\n",
              "  <tbody>\n",
              "    <tr>\n",
              "      <th>0</th>\n",
              "      <td>2.0</td>\n",
              "      <td>50.0</td>\n",
              "      <td>12500.0</td>\n",
              "      <td>98.0</td>\n",
              "    </tr>\n",
              "    <tr>\n",
              "      <th>1</th>\n",
              "      <td>0.0</td>\n",
              "      <td>13.0</td>\n",
              "      <td>3250.0</td>\n",
              "      <td>28.0</td>\n",
              "    </tr>\n",
              "    <tr>\n",
              "      <th>2</th>\n",
              "      <td>1.0</td>\n",
              "      <td>16.0</td>\n",
              "      <td>4000.0</td>\n",
              "      <td>35.0</td>\n",
              "    </tr>\n",
              "    <tr>\n",
              "      <th>3</th>\n",
              "      <td>2.0</td>\n",
              "      <td>20.0</td>\n",
              "      <td>5000.0</td>\n",
              "      <td>45.0</td>\n",
              "    </tr>\n",
              "    <tr>\n",
              "      <th>4</th>\n",
              "      <td>1.0</td>\n",
              "      <td>24.0</td>\n",
              "      <td>6000.0</td>\n",
              "      <td>77.0</td>\n",
              "    </tr>\n",
              "    <tr>\n",
              "      <th>...</th>\n",
              "      <td>...</td>\n",
              "      <td>...</td>\n",
              "      <td>...</td>\n",
              "      <td>...</td>\n",
              "    </tr>\n",
              "    <tr>\n",
              "      <th>743</th>\n",
              "      <td>23.0</td>\n",
              "      <td>2.0</td>\n",
              "      <td>500.0</td>\n",
              "      <td>38.0</td>\n",
              "    </tr>\n",
              "    <tr>\n",
              "      <th>744</th>\n",
              "      <td>21.0</td>\n",
              "      <td>2.0</td>\n",
              "      <td>500.0</td>\n",
              "      <td>52.0</td>\n",
              "    </tr>\n",
              "    <tr>\n",
              "      <th>745</th>\n",
              "      <td>23.0</td>\n",
              "      <td>3.0</td>\n",
              "      <td>750.0</td>\n",
              "      <td>62.0</td>\n",
              "    </tr>\n",
              "    <tr>\n",
              "      <th>746</th>\n",
              "      <td>39.0</td>\n",
              "      <td>1.0</td>\n",
              "      <td>250.0</td>\n",
              "      <td>39.0</td>\n",
              "    </tr>\n",
              "    <tr>\n",
              "      <th>747</th>\n",
              "      <td>72.0</td>\n",
              "      <td>1.0</td>\n",
              "      <td>250.0</td>\n",
              "      <td>72.0</td>\n",
              "    </tr>\n",
              "  </tbody>\n",
              "</table>\n",
              "<p>748 rows × 4 columns</p>\n",
              "</div>"
            ],
            "text/plain": [
              "       V1    V2       V3    V4\n",
              "0     2.0  50.0  12500.0  98.0\n",
              "1     0.0  13.0   3250.0  28.0\n",
              "2     1.0  16.0   4000.0  35.0\n",
              "3     2.0  20.0   5000.0  45.0\n",
              "4     1.0  24.0   6000.0  77.0\n",
              "..    ...   ...      ...   ...\n",
              "743  23.0   2.0    500.0  38.0\n",
              "744  21.0   2.0    500.0  52.0\n",
              "745  23.0   3.0    750.0  62.0\n",
              "746  39.0   1.0    250.0  39.0\n",
              "747  72.0   1.0    250.0  72.0\n",
              "\n",
              "[748 rows x 4 columns]"
            ]
          },
          "metadata": {
            "tags": []
          }
        },
        {
          "output_type": "display_data",
          "data": {
            "text/plain": [
              "0      2\n",
              "1      2\n",
              "2      2\n",
              "3      2\n",
              "4      1\n",
              "      ..\n",
              "743    1\n",
              "744    1\n",
              "745    1\n",
              "746    1\n",
              "747    1\n",
              "Name: Class, Length: 748, dtype: category\n",
              "Categories (2, object): ['1', '2']"
            ]
          },
          "metadata": {
            "tags": []
          }
        },
        {
          "output_type": "display_data",
          "data": {
            "application/vnd.google.colaboratory.intrinsic+json": {
              "type": "string"
            },
            "text/plain": [
              "'train shape:(598, 4)'"
            ]
          },
          "metadata": {
            "tags": []
          }
        },
        {
          "output_type": "display_data",
          "data": {
            "application/vnd.google.colaboratory.intrinsic+json": {
              "type": "string"
            },
            "text/plain": [
              "'test shape:(150, 4)'"
            ]
          },
          "metadata": {
            "tags": []
          }
        },
        {
          "output_type": "stream",
          "text": [
            "CPU times: user 45.1 ms, sys: 2.31 ms, total: 47.4 ms\n",
            "Wall time: 48.8 ms\n"
          ],
          "name": "stdout"
        }
      ]
    },
    {
      "cell_type": "markdown",
      "metadata": {
        "id": "J5YamKo39PL8"
      },
      "source": [
        "# パイプライン構築"
      ]
    },
    {
      "cell_type": "code",
      "metadata": {
        "id": "SIueBUl57oOJ"
      },
      "source": [
        "GENERATION =  5#@param{type:'number'}\n",
        "POPULATION =  50#@param{type:'number'}\n",
        "CV =  5#@param{type:'number'}\n",
        "EARLY_STOP_ROUND = 2 #@param:{type:'number'}\n",
        "N_JOBS = -1 #@param{type:'number'}\n",
        "VERBOSITY = 2 #@param{type:'number'}\n",
        "\n",
        "SEARCH_STRATEGY = None\n",
        "\n",
        "tpot = TPOTClassifier(config_dict=SEARCH_STRATEGY,\n",
        "                      generations=GENERATION, # (default:100)\n",
        "                      population_size=POPULATION, # (default:100)\n",
        "                      cv=CV, #(default:5)\n",
        "                      #early_stop=EARLY_STOP_ROUND,\n",
        "                      n_jobs=N_JOBS, # (default:1)\n",
        "                      random_state=SEED,\n",
        "                      verbosity=VERBOSITY,\n",
        "                      warm_start=True, # 以前のfit結果があれば続きから開始\n",
        "                      )\n"
      ],
      "execution_count": 16,
      "outputs": []
    },
    {
      "cell_type": "code",
      "metadata": {
        "id": "-Hw0Bf3b9u71",
        "outputId": "ac69575c-a66a-413c-90b1-1261d4f6b56b",
        "colab": {
          "base_uri": "https://localhost:8080/",
          "height": 379,
          "referenced_widgets": [
            "fe3182d5da84488b9c883cd6fa58461f",
            "9d4b940014354ce7b368bc2ce9ec24ab",
            "21eff9c4321d4d568a36c181565a9c6d",
            "31675a7375d8426e9505c0ce6498be17",
            "ec472da916d8446dad642720b86990fa",
            "c5484f1edc844970b174aa5be5e40989",
            "b71e04c229624cb982aa8589e7743861",
            "62d36d55147e43c2b77ac713ffed9cef"
          ]
        }
      },
      "source": [
        "%%time\n",
        "tpot.fit(features=train_X, target=train_y)"
      ],
      "execution_count": 17,
      "outputs": [
        {
          "output_type": "display_data",
          "data": {
            "application/vnd.jupyter.widget-view+json": {
              "model_id": "fe3182d5da84488b9c883cd6fa58461f",
              "version_minor": 0,
              "version_major": 2
            },
            "text/plain": [
              "HBox(children=(FloatProgress(value=0.0, description='Optimization Progress', max=300.0, style=ProgressStyle(de…"
            ]
          },
          "metadata": {
            "tags": []
          }
        },
        {
          "output_type": "stream",
          "text": [
            "\r\n",
            "Generation 1 - Current best internal CV score: 0.804327731092437\n",
            "\n",
            "Generation 2 - Current best internal CV score: 0.804327731092437\n",
            "\n",
            "Generation 3 - Current best internal CV score: 0.804327731092437\n",
            "\n",
            "Generation 4 - Current best internal CV score: 0.8110224089635855\n",
            "\n",
            "Generation 5 - Current best internal CV score: 0.8110224089635855\n",
            "\n",
            "Best pipeline: XGBClassifier(ExtraTreesClassifier(ExtraTreesClassifier(input_matrix, bootstrap=False, criterion=entropy, max_features=0.55, min_samples_leaf=15, min_samples_split=20, n_estimators=100), bootstrap=False, criterion=entropy, max_features=0.55, min_samples_leaf=15, min_samples_split=20, n_estimators=100), learning_rate=0.001, max_depth=3, min_child_weight=11, n_estimators=100, nthread=1, subsample=0.7500000000000001)\n"
          ],
          "name": "stdout"
        },
        {
          "output_type": "execute_result",
          "data": {
            "text/plain": [
              "TPOTClassifier(config_dict=None, crossover_rate=0.1, cv=5,\n",
              "               disable_update_check=False, early_stop=None, generations=5,\n",
              "               log_file=None, max_eval_time_mins=5, max_time_mins=None,\n",
              "               memory=None, mutation_rate=0.9, n_jobs=-1, offspring_size=None,\n",
              "               periodic_checkpoint_folder=None, population_size=50,\n",
              "               random_state=7, scoring=None, subsample=1.0, template=None,\n",
              "               use_dask=False, verbosity=2, warm_start=True)"
            ]
          },
          "metadata": {
            "tags": []
          },
          "execution_count": 17
        }
      ]
    },
    {
      "cell_type": "markdown",
      "metadata": {
        "id": "1M3a-eXy-CKM"
      },
      "source": [
        "#パイプラインの出力"
      ]
    },
    {
      "cell_type": "code",
      "metadata": {
        "id": "9_kAvZYR95ZO",
        "outputId": "82630d0e-4062-4a8a-8311-f21a99b43d18",
        "colab": {
          "base_uri": "https://localhost:8080/",
          "height": 71
        }
      },
      "source": [
        "%cd /content/drive/My Drive/機械学習練習/AutoML/TPOT\n",
        "%ls"
      ],
      "execution_count": 19,
      "outputs": [
        {
          "output_type": "stream",
          "text": [
            "/content/drive/My Drive/機械学習練習/AutoML/TPOT\n",
            "blood-transfusion_classification.ipynb  radon-regressor_drop_country.ipynb\n",
            "\u001b[0m\u001b[01;34mexport_pipeline\u001b[0m/                        radon-regressor.ipynb\n"
          ],
          "name": "stdout"
        }
      ]
    },
    {
      "cell_type": "code",
      "metadata": {
        "id": "URDo2R4b-F-6",
        "outputId": "3c253eb5-b5df-4ad0-c03e-6fda5af55955",
        "colab": {
          "base_uri": "https://localhost:8080/",
          "height": 323
        }
      },
      "source": [
        "%%time\n",
        "\n",
        "EXPORT_DIR =  './export_pipeline' # @param {type:'string'}\n",
        "file_prefix = 'blood-transfusion_classification_pipeline' # @param{type:'string'}\n",
        "\n",
        "now = datetime.datetime.now().strftime('%Y%m%d_%H%m%s')\n",
        "export_file = os.path.join(EXPORT_DIR, now+'_'+file_prefix)\n",
        "\n",
        "# ベストなパイプラインのスクリプトファイル出力\n",
        "tpot.export(output_file_name=export_file+'.py')\n",
        "\n",
        "\n",
        "def dump_pkl(obj, path):\n",
        "    '''objをpklファイルで出力'''\n",
        "    with open(path, 'wb') as f:\n",
        "        f.write(cloudpickle.dumps(obj))\n",
        "\n",
        "# ベストなパイプラインをpklで出力\n",
        "best_pipline = tpot.fitted_pipeline_\n",
        "dump_pkl(best_pipline, export_file+'.pkl')\n",
        "\n",
        "%ls {EXPORT_DIR}"
      ],
      "execution_count": 21,
      "outputs": [
        {
          "output_type": "stream",
          "text": [
            "20201026_08101603700167_radon-regressor_drop_country_pipeline.pkl\n",
            "20201026_08101603700167_radon-regressor_drop_country_pipeline.py\n",
            "20201026_08101603700544_radon-regressor_pipeline.pkl\n",
            "20201026_08101603700544_radon-regressor_pipeline.py\n",
            "20201026_08101603701198_radon-regressor_pipeline.pkl\n",
            "20201026_08101603701198_radon-regressor_pipeline.py\n",
            "20201027_00101603759647_radon-regressor_drop_country_pipeline.pkl\n",
            "20201027_00101603759647_radon-regressor_drop_country_pipeline.py\n",
            "20201027_01101603761063_radon-regressor_drop_country_pipeline.pkl\n",
            "20201027_01101603761063_radon-regressor_drop_country_pipeline.py\n",
            "20201027_01101603762717_radon-regressor_drop_country_pipeline.pkl\n",
            "20201027_01101603762717_radon-regressor_drop_country_pipeline.py\n",
            "20201027_02101603767263_blood-transfusion_classification_pipeline.pkl\n",
            "20201027_02101603767263_blood-transfusion_classification_pipeline.py\n",
            "\u001b[0m\u001b[01;34mBK\u001b[0m/\n",
            "CPU times: user 66.9 ms, sys: 15.1 ms, total: 82 ms\n",
            "Wall time: 205 ms\n"
          ],
          "name": "stdout"
        }
      ]
    },
    {
      "cell_type": "markdown",
      "metadata": {
        "id": "_3LKr4_8-Oog"
      },
      "source": [
        "# モデルの評価"
      ]
    },
    {
      "cell_type": "markdown",
      "metadata": {
        "id": "18KhQRcS-ZNh"
      },
      "source": [
        "## sklearnの評価関数"
      ]
    },
    {
      "cell_type": "code",
      "metadata": {
        "id": "W0ZrIMjb-HT0",
        "outputId": "439281fd-8b13-449b-b1a1-7b22d0bf8767",
        "colab": {
          "base_uri": "https://localhost:8080/",
          "height": 233
        }
      },
      "source": [
        "# pandasのCategorical typeな列を予測させたので、予測ラベルは文字列型\n",
        "tpot.predict(features=test_X)\n",
        "\n",
        "# tpotに組み込まれている評価関数だとエラーが生じる\n",
        "#tpot.score(testing_features=test_X, testing_target=test_y)\n",
        "\n"
      ],
      "execution_count": 39,
      "outputs": [
        {
          "output_type": "execute_result",
          "data": {
            "text/plain": [
              "array(['1', '1', '1', '1', '1', '1', '1', '1', '1', '1', '1', '1', '1',\n",
              "       '1', '1', '1', '1', '2', '1', '2', '1', '2', '1', '1', '1', '1',\n",
              "       '2', '1', '1', '1', '1', '1', '1', '1', '2', '2', '1', '1', '1',\n",
              "       '1', '1', '1', '1', '1', '1', '1', '2', '1', '1', '1', '1', '2',\n",
              "       '1', '1', '1', '1', '1', '1', '1', '1', '1', '2', '1', '1', '1',\n",
              "       '1', '1', '1', '1', '1', '1', '1', '1', '1', '1', '1', '1', '1',\n",
              "       '1', '1', '1', '2', '1', '1', '1', '1', '1', '1', '1', '2', '1',\n",
              "       '2', '1', '1', '1', '1', '1', '1', '1', '1', '1', '1', '1', '1',\n",
              "       '1', '1', '2', '2', '1', '1', '1', '1', '1', '1', '1', '1', '1',\n",
              "       '2', '1', '1', '1', '1', '1', '1', '1', '2', '1', '1', '1', '1',\n",
              "       '1', '1', '1', '1', '1', '1', '1', '1', '1', '1', '1', '1', '1',\n",
              "       '1', '1', '1', '2', '1', '1', '1'], dtype=object)"
            ]
          },
          "metadata": {
            "tags": []
          },
          "execution_count": 39
        }
      ]
    },
    {
      "cell_type": "code",
      "metadata": {
        "id": "YCj8wE1L-asr"
      },
      "source": [
        ""
      ],
      "execution_count": null,
      "outputs": []
    }
  ]
}