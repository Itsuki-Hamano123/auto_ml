{
  "nbformat": 4,
  "nbformat_minor": 0,
  "metadata": {
    "colab": {
      "name": "dnn_regressor.ipynb",
      "provenance": [],
      "collapsed_sections": [],
      "toc_visible": true,
      "mount_file_id": "1UJ2HOAIkkAmjvANputOK_-2OhNTpTB3E",
      "authorship_tag": "ABX9TyNn9c9JDcSx8JYnYnoj8myv",
      "include_colab_link": true
    },
    "kernelspec": {
      "name": "python3",
      "display_name": "Python 3"
    },
    "accelerator": "GPU",
    "widgets": {
      "application/vnd.jupyter.widget-state+json": {
        "de4272a147734eb69200b054d7fada8d": {
          "model_module": "@jupyter-widgets/controls",
          "model_name": "HBoxModel",
          "state": {
            "_view_name": "HBoxView",
            "_dom_classes": [],
            "_model_name": "HBoxModel",
            "_view_module": "@jupyter-widgets/controls",
            "_model_module_version": "1.5.0",
            "_view_count": null,
            "_view_module_version": "1.5.0",
            "box_style": "",
            "layout": "IPY_MODEL_774ade8cf6f44610bbee3513f887a6ee",
            "_model_module": "@jupyter-widgets/controls",
            "children": [
              "IPY_MODEL_100890f300ab47608da1d311a1fcf7f5",
              "IPY_MODEL_d6fab14993204fc9a089fb0e4cf63c4f"
            ]
          }
        },
        "774ade8cf6f44610bbee3513f887a6ee": {
          "model_module": "@jupyter-widgets/base",
          "model_name": "LayoutModel",
          "state": {
            "_view_name": "LayoutView",
            "grid_template_rows": null,
            "right": null,
            "justify_content": null,
            "_view_module": "@jupyter-widgets/base",
            "overflow": null,
            "_model_module_version": "1.2.0",
            "_view_count": null,
            "flex_flow": null,
            "width": null,
            "min_width": null,
            "border": null,
            "align_items": null,
            "bottom": null,
            "_model_module": "@jupyter-widgets/base",
            "top": null,
            "grid_column": null,
            "overflow_y": null,
            "overflow_x": null,
            "grid_auto_flow": null,
            "grid_area": null,
            "grid_template_columns": null,
            "flex": null,
            "_model_name": "LayoutModel",
            "justify_items": null,
            "grid_row": null,
            "max_height": null,
            "align_content": null,
            "visibility": null,
            "align_self": null,
            "height": null,
            "min_height": null,
            "padding": null,
            "grid_auto_rows": null,
            "grid_gap": null,
            "max_width": null,
            "order": null,
            "_view_module_version": "1.2.0",
            "grid_template_areas": null,
            "object_position": null,
            "object_fit": null,
            "grid_auto_columns": null,
            "margin": null,
            "display": null,
            "left": null
          }
        },
        "100890f300ab47608da1d311a1fcf7f5": {
          "model_module": "@jupyter-widgets/controls",
          "model_name": "FloatProgressModel",
          "state": {
            "_view_name": "ProgressView",
            "style": "IPY_MODEL_787987565c2644f9a45700729b32422d",
            "_dom_classes": [],
            "description": "Dl Completed...: 100%",
            "_model_name": "FloatProgressModel",
            "bar_style": "success",
            "max": 1,
            "_view_module": "@jupyter-widgets/controls",
            "_model_module_version": "1.5.0",
            "value": 1,
            "_view_count": null,
            "_view_module_version": "1.5.0",
            "orientation": "horizontal",
            "min": 0,
            "description_tooltip": null,
            "_model_module": "@jupyter-widgets/controls",
            "layout": "IPY_MODEL_14a379df2bb04fd4a9f3070dcf18e6d4"
          }
        },
        "d6fab14993204fc9a089fb0e4cf63c4f": {
          "model_module": "@jupyter-widgets/controls",
          "model_name": "HTMLModel",
          "state": {
            "_view_name": "HTMLView",
            "style": "IPY_MODEL_0aa9f3d973de4befacbf6b77d06e0a5e",
            "_dom_classes": [],
            "description": "",
            "_model_name": "HTMLModel",
            "placeholder": "​",
            "_view_module": "@jupyter-widgets/controls",
            "_model_module_version": "1.5.0",
            "value": " 2/2 [00:00&lt;00:00,  2.99 url/s]",
            "_view_count": null,
            "_view_module_version": "1.5.0",
            "description_tooltip": null,
            "_model_module": "@jupyter-widgets/controls",
            "layout": "IPY_MODEL_d6019056a9f84d83843e8903fb3913bc"
          }
        },
        "787987565c2644f9a45700729b32422d": {
          "model_module": "@jupyter-widgets/controls",
          "model_name": "ProgressStyleModel",
          "state": {
            "_view_name": "StyleView",
            "_model_name": "ProgressStyleModel",
            "description_width": "initial",
            "_view_module": "@jupyter-widgets/base",
            "_model_module_version": "1.5.0",
            "_view_count": null,
            "_view_module_version": "1.2.0",
            "bar_color": null,
            "_model_module": "@jupyter-widgets/controls"
          }
        },
        "14a379df2bb04fd4a9f3070dcf18e6d4": {
          "model_module": "@jupyter-widgets/base",
          "model_name": "LayoutModel",
          "state": {
            "_view_name": "LayoutView",
            "grid_template_rows": null,
            "right": null,
            "justify_content": null,
            "_view_module": "@jupyter-widgets/base",
            "overflow": null,
            "_model_module_version": "1.2.0",
            "_view_count": null,
            "flex_flow": null,
            "width": null,
            "min_width": null,
            "border": null,
            "align_items": null,
            "bottom": null,
            "_model_module": "@jupyter-widgets/base",
            "top": null,
            "grid_column": null,
            "overflow_y": null,
            "overflow_x": null,
            "grid_auto_flow": null,
            "grid_area": null,
            "grid_template_columns": null,
            "flex": null,
            "_model_name": "LayoutModel",
            "justify_items": null,
            "grid_row": null,
            "max_height": null,
            "align_content": null,
            "visibility": null,
            "align_self": null,
            "height": null,
            "min_height": null,
            "padding": null,
            "grid_auto_rows": null,
            "grid_gap": null,
            "max_width": null,
            "order": null,
            "_view_module_version": "1.2.0",
            "grid_template_areas": null,
            "object_position": null,
            "object_fit": null,
            "grid_auto_columns": null,
            "margin": null,
            "display": null,
            "left": null
          }
        },
        "0aa9f3d973de4befacbf6b77d06e0a5e": {
          "model_module": "@jupyter-widgets/controls",
          "model_name": "DescriptionStyleModel",
          "state": {
            "_view_name": "StyleView",
            "_model_name": "DescriptionStyleModel",
            "description_width": "",
            "_view_module": "@jupyter-widgets/base",
            "_model_module_version": "1.5.0",
            "_view_count": null,
            "_view_module_version": "1.2.0",
            "_model_module": "@jupyter-widgets/controls"
          }
        },
        "d6019056a9f84d83843e8903fb3913bc": {
          "model_module": "@jupyter-widgets/base",
          "model_name": "LayoutModel",
          "state": {
            "_view_name": "LayoutView",
            "grid_template_rows": null,
            "right": null,
            "justify_content": null,
            "_view_module": "@jupyter-widgets/base",
            "overflow": null,
            "_model_module_version": "1.2.0",
            "_view_count": null,
            "flex_flow": null,
            "width": null,
            "min_width": null,
            "border": null,
            "align_items": null,
            "bottom": null,
            "_model_module": "@jupyter-widgets/base",
            "top": null,
            "grid_column": null,
            "overflow_y": null,
            "overflow_x": null,
            "grid_auto_flow": null,
            "grid_area": null,
            "grid_template_columns": null,
            "flex": null,
            "_model_name": "LayoutModel",
            "justify_items": null,
            "grid_row": null,
            "max_height": null,
            "align_content": null,
            "visibility": null,
            "align_self": null,
            "height": null,
            "min_height": null,
            "padding": null,
            "grid_auto_rows": null,
            "grid_gap": null,
            "max_width": null,
            "order": null,
            "_view_module_version": "1.2.0",
            "grid_template_areas": null,
            "object_position": null,
            "object_fit": null,
            "grid_auto_columns": null,
            "margin": null,
            "display": null,
            "left": null
          }
        },
        "7a10434d105945d8a431769480420d92": {
          "model_module": "@jupyter-widgets/controls",
          "model_name": "HBoxModel",
          "state": {
            "_view_name": "HBoxView",
            "_dom_classes": [],
            "_model_name": "HBoxModel",
            "_view_module": "@jupyter-widgets/controls",
            "_model_module_version": "1.5.0",
            "_view_count": null,
            "_view_module_version": "1.5.0",
            "box_style": "",
            "layout": "IPY_MODEL_605a0fde7d6849929830fd1b5d86635f",
            "_model_module": "@jupyter-widgets/controls",
            "children": [
              "IPY_MODEL_b756eda36e7d40e494575a4f9d589f94",
              "IPY_MODEL_dc1619f6af004133957bc9078d35d32b"
            ]
          }
        },
        "605a0fde7d6849929830fd1b5d86635f": {
          "model_module": "@jupyter-widgets/base",
          "model_name": "LayoutModel",
          "state": {
            "_view_name": "LayoutView",
            "grid_template_rows": null,
            "right": null,
            "justify_content": null,
            "_view_module": "@jupyter-widgets/base",
            "overflow": null,
            "_model_module_version": "1.2.0",
            "_view_count": null,
            "flex_flow": null,
            "width": null,
            "min_width": null,
            "border": null,
            "align_items": null,
            "bottom": null,
            "_model_module": "@jupyter-widgets/base",
            "top": null,
            "grid_column": null,
            "overflow_y": null,
            "overflow_x": null,
            "grid_auto_flow": null,
            "grid_area": null,
            "grid_template_columns": null,
            "flex": null,
            "_model_name": "LayoutModel",
            "justify_items": null,
            "grid_row": null,
            "max_height": null,
            "align_content": null,
            "visibility": null,
            "align_self": null,
            "height": null,
            "min_height": null,
            "padding": null,
            "grid_auto_rows": null,
            "grid_gap": null,
            "max_width": null,
            "order": null,
            "_view_module_version": "1.2.0",
            "grid_template_areas": null,
            "object_position": null,
            "object_fit": null,
            "grid_auto_columns": null,
            "margin": null,
            "display": null,
            "left": null
          }
        },
        "b756eda36e7d40e494575a4f9d589f94": {
          "model_module": "@jupyter-widgets/controls",
          "model_name": "FloatProgressModel",
          "state": {
            "_view_name": "ProgressView",
            "style": "IPY_MODEL_373b97b7057046f2bbf2d7a758c00ce4",
            "_dom_classes": [],
            "description": "Dl Size...: 100%",
            "_model_name": "FloatProgressModel",
            "bar_style": "success",
            "max": 1,
            "_view_module": "@jupyter-widgets/controls",
            "_model_module_version": "1.5.0",
            "value": 1,
            "_view_count": null,
            "_view_module_version": "1.5.0",
            "orientation": "horizontal",
            "min": 0,
            "description_tooltip": null,
            "_model_module": "@jupyter-widgets/controls",
            "layout": "IPY_MODEL_10df65305e3f4c59974de4a47a4ab09c"
          }
        },
        "dc1619f6af004133957bc9078d35d32b": {
          "model_module": "@jupyter-widgets/controls",
          "model_name": "HTMLModel",
          "state": {
            "_view_name": "HTMLView",
            "style": "IPY_MODEL_de9ec0dccb1e4bf9818ee4bb7d6ad353",
            "_dom_classes": [],
            "description": "",
            "_model_name": "HTMLModel",
            "placeholder": "​",
            "_view_module": "@jupyter-widgets/controls",
            "_model_module_version": "1.5.0",
            "value": " 1/1 [00:00&lt;00:00,  1.57 MiB/s]",
            "_view_count": null,
            "_view_module_version": "1.5.0",
            "description_tooltip": null,
            "_model_module": "@jupyter-widgets/controls",
            "layout": "IPY_MODEL_35b47caef0534647a6b51e6282baf675"
          }
        },
        "373b97b7057046f2bbf2d7a758c00ce4": {
          "model_module": "@jupyter-widgets/controls",
          "model_name": "ProgressStyleModel",
          "state": {
            "_view_name": "StyleView",
            "_model_name": "ProgressStyleModel",
            "description_width": "initial",
            "_view_module": "@jupyter-widgets/base",
            "_model_module_version": "1.5.0",
            "_view_count": null,
            "_view_module_version": "1.2.0",
            "bar_color": null,
            "_model_module": "@jupyter-widgets/controls"
          }
        },
        "10df65305e3f4c59974de4a47a4ab09c": {
          "model_module": "@jupyter-widgets/base",
          "model_name": "LayoutModel",
          "state": {
            "_view_name": "LayoutView",
            "grid_template_rows": null,
            "right": null,
            "justify_content": null,
            "_view_module": "@jupyter-widgets/base",
            "overflow": null,
            "_model_module_version": "1.2.0",
            "_view_count": null,
            "flex_flow": null,
            "width": null,
            "min_width": null,
            "border": null,
            "align_items": null,
            "bottom": null,
            "_model_module": "@jupyter-widgets/base",
            "top": null,
            "grid_column": null,
            "overflow_y": null,
            "overflow_x": null,
            "grid_auto_flow": null,
            "grid_area": null,
            "grid_template_columns": null,
            "flex": null,
            "_model_name": "LayoutModel",
            "justify_items": null,
            "grid_row": null,
            "max_height": null,
            "align_content": null,
            "visibility": null,
            "align_self": null,
            "height": null,
            "min_height": null,
            "padding": null,
            "grid_auto_rows": null,
            "grid_gap": null,
            "max_width": null,
            "order": null,
            "_view_module_version": "1.2.0",
            "grid_template_areas": null,
            "object_position": null,
            "object_fit": null,
            "grid_auto_columns": null,
            "margin": null,
            "display": null,
            "left": null
          }
        },
        "de9ec0dccb1e4bf9818ee4bb7d6ad353": {
          "model_module": "@jupyter-widgets/controls",
          "model_name": "DescriptionStyleModel",
          "state": {
            "_view_name": "StyleView",
            "_model_name": "DescriptionStyleModel",
            "description_width": "",
            "_view_module": "@jupyter-widgets/base",
            "_model_module_version": "1.5.0",
            "_view_count": null,
            "_view_module_version": "1.2.0",
            "_model_module": "@jupyter-widgets/controls"
          }
        },
        "35b47caef0534647a6b51e6282baf675": {
          "model_module": "@jupyter-widgets/base",
          "model_name": "LayoutModel",
          "state": {
            "_view_name": "LayoutView",
            "grid_template_rows": null,
            "right": null,
            "justify_content": null,
            "_view_module": "@jupyter-widgets/base",
            "overflow": null,
            "_model_module_version": "1.2.0",
            "_view_count": null,
            "flex_flow": null,
            "width": null,
            "min_width": null,
            "border": null,
            "align_items": null,
            "bottom": null,
            "_model_module": "@jupyter-widgets/base",
            "top": null,
            "grid_column": null,
            "overflow_y": null,
            "overflow_x": null,
            "grid_auto_flow": null,
            "grid_area": null,
            "grid_template_columns": null,
            "flex": null,
            "_model_name": "LayoutModel",
            "justify_items": null,
            "grid_row": null,
            "max_height": null,
            "align_content": null,
            "visibility": null,
            "align_self": null,
            "height": null,
            "min_height": null,
            "padding": null,
            "grid_auto_rows": null,
            "grid_gap": null,
            "max_width": null,
            "order": null,
            "_view_module_version": "1.2.0",
            "grid_template_areas": null,
            "object_position": null,
            "object_fit": null,
            "grid_auto_columns": null,
            "margin": null,
            "display": null,
            "left": null
          }
        },
        "56a1b1fb224041948cc8e5a92469dc94": {
          "model_module": "@jupyter-widgets/controls",
          "model_name": "HBoxModel",
          "state": {
            "_view_name": "HBoxView",
            "_dom_classes": [],
            "_model_name": "HBoxModel",
            "_view_module": "@jupyter-widgets/controls",
            "_model_module_version": "1.5.0",
            "_view_count": null,
            "_view_module_version": "1.5.0",
            "box_style": "",
            "layout": "IPY_MODEL_1e3d039ed35a48a6a1fd034203d40102",
            "_model_module": "@jupyter-widgets/controls",
            "children": [
              "IPY_MODEL_8ed8bd44ddbc449e8b32647b4fc77d82",
              "IPY_MODEL_660edeb31c0642838a249819f32f1461"
            ]
          }
        },
        "1e3d039ed35a48a6a1fd034203d40102": {
          "model_module": "@jupyter-widgets/base",
          "model_name": "LayoutModel",
          "state": {
            "_view_name": "LayoutView",
            "grid_template_rows": null,
            "right": null,
            "justify_content": null,
            "_view_module": "@jupyter-widgets/base",
            "overflow": null,
            "_model_module_version": "1.2.0",
            "_view_count": null,
            "flex_flow": null,
            "width": null,
            "min_width": null,
            "border": null,
            "align_items": null,
            "bottom": null,
            "_model_module": "@jupyter-widgets/base",
            "top": null,
            "grid_column": null,
            "overflow_y": null,
            "overflow_x": null,
            "grid_auto_flow": null,
            "grid_area": null,
            "grid_template_columns": null,
            "flex": null,
            "_model_name": "LayoutModel",
            "justify_items": null,
            "grid_row": null,
            "max_height": null,
            "align_content": null,
            "visibility": null,
            "align_self": null,
            "height": null,
            "min_height": null,
            "padding": null,
            "grid_auto_rows": null,
            "grid_gap": null,
            "max_width": null,
            "order": null,
            "_view_module_version": "1.2.0",
            "grid_template_areas": null,
            "object_position": null,
            "object_fit": null,
            "grid_auto_columns": null,
            "margin": null,
            "display": null,
            "left": null
          }
        },
        "8ed8bd44ddbc449e8b32647b4fc77d82": {
          "model_module": "@jupyter-widgets/controls",
          "model_name": "FloatProgressModel",
          "state": {
            "_view_name": "ProgressView",
            "style": "IPY_MODEL_ebe80a3cf48d4949bec463a64899bb6c",
            "_dom_classes": [],
            "description": "",
            "_model_name": "FloatProgressModel",
            "bar_style": "info",
            "max": 1,
            "_view_module": "@jupyter-widgets/controls",
            "_model_module_version": "1.5.0",
            "value": 1,
            "_view_count": null,
            "_view_module_version": "1.5.0",
            "orientation": "horizontal",
            "min": 0,
            "description_tooltip": null,
            "_model_module": "@jupyter-widgets/controls",
            "layout": "IPY_MODEL_2f66955120fe4bd9aaaf847a9ebe3b13"
          }
        },
        "660edeb31c0642838a249819f32f1461": {
          "model_module": "@jupyter-widgets/controls",
          "model_name": "HTMLModel",
          "state": {
            "_view_name": "HTMLView",
            "style": "IPY_MODEL_1e639d8d14a04d7cab4615576eaef622",
            "_dom_classes": [],
            "description": "",
            "_model_name": "HTMLModel",
            "placeholder": "​",
            "_view_module": "@jupyter-widgets/controls",
            "_model_module_version": "1.5.0",
            "value": " 12573/0 [00:26&lt;00:00, 351.52 examples/s]",
            "_view_count": null,
            "_view_module_version": "1.5.0",
            "description_tooltip": null,
            "_model_module": "@jupyter-widgets/controls",
            "layout": "IPY_MODEL_2ce074fb40f04e179c17236b0c7410df"
          }
        },
        "ebe80a3cf48d4949bec463a64899bb6c": {
          "model_module": "@jupyter-widgets/controls",
          "model_name": "ProgressStyleModel",
          "state": {
            "_view_name": "StyleView",
            "_model_name": "ProgressStyleModel",
            "description_width": "initial",
            "_view_module": "@jupyter-widgets/base",
            "_model_module_version": "1.5.0",
            "_view_count": null,
            "_view_module_version": "1.2.0",
            "bar_color": null,
            "_model_module": "@jupyter-widgets/controls"
          }
        },
        "2f66955120fe4bd9aaaf847a9ebe3b13": {
          "model_module": "@jupyter-widgets/base",
          "model_name": "LayoutModel",
          "state": {
            "_view_name": "LayoutView",
            "grid_template_rows": null,
            "right": null,
            "justify_content": null,
            "_view_module": "@jupyter-widgets/base",
            "overflow": null,
            "_model_module_version": "1.2.0",
            "_view_count": null,
            "flex_flow": null,
            "width": null,
            "min_width": null,
            "border": null,
            "align_items": null,
            "bottom": null,
            "_model_module": "@jupyter-widgets/base",
            "top": null,
            "grid_column": null,
            "overflow_y": null,
            "overflow_x": null,
            "grid_auto_flow": null,
            "grid_area": null,
            "grid_template_columns": null,
            "flex": null,
            "_model_name": "LayoutModel",
            "justify_items": null,
            "grid_row": null,
            "max_height": null,
            "align_content": null,
            "visibility": null,
            "align_self": null,
            "height": null,
            "min_height": null,
            "padding": null,
            "grid_auto_rows": null,
            "grid_gap": null,
            "max_width": null,
            "order": null,
            "_view_module_version": "1.2.0",
            "grid_template_areas": null,
            "object_position": null,
            "object_fit": null,
            "grid_auto_columns": null,
            "margin": null,
            "display": null,
            "left": null
          }
        },
        "1e639d8d14a04d7cab4615576eaef622": {
          "model_module": "@jupyter-widgets/controls",
          "model_name": "DescriptionStyleModel",
          "state": {
            "_view_name": "StyleView",
            "_model_name": "DescriptionStyleModel",
            "description_width": "",
            "_view_module": "@jupyter-widgets/base",
            "_model_module_version": "1.5.0",
            "_view_count": null,
            "_view_module_version": "1.2.0",
            "_model_module": "@jupyter-widgets/controls"
          }
        },
        "2ce074fb40f04e179c17236b0c7410df": {
          "model_module": "@jupyter-widgets/base",
          "model_name": "LayoutModel",
          "state": {
            "_view_name": "LayoutView",
            "grid_template_rows": null,
            "right": null,
            "justify_content": null,
            "_view_module": "@jupyter-widgets/base",
            "overflow": null,
            "_model_module_version": "1.2.0",
            "_view_count": null,
            "flex_flow": null,
            "width": null,
            "min_width": null,
            "border": null,
            "align_items": null,
            "bottom": null,
            "_model_module": "@jupyter-widgets/base",
            "top": null,
            "grid_column": null,
            "overflow_y": null,
            "overflow_x": null,
            "grid_auto_flow": null,
            "grid_area": null,
            "grid_template_columns": null,
            "flex": null,
            "_model_name": "LayoutModel",
            "justify_items": null,
            "grid_row": null,
            "max_height": null,
            "align_content": null,
            "visibility": null,
            "align_self": null,
            "height": null,
            "min_height": null,
            "padding": null,
            "grid_auto_rows": null,
            "grid_gap": null,
            "max_width": null,
            "order": null,
            "_view_module_version": "1.2.0",
            "grid_template_areas": null,
            "object_position": null,
            "object_fit": null,
            "grid_auto_columns": null,
            "margin": null,
            "display": null,
            "left": null
          }
        },
        "b0167ac48b6a4dfc9c47034890fa6fc3": {
          "model_module": "@jupyter-widgets/controls",
          "model_name": "HBoxModel",
          "state": {
            "_view_name": "HBoxView",
            "_dom_classes": [],
            "_model_name": "HBoxModel",
            "_view_module": "@jupyter-widgets/controls",
            "_model_module_version": "1.5.0",
            "_view_count": null,
            "_view_module_version": "1.5.0",
            "box_style": "",
            "layout": "IPY_MODEL_b392186ed99c4b6385523e3f7f835c3c",
            "_model_module": "@jupyter-widgets/controls",
            "children": [
              "IPY_MODEL_68e3304812814af28eb8a775742f2281",
              "IPY_MODEL_bf2ddfd708ca45d9ad5115b206bc2fda"
            ]
          }
        },
        "b392186ed99c4b6385523e3f7f835c3c": {
          "model_module": "@jupyter-widgets/base",
          "model_name": "LayoutModel",
          "state": {
            "_view_name": "LayoutView",
            "grid_template_rows": null,
            "right": null,
            "justify_content": null,
            "_view_module": "@jupyter-widgets/base",
            "overflow": null,
            "_model_module_version": "1.2.0",
            "_view_count": null,
            "flex_flow": null,
            "width": null,
            "min_width": null,
            "border": null,
            "align_items": null,
            "bottom": null,
            "_model_module": "@jupyter-widgets/base",
            "top": null,
            "grid_column": null,
            "overflow_y": null,
            "overflow_x": null,
            "grid_auto_flow": null,
            "grid_area": null,
            "grid_template_columns": null,
            "flex": null,
            "_model_name": "LayoutModel",
            "justify_items": null,
            "grid_row": null,
            "max_height": null,
            "align_content": null,
            "visibility": null,
            "align_self": null,
            "height": null,
            "min_height": null,
            "padding": null,
            "grid_auto_rows": null,
            "grid_gap": null,
            "max_width": null,
            "order": null,
            "_view_module_version": "1.2.0",
            "grid_template_areas": null,
            "object_position": null,
            "object_fit": null,
            "grid_auto_columns": null,
            "margin": null,
            "display": null,
            "left": null
          }
        },
        "68e3304812814af28eb8a775742f2281": {
          "model_module": "@jupyter-widgets/controls",
          "model_name": "FloatProgressModel",
          "state": {
            "_view_name": "ProgressView",
            "style": "IPY_MODEL_77680b1530b9434082ce113d4df3f3d8",
            "_dom_classes": [],
            "description": "  0%",
            "_model_name": "FloatProgressModel",
            "bar_style": "danger",
            "max": 12573,
            "_view_module": "@jupyter-widgets/controls",
            "_model_module_version": "1.5.0",
            "value": 0,
            "_view_count": null,
            "_view_module_version": "1.5.0",
            "orientation": "horizontal",
            "min": 0,
            "description_tooltip": null,
            "_model_module": "@jupyter-widgets/controls",
            "layout": "IPY_MODEL_e79299d1f6ca41f3b780f58d3a9f7ded"
          }
        },
        "bf2ddfd708ca45d9ad5115b206bc2fda": {
          "model_module": "@jupyter-widgets/controls",
          "model_name": "HTMLModel",
          "state": {
            "_view_name": "HTMLView",
            "style": "IPY_MODEL_38065cb20a6c4dafbf4f28080e91ad18",
            "_dom_classes": [],
            "description": "",
            "_model_name": "HTMLModel",
            "placeholder": "​",
            "_view_module": "@jupyter-widgets/controls",
            "_model_module_version": "1.5.0",
            "value": " 0/12573 [00:05&lt;?, ? examples/s]",
            "_view_count": null,
            "_view_module_version": "1.5.0",
            "description_tooltip": null,
            "_model_module": "@jupyter-widgets/controls",
            "layout": "IPY_MODEL_8ab90088e6034a5598516da20c4ae484"
          }
        },
        "77680b1530b9434082ce113d4df3f3d8": {
          "model_module": "@jupyter-widgets/controls",
          "model_name": "ProgressStyleModel",
          "state": {
            "_view_name": "StyleView",
            "_model_name": "ProgressStyleModel",
            "description_width": "initial",
            "_view_module": "@jupyter-widgets/base",
            "_model_module_version": "1.5.0",
            "_view_count": null,
            "_view_module_version": "1.2.0",
            "bar_color": null,
            "_model_module": "@jupyter-widgets/controls"
          }
        },
        "e79299d1f6ca41f3b780f58d3a9f7ded": {
          "model_module": "@jupyter-widgets/base",
          "model_name": "LayoutModel",
          "state": {
            "_view_name": "LayoutView",
            "grid_template_rows": null,
            "right": null,
            "justify_content": null,
            "_view_module": "@jupyter-widgets/base",
            "overflow": null,
            "_model_module_version": "1.2.0",
            "_view_count": null,
            "flex_flow": null,
            "width": null,
            "min_width": null,
            "border": null,
            "align_items": null,
            "bottom": null,
            "_model_module": "@jupyter-widgets/base",
            "top": null,
            "grid_column": null,
            "overflow_y": null,
            "overflow_x": null,
            "grid_auto_flow": null,
            "grid_area": null,
            "grid_template_columns": null,
            "flex": null,
            "_model_name": "LayoutModel",
            "justify_items": null,
            "grid_row": null,
            "max_height": null,
            "align_content": null,
            "visibility": null,
            "align_self": null,
            "height": null,
            "min_height": null,
            "padding": null,
            "grid_auto_rows": null,
            "grid_gap": null,
            "max_width": null,
            "order": null,
            "_view_module_version": "1.2.0",
            "grid_template_areas": null,
            "object_position": null,
            "object_fit": null,
            "grid_auto_columns": null,
            "margin": null,
            "display": null,
            "left": null
          }
        },
        "38065cb20a6c4dafbf4f28080e91ad18": {
          "model_module": "@jupyter-widgets/controls",
          "model_name": "DescriptionStyleModel",
          "state": {
            "_view_name": "StyleView",
            "_model_name": "DescriptionStyleModel",
            "description_width": "",
            "_view_module": "@jupyter-widgets/base",
            "_model_module_version": "1.5.0",
            "_view_count": null,
            "_view_module_version": "1.2.0",
            "_model_module": "@jupyter-widgets/controls"
          }
        },
        "8ab90088e6034a5598516da20c4ae484": {
          "model_module": "@jupyter-widgets/base",
          "model_name": "LayoutModel",
          "state": {
            "_view_name": "LayoutView",
            "grid_template_rows": null,
            "right": null,
            "justify_content": null,
            "_view_module": "@jupyter-widgets/base",
            "overflow": null,
            "_model_module_version": "1.2.0",
            "_view_count": null,
            "flex_flow": null,
            "width": null,
            "min_width": null,
            "border": null,
            "align_items": null,
            "bottom": null,
            "_model_module": "@jupyter-widgets/base",
            "top": null,
            "grid_column": null,
            "overflow_y": null,
            "overflow_x": null,
            "grid_auto_flow": null,
            "grid_area": null,
            "grid_template_columns": null,
            "flex": null,
            "_model_name": "LayoutModel",
            "justify_items": null,
            "grid_row": null,
            "max_height": null,
            "align_content": null,
            "visibility": null,
            "align_self": null,
            "height": null,
            "min_height": null,
            "padding": null,
            "grid_auto_rows": null,
            "grid_gap": null,
            "max_width": null,
            "order": null,
            "_view_module_version": "1.2.0",
            "grid_template_areas": null,
            "object_position": null,
            "object_fit": null,
            "grid_auto_columns": null,
            "margin": null,
            "display": null,
            "left": null
          }
        }
      }
    }
  },
  "cells": [
    {
      "cell_type": "markdown",
      "metadata": {
        "id": "view-in-github",
        "colab_type": "text"
      },
      "source": [
        "<a href=\"https://colab.research.google.com/github/Itsuki-Hamano123/auto_ml/blob/master/tool_comparison/radon_dataset/dnn_regressor.ipynb\" target=\"_parent\"><img src=\"https://colab.research.google.com/assets/colab-badge.svg\" alt=\"Open In Colab\"/></a>"
      ]
    },
    {
      "cell_type": "code",
      "metadata": {
        "id": "l6-xjloXHExj",
        "outputId": "54a0d835-714d-4439-f7a6-a72edbfe2bd5",
        "colab": {
          "base_uri": "https://localhost:8080/"
        }
      },
      "source": [
        "%pip show keras-tuner autokeras scikit-learn"
      ],
      "execution_count": 1,
      "outputs": [
        {
          "output_type": "stream",
          "text": [
            "\u001b[33mWARNING: Package(s) not found: autokeras, keras-tuner\u001b[0m\n",
            "Name: scikit-learn\n",
            "Version: 0.22.2.post1\n",
            "Summary: A set of python modules for machine learning and data mining\n",
            "Home-page: http://scikit-learn.org\n",
            "Author: None\n",
            "Author-email: None\n",
            "License: new BSD\n",
            "Location: /usr/local/lib/python3.6/dist-packages\n",
            "Requires: numpy, joblib, scipy\n",
            "Required-by: yellowbrick, umap-learn, textgenrnn, sklearn, sklearn-pandas, mlxtend, lucid, lightgbm, librosa, imbalanced-learn, fancyimpute\n"
          ],
          "name": "stdout"
        }
      ]
    },
    {
      "cell_type": "code",
      "metadata": {
        "id": "83xkk0znHJQR"
      },
      "source": [
        "import datetime\n",
        "import os\n",
        "import pprint\n",
        "\n",
        "import numpy as np\n",
        "import pandas as pd\n",
        "\n",
        "from sklearn.model_selection import train_test_split\n",
        "from sklearn.metrics import explained_variance_score, mean_squared_error, r2_score\n",
        "from sklearn.preprocessing import MultiLabelBinarizer\n",
        "import tensorflow_datasets as tfds\n",
        "from tensorflow.keras import Sequential, Input, layers, optimizers\n",
        "from tensorflow.keras.layers.experimental.preprocessing import Normalization\n",
        "from tensorflow.keras.callbacks import EarlyStopping\n",
        "from tensorflow.keras.utils import plot_model"
      ],
      "execution_count": 2,
      "outputs": []
    },
    {
      "cell_type": "markdown",
      "metadata": {
        "id": "Dc0B0jOLn-oS"
      },
      "source": [
        "## データセット読み込み\n",
        "- radonデータセット[https://www.tensorflow.org/datasets/catalog/radon](https://www.tensorflow.org/datasets/catalog/radon)"
      ]
    },
    {
      "cell_type": "code",
      "metadata": {
        "id": "408E4QO-H1QO",
        "outputId": "7d1eb8db-3e94-4fa1-bbc1-91214b2ebcbf",
        "colab": {
          "base_uri": "https://localhost:8080/",
          "height": 1000,
          "referenced_widgets": [
            "de4272a147734eb69200b054d7fada8d",
            "774ade8cf6f44610bbee3513f887a6ee",
            "100890f300ab47608da1d311a1fcf7f5",
            "d6fab14993204fc9a089fb0e4cf63c4f",
            "787987565c2644f9a45700729b32422d",
            "14a379df2bb04fd4a9f3070dcf18e6d4",
            "0aa9f3d973de4befacbf6b77d06e0a5e",
            "d6019056a9f84d83843e8903fb3913bc",
            "7a10434d105945d8a431769480420d92",
            "605a0fde7d6849929830fd1b5d86635f",
            "b756eda36e7d40e494575a4f9d589f94",
            "dc1619f6af004133957bc9078d35d32b",
            "373b97b7057046f2bbf2d7a758c00ce4",
            "10df65305e3f4c59974de4a47a4ab09c",
            "de9ec0dccb1e4bf9818ee4bb7d6ad353",
            "35b47caef0534647a6b51e6282baf675",
            "56a1b1fb224041948cc8e5a92469dc94",
            "1e3d039ed35a48a6a1fd034203d40102",
            "8ed8bd44ddbc449e8b32647b4fc77d82",
            "660edeb31c0642838a249819f32f1461",
            "ebe80a3cf48d4949bec463a64899bb6c",
            "2f66955120fe4bd9aaaf847a9ebe3b13",
            "1e639d8d14a04d7cab4615576eaef622",
            "2ce074fb40f04e179c17236b0c7410df",
            "b0167ac48b6a4dfc9c47034890fa6fc3",
            "b392186ed99c4b6385523e3f7f835c3c",
            "68e3304812814af28eb8a775742f2281",
            "bf2ddfd708ca45d9ad5115b206bc2fda",
            "77680b1530b9434082ce113d4df3f3d8",
            "e79299d1f6ca41f3b780f58d3a9f7ded",
            "38065cb20a6c4dafbf4f28080e91ad18",
            "8ab90088e6034a5598516da20c4ae484"
          ]
        }
      },
      "source": [
        "def fetch_tf_dataset(data_name, \n",
        "                     split='train',\n",
        "                     shuffle_files=True, as_supervised=True,\n",
        "                     with_info=True, batch_size=None):\n",
        "  '''TensorFlowデータセットからデータをフェッチ'''\n",
        "  dataset, data_info = tfds.load(data_name, split=split,\n",
        "                                  shuffle_files=shuffle_files,\n",
        "                                  as_supervised=as_supervised,\n",
        "                                  with_info=with_info,\n",
        "                                  batch_size=batch_size)\n",
        "  return dataset, data_info\n",
        "  \n",
        "\n",
        "\n",
        "data_name = 'radon' # @param{type:'string'}\n",
        "x_name = 'features' # @param{type:'string'}\n",
        "y_name = 'activity' # @param{type:'string'}\n",
        "# インメモリでデータを読み込む\n",
        "batch_size = -1\n",
        "\n",
        "# データのフェッチ\n",
        "tf_dataset, ds_info = fetch_tf_dataset(data_name=data_name,\n",
        "                                     as_supervised=False,\n",
        "                                     batch_size=batch_size)\n",
        "\n",
        "display(ds_info)"
      ],
      "execution_count": 3,
      "outputs": [
        {
          "output_type": "stream",
          "text": [
            "\u001b[1mDownloading and preparing dataset radon/1.0.0 (download: 1.71 MiB, generated: 9.15 MiB, total: 10.86 MiB) to /root/tensorflow_datasets/radon/1.0.0...\u001b[0m\n"
          ],
          "name": "stdout"
        },
        {
          "output_type": "display_data",
          "data": {
            "application/vnd.jupyter.widget-view+json": {
              "model_id": "de4272a147734eb69200b054d7fada8d",
              "version_minor": 0,
              "version_major": 2
            },
            "text/plain": [
              "HBox(children=(FloatProgress(value=1.0, bar_style='info', description='Dl Completed...', max=1.0, style=Progre…"
            ]
          },
          "metadata": {
            "tags": []
          }
        },
        {
          "output_type": "display_data",
          "data": {
            "application/vnd.jupyter.widget-view+json": {
              "model_id": "7a10434d105945d8a431769480420d92",
              "version_minor": 0,
              "version_major": 2
            },
            "text/plain": [
              "HBox(children=(FloatProgress(value=1.0, bar_style='info', description='Dl Size...', max=1.0, style=ProgressSty…"
            ]
          },
          "metadata": {
            "tags": []
          }
        },
        {
          "output_type": "stream",
          "text": [
            "\n",
            "\n",
            "\n",
            "\n"
          ],
          "name": "stdout"
        },
        {
          "output_type": "display_data",
          "data": {
            "application/vnd.jupyter.widget-view+json": {
              "model_id": "56a1b1fb224041948cc8e5a92469dc94",
              "version_minor": 0,
              "version_major": 2
            },
            "text/plain": [
              "HBox(children=(FloatProgress(value=1.0, bar_style='info', max=1.0), HTML(value='')))"
            ]
          },
          "metadata": {
            "tags": []
          }
        },
        {
          "output_type": "stream",
          "text": [
            "\rShuffling and writing examples to /root/tensorflow_datasets/radon/1.0.0.incompleteGVGY2A/radon-train.tfrecord\n"
          ],
          "name": "stdout"
        },
        {
          "output_type": "display_data",
          "data": {
            "application/vnd.jupyter.widget-view+json": {
              "model_id": "b0167ac48b6a4dfc9c47034890fa6fc3",
              "version_minor": 0,
              "version_major": 2
            },
            "text/plain": [
              "HBox(children=(FloatProgress(value=0.0, max=12573.0), HTML(value='')))"
            ]
          },
          "metadata": {
            "tags": []
          }
        },
        {
          "output_type": "stream",
          "text": [
            "\u001b[1mDataset radon downloaded and prepared to /root/tensorflow_datasets/radon/1.0.0. Subsequent calls will reuse this data.\u001b[0m\n"
          ],
          "name": "stdout"
        },
        {
          "output_type": "display_data",
          "data": {
            "text/plain": [
              "tfds.core.DatasetInfo(\n",
              "    name='radon',\n",
              "    version=1.0.0,\n",
              "    description='Radon is a radioactive gas that enters homes through contact\n",
              "points with the ground. It is a carcinogen that is the primary cause of lung\n",
              "cancer in non-smokers. Radon levels vary greatly from household to household.\n",
              "This dataset contains measured radon levels in U.S homes by county and state.\n",
              "The 'activity' label is the measured radon concentration in pCi/L. Important\n",
              "predictors are 'floor' (the floor of the house in which the measurement was\n",
              "taken), 'county' (the U.S. county in which the house is located), and 'Uppm' (a\n",
              "measurement of uranium level of the soil by county).',\n",
              "    homepage='http://www.stat.columbia.edu/~gelman/arm/examples/radon/',\n",
              "    features=FeaturesDict({\n",
              "        'activity': tf.float32,\n",
              "        'features': FeaturesDict({\n",
              "            'Uppm': tf.float32,\n",
              "            'adjwt': tf.float32,\n",
              "            'basement': tf.string,\n",
              "            'cntyfips': tf.int32,\n",
              "            'county': tf.string,\n",
              "            'dupflag': tf.int32,\n",
              "            'floor': tf.int32,\n",
              "            'idnum': tf.int32,\n",
              "            'lat': tf.float32,\n",
              "            'lon': tf.float32,\n",
              "            'pcterr': tf.float32,\n",
              "            'region': tf.int32,\n",
              "            'rep': tf.int32,\n",
              "            'room': tf.int32,\n",
              "            'startdt': tf.int32,\n",
              "            'starttm': tf.int32,\n",
              "            'state': tf.string,\n",
              "            'state2': tf.string,\n",
              "            'stfips': tf.int32,\n",
              "            'stopdt': tf.int32,\n",
              "            'stoptm': tf.int32,\n",
              "            'stratum': tf.int32,\n",
              "            'typebldg': tf.int32,\n",
              "            'wave': tf.int32,\n",
              "            'windoor': tf.string,\n",
              "            'zip': tf.int32,\n",
              "            'zipflag': tf.int32,\n",
              "        }),\n",
              "    }),\n",
              "    total_num_examples=12573,\n",
              "    splits={\n",
              "        'train': 12573,\n",
              "    },\n",
              "    supervised_keys=('features', 'activity'),\n",
              "    citation=\"\"\"@book{GelmanHill:2007,\n",
              "      author = {Gelman, Andrew and Hill, Jennifer},\n",
              "      title = {Data Analysis Using Regression and Multilevel/Hierarchical Models},\n",
              "      publisher = {Cambridge University Press},\n",
              "      series = {Analytical methods for social research},\n",
              "      year = 2007\n",
              "    }\"\"\",\n",
              "    redistribution_info=,\n",
              ")"
            ]
          },
          "metadata": {
            "tags": []
          }
        }
      ]
    },
    {
      "cell_type": "markdown",
      "metadata": {
        "id": "Q_hlNPnGoFa2"
      },
      "source": [
        "### Dataframeに変換"
      ]
    },
    {
      "cell_type": "code",
      "metadata": {
        "id": "k6gOA-v6T7Cr",
        "outputId": "3e792e48-86d2-4cfc-9f00-96e8213b6a11",
        "colab": {
          "base_uri": "https://localhost:8080/",
          "height": 328
        }
      },
      "source": [
        "%%time\n",
        "\n",
        "def convert_tfds_to_df(tf_ds, x_key, y_key):\n",
        "  '''tf DatasetをDataframeに変換'''\n",
        "  \n",
        "  # yについて{key:numpy}形式のdictに変換\n",
        "  y = {}\n",
        "  y[y_key] = tf_ds[y_key].numpy()\n",
        "\n",
        "  # xについて[{key:numpy},{key:numpy},,,]形式のdictに変換\n",
        "  x = {}\n",
        "  for f_key, element in tf_ds[x_key].items():\n",
        "    if element.dtype == 'string':\n",
        "      x[f_key] = _convert_byte_np_to_string_np(bytes_np=element.numpy())\n",
        "    else:\n",
        "      x[f_key] = element.numpy()\n",
        "  \n",
        "  y_df = pd.DataFrame.from_dict(y)\n",
        "  x_df = pd.DataFrame.from_dict(x)\n",
        "  df = pd.concat([y_df, x_df], axis=1)\n",
        "\n",
        "  return df\n",
        "\n",
        "\n",
        "def _convert_byte_np_to_string_np(bytes_np, decode_char='utf-8'):\n",
        "  '''バイナリ文字列形式のnumpy配列を文字列形式のnumpy配列に変換'''\n",
        "  decode_np = np.array([])\n",
        "  for b in bytes_np:\n",
        "    decode_np = np.append(decode_np, b.decode(decode_char))\n",
        "  decode_np = decode_np.astype('unicode')\n",
        "  return decode_np\n",
        "\n",
        "\n",
        "\n",
        "# tf datasetからDataframeに変換\n",
        "dataset = convert_tfds_to_df(tf_dataset, x_key=x_name, y_key=y_name)\n",
        "\n",
        "\n",
        "display(dataset.head())\n",
        "display(dataset.shape)\n",
        "\n",
        "\n",
        "# カラム名の設定\n",
        "y_col = y_name\n",
        "x_cols = dataset.drop(columns=y_col).columns\n",
        "\n",
        "display('y_col:{}'.format(y_col))\n",
        "display('x_cols num:{}, names:{}'.format(len(x_cols), x_cols))"
      ],
      "execution_count": 4,
      "outputs": [
        {
          "output_type": "display_data",
          "data": {
            "text/html": [
              "<div>\n",
              "<style scoped>\n",
              "    .dataframe tbody tr th:only-of-type {\n",
              "        vertical-align: middle;\n",
              "    }\n",
              "\n",
              "    .dataframe tbody tr th {\n",
              "        vertical-align: top;\n",
              "    }\n",
              "\n",
              "    .dataframe thead th {\n",
              "        text-align: right;\n",
              "    }\n",
              "</style>\n",
              "<table border=\"1\" class=\"dataframe\">\n",
              "  <thead>\n",
              "    <tr style=\"text-align: right;\">\n",
              "      <th></th>\n",
              "      <th>activity</th>\n",
              "      <th>Uppm</th>\n",
              "      <th>adjwt</th>\n",
              "      <th>basement</th>\n",
              "      <th>cntyfips</th>\n",
              "      <th>county</th>\n",
              "      <th>dupflag</th>\n",
              "      <th>floor</th>\n",
              "      <th>idnum</th>\n",
              "      <th>lat</th>\n",
              "      <th>lon</th>\n",
              "      <th>pcterr</th>\n",
              "      <th>region</th>\n",
              "      <th>rep</th>\n",
              "      <th>room</th>\n",
              "      <th>startdt</th>\n",
              "      <th>starttm</th>\n",
              "      <th>state</th>\n",
              "      <th>state2</th>\n",
              "      <th>stfips</th>\n",
              "      <th>stopdt</th>\n",
              "      <th>stoptm</th>\n",
              "      <th>stratum</th>\n",
              "      <th>typebldg</th>\n",
              "      <th>wave</th>\n",
              "      <th>windoor</th>\n",
              "      <th>zip</th>\n",
              "      <th>zipflag</th>\n",
              "    </tr>\n",
              "  </thead>\n",
              "  <tbody>\n",
              "    <tr>\n",
              "      <th>0</th>\n",
              "      <td>1.6</td>\n",
              "      <td>2.49759</td>\n",
              "      <td>292.219543</td>\n",
              "      <td>N</td>\n",
              "      <td>3</td>\n",
              "      <td>ALLEN</td>\n",
              "      <td>0</td>\n",
              "      <td>1</td>\n",
              "      <td>1681</td>\n",
              "      <td>41.091000</td>\n",
              "      <td>-85.067001</td>\n",
              "      <td>12.7</td>\n",
              "      <td>2</td>\n",
              "      <td>3</td>\n",
              "      <td>2</td>\n",
              "      <td>11489</td>\n",
              "      <td>2230</td>\n",
              "      <td>IN</td>\n",
              "      <td>IN</td>\n",
              "      <td>18</td>\n",
              "      <td>11689</td>\n",
              "      <td>2235</td>\n",
              "      <td>2</td>\n",
              "      <td>1</td>\n",
              "      <td>92</td>\n",
              "      <td></td>\n",
              "      <td>46835</td>\n",
              "      <td>0</td>\n",
              "    </tr>\n",
              "    <tr>\n",
              "      <th>1</th>\n",
              "      <td>0.5</td>\n",
              "      <td>2.66527</td>\n",
              "      <td>364.958313</td>\n",
              "      <td>N</td>\n",
              "      <td>25</td>\n",
              "      <td>YAVAPAI</td>\n",
              "      <td>0</td>\n",
              "      <td>1</td>\n",
              "      <td>1457</td>\n",
              "      <td>34.599998</td>\n",
              "      <td>-112.554001</td>\n",
              "      <td>0.0</td>\n",
              "      <td>2</td>\n",
              "      <td>5</td>\n",
              "      <td>2</td>\n",
              "      <td>22688</td>\n",
              "      <td>833</td>\n",
              "      <td>AZ</td>\n",
              "      <td>AZ</td>\n",
              "      <td>4</td>\n",
              "      <td>22888</td>\n",
              "      <td>1010</td>\n",
              "      <td>2</td>\n",
              "      <td>1</td>\n",
              "      <td>56</td>\n",
              "      <td></td>\n",
              "      <td>86325</td>\n",
              "      <td>0</td>\n",
              "    </tr>\n",
              "    <tr>\n",
              "      <th>2</th>\n",
              "      <td>3.0</td>\n",
              "      <td>2.43343</td>\n",
              "      <td>626.564575</td>\n",
              "      <td>Y</td>\n",
              "      <td>17</td>\n",
              "      <td>MIDDLESEX</td>\n",
              "      <td>0</td>\n",
              "      <td>0</td>\n",
              "      <td>4224</td>\n",
              "      <td>42.485001</td>\n",
              "      <td>-71.391998</td>\n",
              "      <td>9.7</td>\n",
              "      <td>6</td>\n",
              "      <td>1</td>\n",
              "      <td>2</td>\n",
              "      <td>32288</td>\n",
              "      <td>1000</td>\n",
              "      <td>MA</td>\n",
              "      <td>MA</td>\n",
              "      <td>25</td>\n",
              "      <td>32488</td>\n",
              "      <td>1000</td>\n",
              "      <td>1</td>\n",
              "      <td>1</td>\n",
              "      <td>23</td>\n",
              "      <td></td>\n",
              "      <td>1778</td>\n",
              "      <td>0</td>\n",
              "    </tr>\n",
              "    <tr>\n",
              "      <th>3</th>\n",
              "      <td>0.6</td>\n",
              "      <td>2.43343</td>\n",
              "      <td>570.611755</td>\n",
              "      <td>N</td>\n",
              "      <td>17</td>\n",
              "      <td>MIDDLESEX</td>\n",
              "      <td>0</td>\n",
              "      <td>1</td>\n",
              "      <td>4094</td>\n",
              "      <td>42.485001</td>\n",
              "      <td>-71.391998</td>\n",
              "      <td>27.6</td>\n",
              "      <td>6</td>\n",
              "      <td>3</td>\n",
              "      <td>3</td>\n",
              "      <td>32488</td>\n",
              "      <td>700</td>\n",
              "      <td>MA</td>\n",
              "      <td>MA</td>\n",
              "      <td>25</td>\n",
              "      <td>32688</td>\n",
              "      <td>1200</td>\n",
              "      <td>1</td>\n",
              "      <td>1</td>\n",
              "      <td>62</td>\n",
              "      <td></td>\n",
              "      <td>1432</td>\n",
              "      <td>0</td>\n",
              "    </tr>\n",
              "    <tr>\n",
              "      <th>4</th>\n",
              "      <td>1.2</td>\n",
              "      <td>2.10811</td>\n",
              "      <td>426.798859</td>\n",
              "      <td>Y</td>\n",
              "      <td>95</td>\n",
              "      <td>JACKSON</td>\n",
              "      <td>0</td>\n",
              "      <td>0</td>\n",
              "      <td>6849</td>\n",
              "      <td>39.007999</td>\n",
              "      <td>-94.347000</td>\n",
              "      <td>23.5</td>\n",
              "      <td>1</td>\n",
              "      <td>3</td>\n",
              "      <td>4</td>\n",
              "      <td>32288</td>\n",
              "      <td>605</td>\n",
              "      <td>MO</td>\n",
              "      <td>MO</td>\n",
              "      <td>29</td>\n",
              "      <td>32488</td>\n",
              "      <td>610</td>\n",
              "      <td>2</td>\n",
              "      <td>1</td>\n",
              "      <td>91</td>\n",
              "      <td></td>\n",
              "      <td>64134</td>\n",
              "      <td>0</td>\n",
              "    </tr>\n",
              "  </tbody>\n",
              "</table>\n",
              "</div>"
            ],
            "text/plain": [
              "   activity     Uppm       adjwt basement  ...  wave windoor    zip  zipflag\n",
              "0       1.6  2.49759  292.219543        N  ...    92          46835        0\n",
              "1       0.5  2.66527  364.958313        N  ...    56          86325        0\n",
              "2       3.0  2.43343  626.564575        Y  ...    23           1778        0\n",
              "3       0.6  2.43343  570.611755        N  ...    62           1432        0\n",
              "4       1.2  2.10811  426.798859        Y  ...    91          64134        0\n",
              "\n",
              "[5 rows x 28 columns]"
            ]
          },
          "metadata": {
            "tags": []
          }
        },
        {
          "output_type": "display_data",
          "data": {
            "text/plain": [
              "(12573, 28)"
            ]
          },
          "metadata": {
            "tags": []
          }
        },
        {
          "output_type": "display_data",
          "data": {
            "application/vnd.google.colaboratory.intrinsic+json": {
              "type": "string"
            },
            "text/plain": [
              "'y_col:activity'"
            ]
          },
          "metadata": {
            "tags": []
          }
        },
        {
          "output_type": "display_data",
          "data": {
            "application/vnd.google.colaboratory.intrinsic+json": {
              "type": "string"
            },
            "text/plain": [
              "\"x_cols num:27, names:Index(['Uppm', 'adjwt', 'basement', 'cntyfips', 'county', 'dupflag', 'floor',\\n       'idnum', 'lat', 'lon', 'pcterr', 'region', 'rep', 'room', 'startdt',\\n       'starttm', 'state', 'state2', 'stfips', 'stopdt', 'stoptm', 'stratum',\\n       'typebldg', 'wave', 'windoor', 'zip', 'zipflag'],\\n      dtype='object')\""
            ]
          },
          "metadata": {
            "tags": []
          }
        },
        {
          "output_type": "stream",
          "text": [
            "CPU times: user 9.68 s, sys: 296 ms, total: 9.97 s\n",
            "Wall time: 9.98 s\n"
          ],
          "name": "stdout"
        }
      ]
    },
    {
      "cell_type": "markdown",
      "metadata": {
        "id": "aRTLXl_VI6mt"
      },
      "source": [
        "## 文字列をone-hotエンコード"
      ]
    },
    {
      "cell_type": "code",
      "metadata": {
        "id": "q7DIdrRSI8cr",
        "outputId": "f27b97af-872e-415a-dfa2-edb4798cdc28",
        "colab": {
          "base_uri": "https://localhost:8080/",
          "height": 340
        }
      },
      "source": [
        "%%time\n",
        "\n",
        "def one_hot_encode_df_val(df, target_col):\n",
        "  '''文字列のカラムをone-hot-encodeしたカラムに置き換え\n",
        "  INFO :　新規のカラムは先頭に挿入していく\n",
        "  WARNING : target_colはdropされる\n",
        "  '''\n",
        "  mlb = MultiLabelBinarizer()\n",
        "  one_hot_feature = mlb.fit_transform([{str(val)} for val in df[target_col].values])\n",
        "  insert_columns = [target_col+'_'+str(x+1) for x in range(len(one_hot_feature[0]))]\n",
        "  insert_df = pd.DataFrame(one_hot_feature, columns=insert_columns)\n",
        "  df = df.drop(columns=target_col)\n",
        "  df = pd.concat([insert_df, df], axis=1)\n",
        "  return df\n",
        "\n",
        "encode_cols = ['basement', 'county', 'state', 'state2', 'windoor']\n",
        "for col in encode_cols:\n",
        "  dataset = one_hot_encode_df_val(dataset, col)\n",
        "display(dataset.head())\n",
        "\n",
        "\n",
        "# カラム名の設定\n",
        "y_col = y_name\n",
        "x_cols = dataset.drop(columns=y_col).columns\n",
        "\n",
        "display('y_col:{}'.format(y_col))\n",
        "display('x_cols num:{}, names:{}'.format(len(x_cols), x_cols))"
      ],
      "execution_count": 5,
      "outputs": [
        {
          "output_type": "display_data",
          "data": {
            "text/html": [
              "<div>\n",
              "<style scoped>\n",
              "    .dataframe tbody tr th:only-of-type {\n",
              "        vertical-align: middle;\n",
              "    }\n",
              "\n",
              "    .dataframe tbody tr th {\n",
              "        vertical-align: top;\n",
              "    }\n",
              "\n",
              "    .dataframe thead th {\n",
              "        text-align: right;\n",
              "    }\n",
              "</style>\n",
              "<table border=\"1\" class=\"dataframe\">\n",
              "  <thead>\n",
              "    <tr style=\"text-align: right;\">\n",
              "      <th></th>\n",
              "      <th>windoor_1</th>\n",
              "      <th>state2_1</th>\n",
              "      <th>state2_2</th>\n",
              "      <th>state2_3</th>\n",
              "      <th>state2_4</th>\n",
              "      <th>state2_5</th>\n",
              "      <th>state2_6</th>\n",
              "      <th>state2_7</th>\n",
              "      <th>state2_8</th>\n",
              "      <th>state2_9</th>\n",
              "      <th>state_1</th>\n",
              "      <th>state_2</th>\n",
              "      <th>state_3</th>\n",
              "      <th>state_4</th>\n",
              "      <th>state_5</th>\n",
              "      <th>state_6</th>\n",
              "      <th>state_7</th>\n",
              "      <th>state_8</th>\n",
              "      <th>county_1</th>\n",
              "      <th>county_2</th>\n",
              "      <th>county_3</th>\n",
              "      <th>county_4</th>\n",
              "      <th>county_5</th>\n",
              "      <th>county_6</th>\n",
              "      <th>county_7</th>\n",
              "      <th>county_8</th>\n",
              "      <th>county_9</th>\n",
              "      <th>county_10</th>\n",
              "      <th>county_11</th>\n",
              "      <th>county_12</th>\n",
              "      <th>county_13</th>\n",
              "      <th>county_14</th>\n",
              "      <th>county_15</th>\n",
              "      <th>county_16</th>\n",
              "      <th>county_17</th>\n",
              "      <th>county_18</th>\n",
              "      <th>county_19</th>\n",
              "      <th>county_20</th>\n",
              "      <th>county_21</th>\n",
              "      <th>county_22</th>\n",
              "      <th>...</th>\n",
              "      <th>county_374</th>\n",
              "      <th>county_375</th>\n",
              "      <th>county_376</th>\n",
              "      <th>county_377</th>\n",
              "      <th>county_378</th>\n",
              "      <th>county_379</th>\n",
              "      <th>county_380</th>\n",
              "      <th>county_381</th>\n",
              "      <th>county_382</th>\n",
              "      <th>county_383</th>\n",
              "      <th>county_384</th>\n",
              "      <th>county_385</th>\n",
              "      <th>county_386</th>\n",
              "      <th>basement_1</th>\n",
              "      <th>basement_2</th>\n",
              "      <th>basement_3</th>\n",
              "      <th>basement_4</th>\n",
              "      <th>activity</th>\n",
              "      <th>Uppm</th>\n",
              "      <th>adjwt</th>\n",
              "      <th>cntyfips</th>\n",
              "      <th>dupflag</th>\n",
              "      <th>floor</th>\n",
              "      <th>idnum</th>\n",
              "      <th>lat</th>\n",
              "      <th>lon</th>\n",
              "      <th>pcterr</th>\n",
              "      <th>region</th>\n",
              "      <th>rep</th>\n",
              "      <th>room</th>\n",
              "      <th>startdt</th>\n",
              "      <th>starttm</th>\n",
              "      <th>stfips</th>\n",
              "      <th>stopdt</th>\n",
              "      <th>stoptm</th>\n",
              "      <th>stratum</th>\n",
              "      <th>typebldg</th>\n",
              "      <th>wave</th>\n",
              "      <th>zip</th>\n",
              "      <th>zipflag</th>\n",
              "    </tr>\n",
              "  </thead>\n",
              "  <tbody>\n",
              "    <tr>\n",
              "      <th>0</th>\n",
              "      <td>1</td>\n",
              "      <td>0</td>\n",
              "      <td>1</td>\n",
              "      <td>0</td>\n",
              "      <td>0</td>\n",
              "      <td>0</td>\n",
              "      <td>0</td>\n",
              "      <td>0</td>\n",
              "      <td>0</td>\n",
              "      <td>0</td>\n",
              "      <td>0</td>\n",
              "      <td>1</td>\n",
              "      <td>0</td>\n",
              "      <td>0</td>\n",
              "      <td>0</td>\n",
              "      <td>0</td>\n",
              "      <td>0</td>\n",
              "      <td>0</td>\n",
              "      <td>0</td>\n",
              "      <td>0</td>\n",
              "      <td>0</td>\n",
              "      <td>0</td>\n",
              "      <td>0</td>\n",
              "      <td>1</td>\n",
              "      <td>0</td>\n",
              "      <td>0</td>\n",
              "      <td>0</td>\n",
              "      <td>0</td>\n",
              "      <td>0</td>\n",
              "      <td>0</td>\n",
              "      <td>0</td>\n",
              "      <td>0</td>\n",
              "      <td>0</td>\n",
              "      <td>0</td>\n",
              "      <td>0</td>\n",
              "      <td>0</td>\n",
              "      <td>0</td>\n",
              "      <td>0</td>\n",
              "      <td>0</td>\n",
              "      <td>0</td>\n",
              "      <td>...</td>\n",
              "      <td>0</td>\n",
              "      <td>0</td>\n",
              "      <td>0</td>\n",
              "      <td>0</td>\n",
              "      <td>0</td>\n",
              "      <td>0</td>\n",
              "      <td>0</td>\n",
              "      <td>0</td>\n",
              "      <td>0</td>\n",
              "      <td>0</td>\n",
              "      <td>0</td>\n",
              "      <td>0</td>\n",
              "      <td>0</td>\n",
              "      <td>0</td>\n",
              "      <td>0</td>\n",
              "      <td>1</td>\n",
              "      <td>0</td>\n",
              "      <td>1.6</td>\n",
              "      <td>2.49759</td>\n",
              "      <td>292.219543</td>\n",
              "      <td>3</td>\n",
              "      <td>0</td>\n",
              "      <td>1</td>\n",
              "      <td>1681</td>\n",
              "      <td>41.091000</td>\n",
              "      <td>-85.067001</td>\n",
              "      <td>12.7</td>\n",
              "      <td>2</td>\n",
              "      <td>3</td>\n",
              "      <td>2</td>\n",
              "      <td>11489</td>\n",
              "      <td>2230</td>\n",
              "      <td>18</td>\n",
              "      <td>11689</td>\n",
              "      <td>2235</td>\n",
              "      <td>2</td>\n",
              "      <td>1</td>\n",
              "      <td>92</td>\n",
              "      <td>46835</td>\n",
              "      <td>0</td>\n",
              "    </tr>\n",
              "    <tr>\n",
              "      <th>1</th>\n",
              "      <td>1</td>\n",
              "      <td>1</td>\n",
              "      <td>0</td>\n",
              "      <td>0</td>\n",
              "      <td>0</td>\n",
              "      <td>0</td>\n",
              "      <td>0</td>\n",
              "      <td>0</td>\n",
              "      <td>0</td>\n",
              "      <td>0</td>\n",
              "      <td>1</td>\n",
              "      <td>0</td>\n",
              "      <td>0</td>\n",
              "      <td>0</td>\n",
              "      <td>0</td>\n",
              "      <td>0</td>\n",
              "      <td>0</td>\n",
              "      <td>0</td>\n",
              "      <td>0</td>\n",
              "      <td>0</td>\n",
              "      <td>0</td>\n",
              "      <td>0</td>\n",
              "      <td>0</td>\n",
              "      <td>0</td>\n",
              "      <td>0</td>\n",
              "      <td>0</td>\n",
              "      <td>0</td>\n",
              "      <td>0</td>\n",
              "      <td>0</td>\n",
              "      <td>0</td>\n",
              "      <td>0</td>\n",
              "      <td>0</td>\n",
              "      <td>0</td>\n",
              "      <td>0</td>\n",
              "      <td>0</td>\n",
              "      <td>0</td>\n",
              "      <td>0</td>\n",
              "      <td>0</td>\n",
              "      <td>0</td>\n",
              "      <td>0</td>\n",
              "      <td>...</td>\n",
              "      <td>0</td>\n",
              "      <td>0</td>\n",
              "      <td>0</td>\n",
              "      <td>0</td>\n",
              "      <td>0</td>\n",
              "      <td>0</td>\n",
              "      <td>0</td>\n",
              "      <td>0</td>\n",
              "      <td>0</td>\n",
              "      <td>1</td>\n",
              "      <td>0</td>\n",
              "      <td>0</td>\n",
              "      <td>0</td>\n",
              "      <td>0</td>\n",
              "      <td>0</td>\n",
              "      <td>1</td>\n",
              "      <td>0</td>\n",
              "      <td>0.5</td>\n",
              "      <td>2.66527</td>\n",
              "      <td>364.958313</td>\n",
              "      <td>25</td>\n",
              "      <td>0</td>\n",
              "      <td>1</td>\n",
              "      <td>1457</td>\n",
              "      <td>34.599998</td>\n",
              "      <td>-112.554001</td>\n",
              "      <td>0.0</td>\n",
              "      <td>2</td>\n",
              "      <td>5</td>\n",
              "      <td>2</td>\n",
              "      <td>22688</td>\n",
              "      <td>833</td>\n",
              "      <td>4</td>\n",
              "      <td>22888</td>\n",
              "      <td>1010</td>\n",
              "      <td>2</td>\n",
              "      <td>1</td>\n",
              "      <td>56</td>\n",
              "      <td>86325</td>\n",
              "      <td>0</td>\n",
              "    </tr>\n",
              "    <tr>\n",
              "      <th>2</th>\n",
              "      <td>1</td>\n",
              "      <td>0</td>\n",
              "      <td>0</td>\n",
              "      <td>1</td>\n",
              "      <td>0</td>\n",
              "      <td>0</td>\n",
              "      <td>0</td>\n",
              "      <td>0</td>\n",
              "      <td>0</td>\n",
              "      <td>0</td>\n",
              "      <td>0</td>\n",
              "      <td>0</td>\n",
              "      <td>1</td>\n",
              "      <td>0</td>\n",
              "      <td>0</td>\n",
              "      <td>0</td>\n",
              "      <td>0</td>\n",
              "      <td>0</td>\n",
              "      <td>0</td>\n",
              "      <td>0</td>\n",
              "      <td>0</td>\n",
              "      <td>0</td>\n",
              "      <td>0</td>\n",
              "      <td>0</td>\n",
              "      <td>0</td>\n",
              "      <td>0</td>\n",
              "      <td>0</td>\n",
              "      <td>0</td>\n",
              "      <td>0</td>\n",
              "      <td>0</td>\n",
              "      <td>0</td>\n",
              "      <td>0</td>\n",
              "      <td>0</td>\n",
              "      <td>0</td>\n",
              "      <td>0</td>\n",
              "      <td>0</td>\n",
              "      <td>0</td>\n",
              "      <td>0</td>\n",
              "      <td>0</td>\n",
              "      <td>0</td>\n",
              "      <td>...</td>\n",
              "      <td>0</td>\n",
              "      <td>0</td>\n",
              "      <td>0</td>\n",
              "      <td>0</td>\n",
              "      <td>0</td>\n",
              "      <td>0</td>\n",
              "      <td>0</td>\n",
              "      <td>0</td>\n",
              "      <td>0</td>\n",
              "      <td>0</td>\n",
              "      <td>0</td>\n",
              "      <td>0</td>\n",
              "      <td>0</td>\n",
              "      <td>0</td>\n",
              "      <td>0</td>\n",
              "      <td>0</td>\n",
              "      <td>1</td>\n",
              "      <td>3.0</td>\n",
              "      <td>2.43343</td>\n",
              "      <td>626.564575</td>\n",
              "      <td>17</td>\n",
              "      <td>0</td>\n",
              "      <td>0</td>\n",
              "      <td>4224</td>\n",
              "      <td>42.485001</td>\n",
              "      <td>-71.391998</td>\n",
              "      <td>9.7</td>\n",
              "      <td>6</td>\n",
              "      <td>1</td>\n",
              "      <td>2</td>\n",
              "      <td>32288</td>\n",
              "      <td>1000</td>\n",
              "      <td>25</td>\n",
              "      <td>32488</td>\n",
              "      <td>1000</td>\n",
              "      <td>1</td>\n",
              "      <td>1</td>\n",
              "      <td>23</td>\n",
              "      <td>1778</td>\n",
              "      <td>0</td>\n",
              "    </tr>\n",
              "    <tr>\n",
              "      <th>3</th>\n",
              "      <td>1</td>\n",
              "      <td>0</td>\n",
              "      <td>0</td>\n",
              "      <td>1</td>\n",
              "      <td>0</td>\n",
              "      <td>0</td>\n",
              "      <td>0</td>\n",
              "      <td>0</td>\n",
              "      <td>0</td>\n",
              "      <td>0</td>\n",
              "      <td>0</td>\n",
              "      <td>0</td>\n",
              "      <td>1</td>\n",
              "      <td>0</td>\n",
              "      <td>0</td>\n",
              "      <td>0</td>\n",
              "      <td>0</td>\n",
              "      <td>0</td>\n",
              "      <td>0</td>\n",
              "      <td>0</td>\n",
              "      <td>0</td>\n",
              "      <td>0</td>\n",
              "      <td>0</td>\n",
              "      <td>0</td>\n",
              "      <td>0</td>\n",
              "      <td>0</td>\n",
              "      <td>0</td>\n",
              "      <td>0</td>\n",
              "      <td>0</td>\n",
              "      <td>0</td>\n",
              "      <td>0</td>\n",
              "      <td>0</td>\n",
              "      <td>0</td>\n",
              "      <td>0</td>\n",
              "      <td>0</td>\n",
              "      <td>0</td>\n",
              "      <td>0</td>\n",
              "      <td>0</td>\n",
              "      <td>0</td>\n",
              "      <td>0</td>\n",
              "      <td>...</td>\n",
              "      <td>0</td>\n",
              "      <td>0</td>\n",
              "      <td>0</td>\n",
              "      <td>0</td>\n",
              "      <td>0</td>\n",
              "      <td>0</td>\n",
              "      <td>0</td>\n",
              "      <td>0</td>\n",
              "      <td>0</td>\n",
              "      <td>0</td>\n",
              "      <td>0</td>\n",
              "      <td>0</td>\n",
              "      <td>0</td>\n",
              "      <td>0</td>\n",
              "      <td>0</td>\n",
              "      <td>1</td>\n",
              "      <td>0</td>\n",
              "      <td>0.6</td>\n",
              "      <td>2.43343</td>\n",
              "      <td>570.611755</td>\n",
              "      <td>17</td>\n",
              "      <td>0</td>\n",
              "      <td>1</td>\n",
              "      <td>4094</td>\n",
              "      <td>42.485001</td>\n",
              "      <td>-71.391998</td>\n",
              "      <td>27.6</td>\n",
              "      <td>6</td>\n",
              "      <td>3</td>\n",
              "      <td>3</td>\n",
              "      <td>32488</td>\n",
              "      <td>700</td>\n",
              "      <td>25</td>\n",
              "      <td>32688</td>\n",
              "      <td>1200</td>\n",
              "      <td>1</td>\n",
              "      <td>1</td>\n",
              "      <td>62</td>\n",
              "      <td>1432</td>\n",
              "      <td>0</td>\n",
              "    </tr>\n",
              "    <tr>\n",
              "      <th>4</th>\n",
              "      <td>1</td>\n",
              "      <td>0</td>\n",
              "      <td>0</td>\n",
              "      <td>0</td>\n",
              "      <td>0</td>\n",
              "      <td>0</td>\n",
              "      <td>1</td>\n",
              "      <td>0</td>\n",
              "      <td>0</td>\n",
              "      <td>0</td>\n",
              "      <td>0</td>\n",
              "      <td>0</td>\n",
              "      <td>0</td>\n",
              "      <td>0</td>\n",
              "      <td>1</td>\n",
              "      <td>0</td>\n",
              "      <td>0</td>\n",
              "      <td>0</td>\n",
              "      <td>0</td>\n",
              "      <td>0</td>\n",
              "      <td>0</td>\n",
              "      <td>0</td>\n",
              "      <td>0</td>\n",
              "      <td>0</td>\n",
              "      <td>0</td>\n",
              "      <td>0</td>\n",
              "      <td>0</td>\n",
              "      <td>0</td>\n",
              "      <td>0</td>\n",
              "      <td>0</td>\n",
              "      <td>0</td>\n",
              "      <td>0</td>\n",
              "      <td>0</td>\n",
              "      <td>0</td>\n",
              "      <td>0</td>\n",
              "      <td>0</td>\n",
              "      <td>0</td>\n",
              "      <td>0</td>\n",
              "      <td>0</td>\n",
              "      <td>0</td>\n",
              "      <td>...</td>\n",
              "      <td>0</td>\n",
              "      <td>0</td>\n",
              "      <td>0</td>\n",
              "      <td>0</td>\n",
              "      <td>0</td>\n",
              "      <td>0</td>\n",
              "      <td>0</td>\n",
              "      <td>0</td>\n",
              "      <td>0</td>\n",
              "      <td>0</td>\n",
              "      <td>0</td>\n",
              "      <td>0</td>\n",
              "      <td>0</td>\n",
              "      <td>0</td>\n",
              "      <td>0</td>\n",
              "      <td>0</td>\n",
              "      <td>1</td>\n",
              "      <td>1.2</td>\n",
              "      <td>2.10811</td>\n",
              "      <td>426.798859</td>\n",
              "      <td>95</td>\n",
              "      <td>0</td>\n",
              "      <td>0</td>\n",
              "      <td>6849</td>\n",
              "      <td>39.007999</td>\n",
              "      <td>-94.347000</td>\n",
              "      <td>23.5</td>\n",
              "      <td>1</td>\n",
              "      <td>3</td>\n",
              "      <td>4</td>\n",
              "      <td>32288</td>\n",
              "      <td>605</td>\n",
              "      <td>29</td>\n",
              "      <td>32488</td>\n",
              "      <td>610</td>\n",
              "      <td>2</td>\n",
              "      <td>1</td>\n",
              "      <td>91</td>\n",
              "      <td>64134</td>\n",
              "      <td>0</td>\n",
              "    </tr>\n",
              "  </tbody>\n",
              "</table>\n",
              "<p>5 rows × 431 columns</p>\n",
              "</div>"
            ],
            "text/plain": [
              "   windoor_1  state2_1  state2_2  state2_3  ...  typebldg  wave    zip  zipflag\n",
              "0          1         0         1         0  ...         1    92  46835        0\n",
              "1          1         1         0         0  ...         1    56  86325        0\n",
              "2          1         0         0         1  ...         1    23   1778        0\n",
              "3          1         0         0         1  ...         1    62   1432        0\n",
              "4          1         0         0         0  ...         1    91  64134        0\n",
              "\n",
              "[5 rows x 431 columns]"
            ]
          },
          "metadata": {
            "tags": []
          }
        },
        {
          "output_type": "display_data",
          "data": {
            "application/vnd.google.colaboratory.intrinsic+json": {
              "type": "string"
            },
            "text/plain": [
              "'y_col:activity'"
            ]
          },
          "metadata": {
            "tags": []
          }
        },
        {
          "output_type": "display_data",
          "data": {
            "application/vnd.google.colaboratory.intrinsic+json": {
              "type": "string"
            },
            "text/plain": [
              "\"x_cols num:430, names:Index(['windoor_1', 'state2_1', 'state2_2', 'state2_3', 'state2_4', 'state2_5',\\n       'state2_6', 'state2_7', 'state2_8', 'state2_9',\\n       ...\\n       'startdt', 'starttm', 'stfips', 'stopdt', 'stoptm', 'stratum',\\n       'typebldg', 'wave', 'zip', 'zipflag'],\\n      dtype='object', length=430)\""
            ]
          },
          "metadata": {
            "tags": []
          }
        },
        {
          "output_type": "stream",
          "text": [
            "CPU times: user 484 ms, sys: 44.4 ms, total: 529 ms\n",
            "Wall time: 528 ms\n"
          ],
          "name": "stdout"
        }
      ]
    },
    {
      "cell_type": "markdown",
      "metadata": {
        "id": "Sd3VLs0zRRTC"
      },
      "source": [
        "## データ分割"
      ]
    },
    {
      "cell_type": "code",
      "metadata": {
        "id": "BQU2-FY6RTIN",
        "outputId": "7773e47f-a6c3-4cf5-dc65-760d46850182",
        "colab": {
          "base_uri": "https://localhost:8080/",
          "height": 125
        }
      },
      "source": [
        "SEED = 7 #@param{type:'number'}\n",
        "X_train, X_test, y_train, y_test = train_test_split(dataset[x_cols].values, dataset[y_col].values,\n",
        "                                                    test_size=0.2, random_state=SEED)\n",
        "X_train, X_val, y_train, y_val = train_test_split(X_train, y_train,\n",
        "                                                  test_size=0.2, random_state=SEED)\n",
        "display(X_train.shape, y_train.shape)\n",
        "display(X_val.shape, y_val.shape)\n",
        "display(X_test.shape, y_test.shape)"
      ],
      "execution_count": 6,
      "outputs": [
        {
          "output_type": "display_data",
          "data": {
            "text/plain": [
              "(8046, 430)"
            ]
          },
          "metadata": {
            "tags": []
          }
        },
        {
          "output_type": "display_data",
          "data": {
            "text/plain": [
              "(8046,)"
            ]
          },
          "metadata": {
            "tags": []
          }
        },
        {
          "output_type": "display_data",
          "data": {
            "text/plain": [
              "(2012, 430)"
            ]
          },
          "metadata": {
            "tags": []
          }
        },
        {
          "output_type": "display_data",
          "data": {
            "text/plain": [
              "(2012,)"
            ]
          },
          "metadata": {
            "tags": []
          }
        },
        {
          "output_type": "display_data",
          "data": {
            "text/plain": [
              "(2515, 430)"
            ]
          },
          "metadata": {
            "tags": []
          }
        },
        {
          "output_type": "display_data",
          "data": {
            "text/plain": [
              "(2515,)"
            ]
          },
          "metadata": {
            "tags": []
          }
        }
      ]
    },
    {
      "cell_type": "markdown",
      "metadata": {
        "id": "Gf7PO8NVnydA"
      },
      "source": [
        "## 回帰モデル作成"
      ]
    },
    {
      "cell_type": "code",
      "metadata": {
        "id": "VyVei2K-JO01"
      },
      "source": [
        "def model_fn(input_shape, dropout_seed, X_train):\n",
        "    '''モデルの定義'''\n",
        "\n",
        "    def _DNNModel_fn(input_shape, dropout_seed, X_train):\n",
        "        '''DNNモデルの定義'''\n",
        "\n",
        "        def _initialize_std_layer(X_train):\n",
        "            '''標準化層の初期化'''\n",
        "            norm_layer = Normalization()\n",
        "            norm_layer.adapt(X_train)\n",
        "            return norm_layer\n",
        "        \n",
        "        dnn_model = Sequential()\n",
        "        dnn_model.add(Input(shape=input_shape))\n",
        "        \n",
        "        # 標準化レイヤーの追加\n",
        "        std_layer = _initialize_std_layer(X_train)\n",
        "        dnn_model.add(std_layer)\n",
        "\n",
        "        # データ解析レイヤーの追加\n",
        "        dnn_model.add(layers.Dense(units=512, activation='relu'))\n",
        "        dnn_model.add(layers.Dropout(rate=0.3, seed=dropout_seed))\n",
        "        dnn_model.add(layers.Dense(units=256, activation='relu'))\n",
        "        dnn_model.add(layers.Dropout(rate=0.3, seed=dropout_seed))\n",
        "        dnn_model.add(layers.Dense(units=512, activation='relu'))\n",
        "        dnn_model.add(layers.Dropout(rate=0.3, seed=dropout_seed))\n",
        "        dnn_model.add(layers.Dense(units=256, activation='relu'))\n",
        "        dnn_model.add(layers.Dropout(rate=0.3, seed=dropout_seed))\n",
        "        dnn_model.add(layers.Dense(units=128, activation='relu'))\n",
        "        dnn_model.add(layers.Dropout(rate=0.3, seed=dropout_seed))\n",
        "\n",
        "        # 出力レイヤーの追加\n",
        "        dnn_model.add(layers.Dense(units=1))\n",
        "        return dnn_model\n",
        "\n",
        "    model = _DNNModel_fn(input_shape=input_shape,\n",
        "                         dropout_seed=dropout_seed,\n",
        "                         X_train=X_train)\n",
        "\n",
        "    # 勾配アルゴリズム(線形モデル用, 深層モデル用), 損失関数, 評価関数\n",
        "    model.compile(optimizer='adam',loss='mse', metrics=['mse'])\n",
        "    \n",
        "    return model\n",
        "\n",
        "\n",
        "input_shape = X_train.shape[1]\n",
        "regressor = model_fn(input_shape=input_shape,\n",
        "                     dropout_seed=None,\n",
        "                     X_train=X_train)\n",
        "\n",
        "# 各モデルのepoch数\n",
        "EPOCH =  200#@param{type:'number'}\n",
        "\n",
        "# 早期停止コールバックの定義\n",
        "es = EarlyStopping(monitor='val_loss',\n",
        "                   patience=2)"
      ],
      "execution_count": 7,
      "outputs": []
    },
    {
      "cell_type": "code",
      "metadata": {
        "id": "gdEvVn2pOFcW"
      },
      "source": [
        "def build_model(input_shape):\n",
        "  model = Sequential([\n",
        "    layers.InputLayer(input_shape=input_shape),\n",
        "    layers.Dense(512, activation='relu'),\n",
        "    layers.Dense(256, activation='relu'),\n",
        "    layers.Dense(128, activation='relu'),\n",
        "    layers.Dense(64, activation='relu'),\n",
        "    layers.Dense(32, activation='relu'),\n",
        "    layers.Dense(16, activation='relu'),\n",
        "    layers.Dense(1)\n",
        "  ])\n",
        "\n",
        "  model.compile(loss='mse',\n",
        "                optimizer='adam',\n",
        "                metrics='mse')\n",
        "  return model\n",
        "\n",
        "\n",
        "input_shape = X_train.shape[1]\n",
        "regressor = build_model(input_shape=input_shape)"
      ],
      "execution_count": 41,
      "outputs": []
    },
    {
      "cell_type": "code",
      "metadata": {
        "id": "sYQgzVjVm0Te",
        "outputId": "0d906e1e-c9ca-44cc-d69d-4d07bd80128d",
        "colab": {
          "base_uri": "https://localhost:8080/"
        }
      },
      "source": [
        "%%time\n",
        "regressor.fit(x=X_train, y=y_train,\n",
        "              epochs=EPOCH,\n",
        "              batch_size=256,\n",
        "              validation_data=(X_val, y_val),\n",
        "              callbacks=[es]\n",
        "              )"
      ],
      "execution_count": 42,
      "outputs": [
        {
          "output_type": "stream",
          "text": [
            "Epoch 1/200\n",
            "32/32 [==============================] - 0s 8ms/step - loss: 78233.9609 - mse: 78233.9609 - val_loss: 633.7976 - val_mse: 633.7976\n",
            "Epoch 2/200\n",
            "32/32 [==============================] - 0s 4ms/step - loss: 464.7011 - mse: 464.7011 - val_loss: 152.1506 - val_mse: 152.1506\n",
            "Epoch 3/200\n",
            "32/32 [==============================] - 0s 4ms/step - loss: 126.8422 - mse: 126.8422 - val_loss: 126.2085 - val_mse: 126.2085\n",
            "Epoch 4/200\n",
            "32/32 [==============================] - 0s 4ms/step - loss: 118.1189 - mse: 118.1189 - val_loss: 89.7852 - val_mse: 89.7852\n",
            "Epoch 5/200\n",
            "32/32 [==============================] - 0s 4ms/step - loss: 105.0531 - mse: 105.0531 - val_loss: 98.3367 - val_mse: 98.3367\n",
            "Epoch 6/200\n",
            "32/32 [==============================] - 0s 4ms/step - loss: 109.4003 - mse: 109.4003 - val_loss: 84.8154 - val_mse: 84.8154\n",
            "Epoch 7/200\n",
            "32/32 [==============================] - 0s 4ms/step - loss: 148.2104 - mse: 148.2104 - val_loss: 110.8570 - val_mse: 110.8570\n",
            "Epoch 8/200\n",
            "32/32 [==============================] - 0s 4ms/step - loss: 114.9100 - mse: 114.9100 - val_loss: 102.2759 - val_mse: 102.2759\n",
            "CPU times: user 1.88 s, sys: 134 ms, total: 2.01 s\n",
            "Wall time: 1.7 s\n"
          ],
          "name": "stdout"
        },
        {
          "output_type": "execute_result",
          "data": {
            "text/plain": [
              "<tensorflow.python.keras.callbacks.History at 0x7f9d10aa9588>"
            ]
          },
          "metadata": {
            "tags": []
          },
          "execution_count": 42
        }
      ]
    },
    {
      "cell_type": "code",
      "metadata": {
        "id": "6tGkS5kcMmXN",
        "outputId": "bdf0018a-771e-4869-d93b-bec6fdb9aa19",
        "colab": {
          "base_uri": "https://localhost:8080/"
        }
      },
      "source": [
        "regressor.predict(X_val)"
      ],
      "execution_count": 43,
      "outputs": [
        {
          "output_type": "execute_result",
          "data": {
            "text/plain": [
              "array([[ 3.5237083],\n",
              "       [ 3.2736015],\n",
              "       [12.946972 ],\n",
              "       ...,\n",
              "       [ 4.9672966],\n",
              "       [ 2.4153557],\n",
              "       [ 1.8694572]], dtype=float32)"
            ]
          },
          "metadata": {
            "tags": []
          },
          "execution_count": 43
        }
      ]
    },
    {
      "cell_type": "markdown",
      "metadata": {
        "id": "ySRNiwwi_7Yt"
      },
      "source": [
        "# ベストなモデルの可視化"
      ]
    },
    {
      "cell_type": "code",
      "metadata": {
        "id": "nFD62eAC_9ry",
        "outputId": "9929f1ef-5095-4c91-94c9-9e3a84afbbee",
        "colab": {
          "base_uri": "https://localhost:8080/",
          "height": 1000
        }
      },
      "source": [
        "def display_model(model):\n",
        "    '''モデルの構造を表示'''\n",
        "    display(plot_model(model))\n",
        "    display(model.summary())\n",
        "\n",
        "\n",
        "display_model(model=regressor)"
      ],
      "execution_count": 44,
      "outputs": [
        {
          "output_type": "display_data",
          "data": {
            "image/png": "[encoded data removed]",
            "text/plain": [
              "<IPython.core.display.Image object>"
            ]
          },
          "metadata": {
            "tags": []
          }
        },
        {
          "output_type": "stream",
          "text": [
            "Model: \"sequential_6\"\n",
            "_________________________________________________________________\n",
            "Layer (type)                 Output Shape              Param #   \n",
            "=================================================================\n",
            "dense_25 (Dense)             (None, 512)               220672    \n",
            "_________________________________________________________________\n",
            "dense_26 (Dense)             (None, 256)               131328    \n",
            "_________________________________________________________________\n",
            "dense_27 (Dense)             (None, 128)               32896     \n",
            "_________________________________________________________________\n",
            "dense_28 (Dense)             (None, 64)                8256      \n",
            "_________________________________________________________________\n",
            "dense_29 (Dense)             (None, 32)                2080      \n",
            "_________________________________________________________________\n",
            "dense_30 (Dense)             (None, 16)                528       \n",
            "_________________________________________________________________\n",
            "dense_31 (Dense)             (None, 1)                 17        \n",
            "=================================================================\n",
            "Total params: 395,777\n",
            "Trainable params: 395,777\n",
            "Non-trainable params: 0\n",
            "_________________________________________________________________\n"
          ],
          "name": "stdout"
        },
        {
          "output_type": "display_data",
          "data": {
            "text/plain": [
              "None"
            ]
          },
          "metadata": {
            "tags": []
          }
        }
      ]
    },
    {
      "cell_type": "markdown",
      "metadata": {
        "id": "GZlcWQe2zUUQ"
      },
      "source": [
        "## モデルの評価"
      ]
    },
    {
      "cell_type": "markdown",
      "metadata": {
        "id": "okON7VZn0Vh9"
      },
      "source": [
        "### Kerasの組み込み評価関数"
      ]
    },
    {
      "cell_type": "code",
      "metadata": {
        "id": "IUeyyuJgwhwb",
        "outputId": "5c194b02-b07f-4388-a4d9-7b272738f3df",
        "colab": {
          "base_uri": "https://localhost:8080/",
          "height": 90
        }
      },
      "source": [
        "%%time\n",
        "score = regressor.evaluate(x=X_test, y=y_test, batch_size=256)\n",
        "display('loss : {}, mse : {}'.format(score[0], score[1]))"
      ],
      "execution_count": 47,
      "outputs": [
        {
          "output_type": "stream",
          "text": [
            "10/10 [==============================] - 0s 2ms/step - loss: 102.6442 - mse: 102.6442\n"
          ],
          "name": "stdout"
        },
        {
          "output_type": "display_data",
          "data": {
            "application/vnd.google.colaboratory.intrinsic+json": {
              "type": "string"
            },
            "text/plain": [
              "'loss : 102.6441650390625, mse : 102.6441650390625'"
            ]
          },
          "metadata": {
            "tags": []
          }
        },
        {
          "output_type": "stream",
          "text": [
            "CPU times: user 67.7 ms, sys: 9.71 ms, total: 77.5 ms\n",
            "Wall time: 73.9 ms\n"
          ],
          "name": "stdout"
        }
      ]
    },
    {
      "cell_type": "markdown",
      "metadata": {
        "id": "I4QLEqO10av1"
      },
      "source": [
        "### sklearnの評価関数"
      ]
    },
    {
      "cell_type": "code",
      "metadata": {
        "id": "40JuPQtP0cm4",
        "outputId": "ff30fc27-6b0f-4e03-c57d-89c2740cda10",
        "colab": {
          "base_uri": "https://localhost:8080/"
        }
      },
      "source": [
        "%%time\n",
        "def _calc_score(y_true, y_pred, sklearn_metric):\n",
        "  '''sklearnの評価指標のスコアを計算'''\n",
        "  score = sklearn_metric(y_true=y_true, y_pred=y_pred)\n",
        "  return score\n",
        "\n",
        "\n",
        "def evaluete_sk_metrics(y_true, y_pred, sklearn_metrics):\n",
        "  '''sklearnの各種、評価関数を使用'''\n",
        "  result = {}\n",
        "  for sk_metric in sklearn_metrics:\n",
        "    result[sk_metric.__name__] = _calc_score(y_true=y_true, y_pred=y_pred, sklearn_metric=sk_metric)\n",
        "  return result\n",
        "\n",
        "\n",
        "SK_METRICS=[r2_score, explained_variance_score, mean_squared_error]\n",
        "eval_scores = {'train': {}, 'val': {}, 'test': {}}\n",
        "\n",
        "for key, X, y_true in zip(['train', 'val', 'test'], [X_train, X_val, X_test], [y_train, y_val, y_test]):\n",
        "  y_pred = regressor.predict(X)\n",
        "  eval_scores[key] = evaluete_sk_metrics(y_true=y_true, y_pred=y_pred, sklearn_metrics=SK_METRICS)\n",
        "pprint.pprint(eval_scores)"
      ],
      "execution_count": 46,
      "outputs": [
        {
          "output_type": "stream",
          "text": [
            "{'test': {'explained_variance_score': -0.26819121837615967,\n",
            "          'mean_squared_error': 102.64416,\n",
            "          'r2_score': -0.4630089223737941},\n",
            " 'train': {'explained_variance_score': -0.15348708629608154,\n",
            "           'mean_squared_error': 120.73063,\n",
            "           'r2_score': -0.29721858986444305},\n",
            " 'val': {'explained_variance_score': -0.2077699899673462,\n",
            "         'mean_squared_error': 102.27597,\n",
            "         'r2_score': -0.39030570435974754}}\n",
            "CPU times: user 527 ms, sys: 58.4 ms, total: 586 ms\n",
            "Wall time: 466 ms\n"
          ],
          "name": "stdout"
        }
      ]
    },
    {
      "cell_type": "code",
      "metadata": {
        "id": "HAondmLfM-qP"
      },
      "source": [
        ""
      ],
      "execution_count": 13,
      "outputs": []
    }
  ]
}