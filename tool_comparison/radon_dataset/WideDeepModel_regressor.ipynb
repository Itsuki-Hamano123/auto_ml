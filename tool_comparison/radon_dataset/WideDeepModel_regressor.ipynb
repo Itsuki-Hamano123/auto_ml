{
  "nbformat": 4,
  "nbformat_minor": 0,
  "metadata": {
    "colab": {
      "name": "WideDeepModel_regressor.ipynb",
      "provenance": [],
      "collapsed_sections": [],
      "toc_visible": true,
      "mount_file_id": "1flFCVMaBB0IpJYQy-2ZugoSFOXcTFBA3",
      "authorship_tag": "ABX9TyNXYno3mS7KvHWFUswPbEGA",
      "include_colab_link": true
    },
    "kernelspec": {
      "name": "python3",
      "display_name": "Python 3"
    }
  },
  "cells": [
    {
      "cell_type": "markdown",
      "metadata": {
        "id": "view-in-github",
        "colab_type": "text"
      },
      "source": [
        "<a href=\"https://colab.research.google.com/github/Itsuki-Hamano123/auto_ml/blob/master/tool_comparison/radon_dataset/WideDeepModel_regressor.ipynb\" target=\"_parent\"><img src=\"https://colab.research.google.com/assets/colab-badge.svg\" alt=\"Open In Colab\"/></a>"
      ]
    },
    {
      "cell_type": "code",
      "metadata": {
        "id": "l6-xjloXHExj",
        "outputId": "569bead9-b6b1-4110-ec21-6e6f98c69207",
        "colab": {
          "base_uri": "https://localhost:8080/"
        }
      },
      "source": [
        "%pip show tensorflow"
      ],
      "execution_count": null,
      "outputs": [
        {
          "output_type": "stream",
          "text": [
            "Name: tensorflow\n",
            "Version: 2.3.0\n",
            "Summary: TensorFlow is an open source machine learning framework for everyone.\n",
            "Home-page: https://www.tensorflow.org/\n",
            "Author: Google Inc.\n",
            "Author-email: packages@tensorflow.org\n",
            "License: Apache 2.0\n",
            "Location: /usr/local/lib/python3.6/dist-packages\n",
            "Requires: absl-py, keras-preprocessing, tensorflow-estimator, h5py, astunparse, opt-einsum, tensorboard, grpcio, six, protobuf, wheel, gast, wrapt, numpy, scipy, termcolor, google-pasta\n",
            "Required-by: fancyimpute\n"
          ],
          "name": "stdout"
        }
      ]
    },
    {
      "cell_type": "code",
      "metadata": {
        "id": "83xkk0znHJQR"
      },
      "source": [
        "import datetime\n",
        "import os\n",
        "import pprint\n",
        "\n",
        "import numpy as np\n",
        "import pandas as pd\n",
        "\n",
        "from sklearn.model_selection import train_test_split\n",
        "from sklearn.metrics import explained_variance_score, mean_squared_error, r2_score\n",
        "from sklearn.preprocessing import MultiLabelBinarizer\n",
        "\n",
        "import tensorflow_datasets as tfds\n",
        "from tensorflow.keras.experimental import LinearModel, WideDeepModel\n",
        "from tensorflow.keras import Sequential, Input, layers\n",
        "from tensorflow.keras.layers.experimental.preprocessing import Normalization\n",
        "from tensorflow.keras.callbacks import EarlyStopping\n",
        "from tensorflow.keras.utils import plot_model"
      ],
      "execution_count": null,
      "outputs": []
    },
    {
      "cell_type": "markdown",
      "metadata": {
        "id": "Dc0B0jOLn-oS"
      },
      "source": [
        "## データセット読み込み\n",
        "- radonデータセット[https://www.tensorflow.org/datasets/catalog/radon](https://www.tensorflow.org/datasets/catalog/radon)"
      ]
    },
    {
      "cell_type": "code",
      "metadata": {
        "id": "408E4QO-H1QO",
        "outputId": "8195ab6a-a528-42f0-e05e-c831e6e96873",
        "colab": {
          "base_uri": "https://localhost:8080/",
          "height": 1000
        }
      },
      "source": [
        "def fetch_tf_dataset(data_name, \n",
        "                     split='train',\n",
        "                     shuffle_files=True, as_supervised=True,\n",
        "                     with_info=True, batch_size=None):\n",
        "  '''TensorFlowデータセットからデータをフェッチ'''\n",
        "  dataset, data_info = tfds.load(data_name, split=split,\n",
        "                                  shuffle_files=shuffle_files,\n",
        "                                  as_supervised=as_supervised,\n",
        "                                  with_info=with_info,\n",
        "                                  batch_size=batch_size)\n",
        "  return dataset, data_info\n",
        "  \n",
        "\n",
        "\n",
        "data_name = 'radon' # @param{type:'string'}\n",
        "x_name = 'features' # @param{type:'string'}\n",
        "y_name = 'activity' # @param{type:'string'}\n",
        "# インメモリでデータを読み込む\n",
        "batch_size = -1\n",
        "\n",
        "# データのフェッチ\n",
        "tf_dataset, ds_info = fetch_tf_dataset(data_name=data_name,\n",
        "                                     as_supervised=False,\n",
        "                                     batch_size=batch_size)\n",
        "\n",
        "display(ds_info)"
      ],
      "execution_count": null,
      "outputs": [
        {
          "output_type": "display_data",
          "data": {
            "text/plain": [
              "tfds.core.DatasetInfo(\n",
              "    name='radon',\n",
              "    version=1.0.0,\n",
              "    description='Radon is a radioactive gas that enters homes through contact\n",
              "points with the ground. It is a carcinogen that is the primary cause of lung\n",
              "cancer in non-smokers. Radon levels vary greatly from household to household.\n",
              "This dataset contains measured radon levels in U.S homes by county and state.\n",
              "The 'activity' label is the measured radon concentration in pCi/L. Important\n",
              "predictors are 'floor' (the floor of the house in which the measurement was\n",
              "taken), 'county' (the U.S. county in which the house is located), and 'Uppm' (a\n",
              "measurement of uranium level of the soil by county).',\n",
              "    homepage='http://www.stat.columbia.edu/~gelman/arm/examples/radon/',\n",
              "    features=FeaturesDict({\n",
              "        'activity': tf.float32,\n",
              "        'features': FeaturesDict({\n",
              "            'Uppm': tf.float32,\n",
              "            'adjwt': tf.float32,\n",
              "            'basement': tf.string,\n",
              "            'cntyfips': tf.int32,\n",
              "            'county': tf.string,\n",
              "            'dupflag': tf.int32,\n",
              "            'floor': tf.int32,\n",
              "            'idnum': tf.int32,\n",
              "            'lat': tf.float32,\n",
              "            'lon': tf.float32,\n",
              "            'pcterr': tf.float32,\n",
              "            'region': tf.int32,\n",
              "            'rep': tf.int32,\n",
              "            'room': tf.int32,\n",
              "            'startdt': tf.int32,\n",
              "            'starttm': tf.int32,\n",
              "            'state': tf.string,\n",
              "            'state2': tf.string,\n",
              "            'stfips': tf.int32,\n",
              "            'stopdt': tf.int32,\n",
              "            'stoptm': tf.int32,\n",
              "            'stratum': tf.int32,\n",
              "            'typebldg': tf.int32,\n",
              "            'wave': tf.int32,\n",
              "            'windoor': tf.string,\n",
              "            'zip': tf.int32,\n",
              "            'zipflag': tf.int32,\n",
              "        }),\n",
              "    }),\n",
              "    total_num_examples=12573,\n",
              "    splits={\n",
              "        'train': 12573,\n",
              "    },\n",
              "    supervised_keys=('features', 'activity'),\n",
              "    citation=\"\"\"@book{GelmanHill:2007,\n",
              "      author = {Gelman, Andrew and Hill, Jennifer},\n",
              "      title = {Data Analysis Using Regression and Multilevel/Hierarchical Models},\n",
              "      publisher = {Cambridge University Press},\n",
              "      series = {Analytical methods for social research},\n",
              "      year = 2007\n",
              "    }\"\"\",\n",
              "    redistribution_info=,\n",
              ")"
            ]
          },
          "metadata": {
            "tags": []
          }
        }
      ]
    },
    {
      "cell_type": "markdown",
      "metadata": {
        "id": "Q_hlNPnGoFa2"
      },
      "source": [
        "### Dataframeに変換"
      ]
    },
    {
      "cell_type": "code",
      "metadata": {
        "id": "k6gOA-v6T7Cr",
        "outputId": "6a755143-b49d-43d8-979e-d525b8ce5f8c",
        "colab": {
          "base_uri": "https://localhost:8080/",
          "height": 349
        }
      },
      "source": [
        "%%time\n",
        "\n",
        "def convert_tfds_to_df(tf_ds, x_key, y_key):\n",
        "  '''tf DatasetをDataframeに変換'''\n",
        "  \n",
        "  # yについて{key:numpy}形式のdictに変換\n",
        "  y = {}\n",
        "  y[y_key] = tf_ds[y_key].numpy()\n",
        "\n",
        "  # xについて[{key:numpy},{key:numpy},,,]形式のdictに変換\n",
        "  x = {}\n",
        "  for f_key, element in tf_ds[x_key].items():\n",
        "    if element.dtype == 'string':\n",
        "      x[f_key] = _convert_byte_np_to_string_np(bytes_np=element.numpy())\n",
        "    else:\n",
        "      x[f_key] = element.numpy()\n",
        "  \n",
        "  y_df = pd.DataFrame.from_dict(y)\n",
        "  x_df = pd.DataFrame.from_dict(x)\n",
        "  df = pd.concat([y_df, x_df], axis=1)\n",
        "\n",
        "  return df\n",
        "\n",
        "\n",
        "def _convert_byte_np_to_string_np(bytes_np, decode_char='utf-8'):\n",
        "  '''バイナリ文字列形式のnumpy配列を文字列形式のnumpy配列に変換'''\n",
        "  decode_np = np.array([])\n",
        "  for b in bytes_np:\n",
        "    decode_np = np.append(decode_np, b.decode(decode_char))\n",
        "  decode_np = decode_np.astype('object')\n",
        "  return decode_np\n",
        "\n",
        "\n",
        "# tf datasetからDataframeに変換\n",
        "dataset = convert_tfds_to_df(tf_dataset, x_key=x_name, y_key=y_name)\n",
        "\n",
        "\n",
        "display(dataset.head())\n",
        "display(dataset.shape)\n",
        "\n",
        "\n",
        "# カラム名の設定\n",
        "y_col = y_name\n",
        "x_cols = dataset.drop(columns=y_col).columns\n",
        "\n",
        "display('y_col:{}'.format(y_col))\n",
        "display('x_cols num:{}, names:{}'.format(len(x_cols), x_cols))"
      ],
      "execution_count": null,
      "outputs": [
        {
          "output_type": "display_data",
          "data": {
            "text/html": [
              "<div>\n",
              "<style scoped>\n",
              "    .dataframe tbody tr th:only-of-type {\n",
              "        vertical-align: middle;\n",
              "    }\n",
              "\n",
              "    .dataframe tbody tr th {\n",
              "        vertical-align: top;\n",
              "    }\n",
              "\n",
              "    .dataframe thead th {\n",
              "        text-align: right;\n",
              "    }\n",
              "</style>\n",
              "<table border=\"1\" class=\"dataframe\">\n",
              "  <thead>\n",
              "    <tr style=\"text-align: right;\">\n",
              "      <th></th>\n",
              "      <th>activity</th>\n",
              "      <th>Uppm</th>\n",
              "      <th>adjwt</th>\n",
              "      <th>basement</th>\n",
              "      <th>cntyfips</th>\n",
              "      <th>county</th>\n",
              "      <th>dupflag</th>\n",
              "      <th>floor</th>\n",
              "      <th>idnum</th>\n",
              "      <th>lat</th>\n",
              "      <th>lon</th>\n",
              "      <th>pcterr</th>\n",
              "      <th>region</th>\n",
              "      <th>rep</th>\n",
              "      <th>room</th>\n",
              "      <th>startdt</th>\n",
              "      <th>starttm</th>\n",
              "      <th>state</th>\n",
              "      <th>state2</th>\n",
              "      <th>stfips</th>\n",
              "      <th>stopdt</th>\n",
              "      <th>stoptm</th>\n",
              "      <th>stratum</th>\n",
              "      <th>typebldg</th>\n",
              "      <th>wave</th>\n",
              "      <th>windoor</th>\n",
              "      <th>zip</th>\n",
              "      <th>zipflag</th>\n",
              "    </tr>\n",
              "  </thead>\n",
              "  <tbody>\n",
              "    <tr>\n",
              "      <th>0</th>\n",
              "      <td>1.6</td>\n",
              "      <td>2.49759</td>\n",
              "      <td>292.219543</td>\n",
              "      <td>N</td>\n",
              "      <td>3</td>\n",
              "      <td>ALLEN</td>\n",
              "      <td>0</td>\n",
              "      <td>1</td>\n",
              "      <td>1681</td>\n",
              "      <td>41.091000</td>\n",
              "      <td>-85.067001</td>\n",
              "      <td>12.7</td>\n",
              "      <td>2</td>\n",
              "      <td>3</td>\n",
              "      <td>2</td>\n",
              "      <td>11489</td>\n",
              "      <td>2230</td>\n",
              "      <td>IN</td>\n",
              "      <td>IN</td>\n",
              "      <td>18</td>\n",
              "      <td>11689</td>\n",
              "      <td>2235</td>\n",
              "      <td>2</td>\n",
              "      <td>1</td>\n",
              "      <td>92</td>\n",
              "      <td></td>\n",
              "      <td>46835</td>\n",
              "      <td>0</td>\n",
              "    </tr>\n",
              "    <tr>\n",
              "      <th>1</th>\n",
              "      <td>0.5</td>\n",
              "      <td>2.66527</td>\n",
              "      <td>364.958313</td>\n",
              "      <td>N</td>\n",
              "      <td>25</td>\n",
              "      <td>YAVAPAI</td>\n",
              "      <td>0</td>\n",
              "      <td>1</td>\n",
              "      <td>1457</td>\n",
              "      <td>34.599998</td>\n",
              "      <td>-112.554001</td>\n",
              "      <td>0.0</td>\n",
              "      <td>2</td>\n",
              "      <td>5</td>\n",
              "      <td>2</td>\n",
              "      <td>22688</td>\n",
              "      <td>833</td>\n",
              "      <td>AZ</td>\n",
              "      <td>AZ</td>\n",
              "      <td>4</td>\n",
              "      <td>22888</td>\n",
              "      <td>1010</td>\n",
              "      <td>2</td>\n",
              "      <td>1</td>\n",
              "      <td>56</td>\n",
              "      <td></td>\n",
              "      <td>86325</td>\n",
              "      <td>0</td>\n",
              "    </tr>\n",
              "    <tr>\n",
              "      <th>2</th>\n",
              "      <td>3.0</td>\n",
              "      <td>2.43343</td>\n",
              "      <td>626.564575</td>\n",
              "      <td>Y</td>\n",
              "      <td>17</td>\n",
              "      <td>MIDDLESEX</td>\n",
              "      <td>0</td>\n",
              "      <td>0</td>\n",
              "      <td>4224</td>\n",
              "      <td>42.485001</td>\n",
              "      <td>-71.391998</td>\n",
              "      <td>9.7</td>\n",
              "      <td>6</td>\n",
              "      <td>1</td>\n",
              "      <td>2</td>\n",
              "      <td>32288</td>\n",
              "      <td>1000</td>\n",
              "      <td>MA</td>\n",
              "      <td>MA</td>\n",
              "      <td>25</td>\n",
              "      <td>32488</td>\n",
              "      <td>1000</td>\n",
              "      <td>1</td>\n",
              "      <td>1</td>\n",
              "      <td>23</td>\n",
              "      <td></td>\n",
              "      <td>1778</td>\n",
              "      <td>0</td>\n",
              "    </tr>\n",
              "    <tr>\n",
              "      <th>3</th>\n",
              "      <td>0.6</td>\n",
              "      <td>2.43343</td>\n",
              "      <td>570.611755</td>\n",
              "      <td>N</td>\n",
              "      <td>17</td>\n",
              "      <td>MIDDLESEX</td>\n",
              "      <td>0</td>\n",
              "      <td>1</td>\n",
              "      <td>4094</td>\n",
              "      <td>42.485001</td>\n",
              "      <td>-71.391998</td>\n",
              "      <td>27.6</td>\n",
              "      <td>6</td>\n",
              "      <td>3</td>\n",
              "      <td>3</td>\n",
              "      <td>32488</td>\n",
              "      <td>700</td>\n",
              "      <td>MA</td>\n",
              "      <td>MA</td>\n",
              "      <td>25</td>\n",
              "      <td>32688</td>\n",
              "      <td>1200</td>\n",
              "      <td>1</td>\n",
              "      <td>1</td>\n",
              "      <td>62</td>\n",
              "      <td></td>\n",
              "      <td>1432</td>\n",
              "      <td>0</td>\n",
              "    </tr>\n",
              "    <tr>\n",
              "      <th>4</th>\n",
              "      <td>1.2</td>\n",
              "      <td>2.10811</td>\n",
              "      <td>426.798859</td>\n",
              "      <td>Y</td>\n",
              "      <td>95</td>\n",
              "      <td>JACKSON</td>\n",
              "      <td>0</td>\n",
              "      <td>0</td>\n",
              "      <td>6849</td>\n",
              "      <td>39.007999</td>\n",
              "      <td>-94.347000</td>\n",
              "      <td>23.5</td>\n",
              "      <td>1</td>\n",
              "      <td>3</td>\n",
              "      <td>4</td>\n",
              "      <td>32288</td>\n",
              "      <td>605</td>\n",
              "      <td>MO</td>\n",
              "      <td>MO</td>\n",
              "      <td>29</td>\n",
              "      <td>32488</td>\n",
              "      <td>610</td>\n",
              "      <td>2</td>\n",
              "      <td>1</td>\n",
              "      <td>91</td>\n",
              "      <td></td>\n",
              "      <td>64134</td>\n",
              "      <td>0</td>\n",
              "    </tr>\n",
              "  </tbody>\n",
              "</table>\n",
              "</div>"
            ],
            "text/plain": [
              "   activity     Uppm       adjwt basement  ...  wave windoor    zip  zipflag\n",
              "0       1.6  2.49759  292.219543        N  ...    92          46835        0\n",
              "1       0.5  2.66527  364.958313        N  ...    56          86325        0\n",
              "2       3.0  2.43343  626.564575        Y  ...    23           1778        0\n",
              "3       0.6  2.43343  570.611755        N  ...    62           1432        0\n",
              "4       1.2  2.10811  426.798859        Y  ...    91          64134        0\n",
              "\n",
              "[5 rows x 28 columns]"
            ]
          },
          "metadata": {
            "tags": []
          }
        },
        {
          "output_type": "display_data",
          "data": {
            "text/plain": [
              "(12573, 28)"
            ]
          },
          "metadata": {
            "tags": []
          }
        },
        {
          "output_type": "display_data",
          "data": {
            "application/vnd.google.colaboratory.intrinsic+json": {
              "type": "string"
            },
            "text/plain": [
              "'y_col:activity'"
            ]
          },
          "metadata": {
            "tags": []
          }
        },
        {
          "output_type": "display_data",
          "data": {
            "application/vnd.google.colaboratory.intrinsic+json": {
              "type": "string"
            },
            "text/plain": [
              "\"x_cols num:27, names:Index(['Uppm', 'adjwt', 'basement', 'cntyfips', 'county', 'dupflag', 'floor',\\n       'idnum', 'lat', 'lon', 'pcterr', 'region', 'rep', 'room', 'startdt',\\n       'starttm', 'state', 'state2', 'stfips', 'stopdt', 'stoptm', 'stratum',\\n       'typebldg', 'wave', 'windoor', 'zip', 'zipflag'],\\n      dtype='object')\""
            ]
          },
          "metadata": {
            "tags": []
          }
        },
        {
          "output_type": "stream",
          "text": [
            "CPU times: user 4.54 s, sys: 326 ms, total: 4.86 s\n",
            "Wall time: 4.88 s\n"
          ],
          "name": "stdout"
        }
      ]
    },
    {
      "cell_type": "markdown",
      "metadata": {
        "id": "xwAtZ-R41VKV"
      },
      "source": [
        "## 文字列をone-hotエンコード"
      ]
    },
    {
      "cell_type": "code",
      "metadata": {
        "id": "0NAXhd211bX3",
        "outputId": "6a485624-7e80-493c-ce4f-731d3241339b",
        "colab": {
          "base_uri": "https://localhost:8080/",
          "height": 361
        }
      },
      "source": [
        "%%time\n",
        "\n",
        "def one_hot_encode_df_val(df, target_col):\n",
        "  '''文字列のカラムをone-hot-encodeしたカラムに置き換え\n",
        "  INFO :　新規のカラムは先頭に挿入していく\n",
        "  WARNING : target_colはdropされる\n",
        "  '''\n",
        "  mlb = MultiLabelBinarizer()\n",
        "  one_hot_feature = mlb.fit_transform([{str(val)} for val in df[target_col].values])\n",
        "  insert_columns = [target_col+'_'+str(x+1) for x in range(len(one_hot_feature[0]))]\n",
        "  insert_df = pd.DataFrame(one_hot_feature, columns=insert_columns)\n",
        "  df = df.drop(columns=target_col)\n",
        "  df = pd.concat([insert_df, df], axis=1)\n",
        "  return df\n",
        "\n",
        "encode_cols = ['basement', 'county', 'state', 'state2', 'windoor']\n",
        "for col in encode_cols:\n",
        "  dataset = one_hot_encode_df_val(dataset, col)\n",
        "display(dataset.head())\n",
        "\n",
        "\n",
        "# カラム名の設定\n",
        "y_col = y_name\n",
        "x_cols = dataset.drop(columns=y_col).columns\n",
        "\n",
        "display('y_col:{}'.format(y_col))\n",
        "display('x_cols num:{}, names:{}'.format(len(x_cols), x_cols))"
      ],
      "execution_count": null,
      "outputs": [
        {
          "output_type": "display_data",
          "data": {
            "text/html": [
              "<div>\n",
              "<style scoped>\n",
              "    .dataframe tbody tr th:only-of-type {\n",
              "        vertical-align: middle;\n",
              "    }\n",
              "\n",
              "    .dataframe tbody tr th {\n",
              "        vertical-align: top;\n",
              "    }\n",
              "\n",
              "    .dataframe thead th {\n",
              "        text-align: right;\n",
              "    }\n",
              "</style>\n",
              "<table border=\"1\" class=\"dataframe\">\n",
              "  <thead>\n",
              "    <tr style=\"text-align: right;\">\n",
              "      <th></th>\n",
              "      <th>windoor_1</th>\n",
              "      <th>state2_1</th>\n",
              "      <th>state2_2</th>\n",
              "      <th>state2_3</th>\n",
              "      <th>state2_4</th>\n",
              "      <th>state2_5</th>\n",
              "      <th>state2_6</th>\n",
              "      <th>state2_7</th>\n",
              "      <th>state2_8</th>\n",
              "      <th>state2_9</th>\n",
              "      <th>state_1</th>\n",
              "      <th>state_2</th>\n",
              "      <th>state_3</th>\n",
              "      <th>state_4</th>\n",
              "      <th>state_5</th>\n",
              "      <th>state_6</th>\n",
              "      <th>state_7</th>\n",
              "      <th>state_8</th>\n",
              "      <th>county_1</th>\n",
              "      <th>county_2</th>\n",
              "      <th>county_3</th>\n",
              "      <th>county_4</th>\n",
              "      <th>county_5</th>\n",
              "      <th>county_6</th>\n",
              "      <th>county_7</th>\n",
              "      <th>county_8</th>\n",
              "      <th>county_9</th>\n",
              "      <th>county_10</th>\n",
              "      <th>county_11</th>\n",
              "      <th>county_12</th>\n",
              "      <th>county_13</th>\n",
              "      <th>county_14</th>\n",
              "      <th>county_15</th>\n",
              "      <th>county_16</th>\n",
              "      <th>county_17</th>\n",
              "      <th>county_18</th>\n",
              "      <th>county_19</th>\n",
              "      <th>county_20</th>\n",
              "      <th>county_21</th>\n",
              "      <th>county_22</th>\n",
              "      <th>...</th>\n",
              "      <th>county_374</th>\n",
              "      <th>county_375</th>\n",
              "      <th>county_376</th>\n",
              "      <th>county_377</th>\n",
              "      <th>county_378</th>\n",
              "      <th>county_379</th>\n",
              "      <th>county_380</th>\n",
              "      <th>county_381</th>\n",
              "      <th>county_382</th>\n",
              "      <th>county_383</th>\n",
              "      <th>county_384</th>\n",
              "      <th>county_385</th>\n",
              "      <th>county_386</th>\n",
              "      <th>basement_1</th>\n",
              "      <th>basement_2</th>\n",
              "      <th>basement_3</th>\n",
              "      <th>basement_4</th>\n",
              "      <th>activity</th>\n",
              "      <th>Uppm</th>\n",
              "      <th>adjwt</th>\n",
              "      <th>cntyfips</th>\n",
              "      <th>dupflag</th>\n",
              "      <th>floor</th>\n",
              "      <th>idnum</th>\n",
              "      <th>lat</th>\n",
              "      <th>lon</th>\n",
              "      <th>pcterr</th>\n",
              "      <th>region</th>\n",
              "      <th>rep</th>\n",
              "      <th>room</th>\n",
              "      <th>startdt</th>\n",
              "      <th>starttm</th>\n",
              "      <th>stfips</th>\n",
              "      <th>stopdt</th>\n",
              "      <th>stoptm</th>\n",
              "      <th>stratum</th>\n",
              "      <th>typebldg</th>\n",
              "      <th>wave</th>\n",
              "      <th>zip</th>\n",
              "      <th>zipflag</th>\n",
              "    </tr>\n",
              "  </thead>\n",
              "  <tbody>\n",
              "    <tr>\n",
              "      <th>0</th>\n",
              "      <td>1</td>\n",
              "      <td>0</td>\n",
              "      <td>1</td>\n",
              "      <td>0</td>\n",
              "      <td>0</td>\n",
              "      <td>0</td>\n",
              "      <td>0</td>\n",
              "      <td>0</td>\n",
              "      <td>0</td>\n",
              "      <td>0</td>\n",
              "      <td>0</td>\n",
              "      <td>1</td>\n",
              "      <td>0</td>\n",
              "      <td>0</td>\n",
              "      <td>0</td>\n",
              "      <td>0</td>\n",
              "      <td>0</td>\n",
              "      <td>0</td>\n",
              "      <td>0</td>\n",
              "      <td>0</td>\n",
              "      <td>0</td>\n",
              "      <td>0</td>\n",
              "      <td>0</td>\n",
              "      <td>1</td>\n",
              "      <td>0</td>\n",
              "      <td>0</td>\n",
              "      <td>0</td>\n",
              "      <td>0</td>\n",
              "      <td>0</td>\n",
              "      <td>0</td>\n",
              "      <td>0</td>\n",
              "      <td>0</td>\n",
              "      <td>0</td>\n",
              "      <td>0</td>\n",
              "      <td>0</td>\n",
              "      <td>0</td>\n",
              "      <td>0</td>\n",
              "      <td>0</td>\n",
              "      <td>0</td>\n",
              "      <td>0</td>\n",
              "      <td>...</td>\n",
              "      <td>0</td>\n",
              "      <td>0</td>\n",
              "      <td>0</td>\n",
              "      <td>0</td>\n",
              "      <td>0</td>\n",
              "      <td>0</td>\n",
              "      <td>0</td>\n",
              "      <td>0</td>\n",
              "      <td>0</td>\n",
              "      <td>0</td>\n",
              "      <td>0</td>\n",
              "      <td>0</td>\n",
              "      <td>0</td>\n",
              "      <td>0</td>\n",
              "      <td>0</td>\n",
              "      <td>1</td>\n",
              "      <td>0</td>\n",
              "      <td>1.6</td>\n",
              "      <td>2.49759</td>\n",
              "      <td>292.219543</td>\n",
              "      <td>3</td>\n",
              "      <td>0</td>\n",
              "      <td>1</td>\n",
              "      <td>1681</td>\n",
              "      <td>41.091000</td>\n",
              "      <td>-85.067001</td>\n",
              "      <td>12.7</td>\n",
              "      <td>2</td>\n",
              "      <td>3</td>\n",
              "      <td>2</td>\n",
              "      <td>11489</td>\n",
              "      <td>2230</td>\n",
              "      <td>18</td>\n",
              "      <td>11689</td>\n",
              "      <td>2235</td>\n",
              "      <td>2</td>\n",
              "      <td>1</td>\n",
              "      <td>92</td>\n",
              "      <td>46835</td>\n",
              "      <td>0</td>\n",
              "    </tr>\n",
              "    <tr>\n",
              "      <th>1</th>\n",
              "      <td>1</td>\n",
              "      <td>1</td>\n",
              "      <td>0</td>\n",
              "      <td>0</td>\n",
              "      <td>0</td>\n",
              "      <td>0</td>\n",
              "      <td>0</td>\n",
              "      <td>0</td>\n",
              "      <td>0</td>\n",
              "      <td>0</td>\n",
              "      <td>1</td>\n",
              "      <td>0</td>\n",
              "      <td>0</td>\n",
              "      <td>0</td>\n",
              "      <td>0</td>\n",
              "      <td>0</td>\n",
              "      <td>0</td>\n",
              "      <td>0</td>\n",
              "      <td>0</td>\n",
              "      <td>0</td>\n",
              "      <td>0</td>\n",
              "      <td>0</td>\n",
              "      <td>0</td>\n",
              "      <td>0</td>\n",
              "      <td>0</td>\n",
              "      <td>0</td>\n",
              "      <td>0</td>\n",
              "      <td>0</td>\n",
              "      <td>0</td>\n",
              "      <td>0</td>\n",
              "      <td>0</td>\n",
              "      <td>0</td>\n",
              "      <td>0</td>\n",
              "      <td>0</td>\n",
              "      <td>0</td>\n",
              "      <td>0</td>\n",
              "      <td>0</td>\n",
              "      <td>0</td>\n",
              "      <td>0</td>\n",
              "      <td>0</td>\n",
              "      <td>...</td>\n",
              "      <td>0</td>\n",
              "      <td>0</td>\n",
              "      <td>0</td>\n",
              "      <td>0</td>\n",
              "      <td>0</td>\n",
              "      <td>0</td>\n",
              "      <td>0</td>\n",
              "      <td>0</td>\n",
              "      <td>0</td>\n",
              "      <td>1</td>\n",
              "      <td>0</td>\n",
              "      <td>0</td>\n",
              "      <td>0</td>\n",
              "      <td>0</td>\n",
              "      <td>0</td>\n",
              "      <td>1</td>\n",
              "      <td>0</td>\n",
              "      <td>0.5</td>\n",
              "      <td>2.66527</td>\n",
              "      <td>364.958313</td>\n",
              "      <td>25</td>\n",
              "      <td>0</td>\n",
              "      <td>1</td>\n",
              "      <td>1457</td>\n",
              "      <td>34.599998</td>\n",
              "      <td>-112.554001</td>\n",
              "      <td>0.0</td>\n",
              "      <td>2</td>\n",
              "      <td>5</td>\n",
              "      <td>2</td>\n",
              "      <td>22688</td>\n",
              "      <td>833</td>\n",
              "      <td>4</td>\n",
              "      <td>22888</td>\n",
              "      <td>1010</td>\n",
              "      <td>2</td>\n",
              "      <td>1</td>\n",
              "      <td>56</td>\n",
              "      <td>86325</td>\n",
              "      <td>0</td>\n",
              "    </tr>\n",
              "    <tr>\n",
              "      <th>2</th>\n",
              "      <td>1</td>\n",
              "      <td>0</td>\n",
              "      <td>0</td>\n",
              "      <td>1</td>\n",
              "      <td>0</td>\n",
              "      <td>0</td>\n",
              "      <td>0</td>\n",
              "      <td>0</td>\n",
              "      <td>0</td>\n",
              "      <td>0</td>\n",
              "      <td>0</td>\n",
              "      <td>0</td>\n",
              "      <td>1</td>\n",
              "      <td>0</td>\n",
              "      <td>0</td>\n",
              "      <td>0</td>\n",
              "      <td>0</td>\n",
              "      <td>0</td>\n",
              "      <td>0</td>\n",
              "      <td>0</td>\n",
              "      <td>0</td>\n",
              "      <td>0</td>\n",
              "      <td>0</td>\n",
              "      <td>0</td>\n",
              "      <td>0</td>\n",
              "      <td>0</td>\n",
              "      <td>0</td>\n",
              "      <td>0</td>\n",
              "      <td>0</td>\n",
              "      <td>0</td>\n",
              "      <td>0</td>\n",
              "      <td>0</td>\n",
              "      <td>0</td>\n",
              "      <td>0</td>\n",
              "      <td>0</td>\n",
              "      <td>0</td>\n",
              "      <td>0</td>\n",
              "      <td>0</td>\n",
              "      <td>0</td>\n",
              "      <td>0</td>\n",
              "      <td>...</td>\n",
              "      <td>0</td>\n",
              "      <td>0</td>\n",
              "      <td>0</td>\n",
              "      <td>0</td>\n",
              "      <td>0</td>\n",
              "      <td>0</td>\n",
              "      <td>0</td>\n",
              "      <td>0</td>\n",
              "      <td>0</td>\n",
              "      <td>0</td>\n",
              "      <td>0</td>\n",
              "      <td>0</td>\n",
              "      <td>0</td>\n",
              "      <td>0</td>\n",
              "      <td>0</td>\n",
              "      <td>0</td>\n",
              "      <td>1</td>\n",
              "      <td>3.0</td>\n",
              "      <td>2.43343</td>\n",
              "      <td>626.564575</td>\n",
              "      <td>17</td>\n",
              "      <td>0</td>\n",
              "      <td>0</td>\n",
              "      <td>4224</td>\n",
              "      <td>42.485001</td>\n",
              "      <td>-71.391998</td>\n",
              "      <td>9.7</td>\n",
              "      <td>6</td>\n",
              "      <td>1</td>\n",
              "      <td>2</td>\n",
              "      <td>32288</td>\n",
              "      <td>1000</td>\n",
              "      <td>25</td>\n",
              "      <td>32488</td>\n",
              "      <td>1000</td>\n",
              "      <td>1</td>\n",
              "      <td>1</td>\n",
              "      <td>23</td>\n",
              "      <td>1778</td>\n",
              "      <td>0</td>\n",
              "    </tr>\n",
              "    <tr>\n",
              "      <th>3</th>\n",
              "      <td>1</td>\n",
              "      <td>0</td>\n",
              "      <td>0</td>\n",
              "      <td>1</td>\n",
              "      <td>0</td>\n",
              "      <td>0</td>\n",
              "      <td>0</td>\n",
              "      <td>0</td>\n",
              "      <td>0</td>\n",
              "      <td>0</td>\n",
              "      <td>0</td>\n",
              "      <td>0</td>\n",
              "      <td>1</td>\n",
              "      <td>0</td>\n",
              "      <td>0</td>\n",
              "      <td>0</td>\n",
              "      <td>0</td>\n",
              "      <td>0</td>\n",
              "      <td>0</td>\n",
              "      <td>0</td>\n",
              "      <td>0</td>\n",
              "      <td>0</td>\n",
              "      <td>0</td>\n",
              "      <td>0</td>\n",
              "      <td>0</td>\n",
              "      <td>0</td>\n",
              "      <td>0</td>\n",
              "      <td>0</td>\n",
              "      <td>0</td>\n",
              "      <td>0</td>\n",
              "      <td>0</td>\n",
              "      <td>0</td>\n",
              "      <td>0</td>\n",
              "      <td>0</td>\n",
              "      <td>0</td>\n",
              "      <td>0</td>\n",
              "      <td>0</td>\n",
              "      <td>0</td>\n",
              "      <td>0</td>\n",
              "      <td>0</td>\n",
              "      <td>...</td>\n",
              "      <td>0</td>\n",
              "      <td>0</td>\n",
              "      <td>0</td>\n",
              "      <td>0</td>\n",
              "      <td>0</td>\n",
              "      <td>0</td>\n",
              "      <td>0</td>\n",
              "      <td>0</td>\n",
              "      <td>0</td>\n",
              "      <td>0</td>\n",
              "      <td>0</td>\n",
              "      <td>0</td>\n",
              "      <td>0</td>\n",
              "      <td>0</td>\n",
              "      <td>0</td>\n",
              "      <td>1</td>\n",
              "      <td>0</td>\n",
              "      <td>0.6</td>\n",
              "      <td>2.43343</td>\n",
              "      <td>570.611755</td>\n",
              "      <td>17</td>\n",
              "      <td>0</td>\n",
              "      <td>1</td>\n",
              "      <td>4094</td>\n",
              "      <td>42.485001</td>\n",
              "      <td>-71.391998</td>\n",
              "      <td>27.6</td>\n",
              "      <td>6</td>\n",
              "      <td>3</td>\n",
              "      <td>3</td>\n",
              "      <td>32488</td>\n",
              "      <td>700</td>\n",
              "      <td>25</td>\n",
              "      <td>32688</td>\n",
              "      <td>1200</td>\n",
              "      <td>1</td>\n",
              "      <td>1</td>\n",
              "      <td>62</td>\n",
              "      <td>1432</td>\n",
              "      <td>0</td>\n",
              "    </tr>\n",
              "    <tr>\n",
              "      <th>4</th>\n",
              "      <td>1</td>\n",
              "      <td>0</td>\n",
              "      <td>0</td>\n",
              "      <td>0</td>\n",
              "      <td>0</td>\n",
              "      <td>0</td>\n",
              "      <td>1</td>\n",
              "      <td>0</td>\n",
              "      <td>0</td>\n",
              "      <td>0</td>\n",
              "      <td>0</td>\n",
              "      <td>0</td>\n",
              "      <td>0</td>\n",
              "      <td>0</td>\n",
              "      <td>1</td>\n",
              "      <td>0</td>\n",
              "      <td>0</td>\n",
              "      <td>0</td>\n",
              "      <td>0</td>\n",
              "      <td>0</td>\n",
              "      <td>0</td>\n",
              "      <td>0</td>\n",
              "      <td>0</td>\n",
              "      <td>0</td>\n",
              "      <td>0</td>\n",
              "      <td>0</td>\n",
              "      <td>0</td>\n",
              "      <td>0</td>\n",
              "      <td>0</td>\n",
              "      <td>0</td>\n",
              "      <td>0</td>\n",
              "      <td>0</td>\n",
              "      <td>0</td>\n",
              "      <td>0</td>\n",
              "      <td>0</td>\n",
              "      <td>0</td>\n",
              "      <td>0</td>\n",
              "      <td>0</td>\n",
              "      <td>0</td>\n",
              "      <td>0</td>\n",
              "      <td>...</td>\n",
              "      <td>0</td>\n",
              "      <td>0</td>\n",
              "      <td>0</td>\n",
              "      <td>0</td>\n",
              "      <td>0</td>\n",
              "      <td>0</td>\n",
              "      <td>0</td>\n",
              "      <td>0</td>\n",
              "      <td>0</td>\n",
              "      <td>0</td>\n",
              "      <td>0</td>\n",
              "      <td>0</td>\n",
              "      <td>0</td>\n",
              "      <td>0</td>\n",
              "      <td>0</td>\n",
              "      <td>0</td>\n",
              "      <td>1</td>\n",
              "      <td>1.2</td>\n",
              "      <td>2.10811</td>\n",
              "      <td>426.798859</td>\n",
              "      <td>95</td>\n",
              "      <td>0</td>\n",
              "      <td>0</td>\n",
              "      <td>6849</td>\n",
              "      <td>39.007999</td>\n",
              "      <td>-94.347000</td>\n",
              "      <td>23.5</td>\n",
              "      <td>1</td>\n",
              "      <td>3</td>\n",
              "      <td>4</td>\n",
              "      <td>32288</td>\n",
              "      <td>605</td>\n",
              "      <td>29</td>\n",
              "      <td>32488</td>\n",
              "      <td>610</td>\n",
              "      <td>2</td>\n",
              "      <td>1</td>\n",
              "      <td>91</td>\n",
              "      <td>64134</td>\n",
              "      <td>0</td>\n",
              "    </tr>\n",
              "  </tbody>\n",
              "</table>\n",
              "<p>5 rows × 431 columns</p>\n",
              "</div>"
            ],
            "text/plain": [
              "   windoor_1  state2_1  state2_2  state2_3  ...  typebldg  wave    zip  zipflag\n",
              "0          1         0         1         0  ...         1    92  46835        0\n",
              "1          1         1         0         0  ...         1    56  86325        0\n",
              "2          1         0         0         1  ...         1    23   1778        0\n",
              "3          1         0         0         1  ...         1    62   1432        0\n",
              "4          1         0         0         0  ...         1    91  64134        0\n",
              "\n",
              "[5 rows x 431 columns]"
            ]
          },
          "metadata": {
            "tags": []
          }
        },
        {
          "output_type": "display_data",
          "data": {
            "application/vnd.google.colaboratory.intrinsic+json": {
              "type": "string"
            },
            "text/plain": [
              "'y_col:activity'"
            ]
          },
          "metadata": {
            "tags": []
          }
        },
        {
          "output_type": "display_data",
          "data": {
            "application/vnd.google.colaboratory.intrinsic+json": {
              "type": "string"
            },
            "text/plain": [
              "\"x_cols num:430, names:Index(['windoor_1', 'state2_1', 'state2_2', 'state2_3', 'state2_4', 'state2_5',\\n       'state2_6', 'state2_7', 'state2_8', 'state2_9',\\n       ...\\n       'startdt', 'starttm', 'stfips', 'stopdt', 'stoptm', 'stratum',\\n       'typebldg', 'wave', 'zip', 'zipflag'],\\n      dtype='object', length=430)\""
            ]
          },
          "metadata": {
            "tags": []
          }
        },
        {
          "output_type": "stream",
          "text": [
            "CPU times: user 455 ms, sys: 21.4 ms, total: 476 ms\n",
            "Wall time: 480 ms\n"
          ],
          "name": "stdout"
        }
      ]
    },
    {
      "cell_type": "markdown",
      "metadata": {
        "id": "Sd3VLs0zRRTC"
      },
      "source": [
        "## データ分割"
      ]
    },
    {
      "cell_type": "code",
      "metadata": {
        "id": "BQU2-FY6RTIN",
        "outputId": "517fb78d-61c0-487f-c08e-5b90e5d6832c",
        "colab": {
          "base_uri": "https://localhost:8080/",
          "height": 125
        }
      },
      "source": [
        "SEED = 7 #@param{type:'number'}\n",
        "\n",
        "X_train, X_test, y_train, y_test = train_test_split(dataset[x_cols], dataset[y_col],\n",
        "                                                    test_size=0.2, random_state=SEED)\n",
        "X_train, X_val, y_train, y_val = train_test_split(X_train, y_train,\n",
        "                                                  test_size=0.2, random_state=SEED)\n",
        "\n",
        "display(X_train.shape, y_train.shape)\n",
        "display(X_val.shape, y_val.shape)\n",
        "display(X_test.shape, y_test.shape)"
      ],
      "execution_count": null,
      "outputs": [
        {
          "output_type": "display_data",
          "data": {
            "text/plain": [
              "(8046, 430)"
            ]
          },
          "metadata": {
            "tags": []
          }
        },
        {
          "output_type": "display_data",
          "data": {
            "text/plain": [
              "(8046,)"
            ]
          },
          "metadata": {
            "tags": []
          }
        },
        {
          "output_type": "display_data",
          "data": {
            "text/plain": [
              "(2012, 430)"
            ]
          },
          "metadata": {
            "tags": []
          }
        },
        {
          "output_type": "display_data",
          "data": {
            "text/plain": [
              "(2012,)"
            ]
          },
          "metadata": {
            "tags": []
          }
        },
        {
          "output_type": "display_data",
          "data": {
            "text/plain": [
              "(2515, 430)"
            ]
          },
          "metadata": {
            "tags": []
          }
        },
        {
          "output_type": "display_data",
          "data": {
            "text/plain": [
              "(2515,)"
            ]
          },
          "metadata": {
            "tags": []
          }
        }
      ]
    },
    {
      "cell_type": "markdown",
      "metadata": {
        "id": "Gf7PO8NVnydA"
      },
      "source": [
        "## WideDeepモデル作成"
      ]
    },
    {
      "cell_type": "code",
      "metadata": {
        "id": "56xUd4jakH-Q",
        "outputId": "eaff08d3-8239-4ebf-d618-1642ecebe218",
        "colab": {
          "base_uri": "https://localhost:8080/",
          "height": 71
        }
      },
      "source": [
        "%%time\n",
        "def take_dnn_cols(X_cols, linear_cols):\n",
        "    '''DNN用のカラム名を返す\n",
        "    INFO : WideDeepModel用'''\n",
        "    return set(X_cols) ^ set(linear_cols)\n",
        "\n",
        "\n",
        "def WideDeep_fn(X_train_dnn, input_shape_dnn, dropout_seed_dnn):\n",
        "    '''WideDeepModelの定義'''\n",
        "\n",
        "    def _LinearModel_fn():\n",
        "        '''線形回帰モデルの定義'''\n",
        "        linear_model = LinearModel()\n",
        "        return linear_model\n",
        "\n",
        "    def _DNNModel_fn(input_shape, dropout_seed, X_train):\n",
        "        '''DNNモデルの定義'''\n",
        "\n",
        "        def _initialize_std_layer(X_train):\n",
        "            '''標準化層の初期化'''\n",
        "            norm_layer = Normalization()\n",
        "            norm_layer.adapt(X_train)\n",
        "            return norm_layer\n",
        "        \n",
        "        dnn_model = Sequential()\n",
        "        dnn_model.add(Input(shape=input_shape))\n",
        "        \n",
        "        # 標準化レイヤーの追加\n",
        "        std_layer = _initialize_std_layer(X_train)\n",
        "        dnn_model.add(std_layer)\n",
        "\n",
        "        # データ解析レイヤーの追加\n",
        "        dnn_model.add(layers.Dense(units=64, activation='relu'))\n",
        "        dnn_model.add(layers.Dropout(rate=0.3, seed=dropout_seed))\n",
        "        dnn_model.add(layers.Dense(units=128, activation='relu'))\n",
        "        dnn_model.add(layers.Dropout(rate=0.3, seed=dropout_seed))\n",
        "\n",
        "        # 出力レイヤーの追加\n",
        "        dnn_model.add(layers.Dense(units=1))\n",
        "        return dnn_model\n",
        "\n",
        "\n",
        "    linear_model = _LinearModel_fn()\n",
        "    dnn_model = _DNNModel_fn(input_shape=input_shape_dnn, \n",
        "                             dropout_seed=dropout_seed_dnn,\n",
        "                             X_train=X_train_dnn)\n",
        "    \n",
        "    combined_model = WideDeepModel(linear_model, dnn_model)\n",
        "\n",
        "    # 勾配アルゴリズム(線形モデル用, 深層モデル用), 損失関数, 評価関数\n",
        "    combined_model.compile(optimizer=['sgd', 'adam'],loss='mse', metrics=['RootMeanSquaredError'])\n",
        "    \n",
        "    return combined_model\n",
        "\n",
        "\n",
        "# DNNモデルの入力に使用する特徴量の取得\n",
        "X_cols = list(ds_info.features['features'].keys())\n",
        "dnn_cols = take_dnn_cols(X_cols=X_cols, linear_cols=encode_cols)\n",
        "X_train_dnn = X_train.loc[:, dnn_cols].values,\n",
        "dnn_input_shape = (X_train.loc[:, dnn_cols].shape[1], )\n",
        "\n",
        "# 線形回帰モデルが使用する特徴量名の取得\n",
        "linear_cols = X_train.drop(columns=dnn_cols).columns\n",
        "\n",
        "\n",
        "# モデル定義\n",
        "regressor = WideDeep_fn(X_train_dnn=X_train_dnn, \n",
        "                        input_shape_dnn=dnn_input_shape,\n",
        "                        dropout_seed_dnn=SEED)\n",
        "\n",
        "display(regressor)\n",
        "\n",
        "\n",
        "def X_data_WideDeep_fn(X_df, linear_cols, dnn_cols):\n",
        "    '''WideDeepモデル用の特徴量データセットの作成'''\n",
        "    return [X_df[linear_cols].values, X_df[dnn_cols].values]\n",
        "\n",
        "\n",
        "X_train_WideDeep = X_data_WideDeep_fn(X_df=X_train, linear_cols=linear_cols, dnn_cols=dnn_cols)\n",
        "X_val_WideDeep = X_data_WideDeep_fn(X_df=X_val, linear_cols=linear_cols, dnn_cols=dnn_cols)\n",
        "X_test_WideDeep = X_data_WideDeep_fn(X_df=X_test, linear_cols=linear_cols, dnn_cols=dnn_cols)"
      ],
      "execution_count": null,
      "outputs": [
        {
          "output_type": "display_data",
          "data": {
            "text/plain": [
              "<tensorflow.python.keras.premade.wide_deep.WideDeepModel at 0x7f0052c41be0>"
            ]
          },
          "metadata": {
            "tags": []
          }
        },
        {
          "output_type": "stream",
          "text": [
            "CPU times: user 157 ms, sys: 2.99 ms, total: 160 ms\n",
            "Wall time: 159 ms\n"
          ],
          "name": "stdout"
        }
      ]
    },
    {
      "cell_type": "code",
      "metadata": {
        "id": "Sp3b59hAffCK"
      },
      "source": [
        "EPOCH =   700#@param{type:'number'}\n",
        "BATCH_SIZE = 256 #@param{type:'number'}\n",
        "\n",
        "# 早期停止コールバックの定義\n",
        "es = EarlyStopping(monitor='val_loss',\n",
        "                   patience=5)"
      ],
      "execution_count": null,
      "outputs": []
    },
    {
      "cell_type": "code",
      "metadata": {
        "id": "sYQgzVjVm0Te",
        "outputId": "c30396e4-74fe-4911-c0ec-5e77c3ca56b7",
        "colab": {
          "base_uri": "https://localhost:8080/"
        }
      },
      "source": [
        "%%time\n",
        "regressor.fit(x=X_train_WideDeep,\n",
        "              y=y_train.values,\n",
        "              epochs=EPOCH,\n",
        "              batch_size=BATCH_SIZE,\n",
        "              validation_data=(X_val_WideDeep, y_val.values),\n",
        "              callbacks=[es]\n",
        "              )"
      ],
      "execution_count": null,
      "outputs": [
        {
          "output_type": "stream",
          "text": [
            "Epoch 1/700\n",
            "32/32 [==============================] - 0s 10ms/step - loss: 97.0613 - root_mean_squared_error: 9.8840 - val_loss: 74.3943 - val_root_mean_squared_error: 8.6164\n",
            "Epoch 2/700\n",
            "32/32 [==============================] - 0s 5ms/step - loss: 93.9280 - root_mean_squared_error: 9.6929 - val_loss: 73.8273 - val_root_mean_squared_error: 8.5833\n",
            "Epoch 3/700\n",
            "32/32 [==============================] - 0s 4ms/step - loss: 93.5501 - root_mean_squared_error: 9.4780 - val_loss: 73.7041 - val_root_mean_squared_error: 8.5761\n",
            "Epoch 4/700\n",
            "32/32 [==============================] - 0s 4ms/step - loss: 93.4357 - root_mean_squared_error: 9.6735 - val_loss: 73.6575 - val_root_mean_squared_error: 8.5733\n",
            "Epoch 5/700\n",
            "32/32 [==============================] - 0s 4ms/step - loss: 93.3695 - root_mean_squared_error: 9.6715 - val_loss: 73.7050 - val_root_mean_squared_error: 8.5761\n",
            "Epoch 6/700\n",
            "32/32 [==============================] - 0s 4ms/step - loss: 93.3346 - root_mean_squared_error: 9.6904 - val_loss: 73.6560 - val_root_mean_squared_error: 8.5733\n",
            "Epoch 7/700\n",
            "32/32 [==============================] - 0s 4ms/step - loss: 93.2916 - root_mean_squared_error: 9.6914 - val_loss: 73.6403 - val_root_mean_squared_error: 8.5723\n",
            "Epoch 8/700\n",
            "32/32 [==============================] - 0s 4ms/step - loss: 93.2916 - root_mean_squared_error: 9.6877 - val_loss: 73.7080 - val_root_mean_squared_error: 8.5763\n",
            "Epoch 9/700\n",
            "32/32 [==============================] - 0s 5ms/step - loss: 93.2550 - root_mean_squared_error: 9.6317 - val_loss: 73.6051 - val_root_mean_squared_error: 8.5703\n",
            "Epoch 10/700\n",
            "32/32 [==============================] - 0s 4ms/step - loss: 93.2138 - root_mean_squared_error: 9.6426 - val_loss: 73.8202 - val_root_mean_squared_error: 8.5829\n",
            "Epoch 11/700\n",
            "32/32 [==============================] - 0s 4ms/step - loss: 93.1955 - root_mean_squared_error: 9.6535 - val_loss: 73.5848 - val_root_mean_squared_error: 8.5691\n",
            "Epoch 12/700\n",
            "32/32 [==============================] - 0s 4ms/step - loss: 93.2115 - root_mean_squared_error: 9.6873 - val_loss: 73.6880 - val_root_mean_squared_error: 8.5752\n",
            "Epoch 13/700\n",
            "32/32 [==============================] - 0s 4ms/step - loss: 93.2032 - root_mean_squared_error: 9.6835 - val_loss: 73.7128 - val_root_mean_squared_error: 8.5766\n",
            "Epoch 14/700\n",
            "32/32 [==============================] - 0s 4ms/step - loss: 93.2008 - root_mean_squared_error: 9.6560 - val_loss: 73.6344 - val_root_mean_squared_error: 8.5720\n",
            "Epoch 15/700\n",
            "32/32 [==============================] - 0s 4ms/step - loss: 93.1663 - root_mean_squared_error: 9.6731 - val_loss: 73.6224 - val_root_mean_squared_error: 8.5713\n",
            "Epoch 16/700\n",
            "32/32 [==============================] - 0s 4ms/step - loss: 93.1533 - root_mean_squared_error: 9.6629 - val_loss: 73.5844 - val_root_mean_squared_error: 8.5691\n",
            "Epoch 17/700\n",
            "32/32 [==============================] - 0s 4ms/step - loss: 93.1770 - root_mean_squared_error: 9.5687 - val_loss: 73.5934 - val_root_mean_squared_error: 8.5696\n",
            "Epoch 18/700\n",
            "32/32 [==============================] - 0s 4ms/step - loss: 93.1469 - root_mean_squared_error: 9.6321 - val_loss: 73.5828 - val_root_mean_squared_error: 8.5690\n",
            "Epoch 19/700\n",
            "32/32 [==============================] - 0s 4ms/step - loss: 93.1412 - root_mean_squared_error: 9.4923 - val_loss: 73.7110 - val_root_mean_squared_error: 8.5765\n",
            "Epoch 20/700\n",
            "32/32 [==============================] - 0s 4ms/step - loss: 93.1560 - root_mean_squared_error: 9.5885 - val_loss: 73.6270 - val_root_mean_squared_error: 8.5716\n",
            "Epoch 21/700\n",
            "32/32 [==============================] - 0s 4ms/step - loss: 93.1558 - root_mean_squared_error: 9.6807 - val_loss: 73.6201 - val_root_mean_squared_error: 8.5712\n",
            "Epoch 22/700\n",
            "32/32 [==============================] - 0s 4ms/step - loss: 93.1473 - root_mean_squared_error: 9.4463 - val_loss: 73.6005 - val_root_mean_squared_error: 8.5700\n",
            "Epoch 23/700\n",
            "32/32 [==============================] - 0s 4ms/step - loss: 93.1318 - root_mean_squared_error: 9.6168 - val_loss: 73.5865 - val_root_mean_squared_error: 8.5692\n",
            "CPU times: user 5.07 s, sys: 380 ms, total: 5.45 s\n",
            "Wall time: 4.03 s\n"
          ],
          "name": "stdout"
        },
        {
          "output_type": "execute_result",
          "data": {
            "text/plain": [
              "<tensorflow.python.keras.callbacks.History at 0x7f0052c3c5c0>"
            ]
          },
          "metadata": {
            "tags": []
          },
          "execution_count": 109
        }
      ]
    },
    {
      "cell_type": "markdown",
      "metadata": {
        "id": "ySRNiwwi_7Yt"
      },
      "source": [
        "# モデルの構造を可視化"
      ]
    },
    {
      "cell_type": "code",
      "metadata": {
        "id": "nFD62eAC_9ry",
        "outputId": "58875c00-6998-4acc-f6ea-c95a31532f6e",
        "colab": {
          "base_uri": "https://localhost:8080/",
          "height": 311
        }
      },
      "source": [
        "def display_model(model):\n",
        "    '''モデルの構造を表示'''\n",
        "    display(plot_model(model))\n",
        "    display(model.summary())\n",
        "\n",
        "display_model(model=regressor)"
      ],
      "execution_count": null,
      "outputs": [
        {
          "output_type": "display_data",
          "data": {
            "image/png": "[encoded data removed]",
            "text/plain": [
              "<IPython.core.display.Image object>"
            ]
          },
          "metadata": {
            "tags": []
          }
        },
        {
          "output_type": "stream",
          "text": [
            "Model: \"wide_deep_model_12\"\n",
            "_________________________________________________________________\n",
            "Layer (type)                 Output Shape              Param #   \n",
            "=================================================================\n",
            "linear_model_13 (LinearModel multiple                  409       \n",
            "_________________________________________________________________\n",
            "sequential_13 (Sequential)   (1, None, 1)              9966      \n",
            "=================================================================\n",
            "Total params: 10,375\n",
            "Trainable params: 10,330\n",
            "Non-trainable params: 45\n",
            "_________________________________________________________________\n"
          ],
          "name": "stdout"
        },
        {
          "output_type": "display_data",
          "data": {
            "text/plain": [
              "None"
            ]
          },
          "metadata": {
            "tags": []
          }
        }
      ]
    },
    {
      "cell_type": "markdown",
      "metadata": {
        "id": "GZlcWQe2zUUQ"
      },
      "source": [
        "## モデルの評価"
      ]
    },
    {
      "cell_type": "markdown",
      "metadata": {
        "id": "okON7VZn0Vh9"
      },
      "source": [
        "### Kerasの組み込み評価関数"
      ]
    },
    {
      "cell_type": "code",
      "metadata": {
        "id": "IUeyyuJgwhwb",
        "outputId": "08772364-9948-4ae4-8a76-7ee42da03c4c",
        "colab": {
          "base_uri": "https://localhost:8080/",
          "height": 90
        }
      },
      "source": [
        "%%time\n",
        "score = regressor.evaluate(x=X_test_WideDeep, y=y_test, batch_size=BATCH_SIZE)\n",
        "display('loss : {}, metric : {}'.format(score[0], score[1]))"
      ],
      "execution_count": null,
      "outputs": [
        {
          "output_type": "stream",
          "text": [
            "10/10 [==============================] - 0s 2ms/step - loss: 70.1850 - root_mean_squared_error: 8.3778\n"
          ],
          "name": "stdout"
        },
        {
          "output_type": "display_data",
          "data": {
            "application/vnd.google.colaboratory.intrinsic+json": {
              "type": "string"
            },
            "text/plain": [
              "'loss : 70.18504333496094, metric : 8.377843856811523'"
            ]
          },
          "metadata": {
            "tags": []
          }
        },
        {
          "output_type": "stream",
          "text": [
            "CPU times: user 80.2 ms, sys: 2.93 ms, total: 83.1 ms\n",
            "Wall time: 81.1 ms\n"
          ],
          "name": "stdout"
        }
      ]
    },
    {
      "cell_type": "code",
      "metadata": {
        "id": "w0c0doogV4CV",
        "outputId": "69fa849a-feab-499d-c484-8355cff491ec",
        "colab": {
          "base_uri": "https://localhost:8080/"
        }
      },
      "source": [
        "# predict_on_batchメソッドだとバッチ推論可能\n",
        "regressor.predict_on_batch(X_test_WideDeep)"
      ],
      "execution_count": null,
      "outputs": [
        {
          "output_type": "execute_result",
          "data": {
            "text/plain": [
              "array([[[4.4957223],\n",
              "        [4.50909  ],\n",
              "        [4.527225 ],\n",
              "        ...,\n",
              "        [4.4551497],\n",
              "        [4.587219 ],\n",
              "        [4.341889 ]]], dtype=float32)"
            ]
          },
          "metadata": {
            "tags": []
          },
          "execution_count": 112
        }
      ]
    },
    {
      "cell_type": "markdown",
      "metadata": {
        "id": "I4QLEqO10av1"
      },
      "source": [
        "### sklearnの評価関数"
      ]
    },
    {
      "cell_type": "code",
      "metadata": {
        "id": "40JuPQtP0cm4",
        "outputId": "de83e9ad-7a95-48c8-e9ec-379434027eb9",
        "colab": {
          "base_uri": "https://localhost:8080/"
        }
      },
      "source": [
        "%%time\n",
        "def _calc_score(y_true, y_pred, sklearn_metric):\n",
        "  '''sklearnの評価指標のスコアを計算'''\n",
        "  score = sklearn_metric(y_true=y_true, y_pred=y_pred)\n",
        "  return score\n",
        "\n",
        "\n",
        "def evaluete_sk_metrics(y_true, y_pred, sklearn_metrics):\n",
        "  '''sklearnの各種、評価関数を使用'''\n",
        "  result = {}\n",
        "  for sk_metric in sklearn_metrics:\n",
        "    result[sk_metric.__name__] = _calc_score(y_true=y_true, y_pred=y_pred, sklearn_metric=sk_metric)\n",
        "  return result\n",
        "\n",
        "\n",
        "SK_METRICS=[r2_score, explained_variance_score, mean_squared_error]\n",
        "eval_scores = {'train': {}, 'val': {}, 'test': {}}\n",
        "\n",
        "for key, X, y_true in zip(['train', 'val', 'test'], [X_train_WideDeep, X_val_WideDeep, X_test_WideDeep], [y_train, y_val, y_test]):\n",
        "  y_pred = regressor.predict_on_batch(x=X)[0]\n",
        "  eval_scores[key] = evaluete_sk_metrics(y_true=y_true, y_pred=y_pred, sklearn_metrics=SK_METRICS)\n",
        "pprint.pprint(eval_scores)"
      ],
      "execution_count": null,
      "outputs": [
        {
          "output_type": "stream",
          "text": [
            "{'test': {'explained_variance_score': 0.0018113255500793457,\n",
            "          'mean_squared_error': 70.0462,\n",
            "          'r2_score': 0.0016165912747656552},\n",
            " 'train': {'explained_variance_score': 0.0014396309852600098,\n",
            "           'mean_squared_error': 92.93496,\n",
            "           'r2_score': 0.0014384219800466225},\n",
            " 'val': {'explained_variance_score': 0.0027590394020080566,\n",
            "         'mean_squared_error': 73.3762,\n",
            "         'r2_score': 0.0025483242614464663}}\n",
            "CPU times: user 233 ms, sys: 12.4 ms, total: 245 ms\n",
            "Wall time: 218 ms\n"
          ],
          "name": "stdout"
        }
      ]
    },
    {
      "cell_type": "code",
      "metadata": {
        "id": "ewYntyLxTLm5"
      },
      "source": [
        ""
      ],
      "execution_count": null,
      "outputs": []
    }
  ]
}