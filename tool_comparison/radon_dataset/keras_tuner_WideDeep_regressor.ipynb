{
  "nbformat": 4,
  "nbformat_minor": 0,
  "metadata": {
    "colab": {
      "name": "keras_tuner_WideDeep_regressor.ipynb",
      "provenance": [],
      "collapsed_sections": [],
      "toc_visible": true,
      "mount_file_id": "1RTS6hMpaNmve_uffMvbDzzQhzyUxZESF",
      "authorship_tag": "ABX9TyNahtmQND4V9ekUMIT7BIjP",
      "include_colab_link": true
    },
    "kernelspec": {
      "name": "python3",
      "display_name": "Python 3"
    },
    "widgets": {
      "application/vnd.jupyter.widget-state+json": {
        "4c57355884814d29b28297717ab3a765": {
          "model_module": "@jupyter-widgets/controls",
          "model_name": "HBoxModel",
          "state": {
            "_view_name": "HBoxView",
            "_dom_classes": [],
            "_model_name": "HBoxModel",
            "_view_module": "@jupyter-widgets/controls",
            "_model_module_version": "1.5.0",
            "_view_count": null,
            "_view_module_version": "1.5.0",
            "box_style": "",
            "layout": "IPY_MODEL_156f836c6a584f989ee04b2d9af9a6f1",
            "_model_module": "@jupyter-widgets/controls",
            "children": [
              "IPY_MODEL_06b555fd193540a8945371286a897a78",
              "IPY_MODEL_bac333a9bff14133a4c674d834e77ed3"
            ]
          }
        },
        "156f836c6a584f989ee04b2d9af9a6f1": {
          "model_module": "@jupyter-widgets/base",
          "model_name": "LayoutModel",
          "state": {
            "_view_name": "LayoutView",
            "grid_template_rows": null,
            "right": null,
            "justify_content": null,
            "_view_module": "@jupyter-widgets/base",
            "overflow": null,
            "_model_module_version": "1.2.0",
            "_view_count": null,
            "flex_flow": null,
            "width": null,
            "min_width": null,
            "border": null,
            "align_items": null,
            "bottom": null,
            "_model_module": "@jupyter-widgets/base",
            "top": null,
            "grid_column": null,
            "overflow_y": null,
            "overflow_x": null,
            "grid_auto_flow": null,
            "grid_area": null,
            "grid_template_columns": null,
            "flex": null,
            "_model_name": "LayoutModel",
            "justify_items": null,
            "grid_row": null,
            "max_height": null,
            "align_content": null,
            "visibility": null,
            "align_self": null,
            "height": null,
            "min_height": null,
            "padding": null,
            "grid_auto_rows": null,
            "grid_gap": null,
            "max_width": null,
            "order": null,
            "_view_module_version": "1.2.0",
            "grid_template_areas": null,
            "object_position": null,
            "object_fit": null,
            "grid_auto_columns": null,
            "margin": null,
            "display": null,
            "left": null
          }
        },
        "06b555fd193540a8945371286a897a78": {
          "model_module": "@jupyter-widgets/controls",
          "model_name": "FloatProgressModel",
          "state": {
            "_view_name": "ProgressView",
            "style": "IPY_MODEL_f220d1a1c41447df90ac9662500310b6",
            "_dom_classes": [],
            "description": "Dl Completed...: 100%",
            "_model_name": "FloatProgressModel",
            "bar_style": "success",
            "max": 1,
            "_view_module": "@jupyter-widgets/controls",
            "_model_module_version": "1.5.0",
            "value": 1,
            "_view_count": null,
            "_view_module_version": "1.5.0",
            "orientation": "horizontal",
            "min": 0,
            "description_tooltip": null,
            "_model_module": "@jupyter-widgets/controls",
            "layout": "IPY_MODEL_7cd5d3b7638c4486bbccc5746f45668f"
          }
        },
        "bac333a9bff14133a4c674d834e77ed3": {
          "model_module": "@jupyter-widgets/controls",
          "model_name": "HTMLModel",
          "state": {
            "_view_name": "HTMLView",
            "style": "IPY_MODEL_89ee4ab17d8c46e5b57ce56d7f9fc73a",
            "_dom_classes": [],
            "description": "",
            "_model_name": "HTMLModel",
            "placeholder": "​",
            "_view_module": "@jupyter-widgets/controls",
            "_model_module_version": "1.5.0",
            "value": " 2/2 [00:00&lt;00:00,  6.73 url/s]",
            "_view_count": null,
            "_view_module_version": "1.5.0",
            "description_tooltip": null,
            "_model_module": "@jupyter-widgets/controls",
            "layout": "IPY_MODEL_87afdb15ff244407bd5d3d5537435785"
          }
        },
        "f220d1a1c41447df90ac9662500310b6": {
          "model_module": "@jupyter-widgets/controls",
          "model_name": "ProgressStyleModel",
          "state": {
            "_view_name": "StyleView",
            "_model_name": "ProgressStyleModel",
            "description_width": "initial",
            "_view_module": "@jupyter-widgets/base",
            "_model_module_version": "1.5.0",
            "_view_count": null,
            "_view_module_version": "1.2.0",
            "bar_color": null,
            "_model_module": "@jupyter-widgets/controls"
          }
        },
        "7cd5d3b7638c4486bbccc5746f45668f": {
          "model_module": "@jupyter-widgets/base",
          "model_name": "LayoutModel",
          "state": {
            "_view_name": "LayoutView",
            "grid_template_rows": null,
            "right": null,
            "justify_content": null,
            "_view_module": "@jupyter-widgets/base",
            "overflow": null,
            "_model_module_version": "1.2.0",
            "_view_count": null,
            "flex_flow": null,
            "width": null,
            "min_width": null,
            "border": null,
            "align_items": null,
            "bottom": null,
            "_model_module": "@jupyter-widgets/base",
            "top": null,
            "grid_column": null,
            "overflow_y": null,
            "overflow_x": null,
            "grid_auto_flow": null,
            "grid_area": null,
            "grid_template_columns": null,
            "flex": null,
            "_model_name": "LayoutModel",
            "justify_items": null,
            "grid_row": null,
            "max_height": null,
            "align_content": null,
            "visibility": null,
            "align_self": null,
            "height": null,
            "min_height": null,
            "padding": null,
            "grid_auto_rows": null,
            "grid_gap": null,
            "max_width": null,
            "order": null,
            "_view_module_version": "1.2.0",
            "grid_template_areas": null,
            "object_position": null,
            "object_fit": null,
            "grid_auto_columns": null,
            "margin": null,
            "display": null,
            "left": null
          }
        },
        "89ee4ab17d8c46e5b57ce56d7f9fc73a": {
          "model_module": "@jupyter-widgets/controls",
          "model_name": "DescriptionStyleModel",
          "state": {
            "_view_name": "StyleView",
            "_model_name": "DescriptionStyleModel",
            "description_width": "",
            "_view_module": "@jupyter-widgets/base",
            "_model_module_version": "1.5.0",
            "_view_count": null,
            "_view_module_version": "1.2.0",
            "_model_module": "@jupyter-widgets/controls"
          }
        },
        "87afdb15ff244407bd5d3d5537435785": {
          "model_module": "@jupyter-widgets/base",
          "model_name": "LayoutModel",
          "state": {
            "_view_name": "LayoutView",
            "grid_template_rows": null,
            "right": null,
            "justify_content": null,
            "_view_module": "@jupyter-widgets/base",
            "overflow": null,
            "_model_module_version": "1.2.0",
            "_view_count": null,
            "flex_flow": null,
            "width": null,
            "min_width": null,
            "border": null,
            "align_items": null,
            "bottom": null,
            "_model_module": "@jupyter-widgets/base",
            "top": null,
            "grid_column": null,
            "overflow_y": null,
            "overflow_x": null,
            "grid_auto_flow": null,
            "grid_area": null,
            "grid_template_columns": null,
            "flex": null,
            "_model_name": "LayoutModel",
            "justify_items": null,
            "grid_row": null,
            "max_height": null,
            "align_content": null,
            "visibility": null,
            "align_self": null,
            "height": null,
            "min_height": null,
            "padding": null,
            "grid_auto_rows": null,
            "grid_gap": null,
            "max_width": null,
            "order": null,
            "_view_module_version": "1.2.0",
            "grid_template_areas": null,
            "object_position": null,
            "object_fit": null,
            "grid_auto_columns": null,
            "margin": null,
            "display": null,
            "left": null
          }
        },
        "499853c311f04c1fbbe2e286167c48ff": {
          "model_module": "@jupyter-widgets/controls",
          "model_name": "HBoxModel",
          "state": {
            "_view_name": "HBoxView",
            "_dom_classes": [],
            "_model_name": "HBoxModel",
            "_view_module": "@jupyter-widgets/controls",
            "_model_module_version": "1.5.0",
            "_view_count": null,
            "_view_module_version": "1.5.0",
            "box_style": "",
            "layout": "IPY_MODEL_c0be7e0839684060bf18f04357cac869",
            "_model_module": "@jupyter-widgets/controls",
            "children": [
              "IPY_MODEL_aad081c7b5ce422a822e1bb35b599a08",
              "IPY_MODEL_6925aa4297e14e81ba48dc3d3139c56b"
            ]
          }
        },
        "c0be7e0839684060bf18f04357cac869": {
          "model_module": "@jupyter-widgets/base",
          "model_name": "LayoutModel",
          "state": {
            "_view_name": "LayoutView",
            "grid_template_rows": null,
            "right": null,
            "justify_content": null,
            "_view_module": "@jupyter-widgets/base",
            "overflow": null,
            "_model_module_version": "1.2.0",
            "_view_count": null,
            "flex_flow": null,
            "width": null,
            "min_width": null,
            "border": null,
            "align_items": null,
            "bottom": null,
            "_model_module": "@jupyter-widgets/base",
            "top": null,
            "grid_column": null,
            "overflow_y": null,
            "overflow_x": null,
            "grid_auto_flow": null,
            "grid_area": null,
            "grid_template_columns": null,
            "flex": null,
            "_model_name": "LayoutModel",
            "justify_items": null,
            "grid_row": null,
            "max_height": null,
            "align_content": null,
            "visibility": null,
            "align_self": null,
            "height": null,
            "min_height": null,
            "padding": null,
            "grid_auto_rows": null,
            "grid_gap": null,
            "max_width": null,
            "order": null,
            "_view_module_version": "1.2.0",
            "grid_template_areas": null,
            "object_position": null,
            "object_fit": null,
            "grid_auto_columns": null,
            "margin": null,
            "display": null,
            "left": null
          }
        },
        "aad081c7b5ce422a822e1bb35b599a08": {
          "model_module": "@jupyter-widgets/controls",
          "model_name": "FloatProgressModel",
          "state": {
            "_view_name": "ProgressView",
            "style": "IPY_MODEL_e542c0f9602a4f26a55c79f01aacf9cb",
            "_dom_classes": [],
            "description": "Dl Size...: 100%",
            "_model_name": "FloatProgressModel",
            "bar_style": "success",
            "max": 1,
            "_view_module": "@jupyter-widgets/controls",
            "_model_module_version": "1.5.0",
            "value": 1,
            "_view_count": null,
            "_view_module_version": "1.5.0",
            "orientation": "horizontal",
            "min": 0,
            "description_tooltip": null,
            "_model_module": "@jupyter-widgets/controls",
            "layout": "IPY_MODEL_d6f8c307db8d4cd0ada4659bb8f48544"
          }
        },
        "6925aa4297e14e81ba48dc3d3139c56b": {
          "model_module": "@jupyter-widgets/controls",
          "model_name": "HTMLModel",
          "state": {
            "_view_name": "HTMLView",
            "style": "IPY_MODEL_8eae031d59b94558894327c4d32cfa69",
            "_dom_classes": [],
            "description": "",
            "_model_name": "HTMLModel",
            "placeholder": "​",
            "_view_module": "@jupyter-widgets/controls",
            "_model_module_version": "1.5.0",
            "value": " 1/1 [00:00&lt;00:00,  3.80 MiB/s]",
            "_view_count": null,
            "_view_module_version": "1.5.0",
            "description_tooltip": null,
            "_model_module": "@jupyter-widgets/controls",
            "layout": "IPY_MODEL_9bae65b43cb54fa284bd558979c60f2b"
          }
        },
        "e542c0f9602a4f26a55c79f01aacf9cb": {
          "model_module": "@jupyter-widgets/controls",
          "model_name": "ProgressStyleModel",
          "state": {
            "_view_name": "StyleView",
            "_model_name": "ProgressStyleModel",
            "description_width": "initial",
            "_view_module": "@jupyter-widgets/base",
            "_model_module_version": "1.5.0",
            "_view_count": null,
            "_view_module_version": "1.2.0",
            "bar_color": null,
            "_model_module": "@jupyter-widgets/controls"
          }
        },
        "d6f8c307db8d4cd0ada4659bb8f48544": {
          "model_module": "@jupyter-widgets/base",
          "model_name": "LayoutModel",
          "state": {
            "_view_name": "LayoutView",
            "grid_template_rows": null,
            "right": null,
            "justify_content": null,
            "_view_module": "@jupyter-widgets/base",
            "overflow": null,
            "_model_module_version": "1.2.0",
            "_view_count": null,
            "flex_flow": null,
            "width": null,
            "min_width": null,
            "border": null,
            "align_items": null,
            "bottom": null,
            "_model_module": "@jupyter-widgets/base",
            "top": null,
            "grid_column": null,
            "overflow_y": null,
            "overflow_x": null,
            "grid_auto_flow": null,
            "grid_area": null,
            "grid_template_columns": null,
            "flex": null,
            "_model_name": "LayoutModel",
            "justify_items": null,
            "grid_row": null,
            "max_height": null,
            "align_content": null,
            "visibility": null,
            "align_self": null,
            "height": null,
            "min_height": null,
            "padding": null,
            "grid_auto_rows": null,
            "grid_gap": null,
            "max_width": null,
            "order": null,
            "_view_module_version": "1.2.0",
            "grid_template_areas": null,
            "object_position": null,
            "object_fit": null,
            "grid_auto_columns": null,
            "margin": null,
            "display": null,
            "left": null
          }
        },
        "8eae031d59b94558894327c4d32cfa69": {
          "model_module": "@jupyter-widgets/controls",
          "model_name": "DescriptionStyleModel",
          "state": {
            "_view_name": "StyleView",
            "_model_name": "DescriptionStyleModel",
            "description_width": "",
            "_view_module": "@jupyter-widgets/base",
            "_model_module_version": "1.5.0",
            "_view_count": null,
            "_view_module_version": "1.2.0",
            "_model_module": "@jupyter-widgets/controls"
          }
        },
        "9bae65b43cb54fa284bd558979c60f2b": {
          "model_module": "@jupyter-widgets/base",
          "model_name": "LayoutModel",
          "state": {
            "_view_name": "LayoutView",
            "grid_template_rows": null,
            "right": null,
            "justify_content": null,
            "_view_module": "@jupyter-widgets/base",
            "overflow": null,
            "_model_module_version": "1.2.0",
            "_view_count": null,
            "flex_flow": null,
            "width": null,
            "min_width": null,
            "border": null,
            "align_items": null,
            "bottom": null,
            "_model_module": "@jupyter-widgets/base",
            "top": null,
            "grid_column": null,
            "overflow_y": null,
            "overflow_x": null,
            "grid_auto_flow": null,
            "grid_area": null,
            "grid_template_columns": null,
            "flex": null,
            "_model_name": "LayoutModel",
            "justify_items": null,
            "grid_row": null,
            "max_height": null,
            "align_content": null,
            "visibility": null,
            "align_self": null,
            "height": null,
            "min_height": null,
            "padding": null,
            "grid_auto_rows": null,
            "grid_gap": null,
            "max_width": null,
            "order": null,
            "_view_module_version": "1.2.0",
            "grid_template_areas": null,
            "object_position": null,
            "object_fit": null,
            "grid_auto_columns": null,
            "margin": null,
            "display": null,
            "left": null
          }
        },
        "687cd10e5a2d4f499e030d36c6a5d1f6": {
          "model_module": "@jupyter-widgets/controls",
          "model_name": "HBoxModel",
          "state": {
            "_view_name": "HBoxView",
            "_dom_classes": [],
            "_model_name": "HBoxModel",
            "_view_module": "@jupyter-widgets/controls",
            "_model_module_version": "1.5.0",
            "_view_count": null,
            "_view_module_version": "1.5.0",
            "box_style": "",
            "layout": "IPY_MODEL_6db42cfc802f4afa84cfb7e61773bebc",
            "_model_module": "@jupyter-widgets/controls",
            "children": [
              "IPY_MODEL_2a0d0eed43a84d7ca9c15b9db5ee3295",
              "IPY_MODEL_8f5833e334b3415aa663a6c2b39a91d8"
            ]
          }
        },
        "6db42cfc802f4afa84cfb7e61773bebc": {
          "model_module": "@jupyter-widgets/base",
          "model_name": "LayoutModel",
          "state": {
            "_view_name": "LayoutView",
            "grid_template_rows": null,
            "right": null,
            "justify_content": null,
            "_view_module": "@jupyter-widgets/base",
            "overflow": null,
            "_model_module_version": "1.2.0",
            "_view_count": null,
            "flex_flow": null,
            "width": null,
            "min_width": null,
            "border": null,
            "align_items": null,
            "bottom": null,
            "_model_module": "@jupyter-widgets/base",
            "top": null,
            "grid_column": null,
            "overflow_y": null,
            "overflow_x": null,
            "grid_auto_flow": null,
            "grid_area": null,
            "grid_template_columns": null,
            "flex": null,
            "_model_name": "LayoutModel",
            "justify_items": null,
            "grid_row": null,
            "max_height": null,
            "align_content": null,
            "visibility": null,
            "align_self": null,
            "height": null,
            "min_height": null,
            "padding": null,
            "grid_auto_rows": null,
            "grid_gap": null,
            "max_width": null,
            "order": null,
            "_view_module_version": "1.2.0",
            "grid_template_areas": null,
            "object_position": null,
            "object_fit": null,
            "grid_auto_columns": null,
            "margin": null,
            "display": null,
            "left": null
          }
        },
        "2a0d0eed43a84d7ca9c15b9db5ee3295": {
          "model_module": "@jupyter-widgets/controls",
          "model_name": "FloatProgressModel",
          "state": {
            "_view_name": "ProgressView",
            "style": "IPY_MODEL_362a2def79bc45a19570d1247e762a1a",
            "_dom_classes": [],
            "description": "",
            "_model_name": "FloatProgressModel",
            "bar_style": "info",
            "max": 1,
            "_view_module": "@jupyter-widgets/controls",
            "_model_module_version": "1.5.0",
            "value": 1,
            "_view_count": null,
            "_view_module_version": "1.5.0",
            "orientation": "horizontal",
            "min": 0,
            "description_tooltip": null,
            "_model_module": "@jupyter-widgets/controls",
            "layout": "IPY_MODEL_f96ac5c381934a8bbce6f4c7f5f3f538"
          }
        },
        "8f5833e334b3415aa663a6c2b39a91d8": {
          "model_module": "@jupyter-widgets/controls",
          "model_name": "HTMLModel",
          "state": {
            "_view_name": "HTMLView",
            "style": "IPY_MODEL_c056268de69d4435a742a75420f08159",
            "_dom_classes": [],
            "description": "",
            "_model_name": "HTMLModel",
            "placeholder": "​",
            "_view_module": "@jupyter-widgets/controls",
            "_model_module_version": "1.5.0",
            "value": " 12573/0 [00:28&lt;00:00, 454.34 examples/s]",
            "_view_count": null,
            "_view_module_version": "1.5.0",
            "description_tooltip": null,
            "_model_module": "@jupyter-widgets/controls",
            "layout": "IPY_MODEL_264d249797d144c2a5d9bfe6a17ad07a"
          }
        },
        "362a2def79bc45a19570d1247e762a1a": {
          "model_module": "@jupyter-widgets/controls",
          "model_name": "ProgressStyleModel",
          "state": {
            "_view_name": "StyleView",
            "_model_name": "ProgressStyleModel",
            "description_width": "initial",
            "_view_module": "@jupyter-widgets/base",
            "_model_module_version": "1.5.0",
            "_view_count": null,
            "_view_module_version": "1.2.0",
            "bar_color": null,
            "_model_module": "@jupyter-widgets/controls"
          }
        },
        "f96ac5c381934a8bbce6f4c7f5f3f538": {
          "model_module": "@jupyter-widgets/base",
          "model_name": "LayoutModel",
          "state": {
            "_view_name": "LayoutView",
            "grid_template_rows": null,
            "right": null,
            "justify_content": null,
            "_view_module": "@jupyter-widgets/base",
            "overflow": null,
            "_model_module_version": "1.2.0",
            "_view_count": null,
            "flex_flow": null,
            "width": null,
            "min_width": null,
            "border": null,
            "align_items": null,
            "bottom": null,
            "_model_module": "@jupyter-widgets/base",
            "top": null,
            "grid_column": null,
            "overflow_y": null,
            "overflow_x": null,
            "grid_auto_flow": null,
            "grid_area": null,
            "grid_template_columns": null,
            "flex": null,
            "_model_name": "LayoutModel",
            "justify_items": null,
            "grid_row": null,
            "max_height": null,
            "align_content": null,
            "visibility": null,
            "align_self": null,
            "height": null,
            "min_height": null,
            "padding": null,
            "grid_auto_rows": null,
            "grid_gap": null,
            "max_width": null,
            "order": null,
            "_view_module_version": "1.2.0",
            "grid_template_areas": null,
            "object_position": null,
            "object_fit": null,
            "grid_auto_columns": null,
            "margin": null,
            "display": null,
            "left": null
          }
        },
        "c056268de69d4435a742a75420f08159": {
          "model_module": "@jupyter-widgets/controls",
          "model_name": "DescriptionStyleModel",
          "state": {
            "_view_name": "StyleView",
            "_model_name": "DescriptionStyleModel",
            "description_width": "",
            "_view_module": "@jupyter-widgets/base",
            "_model_module_version": "1.5.0",
            "_view_count": null,
            "_view_module_version": "1.2.0",
            "_model_module": "@jupyter-widgets/controls"
          }
        },
        "264d249797d144c2a5d9bfe6a17ad07a": {
          "model_module": "@jupyter-widgets/base",
          "model_name": "LayoutModel",
          "state": {
            "_view_name": "LayoutView",
            "grid_template_rows": null,
            "right": null,
            "justify_content": null,
            "_view_module": "@jupyter-widgets/base",
            "overflow": null,
            "_model_module_version": "1.2.0",
            "_view_count": null,
            "flex_flow": null,
            "width": null,
            "min_width": null,
            "border": null,
            "align_items": null,
            "bottom": null,
            "_model_module": "@jupyter-widgets/base",
            "top": null,
            "grid_column": null,
            "overflow_y": null,
            "overflow_x": null,
            "grid_auto_flow": null,
            "grid_area": null,
            "grid_template_columns": null,
            "flex": null,
            "_model_name": "LayoutModel",
            "justify_items": null,
            "grid_row": null,
            "max_height": null,
            "align_content": null,
            "visibility": null,
            "align_self": null,
            "height": null,
            "min_height": null,
            "padding": null,
            "grid_auto_rows": null,
            "grid_gap": null,
            "max_width": null,
            "order": null,
            "_view_module_version": "1.2.0",
            "grid_template_areas": null,
            "object_position": null,
            "object_fit": null,
            "grid_auto_columns": null,
            "margin": null,
            "display": null,
            "left": null
          }
        },
        "068f1c311ac4478491d4eb9c73dcc84c": {
          "model_module": "@jupyter-widgets/controls",
          "model_name": "HBoxModel",
          "state": {
            "_view_name": "HBoxView",
            "_dom_classes": [],
            "_model_name": "HBoxModel",
            "_view_module": "@jupyter-widgets/controls",
            "_model_module_version": "1.5.0",
            "_view_count": null,
            "_view_module_version": "1.5.0",
            "box_style": "",
            "layout": "IPY_MODEL_b49add407aa24630b2c6f2ac9c9c6d31",
            "_model_module": "@jupyter-widgets/controls",
            "children": [
              "IPY_MODEL_40eace55526945858833eff15584775e",
              "IPY_MODEL_1b1aa80f7c404bc5a46ba3201dab3fc8"
            ]
          }
        },
        "b49add407aa24630b2c6f2ac9c9c6d31": {
          "model_module": "@jupyter-widgets/base",
          "model_name": "LayoutModel",
          "state": {
            "_view_name": "LayoutView",
            "grid_template_rows": null,
            "right": null,
            "justify_content": null,
            "_view_module": "@jupyter-widgets/base",
            "overflow": null,
            "_model_module_version": "1.2.0",
            "_view_count": null,
            "flex_flow": null,
            "width": null,
            "min_width": null,
            "border": null,
            "align_items": null,
            "bottom": null,
            "_model_module": "@jupyter-widgets/base",
            "top": null,
            "grid_column": null,
            "overflow_y": null,
            "overflow_x": null,
            "grid_auto_flow": null,
            "grid_area": null,
            "grid_template_columns": null,
            "flex": null,
            "_model_name": "LayoutModel",
            "justify_items": null,
            "grid_row": null,
            "max_height": null,
            "align_content": null,
            "visibility": null,
            "align_self": null,
            "height": null,
            "min_height": null,
            "padding": null,
            "grid_auto_rows": null,
            "grid_gap": null,
            "max_width": null,
            "order": null,
            "_view_module_version": "1.2.0",
            "grid_template_areas": null,
            "object_position": null,
            "object_fit": null,
            "grid_auto_columns": null,
            "margin": null,
            "display": null,
            "left": null
          }
        },
        "40eace55526945858833eff15584775e": {
          "model_module": "@jupyter-widgets/controls",
          "model_name": "FloatProgressModel",
          "state": {
            "_view_name": "ProgressView",
            "style": "IPY_MODEL_ab21926c0023455689ecbf7b4010f559",
            "_dom_classes": [],
            "description": "  3%",
            "_model_name": "FloatProgressModel",
            "bar_style": "danger",
            "max": 12573,
            "_view_module": "@jupyter-widgets/controls",
            "_model_module_version": "1.5.0",
            "value": 378,
            "_view_count": null,
            "_view_module_version": "1.5.0",
            "orientation": "horizontal",
            "min": 0,
            "description_tooltip": null,
            "_model_module": "@jupyter-widgets/controls",
            "layout": "IPY_MODEL_617d323edf4a4fe5ba449de5cb41a3a0"
          }
        },
        "1b1aa80f7c404bc5a46ba3201dab3fc8": {
          "model_module": "@jupyter-widgets/controls",
          "model_name": "HTMLModel",
          "state": {
            "_view_name": "HTMLView",
            "style": "IPY_MODEL_1eb1642405964bcaa44ffe38dec9d1b8",
            "_dom_classes": [],
            "description": "",
            "_model_name": "HTMLModel",
            "placeholder": "​",
            "_view_module": "@jupyter-widgets/controls",
            "_model_module_version": "1.5.0",
            "value": " 378/12573 [00:00&lt;00:03, 3398.13 examples/s]",
            "_view_count": null,
            "_view_module_version": "1.5.0",
            "description_tooltip": null,
            "_model_module": "@jupyter-widgets/controls",
            "layout": "IPY_MODEL_09b29d2ebaa840cb9c5b05b923929939"
          }
        },
        "ab21926c0023455689ecbf7b4010f559": {
          "model_module": "@jupyter-widgets/controls",
          "model_name": "ProgressStyleModel",
          "state": {
            "_view_name": "StyleView",
            "_model_name": "ProgressStyleModel",
            "description_width": "initial",
            "_view_module": "@jupyter-widgets/base",
            "_model_module_version": "1.5.0",
            "_view_count": null,
            "_view_module_version": "1.2.0",
            "bar_color": null,
            "_model_module": "@jupyter-widgets/controls"
          }
        },
        "617d323edf4a4fe5ba449de5cb41a3a0": {
          "model_module": "@jupyter-widgets/base",
          "model_name": "LayoutModel",
          "state": {
            "_view_name": "LayoutView",
            "grid_template_rows": null,
            "right": null,
            "justify_content": null,
            "_view_module": "@jupyter-widgets/base",
            "overflow": null,
            "_model_module_version": "1.2.0",
            "_view_count": null,
            "flex_flow": null,
            "width": null,
            "min_width": null,
            "border": null,
            "align_items": null,
            "bottom": null,
            "_model_module": "@jupyter-widgets/base",
            "top": null,
            "grid_column": null,
            "overflow_y": null,
            "overflow_x": null,
            "grid_auto_flow": null,
            "grid_area": null,
            "grid_template_columns": null,
            "flex": null,
            "_model_name": "LayoutModel",
            "justify_items": null,
            "grid_row": null,
            "max_height": null,
            "align_content": null,
            "visibility": null,
            "align_self": null,
            "height": null,
            "min_height": null,
            "padding": null,
            "grid_auto_rows": null,
            "grid_gap": null,
            "max_width": null,
            "order": null,
            "_view_module_version": "1.2.0",
            "grid_template_areas": null,
            "object_position": null,
            "object_fit": null,
            "grid_auto_columns": null,
            "margin": null,
            "display": null,
            "left": null
          }
        },
        "1eb1642405964bcaa44ffe38dec9d1b8": {
          "model_module": "@jupyter-widgets/controls",
          "model_name": "DescriptionStyleModel",
          "state": {
            "_view_name": "StyleView",
            "_model_name": "DescriptionStyleModel",
            "description_width": "",
            "_view_module": "@jupyter-widgets/base",
            "_model_module_version": "1.5.0",
            "_view_count": null,
            "_view_module_version": "1.2.0",
            "_model_module": "@jupyter-widgets/controls"
          }
        },
        "09b29d2ebaa840cb9c5b05b923929939": {
          "model_module": "@jupyter-widgets/base",
          "model_name": "LayoutModel",
          "state": {
            "_view_name": "LayoutView",
            "grid_template_rows": null,
            "right": null,
            "justify_content": null,
            "_view_module": "@jupyter-widgets/base",
            "overflow": null,
            "_model_module_version": "1.2.0",
            "_view_count": null,
            "flex_flow": null,
            "width": null,
            "min_width": null,
            "border": null,
            "align_items": null,
            "bottom": null,
            "_model_module": "@jupyter-widgets/base",
            "top": null,
            "grid_column": null,
            "overflow_y": null,
            "overflow_x": null,
            "grid_auto_flow": null,
            "grid_area": null,
            "grid_template_columns": null,
            "flex": null,
            "_model_name": "LayoutModel",
            "justify_items": null,
            "grid_row": null,
            "max_height": null,
            "align_content": null,
            "visibility": null,
            "align_self": null,
            "height": null,
            "min_height": null,
            "padding": null,
            "grid_auto_rows": null,
            "grid_gap": null,
            "max_width": null,
            "order": null,
            "_view_module_version": "1.2.0",
            "grid_template_areas": null,
            "object_position": null,
            "object_fit": null,
            "grid_auto_columns": null,
            "margin": null,
            "display": null,
            "left": null
          }
        }
      }
    }
  },
  "cells": [
    {
      "cell_type": "markdown",
      "metadata": {
        "id": "view-in-github",
        "colab_type": "text"
      },
      "source": [
        "<a href=\"https://colab.research.google.com/github/Itsuki-Hamano123/auto_ml/blob/master/tool_comparison/radon_dataset/keras_tuner_WideDeep_regressor.ipynb\" target=\"_parent\"><img src=\"https://colab.research.google.com/assets/colab-badge.svg\" alt=\"Open In Colab\"/></a>"
      ]
    },
    {
      "cell_type": "code",
      "metadata": {
        "id": "X9avgfy440Gw",
        "outputId": "0c06e0c5-058c-4f01-de6e-0a7285e47b94",
        "colab": {
          "base_uri": "https://localhost:8080/"
        }
      },
      "source": [
        "%pip install -q keras-tuner\n",
        "%pip show keras-tuner scikit-learn"
      ],
      "execution_count": null,
      "outputs": [
        {
          "output_type": "stream",
          "text": [
            "\u001b[?25l\r\u001b[K     |██████                          | 10kB 9.3MB/s eta 0:00:01\r\u001b[K     |████████████                    | 20kB 1.7MB/s eta 0:00:01\r\u001b[K     |██████████████████              | 30kB 2.2MB/s eta 0:00:01\r\u001b[K     |████████████████████████        | 40kB 2.5MB/s eta 0:00:01\r\u001b[K     |██████████████████████████████  | 51kB 2.0MB/s eta 0:00:01\r\u001b[K     |████████████████████████████████| 61kB 1.8MB/s \n",
            "\u001b[?25h  Building wheel for keras-tuner (setup.py) ... \u001b[?25l\u001b[?25hdone\n",
            "  Building wheel for terminaltables (setup.py) ... \u001b[?25l\u001b[?25hdone\n",
            "Name: keras-tuner\n",
            "Version: 1.0.1\n",
            "Summary: Hypertuner for Keras\n",
            "Home-page: https://github.com/keras-team/keras-tuner\n",
            "Author: The Keras Tuner authors\n",
            "Author-email: kerastuner@google.com\n",
            "License: Apache License 2.0\n",
            "Location: /usr/local/lib/python3.6/dist-packages\n",
            "Requires: colorama, terminaltables, tqdm, scikit-learn, tabulate, requests, numpy, future, scipy\n",
            "Required-by: \n",
            "---\n",
            "Name: scikit-learn\n",
            "Version: 0.22.2.post1\n",
            "Summary: A set of python modules for machine learning and data mining\n",
            "Home-page: http://scikit-learn.org\n",
            "Author: None\n",
            "Author-email: None\n",
            "License: new BSD\n",
            "Location: /usr/local/lib/python3.6/dist-packages\n",
            "Requires: scipy, joblib, numpy\n",
            "Required-by: yellowbrick, umap-learn, textgenrnn, sklearn, sklearn-pandas, mlxtend, lucid, lightgbm, librosa, keras-tuner, imbalanced-learn, fancyimpute\n"
          ],
          "name": "stdout"
        }
      ]
    },
    {
      "cell_type": "code",
      "metadata": {
        "id": "1eWfsTWOviG8"
      },
      "source": [
        "import datetime, IPython, os, pprint\n",
        "\n",
        "import numpy as np\n",
        "import pandas as pd\n",
        "\n",
        "from sklearn.model_selection import train_test_split\n",
        "from sklearn.metrics import explained_variance_score, mean_squared_error, r2_score\n",
        "from sklearn.preprocessing import MultiLabelBinarizer\n",
        "\n",
        "from kerastuner import HyperModel, Hyperband, Objective\n",
        "import tensorflow_datasets as tfds\n",
        "from tensorflow.keras.experimental import LinearModel, WideDeepModel\n",
        "from tensorflow.keras import Sequential, Input, layers, optimizers\n",
        "from tensorflow.keras.layers.experimental.preprocessing import Normalization\n",
        "from tensorflow.keras.callbacks import EarlyStopping, Callback\n",
        "from tensorflow.keras.utils import plot_model"
      ],
      "execution_count": null,
      "outputs": []
    },
    {
      "cell_type": "markdown",
      "metadata": {
        "id": "hPW_0GuC6foJ"
      },
      "source": [
        "## データセット読み込み\n",
        "- radonデータセット[https://www.tensorflow.org/datasets/catalog/radon](https://www.tensorflow.org/datasets/catalog/radon)"
      ]
    },
    {
      "cell_type": "markdown",
      "metadata": {
        "id": "uWiPUEPf9Myk"
      },
      "source": [
        "# データ読み込み"
      ]
    },
    {
      "cell_type": "code",
      "metadata": {
        "id": "I0_LeqYd6b77",
        "outputId": "bb2ec874-778b-4342-9051-5d8226a96ebe",
        "colab": {
          "base_uri": "https://localhost:8080/",
          "height": 1000,
          "referenced_widgets": [
            "4c57355884814d29b28297717ab3a765",
            "156f836c6a584f989ee04b2d9af9a6f1",
            "06b555fd193540a8945371286a897a78",
            "bac333a9bff14133a4c674d834e77ed3",
            "f220d1a1c41447df90ac9662500310b6",
            "7cd5d3b7638c4486bbccc5746f45668f",
            "89ee4ab17d8c46e5b57ce56d7f9fc73a",
            "87afdb15ff244407bd5d3d5537435785",
            "499853c311f04c1fbbe2e286167c48ff",
            "c0be7e0839684060bf18f04357cac869",
            "aad081c7b5ce422a822e1bb35b599a08",
            "6925aa4297e14e81ba48dc3d3139c56b",
            "e542c0f9602a4f26a55c79f01aacf9cb",
            "d6f8c307db8d4cd0ada4659bb8f48544",
            "8eae031d59b94558894327c4d32cfa69",
            "9bae65b43cb54fa284bd558979c60f2b",
            "687cd10e5a2d4f499e030d36c6a5d1f6",
            "6db42cfc802f4afa84cfb7e61773bebc",
            "2a0d0eed43a84d7ca9c15b9db5ee3295",
            "8f5833e334b3415aa663a6c2b39a91d8",
            "362a2def79bc45a19570d1247e762a1a",
            "f96ac5c381934a8bbce6f4c7f5f3f538",
            "c056268de69d4435a742a75420f08159",
            "264d249797d144c2a5d9bfe6a17ad07a",
            "068f1c311ac4478491d4eb9c73dcc84c",
            "b49add407aa24630b2c6f2ac9c9c6d31",
            "40eace55526945858833eff15584775e",
            "1b1aa80f7c404bc5a46ba3201dab3fc8",
            "ab21926c0023455689ecbf7b4010f559",
            "617d323edf4a4fe5ba449de5cb41a3a0",
            "1eb1642405964bcaa44ffe38dec9d1b8",
            "09b29d2ebaa840cb9c5b05b923929939"
          ]
        }
      },
      "source": [
        "def fetch_tf_dataset(data_name, \n",
        "                     split='train',\n",
        "                     shuffle_files=True, as_supervised=True,\n",
        "                     with_info=True, batch_size=None):\n",
        "  '''TensorFlowデータセットからデータをフェッチ'''\n",
        "  dataset, data_info = tfds.load(data_name, split=split,\n",
        "                                  shuffle_files=shuffle_files,\n",
        "                                  as_supervised=as_supervised,\n",
        "                                  with_info=with_info,\n",
        "                                  batch_size=batch_size)\n",
        "  return dataset, data_info\n",
        "  \n",
        "\n",
        "\n",
        "data_name = 'radon' # @param{type:'string'}\n",
        "x_name = 'features' # @param{type:'string'}\n",
        "y_name = 'activity' # @param{type:'string'}\n",
        "# インメモリでデータを読み込む\n",
        "batch_size = -1\n",
        "\n",
        "# データのフェッチ\n",
        "tf_dataset, ds_info = fetch_tf_dataset(data_name=data_name,\n",
        "                                     as_supervised=False,\n",
        "                                     batch_size=batch_size)\n",
        "\n",
        "display(ds_info)"
      ],
      "execution_count": null,
      "outputs": [
        {
          "output_type": "stream",
          "text": [
            "Downloading and preparing dataset radon/1.0.0 (download: 1.71 MiB, generated: 9.15 MiB, total: 10.86 MiB) to /root/tensorflow_datasets/radon/1.0.0...\n"
          ],
          "name": "stdout"
        },
        {
          "output_type": "display_data",
          "data": {
            "application/vnd.jupyter.widget-view+json": {
              "model_id": "4c57355884814d29b28297717ab3a765",
              "version_minor": 0,
              "version_major": 2
            },
            "text/plain": [
              "HBox(children=(FloatProgress(value=1.0, bar_style='info', description='Dl Completed...', max=1.0, style=Progre…"
            ]
          },
          "metadata": {
            "tags": []
          }
        },
        {
          "output_type": "display_data",
          "data": {
            "application/vnd.jupyter.widget-view+json": {
              "model_id": "499853c311f04c1fbbe2e286167c48ff",
              "version_minor": 0,
              "version_major": 2
            },
            "text/plain": [
              "HBox(children=(FloatProgress(value=1.0, bar_style='info', description='Dl Size...', max=1.0, style=ProgressSty…"
            ]
          },
          "metadata": {
            "tags": []
          }
        },
        {
          "output_type": "stream",
          "text": [
            "\n",
            "\n",
            "\n",
            "\n"
          ],
          "name": "stdout"
        },
        {
          "output_type": "display_data",
          "data": {
            "application/vnd.jupyter.widget-view+json": {
              "model_id": "687cd10e5a2d4f499e030d36c6a5d1f6",
              "version_minor": 0,
              "version_major": 2
            },
            "text/plain": [
              "HBox(children=(FloatProgress(value=1.0, bar_style='info', max=1.0), HTML(value='')))"
            ]
          },
          "metadata": {
            "tags": []
          }
        },
        {
          "output_type": "stream",
          "text": [
            "\rShuffling and writing examples to /root/tensorflow_datasets/radon/1.0.0.incompleteVM59CE/radon-train.tfrecord\n"
          ],
          "name": "stdout"
        },
        {
          "output_type": "display_data",
          "data": {
            "application/vnd.jupyter.widget-view+json": {
              "model_id": "068f1c311ac4478491d4eb9c73dcc84c",
              "version_minor": 0,
              "version_major": 2
            },
            "text/plain": [
              "HBox(children=(FloatProgress(value=0.0, max=12573.0), HTML(value='')))"
            ]
          },
          "metadata": {
            "tags": []
          }
        },
        {
          "output_type": "stream",
          "text": [
            "Dataset radon downloaded and prepared to /root/tensorflow_datasets/radon/1.0.0. Subsequent calls will reuse this data.\n"
          ],
          "name": "stdout"
        },
        {
          "output_type": "display_data",
          "data": {
            "text/plain": [
              "tfds.core.DatasetInfo(\n",
              "    name='radon',\n",
              "    version=1.0.0,\n",
              "    description='Radon is a radioactive gas that enters homes through contact\n",
              "points with the ground. It is a carcinogen that is the primary cause of lung\n",
              "cancer in non-smokers. Radon levels vary greatly from household to household.\n",
              "This dataset contains measured radon levels in U.S homes by county and state.\n",
              "The 'activity' label is the measured radon concentration in pCi/L. Important\n",
              "predictors are 'floor' (the floor of the house in which the measurement was\n",
              "taken), 'county' (the U.S. county in which the house is located), and 'Uppm' (a\n",
              "measurement of uranium level of the soil by county).',\n",
              "    homepage='http://www.stat.columbia.edu/~gelman/arm/examples/radon/',\n",
              "    features=FeaturesDict({\n",
              "        'activity': tf.float32,\n",
              "        'features': FeaturesDict({\n",
              "            'Uppm': tf.float32,\n",
              "            'adjwt': tf.float32,\n",
              "            'basement': tf.string,\n",
              "            'cntyfips': tf.int32,\n",
              "            'county': tf.string,\n",
              "            'dupflag': tf.int32,\n",
              "            'floor': tf.int32,\n",
              "            'idnum': tf.int32,\n",
              "            'lat': tf.float32,\n",
              "            'lon': tf.float32,\n",
              "            'pcterr': tf.float32,\n",
              "            'region': tf.int32,\n",
              "            'rep': tf.int32,\n",
              "            'room': tf.int32,\n",
              "            'startdt': tf.int32,\n",
              "            'starttm': tf.int32,\n",
              "            'state': tf.string,\n",
              "            'state2': tf.string,\n",
              "            'stfips': tf.int32,\n",
              "            'stopdt': tf.int32,\n",
              "            'stoptm': tf.int32,\n",
              "            'stratum': tf.int32,\n",
              "            'typebldg': tf.int32,\n",
              "            'wave': tf.int32,\n",
              "            'windoor': tf.string,\n",
              "            'zip': tf.int32,\n",
              "            'zipflag': tf.int32,\n",
              "        }),\n",
              "    }),\n",
              "    total_num_examples=12573,\n",
              "    splits={\n",
              "        'train': 12573,\n",
              "    },\n",
              "    supervised_keys=('features', 'activity'),\n",
              "    citation=\"\"\"@book{GelmanHill:2007,\n",
              "      author = {Gelman, Andrew and Hill, Jennifer},\n",
              "      title = {Data Analysis Using Regression and Multilevel/Hierarchical Models},\n",
              "      publisher = {Cambridge University Press},\n",
              "      series = {Analytical methods for social research},\n",
              "      year = 2007\n",
              "    }\"\"\",\n",
              "    redistribution_info=,\n",
              ")"
            ]
          },
          "metadata": {
            "tags": []
          }
        }
      ]
    },
    {
      "cell_type": "markdown",
      "metadata": {
        "id": "iZ9x6rpqv2n7"
      },
      "source": [
        "### Dataframeに変換"
      ]
    },
    {
      "cell_type": "code",
      "metadata": {
        "id": "nLfoAPTYkdd1",
        "outputId": "cc5436a9-3c06-4480-e0aa-d07b70f234a0",
        "colab": {
          "base_uri": "https://localhost:8080/",
          "height": 328
        }
      },
      "source": [
        "%%time\n",
        "\n",
        "def convert_tfds_to_df(tf_ds, x_key, y_key):\n",
        "  '''tf DatasetをDataframeに変換'''\n",
        "  \n",
        "  # yについて{key:numpy}形式のdictに変換\n",
        "  y = {}\n",
        "  y[y_key] = tf_ds[y_key].numpy()\n",
        "\n",
        "  # xについて[{key:numpy},{key:numpy},,,]形式のdictに変換\n",
        "  x = {}\n",
        "  for f_key, element in tf_ds[x_key].items():\n",
        "    if element.dtype == 'string':\n",
        "      x[f_key] = _convert_byte_np_to_string_np(bytes_np=element.numpy())\n",
        "    else:\n",
        "      x[f_key] = element.numpy()\n",
        "  \n",
        "  y_df = pd.DataFrame.from_dict(y)\n",
        "  x_df = pd.DataFrame.from_dict(x)\n",
        "  df = pd.concat([y_df, x_df], axis=1)\n",
        "\n",
        "  return df\n",
        "\n",
        "\n",
        "def _convert_byte_np_to_string_np(bytes_np, decode_char='utf-8'):\n",
        "  '''バイナリ文字列形式のnumpy配列を文字列形式のnumpy配列に変換'''\n",
        "  decode_np = np.array([])\n",
        "  for b in bytes_np:\n",
        "    decode_np = np.append(decode_np, b.decode(decode_char))\n",
        "  decode_np = decode_np.astype('object')\n",
        "  return decode_np\n",
        "\n",
        "\n",
        "# tf datasetからDataframeに変換\n",
        "dataset = convert_tfds_to_df(tf_dataset, x_key=x_name, y_key=y_name)\n",
        "\n",
        "\n",
        "display(dataset.head())\n",
        "display(dataset.shape)\n",
        "\n",
        "\n",
        "# カラム名の設定\n",
        "y_col = y_name\n",
        "x_cols = dataset.drop(columns=y_col).columns\n",
        "\n",
        "display('y_col:{}'.format(y_col))\n",
        "display('x_cols num:{}, names:{}'.format(len(x_cols), x_cols))"
      ],
      "execution_count": null,
      "outputs": [
        {
          "output_type": "display_data",
          "data": {
            "text/html": [
              "<div>\n",
              "<style scoped>\n",
              "    .dataframe tbody tr th:only-of-type {\n",
              "        vertical-align: middle;\n",
              "    }\n",
              "\n",
              "    .dataframe tbody tr th {\n",
              "        vertical-align: top;\n",
              "    }\n",
              "\n",
              "    .dataframe thead th {\n",
              "        text-align: right;\n",
              "    }\n",
              "</style>\n",
              "<table border=\"1\" class=\"dataframe\">\n",
              "  <thead>\n",
              "    <tr style=\"text-align: right;\">\n",
              "      <th></th>\n",
              "      <th>activity</th>\n",
              "      <th>Uppm</th>\n",
              "      <th>adjwt</th>\n",
              "      <th>basement</th>\n",
              "      <th>cntyfips</th>\n",
              "      <th>county</th>\n",
              "      <th>dupflag</th>\n",
              "      <th>floor</th>\n",
              "      <th>idnum</th>\n",
              "      <th>lat</th>\n",
              "      <th>lon</th>\n",
              "      <th>pcterr</th>\n",
              "      <th>region</th>\n",
              "      <th>rep</th>\n",
              "      <th>room</th>\n",
              "      <th>startdt</th>\n",
              "      <th>starttm</th>\n",
              "      <th>state</th>\n",
              "      <th>state2</th>\n",
              "      <th>stfips</th>\n",
              "      <th>stopdt</th>\n",
              "      <th>stoptm</th>\n",
              "      <th>stratum</th>\n",
              "      <th>typebldg</th>\n",
              "      <th>wave</th>\n",
              "      <th>windoor</th>\n",
              "      <th>zip</th>\n",
              "      <th>zipflag</th>\n",
              "    </tr>\n",
              "  </thead>\n",
              "  <tbody>\n",
              "    <tr>\n",
              "      <th>0</th>\n",
              "      <td>1.6</td>\n",
              "      <td>2.49759</td>\n",
              "      <td>292.219543</td>\n",
              "      <td>N</td>\n",
              "      <td>3</td>\n",
              "      <td>ALLEN</td>\n",
              "      <td>0</td>\n",
              "      <td>1</td>\n",
              "      <td>1681</td>\n",
              "      <td>41.091000</td>\n",
              "      <td>-85.067001</td>\n",
              "      <td>12.7</td>\n",
              "      <td>2</td>\n",
              "      <td>3</td>\n",
              "      <td>2</td>\n",
              "      <td>11489</td>\n",
              "      <td>2230</td>\n",
              "      <td>IN</td>\n",
              "      <td>IN</td>\n",
              "      <td>18</td>\n",
              "      <td>11689</td>\n",
              "      <td>2235</td>\n",
              "      <td>2</td>\n",
              "      <td>1</td>\n",
              "      <td>92</td>\n",
              "      <td></td>\n",
              "      <td>46835</td>\n",
              "      <td>0</td>\n",
              "    </tr>\n",
              "    <tr>\n",
              "      <th>1</th>\n",
              "      <td>0.5</td>\n",
              "      <td>2.66527</td>\n",
              "      <td>364.958313</td>\n",
              "      <td>N</td>\n",
              "      <td>25</td>\n",
              "      <td>YAVAPAI</td>\n",
              "      <td>0</td>\n",
              "      <td>1</td>\n",
              "      <td>1457</td>\n",
              "      <td>34.599998</td>\n",
              "      <td>-112.554001</td>\n",
              "      <td>0.0</td>\n",
              "      <td>2</td>\n",
              "      <td>5</td>\n",
              "      <td>2</td>\n",
              "      <td>22688</td>\n",
              "      <td>833</td>\n",
              "      <td>AZ</td>\n",
              "      <td>AZ</td>\n",
              "      <td>4</td>\n",
              "      <td>22888</td>\n",
              "      <td>1010</td>\n",
              "      <td>2</td>\n",
              "      <td>1</td>\n",
              "      <td>56</td>\n",
              "      <td></td>\n",
              "      <td>86325</td>\n",
              "      <td>0</td>\n",
              "    </tr>\n",
              "    <tr>\n",
              "      <th>2</th>\n",
              "      <td>3.0</td>\n",
              "      <td>2.43343</td>\n",
              "      <td>626.564575</td>\n",
              "      <td>Y</td>\n",
              "      <td>17</td>\n",
              "      <td>MIDDLESEX</td>\n",
              "      <td>0</td>\n",
              "      <td>0</td>\n",
              "      <td>4224</td>\n",
              "      <td>42.485001</td>\n",
              "      <td>-71.391998</td>\n",
              "      <td>9.7</td>\n",
              "      <td>6</td>\n",
              "      <td>1</td>\n",
              "      <td>2</td>\n",
              "      <td>32288</td>\n",
              "      <td>1000</td>\n",
              "      <td>MA</td>\n",
              "      <td>MA</td>\n",
              "      <td>25</td>\n",
              "      <td>32488</td>\n",
              "      <td>1000</td>\n",
              "      <td>1</td>\n",
              "      <td>1</td>\n",
              "      <td>23</td>\n",
              "      <td></td>\n",
              "      <td>1778</td>\n",
              "      <td>0</td>\n",
              "    </tr>\n",
              "    <tr>\n",
              "      <th>3</th>\n",
              "      <td>0.6</td>\n",
              "      <td>2.43343</td>\n",
              "      <td>570.611755</td>\n",
              "      <td>N</td>\n",
              "      <td>17</td>\n",
              "      <td>MIDDLESEX</td>\n",
              "      <td>0</td>\n",
              "      <td>1</td>\n",
              "      <td>4094</td>\n",
              "      <td>42.485001</td>\n",
              "      <td>-71.391998</td>\n",
              "      <td>27.6</td>\n",
              "      <td>6</td>\n",
              "      <td>3</td>\n",
              "      <td>3</td>\n",
              "      <td>32488</td>\n",
              "      <td>700</td>\n",
              "      <td>MA</td>\n",
              "      <td>MA</td>\n",
              "      <td>25</td>\n",
              "      <td>32688</td>\n",
              "      <td>1200</td>\n",
              "      <td>1</td>\n",
              "      <td>1</td>\n",
              "      <td>62</td>\n",
              "      <td></td>\n",
              "      <td>1432</td>\n",
              "      <td>0</td>\n",
              "    </tr>\n",
              "    <tr>\n",
              "      <th>4</th>\n",
              "      <td>1.2</td>\n",
              "      <td>2.10811</td>\n",
              "      <td>426.798859</td>\n",
              "      <td>Y</td>\n",
              "      <td>95</td>\n",
              "      <td>JACKSON</td>\n",
              "      <td>0</td>\n",
              "      <td>0</td>\n",
              "      <td>6849</td>\n",
              "      <td>39.007999</td>\n",
              "      <td>-94.347000</td>\n",
              "      <td>23.5</td>\n",
              "      <td>1</td>\n",
              "      <td>3</td>\n",
              "      <td>4</td>\n",
              "      <td>32288</td>\n",
              "      <td>605</td>\n",
              "      <td>MO</td>\n",
              "      <td>MO</td>\n",
              "      <td>29</td>\n",
              "      <td>32488</td>\n",
              "      <td>610</td>\n",
              "      <td>2</td>\n",
              "      <td>1</td>\n",
              "      <td>91</td>\n",
              "      <td></td>\n",
              "      <td>64134</td>\n",
              "      <td>0</td>\n",
              "    </tr>\n",
              "  </tbody>\n",
              "</table>\n",
              "</div>"
            ],
            "text/plain": [
              "   activity     Uppm       adjwt basement  ...  wave windoor    zip  zipflag\n",
              "0       1.6  2.49759  292.219543        N  ...    92          46835        0\n",
              "1       0.5  2.66527  364.958313        N  ...    56          86325        0\n",
              "2       3.0  2.43343  626.564575        Y  ...    23           1778        0\n",
              "3       0.6  2.43343  570.611755        N  ...    62           1432        0\n",
              "4       1.2  2.10811  426.798859        Y  ...    91          64134        0\n",
              "\n",
              "[5 rows x 28 columns]"
            ]
          },
          "metadata": {
            "tags": []
          }
        },
        {
          "output_type": "display_data",
          "data": {
            "text/plain": [
              "(12573, 28)"
            ]
          },
          "metadata": {
            "tags": []
          }
        },
        {
          "output_type": "display_data",
          "data": {
            "application/vnd.google.colaboratory.intrinsic+json": {
              "type": "string"
            },
            "text/plain": [
              "'y_col:activity'"
            ]
          },
          "metadata": {
            "tags": []
          }
        },
        {
          "output_type": "display_data",
          "data": {
            "application/vnd.google.colaboratory.intrinsic+json": {
              "type": "string"
            },
            "text/plain": [
              "\"x_cols num:27, names:Index(['Uppm', 'adjwt', 'basement', 'cntyfips', 'county', 'dupflag', 'floor',\\n       'idnum', 'lat', 'lon', 'pcterr', 'region', 'rep', 'room', 'startdt',\\n       'starttm', 'state', 'state2', 'stfips', 'stopdt', 'stoptm', 'stratum',\\n       'typebldg', 'wave', 'windoor', 'zip', 'zipflag'],\\n      dtype='object')\""
            ]
          },
          "metadata": {
            "tags": []
          }
        },
        {
          "output_type": "stream",
          "text": [
            "CPU times: user 9.92 s, sys: 347 ms, total: 10.3 s\n",
            "Wall time: 10.3 s\n"
          ],
          "name": "stdout"
        }
      ]
    },
    {
      "cell_type": "markdown",
      "metadata": {
        "id": "k-HP8vqUv8P5"
      },
      "source": [
        "## 文字列をone-hotエンコード"
      ]
    },
    {
      "cell_type": "code",
      "metadata": {
        "id": "ajWe80xXv58i",
        "outputId": "cc9a03ec-c153-48d7-b663-3bc6818bc523",
        "colab": {
          "base_uri": "https://localhost:8080/",
          "height": 340
        }
      },
      "source": [
        "%%time\n",
        "\n",
        "def one_hot_encode_df_val(df, target_col):\n",
        "  '''文字列のカラムをone-hot-encodeしたカラムに置き換え\n",
        "  INFO :　新規のカラムは先頭に挿入していく\n",
        "  WARNING : target_colはdropされる\n",
        "  '''\n",
        "  mlb = MultiLabelBinarizer()\n",
        "  one_hot_feature = mlb.fit_transform([{str(val)} for val in df[target_col].values])\n",
        "  insert_columns = [target_col+'_'+str(x+1) for x in range(len(one_hot_feature[0]))]\n",
        "  insert_df = pd.DataFrame(one_hot_feature, columns=insert_columns)\n",
        "  df = df.drop(columns=target_col)\n",
        "  df = pd.concat([insert_df, df], axis=1)\n",
        "  return df\n",
        "\n",
        "encode_cols = ['basement', 'county', 'state', 'state2', 'windoor']\n",
        "for col in encode_cols:\n",
        "  dataset = one_hot_encode_df_val(dataset, col)\n",
        "display(dataset.head())\n",
        "\n",
        "\n",
        "# カラム名の設定\n",
        "y_col = y_name\n",
        "x_cols = dataset.drop(columns=y_col).columns\n",
        "\n",
        "display('y_col:{}'.format(y_col))\n",
        "display('x_cols num:{}, names:{}'.format(len(x_cols), x_cols))"
      ],
      "execution_count": null,
      "outputs": [
        {
          "output_type": "display_data",
          "data": {
            "text/html": [
              "<div>\n",
              "<style scoped>\n",
              "    .dataframe tbody tr th:only-of-type {\n",
              "        vertical-align: middle;\n",
              "    }\n",
              "\n",
              "    .dataframe tbody tr th {\n",
              "        vertical-align: top;\n",
              "    }\n",
              "\n",
              "    .dataframe thead th {\n",
              "        text-align: right;\n",
              "    }\n",
              "</style>\n",
              "<table border=\"1\" class=\"dataframe\">\n",
              "  <thead>\n",
              "    <tr style=\"text-align: right;\">\n",
              "      <th></th>\n",
              "      <th>windoor_1</th>\n",
              "      <th>state2_1</th>\n",
              "      <th>state2_2</th>\n",
              "      <th>state2_3</th>\n",
              "      <th>state2_4</th>\n",
              "      <th>state2_5</th>\n",
              "      <th>state2_6</th>\n",
              "      <th>state2_7</th>\n",
              "      <th>state2_8</th>\n",
              "      <th>state2_9</th>\n",
              "      <th>state_1</th>\n",
              "      <th>state_2</th>\n",
              "      <th>state_3</th>\n",
              "      <th>state_4</th>\n",
              "      <th>state_5</th>\n",
              "      <th>state_6</th>\n",
              "      <th>state_7</th>\n",
              "      <th>state_8</th>\n",
              "      <th>county_1</th>\n",
              "      <th>county_2</th>\n",
              "      <th>county_3</th>\n",
              "      <th>county_4</th>\n",
              "      <th>county_5</th>\n",
              "      <th>county_6</th>\n",
              "      <th>county_7</th>\n",
              "      <th>county_8</th>\n",
              "      <th>county_9</th>\n",
              "      <th>county_10</th>\n",
              "      <th>county_11</th>\n",
              "      <th>county_12</th>\n",
              "      <th>county_13</th>\n",
              "      <th>county_14</th>\n",
              "      <th>county_15</th>\n",
              "      <th>county_16</th>\n",
              "      <th>county_17</th>\n",
              "      <th>county_18</th>\n",
              "      <th>county_19</th>\n",
              "      <th>county_20</th>\n",
              "      <th>county_21</th>\n",
              "      <th>county_22</th>\n",
              "      <th>...</th>\n",
              "      <th>county_374</th>\n",
              "      <th>county_375</th>\n",
              "      <th>county_376</th>\n",
              "      <th>county_377</th>\n",
              "      <th>county_378</th>\n",
              "      <th>county_379</th>\n",
              "      <th>county_380</th>\n",
              "      <th>county_381</th>\n",
              "      <th>county_382</th>\n",
              "      <th>county_383</th>\n",
              "      <th>county_384</th>\n",
              "      <th>county_385</th>\n",
              "      <th>county_386</th>\n",
              "      <th>basement_1</th>\n",
              "      <th>basement_2</th>\n",
              "      <th>basement_3</th>\n",
              "      <th>basement_4</th>\n",
              "      <th>activity</th>\n",
              "      <th>Uppm</th>\n",
              "      <th>adjwt</th>\n",
              "      <th>cntyfips</th>\n",
              "      <th>dupflag</th>\n",
              "      <th>floor</th>\n",
              "      <th>idnum</th>\n",
              "      <th>lat</th>\n",
              "      <th>lon</th>\n",
              "      <th>pcterr</th>\n",
              "      <th>region</th>\n",
              "      <th>rep</th>\n",
              "      <th>room</th>\n",
              "      <th>startdt</th>\n",
              "      <th>starttm</th>\n",
              "      <th>stfips</th>\n",
              "      <th>stopdt</th>\n",
              "      <th>stoptm</th>\n",
              "      <th>stratum</th>\n",
              "      <th>typebldg</th>\n",
              "      <th>wave</th>\n",
              "      <th>zip</th>\n",
              "      <th>zipflag</th>\n",
              "    </tr>\n",
              "  </thead>\n",
              "  <tbody>\n",
              "    <tr>\n",
              "      <th>0</th>\n",
              "      <td>1</td>\n",
              "      <td>0</td>\n",
              "      <td>1</td>\n",
              "      <td>0</td>\n",
              "      <td>0</td>\n",
              "      <td>0</td>\n",
              "      <td>0</td>\n",
              "      <td>0</td>\n",
              "      <td>0</td>\n",
              "      <td>0</td>\n",
              "      <td>0</td>\n",
              "      <td>1</td>\n",
              "      <td>0</td>\n",
              "      <td>0</td>\n",
              "      <td>0</td>\n",
              "      <td>0</td>\n",
              "      <td>0</td>\n",
              "      <td>0</td>\n",
              "      <td>0</td>\n",
              "      <td>0</td>\n",
              "      <td>0</td>\n",
              "      <td>0</td>\n",
              "      <td>0</td>\n",
              "      <td>1</td>\n",
              "      <td>0</td>\n",
              "      <td>0</td>\n",
              "      <td>0</td>\n",
              "      <td>0</td>\n",
              "      <td>0</td>\n",
              "      <td>0</td>\n",
              "      <td>0</td>\n",
              "      <td>0</td>\n",
              "      <td>0</td>\n",
              "      <td>0</td>\n",
              "      <td>0</td>\n",
              "      <td>0</td>\n",
              "      <td>0</td>\n",
              "      <td>0</td>\n",
              "      <td>0</td>\n",
              "      <td>0</td>\n",
              "      <td>...</td>\n",
              "      <td>0</td>\n",
              "      <td>0</td>\n",
              "      <td>0</td>\n",
              "      <td>0</td>\n",
              "      <td>0</td>\n",
              "      <td>0</td>\n",
              "      <td>0</td>\n",
              "      <td>0</td>\n",
              "      <td>0</td>\n",
              "      <td>0</td>\n",
              "      <td>0</td>\n",
              "      <td>0</td>\n",
              "      <td>0</td>\n",
              "      <td>0</td>\n",
              "      <td>0</td>\n",
              "      <td>1</td>\n",
              "      <td>0</td>\n",
              "      <td>1.6</td>\n",
              "      <td>2.49759</td>\n",
              "      <td>292.219543</td>\n",
              "      <td>3</td>\n",
              "      <td>0</td>\n",
              "      <td>1</td>\n",
              "      <td>1681</td>\n",
              "      <td>41.091000</td>\n",
              "      <td>-85.067001</td>\n",
              "      <td>12.7</td>\n",
              "      <td>2</td>\n",
              "      <td>3</td>\n",
              "      <td>2</td>\n",
              "      <td>11489</td>\n",
              "      <td>2230</td>\n",
              "      <td>18</td>\n",
              "      <td>11689</td>\n",
              "      <td>2235</td>\n",
              "      <td>2</td>\n",
              "      <td>1</td>\n",
              "      <td>92</td>\n",
              "      <td>46835</td>\n",
              "      <td>0</td>\n",
              "    </tr>\n",
              "    <tr>\n",
              "      <th>1</th>\n",
              "      <td>1</td>\n",
              "      <td>1</td>\n",
              "      <td>0</td>\n",
              "      <td>0</td>\n",
              "      <td>0</td>\n",
              "      <td>0</td>\n",
              "      <td>0</td>\n",
              "      <td>0</td>\n",
              "      <td>0</td>\n",
              "      <td>0</td>\n",
              "      <td>1</td>\n",
              "      <td>0</td>\n",
              "      <td>0</td>\n",
              "      <td>0</td>\n",
              "      <td>0</td>\n",
              "      <td>0</td>\n",
              "      <td>0</td>\n",
              "      <td>0</td>\n",
              "      <td>0</td>\n",
              "      <td>0</td>\n",
              "      <td>0</td>\n",
              "      <td>0</td>\n",
              "      <td>0</td>\n",
              "      <td>0</td>\n",
              "      <td>0</td>\n",
              "      <td>0</td>\n",
              "      <td>0</td>\n",
              "      <td>0</td>\n",
              "      <td>0</td>\n",
              "      <td>0</td>\n",
              "      <td>0</td>\n",
              "      <td>0</td>\n",
              "      <td>0</td>\n",
              "      <td>0</td>\n",
              "      <td>0</td>\n",
              "      <td>0</td>\n",
              "      <td>0</td>\n",
              "      <td>0</td>\n",
              "      <td>0</td>\n",
              "      <td>0</td>\n",
              "      <td>...</td>\n",
              "      <td>0</td>\n",
              "      <td>0</td>\n",
              "      <td>0</td>\n",
              "      <td>0</td>\n",
              "      <td>0</td>\n",
              "      <td>0</td>\n",
              "      <td>0</td>\n",
              "      <td>0</td>\n",
              "      <td>0</td>\n",
              "      <td>1</td>\n",
              "      <td>0</td>\n",
              "      <td>0</td>\n",
              "      <td>0</td>\n",
              "      <td>0</td>\n",
              "      <td>0</td>\n",
              "      <td>1</td>\n",
              "      <td>0</td>\n",
              "      <td>0.5</td>\n",
              "      <td>2.66527</td>\n",
              "      <td>364.958313</td>\n",
              "      <td>25</td>\n",
              "      <td>0</td>\n",
              "      <td>1</td>\n",
              "      <td>1457</td>\n",
              "      <td>34.599998</td>\n",
              "      <td>-112.554001</td>\n",
              "      <td>0.0</td>\n",
              "      <td>2</td>\n",
              "      <td>5</td>\n",
              "      <td>2</td>\n",
              "      <td>22688</td>\n",
              "      <td>833</td>\n",
              "      <td>4</td>\n",
              "      <td>22888</td>\n",
              "      <td>1010</td>\n",
              "      <td>2</td>\n",
              "      <td>1</td>\n",
              "      <td>56</td>\n",
              "      <td>86325</td>\n",
              "      <td>0</td>\n",
              "    </tr>\n",
              "    <tr>\n",
              "      <th>2</th>\n",
              "      <td>1</td>\n",
              "      <td>0</td>\n",
              "      <td>0</td>\n",
              "      <td>1</td>\n",
              "      <td>0</td>\n",
              "      <td>0</td>\n",
              "      <td>0</td>\n",
              "      <td>0</td>\n",
              "      <td>0</td>\n",
              "      <td>0</td>\n",
              "      <td>0</td>\n",
              "      <td>0</td>\n",
              "      <td>1</td>\n",
              "      <td>0</td>\n",
              "      <td>0</td>\n",
              "      <td>0</td>\n",
              "      <td>0</td>\n",
              "      <td>0</td>\n",
              "      <td>0</td>\n",
              "      <td>0</td>\n",
              "      <td>0</td>\n",
              "      <td>0</td>\n",
              "      <td>0</td>\n",
              "      <td>0</td>\n",
              "      <td>0</td>\n",
              "      <td>0</td>\n",
              "      <td>0</td>\n",
              "      <td>0</td>\n",
              "      <td>0</td>\n",
              "      <td>0</td>\n",
              "      <td>0</td>\n",
              "      <td>0</td>\n",
              "      <td>0</td>\n",
              "      <td>0</td>\n",
              "      <td>0</td>\n",
              "      <td>0</td>\n",
              "      <td>0</td>\n",
              "      <td>0</td>\n",
              "      <td>0</td>\n",
              "      <td>0</td>\n",
              "      <td>...</td>\n",
              "      <td>0</td>\n",
              "      <td>0</td>\n",
              "      <td>0</td>\n",
              "      <td>0</td>\n",
              "      <td>0</td>\n",
              "      <td>0</td>\n",
              "      <td>0</td>\n",
              "      <td>0</td>\n",
              "      <td>0</td>\n",
              "      <td>0</td>\n",
              "      <td>0</td>\n",
              "      <td>0</td>\n",
              "      <td>0</td>\n",
              "      <td>0</td>\n",
              "      <td>0</td>\n",
              "      <td>0</td>\n",
              "      <td>1</td>\n",
              "      <td>3.0</td>\n",
              "      <td>2.43343</td>\n",
              "      <td>626.564575</td>\n",
              "      <td>17</td>\n",
              "      <td>0</td>\n",
              "      <td>0</td>\n",
              "      <td>4224</td>\n",
              "      <td>42.485001</td>\n",
              "      <td>-71.391998</td>\n",
              "      <td>9.7</td>\n",
              "      <td>6</td>\n",
              "      <td>1</td>\n",
              "      <td>2</td>\n",
              "      <td>32288</td>\n",
              "      <td>1000</td>\n",
              "      <td>25</td>\n",
              "      <td>32488</td>\n",
              "      <td>1000</td>\n",
              "      <td>1</td>\n",
              "      <td>1</td>\n",
              "      <td>23</td>\n",
              "      <td>1778</td>\n",
              "      <td>0</td>\n",
              "    </tr>\n",
              "    <tr>\n",
              "      <th>3</th>\n",
              "      <td>1</td>\n",
              "      <td>0</td>\n",
              "      <td>0</td>\n",
              "      <td>1</td>\n",
              "      <td>0</td>\n",
              "      <td>0</td>\n",
              "      <td>0</td>\n",
              "      <td>0</td>\n",
              "      <td>0</td>\n",
              "      <td>0</td>\n",
              "      <td>0</td>\n",
              "      <td>0</td>\n",
              "      <td>1</td>\n",
              "      <td>0</td>\n",
              "      <td>0</td>\n",
              "      <td>0</td>\n",
              "      <td>0</td>\n",
              "      <td>0</td>\n",
              "      <td>0</td>\n",
              "      <td>0</td>\n",
              "      <td>0</td>\n",
              "      <td>0</td>\n",
              "      <td>0</td>\n",
              "      <td>0</td>\n",
              "      <td>0</td>\n",
              "      <td>0</td>\n",
              "      <td>0</td>\n",
              "      <td>0</td>\n",
              "      <td>0</td>\n",
              "      <td>0</td>\n",
              "      <td>0</td>\n",
              "      <td>0</td>\n",
              "      <td>0</td>\n",
              "      <td>0</td>\n",
              "      <td>0</td>\n",
              "      <td>0</td>\n",
              "      <td>0</td>\n",
              "      <td>0</td>\n",
              "      <td>0</td>\n",
              "      <td>0</td>\n",
              "      <td>...</td>\n",
              "      <td>0</td>\n",
              "      <td>0</td>\n",
              "      <td>0</td>\n",
              "      <td>0</td>\n",
              "      <td>0</td>\n",
              "      <td>0</td>\n",
              "      <td>0</td>\n",
              "      <td>0</td>\n",
              "      <td>0</td>\n",
              "      <td>0</td>\n",
              "      <td>0</td>\n",
              "      <td>0</td>\n",
              "      <td>0</td>\n",
              "      <td>0</td>\n",
              "      <td>0</td>\n",
              "      <td>1</td>\n",
              "      <td>0</td>\n",
              "      <td>0.6</td>\n",
              "      <td>2.43343</td>\n",
              "      <td>570.611755</td>\n",
              "      <td>17</td>\n",
              "      <td>0</td>\n",
              "      <td>1</td>\n",
              "      <td>4094</td>\n",
              "      <td>42.485001</td>\n",
              "      <td>-71.391998</td>\n",
              "      <td>27.6</td>\n",
              "      <td>6</td>\n",
              "      <td>3</td>\n",
              "      <td>3</td>\n",
              "      <td>32488</td>\n",
              "      <td>700</td>\n",
              "      <td>25</td>\n",
              "      <td>32688</td>\n",
              "      <td>1200</td>\n",
              "      <td>1</td>\n",
              "      <td>1</td>\n",
              "      <td>62</td>\n",
              "      <td>1432</td>\n",
              "      <td>0</td>\n",
              "    </tr>\n",
              "    <tr>\n",
              "      <th>4</th>\n",
              "      <td>1</td>\n",
              "      <td>0</td>\n",
              "      <td>0</td>\n",
              "      <td>0</td>\n",
              "      <td>0</td>\n",
              "      <td>0</td>\n",
              "      <td>1</td>\n",
              "      <td>0</td>\n",
              "      <td>0</td>\n",
              "      <td>0</td>\n",
              "      <td>0</td>\n",
              "      <td>0</td>\n",
              "      <td>0</td>\n",
              "      <td>0</td>\n",
              "      <td>1</td>\n",
              "      <td>0</td>\n",
              "      <td>0</td>\n",
              "      <td>0</td>\n",
              "      <td>0</td>\n",
              "      <td>0</td>\n",
              "      <td>0</td>\n",
              "      <td>0</td>\n",
              "      <td>0</td>\n",
              "      <td>0</td>\n",
              "      <td>0</td>\n",
              "      <td>0</td>\n",
              "      <td>0</td>\n",
              "      <td>0</td>\n",
              "      <td>0</td>\n",
              "      <td>0</td>\n",
              "      <td>0</td>\n",
              "      <td>0</td>\n",
              "      <td>0</td>\n",
              "      <td>0</td>\n",
              "      <td>0</td>\n",
              "      <td>0</td>\n",
              "      <td>0</td>\n",
              "      <td>0</td>\n",
              "      <td>0</td>\n",
              "      <td>0</td>\n",
              "      <td>...</td>\n",
              "      <td>0</td>\n",
              "      <td>0</td>\n",
              "      <td>0</td>\n",
              "      <td>0</td>\n",
              "      <td>0</td>\n",
              "      <td>0</td>\n",
              "      <td>0</td>\n",
              "      <td>0</td>\n",
              "      <td>0</td>\n",
              "      <td>0</td>\n",
              "      <td>0</td>\n",
              "      <td>0</td>\n",
              "      <td>0</td>\n",
              "      <td>0</td>\n",
              "      <td>0</td>\n",
              "      <td>0</td>\n",
              "      <td>1</td>\n",
              "      <td>1.2</td>\n",
              "      <td>2.10811</td>\n",
              "      <td>426.798859</td>\n",
              "      <td>95</td>\n",
              "      <td>0</td>\n",
              "      <td>0</td>\n",
              "      <td>6849</td>\n",
              "      <td>39.007999</td>\n",
              "      <td>-94.347000</td>\n",
              "      <td>23.5</td>\n",
              "      <td>1</td>\n",
              "      <td>3</td>\n",
              "      <td>4</td>\n",
              "      <td>32288</td>\n",
              "      <td>605</td>\n",
              "      <td>29</td>\n",
              "      <td>32488</td>\n",
              "      <td>610</td>\n",
              "      <td>2</td>\n",
              "      <td>1</td>\n",
              "      <td>91</td>\n",
              "      <td>64134</td>\n",
              "      <td>0</td>\n",
              "    </tr>\n",
              "  </tbody>\n",
              "</table>\n",
              "<p>5 rows × 431 columns</p>\n",
              "</div>"
            ],
            "text/plain": [
              "   windoor_1  state2_1  state2_2  state2_3  ...  typebldg  wave    zip  zipflag\n",
              "0          1         0         1         0  ...         1    92  46835        0\n",
              "1          1         1         0         0  ...         1    56  86325        0\n",
              "2          1         0         0         1  ...         1    23   1778        0\n",
              "3          1         0         0         1  ...         1    62   1432        0\n",
              "4          1         0         0         0  ...         1    91  64134        0\n",
              "\n",
              "[5 rows x 431 columns]"
            ]
          },
          "metadata": {
            "tags": []
          }
        },
        {
          "output_type": "display_data",
          "data": {
            "application/vnd.google.colaboratory.intrinsic+json": {
              "type": "string"
            },
            "text/plain": [
              "'y_col:activity'"
            ]
          },
          "metadata": {
            "tags": []
          }
        },
        {
          "output_type": "display_data",
          "data": {
            "application/vnd.google.colaboratory.intrinsic+json": {
              "type": "string"
            },
            "text/plain": [
              "\"x_cols num:430, names:Index(['windoor_1', 'state2_1', 'state2_2', 'state2_3', 'state2_4', 'state2_5',\\n       'state2_6', 'state2_7', 'state2_8', 'state2_9',\\n       ...\\n       'startdt', 'starttm', 'stfips', 'stopdt', 'stoptm', 'stratum',\\n       'typebldg', 'wave', 'zip', 'zipflag'],\\n      dtype='object', length=430)\""
            ]
          },
          "metadata": {
            "tags": []
          }
        },
        {
          "output_type": "stream",
          "text": [
            "CPU times: user 390 ms, sys: 98.4 ms, total: 488 ms\n",
            "Wall time: 488 ms\n"
          ],
          "name": "stdout"
        }
      ]
    },
    {
      "cell_type": "markdown",
      "metadata": {
        "id": "O3-uLXjpv_KI"
      },
      "source": [
        "## データ分割"
      ]
    },
    {
      "cell_type": "code",
      "metadata": {
        "id": "YIXOz1u5wA9_",
        "outputId": "2f6a2c94-bbef-472a-b04e-c8ccee9beb98",
        "colab": {
          "base_uri": "https://localhost:8080/",
          "height": 119
        }
      },
      "source": [
        "SEED = 7 #@param{type:'number'}\n",
        "\n",
        "X_train, X_test, y_train, y_test = train_test_split(dataset[x_cols], dataset[y_col].values,\n",
        "                                                    test_size=0.2, random_state=SEED)\n",
        "X_train, X_val, y_train, y_val = train_test_split(X_train, y_train,\n",
        "                                                  test_size=0.2, random_state=SEED)\n",
        "\n",
        "display(X_train.shape, y_train.shape)\n",
        "display(X_val.shape, y_val.shape)\n",
        "display(X_test.shape, y_test.shape)"
      ],
      "execution_count": null,
      "outputs": [
        {
          "output_type": "display_data",
          "data": {
            "text/plain": [
              "(8046, 430)"
            ]
          },
          "metadata": {
            "tags": []
          }
        },
        {
          "output_type": "display_data",
          "data": {
            "text/plain": [
              "(8046,)"
            ]
          },
          "metadata": {
            "tags": []
          }
        },
        {
          "output_type": "display_data",
          "data": {
            "text/plain": [
              "(2012, 430)"
            ]
          },
          "metadata": {
            "tags": []
          }
        },
        {
          "output_type": "display_data",
          "data": {
            "text/plain": [
              "(2012,)"
            ]
          },
          "metadata": {
            "tags": []
          }
        },
        {
          "output_type": "display_data",
          "data": {
            "text/plain": [
              "(2515, 430)"
            ]
          },
          "metadata": {
            "tags": []
          }
        },
        {
          "output_type": "display_data",
          "data": {
            "text/plain": [
              "(2515,)"
            ]
          },
          "metadata": {
            "tags": []
          }
        }
      ]
    },
    {
      "cell_type": "markdown",
      "metadata": {
        "id": "wf3_o6xS8eDJ"
      },
      "source": [
        "## WideDeepModel用のデータ加工"
      ]
    },
    {
      "cell_type": "code",
      "metadata": {
        "id": "hS7AJAeS8b6U",
        "outputId": "5da98c1d-a819-4fa3-892a-bc5f37ed80ba",
        "colab": {
          "base_uri": "https://localhost:8080/"
        }
      },
      "source": [
        "%%time\n",
        "def take_dnn_cols(X_cols, linear_cols):\n",
        "    '''DNN用のカラム名を返す\n",
        "    INFO : WideDeepModel用'''\n",
        "    return set(X_cols) ^ set(linear_cols)\n",
        "\n",
        "\n",
        "# DNNモデルの入力に使用する特徴量の取得\n",
        "X_cols = list(ds_info.features['features'].keys())\n",
        "dnn_cols = take_dnn_cols(X_cols=X_cols, linear_cols=encode_cols)\n",
        "X_train_dnn = X_train.loc[:, dnn_cols].values,\n",
        "input_shape_dnn = (X_train.loc[:, dnn_cols].shape[1], )\n",
        "\n",
        "# 線形回帰モデルが使用する特徴量名の取得\n",
        "linear_cols = X_train.drop(columns=dnn_cols).columns\n",
        "\n",
        "\n",
        "def X_data_WideDeep_fn(X_df, linear_cols, dnn_cols):\n",
        "    '''WideDeepモデル用の特徴量データセットの作成'''\n",
        "    return [X_df[linear_cols].values, X_df[dnn_cols].values]\n",
        "\n",
        "\n",
        "X_train_WideDeep = X_data_WideDeep_fn(X_df=X_train, linear_cols=linear_cols, dnn_cols=dnn_cols)\n",
        "X_val_WideDeep = X_data_WideDeep_fn(X_df=X_val, linear_cols=linear_cols, dnn_cols=dnn_cols)\n",
        "X_test_WideDeep = X_data_WideDeep_fn(X_df=X_test, linear_cols=linear_cols, dnn_cols=dnn_cols)"
      ],
      "execution_count": null,
      "outputs": [
        {
          "output_type": "stream",
          "text": [
            "CPU times: user 24.4 ms, sys: 1.94 ms, total: 26.4 ms\n",
            "Wall time: 26.5 ms\n"
          ],
          "name": "stdout"
        }
      ]
    },
    {
      "cell_type": "markdown",
      "metadata": {
        "id": "J5YamKo39PL8"
      },
      "source": [
        "# HyperModelを構築\n",
        "WideDeepModelを最適化\n",
        "[https://www.tensorflow.org/api_docs/python/tf/keras/experimental/WideDeepModel](https://www.tensorflow.org/api_docs/python/tf/keras/experimental/WideDeepModel)"
      ]
    },
    {
      "cell_type": "code",
      "metadata": {
        "id": "aldA5i2dwd3w"
      },
      "source": [
        "class RadonHyperModel(HyperModel):\n",
        "\n",
        "      def __init__(self, input_shape_dnn, X_adapt_norm):\n",
        "          self.input_shape_dnn = input_shape_dnn\n",
        "          self.norm_layer = self._setupNormalizationLayer(X=X_adapt_norm)\n",
        "      \n",
        "\n",
        "      def _setupNormalizationLayer(self, X):\n",
        "          '''正規化の前処理レイヤーを初期化'''\n",
        "          norm_layer = layers.experimental.preprocessing.Normalization()\n",
        "          norm_layer.adapt(X)\n",
        "          return norm_layer\n",
        "\n",
        "\n",
        "      def build(self, hp):\n",
        "          '''モデル構造と探索空間の定義'''\n",
        "          dnn_model = Sequential()\n",
        "          dnn_model.add(layers.Input(shape=self.input_shape_dnn))\n",
        "\n",
        "          hp_processing_layer = hp.Boolean('is_processing_layer', default=False)\n",
        "          if hp_processing_layer:\n",
        "              dnn_model.add(self.norm_layer)\n",
        "            \n",
        "          for i in range(hp.Int('num_layers', min_value=2, max_value=5, step=1)):\n",
        "              units = hp.Int('units_'+str(i), min_value=16, max_value=128, step=16)\n",
        "              dnn_model.add(layers.Dense(units=units, activation='relu'))\n",
        "              dnn_model.add(layers.Dropout(rate=0.3))\n",
        "\n",
        "          dnn_model.add(layers.Dense(1))\n",
        "\n",
        "          linear_model = LinearModel()\n",
        "\n",
        "          model = WideDeepModel(linear_model, dnn_model)\n",
        "\n",
        "          model.compile(\n",
        "              optimizer=['sgd', optimizers.Adam(hp.Choice('learning_rate', [1e-1, 1e-3, 1e-4]))],\n",
        "              loss='mse',\n",
        "              metrics=['RootMeanSquaredError'])\n",
        "          \n",
        "          return model"
      ],
      "execution_count": null,
      "outputs": []
    },
    {
      "cell_type": "code",
      "metadata": {
        "id": "SIueBUl57oOJ",
        "outputId": "7b22e70c-4e09-4ea5-a21c-26a42700bcf7",
        "colab": {
          "base_uri": "https://localhost:8080/",
          "height": 51
        }
      },
      "source": [
        "# Hyperbandアルゴリズム自体の試行回数(default:1)\n",
        "HYPERBAND_ITERATIONS = 3 #@param{type:'number'}\n",
        "# バケット内のモデルを選択する際の割合(default:3)\n",
        "FACTOR = 3 #@param{type:'number'}\n",
        "# モデル1つあたりの最大Epoch数\n",
        "MAX_EPOCHS = 50 #@param{type:'number'}\n",
        "# バケット1つあたりで試行されるパラメータ候補の数\n",
        "PARAMETER_CANDIDATES = 20 # @param{type:'number'}\n",
        "# 最小化する評価指標\n",
        "objective = Objective(\"val_root_mean_squared_error\", direction=\"min\")\n",
        "SEED = 7\n",
        "\n",
        "\n",
        "hyper_model = RadonHyperModel(input_shape_dnn=input_shape_dnn,\n",
        "                              X_adapt_norm=X_train_dnn)\n",
        "display(hyper_model)\n",
        "\n",
        "tuner = Hyperband(hypermodel=hyper_model,\n",
        "                  objective=objective,\n",
        "                  hyperband_iterations=HYPERBAND_ITERATIONS,\n",
        "                  factor=FACTOR,\n",
        "                  max_epochs=MAX_EPOCHS,\n",
        "                  seed=SEED\n",
        "                  )\n",
        "display(tuner)\n",
        "\n",
        "# 早期停止コールバックの定義\n",
        "es = EarlyStopping(monitor='val_loss',\n",
        "                   patience=5)\n",
        "\n",
        "class ClearTrainingOutput(Callback):\n",
        "    '''Ipythonログをクリアするコールバックのクラス定義'''\n",
        "    def on_train_end(*args, **kwargs):\n",
        "        IPython.display.clear_output(wait = True)"
      ],
      "execution_count": null,
      "outputs": [
        {
          "output_type": "display_data",
          "data": {
            "text/plain": [
              "<__main__.RadonHyperModel at 0x7f0d09409d68>"
            ]
          },
          "metadata": {
            "tags": []
          }
        },
        {
          "output_type": "display_data",
          "data": {
            "text/plain": [
              "<kerastuner.tuners.hyperband.Hyperband at 0x7f0d097d27f0>"
            ]
          },
          "metadata": {
            "tags": []
          }
        }
      ]
    },
    {
      "cell_type": "code",
      "metadata": {
        "id": "-Hw0Bf3b9u71",
        "outputId": "83560c3b-417c-4fc8-abcb-a05e00d294cc",
        "colab": {
          "base_uri": "https://localhost:8080/",
          "height": 448
        }
      },
      "source": [
        "%%time\n",
        "tuner.search(x=X_train_WideDeep, y=y_train,\n",
        "             epochs=PARAMETER_CANDIDATES,\n",
        "             validation_data=(X_val_WideDeep, y_val),\n",
        "             callbacks=[es, ClearTrainingOutput()],\n",
        "             verbose=1)"
      ],
      "execution_count": null,
      "outputs": [
        {
          "output_type": "display_data",
          "data": {
            "text/html": [
              "<span style=\"color:#4527A0\"><h1 style=\"font-size:18px\">Trial complete</h1></span>"
            ],
            "text/plain": [
              "<IPython.core.display.HTML object>"
            ]
          },
          "metadata": {
            "tags": []
          }
        },
        {
          "output_type": "display_data",
          "data": {
            "text/html": [
              "<span style=\"color:#4527A0\"><h1 style=\"font-size:18px\">Trial summary</h1></span>"
            ],
            "text/plain": [
              "<IPython.core.display.HTML object>"
            ]
          },
          "metadata": {
            "tags": []
          }
        },
        {
          "output_type": "display_data",
          "data": {
            "text/html": [
              "<span style=\"color:cyan\"> |-Trial ID: 1f2e80717e34c5aaedc43292b87f010b</span>"
            ],
            "text/plain": [
              "<IPython.core.display.HTML object>"
            ]
          },
          "metadata": {
            "tags": []
          }
        },
        {
          "output_type": "display_data",
          "data": {
            "text/html": [
              "<span style=\"color:cyan\"> |-Score: 9.223251342773438</span>"
            ],
            "text/plain": [
              "<IPython.core.display.HTML object>"
            ]
          },
          "metadata": {
            "tags": []
          }
        },
        {
          "output_type": "display_data",
          "data": {
            "text/html": [
              "<span style=\"color:cyan\"> |-Best step: 0</span>"
            ],
            "text/plain": [
              "<IPython.core.display.HTML object>"
            ]
          },
          "metadata": {
            "tags": []
          }
        },
        {
          "output_type": "display_data",
          "data": {
            "text/html": [
              "<span style=\"color:#7E57C2\"><h2 style=\"font-size:16px\">Hyperparameters:</h2></span>"
            ],
            "text/plain": [
              "<IPython.core.display.HTML object>"
            ]
          },
          "metadata": {
            "tags": []
          }
        },
        {
          "output_type": "display_data",
          "data": {
            "text/html": [
              "<span style=\"color:cyan\"> |-is_processing_layer: False</span>"
            ],
            "text/plain": [
              "<IPython.core.display.HTML object>"
            ]
          },
          "metadata": {
            "tags": []
          }
        },
        {
          "output_type": "display_data",
          "data": {
            "text/html": [
              "<span style=\"color:blue\"> |-learning_rate: 0.001</span>"
            ],
            "text/plain": [
              "<IPython.core.display.HTML object>"
            ]
          },
          "metadata": {
            "tags": []
          }
        },
        {
          "output_type": "display_data",
          "data": {
            "text/html": [
              "<span style=\"color:cyan\"> |-num_layers: 4</span>"
            ],
            "text/plain": [
              "<IPython.core.display.HTML object>"
            ]
          },
          "metadata": {
            "tags": []
          }
        },
        {
          "output_type": "display_data",
          "data": {
            "text/html": [
              "<span style=\"color:blue\"> |-tuner/bracket: 0</span>"
            ],
            "text/plain": [
              "<IPython.core.display.HTML object>"
            ]
          },
          "metadata": {
            "tags": []
          }
        },
        {
          "output_type": "display_data",
          "data": {
            "text/html": [
              "<span style=\"color:cyan\"> |-tuner/epochs: 20</span>"
            ],
            "text/plain": [
              "<IPython.core.display.HTML object>"
            ]
          },
          "metadata": {
            "tags": []
          }
        },
        {
          "output_type": "display_data",
          "data": {
            "text/html": [
              "<span style=\"color:blue\"> |-tuner/initial_epoch: 0</span>"
            ],
            "text/plain": [
              "<IPython.core.display.HTML object>"
            ]
          },
          "metadata": {
            "tags": []
          }
        },
        {
          "output_type": "display_data",
          "data": {
            "text/html": [
              "<span style=\"color:cyan\"> |-tuner/round: 0</span>"
            ],
            "text/plain": [
              "<IPython.core.display.HTML object>"
            ]
          },
          "metadata": {
            "tags": []
          }
        },
        {
          "output_type": "display_data",
          "data": {
            "text/html": [
              "<span style=\"color:blue\"> |-units_0: 32</span>"
            ],
            "text/plain": [
              "<IPython.core.display.HTML object>"
            ]
          },
          "metadata": {
            "tags": []
          }
        },
        {
          "output_type": "display_data",
          "data": {
            "text/html": [
              "<span style=\"color:cyan\"> |-units_1: 32</span>"
            ],
            "text/plain": [
              "<IPython.core.display.HTML object>"
            ]
          },
          "metadata": {
            "tags": []
          }
        },
        {
          "output_type": "display_data",
          "data": {
            "text/html": [
              "<span style=\"color:blue\"> |-units_2: 96</span>"
            ],
            "text/plain": [
              "<IPython.core.display.HTML object>"
            ]
          },
          "metadata": {
            "tags": []
          }
        },
        {
          "output_type": "display_data",
          "data": {
            "text/html": [
              "<span style=\"color:cyan\"> |-units_3: 80</span>"
            ],
            "text/plain": [
              "<IPython.core.display.HTML object>"
            ]
          },
          "metadata": {
            "tags": []
          }
        },
        {
          "output_type": "display_data",
          "data": {
            "text/html": [
              "<span style=\"color:blue\"> |-units_4: 48</span>"
            ],
            "text/plain": [
              "<IPython.core.display.HTML object>"
            ]
          },
          "metadata": {
            "tags": []
          }
        },
        {
          "output_type": "stream",
          "text": [
            "INFO:tensorflow:Oracle triggered exit\n"
          ],
          "name": "stdout"
        },
        {
          "output_type": "stream",
          "text": [
            "INFO:tensorflow:Oracle triggered exit\n"
          ],
          "name": "stderr"
        },
        {
          "output_type": "stream",
          "text": [
            "CPU times: user 5min 40s, sys: 24.6 s, total: 6min 5s\n",
            "Wall time: 5min 11s\n"
          ],
          "name": "stdout"
        }
      ]
    },
    {
      "cell_type": "markdown",
      "metadata": {
        "id": "weFfG5S6PGq1"
      },
      "source": [
        "# ベストなモデルの可視化"
      ]
    },
    {
      "cell_type": "code",
      "metadata": {
        "id": "XnV-dU04RTE6",
        "outputId": "563558c2-095d-4d29-d33f-56f9b099e7ac",
        "colab": {
          "base_uri": "https://localhost:8080/",
          "height": 1000
        }
      },
      "source": [
        "def display_best_hp(tuner):\n",
        "    '''ベストなハイパーパラメータを表示'''\n",
        "    best_hp = tuner.get_best_hyperparameters()[0]\n",
        "    display(best_hp.get_config()['values'])\n",
        "\n",
        "\n",
        "def take_best_model(tuner):\n",
        "    '''ベストなモデルを取り出し'''\n",
        "    best_model = tuner.get_best_models()[0]\n",
        "    return best_model\n",
        "\n",
        "\n",
        "def display_dnn_model(dnn_model):\n",
        "    '''DNNモデルの構造を表示'''\n",
        "    display(plot_model(dnn_model))\n",
        "    display(dnn_model.summary())\n",
        "\n",
        "\n",
        "display_best_hp(tuner)\n",
        "model = take_best_model(tuner)\n",
        "display_dnn_model(model.dnn_model)"
      ],
      "execution_count": null,
      "outputs": [
        {
          "output_type": "display_data",
          "data": {
            "text/plain": [
              "{'is_processing_layer': True,\n",
              " 'learning_rate': 0.001,\n",
              " 'num_layers': 4,\n",
              " 'tuner/bracket': 0,\n",
              " 'tuner/epochs': 20,\n",
              " 'tuner/initial_epoch': 0,\n",
              " 'tuner/round': 0,\n",
              " 'units_0': 80,\n",
              " 'units_1': 112,\n",
              " 'units_2': 112,\n",
              " 'units_3': 32,\n",
              " 'units_4': 80}"
            ]
          },
          "metadata": {
            "tags": []
          }
        },
        {
          "output_type": "stream",
          "text": [
            "WARNING:tensorflow:Unresolved object in checkpoint: (root).linear_model.dense_layers\n"
          ],
          "name": "stdout"
        },
        {
          "output_type": "stream",
          "text": [
            "WARNING:tensorflow:Unresolved object in checkpoint: (root).linear_model.dense_layers\n"
          ],
          "name": "stderr"
        },
        {
          "output_type": "stream",
          "text": [
            "WARNING:tensorflow:Unresolved object in checkpoint: (root).linear_model.bias\n"
          ],
          "name": "stdout"
        },
        {
          "output_type": "stream",
          "text": [
            "WARNING:tensorflow:Unresolved object in checkpoint: (root).linear_model.bias\n"
          ],
          "name": "stderr"
        },
        {
          "output_type": "stream",
          "text": [
            "WARNING:tensorflow:Unresolved object in checkpoint: (root).linear_model.dense_layers.0\n"
          ],
          "name": "stdout"
        },
        {
          "output_type": "stream",
          "text": [
            "WARNING:tensorflow:Unresolved object in checkpoint: (root).linear_model.dense_layers.0\n"
          ],
          "name": "stderr"
        },
        {
          "output_type": "stream",
          "text": [
            "WARNING:tensorflow:Unresolved object in checkpoint: (root).optimizer.0.iter\n"
          ],
          "name": "stdout"
        },
        {
          "output_type": "stream",
          "text": [
            "WARNING:tensorflow:Unresolved object in checkpoint: (root).optimizer.0.iter\n"
          ],
          "name": "stderr"
        },
        {
          "output_type": "stream",
          "text": [
            "WARNING:tensorflow:Unresolved object in checkpoint: (root).optimizer.0.decay\n"
          ],
          "name": "stdout"
        },
        {
          "output_type": "stream",
          "text": [
            "WARNING:tensorflow:Unresolved object in checkpoint: (root).optimizer.0.decay\n"
          ],
          "name": "stderr"
        },
        {
          "output_type": "stream",
          "text": [
            "WARNING:tensorflow:Unresolved object in checkpoint: (root).optimizer.0.learning_rate\n"
          ],
          "name": "stdout"
        },
        {
          "output_type": "stream",
          "text": [
            "WARNING:tensorflow:Unresolved object in checkpoint: (root).optimizer.0.learning_rate\n"
          ],
          "name": "stderr"
        },
        {
          "output_type": "stream",
          "text": [
            "WARNING:tensorflow:Unresolved object in checkpoint: (root).optimizer.0.momentum\n"
          ],
          "name": "stdout"
        },
        {
          "output_type": "stream",
          "text": [
            "WARNING:tensorflow:Unresolved object in checkpoint: (root).optimizer.0.momentum\n"
          ],
          "name": "stderr"
        },
        {
          "output_type": "stream",
          "text": [
            "WARNING:tensorflow:Unresolved object in checkpoint: (root).optimizer.1.iter\n"
          ],
          "name": "stdout"
        },
        {
          "output_type": "stream",
          "text": [
            "WARNING:tensorflow:Unresolved object in checkpoint: (root).optimizer.1.iter\n"
          ],
          "name": "stderr"
        },
        {
          "output_type": "stream",
          "text": [
            "WARNING:tensorflow:Unresolved object in checkpoint: (root).optimizer.1.beta_1\n"
          ],
          "name": "stdout"
        },
        {
          "output_type": "stream",
          "text": [
            "WARNING:tensorflow:Unresolved object in checkpoint: (root).optimizer.1.beta_1\n"
          ],
          "name": "stderr"
        },
        {
          "output_type": "stream",
          "text": [
            "WARNING:tensorflow:Unresolved object in checkpoint: (root).optimizer.1.beta_2\n"
          ],
          "name": "stdout"
        },
        {
          "output_type": "stream",
          "text": [
            "WARNING:tensorflow:Unresolved object in checkpoint: (root).optimizer.1.beta_2\n"
          ],
          "name": "stderr"
        },
        {
          "output_type": "stream",
          "text": [
            "WARNING:tensorflow:Unresolved object in checkpoint: (root).optimizer.1.decay\n"
          ],
          "name": "stdout"
        },
        {
          "output_type": "stream",
          "text": [
            "WARNING:tensorflow:Unresolved object in checkpoint: (root).optimizer.1.decay\n"
          ],
          "name": "stderr"
        },
        {
          "output_type": "stream",
          "text": [
            "WARNING:tensorflow:Unresolved object in checkpoint: (root).optimizer.1.learning_rate\n"
          ],
          "name": "stdout"
        },
        {
          "output_type": "stream",
          "text": [
            "WARNING:tensorflow:Unresolved object in checkpoint: (root).optimizer.1.learning_rate\n"
          ],
          "name": "stderr"
        },
        {
          "output_type": "stream",
          "text": [
            "WARNING:tensorflow:Unresolved object in checkpoint: (root).linear_model.dense_layers.0.kernel\n"
          ],
          "name": "stdout"
        },
        {
          "output_type": "stream",
          "text": [
            "WARNING:tensorflow:Unresolved object in checkpoint: (root).linear_model.dense_layers.0.kernel\n"
          ],
          "name": "stderr"
        },
        {
          "output_type": "stream",
          "text": [
            "WARNING:tensorflow:A checkpoint was restored (e.g. tf.train.Checkpoint.restore or tf.keras.Model.load_weights) but not all checkpointed values were used. See above for specific issues. Use expect_partial() on the load status object, e.g. tf.train.Checkpoint.restore(...).expect_partial(), to silence these warnings, or use assert_consumed() to make the check explicit. See https://www.tensorflow.org/guide/checkpoint#loading_mechanics for details.\n"
          ],
          "name": "stdout"
        },
        {
          "output_type": "stream",
          "text": [
            "WARNING:tensorflow:A checkpoint was restored (e.g. tf.train.Checkpoint.restore or tf.keras.Model.load_weights) but not all checkpointed values were used. See above for specific issues. Use expect_partial() on the load status object, e.g. tf.train.Checkpoint.restore(...).expect_partial(), to silence these warnings, or use assert_consumed() to make the check explicit. See https://www.tensorflow.org/guide/checkpoint#loading_mechanics for details.\n"
          ],
          "name": "stderr"
        },
        {
          "output_type": "display_data",
          "data": {
            "image/png": "[encoded data removed]",
            "text/plain": [
              "<IPython.core.display.Image object>"
            ]
          },
          "metadata": {
            "tags": []
          }
        },
        {
          "output_type": "stream",
          "text": [
            "Model: \"sequential\"\n",
            "_________________________________________________________________\n",
            "Layer (type)                 Output Shape              Param #   \n",
            "=================================================================\n",
            "normalization (Normalization (1, None, 22)             45        \n",
            "_________________________________________________________________\n",
            "dense (Dense)                (1, None, 80)             1840      \n",
            "_________________________________________________________________\n",
            "dropout (Dropout)            (1, None, 80)             0         \n",
            "_________________________________________________________________\n",
            "dense_1 (Dense)              (1, None, 112)            9072      \n",
            "_________________________________________________________________\n",
            "dropout_1 (Dropout)          (1, None, 112)            0         \n",
            "_________________________________________________________________\n",
            "dense_2 (Dense)              (1, None, 112)            12656     \n",
            "_________________________________________________________________\n",
            "dropout_2 (Dropout)          (1, None, 112)            0         \n",
            "_________________________________________________________________\n",
            "dense_3 (Dense)              (1, None, 32)             3616      \n",
            "_________________________________________________________________\n",
            "dropout_3 (Dropout)          (1, None, 32)             0         \n",
            "_________________________________________________________________\n",
            "dense_4 (Dense)              (1, None, 1)              33        \n",
            "=================================================================\n",
            "Total params: 27,262\n",
            "Trainable params: 27,217\n",
            "Non-trainable params: 45\n",
            "_________________________________________________________________\n"
          ],
          "name": "stdout"
        },
        {
          "output_type": "display_data",
          "data": {
            "text/plain": [
              "None"
            ]
          },
          "metadata": {
            "tags": []
          }
        }
      ]
    },
    {
      "cell_type": "markdown",
      "metadata": {
        "id": "_3LKr4_8-Oog"
      },
      "source": [
        "# モデルの評価"
      ]
    },
    {
      "cell_type": "markdown",
      "metadata": {
        "id": "wHY9MTb9toqk"
      },
      "source": [
        "## Kerasの組み込み評価関数"
      ]
    },
    {
      "cell_type": "code",
      "metadata": {
        "id": "_54U-ToWRHw5",
        "outputId": "70bb0b91-3e9f-48f7-89b2-85c6f5d61556",
        "colab": {
          "base_uri": "https://localhost:8080/",
          "height": 52
        }
      },
      "source": [
        "score = model.evaluate(x=X_test_WideDeep, y=y_test, batch_size=256)\n",
        "display('loss : {}, metric : {}'.format(score[0], score[1]))"
      ],
      "execution_count": null,
      "outputs": [
        {
          "output_type": "stream",
          "text": [
            "10/10 [==============================] - 0s 3ms/step - loss: 70.2091 - root_mean_squared_error: 8.3794\n"
          ],
          "name": "stdout"
        },
        {
          "output_type": "display_data",
          "data": {
            "application/vnd.google.colaboratory.intrinsic+json": {
              "type": "string"
            },
            "text/plain": [
              "'loss : 70.20909118652344, metric : 8.37936019897461'"
            ]
          },
          "metadata": {
            "tags": []
          }
        }
      ]
    },
    {
      "cell_type": "markdown",
      "metadata": {
        "id": "18KhQRcS-ZNh"
      },
      "source": [
        "## sklearnの評価関数"
      ]
    },
    {
      "cell_type": "code",
      "metadata": {
        "id": "W0ZrIMjb-HT0",
        "outputId": "c1fe08b7-f12b-4b05-a0e2-8f3910cdb3df",
        "colab": {
          "base_uri": "https://localhost:8080/"
        }
      },
      "source": [
        "%%time\n",
        "def _calc_score(y_true, y_pred, sklearn_metric):\n",
        "  '''sklearnの評価指標のスコアを計算'''\n",
        "  score = sklearn_metric(y_true=y_true, y_pred=y_pred)\n",
        "  return score\n",
        "\n",
        "\n",
        "def evaluete_sk_metrics(y_true, y_pred, sklearn_metrics):\n",
        "  '''sklearnの各種、評価関数を使用'''\n",
        "  result = {}\n",
        "  for sk_metric in sklearn_metrics:\n",
        "    result[sk_metric.__name__] = _calc_score(y_true=y_true, y_pred=y_pred, sklearn_metric=sk_metric)\n",
        "  return result\n",
        "\n",
        "\n",
        "SK_METRICS=[r2_score, explained_variance_score, mean_squared_error]\n",
        "eval_scores = {'train': {}, 'val': {}, 'test': {}}\n",
        "\n",
        "for key, X, y_true in zip(['train', 'val', 'test'], [X_train_WideDeep, X_val_WideDeep, X_test_WideDeep], [y_train, y_val, y_test]):\n",
        "  y_pred = model.predict_on_batch(x=X)[0]\n",
        "  eval_scores[key] = evaluete_sk_metrics(y_true=y_true, y_pred=y_pred, sklearn_metrics=SK_METRICS)\n",
        "pprint.pprint(eval_scores)"
      ],
      "execution_count": null,
      "outputs": [
        {
          "output_type": "stream",
          "text": [
            "{'test': {'explained_variance_score': 0.005700886249542236,\n",
            "          'mean_squared_error': 69.79908,\n",
            "          'r2_score': 0.00513889272678858},\n",
            " 'train': {'explained_variance_score': 0.005302548408508301,\n",
            "           'mean_squared_error': 92.58065,\n",
            "           'r2_score': 0.005245376588694395},\n",
            " 'val': {'explained_variance_score': 0.005467653274536133,\n",
            "         'mean_squared_error': 73.1632,\n",
            "         'r2_score': 0.005443648268868118}}\n",
            "CPU times: user 465 ms, sys: 34.8 ms, total: 500 ms\n",
            "Wall time: 477 ms\n"
          ],
          "name": "stdout"
        }
      ]
    },
    {
      "cell_type": "code",
      "metadata": {
        "id": "c3ULOftKX1Wo"
      },
      "source": [
        ""
      ],
      "execution_count": null,
      "outputs": []
    }
  ]
}