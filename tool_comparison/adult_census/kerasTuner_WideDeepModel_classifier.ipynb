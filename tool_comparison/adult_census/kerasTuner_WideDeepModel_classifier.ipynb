{
  "nbformat": 4,
  "nbformat_minor": 0,
  "metadata": {
    "colab": {
      "name": "kerasTuner_WideDeepModel_classifier.ipynb",
      "provenance": [],
      "collapsed_sections": [],
      "toc_visible": true,
      "authorship_tag": "ABX9TyMaaicdoiODGMWYitLoRJEj",
      "include_colab_link": true
    },
    "kernelspec": {
      "name": "python3",
      "display_name": "Python 3"
    }
  },
  "cells": [
    {
      "cell_type": "markdown",
      "metadata": {
        "id": "view-in-github",
        "colab_type": "text"
      },
      "source": [
        "<a href=\"https://colab.research.google.com/github/Itsuki-Hamano123/auto_ml/blob/master/tool_comparison/adult_census/kerasTuner_WideDeepModel_classifier.ipynb\" target=\"_parent\"><img src=\"https://colab.research.google.com/assets/colab-badge.svg\" alt=\"Open In Colab\"/></a>"
      ]
    },
    {
      "cell_type": "code",
      "metadata": {
        "id": "l6-xjloXHExj",
        "outputId": "a77dafdf-fa0d-4ad1-b752-fe9cf7068aaf",
        "colab": {
          "base_uri": "https://localhost:8080/"
        }
      },
      "source": [
        "%pip install -q keras-tuner\n",
        "%pip show keras-tuner scikit-learn"
      ],
      "execution_count": 1,
      "outputs": [
        {
          "output_type": "stream",
          "text": [
            "\u001b[?25l\r\u001b[K     |██████                          | 10kB 18.3MB/s eta 0:00:01\r\u001b[K     |████████████                    | 20kB 22.2MB/s eta 0:00:01\r\u001b[K     |██████████████████              | 30kB 12.2MB/s eta 0:00:01\r\u001b[K     |████████████████████████        | 40kB 9.2MB/s eta 0:00:01\r\u001b[K     |██████████████████████████████  | 51kB 4.5MB/s eta 0:00:01\r\u001b[K     |████████████████████████████████| 61kB 3.2MB/s \n",
            "\u001b[?25h  Building wheel for keras-tuner (setup.py) ... \u001b[?25l\u001b[?25hdone\n",
            "  Building wheel for terminaltables (setup.py) ... \u001b[?25l\u001b[?25hdone\n",
            "Name: keras-tuner\n",
            "Version: 1.0.1\n",
            "Summary: Hypertuner for Keras\n",
            "Home-page: https://github.com/keras-team/keras-tuner\n",
            "Author: The Keras Tuner authors\n",
            "Author-email: kerastuner@google.com\n",
            "License: Apache License 2.0\n",
            "Location: /usr/local/lib/python3.6/dist-packages\n",
            "Requires: requests, future, scikit-learn, tabulate, colorama, tqdm, terminaltables, scipy, numpy\n",
            "Required-by: \n",
            "---\n",
            "Name: scikit-learn\n",
            "Version: 0.22.2.post1\n",
            "Summary: A set of python modules for machine learning and data mining\n",
            "Home-page: http://scikit-learn.org\n",
            "Author: None\n",
            "Author-email: None\n",
            "License: new BSD\n",
            "Location: /usr/local/lib/python3.6/dist-packages\n",
            "Requires: numpy, joblib, scipy\n",
            "Required-by: yellowbrick, umap-learn, textgenrnn, sklearn, sklearn-pandas, mlxtend, lucid, lightgbm, librosa, keras-tuner, imbalanced-learn, fancyimpute\n"
          ],
          "name": "stdout"
        }
      ]
    },
    {
      "cell_type": "code",
      "metadata": {
        "id": "83xkk0znHJQR"
      },
      "source": [
        "import IPython, os, pprint\n",
        "\n",
        "import numpy as np\n",
        "import pandas as pd\n",
        "\n",
        "from sklearn.datasets import fetch_openml\n",
        "from sklearn.model_selection import train_test_split\n",
        "from sklearn.metrics import classification_report\n",
        "\n",
        "from kerastuner import HyperModel, Hyperband\n",
        "from tensorflow.keras.experimental import LinearModel, WideDeepModel\n",
        "from tensorflow.keras import Sequential, Input, layers, optimizers, callbacks\n",
        "from tensorflow.keras.layers.experimental.preprocessing import Normalization\n",
        "from tensorflow.keras.utils import plot_model"
      ],
      "execution_count": 2,
      "outputs": []
    },
    {
      "cell_type": "markdown",
      "metadata": {
        "id": "Dc0B0jOLn-oS"
      },
      "source": [
        "## データセット読み込み\n",
        "- [国税調査データセット:https://www.openml.org/d/1590](https://www.openml.org/d/1590)"
      ]
    },
    {
      "cell_type": "code",
      "metadata": {
        "id": "408E4QO-H1QO",
        "outputId": "936e0f74-c8f6-45f1-f45e-e0aca73b81d1",
        "colab": {
          "base_uri": "https://localhost:8080/",
          "height": 1000
        }
      },
      "source": [
        "%%time\n",
        "DATA_ID = '1590' #@param{type:'string'}\n",
        "\n",
        "# データセットをフェッチ\n",
        "result = fetch_openml(data_id=DATA_ID,\n",
        "                    as_frame=True)\n",
        "X = result.data\n",
        "y = result.target\n",
        "x_cols = result.feature_names\n",
        "y_col = result.target_names\n",
        "\n",
        "display(x_cols)\n",
        "display(X.head())\n",
        "display(y_col)\n",
        "display(y.head())\n",
        "\n",
        "\n",
        "def proc_y(y):\n",
        "    '''ラベルの加工'''\n",
        "\n",
        "    def _one_hot_encode(y):\n",
        "        '''ワンホットエンコードしたnumpy.ndarrayを返す'''\n",
        "        return pd.get_dummies(y)\n",
        "\n",
        "    proc_y = _one_hot_encode(y=y)\n",
        "    return proc_y\n",
        "\n",
        "\n",
        "def proc_X(X, one_hot_encode_cols):\n",
        "    '''特徴量の加工'''\n",
        "\n",
        "    def _one_hot_encode(X, X_cols, drop_first=True):\n",
        "        '''ワンホットエンコードしたDataframeを返す'''\n",
        "        return pd.get_dummies(X, columns=X_cols,\n",
        "                              drop_first=drop_first)\n",
        "\n",
        "    proc_X = _one_hot_encode(X=X, X_cols=one_hot_encode_cols)\n",
        "    return proc_X\n",
        "\n",
        "\n",
        "one_hot_encode_cols = ['workclass', 'education', 'marital-status', 'occupation',\n",
        "                       'relationship', 'race', 'sex', 'native-country']\n",
        "X=proc_X(X=X, one_hot_encode_cols=one_hot_encode_cols)\n",
        "y=proc_y(y=y)\n",
        "\n",
        "display(X.head())\n",
        "display(y.head())\n",
        "\n",
        "\n",
        "SEED = 7 #@param{type:'number'}\n",
        "SPLIT = 0.2 #@param{type:'number'}\n",
        "\n",
        "train_X, test_X, train_y, test_y = train_test_split(X, y,\n",
        "                                                    test_size=SPLIT,\n",
        "                                                    random_state=SEED,\n",
        "                                                    shuffle=True)\n",
        "train_X, val_X, train_y, val_y = train_test_split(train_X, train_y,\n",
        "                                                  test_size=SPLIT,\n",
        "                                                  random_state=SEED,\n",
        "                                                  shuffle=True)\n",
        "\n",
        "display('train shape:{}'.format(train_X.shape))\n",
        "display('val shape:{}'.format(val_X.shape))\n",
        "display('test shape:{}'.format(test_X.shape))\n",
        "\n"
      ],
      "execution_count": 3,
      "outputs": [
        {
          "output_type": "display_data",
          "data": {
            "text/plain": [
              "['age',\n",
              " 'workclass',\n",
              " 'fnlwgt',\n",
              " 'education',\n",
              " 'education-num',\n",
              " 'marital-status',\n",
              " 'occupation',\n",
              " 'relationship',\n",
              " 'race',\n",
              " 'sex',\n",
              " 'capital-gain',\n",
              " 'capital-loss',\n",
              " 'hours-per-week',\n",
              " 'native-country']"
            ]
          },
          "metadata": {
            "tags": []
          }
        },
        {
          "output_type": "display_data",
          "data": {
            "text/html": [
              "<div>\n",
              "<style scoped>\n",
              "    .dataframe tbody tr th:only-of-type {\n",
              "        vertical-align: middle;\n",
              "    }\n",
              "\n",
              "    .dataframe tbody tr th {\n",
              "        vertical-align: top;\n",
              "    }\n",
              "\n",
              "    .dataframe thead th {\n",
              "        text-align: right;\n",
              "    }\n",
              "</style>\n",
              "<table border=\"1\" class=\"dataframe\">\n",
              "  <thead>\n",
              "    <tr style=\"text-align: right;\">\n",
              "      <th></th>\n",
              "      <th>age</th>\n",
              "      <th>workclass</th>\n",
              "      <th>fnlwgt</th>\n",
              "      <th>education</th>\n",
              "      <th>education-num</th>\n",
              "      <th>marital-status</th>\n",
              "      <th>occupation</th>\n",
              "      <th>relationship</th>\n",
              "      <th>race</th>\n",
              "      <th>sex</th>\n",
              "      <th>capital-gain</th>\n",
              "      <th>capital-loss</th>\n",
              "      <th>hours-per-week</th>\n",
              "      <th>native-country</th>\n",
              "    </tr>\n",
              "  </thead>\n",
              "  <tbody>\n",
              "    <tr>\n",
              "      <th>0</th>\n",
              "      <td>25.0</td>\n",
              "      <td>Private</td>\n",
              "      <td>226802.0</td>\n",
              "      <td>11th</td>\n",
              "      <td>7.0</td>\n",
              "      <td>Never-married</td>\n",
              "      <td>Machine-op-inspct</td>\n",
              "      <td>Own-child</td>\n",
              "      <td>Black</td>\n",
              "      <td>Male</td>\n",
              "      <td>0.0</td>\n",
              "      <td>0.0</td>\n",
              "      <td>40.0</td>\n",
              "      <td>United-States</td>\n",
              "    </tr>\n",
              "    <tr>\n",
              "      <th>1</th>\n",
              "      <td>38.0</td>\n",
              "      <td>Private</td>\n",
              "      <td>89814.0</td>\n",
              "      <td>HS-grad</td>\n",
              "      <td>9.0</td>\n",
              "      <td>Married-civ-spouse</td>\n",
              "      <td>Farming-fishing</td>\n",
              "      <td>Husband</td>\n",
              "      <td>White</td>\n",
              "      <td>Male</td>\n",
              "      <td>0.0</td>\n",
              "      <td>0.0</td>\n",
              "      <td>50.0</td>\n",
              "      <td>United-States</td>\n",
              "    </tr>\n",
              "    <tr>\n",
              "      <th>2</th>\n",
              "      <td>28.0</td>\n",
              "      <td>Local-gov</td>\n",
              "      <td>336951.0</td>\n",
              "      <td>Assoc-acdm</td>\n",
              "      <td>12.0</td>\n",
              "      <td>Married-civ-spouse</td>\n",
              "      <td>Protective-serv</td>\n",
              "      <td>Husband</td>\n",
              "      <td>White</td>\n",
              "      <td>Male</td>\n",
              "      <td>0.0</td>\n",
              "      <td>0.0</td>\n",
              "      <td>40.0</td>\n",
              "      <td>United-States</td>\n",
              "    </tr>\n",
              "    <tr>\n",
              "      <th>3</th>\n",
              "      <td>44.0</td>\n",
              "      <td>Private</td>\n",
              "      <td>160323.0</td>\n",
              "      <td>Some-college</td>\n",
              "      <td>10.0</td>\n",
              "      <td>Married-civ-spouse</td>\n",
              "      <td>Machine-op-inspct</td>\n",
              "      <td>Husband</td>\n",
              "      <td>Black</td>\n",
              "      <td>Male</td>\n",
              "      <td>7688.0</td>\n",
              "      <td>0.0</td>\n",
              "      <td>40.0</td>\n",
              "      <td>United-States</td>\n",
              "    </tr>\n",
              "    <tr>\n",
              "      <th>4</th>\n",
              "      <td>18.0</td>\n",
              "      <td>NaN</td>\n",
              "      <td>103497.0</td>\n",
              "      <td>Some-college</td>\n",
              "      <td>10.0</td>\n",
              "      <td>Never-married</td>\n",
              "      <td>NaN</td>\n",
              "      <td>Own-child</td>\n",
              "      <td>White</td>\n",
              "      <td>Female</td>\n",
              "      <td>0.0</td>\n",
              "      <td>0.0</td>\n",
              "      <td>30.0</td>\n",
              "      <td>United-States</td>\n",
              "    </tr>\n",
              "  </tbody>\n",
              "</table>\n",
              "</div>"
            ],
            "text/plain": [
              "    age  workclass    fnlwgt  ... capital-loss  hours-per-week native-country\n",
              "0  25.0    Private  226802.0  ...          0.0            40.0  United-States\n",
              "1  38.0    Private   89814.0  ...          0.0            50.0  United-States\n",
              "2  28.0  Local-gov  336951.0  ...          0.0            40.0  United-States\n",
              "3  44.0    Private  160323.0  ...          0.0            40.0  United-States\n",
              "4  18.0        NaN  103497.0  ...          0.0            30.0  United-States\n",
              "\n",
              "[5 rows x 14 columns]"
            ]
          },
          "metadata": {
            "tags": []
          }
        },
        {
          "output_type": "display_data",
          "data": {
            "text/plain": [
              "['class']"
            ]
          },
          "metadata": {
            "tags": []
          }
        },
        {
          "output_type": "display_data",
          "data": {
            "text/plain": [
              "0    <=50K\n",
              "1    <=50K\n",
              "2     >50K\n",
              "3     >50K\n",
              "4    <=50K\n",
              "Name: class, dtype: category\n",
              "Categories (2, object): ['>50K', '<=50K']"
            ]
          },
          "metadata": {
            "tags": []
          }
        },
        {
          "output_type": "display_data",
          "data": {
            "text/html": [
              "<div>\n",
              "<style scoped>\n",
              "    .dataframe tbody tr th:only-of-type {\n",
              "        vertical-align: middle;\n",
              "    }\n",
              "\n",
              "    .dataframe tbody tr th {\n",
              "        vertical-align: top;\n",
              "    }\n",
              "\n",
              "    .dataframe thead th {\n",
              "        text-align: right;\n",
              "    }\n",
              "</style>\n",
              "<table border=\"1\" class=\"dataframe\">\n",
              "  <thead>\n",
              "    <tr style=\"text-align: right;\">\n",
              "      <th></th>\n",
              "      <th>age</th>\n",
              "      <th>fnlwgt</th>\n",
              "      <th>education-num</th>\n",
              "      <th>capital-gain</th>\n",
              "      <th>capital-loss</th>\n",
              "      <th>hours-per-week</th>\n",
              "      <th>workclass_Self-emp-not-inc</th>\n",
              "      <th>workclass_Self-emp-inc</th>\n",
              "      <th>workclass_Federal-gov</th>\n",
              "      <th>workclass_Local-gov</th>\n",
              "      <th>workclass_State-gov</th>\n",
              "      <th>workclass_Without-pay</th>\n",
              "      <th>workclass_Never-worked</th>\n",
              "      <th>education_Some-college</th>\n",
              "      <th>education_11th</th>\n",
              "      <th>education_HS-grad</th>\n",
              "      <th>education_Prof-school</th>\n",
              "      <th>education_Assoc-acdm</th>\n",
              "      <th>education_Assoc-voc</th>\n",
              "      <th>education_9th</th>\n",
              "      <th>education_7th-8th</th>\n",
              "      <th>education_12th</th>\n",
              "      <th>education_Masters</th>\n",
              "      <th>education_1st-4th</th>\n",
              "      <th>education_10th</th>\n",
              "      <th>education_Doctorate</th>\n",
              "      <th>education_5th-6th</th>\n",
              "      <th>education_Preschool</th>\n",
              "      <th>marital-status_Divorced</th>\n",
              "      <th>marital-status_Never-married</th>\n",
              "      <th>marital-status_Separated</th>\n",
              "      <th>marital-status_Widowed</th>\n",
              "      <th>marital-status_Married-spouse-absent</th>\n",
              "      <th>marital-status_Married-AF-spouse</th>\n",
              "      <th>occupation_Craft-repair</th>\n",
              "      <th>occupation_Other-service</th>\n",
              "      <th>occupation_Sales</th>\n",
              "      <th>occupation_Exec-managerial</th>\n",
              "      <th>occupation_Prof-specialty</th>\n",
              "      <th>occupation_Handlers-cleaners</th>\n",
              "      <th>...</th>\n",
              "      <th>native-country_Cambodia</th>\n",
              "      <th>native-country_England</th>\n",
              "      <th>native-country_Puerto-Rico</th>\n",
              "      <th>native-country_Canada</th>\n",
              "      <th>native-country_Germany</th>\n",
              "      <th>native-country_Outlying-US(Guam-USVI-etc)</th>\n",
              "      <th>native-country_India</th>\n",
              "      <th>native-country_Japan</th>\n",
              "      <th>native-country_Greece</th>\n",
              "      <th>native-country_South</th>\n",
              "      <th>native-country_China</th>\n",
              "      <th>native-country_Cuba</th>\n",
              "      <th>native-country_Iran</th>\n",
              "      <th>native-country_Honduras</th>\n",
              "      <th>native-country_Philippines</th>\n",
              "      <th>native-country_Italy</th>\n",
              "      <th>native-country_Poland</th>\n",
              "      <th>native-country_Jamaica</th>\n",
              "      <th>native-country_Vietnam</th>\n",
              "      <th>native-country_Mexico</th>\n",
              "      <th>native-country_Portugal</th>\n",
              "      <th>native-country_Ireland</th>\n",
              "      <th>native-country_France</th>\n",
              "      <th>native-country_Dominican-Republic</th>\n",
              "      <th>native-country_Laos</th>\n",
              "      <th>native-country_Ecuador</th>\n",
              "      <th>native-country_Taiwan</th>\n",
              "      <th>native-country_Haiti</th>\n",
              "      <th>native-country_Columbia</th>\n",
              "      <th>native-country_Hungary</th>\n",
              "      <th>native-country_Guatemala</th>\n",
              "      <th>native-country_Nicaragua</th>\n",
              "      <th>native-country_Scotland</th>\n",
              "      <th>native-country_Thailand</th>\n",
              "      <th>native-country_Yugoslavia</th>\n",
              "      <th>native-country_El-Salvador</th>\n",
              "      <th>native-country_Trinadad&amp;Tobago</th>\n",
              "      <th>native-country_Peru</th>\n",
              "      <th>native-country_Hong</th>\n",
              "      <th>native-country_Holand-Netherlands</th>\n",
              "    </tr>\n",
              "  </thead>\n",
              "  <tbody>\n",
              "    <tr>\n",
              "      <th>0</th>\n",
              "      <td>25.0</td>\n",
              "      <td>226802.0</td>\n",
              "      <td>7.0</td>\n",
              "      <td>0.0</td>\n",
              "      <td>0.0</td>\n",
              "      <td>40.0</td>\n",
              "      <td>0</td>\n",
              "      <td>0</td>\n",
              "      <td>0</td>\n",
              "      <td>0</td>\n",
              "      <td>0</td>\n",
              "      <td>0</td>\n",
              "      <td>0</td>\n",
              "      <td>0</td>\n",
              "      <td>1</td>\n",
              "      <td>0</td>\n",
              "      <td>0</td>\n",
              "      <td>0</td>\n",
              "      <td>0</td>\n",
              "      <td>0</td>\n",
              "      <td>0</td>\n",
              "      <td>0</td>\n",
              "      <td>0</td>\n",
              "      <td>0</td>\n",
              "      <td>0</td>\n",
              "      <td>0</td>\n",
              "      <td>0</td>\n",
              "      <td>0</td>\n",
              "      <td>0</td>\n",
              "      <td>1</td>\n",
              "      <td>0</td>\n",
              "      <td>0</td>\n",
              "      <td>0</td>\n",
              "      <td>0</td>\n",
              "      <td>0</td>\n",
              "      <td>0</td>\n",
              "      <td>0</td>\n",
              "      <td>0</td>\n",
              "      <td>0</td>\n",
              "      <td>0</td>\n",
              "      <td>...</td>\n",
              "      <td>0</td>\n",
              "      <td>0</td>\n",
              "      <td>0</td>\n",
              "      <td>0</td>\n",
              "      <td>0</td>\n",
              "      <td>0</td>\n",
              "      <td>0</td>\n",
              "      <td>0</td>\n",
              "      <td>0</td>\n",
              "      <td>0</td>\n",
              "      <td>0</td>\n",
              "      <td>0</td>\n",
              "      <td>0</td>\n",
              "      <td>0</td>\n",
              "      <td>0</td>\n",
              "      <td>0</td>\n",
              "      <td>0</td>\n",
              "      <td>0</td>\n",
              "      <td>0</td>\n",
              "      <td>0</td>\n",
              "      <td>0</td>\n",
              "      <td>0</td>\n",
              "      <td>0</td>\n",
              "      <td>0</td>\n",
              "      <td>0</td>\n",
              "      <td>0</td>\n",
              "      <td>0</td>\n",
              "      <td>0</td>\n",
              "      <td>0</td>\n",
              "      <td>0</td>\n",
              "      <td>0</td>\n",
              "      <td>0</td>\n",
              "      <td>0</td>\n",
              "      <td>0</td>\n",
              "      <td>0</td>\n",
              "      <td>0</td>\n",
              "      <td>0</td>\n",
              "      <td>0</td>\n",
              "      <td>0</td>\n",
              "      <td>0</td>\n",
              "    </tr>\n",
              "    <tr>\n",
              "      <th>1</th>\n",
              "      <td>38.0</td>\n",
              "      <td>89814.0</td>\n",
              "      <td>9.0</td>\n",
              "      <td>0.0</td>\n",
              "      <td>0.0</td>\n",
              "      <td>50.0</td>\n",
              "      <td>0</td>\n",
              "      <td>0</td>\n",
              "      <td>0</td>\n",
              "      <td>0</td>\n",
              "      <td>0</td>\n",
              "      <td>0</td>\n",
              "      <td>0</td>\n",
              "      <td>0</td>\n",
              "      <td>0</td>\n",
              "      <td>1</td>\n",
              "      <td>0</td>\n",
              "      <td>0</td>\n",
              "      <td>0</td>\n",
              "      <td>0</td>\n",
              "      <td>0</td>\n",
              "      <td>0</td>\n",
              "      <td>0</td>\n",
              "      <td>0</td>\n",
              "      <td>0</td>\n",
              "      <td>0</td>\n",
              "      <td>0</td>\n",
              "      <td>0</td>\n",
              "      <td>0</td>\n",
              "      <td>0</td>\n",
              "      <td>0</td>\n",
              "      <td>0</td>\n",
              "      <td>0</td>\n",
              "      <td>0</td>\n",
              "      <td>0</td>\n",
              "      <td>0</td>\n",
              "      <td>0</td>\n",
              "      <td>0</td>\n",
              "      <td>0</td>\n",
              "      <td>0</td>\n",
              "      <td>...</td>\n",
              "      <td>0</td>\n",
              "      <td>0</td>\n",
              "      <td>0</td>\n",
              "      <td>0</td>\n",
              "      <td>0</td>\n",
              "      <td>0</td>\n",
              "      <td>0</td>\n",
              "      <td>0</td>\n",
              "      <td>0</td>\n",
              "      <td>0</td>\n",
              "      <td>0</td>\n",
              "      <td>0</td>\n",
              "      <td>0</td>\n",
              "      <td>0</td>\n",
              "      <td>0</td>\n",
              "      <td>0</td>\n",
              "      <td>0</td>\n",
              "      <td>0</td>\n",
              "      <td>0</td>\n",
              "      <td>0</td>\n",
              "      <td>0</td>\n",
              "      <td>0</td>\n",
              "      <td>0</td>\n",
              "      <td>0</td>\n",
              "      <td>0</td>\n",
              "      <td>0</td>\n",
              "      <td>0</td>\n",
              "      <td>0</td>\n",
              "      <td>0</td>\n",
              "      <td>0</td>\n",
              "      <td>0</td>\n",
              "      <td>0</td>\n",
              "      <td>0</td>\n",
              "      <td>0</td>\n",
              "      <td>0</td>\n",
              "      <td>0</td>\n",
              "      <td>0</td>\n",
              "      <td>0</td>\n",
              "      <td>0</td>\n",
              "      <td>0</td>\n",
              "    </tr>\n",
              "    <tr>\n",
              "      <th>2</th>\n",
              "      <td>28.0</td>\n",
              "      <td>336951.0</td>\n",
              "      <td>12.0</td>\n",
              "      <td>0.0</td>\n",
              "      <td>0.0</td>\n",
              "      <td>40.0</td>\n",
              "      <td>0</td>\n",
              "      <td>0</td>\n",
              "      <td>0</td>\n",
              "      <td>1</td>\n",
              "      <td>0</td>\n",
              "      <td>0</td>\n",
              "      <td>0</td>\n",
              "      <td>0</td>\n",
              "      <td>0</td>\n",
              "      <td>0</td>\n",
              "      <td>0</td>\n",
              "      <td>1</td>\n",
              "      <td>0</td>\n",
              "      <td>0</td>\n",
              "      <td>0</td>\n",
              "      <td>0</td>\n",
              "      <td>0</td>\n",
              "      <td>0</td>\n",
              "      <td>0</td>\n",
              "      <td>0</td>\n",
              "      <td>0</td>\n",
              "      <td>0</td>\n",
              "      <td>0</td>\n",
              "      <td>0</td>\n",
              "      <td>0</td>\n",
              "      <td>0</td>\n",
              "      <td>0</td>\n",
              "      <td>0</td>\n",
              "      <td>0</td>\n",
              "      <td>0</td>\n",
              "      <td>0</td>\n",
              "      <td>0</td>\n",
              "      <td>0</td>\n",
              "      <td>0</td>\n",
              "      <td>...</td>\n",
              "      <td>0</td>\n",
              "      <td>0</td>\n",
              "      <td>0</td>\n",
              "      <td>0</td>\n",
              "      <td>0</td>\n",
              "      <td>0</td>\n",
              "      <td>0</td>\n",
              "      <td>0</td>\n",
              "      <td>0</td>\n",
              "      <td>0</td>\n",
              "      <td>0</td>\n",
              "      <td>0</td>\n",
              "      <td>0</td>\n",
              "      <td>0</td>\n",
              "      <td>0</td>\n",
              "      <td>0</td>\n",
              "      <td>0</td>\n",
              "      <td>0</td>\n",
              "      <td>0</td>\n",
              "      <td>0</td>\n",
              "      <td>0</td>\n",
              "      <td>0</td>\n",
              "      <td>0</td>\n",
              "      <td>0</td>\n",
              "      <td>0</td>\n",
              "      <td>0</td>\n",
              "      <td>0</td>\n",
              "      <td>0</td>\n",
              "      <td>0</td>\n",
              "      <td>0</td>\n",
              "      <td>0</td>\n",
              "      <td>0</td>\n",
              "      <td>0</td>\n",
              "      <td>0</td>\n",
              "      <td>0</td>\n",
              "      <td>0</td>\n",
              "      <td>0</td>\n",
              "      <td>0</td>\n",
              "      <td>0</td>\n",
              "      <td>0</td>\n",
              "    </tr>\n",
              "    <tr>\n",
              "      <th>3</th>\n",
              "      <td>44.0</td>\n",
              "      <td>160323.0</td>\n",
              "      <td>10.0</td>\n",
              "      <td>7688.0</td>\n",
              "      <td>0.0</td>\n",
              "      <td>40.0</td>\n",
              "      <td>0</td>\n",
              "      <td>0</td>\n",
              "      <td>0</td>\n",
              "      <td>0</td>\n",
              "      <td>0</td>\n",
              "      <td>0</td>\n",
              "      <td>0</td>\n",
              "      <td>1</td>\n",
              "      <td>0</td>\n",
              "      <td>0</td>\n",
              "      <td>0</td>\n",
              "      <td>0</td>\n",
              "      <td>0</td>\n",
              "      <td>0</td>\n",
              "      <td>0</td>\n",
              "      <td>0</td>\n",
              "      <td>0</td>\n",
              "      <td>0</td>\n",
              "      <td>0</td>\n",
              "      <td>0</td>\n",
              "      <td>0</td>\n",
              "      <td>0</td>\n",
              "      <td>0</td>\n",
              "      <td>0</td>\n",
              "      <td>0</td>\n",
              "      <td>0</td>\n",
              "      <td>0</td>\n",
              "      <td>0</td>\n",
              "      <td>0</td>\n",
              "      <td>0</td>\n",
              "      <td>0</td>\n",
              "      <td>0</td>\n",
              "      <td>0</td>\n",
              "      <td>0</td>\n",
              "      <td>...</td>\n",
              "      <td>0</td>\n",
              "      <td>0</td>\n",
              "      <td>0</td>\n",
              "      <td>0</td>\n",
              "      <td>0</td>\n",
              "      <td>0</td>\n",
              "      <td>0</td>\n",
              "      <td>0</td>\n",
              "      <td>0</td>\n",
              "      <td>0</td>\n",
              "      <td>0</td>\n",
              "      <td>0</td>\n",
              "      <td>0</td>\n",
              "      <td>0</td>\n",
              "      <td>0</td>\n",
              "      <td>0</td>\n",
              "      <td>0</td>\n",
              "      <td>0</td>\n",
              "      <td>0</td>\n",
              "      <td>0</td>\n",
              "      <td>0</td>\n",
              "      <td>0</td>\n",
              "      <td>0</td>\n",
              "      <td>0</td>\n",
              "      <td>0</td>\n",
              "      <td>0</td>\n",
              "      <td>0</td>\n",
              "      <td>0</td>\n",
              "      <td>0</td>\n",
              "      <td>0</td>\n",
              "      <td>0</td>\n",
              "      <td>0</td>\n",
              "      <td>0</td>\n",
              "      <td>0</td>\n",
              "      <td>0</td>\n",
              "      <td>0</td>\n",
              "      <td>0</td>\n",
              "      <td>0</td>\n",
              "      <td>0</td>\n",
              "      <td>0</td>\n",
              "    </tr>\n",
              "    <tr>\n",
              "      <th>4</th>\n",
              "      <td>18.0</td>\n",
              "      <td>103497.0</td>\n",
              "      <td>10.0</td>\n",
              "      <td>0.0</td>\n",
              "      <td>0.0</td>\n",
              "      <td>30.0</td>\n",
              "      <td>0</td>\n",
              "      <td>0</td>\n",
              "      <td>0</td>\n",
              "      <td>0</td>\n",
              "      <td>0</td>\n",
              "      <td>0</td>\n",
              "      <td>0</td>\n",
              "      <td>1</td>\n",
              "      <td>0</td>\n",
              "      <td>0</td>\n",
              "      <td>0</td>\n",
              "      <td>0</td>\n",
              "      <td>0</td>\n",
              "      <td>0</td>\n",
              "      <td>0</td>\n",
              "      <td>0</td>\n",
              "      <td>0</td>\n",
              "      <td>0</td>\n",
              "      <td>0</td>\n",
              "      <td>0</td>\n",
              "      <td>0</td>\n",
              "      <td>0</td>\n",
              "      <td>0</td>\n",
              "      <td>1</td>\n",
              "      <td>0</td>\n",
              "      <td>0</td>\n",
              "      <td>0</td>\n",
              "      <td>0</td>\n",
              "      <td>0</td>\n",
              "      <td>0</td>\n",
              "      <td>0</td>\n",
              "      <td>0</td>\n",
              "      <td>0</td>\n",
              "      <td>0</td>\n",
              "      <td>...</td>\n",
              "      <td>0</td>\n",
              "      <td>0</td>\n",
              "      <td>0</td>\n",
              "      <td>0</td>\n",
              "      <td>0</td>\n",
              "      <td>0</td>\n",
              "      <td>0</td>\n",
              "      <td>0</td>\n",
              "      <td>0</td>\n",
              "      <td>0</td>\n",
              "      <td>0</td>\n",
              "      <td>0</td>\n",
              "      <td>0</td>\n",
              "      <td>0</td>\n",
              "      <td>0</td>\n",
              "      <td>0</td>\n",
              "      <td>0</td>\n",
              "      <td>0</td>\n",
              "      <td>0</td>\n",
              "      <td>0</td>\n",
              "      <td>0</td>\n",
              "      <td>0</td>\n",
              "      <td>0</td>\n",
              "      <td>0</td>\n",
              "      <td>0</td>\n",
              "      <td>0</td>\n",
              "      <td>0</td>\n",
              "      <td>0</td>\n",
              "      <td>0</td>\n",
              "      <td>0</td>\n",
              "      <td>0</td>\n",
              "      <td>0</td>\n",
              "      <td>0</td>\n",
              "      <td>0</td>\n",
              "      <td>0</td>\n",
              "      <td>0</td>\n",
              "      <td>0</td>\n",
              "      <td>0</td>\n",
              "      <td>0</td>\n",
              "      <td>0</td>\n",
              "    </tr>\n",
              "  </tbody>\n",
              "</table>\n",
              "<p>5 rows × 97 columns</p>\n",
              "</div>"
            ],
            "text/plain": [
              "    age    fnlwgt  ...  native-country_Hong  native-country_Holand-Netherlands\n",
              "0  25.0  226802.0  ...                    0                                  0\n",
              "1  38.0   89814.0  ...                    0                                  0\n",
              "2  28.0  336951.0  ...                    0                                  0\n",
              "3  44.0  160323.0  ...                    0                                  0\n",
              "4  18.0  103497.0  ...                    0                                  0\n",
              "\n",
              "[5 rows x 97 columns]"
            ]
          },
          "metadata": {
            "tags": []
          }
        },
        {
          "output_type": "display_data",
          "data": {
            "text/html": [
              "<div>\n",
              "<style scoped>\n",
              "    .dataframe tbody tr th:only-of-type {\n",
              "        vertical-align: middle;\n",
              "    }\n",
              "\n",
              "    .dataframe tbody tr th {\n",
              "        vertical-align: top;\n",
              "    }\n",
              "\n",
              "    .dataframe thead th {\n",
              "        text-align: right;\n",
              "    }\n",
              "</style>\n",
              "<table border=\"1\" class=\"dataframe\">\n",
              "  <thead>\n",
              "    <tr style=\"text-align: right;\">\n",
              "      <th></th>\n",
              "      <th>&gt;50K</th>\n",
              "      <th>&lt;=50K</th>\n",
              "    </tr>\n",
              "  </thead>\n",
              "  <tbody>\n",
              "    <tr>\n",
              "      <th>0</th>\n",
              "      <td>0</td>\n",
              "      <td>1</td>\n",
              "    </tr>\n",
              "    <tr>\n",
              "      <th>1</th>\n",
              "      <td>0</td>\n",
              "      <td>1</td>\n",
              "    </tr>\n",
              "    <tr>\n",
              "      <th>2</th>\n",
              "      <td>1</td>\n",
              "      <td>0</td>\n",
              "    </tr>\n",
              "    <tr>\n",
              "      <th>3</th>\n",
              "      <td>1</td>\n",
              "      <td>0</td>\n",
              "    </tr>\n",
              "    <tr>\n",
              "      <th>4</th>\n",
              "      <td>0</td>\n",
              "      <td>1</td>\n",
              "    </tr>\n",
              "  </tbody>\n",
              "</table>\n",
              "</div>"
            ],
            "text/plain": [
              "   >50K  <=50K\n",
              "0     0      1\n",
              "1     0      1\n",
              "2     1      0\n",
              "3     1      0\n",
              "4     0      1"
            ]
          },
          "metadata": {
            "tags": []
          }
        },
        {
          "output_type": "display_data",
          "data": {
            "application/vnd.google.colaboratory.intrinsic+json": {
              "type": "string"
            },
            "text/plain": [
              "'train shape:(31258, 97)'"
            ]
          },
          "metadata": {
            "tags": []
          }
        },
        {
          "output_type": "display_data",
          "data": {
            "application/vnd.google.colaboratory.intrinsic+json": {
              "type": "string"
            },
            "text/plain": [
              "'val shape:(7815, 97)'"
            ]
          },
          "metadata": {
            "tags": []
          }
        },
        {
          "output_type": "display_data",
          "data": {
            "application/vnd.google.colaboratory.intrinsic+json": {
              "type": "string"
            },
            "text/plain": [
              "'test shape:(9769, 97)'"
            ]
          },
          "metadata": {
            "tags": []
          }
        },
        {
          "output_type": "stream",
          "text": [
            "CPU times: user 1.37 s, sys: 69.3 ms, total: 1.43 s\n",
            "Wall time: 3.29 s\n"
          ],
          "name": "stdout"
        }
      ]
    },
    {
      "cell_type": "markdown",
      "metadata": {
        "id": "Gf7PO8NVnydA"
      },
      "source": [
        "## Hyperモデル作成"
      ]
    },
    {
      "cell_type": "code",
      "metadata": {
        "id": "Fpm9SmojC8fa",
        "outputId": "7e475041-597d-4296-8a69-60a9157148e5",
        "colab": {
          "base_uri": "https://localhost:8080/",
          "height": 71
        }
      },
      "source": [
        "%%time\n",
        "class CensusHyperModel(HyperModel):\n",
        "\n",
        "      def __init__(self, input_shape_dnn, num_class, dropout_seed, train_X_dnn):\n",
        "          self.input_shape_dnn = input_shape_dnn\n",
        "          self.num_class = num_class\n",
        "          self.dropout_seed = dropout_seed\n",
        "          self.norm_layer = self._setupNormalizationLayer(X=train_X_dnn)\n",
        "\n",
        "      def _setupNormalizationLayer(self, X):\n",
        "          '''正規化の前処理レイヤーを初期化'''\n",
        "          norm_layer = layers.experimental.preprocessing.Normalization()\n",
        "          norm_layer.adapt(X)\n",
        "          return norm_layer\n",
        "\n",
        "\n",
        "      def build(self, hp):\n",
        "          '''モデル構造と探索空間の定義'''\n",
        "          \n",
        "          def _LinearModel_fn(self):\n",
        "              '''線形回帰モデルの定義'''\n",
        "              linear_model = LinearModel(units=self.num_class,\n",
        "                                        activation='softmax')\n",
        "              return linear_model\n",
        "\n",
        "\n",
        "          def _DNNModel_fn(self, hp):\n",
        "              '''DNNモデルの定義'''\n",
        "              model = Sequential()\n",
        "              model.add(layers.Input(shape=self.input_shape_dnn))\n",
        "\n",
        "              hp_processing_layer = hp.Boolean('is_processing_layer', default=False)\n",
        "              if hp_processing_layer:\n",
        "                  model.add(self.norm_layer)\n",
        "                \n",
        "              for i in range(hp.Int('num_layers', min_value=2, max_value=7, step=1)):\n",
        "                  units = hp.Int('units_'+str(i), min_value=32, max_value=512, step=32)\n",
        "                  model.add(layers.Dense(units=units, activation='relu'))\n",
        "                  model.add(layers.Dropout(rate=0.3, seed=self.dropout_seed))\n",
        "              \n",
        "              model.add(layers.Dense(self.num_class, activation='softmax'))\n",
        "              return model\n",
        "\n",
        "\n",
        "          linear_model = _LinearModel_fn(self=self)\n",
        "          dnn_model = _DNNModel_fn(self=self, hp=hp)\n",
        "    \n",
        "          combined_model = WideDeepModel(linear_model=linear_model,\n",
        "                                        dnn_model=dnn_model,\n",
        "                                        activation='softmax')\n",
        "\n",
        "          # 勾配アルゴリズム(線形モデル用, 深層モデル用), 損失関数, 評価関数\n",
        "          combined_model.compile(optimizer=['sgd', optimizers.Adam(hp.Choice('learning_rate', [1e-1, 1e-3, 1e-4]))],\n",
        "                                loss='categorical_crossentropy', \n",
        "                                metrics=['accuracy', 'categorical_crossentropy'])\n",
        "          \n",
        "          return combined_model\n",
        "\n",
        "\n",
        "def take_linear_and_dnn_cols(fetch_X_cols, encoded_cols, df_cols):\n",
        "    '''DNNと線形モデル用のカラム名を返す\n",
        "    INFO : WideDeepModel用'''\n",
        "    dnn_cols = set(fetch_X_cols) ^ set(encoded_cols)\n",
        "    linear_cols = set(df_cols) ^ set(dnn_cols)\n",
        "    return linear_cols, dnn_cols\n",
        "\n",
        "\n",
        "linear_cols, dnn_cols = take_linear_and_dnn_cols(x_cols, one_hot_encode_cols, X.columns)\n",
        "# DNNモデルの入力に使用する特徴量の取得\n",
        "train_X_dnn = train_X.loc[:, dnn_cols].values\n",
        "input_shape_dnn = (train_X.loc[:, dnn_cols].shape[1], )\n",
        "# 線形回帰モデルが使用する特徴量名の取得\n",
        "linear_cols = train_X.drop(columns=dnn_cols).columns\n",
        "\n",
        "# 出力層のユニット数\n",
        "num_class = train_y.shape[1]\n",
        "\n",
        "# モデル定義\n",
        "hyper_model = CensusHyperModel(train_X_dnn=train_X_dnn, \n",
        "                                input_shape_dnn=input_shape_dnn,\n",
        "                                num_class=num_class,\n",
        "                                dropout_seed=SEED)\n",
        "\n",
        "display(hyper_model)\n",
        "\n",
        "\n",
        "def X_data_WideDeep_fn(X_df, linear_cols, dnn_cols):\n",
        "    '''WideDeepモデル用の特徴量データセットの作成'''\n",
        "    return [X_df[linear_cols].values, X_df[dnn_cols].values]\n",
        "\n",
        "\n",
        "train_X_WideDeep = X_data_WideDeep_fn(X_df=train_X, linear_cols=linear_cols, dnn_cols=dnn_cols)\n",
        "val_X_WideDeep = X_data_WideDeep_fn(X_df=val_X, linear_cols=linear_cols, dnn_cols=dnn_cols)\n",
        "test_X_WideDeep = X_data_WideDeep_fn(X_df=test_X, linear_cols=linear_cols, dnn_cols=dnn_cols)"
      ],
      "execution_count": 4,
      "outputs": [
        {
          "output_type": "display_data",
          "data": {
            "text/plain": [
              "<__main__.CensusHyperModel at 0x7f77441c6588>"
            ]
          },
          "metadata": {
            "tags": []
          }
        },
        {
          "output_type": "stream",
          "text": [
            "CPU times: user 63.4 ms, sys: 18.9 ms, total: 82.2 ms\n",
            "Wall time: 225 ms\n"
          ],
          "name": "stdout"
        }
      ]
    },
    {
      "cell_type": "code",
      "metadata": {
        "id": "Sp3b59hAffCK",
        "outputId": "310933c9-5e5d-477b-f1f4-005e28ac3b0a",
        "colab": {
          "base_uri": "https://localhost:8080/",
          "height": 71
        }
      },
      "source": [
        "# Hyperbandアルゴリズム自体の試行回数(default:1)\n",
        "HYPERBAND_ITERATIONS = 1 #@param{type:'number'}\n",
        "# バケット内のモデルを選択する際の割合(default:3)\n",
        "FACTOR = 3 #@param{type:'number'}\n",
        "# モデル1つあたりの最大Epoch数\n",
        "MAX_EPOCHS = 50 #@param{type:'number'}\n",
        "# バケット1つあたりで試行されるパラメータ候補の数\n",
        "PARAMETER_CANDIDATES =  10# @param{type:'number'}\n",
        "BATCH_SIZE = 1024 #@param{type:'number'}\n",
        "\n",
        "tuner = Hyperband(hypermodel=hyper_model,\n",
        "                  objective='val_accuracy',\n",
        "                  hyperband_iterations=HYPERBAND_ITERATIONS,\n",
        "                  factor=FACTOR,\n",
        "                  max_epochs=MAX_EPOCHS,\n",
        "                  seed=SEED\n",
        "                  )\n",
        "display(tuner)\n",
        "\n",
        "# 早期停止コールバックの定義\n",
        "es = callbacks.EarlyStopping(monitor='val_loss',\n",
        "                             patience=5)\n",
        "\n",
        "class ClearTrainingOutput(callbacks.Callback):\n",
        "    '''Ipythonログをクリアするコールバックのクラス定義'''\n",
        "    def on_train_end(*args, **kwargs):\n",
        "        IPython.display.clear_output(wait = True)"
      ],
      "execution_count": 13,
      "outputs": [
        {
          "output_type": "stream",
          "text": [
            "INFO:tensorflow:Reloading Oracle from existing project ./untitled_project/oracle.json\n",
            "INFO:tensorflow:Reloading Tuner from ./untitled_project/tuner0.json\n"
          ],
          "name": "stdout"
        },
        {
          "output_type": "display_data",
          "data": {
            "text/plain": [
              "<kerastuner.tuners.hyperband.Hyperband at 0x7f7736529be0>"
            ]
          },
          "metadata": {
            "tags": []
          }
        }
      ]
    },
    {
      "cell_type": "code",
      "metadata": {
        "id": "sYQgzVjVm0Te",
        "outputId": "95a171d6-6867-4574-e4c1-b1be92cc452a",
        "colab": {
          "base_uri": "https://localhost:8080/",
          "height": 475
        }
      },
      "source": [
        "%%time\n",
        "tuner.search(x=train_X_WideDeep, y=train_y,\n",
        "             epochs=PARAMETER_CANDIDATES,\n",
        "             batch_size=BATCH_SIZE,\n",
        "             validation_data=(val_X_WideDeep, val_y),\n",
        "             callbacks=[es, ClearTrainingOutput()],\n",
        "             verbose=1)"
      ],
      "execution_count": 6,
      "outputs": [
        {
          "output_type": "display_data",
          "data": {
            "text/html": [
              "<span style=\"color:#4527A0\"><h1 style=\"font-size:18px\">Trial complete</h1></span>"
            ],
            "text/plain": [
              "<IPython.core.display.HTML object>"
            ]
          },
          "metadata": {
            "tags": []
          }
        },
        {
          "output_type": "display_data",
          "data": {
            "text/html": [
              "<span style=\"color:#4527A0\"><h1 style=\"font-size:18px\">Trial summary</h1></span>"
            ],
            "text/plain": [
              "<IPython.core.display.HTML object>"
            ]
          },
          "metadata": {
            "tags": []
          }
        },
        {
          "output_type": "display_data",
          "data": {
            "text/html": [
              "<span style=\"color:cyan\"> |-Trial ID: 63f9870afe170d68ec39da6593dc5bbe</span>"
            ],
            "text/plain": [
              "<IPython.core.display.HTML object>"
            ]
          },
          "metadata": {
            "tags": []
          }
        },
        {
          "output_type": "display_data",
          "data": {
            "text/html": [
              "<span style=\"color:cyan\"> |-Score: 0.7568777799606323</span>"
            ],
            "text/plain": [
              "<IPython.core.display.HTML object>"
            ]
          },
          "metadata": {
            "tags": []
          }
        },
        {
          "output_type": "display_data",
          "data": {
            "text/html": [
              "<span style=\"color:cyan\"> |-Best step: 0</span>"
            ],
            "text/plain": [
              "<IPython.core.display.HTML object>"
            ]
          },
          "metadata": {
            "tags": []
          }
        },
        {
          "output_type": "display_data",
          "data": {
            "text/html": [
              "<span style=\"color:#7E57C2\"><h2 style=\"font-size:16px\">Hyperparameters:</h2></span>"
            ],
            "text/plain": [
              "<IPython.core.display.HTML object>"
            ]
          },
          "metadata": {
            "tags": []
          }
        },
        {
          "output_type": "display_data",
          "data": {
            "text/html": [
              "<span style=\"color:cyan\"> |-is_processing_layer: False</span>"
            ],
            "text/plain": [
              "<IPython.core.display.HTML object>"
            ]
          },
          "metadata": {
            "tags": []
          }
        },
        {
          "output_type": "display_data",
          "data": {
            "text/html": [
              "<span style=\"color:blue\"> |-learning_rate: 0.001</span>"
            ],
            "text/plain": [
              "<IPython.core.display.HTML object>"
            ]
          },
          "metadata": {
            "tags": []
          }
        },
        {
          "output_type": "display_data",
          "data": {
            "text/html": [
              "<span style=\"color:cyan\"> |-num_layers: 4</span>"
            ],
            "text/plain": [
              "<IPython.core.display.HTML object>"
            ]
          },
          "metadata": {
            "tags": []
          }
        },
        {
          "output_type": "display_data",
          "data": {
            "text/html": [
              "<span style=\"color:blue\"> |-tuner/bracket: 0</span>"
            ],
            "text/plain": [
              "<IPython.core.display.HTML object>"
            ]
          },
          "metadata": {
            "tags": []
          }
        },
        {
          "output_type": "display_data",
          "data": {
            "text/html": [
              "<span style=\"color:cyan\"> |-tuner/epochs: 50</span>"
            ],
            "text/plain": [
              "<IPython.core.display.HTML object>"
            ]
          },
          "metadata": {
            "tags": []
          }
        },
        {
          "output_type": "display_data",
          "data": {
            "text/html": [
              "<span style=\"color:blue\"> |-tuner/initial_epoch: 0</span>"
            ],
            "text/plain": [
              "<IPython.core.display.HTML object>"
            ]
          },
          "metadata": {
            "tags": []
          }
        },
        {
          "output_type": "display_data",
          "data": {
            "text/html": [
              "<span style=\"color:cyan\"> |-tuner/round: 0</span>"
            ],
            "text/plain": [
              "<IPython.core.display.HTML object>"
            ]
          },
          "metadata": {
            "tags": []
          }
        },
        {
          "output_type": "display_data",
          "data": {
            "text/html": [
              "<span style=\"color:blue\"> |-units_0: 192</span>"
            ],
            "text/plain": [
              "<IPython.core.display.HTML object>"
            ]
          },
          "metadata": {
            "tags": []
          }
        },
        {
          "output_type": "display_data",
          "data": {
            "text/html": [
              "<span style=\"color:cyan\"> |-units_1: 384</span>"
            ],
            "text/plain": [
              "<IPython.core.display.HTML object>"
            ]
          },
          "metadata": {
            "tags": []
          }
        },
        {
          "output_type": "display_data",
          "data": {
            "text/html": [
              "<span style=\"color:blue\"> |-units_2: 384</span>"
            ],
            "text/plain": [
              "<IPython.core.display.HTML object>"
            ]
          },
          "metadata": {
            "tags": []
          }
        },
        {
          "output_type": "display_data",
          "data": {
            "text/html": [
              "<span style=\"color:cyan\"> |-units_3: 192</span>"
            ],
            "text/plain": [
              "<IPython.core.display.HTML object>"
            ]
          },
          "metadata": {
            "tags": []
          }
        },
        {
          "output_type": "display_data",
          "data": {
            "text/html": [
              "<span style=\"color:blue\"> |-units_4: 288</span>"
            ],
            "text/plain": [
              "<IPython.core.display.HTML object>"
            ]
          },
          "metadata": {
            "tags": []
          }
        },
        {
          "output_type": "display_data",
          "data": {
            "text/html": [
              "<span style=\"color:cyan\"> |-units_5: 384</span>"
            ],
            "text/plain": [
              "<IPython.core.display.HTML object>"
            ]
          },
          "metadata": {
            "tags": []
          }
        },
        {
          "output_type": "display_data",
          "data": {
            "text/html": [
              "<span style=\"color:blue\"> |-units_6: 128</span>"
            ],
            "text/plain": [
              "<IPython.core.display.HTML object>"
            ]
          },
          "metadata": {
            "tags": []
          }
        },
        {
          "output_type": "stream",
          "text": [
            "INFO:tensorflow:Oracle triggered exit\n",
            "CPU times: user 2h 11min 12s, sys: 9min 36s, total: 2h 20min 48s\n",
            "Wall time: 1h 45min 2s\n"
          ],
          "name": "stdout"
        }
      ]
    },
    {
      "cell_type": "markdown",
      "metadata": {
        "id": "ySRNiwwi_7Yt"
      },
      "source": [
        "# モデルの構造を可視化"
      ]
    },
    {
      "cell_type": "code",
      "metadata": {
        "id": "nFD62eAC_9ry",
        "outputId": "762ee58d-e12a-4566-b6de-532ffcd5e449",
        "colab": {
          "base_uri": "https://localhost:8080/",
          "height": 1000
        }
      },
      "source": [
        "%%time\n",
        "def take_best_model(tuner):\n",
        "    '''ベストなモデルの取り出し'''\n",
        "    best_model = tuner.get_best_models(num_models=1)[0]\n",
        "    return best_model\n",
        "\n",
        "\n",
        "def display_dnn_model(dnn_model):\n",
        "    '''DNNの構造を表示'''\n",
        "    display(plot_model(dnn_model))\n",
        "    display(dnn_model.summary())\n",
        "\n",
        "\n",
        "classifier = take_best_model(tuner)\n",
        "display_dnn_model(dnn_model=classifier.dnn_model)"
      ],
      "execution_count": 11,
      "outputs": [
        {
          "output_type": "display_data",
          "data": {
            "image/png": "[encoded data removed]",
            "text/plain": [
              "<IPython.core.display.Image object>"
            ]
          },
          "metadata": {
            "tags": []
          }
        },
        {
          "output_type": "stream",
          "text": [
            "Model: \"sequential\"\n",
            "_________________________________________________________________\n",
            "Layer (type)                 Output Shape              Param #   \n",
            "=================================================================\n",
            "normalization (Normalization (None, 6)                 13        \n",
            "_________________________________________________________________\n",
            "dense (Dense)                (None, 64)                448       \n",
            "_________________________________________________________________\n",
            "dropout (Dropout)            (None, 64)                0         \n",
            "_________________________________________________________________\n",
            "dense_1 (Dense)              (None, 448)               29120     \n",
            "_________________________________________________________________\n",
            "dropout_1 (Dropout)          (None, 448)               0         \n",
            "_________________________________________________________________\n",
            "dense_2 (Dense)              (None, 192)               86208     \n",
            "_________________________________________________________________\n",
            "dropout_2 (Dropout)          (None, 192)               0         \n",
            "_________________________________________________________________\n",
            "dense_3 (Dense)              (None, 352)               67936     \n",
            "_________________________________________________________________\n",
            "dropout_3 (Dropout)          (None, 352)               0         \n",
            "_________________________________________________________________\n",
            "dense_4 (Dense)              (None, 384)               135552    \n",
            "_________________________________________________________________\n",
            "dropout_4 (Dropout)          (None, 384)               0         \n",
            "_________________________________________________________________\n",
            "dense_5 (Dense)              (None, 2)                 770       \n",
            "=================================================================\n",
            "Total params: 320,047\n",
            "Trainable params: 320,034\n",
            "Non-trainable params: 13\n",
            "_________________________________________________________________\n"
          ],
          "name": "stdout"
        },
        {
          "output_type": "display_data",
          "data": {
            "text/plain": [
              "None"
            ]
          },
          "metadata": {
            "tags": []
          }
        },
        {
          "output_type": "stream",
          "text": [
            "CPU times: user 388 ms, sys: 61.1 ms, total: 449 ms\n",
            "Wall time: 524 ms\n"
          ],
          "name": "stdout"
        }
      ]
    },
    {
      "cell_type": "markdown",
      "metadata": {
        "id": "GZlcWQe2zUUQ"
      },
      "source": [
        "## モデルの評価"
      ]
    },
    {
      "cell_type": "markdown",
      "metadata": {
        "id": "okON7VZn0Vh9"
      },
      "source": [
        "### Kerasの組み込み評価関数"
      ]
    },
    {
      "cell_type": "code",
      "metadata": {
        "id": "IUeyyuJgwhwb",
        "outputId": "16660611-dd1c-46f7-b6f1-be46f0aca723",
        "colab": {
          "base_uri": "https://localhost:8080/"
        }
      },
      "source": [
        "%%time\n",
        "classifier.evaluate(x=test_X_WideDeep, y=test_y, batch_size=BATCH_SIZE)"
      ],
      "execution_count": 18,
      "outputs": [
        {
          "output_type": "stream",
          "text": [
            "10/10 [==============================] - 0s 15ms/step - loss: 0.3792 - accuracy: 0.8477 - categorical_crossentropy: 0.3792\n",
            "CPU times: user 307 ms, sys: 15.7 ms, total: 323 ms\n",
            "Wall time: 237 ms\n"
          ],
          "name": "stdout"
        },
        {
          "output_type": "execute_result",
          "data": {
            "text/plain": [
              "[0.37922215461730957, 0.84768146276474, 0.37922215461730957]"
            ]
          },
          "metadata": {
            "tags": []
          },
          "execution_count": 18
        }
      ]
    },
    {
      "cell_type": "markdown",
      "metadata": {
        "id": "I4QLEqO10av1"
      },
      "source": [
        "### sklearnの評価関数"
      ]
    },
    {
      "cell_type": "code",
      "metadata": {
        "id": "40JuPQtP0cm4",
        "outputId": "26c6b751-5aa7-47e0-d61c-266adeedc6b3",
        "colab": {
          "base_uri": "https://localhost:8080/"
        }
      },
      "source": [
        "%%time\n",
        "def predict_classes(model, x):\n",
        "    '''ラスラベルの予測を取得'''\n",
        "    return np.argmax(model.predict(x), axis=-1)\n",
        "\n",
        "\n",
        "# 予測結果の取得\n",
        "train_y_pred = predict_classes(classifier, train_X_WideDeep)\n",
        "val_y_pred = predict_classes(classifier, val_X_WideDeep)\n",
        "test_y_pred = predict_classes(classifier, test_X_WideDeep)\n",
        "\n",
        "\n",
        "def encode_label_classes(one_hot_encode_y):\n",
        "    '''ワンホットエンコードをラベルエンコードに変換'''\n",
        "    return np.argmax(one_hot_encode_y.values, axis=-1)\n",
        "\n",
        "train_report = classification_report(y_true=encode_label_classes(train_y),\n",
        "                                     y_pred=train_y_pred)\n",
        "val_report = classification_report(y_true=encode_label_classes(val_y),\n",
        "                                   y_pred=val_y_pred)\n",
        "test_report = classification_report(y_true=encode_label_classes(test_y),\n",
        "                                    y_pred=test_y_pred)\n",
        "\n",
        "print(train_report)\n",
        "print('----- -----')\n",
        "print(val_report)\n",
        "print('----- -----')\n",
        "print(test_report)"
      ],
      "execution_count": 19,
      "outputs": [
        {
          "output_type": "stream",
          "text": [
            "              precision    recall  f1-score   support\n",
            "\n",
            "           0       0.79      0.52      0.63      7477\n",
            "           1       0.86      0.96      0.91     23781\n",
            "\n",
            "    accuracy                           0.85     31258\n",
            "   macro avg       0.83      0.74      0.77     31258\n",
            "weighted avg       0.85      0.85      0.84     31258\n",
            "\n",
            "----- -----\n",
            "              precision    recall  f1-score   support\n",
            "\n",
            "           0       0.81      0.53      0.64      1900\n",
            "           1       0.86      0.96      0.91      5915\n",
            "\n",
            "    accuracy                           0.86      7815\n",
            "   macro avg       0.84      0.75      0.78      7815\n",
            "weighted avg       0.85      0.86      0.84      7815\n",
            "\n",
            "----- -----\n",
            "              precision    recall  f1-score   support\n",
            "\n",
            "           0       0.79      0.49      0.60      2310\n",
            "           1       0.86      0.96      0.91      7459\n",
            "\n",
            "    accuracy                           0.85      9769\n",
            "   macro avg       0.82      0.72      0.75      9769\n",
            "weighted avg       0.84      0.85      0.83      9769\n",
            "\n",
            "CPU times: user 2.72 s, sys: 154 ms, total: 2.87 s\n",
            "Wall time: 1.99 s\n"
          ],
          "name": "stdout"
        }
      ]
    }
  ]
}