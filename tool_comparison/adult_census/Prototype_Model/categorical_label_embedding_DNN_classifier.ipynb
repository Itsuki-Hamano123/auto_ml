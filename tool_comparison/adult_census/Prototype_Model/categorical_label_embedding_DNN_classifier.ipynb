{
  "nbformat": 4,
  "nbformat_minor": 0,
  "metadata": {
    "colab": {
      "name": "categorical_label_embedding_DNN_classifier.ipynb",
      "provenance": [],
      "collapsed_sections": [],
      "toc_visible": true,
      "authorship_tag": "ABX9TyN5AZchlsZpFzpw6NpBvuoz",
      "include_colab_link": true
    },
    "kernelspec": {
      "display_name": "Python 3",
      "name": "python3"
    }
  },
  "cells": [
    {
      "cell_type": "markdown",
      "metadata": {
        "id": "view-in-github",
        "colab_type": "text"
      },
      "source": [
        "<a href=\"https://colab.research.google.com/github/Itsuki-Hamano123/auto_ml/blob/master/tool_comparison/adult_census/Prototype_Model/categorical_label_embedding_DNN_classifier.ipynb\" target=\"_parent\"><img src=\"https://colab.research.google.com/assets/colab-badge.svg\" alt=\"Open In Colab\"/></a>"
      ]
    },
    {
      "cell_type": "markdown",
      "metadata": {
        "id": "-11ifpY4RAz9"
      },
      "source": [
        "one-hotベクトルの次元数が増える場合はエンベディングするのがベストといわれてる：https://www.tensorflow.org/tutorials/structured_data/feature_columns\n",
        "カテゴリ列はstring_int layerを前処理で、embeddinglayerをモデルに採用\n",
        "カテゴリ列以外は、標準化レイヤーをモデルに採用"
      ]
    },
    {
      "cell_type": "code",
      "metadata": {
        "id": "X9avgfy440Gw",
        "outputId": "dcd6640d-b12e-414a-9ef7-456af7fe71d7",
        "colab": {
          "base_uri": "https://localhost:8080/"
        }
      },
      "source": [
        "%pip show tensorflow scikit-learn"
      ],
      "execution_count": 1,
      "outputs": [
        {
          "output_type": "stream",
          "text": [
            "Name: tensorflow\n",
            "Version: 2.3.0\n",
            "Summary: TensorFlow is an open source machine learning framework for everyone.\n",
            "Home-page: https://www.tensorflow.org/\n",
            "Author: Google Inc.\n",
            "Author-email: packages@tensorflow.org\n",
            "License: Apache 2.0\n",
            "Location: /usr/local/lib/python3.6/dist-packages\n",
            "Requires: h5py, opt-einsum, astunparse, six, numpy, protobuf, gast, absl-py, tensorflow-estimator, wrapt, tensorboard, keras-preprocessing, scipy, grpcio, wheel, termcolor, google-pasta\n",
            "Required-by: fancyimpute\n",
            "---\n",
            "Name: scikit-learn\n",
            "Version: 0.22.2.post1\n",
            "Summary: A set of python modules for machine learning and data mining\n",
            "Home-page: http://scikit-learn.org\n",
            "Author: None\n",
            "Author-email: None\n",
            "License: new BSD\n",
            "Location: /usr/local/lib/python3.6/dist-packages\n",
            "Requires: numpy, scipy, joblib\n",
            "Required-by: yellowbrick, umap-learn, textgenrnn, sklearn, sklearn-pandas, mlxtend, lucid, lightgbm, librosa, imbalanced-learn, fancyimpute\n"
          ],
          "name": "stdout"
        }
      ]
    },
    {
      "cell_type": "markdown",
      "metadata": {
        "id": "hPW_0GuC6foJ"
      },
      "source": [
        "[国税調査データセット:https://www.openml.org/d/1590](https://www.openml.org/d/1590)"
      ]
    },
    {
      "cell_type": "code",
      "metadata": {
        "id": "K9cZDbpY6vBv"
      },
      "source": [
        "import datetime, IPython, os \n",
        "\n",
        "import numpy as np\n",
        "import pandas as pd\n",
        "\n",
        "from sklearn.datasets import fetch_openml\n",
        "from sklearn.preprocessing import LabelEncoder\n",
        "from sklearn.model_selection import train_test_split\n",
        "from sklearn.metrics import classification_report\n",
        "\n",
        "from tensorflow.keras import Model, Input, layers, optimizers, callbacks\n",
        "from tensorflow.keras.layers.experimental.preprocessing import Normalization,StringLookup\n",
        "from tensorflow.keras.utils import plot_model"
      ],
      "execution_count": 2,
      "outputs": []
    },
    {
      "cell_type": "markdown",
      "metadata": {
        "id": "uWiPUEPf9Myk"
      },
      "source": [
        "# データ読み込み"
      ]
    },
    {
      "cell_type": "code",
      "metadata": {
        "id": "edEdityda6jY",
        "outputId": "f7447eb5-d94a-4a60-bddd-c1ea37910495",
        "colab": {
          "base_uri": "https://localhost:8080/",
          "height": 1000
        }
      },
      "source": [
        "%%time\n",
        "DATA_ID = '1590' #@param{type:'string'}\n",
        "\n",
        "# データセットをフェッチ\n",
        "result = fetch_openml(data_id=DATA_ID,\n",
        "                    as_frame=True)\n",
        "X = result.data\n",
        "y = result.target\n",
        "x_cols = result.feature_names\n",
        "y_col = result.target_names\n",
        "\n",
        "display(x_cols)\n",
        "display(X.head())\n",
        "display(y_col)\n",
        "display(y.head())\n",
        "\n",
        "\n",
        "def proc_y(y):\n",
        "    '''ラベルの加工'''\n",
        "\n",
        "    def _one_hot_encode(y):\n",
        "        '''ワンホットエンコードしたnumpy.ndarrayを返す'''\n",
        "        return pd.get_dummies(y)\n",
        "\n",
        "    proc_y = _one_hot_encode(y=y)\n",
        "    return proc_y\n",
        "\n",
        "\n",
        "categorical_cols = ['workclass', 'education', 'marital-status', 'occupation',\n",
        "                    'relationship', 'race', 'sex', 'native-country']\n",
        "numericla_cols =  set(X.columns) ^ set(categorical_cols)\n",
        "y=proc_y(y=y)\n",
        "\n",
        "display(X.head())\n",
        "display(y.head())\n",
        "\n",
        "\n",
        "SEED = 7 #@param{type:'number'}\n",
        "SPLIT = 0.2 #@param{type:'number'}\n",
        "\n",
        "train_X, test_X, train_y, test_y = train_test_split(X, y,\n",
        "                                                    test_size=SPLIT,\n",
        "                                                    random_state=SEED,\n",
        "                                                    shuffle=True)\n",
        "train_X, val_X, train_y, val_y = train_test_split(train_X, train_y,\n",
        "                                                  test_size=SPLIT,\n",
        "                                                  random_state=SEED,\n",
        "                                                  shuffle=True)\n",
        "\n",
        "display('train shape:{}'.format(train_X.shape))\n",
        "display('val shape:{}'.format(val_X.shape))\n",
        "display('test shape:{}'.format(test_X.shape))\n",
        "\n",
        "\n",
        "# モデルの入力形式に合わせて特徴量を辞書型で扱う\n",
        "def create_dictionary(X_df, numericla_cols, categorical_cols):\n",
        "    '''辞書型のオブジェクト作成'''\n",
        "    obj = {}\n",
        "    obj['numerical_X'] = X_df[numericla_cols].values\n",
        "    for cate_col in categorical_cols:\n",
        "        obj[cate_col] = X_df[cate_col]\n",
        "    return obj\n",
        "\n",
        "\n",
        "train_X = create_dictionary(X_df=train_X, numericla_cols=numericla_cols,\n",
        "                            categorical_cols=categorical_cols)\n",
        "val_X = create_dictionary(X_df=val_X, numericla_cols=numericla_cols,\n",
        "                            categorical_cols=categorical_cols)\n",
        "test_X = create_dictionary(X_df=test_X, numericla_cols=numericla_cols,\n",
        "                            categorical_cols=categorical_cols)\n",
        "#display(train_X)"
      ],
      "execution_count": 16,
      "outputs": [
        {
          "output_type": "display_data",
          "data": {
            "text/plain": [
              "['age',\n",
              " 'workclass',\n",
              " 'fnlwgt',\n",
              " 'education',\n",
              " 'education-num',\n",
              " 'marital-status',\n",
              " 'occupation',\n",
              " 'relationship',\n",
              " 'race',\n",
              " 'sex',\n",
              " 'capital-gain',\n",
              " 'capital-loss',\n",
              " 'hours-per-week',\n",
              " 'native-country']"
            ]
          },
          "metadata": {
            "tags": []
          }
        },
        {
          "output_type": "display_data",
          "data": {
            "text/html": [
              "<div>\n",
              "<style scoped>\n",
              "    .dataframe tbody tr th:only-of-type {\n",
              "        vertical-align: middle;\n",
              "    }\n",
              "\n",
              "    .dataframe tbody tr th {\n",
              "        vertical-align: top;\n",
              "    }\n",
              "\n",
              "    .dataframe thead th {\n",
              "        text-align: right;\n",
              "    }\n",
              "</style>\n",
              "<table border=\"1\" class=\"dataframe\">\n",
              "  <thead>\n",
              "    <tr style=\"text-align: right;\">\n",
              "      <th></th>\n",
              "      <th>age</th>\n",
              "      <th>workclass</th>\n",
              "      <th>fnlwgt</th>\n",
              "      <th>education</th>\n",
              "      <th>education-num</th>\n",
              "      <th>marital-status</th>\n",
              "      <th>occupation</th>\n",
              "      <th>relationship</th>\n",
              "      <th>race</th>\n",
              "      <th>sex</th>\n",
              "      <th>capital-gain</th>\n",
              "      <th>capital-loss</th>\n",
              "      <th>hours-per-week</th>\n",
              "      <th>native-country</th>\n",
              "    </tr>\n",
              "  </thead>\n",
              "  <tbody>\n",
              "    <tr>\n",
              "      <th>0</th>\n",
              "      <td>25.0</td>\n",
              "      <td>Private</td>\n",
              "      <td>226802.0</td>\n",
              "      <td>11th</td>\n",
              "      <td>7.0</td>\n",
              "      <td>Never-married</td>\n",
              "      <td>Machine-op-inspct</td>\n",
              "      <td>Own-child</td>\n",
              "      <td>Black</td>\n",
              "      <td>Male</td>\n",
              "      <td>0.0</td>\n",
              "      <td>0.0</td>\n",
              "      <td>40.0</td>\n",
              "      <td>United-States</td>\n",
              "    </tr>\n",
              "    <tr>\n",
              "      <th>1</th>\n",
              "      <td>38.0</td>\n",
              "      <td>Private</td>\n",
              "      <td>89814.0</td>\n",
              "      <td>HS-grad</td>\n",
              "      <td>9.0</td>\n",
              "      <td>Married-civ-spouse</td>\n",
              "      <td>Farming-fishing</td>\n",
              "      <td>Husband</td>\n",
              "      <td>White</td>\n",
              "      <td>Male</td>\n",
              "      <td>0.0</td>\n",
              "      <td>0.0</td>\n",
              "      <td>50.0</td>\n",
              "      <td>United-States</td>\n",
              "    </tr>\n",
              "    <tr>\n",
              "      <th>2</th>\n",
              "      <td>28.0</td>\n",
              "      <td>Local-gov</td>\n",
              "      <td>336951.0</td>\n",
              "      <td>Assoc-acdm</td>\n",
              "      <td>12.0</td>\n",
              "      <td>Married-civ-spouse</td>\n",
              "      <td>Protective-serv</td>\n",
              "      <td>Husband</td>\n",
              "      <td>White</td>\n",
              "      <td>Male</td>\n",
              "      <td>0.0</td>\n",
              "      <td>0.0</td>\n",
              "      <td>40.0</td>\n",
              "      <td>United-States</td>\n",
              "    </tr>\n",
              "    <tr>\n",
              "      <th>3</th>\n",
              "      <td>44.0</td>\n",
              "      <td>Private</td>\n",
              "      <td>160323.0</td>\n",
              "      <td>Some-college</td>\n",
              "      <td>10.0</td>\n",
              "      <td>Married-civ-spouse</td>\n",
              "      <td>Machine-op-inspct</td>\n",
              "      <td>Husband</td>\n",
              "      <td>Black</td>\n",
              "      <td>Male</td>\n",
              "      <td>7688.0</td>\n",
              "      <td>0.0</td>\n",
              "      <td>40.0</td>\n",
              "      <td>United-States</td>\n",
              "    </tr>\n",
              "    <tr>\n",
              "      <th>4</th>\n",
              "      <td>18.0</td>\n",
              "      <td>NaN</td>\n",
              "      <td>103497.0</td>\n",
              "      <td>Some-college</td>\n",
              "      <td>10.0</td>\n",
              "      <td>Never-married</td>\n",
              "      <td>NaN</td>\n",
              "      <td>Own-child</td>\n",
              "      <td>White</td>\n",
              "      <td>Female</td>\n",
              "      <td>0.0</td>\n",
              "      <td>0.0</td>\n",
              "      <td>30.0</td>\n",
              "      <td>United-States</td>\n",
              "    </tr>\n",
              "  </tbody>\n",
              "</table>\n",
              "</div>"
            ],
            "text/plain": [
              "    age  workclass    fnlwgt  ... capital-loss  hours-per-week native-country\n",
              "0  25.0    Private  226802.0  ...          0.0            40.0  United-States\n",
              "1  38.0    Private   89814.0  ...          0.0            50.0  United-States\n",
              "2  28.0  Local-gov  336951.0  ...          0.0            40.0  United-States\n",
              "3  44.0    Private  160323.0  ...          0.0            40.0  United-States\n",
              "4  18.0        NaN  103497.0  ...          0.0            30.0  United-States\n",
              "\n",
              "[5 rows x 14 columns]"
            ]
          },
          "metadata": {
            "tags": []
          }
        },
        {
          "output_type": "display_data",
          "data": {
            "text/plain": [
              "['class']"
            ]
          },
          "metadata": {
            "tags": []
          }
        },
        {
          "output_type": "display_data",
          "data": {
            "text/plain": [
              "0    <=50K\n",
              "1    <=50K\n",
              "2     >50K\n",
              "3     >50K\n",
              "4    <=50K\n",
              "Name: class, dtype: category\n",
              "Categories (2, object): ['>50K', '<=50K']"
            ]
          },
          "metadata": {
            "tags": []
          }
        },
        {
          "output_type": "display_data",
          "data": {
            "text/html": [
              "<div>\n",
              "<style scoped>\n",
              "    .dataframe tbody tr th:only-of-type {\n",
              "        vertical-align: middle;\n",
              "    }\n",
              "\n",
              "    .dataframe tbody tr th {\n",
              "        vertical-align: top;\n",
              "    }\n",
              "\n",
              "    .dataframe thead th {\n",
              "        text-align: right;\n",
              "    }\n",
              "</style>\n",
              "<table border=\"1\" class=\"dataframe\">\n",
              "  <thead>\n",
              "    <tr style=\"text-align: right;\">\n",
              "      <th></th>\n",
              "      <th>age</th>\n",
              "      <th>workclass</th>\n",
              "      <th>fnlwgt</th>\n",
              "      <th>education</th>\n",
              "      <th>education-num</th>\n",
              "      <th>marital-status</th>\n",
              "      <th>occupation</th>\n",
              "      <th>relationship</th>\n",
              "      <th>race</th>\n",
              "      <th>sex</th>\n",
              "      <th>capital-gain</th>\n",
              "      <th>capital-loss</th>\n",
              "      <th>hours-per-week</th>\n",
              "      <th>native-country</th>\n",
              "    </tr>\n",
              "  </thead>\n",
              "  <tbody>\n",
              "    <tr>\n",
              "      <th>0</th>\n",
              "      <td>25.0</td>\n",
              "      <td>Private</td>\n",
              "      <td>226802.0</td>\n",
              "      <td>11th</td>\n",
              "      <td>7.0</td>\n",
              "      <td>Never-married</td>\n",
              "      <td>Machine-op-inspct</td>\n",
              "      <td>Own-child</td>\n",
              "      <td>Black</td>\n",
              "      <td>Male</td>\n",
              "      <td>0.0</td>\n",
              "      <td>0.0</td>\n",
              "      <td>40.0</td>\n",
              "      <td>United-States</td>\n",
              "    </tr>\n",
              "    <tr>\n",
              "      <th>1</th>\n",
              "      <td>38.0</td>\n",
              "      <td>Private</td>\n",
              "      <td>89814.0</td>\n",
              "      <td>HS-grad</td>\n",
              "      <td>9.0</td>\n",
              "      <td>Married-civ-spouse</td>\n",
              "      <td>Farming-fishing</td>\n",
              "      <td>Husband</td>\n",
              "      <td>White</td>\n",
              "      <td>Male</td>\n",
              "      <td>0.0</td>\n",
              "      <td>0.0</td>\n",
              "      <td>50.0</td>\n",
              "      <td>United-States</td>\n",
              "    </tr>\n",
              "    <tr>\n",
              "      <th>2</th>\n",
              "      <td>28.0</td>\n",
              "      <td>Local-gov</td>\n",
              "      <td>336951.0</td>\n",
              "      <td>Assoc-acdm</td>\n",
              "      <td>12.0</td>\n",
              "      <td>Married-civ-spouse</td>\n",
              "      <td>Protective-serv</td>\n",
              "      <td>Husband</td>\n",
              "      <td>White</td>\n",
              "      <td>Male</td>\n",
              "      <td>0.0</td>\n",
              "      <td>0.0</td>\n",
              "      <td>40.0</td>\n",
              "      <td>United-States</td>\n",
              "    </tr>\n",
              "    <tr>\n",
              "      <th>3</th>\n",
              "      <td>44.0</td>\n",
              "      <td>Private</td>\n",
              "      <td>160323.0</td>\n",
              "      <td>Some-college</td>\n",
              "      <td>10.0</td>\n",
              "      <td>Married-civ-spouse</td>\n",
              "      <td>Machine-op-inspct</td>\n",
              "      <td>Husband</td>\n",
              "      <td>Black</td>\n",
              "      <td>Male</td>\n",
              "      <td>7688.0</td>\n",
              "      <td>0.0</td>\n",
              "      <td>40.0</td>\n",
              "      <td>United-States</td>\n",
              "    </tr>\n",
              "    <tr>\n",
              "      <th>4</th>\n",
              "      <td>18.0</td>\n",
              "      <td>NaN</td>\n",
              "      <td>103497.0</td>\n",
              "      <td>Some-college</td>\n",
              "      <td>10.0</td>\n",
              "      <td>Never-married</td>\n",
              "      <td>NaN</td>\n",
              "      <td>Own-child</td>\n",
              "      <td>White</td>\n",
              "      <td>Female</td>\n",
              "      <td>0.0</td>\n",
              "      <td>0.0</td>\n",
              "      <td>30.0</td>\n",
              "      <td>United-States</td>\n",
              "    </tr>\n",
              "  </tbody>\n",
              "</table>\n",
              "</div>"
            ],
            "text/plain": [
              "    age  workclass    fnlwgt  ... capital-loss  hours-per-week native-country\n",
              "0  25.0    Private  226802.0  ...          0.0            40.0  United-States\n",
              "1  38.0    Private   89814.0  ...          0.0            50.0  United-States\n",
              "2  28.0  Local-gov  336951.0  ...          0.0            40.0  United-States\n",
              "3  44.0    Private  160323.0  ...          0.0            40.0  United-States\n",
              "4  18.0        NaN  103497.0  ...          0.0            30.0  United-States\n",
              "\n",
              "[5 rows x 14 columns]"
            ]
          },
          "metadata": {
            "tags": []
          }
        },
        {
          "output_type": "display_data",
          "data": {
            "text/html": [
              "<div>\n",
              "<style scoped>\n",
              "    .dataframe tbody tr th:only-of-type {\n",
              "        vertical-align: middle;\n",
              "    }\n",
              "\n",
              "    .dataframe tbody tr th {\n",
              "        vertical-align: top;\n",
              "    }\n",
              "\n",
              "    .dataframe thead th {\n",
              "        text-align: right;\n",
              "    }\n",
              "</style>\n",
              "<table border=\"1\" class=\"dataframe\">\n",
              "  <thead>\n",
              "    <tr style=\"text-align: right;\">\n",
              "      <th></th>\n",
              "      <th>&gt;50K</th>\n",
              "      <th>&lt;=50K</th>\n",
              "    </tr>\n",
              "  </thead>\n",
              "  <tbody>\n",
              "    <tr>\n",
              "      <th>0</th>\n",
              "      <td>0</td>\n",
              "      <td>1</td>\n",
              "    </tr>\n",
              "    <tr>\n",
              "      <th>1</th>\n",
              "      <td>0</td>\n",
              "      <td>1</td>\n",
              "    </tr>\n",
              "    <tr>\n",
              "      <th>2</th>\n",
              "      <td>1</td>\n",
              "      <td>0</td>\n",
              "    </tr>\n",
              "    <tr>\n",
              "      <th>3</th>\n",
              "      <td>1</td>\n",
              "      <td>0</td>\n",
              "    </tr>\n",
              "    <tr>\n",
              "      <th>4</th>\n",
              "      <td>0</td>\n",
              "      <td>1</td>\n",
              "    </tr>\n",
              "  </tbody>\n",
              "</table>\n",
              "</div>"
            ],
            "text/plain": [
              "   >50K  <=50K\n",
              "0     0      1\n",
              "1     0      1\n",
              "2     1      0\n",
              "3     1      0\n",
              "4     0      1"
            ]
          },
          "metadata": {
            "tags": []
          }
        },
        {
          "output_type": "display_data",
          "data": {
            "application/vnd.google.colaboratory.intrinsic+json": {
              "type": "string"
            },
            "text/plain": [
              "'train shape:(31258, 14)'"
            ]
          },
          "metadata": {
            "tags": []
          }
        },
        {
          "output_type": "display_data",
          "data": {
            "application/vnd.google.colaboratory.intrinsic+json": {
              "type": "string"
            },
            "text/plain": [
              "'val shape:(7815, 14)'"
            ]
          },
          "metadata": {
            "tags": []
          }
        },
        {
          "output_type": "display_data",
          "data": {
            "application/vnd.google.colaboratory.intrinsic+json": {
              "type": "string"
            },
            "text/plain": [
              "'test shape:(9769, 14)'"
            ]
          },
          "metadata": {
            "tags": []
          }
        },
        {
          "output_type": "stream",
          "text": [
            "CPU times: user 1.35 s, sys: 43.1 ms, total: 1.39 s\n",
            "Wall time: 1.39 s\n"
          ],
          "name": "stdout"
        }
      ]
    },
    {
      "cell_type": "code",
      "metadata": {
        "id": "ihz59H6NQV3T",
        "outputId": "1aec8e34-8a84-4aab-90a8-2dbaf63bb790",
        "colab": {
          "base_uri": "https://localhost:8080/"
        }
      },
      "source": [
        "#train_X['education']\n",
        "layer = StringLookup(vocabulary=list(train_X['education'].unique()))\n",
        "layer"
      ],
      "execution_count": 32,
      "outputs": [
        {
          "output_type": "execute_result",
          "data": {
            "text/plain": [
              "<tensorflow.python.keras.layers.preprocessing.string_lookup.StringLookup at 0x7f327f079d30>"
            ]
          },
          "metadata": {
            "tags": []
          },
          "execution_count": 32
        }
      ]
    },
    {
      "cell_type": "markdown",
      "metadata": {
        "id": "J5YamKo39PL8"
      },
      "source": [
        "# モデル構築"
      ]
    },
    {
      "cell_type": "code",
      "metadata": {
        "id": "TStFaPfb6zbw",
        "outputId": "e0d4f987-83b2-41f4-ee5d-f5bceb2b3074",
        "colab": {
          "base_uri": "https://localhost:8080/",
          "height": 1000
        }
      },
      "source": [
        "%%time\n",
        "def model_fn(train_X, num_class, embedding_dim, categorical_X_keys,\n",
        "             numerical_X_key='numerical_X', dropout_seed=None):\n",
        "    '''モデルの構造定義\n",
        "    \n",
        "    Parameters\n",
        "    -----\n",
        "    train_X : numpy.ndarray\n",
        "      訓練データ\n",
        "      INFO : 前処理レイヤーの適合に必要\n",
        "    num_class : int\n",
        "      分類するクラス数\n",
        "    embedding_dim : int\n",
        "      埋め込み後の次元数\n",
        "    categorical_X_keys : list of string\n",
        "      標準化レイヤーに適合させるカテゴリ変数型の特徴量が格納されているkey名配列\n",
        "    numerical_X_key : string (default : numerical_X)\n",
        "      標準化レイヤーに適合させる数値型の特徴量が格納されているkey名\n",
        "    dropout_seed : float (default : None)\n",
        "    '''\n",
        "\n",
        "    def _setup_norm_layer(adapt_X):\n",
        "        '''標準化レイヤーのセットアップ'''\n",
        "        norm_layer = Normalization()\n",
        "        norm_layer.adapt(adapt_X)\n",
        "        return norm_layer\n",
        "\n",
        "\n",
        "    # 数値データ用の入力層\n",
        "    numerical_X = train_X[numerical_X_key]\n",
        "    input_shape = numerical_X.shape[1]\n",
        "    numerical_input = layers.Input(shape=input_shape,\n",
        "                                   name=numerical_X_key)\n",
        "    norm_layer = _setup_norm_layer(adapt_X=numerical_X)\n",
        "    numerical_features = norm_layer(numerical_input)\n",
        "\n",
        "\n",
        "    # カテゴリ変数用の入力レイヤー\n",
        "    def _categorical_layers_fn(train_X, categorical_X_keys, emb_dim):\n",
        "        \n",
        "        def _categorical_layer_fn(feature_name, feature, emb_dim, shape=1):\n",
        "            input_layer = layers.Input(shape=shape, name=feature_name+'_X')\n",
        "            st_lookup_layer = StringLookup(vocabulary=list(feature.unique()))(input_layer)\n",
        "            #print(st_lookup_layer)\n",
        "            #todododo\n",
        "            emb_layer = layers.Embedding(input_dim=shape, output_dim=emb_dim)(st_lookup_layer)\n",
        "            return emb_layer\n",
        "\n",
        "        categorical_layers = []\n",
        "        for categori_key in categorical_X_keys:\n",
        "            categori_layer = _categorical_layer_fn(feature_name=categori_key,\n",
        "                                                   emb_dim=emb_dim,\n",
        "                                                   feature=train_X[categori_key])\n",
        "            categorical_layers.append(categori_layer)\n",
        "    \n",
        "        return categorical_layers\n",
        "\n",
        "\n",
        "    categorical_layers = _categorical_layers_fn(train_X,\n",
        "                                                emb_dim=embedding_dim,\n",
        "                                                categorical_X_keys=categorical_X_keys)\n",
        "\n",
        "\n",
        "    # 複数の入力層の結合を行うレイヤー\n",
        "    concatenate_layers = categorical_layers.append(numerical_features)\n",
        "    x = layers.concatenate(inputs=concatenate_layers)\n",
        "\n",
        "    # データ解析レイヤー\n",
        "    x = layers.Dense(units=256, activation='relu')(x)\n",
        "    x = layers.Dropout(rate=0.3, seed=dropout_seed)(x)\n",
        "    x = layers.Dense(units=128, activation='relu')(x)\n",
        "    x = layers.Dropout(rate=0.3, seed=dropout_seed)(x)\n",
        "\n",
        "    # 出力レイヤー\n",
        "    output = layers.Dense(units=num_class, activation='softmax')(x)\n",
        "\n",
        "    model = Model(inputs=[numerical_input, one_hot_input],\n",
        "                  outputs=output)\n",
        "\n",
        "    model.compile(optimizer='adam',\n",
        "                  loss='categorical_crossentropy', \n",
        "                  metrics=['accuracy'])\n",
        "    return model\n",
        "\n",
        "\n",
        "num_class = train_y.shape[1]\n",
        "embedding_dim = 8\n",
        "\n",
        "classifier = model_fn(train_X=train_X,\n",
        "                      num_class=num_class,\n",
        "                      embedding_dim=embedding_dim,\n",
        "                      categorical_X_keys=categorical_cols,\n",
        "                      numerical_X_key='numerical_X',\n",
        "                      dropout_seed=SEED)\n",
        "display(classifier)\n",
        "display(plot_model(classifier))"
      ],
      "execution_count": 33,
      "outputs": [
        {
          "output_type": "stream",
          "text": [
            "47757             Private\n",
            "30229             Private\n",
            "25394         Federal-gov\n",
            "5831              Private\n",
            "34379         Federal-gov\n",
            "               ...       \n",
            "36230             Private\n",
            "17922             Private\n",
            "14451           State-gov\n",
            "32438             Private\n",
            "8061     Self-emp-not-inc\n",
            "Name: workclass, Length: 31258, dtype: category\n",
            "Categories (8, object): ['Private', 'Self-emp-not-inc', 'Self-emp-inc', 'Federal-gov',\n",
            "                         'Local-gov', 'State-gov', 'Without-pay', 'Never-worked']\n"
          ],
          "name": "stdout"
        },
        {
          "output_type": "error",
          "ename": "ValueError",
          "evalue": "ignored",
          "traceback": [
            "\u001b[0;31m---------------------------------------------------------------------------\u001b[0m",
            "\u001b[0;31mValueError\u001b[0m                                Traceback (most recent call last)",
            "\u001b[0;32m<ipython-input-33-0dc446159e51>\u001b[0m in \u001b[0;36m<module>\u001b[0;34m()\u001b[0m\n\u001b[0;32m----> 1\u001b[0;31m \u001b[0mget_ipython\u001b[0m\u001b[0;34m(\u001b[0m\u001b[0;34m)\u001b[0m\u001b[0;34m.\u001b[0m\u001b[0mrun_cell_magic\u001b[0m\u001b[0;34m(\u001b[0m\u001b[0;34m'time'\u001b[0m\u001b[0;34m,\u001b[0m \u001b[0;34m''\u001b[0m\u001b[0;34m,\u001b[0m \u001b[0;34m\"def model_fn(train_X, num_class, embedding_dim, categorical_X_keys,\\n             numerical_X_key='numerical_X', dropout_seed=None):\\n    '''モデルの構造定義\\n    \\n    Parameters\\n    -----\\n    train_X : numpy.ndarray\\n      訓練データ\\n      INFO : 前処理レイヤーの適合に必要\\n    num_class : int\\n      分類するクラス数\\n    embedding_dim : int\\n      埋め込み後の次元数\\n    categorical_X_keys : list of string\\n      標準化レイヤーに適合させるカテゴリ変数型の特徴量が格納されているkey名配列\\n    numerical_X_key : string (default : numerical_X)\\n      標準化レイヤーに適合させる数値型の特徴量が格納されているkey名\\n    dropout_seed : float (default : None)\\n    '''\\n\\n    def _setup_norm_layer(adapt_X):\\n        '''標準化レイヤーのセットアップ'''\\n        norm_layer = Normalization()\\n        norm_layer.adapt(adapt_X)\\n        return norm_layer\\n\\n\\n    # 数値データ用の入力層\\n    numerical_X = train_X[numerical_X_key]\\n    input_shape = numerical_X.shape[1]\\n    numerical_input = layers.Input(shape=input_shape,\\n                                   name=numerical_X_key)\\n    norm_layer = _setup_norm_layer(adapt_X=numerical_X)\\n    numerical_features = norm_layer(numerical_input)\\n\\n\\n    # カテゴリ変数用の入力レイヤー\\n    def _categorical_layers_fn(train_X, categorical_X_keys, emb_dim):\\n        \\n        def _categorical_layer_fn(feature_name, feature, emb_dim, shape=1):\\n            input_layer = layers.Input(shape=shape, name=feature_name+'_X...\n\u001b[0m",
            "\u001b[0;32m/usr/local/lib/python3.6/dist-packages/IPython/core/interactiveshell.py\u001b[0m in \u001b[0;36mrun_cell_magic\u001b[0;34m(self, magic_name, line, cell)\u001b[0m\n\u001b[1;32m   2115\u001b[0m             \u001b[0mmagic_arg_s\u001b[0m \u001b[0;34m=\u001b[0m \u001b[0mself\u001b[0m\u001b[0;34m.\u001b[0m\u001b[0mvar_expand\u001b[0m\u001b[0;34m(\u001b[0m\u001b[0mline\u001b[0m\u001b[0;34m,\u001b[0m \u001b[0mstack_depth\u001b[0m\u001b[0;34m)\u001b[0m\u001b[0;34m\u001b[0m\u001b[0;34m\u001b[0m\u001b[0m\n\u001b[1;32m   2116\u001b[0m             \u001b[0;32mwith\u001b[0m \u001b[0mself\u001b[0m\u001b[0;34m.\u001b[0m\u001b[0mbuiltin_trap\u001b[0m\u001b[0;34m:\u001b[0m\u001b[0;34m\u001b[0m\u001b[0;34m\u001b[0m\u001b[0m\n\u001b[0;32m-> 2117\u001b[0;31m                 \u001b[0mresult\u001b[0m \u001b[0;34m=\u001b[0m \u001b[0mfn\u001b[0m\u001b[0;34m(\u001b[0m\u001b[0mmagic_arg_s\u001b[0m\u001b[0;34m,\u001b[0m \u001b[0mcell\u001b[0m\u001b[0;34m)\u001b[0m\u001b[0;34m\u001b[0m\u001b[0;34m\u001b[0m\u001b[0m\n\u001b[0m\u001b[1;32m   2118\u001b[0m             \u001b[0;32mreturn\u001b[0m \u001b[0mresult\u001b[0m\u001b[0;34m\u001b[0m\u001b[0;34m\u001b[0m\u001b[0m\n\u001b[1;32m   2119\u001b[0m \u001b[0;34m\u001b[0m\u001b[0m\n",
            "\u001b[0;32m<decorator-gen-60>\u001b[0m in \u001b[0;36mtime\u001b[0;34m(self, line, cell, local_ns)\u001b[0m\n",
            "\u001b[0;32m/usr/local/lib/python3.6/dist-packages/IPython/core/magic.py\u001b[0m in \u001b[0;36m<lambda>\u001b[0;34m(f, *a, **k)\u001b[0m\n\u001b[1;32m    186\u001b[0m     \u001b[0;31m# but it's overkill for just that one bit of state.\u001b[0m\u001b[0;34m\u001b[0m\u001b[0;34m\u001b[0m\u001b[0;34m\u001b[0m\u001b[0m\n\u001b[1;32m    187\u001b[0m     \u001b[0;32mdef\u001b[0m \u001b[0mmagic_deco\u001b[0m\u001b[0;34m(\u001b[0m\u001b[0marg\u001b[0m\u001b[0;34m)\u001b[0m\u001b[0;34m:\u001b[0m\u001b[0;34m\u001b[0m\u001b[0;34m\u001b[0m\u001b[0m\n\u001b[0;32m--> 188\u001b[0;31m         \u001b[0mcall\u001b[0m \u001b[0;34m=\u001b[0m \u001b[0;32mlambda\u001b[0m \u001b[0mf\u001b[0m\u001b[0;34m,\u001b[0m \u001b[0;34m*\u001b[0m\u001b[0ma\u001b[0m\u001b[0;34m,\u001b[0m \u001b[0;34m**\u001b[0m\u001b[0mk\u001b[0m\u001b[0;34m:\u001b[0m \u001b[0mf\u001b[0m\u001b[0;34m(\u001b[0m\u001b[0;34m*\u001b[0m\u001b[0ma\u001b[0m\u001b[0;34m,\u001b[0m \u001b[0;34m**\u001b[0m\u001b[0mk\u001b[0m\u001b[0;34m)\u001b[0m\u001b[0;34m\u001b[0m\u001b[0;34m\u001b[0m\u001b[0m\n\u001b[0m\u001b[1;32m    189\u001b[0m \u001b[0;34m\u001b[0m\u001b[0m\n\u001b[1;32m    190\u001b[0m         \u001b[0;32mif\u001b[0m \u001b[0mcallable\u001b[0m\u001b[0;34m(\u001b[0m\u001b[0marg\u001b[0m\u001b[0;34m)\u001b[0m\u001b[0;34m:\u001b[0m\u001b[0;34m\u001b[0m\u001b[0;34m\u001b[0m\u001b[0m\n",
            "\u001b[0;32m/usr/local/lib/python3.6/dist-packages/IPython/core/magics/execution.py\u001b[0m in \u001b[0;36mtime\u001b[0;34m(self, line, cell, local_ns)\u001b[0m\n\u001b[1;32m   1191\u001b[0m         \u001b[0;32melse\u001b[0m\u001b[0;34m:\u001b[0m\u001b[0;34m\u001b[0m\u001b[0;34m\u001b[0m\u001b[0m\n\u001b[1;32m   1192\u001b[0m             \u001b[0mst\u001b[0m \u001b[0;34m=\u001b[0m \u001b[0mclock2\u001b[0m\u001b[0;34m(\u001b[0m\u001b[0;34m)\u001b[0m\u001b[0;34m\u001b[0m\u001b[0;34m\u001b[0m\u001b[0m\n\u001b[0;32m-> 1193\u001b[0;31m             \u001b[0mexec\u001b[0m\u001b[0;34m(\u001b[0m\u001b[0mcode\u001b[0m\u001b[0;34m,\u001b[0m \u001b[0mglob\u001b[0m\u001b[0;34m,\u001b[0m \u001b[0mlocal_ns\u001b[0m\u001b[0;34m)\u001b[0m\u001b[0;34m\u001b[0m\u001b[0;34m\u001b[0m\u001b[0m\n\u001b[0m\u001b[1;32m   1194\u001b[0m             \u001b[0mend\u001b[0m \u001b[0;34m=\u001b[0m \u001b[0mclock2\u001b[0m\u001b[0;34m(\u001b[0m\u001b[0;34m)\u001b[0m\u001b[0;34m\u001b[0m\u001b[0;34m\u001b[0m\u001b[0m\n\u001b[1;32m   1195\u001b[0m             \u001b[0mout\u001b[0m \u001b[0;34m=\u001b[0m \u001b[0;32mNone\u001b[0m\u001b[0;34m\u001b[0m\u001b[0;34m\u001b[0m\u001b[0m\n",
            "\u001b[0;32m<timed exec>\u001b[0m in \u001b[0;36m<module>\u001b[0;34m()\u001b[0m\n",
            "\u001b[0;32m<timed exec>\u001b[0m in \u001b[0;36mmodel_fn\u001b[0;34m(train_X, num_class, embedding_dim, categorical_X_keys, numerical_X_key, dropout_seed)\u001b[0m\n",
            "\u001b[0;32m<timed exec>\u001b[0m in \u001b[0;36m_categorical_layers_fn\u001b[0;34m(train_X, categorical_X_keys, emb_dim)\u001b[0m\n",
            "\u001b[0;32m<timed exec>\u001b[0m in \u001b[0;36m_categorical_layer_fn\u001b[0;34m(feature_name, feature, emb_dim, shape)\u001b[0m\n",
            "\u001b[0;32m/usr/local/lib/python3.6/dist-packages/tensorflow/python/keras/layers/preprocessing/string_lookup.py\u001b[0m in \u001b[0;36m__init__\u001b[0;34m(self, max_tokens, num_oov_indices, mask_token, oov_token, vocabulary, encoding, invert, **kwargs)\u001b[0m\n\u001b[1;32m    196\u001b[0m         \u001b[0mvocabulary\u001b[0m\u001b[0;34m=\u001b[0m\u001b[0mvocabulary\u001b[0m\u001b[0;34m,\u001b[0m\u001b[0;34m\u001b[0m\u001b[0;34m\u001b[0m\u001b[0m\n\u001b[1;32m    197\u001b[0m         \u001b[0minvert\u001b[0m\u001b[0;34m=\u001b[0m\u001b[0minvert\u001b[0m\u001b[0;34m,\u001b[0m\u001b[0;34m\u001b[0m\u001b[0;34m\u001b[0m\u001b[0m\n\u001b[0;32m--> 198\u001b[0;31m         **kwargs)\n\u001b[0m\u001b[1;32m    199\u001b[0m \u001b[0;34m\u001b[0m\u001b[0m\n\u001b[1;32m    200\u001b[0m   \u001b[0;32mdef\u001b[0m \u001b[0mget_config\u001b[0m\u001b[0;34m(\u001b[0m\u001b[0mself\u001b[0m\u001b[0;34m)\u001b[0m\u001b[0;34m:\u001b[0m\u001b[0;34m\u001b[0m\u001b[0;34m\u001b[0m\u001b[0m\n",
            "\u001b[0;32m/usr/local/lib/python3.6/dist-packages/tensorflow/python/keras/layers/preprocessing/index_lookup.py\u001b[0m in \u001b[0;36m__init__\u001b[0;34m(self, max_tokens, num_oov_indices, mask_token, oov_token, vocabulary, invert, **kwargs)\u001b[0m\n\u001b[1;32m    166\u001b[0m \u001b[0;34m\u001b[0m\u001b[0m\n\u001b[1;32m    167\u001b[0m     \u001b[0;32mif\u001b[0m \u001b[0mvocabulary\u001b[0m \u001b[0;32mis\u001b[0m \u001b[0;32mnot\u001b[0m \u001b[0;32mNone\u001b[0m\u001b[0;34m:\u001b[0m\u001b[0;34m\u001b[0m\u001b[0;34m\u001b[0m\u001b[0m\n\u001b[0;32m--> 168\u001b[0;31m       \u001b[0mself\u001b[0m\u001b[0;34m.\u001b[0m\u001b[0mset_vocabulary\u001b[0m\u001b[0;34m(\u001b[0m\u001b[0mvocabulary\u001b[0m\u001b[0;34m)\u001b[0m\u001b[0;34m\u001b[0m\u001b[0;34m\u001b[0m\u001b[0m\n\u001b[0m\u001b[1;32m    169\u001b[0m \u001b[0;34m\u001b[0m\u001b[0m\n\u001b[1;32m    170\u001b[0m   \u001b[0;32mdef\u001b[0m \u001b[0mcompute_output_shape\u001b[0m\u001b[0;34m(\u001b[0m\u001b[0mself\u001b[0m\u001b[0;34m,\u001b[0m \u001b[0minput_shape\u001b[0m\u001b[0;34m)\u001b[0m\u001b[0;34m:\u001b[0m\u001b[0;34m\u001b[0m\u001b[0;34m\u001b[0m\u001b[0m\n",
            "\u001b[0;32m/usr/local/lib/python3.6/dist-packages/tensorflow/python/keras/layers/preprocessing/index_lookup.py\u001b[0m in \u001b[0;36mset_vocabulary\u001b[0;34m(self, vocab)\u001b[0m\n\u001b[1;32m    361\u001b[0m       \u001b[0mself\u001b[0m\u001b[0;34m.\u001b[0m\u001b[0m_set_inverse_vocabulary\u001b[0m\u001b[0;34m(\u001b[0m\u001b[0mvocab\u001b[0m\u001b[0;34m)\u001b[0m\u001b[0;34m\u001b[0m\u001b[0;34m\u001b[0m\u001b[0m\n\u001b[1;32m    362\u001b[0m     \u001b[0;32melse\u001b[0m\u001b[0;34m:\u001b[0m\u001b[0;34m\u001b[0m\u001b[0;34m\u001b[0m\u001b[0m\n\u001b[0;32m--> 363\u001b[0;31m       \u001b[0mself\u001b[0m\u001b[0;34m.\u001b[0m\u001b[0m_set_forward_vocabulary\u001b[0m\u001b[0;34m(\u001b[0m\u001b[0mvocab\u001b[0m\u001b[0;34m)\u001b[0m\u001b[0;34m\u001b[0m\u001b[0;34m\u001b[0m\u001b[0m\n\u001b[0m\u001b[1;32m    364\u001b[0m \u001b[0;34m\u001b[0m\u001b[0m\n\u001b[1;32m    365\u001b[0m   \u001b[0;32mdef\u001b[0m \u001b[0m_set_state_variables\u001b[0m\u001b[0;34m(\u001b[0m\u001b[0mself\u001b[0m\u001b[0;34m,\u001b[0m \u001b[0mupdates\u001b[0m\u001b[0;34m)\u001b[0m\u001b[0;34m:\u001b[0m\u001b[0;34m\u001b[0m\u001b[0;34m\u001b[0m\u001b[0m\n",
            "\u001b[0;32m/usr/local/lib/python3.6/dist-packages/tensorflow/python/keras/layers/preprocessing/index_lookup.py\u001b[0m in \u001b[0;36m_set_forward_vocabulary\u001b[0;34m(self, vocab)\u001b[0m\n\u001b[1;32m    298\u001b[0m \u001b[0;34m\u001b[0m\u001b[0m\n\u001b[1;32m    299\u001b[0m     \u001b[0mself\u001b[0m\u001b[0;34m.\u001b[0m\u001b[0m_table_handler\u001b[0m\u001b[0;34m.\u001b[0m\u001b[0mclear\u001b[0m\u001b[0;34m(\u001b[0m\u001b[0;34m)\u001b[0m\u001b[0;34m\u001b[0m\u001b[0;34m\u001b[0m\u001b[0m\n\u001b[0;32m--> 300\u001b[0;31m     \u001b[0mself\u001b[0m\u001b[0;34m.\u001b[0m\u001b[0m_table_handler\u001b[0m\u001b[0;34m.\u001b[0m\u001b[0minsert\u001b[0m\u001b[0;34m(\u001b[0m\u001b[0mvocab\u001b[0m\u001b[0;34m,\u001b[0m \u001b[0mvalues\u001b[0m\u001b[0;34m)\u001b[0m\u001b[0;34m\u001b[0m\u001b[0;34m\u001b[0m\u001b[0m\n\u001b[0m\u001b[1;32m    301\u001b[0m \u001b[0;34m\u001b[0m\u001b[0m\n\u001b[1;32m    302\u001b[0m     \u001b[0;32mif\u001b[0m \u001b[0minsert_special_tokens\u001b[0m \u001b[0;32mand\u001b[0m \u001b[0mnum_special_tokens\u001b[0m \u001b[0;34m>\u001b[0m \u001b[0;36m0\u001b[0m\u001b[0;34m:\u001b[0m\u001b[0;34m\u001b[0m\u001b[0;34m\u001b[0m\u001b[0m\n",
            "\u001b[0;32m/usr/local/lib/python3.6/dist-packages/tensorflow/python/keras/layers/preprocessing/table_utils.py\u001b[0m in \u001b[0;36minsert\u001b[0;34m(self, keys, values)\u001b[0m\n\u001b[1;32m     62\u001b[0m                          \u001b[0;34m\"Keys had size %s, values had size %s.\"\u001b[0m \u001b[0;34m%\u001b[0m\u001b[0;34m\u001b[0m\u001b[0;34m\u001b[0m\u001b[0m\n\u001b[1;32m     63\u001b[0m                          (len(keys), len(values)))\n\u001b[0;32m---> 64\u001b[0;31m     \u001b[0mkeys\u001b[0m \u001b[0;34m=\u001b[0m \u001b[0mops\u001b[0m\u001b[0;34m.\u001b[0m\u001b[0mconvert_to_tensor\u001b[0m\u001b[0;34m(\u001b[0m\u001b[0mkeys\u001b[0m\u001b[0;34m,\u001b[0m \u001b[0mdtype\u001b[0m\u001b[0;34m=\u001b[0m\u001b[0mself\u001b[0m\u001b[0;34m.\u001b[0m\u001b[0mtable\u001b[0m\u001b[0;34m.\u001b[0m\u001b[0m_key_dtype\u001b[0m\u001b[0;34m)\u001b[0m  \u001b[0;31m# pylint: disable=protected-access\u001b[0m\u001b[0;34m\u001b[0m\u001b[0;34m\u001b[0m\u001b[0m\n\u001b[0m\u001b[1;32m     65\u001b[0m     \u001b[0mvalues\u001b[0m \u001b[0;34m=\u001b[0m \u001b[0mops\u001b[0m\u001b[0;34m.\u001b[0m\u001b[0mconvert_to_tensor\u001b[0m\u001b[0;34m(\u001b[0m\u001b[0mvalues\u001b[0m\u001b[0;34m,\u001b[0m \u001b[0mdtype\u001b[0m\u001b[0;34m=\u001b[0m\u001b[0mself\u001b[0m\u001b[0;34m.\u001b[0m\u001b[0mtable\u001b[0m\u001b[0;34m.\u001b[0m\u001b[0m_value_dtype\u001b[0m\u001b[0;34m)\u001b[0m  \u001b[0;31m# pylint: disable=protected-access\u001b[0m\u001b[0;34m\u001b[0m\u001b[0;34m\u001b[0m\u001b[0m\n\u001b[1;32m     66\u001b[0m     \u001b[0;32mif\u001b[0m \u001b[0mvalues\u001b[0m\u001b[0;34m.\u001b[0m\u001b[0mshape\u001b[0m\u001b[0;34m.\u001b[0m\u001b[0mndims\u001b[0m \u001b[0;34m!=\u001b[0m \u001b[0;36m1\u001b[0m\u001b[0;34m:\u001b[0m\u001b[0;34m\u001b[0m\u001b[0;34m\u001b[0m\u001b[0m\n",
            "\u001b[0;32m/usr/local/lib/python3.6/dist-packages/tensorflow/python/framework/ops.py\u001b[0m in \u001b[0;36mconvert_to_tensor\u001b[0;34m(value, dtype, name, as_ref, preferred_dtype, dtype_hint, ctx, accepted_result_types)\u001b[0m\n\u001b[1;32m   1497\u001b[0m \u001b[0;34m\u001b[0m\u001b[0m\n\u001b[1;32m   1498\u001b[0m     \u001b[0;32mif\u001b[0m \u001b[0mret\u001b[0m \u001b[0;32mis\u001b[0m \u001b[0;32mNone\u001b[0m\u001b[0;34m:\u001b[0m\u001b[0;34m\u001b[0m\u001b[0;34m\u001b[0m\u001b[0m\n\u001b[0;32m-> 1499\u001b[0;31m       \u001b[0mret\u001b[0m \u001b[0;34m=\u001b[0m \u001b[0mconversion_func\u001b[0m\u001b[0;34m(\u001b[0m\u001b[0mvalue\u001b[0m\u001b[0;34m,\u001b[0m \u001b[0mdtype\u001b[0m\u001b[0;34m=\u001b[0m\u001b[0mdtype\u001b[0m\u001b[0;34m,\u001b[0m \u001b[0mname\u001b[0m\u001b[0;34m=\u001b[0m\u001b[0mname\u001b[0m\u001b[0;34m,\u001b[0m \u001b[0mas_ref\u001b[0m\u001b[0;34m=\u001b[0m\u001b[0mas_ref\u001b[0m\u001b[0;34m)\u001b[0m\u001b[0;34m\u001b[0m\u001b[0;34m\u001b[0m\u001b[0m\n\u001b[0m\u001b[1;32m   1500\u001b[0m \u001b[0;34m\u001b[0m\u001b[0m\n\u001b[1;32m   1501\u001b[0m     \u001b[0;32mif\u001b[0m \u001b[0mret\u001b[0m \u001b[0;32mis\u001b[0m \u001b[0mNotImplemented\u001b[0m\u001b[0;34m:\u001b[0m\u001b[0;34m\u001b[0m\u001b[0;34m\u001b[0m\u001b[0m\n",
            "\u001b[0;32m/usr/local/lib/python3.6/dist-packages/tensorflow/python/framework/constant_op.py\u001b[0m in \u001b[0;36m_constant_tensor_conversion_function\u001b[0;34m(v, dtype, name, as_ref)\u001b[0m\n\u001b[1;32m    336\u001b[0m                                          as_ref=False):\n\u001b[1;32m    337\u001b[0m   \u001b[0m_\u001b[0m \u001b[0;34m=\u001b[0m \u001b[0mas_ref\u001b[0m\u001b[0;34m\u001b[0m\u001b[0;34m\u001b[0m\u001b[0m\n\u001b[0;32m--> 338\u001b[0;31m   \u001b[0;32mreturn\u001b[0m \u001b[0mconstant\u001b[0m\u001b[0;34m(\u001b[0m\u001b[0mv\u001b[0m\u001b[0;34m,\u001b[0m \u001b[0mdtype\u001b[0m\u001b[0;34m=\u001b[0m\u001b[0mdtype\u001b[0m\u001b[0;34m,\u001b[0m \u001b[0mname\u001b[0m\u001b[0;34m=\u001b[0m\u001b[0mname\u001b[0m\u001b[0;34m)\u001b[0m\u001b[0;34m\u001b[0m\u001b[0;34m\u001b[0m\u001b[0m\n\u001b[0m\u001b[1;32m    339\u001b[0m \u001b[0;34m\u001b[0m\u001b[0m\n\u001b[1;32m    340\u001b[0m \u001b[0;34m\u001b[0m\u001b[0m\n",
            "\u001b[0;32m/usr/local/lib/python3.6/dist-packages/tensorflow/python/framework/constant_op.py\u001b[0m in \u001b[0;36mconstant\u001b[0;34m(value, dtype, shape, name)\u001b[0m\n\u001b[1;32m    262\u001b[0m   \"\"\"\n\u001b[1;32m    263\u001b[0m   return _constant_impl(value, dtype, shape, name, verify_shape=False,\n\u001b[0;32m--> 264\u001b[0;31m                         allow_broadcast=True)\n\u001b[0m\u001b[1;32m    265\u001b[0m \u001b[0;34m\u001b[0m\u001b[0m\n\u001b[1;32m    266\u001b[0m \u001b[0;34m\u001b[0m\u001b[0m\n",
            "\u001b[0;32m/usr/local/lib/python3.6/dist-packages/tensorflow/python/framework/constant_op.py\u001b[0m in \u001b[0;36m_constant_impl\u001b[0;34m(value, dtype, shape, name, verify_shape, allow_broadcast)\u001b[0m\n\u001b[1;32m    273\u001b[0m       \u001b[0;32mwith\u001b[0m \u001b[0mtrace\u001b[0m\u001b[0;34m.\u001b[0m\u001b[0mTrace\u001b[0m\u001b[0;34m(\u001b[0m\u001b[0;34m\"tf.constant\"\u001b[0m\u001b[0;34m)\u001b[0m\u001b[0;34m:\u001b[0m\u001b[0;34m\u001b[0m\u001b[0;34m\u001b[0m\u001b[0m\n\u001b[1;32m    274\u001b[0m         \u001b[0;32mreturn\u001b[0m \u001b[0m_constant_eager_impl\u001b[0m\u001b[0;34m(\u001b[0m\u001b[0mctx\u001b[0m\u001b[0;34m,\u001b[0m \u001b[0mvalue\u001b[0m\u001b[0;34m,\u001b[0m \u001b[0mdtype\u001b[0m\u001b[0;34m,\u001b[0m \u001b[0mshape\u001b[0m\u001b[0;34m,\u001b[0m \u001b[0mverify_shape\u001b[0m\u001b[0;34m)\u001b[0m\u001b[0;34m\u001b[0m\u001b[0;34m\u001b[0m\u001b[0m\n\u001b[0;32m--> 275\u001b[0;31m     \u001b[0;32mreturn\u001b[0m \u001b[0m_constant_eager_impl\u001b[0m\u001b[0;34m(\u001b[0m\u001b[0mctx\u001b[0m\u001b[0;34m,\u001b[0m \u001b[0mvalue\u001b[0m\u001b[0;34m,\u001b[0m \u001b[0mdtype\u001b[0m\u001b[0;34m,\u001b[0m \u001b[0mshape\u001b[0m\u001b[0;34m,\u001b[0m \u001b[0mverify_shape\u001b[0m\u001b[0;34m)\u001b[0m\u001b[0;34m\u001b[0m\u001b[0;34m\u001b[0m\u001b[0m\n\u001b[0m\u001b[1;32m    276\u001b[0m \u001b[0;34m\u001b[0m\u001b[0m\n\u001b[1;32m    277\u001b[0m   \u001b[0mg\u001b[0m \u001b[0;34m=\u001b[0m \u001b[0mops\u001b[0m\u001b[0;34m.\u001b[0m\u001b[0mget_default_graph\u001b[0m\u001b[0;34m(\u001b[0m\u001b[0;34m)\u001b[0m\u001b[0;34m\u001b[0m\u001b[0;34m\u001b[0m\u001b[0m\n",
            "\u001b[0;32m/usr/local/lib/python3.6/dist-packages/tensorflow/python/framework/constant_op.py\u001b[0m in \u001b[0;36m_constant_eager_impl\u001b[0;34m(ctx, value, dtype, shape, verify_shape)\u001b[0m\n\u001b[1;32m    298\u001b[0m \u001b[0;32mdef\u001b[0m \u001b[0m_constant_eager_impl\u001b[0m\u001b[0;34m(\u001b[0m\u001b[0mctx\u001b[0m\u001b[0;34m,\u001b[0m \u001b[0mvalue\u001b[0m\u001b[0;34m,\u001b[0m \u001b[0mdtype\u001b[0m\u001b[0;34m,\u001b[0m \u001b[0mshape\u001b[0m\u001b[0;34m,\u001b[0m \u001b[0mverify_shape\u001b[0m\u001b[0;34m)\u001b[0m\u001b[0;34m:\u001b[0m\u001b[0;34m\u001b[0m\u001b[0;34m\u001b[0m\u001b[0m\n\u001b[1;32m    299\u001b[0m   \u001b[0;34m\"\"\"Implementation of eager constant.\"\"\"\u001b[0m\u001b[0;34m\u001b[0m\u001b[0;34m\u001b[0m\u001b[0m\n\u001b[0;32m--> 300\u001b[0;31m   \u001b[0mt\u001b[0m \u001b[0;34m=\u001b[0m \u001b[0mconvert_to_eager_tensor\u001b[0m\u001b[0;34m(\u001b[0m\u001b[0mvalue\u001b[0m\u001b[0;34m,\u001b[0m \u001b[0mctx\u001b[0m\u001b[0;34m,\u001b[0m \u001b[0mdtype\u001b[0m\u001b[0;34m)\u001b[0m\u001b[0;34m\u001b[0m\u001b[0;34m\u001b[0m\u001b[0m\n\u001b[0m\u001b[1;32m    301\u001b[0m   \u001b[0;32mif\u001b[0m \u001b[0mshape\u001b[0m \u001b[0;32mis\u001b[0m \u001b[0;32mNone\u001b[0m\u001b[0;34m:\u001b[0m\u001b[0;34m\u001b[0m\u001b[0;34m\u001b[0m\u001b[0m\n\u001b[1;32m    302\u001b[0m     \u001b[0;32mreturn\u001b[0m \u001b[0mt\u001b[0m\u001b[0;34m\u001b[0m\u001b[0;34m\u001b[0m\u001b[0m\n",
            "\u001b[0;32m/usr/local/lib/python3.6/dist-packages/tensorflow/python/framework/constant_op.py\u001b[0m in \u001b[0;36mconvert_to_eager_tensor\u001b[0;34m(value, ctx, dtype)\u001b[0m\n\u001b[1;32m     96\u001b[0m       \u001b[0mdtype\u001b[0m \u001b[0;34m=\u001b[0m \u001b[0mdtypes\u001b[0m\u001b[0;34m.\u001b[0m\u001b[0mas_dtype\u001b[0m\u001b[0;34m(\u001b[0m\u001b[0mdtype\u001b[0m\u001b[0;34m)\u001b[0m\u001b[0;34m.\u001b[0m\u001b[0mas_datatype_enum\u001b[0m\u001b[0;34m\u001b[0m\u001b[0;34m\u001b[0m\u001b[0m\n\u001b[1;32m     97\u001b[0m   \u001b[0mctx\u001b[0m\u001b[0;34m.\u001b[0m\u001b[0mensure_initialized\u001b[0m\u001b[0;34m(\u001b[0m\u001b[0;34m)\u001b[0m\u001b[0;34m\u001b[0m\u001b[0;34m\u001b[0m\u001b[0m\n\u001b[0;32m---> 98\u001b[0;31m   \u001b[0;32mreturn\u001b[0m \u001b[0mops\u001b[0m\u001b[0;34m.\u001b[0m\u001b[0mEagerTensor\u001b[0m\u001b[0;34m(\u001b[0m\u001b[0mvalue\u001b[0m\u001b[0;34m,\u001b[0m \u001b[0mctx\u001b[0m\u001b[0;34m.\u001b[0m\u001b[0mdevice_name\u001b[0m\u001b[0;34m,\u001b[0m \u001b[0mdtype\u001b[0m\u001b[0;34m)\u001b[0m\u001b[0;34m\u001b[0m\u001b[0;34m\u001b[0m\u001b[0m\n\u001b[0m\u001b[1;32m     99\u001b[0m \u001b[0;34m\u001b[0m\u001b[0m\n\u001b[1;32m    100\u001b[0m \u001b[0;34m\u001b[0m\u001b[0m\n",
            "\u001b[0;31mValueError\u001b[0m: Can't convert Python sequence with mixed types to Tensor."
          ]
        }
      ]
    },
    {
      "cell_type": "code",
      "metadata": {
        "id": "-E5sVhe0bbvV"
      },
      "source": [
        "# 各モデルのepoch数\n",
        "EPOCH =  100#@param{type:'number'}\n",
        "BATCH_SIZE = 1024#@param{type:'number'}\n",
        "\n",
        "# 早期停止コールバックの定義\n",
        "es = callbacks.EarlyStopping(monitor='val_loss',\n",
        "                             patience=5)"
      ],
      "execution_count": null,
      "outputs": []
    },
    {
      "cell_type": "code",
      "metadata": {
        "id": "SIueBUl57oOJ",
        "outputId": "558dd1f4-08d8-4f95-844a-618aadca9e09",
        "colab": {
          "base_uri": "https://localhost:8080/"
        }
      },
      "source": [
        "%%time\n",
        "classifier.fit(x=train_X, y=train_y,\n",
        "               epochs=EPOCH,\n",
        "                batch_size=BATCH_SIZE,\n",
        "                validation_data=(val_X, val_y),\n",
        "                callbacks=[es])"
      ],
      "execution_count": null,
      "outputs": [
        {
          "output_type": "stream",
          "text": [
            "Epoch 1/100\n",
            "31/31 [==============================] - 1s 21ms/step - loss: 3666.6011 - accuracy: 0.6459 - val_loss: 507.4944 - val_accuracy: 0.7766\n",
            "Epoch 2/100\n",
            "31/31 [==============================] - 1s 17ms/step - loss: 747.1047 - accuracy: 0.6534 - val_loss: 15.3300 - val_accuracy: 0.7715\n",
            "Epoch 3/100\n",
            "31/31 [==============================] - 0s 16ms/step - loss: 105.0070 - accuracy: 0.6436 - val_loss: 0.7001 - val_accuracy: 0.7602\n",
            "Epoch 4/100\n",
            "31/31 [==============================] - 1s 16ms/step - loss: 22.4453 - accuracy: 0.6911 - val_loss: 0.6683 - val_accuracy: 0.7612\n",
            "Epoch 5/100\n",
            "31/31 [==============================] - 0s 16ms/step - loss: 9.2588 - accuracy: 0.7323 - val_loss: 0.6493 - val_accuracy: 0.7596\n",
            "Epoch 6/100\n",
            "31/31 [==============================] - 1s 17ms/step - loss: 6.1961 - accuracy: 0.7454 - val_loss: 0.6326 - val_accuracy: 0.7596\n",
            "Epoch 7/100\n",
            "31/31 [==============================] - 1s 16ms/step - loss: 4.3393 - accuracy: 0.7507 - val_loss: 0.6193 - val_accuracy: 0.7596\n",
            "Epoch 8/100\n",
            "31/31 [==============================] - 1s 16ms/step - loss: 3.4660 - accuracy: 0.7517 - val_loss: 0.6087 - val_accuracy: 0.7591\n",
            "Epoch 9/100\n",
            "31/31 [==============================] - 0s 16ms/step - loss: 3.5480 - accuracy: 0.7548 - val_loss: 0.5995 - val_accuracy: 0.7589\n",
            "Epoch 10/100\n",
            "31/31 [==============================] - 1s 16ms/step - loss: 2.5156 - accuracy: 0.7558 - val_loss: 0.5920 - val_accuracy: 0.7587\n",
            "Epoch 11/100\n",
            "31/31 [==============================] - 1s 16ms/step - loss: 1.8874 - accuracy: 0.7552 - val_loss: 0.5851 - val_accuracy: 0.7589\n",
            "Epoch 12/100\n",
            "31/31 [==============================] - 1s 17ms/step - loss: 2.1280 - accuracy: 0.7548 - val_loss: 0.5801 - val_accuracy: 0.7587\n",
            "Epoch 13/100\n",
            "31/31 [==============================] - 0s 16ms/step - loss: 1.6039 - accuracy: 0.7520 - val_loss: 0.5749 - val_accuracy: 0.7584\n",
            "Epoch 14/100\n",
            "31/31 [==============================] - 1s 16ms/step - loss: 1.2976 - accuracy: 0.7589 - val_loss: 0.5708 - val_accuracy: 0.7584\n",
            "Epoch 15/100\n",
            "31/31 [==============================] - 0s 16ms/step - loss: 1.5519 - accuracy: 0.7543 - val_loss: 0.5681 - val_accuracy: 0.7584\n",
            "Epoch 16/100\n",
            "31/31 [==============================] - 0s 16ms/step - loss: 1.4295 - accuracy: 0.7543 - val_loss: 0.5651 - val_accuracy: 0.7584\n",
            "Epoch 17/100\n",
            "31/31 [==============================] - 1s 17ms/step - loss: 1.2281 - accuracy: 0.7552 - val_loss: 0.5622 - val_accuracy: 0.7587\n",
            "Epoch 18/100\n",
            "31/31 [==============================] - 0s 16ms/step - loss: 1.2500 - accuracy: 0.7561 - val_loss: 0.5606 - val_accuracy: 0.7583\n",
            "Epoch 19/100\n",
            "31/31 [==============================] - 0s 16ms/step - loss: 1.3758 - accuracy: 0.7561 - val_loss: 0.5593 - val_accuracy: 0.7584\n",
            "Epoch 20/100\n",
            "31/31 [==============================] - 1s 16ms/step - loss: 1.1228 - accuracy: 0.7533 - val_loss: 0.5575 - val_accuracy: 0.7583\n",
            "Epoch 21/100\n",
            "31/31 [==============================] - 0s 16ms/step - loss: 0.9955 - accuracy: 0.7571 - val_loss: 0.5569 - val_accuracy: 0.7583\n",
            "Epoch 22/100\n",
            "31/31 [==============================] - 1s 17ms/step - loss: 1.0745 - accuracy: 0.7576 - val_loss: 0.5558 - val_accuracy: 0.7582\n",
            "Epoch 23/100\n",
            "31/31 [==============================] - 0s 16ms/step - loss: 0.7994 - accuracy: 0.7579 - val_loss: 0.5552 - val_accuracy: 0.7582\n",
            "Epoch 24/100\n",
            "31/31 [==============================] - 0s 16ms/step - loss: 0.8801 - accuracy: 0.7591 - val_loss: 0.5542 - val_accuracy: 0.7582\n",
            "Epoch 25/100\n",
            "31/31 [==============================] - 0s 16ms/step - loss: 0.9413 - accuracy: 0.7565 - val_loss: 0.5543 - val_accuracy: 0.7582\n",
            "Epoch 26/100\n",
            "31/31 [==============================] - 0s 16ms/step - loss: 1.0091 - accuracy: 0.7595 - val_loss: 0.5528 - val_accuracy: 0.7591\n",
            "Epoch 27/100\n",
            "31/31 [==============================] - 1s 16ms/step - loss: 0.7599 - accuracy: 0.7564 - val_loss: 0.5529 - val_accuracy: 0.7584\n",
            "Epoch 28/100\n",
            "31/31 [==============================] - 0s 16ms/step - loss: 0.7478 - accuracy: 0.7556 - val_loss: 0.5526 - val_accuracy: 0.7587\n",
            "Epoch 29/100\n",
            "31/31 [==============================] - 0s 16ms/step - loss: 0.9136 - accuracy: 0.7559 - val_loss: 0.5526 - val_accuracy: 0.7583\n",
            "Epoch 30/100\n",
            "31/31 [==============================] - 0s 16ms/step - loss: 0.8371 - accuracy: 0.7591 - val_loss: 0.5527 - val_accuracy: 0.7582\n",
            "Epoch 31/100\n",
            "31/31 [==============================] - 1s 16ms/step - loss: 0.7943 - accuracy: 0.7605 - val_loss: 0.5527 - val_accuracy: 0.7580\n",
            "Epoch 32/100\n",
            "31/31 [==============================] - 0s 16ms/step - loss: 0.6846 - accuracy: 0.7592 - val_loss: 0.5521 - val_accuracy: 0.7588\n",
            "Epoch 33/100\n",
            "31/31 [==============================] - 1s 16ms/step - loss: 0.7052 - accuracy: 0.7583 - val_loss: 0.5534 - val_accuracy: 0.7580\n",
            "Epoch 34/100\n",
            "31/31 [==============================] - 0s 16ms/step - loss: 0.6439 - accuracy: 0.7596 - val_loss: 0.5528 - val_accuracy: 0.7582\n",
            "Epoch 35/100\n",
            "31/31 [==============================] - 0s 16ms/step - loss: 0.6482 - accuracy: 0.7603 - val_loss: 0.5522 - val_accuracy: 0.7583\n",
            "Epoch 36/100\n",
            "31/31 [==============================] - 1s 16ms/step - loss: 0.7241 - accuracy: 0.7598 - val_loss: 0.5517 - val_accuracy: 0.7592\n",
            "Epoch 37/100\n",
            "31/31 [==============================] - 1s 17ms/step - loss: 0.6720 - accuracy: 0.7609 - val_loss: 0.5516 - val_accuracy: 0.7592\n",
            "Epoch 38/100\n",
            "31/31 [==============================] - 0s 16ms/step - loss: 0.7578 - accuracy: 0.7611 - val_loss: 0.5516 - val_accuracy: 0.7592\n",
            "Epoch 39/100\n",
            "31/31 [==============================] - 0s 16ms/step - loss: 0.6566 - accuracy: 0.7611 - val_loss: 0.5509 - val_accuracy: 0.7596\n",
            "Epoch 40/100\n",
            "31/31 [==============================] - 0s 16ms/step - loss: 0.6864 - accuracy: 0.7582 - val_loss: 0.5517 - val_accuracy: 0.7591\n",
            "Epoch 41/100\n",
            "31/31 [==============================] - 1s 16ms/step - loss: 0.6491 - accuracy: 0.7597 - val_loss: 0.5513 - val_accuracy: 0.7594\n",
            "Epoch 42/100\n",
            "31/31 [==============================] - 1s 16ms/step - loss: 0.5815 - accuracy: 0.7612 - val_loss: 0.5515 - val_accuracy: 0.7594\n",
            "Epoch 43/100\n",
            "31/31 [==============================] - 0s 16ms/step - loss: 0.6562 - accuracy: 0.7614 - val_loss: 0.5513 - val_accuracy: 0.7594\n",
            "Epoch 44/100\n",
            "31/31 [==============================] - 0s 16ms/step - loss: 0.6145 - accuracy: 0.7618 - val_loss: 0.5509 - val_accuracy: 0.7596\n",
            "Epoch 45/100\n",
            "31/31 [==============================] - 0s 16ms/step - loss: 0.5600 - accuracy: 0.7615 - val_loss: 0.5504 - val_accuracy: 0.7598\n",
            "Epoch 46/100\n",
            "31/31 [==============================] - 0s 16ms/step - loss: 0.7693 - accuracy: 0.7613 - val_loss: 0.5514 - val_accuracy: 0.7594\n",
            "Epoch 47/100\n",
            "31/31 [==============================] - 1s 16ms/step - loss: 0.7434 - accuracy: 0.7619 - val_loss: 0.5503 - val_accuracy: 0.7601\n",
            "Epoch 48/100\n",
            "31/31 [==============================] - 1s 16ms/step - loss: 0.6352 - accuracy: 0.7619 - val_loss: 0.5497 - val_accuracy: 0.7605\n",
            "Epoch 49/100\n",
            "31/31 [==============================] - 1s 16ms/step - loss: 0.7098 - accuracy: 0.7623 - val_loss: 0.5540 - val_accuracy: 0.7580\n",
            "Epoch 50/100\n",
            "31/31 [==============================] - 0s 16ms/step - loss: 0.6578 - accuracy: 0.7623 - val_loss: 0.5498 - val_accuracy: 0.7605\n",
            "Epoch 51/100\n",
            "31/31 [==============================] - 1s 16ms/step - loss: 0.6258 - accuracy: 0.7624 - val_loss: 0.5497 - val_accuracy: 0.7605\n",
            "Epoch 52/100\n",
            "31/31 [==============================] - 1s 16ms/step - loss: 0.6592 - accuracy: 0.7622 - val_loss: 0.5496 - val_accuracy: 0.7605\n",
            "Epoch 53/100\n",
            "31/31 [==============================] - 0s 16ms/step - loss: 0.6291 - accuracy: 0.7633 - val_loss: 0.5490 - val_accuracy: 0.7608\n",
            "Epoch 54/100\n",
            "31/31 [==============================] - 0s 16ms/step - loss: 0.5575 - accuracy: 0.7626 - val_loss: 0.5482 - val_accuracy: 0.7614\n",
            "Epoch 55/100\n",
            "31/31 [==============================] - 0s 16ms/step - loss: 0.6176 - accuracy: 0.7628 - val_loss: 0.5493 - val_accuracy: 0.7606\n",
            "Epoch 56/100\n",
            "31/31 [==============================] - 1s 17ms/step - loss: 0.6538 - accuracy: 0.7627 - val_loss: 0.5482 - val_accuracy: 0.7614\n",
            "Epoch 57/100\n",
            "31/31 [==============================] - 0s 16ms/step - loss: 0.6243 - accuracy: 0.7631 - val_loss: 0.5482 - val_accuracy: 0.7614\n",
            "Epoch 58/100\n",
            "31/31 [==============================] - 1s 16ms/step - loss: 0.6579 - accuracy: 0.7628 - val_loss: 0.5480 - val_accuracy: 0.7614\n",
            "Epoch 59/100\n",
            "31/31 [==============================] - 1s 17ms/step - loss: 0.5969 - accuracy: 0.7633 - val_loss: 0.5494 - val_accuracy: 0.7611\n",
            "Epoch 60/100\n",
            "31/31 [==============================] - 1s 16ms/step - loss: 0.5753 - accuracy: 0.7634 - val_loss: 0.5477 - val_accuracy: 0.7619\n",
            "Epoch 61/100\n",
            "31/31 [==============================] - 1s 17ms/step - loss: 0.5621 - accuracy: 0.7639 - val_loss: 0.5475 - val_accuracy: 0.7620\n",
            "Epoch 62/100\n",
            "31/31 [==============================] - 1s 16ms/step - loss: 0.5764 - accuracy: 0.7631 - val_loss: 0.5485 - val_accuracy: 0.7614\n",
            "Epoch 63/100\n",
            "31/31 [==============================] - 0s 16ms/step - loss: 0.5558 - accuracy: 0.7644 - val_loss: 0.5476 - val_accuracy: 0.7619\n",
            "Epoch 64/100\n",
            "31/31 [==============================] - 1s 17ms/step - loss: 0.6357 - accuracy: 0.7645 - val_loss: 0.5475 - val_accuracy: 0.7620\n",
            "Epoch 65/100\n",
            "31/31 [==============================] - 1s 16ms/step - loss: 0.6877 - accuracy: 0.7639 - val_loss: 0.5477 - val_accuracy: 0.7616\n",
            "Epoch 66/100\n",
            "31/31 [==============================] - 1s 16ms/step - loss: 0.5703 - accuracy: 0.7638 - val_loss: 0.5477 - val_accuracy: 0.7615\n",
            "Epoch 67/100\n",
            "31/31 [==============================] - 1s 17ms/step - loss: 0.5732 - accuracy: 0.7652 - val_loss: 0.5475 - val_accuracy: 0.7616\n",
            "Epoch 68/100\n",
            "31/31 [==============================] - 1s 16ms/step - loss: 0.5858 - accuracy: 0.7648 - val_loss: 0.5471 - val_accuracy: 0.7624\n",
            "Epoch 69/100\n",
            "31/31 [==============================] - 1s 16ms/step - loss: 0.5684 - accuracy: 0.7655 - val_loss: 0.5469 - val_accuracy: 0.7624\n",
            "Epoch 70/100\n",
            "31/31 [==============================] - 1s 16ms/step - loss: 0.5531 - accuracy: 0.7656 - val_loss: 0.5467 - val_accuracy: 0.7624\n",
            "Epoch 71/100\n",
            "31/31 [==============================] - 0s 16ms/step - loss: 0.5829 - accuracy: 0.7646 - val_loss: 0.5473 - val_accuracy: 0.7621\n",
            "Epoch 72/100\n",
            "31/31 [==============================] - 0s 16ms/step - loss: 0.6315 - accuracy: 0.7649 - val_loss: 0.5477 - val_accuracy: 0.7616\n",
            "Epoch 73/100\n",
            "31/31 [==============================] - 0s 16ms/step - loss: 0.5764 - accuracy: 0.7647 - val_loss: 0.5473 - val_accuracy: 0.7621\n",
            "Epoch 74/100\n",
            "31/31 [==============================] - 0s 16ms/step - loss: 0.6378 - accuracy: 0.7646 - val_loss: 0.5469 - val_accuracy: 0.7625\n",
            "Epoch 75/100\n",
            "31/31 [==============================] - 1s 16ms/step - loss: 0.5645 - accuracy: 0.7651 - val_loss: 0.5468 - val_accuracy: 0.7624\n",
            "CPU times: user 59.9 s, sys: 4.56 s, total: 1min 4s\n",
            "Wall time: 40.1 s\n"
          ],
          "name": "stdout"
        },
        {
          "output_type": "execute_result",
          "data": {
            "text/plain": [
              "<tensorflow.python.keras.callbacks.History at 0x7f75cff64390>"
            ]
          },
          "metadata": {
            "tags": []
          },
          "execution_count": 44
        }
      ]
    },
    {
      "cell_type": "markdown",
      "metadata": {
        "id": "weFfG5S6PGq1"
      },
      "source": [
        "# ベストなモデルの可視化"
      ]
    },
    {
      "cell_type": "code",
      "metadata": {
        "id": "9rPFtIfgPMkd",
        "outputId": "86e07b5b-096f-46eb-864a-dd29338db8f6",
        "colab": {
          "base_uri": "https://localhost:8080/",
          "height": 1000
        }
      },
      "source": [
        "def displaymodel(model):\n",
        "    '''モデルの構造を表示'''\n",
        "    display(plot_model(model))\n",
        "    display(model.summary())\n",
        "\n",
        "\n",
        "displaymodel(model=classifier)"
      ],
      "execution_count": null,
      "outputs": [
        {
          "output_type": "display_data",
          "data": {
            "image/png": "[encoded data removed]",
            "text/plain": [
              "<IPython.core.display.Image object>"
            ]
          },
          "metadata": {
            "tags": []
          }
        },
        {
          "output_type": "stream",
          "text": [
            "Model: \"functional_5\"\n",
            "__________________________________________________________________________________________________\n",
            "Layer (type)                    Output Shape         Param #     Connected to                     \n",
            "==================================================================================================\n",
            "numerical_X (InputLayer)        [(None, 6)]          0                                            \n",
            "__________________________________________________________________________________________________\n",
            "one_hot_X (InputLayer)          [(None, 91)]         0                                            \n",
            "__________________________________________________________________________________________________\n",
            "concatenate_2 (Concatenate)     (None, 97)           0           numerical_X[0][0]                \n",
            "                                                                 one_hot_X[0][0]                  \n",
            "__________________________________________________________________________________________________\n",
            "dense_6 (Dense)                 (None, 256)          25088       concatenate_2[0][0]              \n",
            "__________________________________________________________________________________________________\n",
            "dropout_4 (Dropout)             (None, 256)          0           dense_6[0][0]                    \n",
            "__________________________________________________________________________________________________\n",
            "dense_7 (Dense)                 (None, 128)          32896       dropout_4[0][0]                  \n",
            "__________________________________________________________________________________________________\n",
            "dropout_5 (Dropout)             (None, 128)          0           dense_7[0][0]                    \n",
            "__________________________________________________________________________________________________\n",
            "dense_8 (Dense)                 (None, 2)            258         dropout_5[0][0]                  \n",
            "==================================================================================================\n",
            "Total params: 58,242\n",
            "Trainable params: 58,242\n",
            "Non-trainable params: 0\n",
            "__________________________________________________________________________________________________\n"
          ],
          "name": "stdout"
        },
        {
          "output_type": "display_data",
          "data": {
            "text/plain": [
              "None"
            ]
          },
          "metadata": {
            "tags": []
          }
        }
      ]
    },
    {
      "cell_type": "markdown",
      "metadata": {
        "id": "_3LKr4_8-Oog"
      },
      "source": [
        "# モデルの評価"
      ]
    },
    {
      "cell_type": "markdown",
      "metadata": {
        "id": "wHY9MTb9toqk"
      },
      "source": [
        "## Kerasの組み込み評価関数"
      ]
    },
    {
      "cell_type": "code",
      "metadata": {
        "id": "_54U-ToWRHw5",
        "outputId": "4a286ff2-4f65-4b3b-af91-afb0fe599da6",
        "colab": {
          "base_uri": "https://localhost:8080/",
          "height": 90
        }
      },
      "source": [
        "%%time\n",
        "score = classifier.evaluate(x=test_X, y=test_y, batch_size=BATCH_SIZE)\n",
        "display('loss : {}, accuracy : {}'.format(score[0], score[1]))"
      ],
      "execution_count": null,
      "outputs": [
        {
          "output_type": "stream",
          "text": [
            "10/10 [==============================] - 0s 4ms/step - loss: 0.5418 - accuracy: 0.7671\n"
          ],
          "name": "stdout"
        },
        {
          "output_type": "display_data",
          "data": {
            "application/vnd.google.colaboratory.intrinsic+json": {
              "type": "string"
            },
            "text/plain": [
              "'loss : 0.541772186756134, accuracy : 0.7671204805374146'"
            ]
          },
          "metadata": {
            "tags": []
          }
        },
        {
          "output_type": "stream",
          "text": [
            "CPU times: user 113 ms, sys: 13.2 ms, total: 126 ms\n",
            "Wall time: 114 ms\n"
          ],
          "name": "stdout"
        }
      ]
    },
    {
      "cell_type": "markdown",
      "metadata": {
        "id": "18KhQRcS-ZNh"
      },
      "source": [
        "## sklearnの評価関数"
      ]
    },
    {
      "cell_type": "code",
      "metadata": {
        "id": "W0ZrIMjb-HT0",
        "outputId": "10ccf12f-bb7b-4e40-caf0-65c6dabec83e",
        "colab": {
          "base_uri": "https://localhost:8080/"
        }
      },
      "source": [
        "%%time\n",
        "def predict_classes(model, x):\n",
        "    '''ラスラベルの予測を取得'''\n",
        "    return np.argmax(model.predict(x), axis=-1)\n",
        "\n",
        "\n",
        "# 予測結果の取得\n",
        "train_y_pred = predict_classes(classifier, train_X)\n",
        "val_y_pred = predict_classes(classifier, val_X)\n",
        "test_y_pred = predict_classes(classifier, test_X)\n",
        "\n",
        "\n",
        "def encode_label_classes(one_hot_encode_y):\n",
        "    '''ワンホットエンコードをラベルエンコードに変換'''\n",
        "    return np.argmax(one_hot_encode_y.values, axis=-1)\n",
        "\n",
        "train_report = classification_report(y_true=encode_label_classes(train_y),\n",
        "                                     y_pred=train_y_pred)\n",
        "val_report = classification_report(y_true=encode_label_classes(val_y),\n",
        "                                   y_pred=val_y_pred)\n",
        "test_report = classification_report(y_true=encode_label_classes(test_y),\n",
        "                                    y_pred=test_y_pred)\n",
        "\n",
        "\n",
        "print(train_report)\n",
        "print('----- -----')\n",
        "print(val_report)\n",
        "print('----- -----')\n",
        "print(test_report)"
      ],
      "execution_count": null,
      "outputs": [
        {
          "output_type": "stream",
          "text": [
            "              precision    recall  f1-score   support\n",
            "\n",
            "           0       0.99      0.03      0.05      7477\n",
            "           1       0.77      1.00      0.87     23781\n",
            "\n",
            "    accuracy                           0.77     31258\n",
            "   macro avg       0.88      0.51      0.46     31258\n",
            "weighted avg       0.82      0.77      0.67     31258\n",
            "\n",
            "----- -----\n",
            "              precision    recall  f1-score   support\n",
            "\n",
            "           0       1.00      0.02      0.04      1900\n",
            "           1       0.76      1.00      0.86      5915\n",
            "\n",
            "    accuracy                           0.76      7815\n",
            "   macro avg       0.88      0.51      0.45      7815\n",
            "weighted avg       0.82      0.76      0.66      7815\n",
            "\n",
            "----- -----\n",
            "              precision    recall  f1-score   support\n",
            "\n",
            "           0       1.00      0.02      0.03      2310\n",
            "           1       0.77      1.00      0.87      7459\n",
            "\n",
            "    accuracy                           0.77      9769\n",
            "   macro avg       0.88      0.51      0.45      9769\n",
            "weighted avg       0.82      0.77      0.67      9769\n",
            "\n",
            "CPU times: user 1.5 s, sys: 148 ms, total: 1.65 s\n",
            "Wall time: 1.34 s\n"
          ],
          "name": "stdout"
        }
      ]
    },
    {
      "cell_type": "code",
      "metadata": {
        "id": "S3Dl84Fiexke"
      },
      "source": [
        ""
      ],
      "execution_count": null,
      "outputs": []
    }
  ]
}