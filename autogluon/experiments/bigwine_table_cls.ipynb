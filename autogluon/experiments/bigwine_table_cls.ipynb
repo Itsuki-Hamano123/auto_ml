{
  "nbformat": 4,
  "nbformat_minor": 0,
  "metadata": {
    "colab": {
      "name": "bigwine_table_cls.ipynb",
      "provenance": [],
      "collapsed_sections": [],
      "toc_visible": true,
      "authorship_tag": "ABX9TyNq0YEunzv9gJKTAyXd1sfJ",
      "include_colab_link": true
    },
    "kernelspec": {
      "name": "python3",
      "display_name": "Python 3"
    },
    "accelerator": "GPU"
  },
  "cells": [
    {
      "cell_type": "markdown",
      "metadata": {
        "id": "view-in-github",
        "colab_type": "text"
      },
      "source": [
        "<a href=\"https://colab.research.google.com/github/Itsuki-Hamano123/auto_ml/blob/master/autogluon/experiments/bigwine_table_cls.ipynb\" target=\"_parent\"><img src=\"https://colab.research.google.com/assets/colab-badge.svg\" alt=\"Open In Colab\"/></a>"
      ]
    },
    {
      "cell_type": "code",
      "metadata": {
        "id": "2zfaGeuq36iI",
        "colab_type": "code",
        "colab": {
          "base_uri": "https://localhost:8080/",
          "height": 1000
        },
        "outputId": "25d34335-1476-4926-e8c1-80ce6ad1eabd"
      },
      "source": [
        "%pip install scikit-learn==0.23.1\n",
        "%pip install --upgrade mxnet-cu101\n",
        "%pip install autogluon"
      ],
      "execution_count": 1,
      "outputs": [
        {
          "output_type": "stream",
          "text": [
            "Collecting scikit-learn==0.23.1\n",
            "  Using cached https://files.pythonhosted.org/packages/d9/3a/eb8d7bbe28f4787d140bb9df685b7d5bf6115c0e2a969def4027144e98b6/scikit_learn-0.23.1-cp36-cp36m-manylinux1_x86_64.whl\n",
            "Requirement already satisfied: numpy>=1.13.3 in /usr/local/lib/python3.6/dist-packages (from scikit-learn==0.23.1) (1.18.5)\n",
            "Requirement already satisfied: joblib>=0.11 in /usr/local/lib/python3.6/dist-packages (from scikit-learn==0.23.1) (0.16.0)\n",
            "Requirement already satisfied: scipy>=0.19.1 in /usr/local/lib/python3.6/dist-packages (from scikit-learn==0.23.1) (1.4.1)\n",
            "Requirement already satisfied: threadpoolctl>=2.0.0 in /usr/local/lib/python3.6/dist-packages (from scikit-learn==0.23.1) (2.1.0)\n",
            "\u001b[31mERROR: autogluon 0.0.12 has requirement scikit-learn<0.23,>=0.22.0, but you'll have scikit-learn 0.23.1 which is incompatible.\u001b[0m\n",
            "Installing collected packages: scikit-learn\n",
            "  Found existing installation: scikit-learn 0.22.2.post1\n",
            "    Uninstalling scikit-learn-0.22.2.post1:\n",
            "      Successfully uninstalled scikit-learn-0.22.2.post1\n",
            "Successfully installed scikit-learn-0.23.1\n",
            "Requirement already up-to-date: mxnet-cu101 in /usr/local/lib/python3.6/dist-packages (1.6.0)\n",
            "Requirement already satisfied, skipping upgrade: graphviz<0.9.0,>=0.8.1 in /usr/local/lib/python3.6/dist-packages (from mxnet-cu101) (0.8.4)\n",
            "Requirement already satisfied, skipping upgrade: requests<3,>=2.20.0 in /usr/local/lib/python3.6/dist-packages (from mxnet-cu101) (2.23.0)\n",
            "Requirement already satisfied, skipping upgrade: numpy<2.0.0,>1.16.0 in /usr/local/lib/python3.6/dist-packages (from mxnet-cu101) (1.18.5)\n",
            "Requirement already satisfied, skipping upgrade: urllib3!=1.25.0,!=1.25.1,<1.26,>=1.21.1 in /usr/local/lib/python3.6/dist-packages (from requests<3,>=2.20.0->mxnet-cu101) (1.24.3)\n",
            "Requirement already satisfied, skipping upgrade: chardet<4,>=3.0.2 in /usr/local/lib/python3.6/dist-packages (from requests<3,>=2.20.0->mxnet-cu101) (3.0.4)\n",
            "Requirement already satisfied, skipping upgrade: certifi>=2017.4.17 in /usr/local/lib/python3.6/dist-packages (from requests<3,>=2.20.0->mxnet-cu101) (2020.6.20)\n",
            "Requirement already satisfied, skipping upgrade: idna<3,>=2.5 in /usr/local/lib/python3.6/dist-packages (from requests<3,>=2.20.0->mxnet-cu101) (2.10)\n",
            "Requirement already satisfied: autogluon in /usr/local/lib/python3.6/dist-packages (0.0.12)\n",
            "Requirement already satisfied: lightgbm<3.0,>=2.3.0 in /usr/local/lib/python3.6/dist-packages (from autogluon) (2.3.1)\n",
            "Requirement already satisfied: catboost<0.24 in /usr/local/lib/python3.6/dist-packages (from autogluon) (0.23.2)\n",
            "Requirement already satisfied: openml in /usr/local/lib/python3.6/dist-packages (from autogluon) (0.10.2)\n",
            "Requirement already satisfied: distributed>=2.6.0 in /usr/local/lib/python3.6/dist-packages (from autogluon) (2.21.0)\n",
            "Requirement already satisfied: ConfigSpace<=0.4.10 in /usr/local/lib/python3.6/dist-packages (from autogluon) (0.4.10)\n",
            "Requirement already satisfied: cryptography>=2.8 in /usr/local/lib/python3.6/dist-packages (from autogluon) (3.0)\n",
            "Requirement already satisfied: numpy>=1.16.0 in /usr/local/lib/python3.6/dist-packages (from autogluon) (1.18.5)\n",
            "Requirement already satisfied: matplotlib in /usr/local/lib/python3.6/dist-packages (from autogluon) (3.2.2)\n",
            "Requirement already satisfied: Pillow<=6.2.1 in /usr/local/lib/python3.6/dist-packages (from autogluon) (6.2.1)\n",
            "Requirement already satisfied: graphviz in /usr/local/lib/python3.6/dist-packages (from autogluon) (0.8.4)\n",
            "Requirement already satisfied: pandas<1.0,>=0.24.0 in /usr/local/lib/python3.6/dist-packages (from autogluon) (0.25.3)\n",
            "Requirement already satisfied: cython in /usr/local/lib/python3.6/dist-packages (from autogluon) (0.29.21)\n",
            "Requirement already satisfied: paramiko>=2.4 in /usr/local/lib/python3.6/dist-packages (from autogluon) (2.7.1)\n",
            "Requirement already satisfied: tqdm>=4.38.0 in /usr/local/lib/python3.6/dist-packages (from autogluon) (4.41.1)\n",
            "Requirement already satisfied: pytest in /usr/local/lib/python3.6/dist-packages (from autogluon) (3.6.4)\n",
            "Requirement already satisfied: requests in /usr/local/lib/python3.6/dist-packages (from autogluon) (2.23.0)\n",
            "Requirement already satisfied: psutil>=5.0.0 in /usr/local/lib/python3.6/dist-packages (from autogluon) (5.4.8)\n",
            "Requirement already satisfied: scikit-optimize in /usr/local/lib/python3.6/dist-packages (from autogluon) (0.7.4)\n",
            "Requirement already satisfied: tornado>=5.0.1 in /usr/local/lib/python3.6/dist-packages (from autogluon) (5.1.1)\n",
            "Requirement already satisfied: dask>=2.6.0 in /usr/local/lib/python3.6/dist-packages (from autogluon) (2.12.0)\n",
            "Requirement already satisfied: boto3 in /usr/local/lib/python3.6/dist-packages (from autogluon) (1.14.24)\n",
            "Collecting scikit-learn<0.23,>=0.22.0\n",
            "  Using cached https://files.pythonhosted.org/packages/5e/d8/312e03adf4c78663e17d802fe2440072376fee46cada1404f1727ed77a32/scikit_learn-0.22.2.post1-cp36-cp36m-manylinux1_x86_64.whl\n",
            "Requirement already satisfied: gluoncv<1.0,>=0.5.0 in /usr/local/lib/python3.6/dist-packages (from autogluon) (0.7.0)\n",
            "Requirement already satisfied: networkx<3.0,>=2.3 in /usr/local/lib/python3.6/dist-packages (from autogluon) (2.4)\n",
            "Requirement already satisfied: scipy>=1.3.3 in /usr/local/lib/python3.6/dist-packages (from autogluon) (1.4.1)\n",
            "Requirement already satisfied: plotly in /usr/local/lib/python3.6/dist-packages (from catboost<0.24->autogluon) (4.4.1)\n",
            "Requirement already satisfied: six in /usr/local/lib/python3.6/dist-packages (from catboost<0.24->autogluon) (1.15.0)\n",
            "Requirement already satisfied: xmltodict in /usr/local/lib/python3.6/dist-packages (from openml->autogluon) (0.12.0)\n",
            "Requirement already satisfied: python-dateutil in /usr/local/lib/python3.6/dist-packages (from openml->autogluon) (2.8.1)\n",
            "Requirement already satisfied: liac-arff>=2.4.0 in /usr/local/lib/python3.6/dist-packages (from openml->autogluon) (2.4.0)\n",
            "Requirement already satisfied: cloudpickle>=1.5.0 in /usr/local/lib/python3.6/dist-packages (from distributed>=2.6.0->autogluon) (1.5.0)\n",
            "Requirement already satisfied: tblib>=1.6.0 in /usr/local/lib/python3.6/dist-packages (from distributed>=2.6.0->autogluon) (1.6.0)\n",
            "Requirement already satisfied: pyyaml in /usr/local/lib/python3.6/dist-packages (from distributed>=2.6.0->autogluon) (3.13)\n",
            "Requirement already satisfied: toolz>=0.8.2 in /usr/local/lib/python3.6/dist-packages (from distributed>=2.6.0->autogluon) (0.10.0)\n",
            "Requirement already satisfied: sortedcontainers!=2.0.0,!=2.0.1 in /usr/local/lib/python3.6/dist-packages (from distributed>=2.6.0->autogluon) (2.2.2)\n",
            "Requirement already satisfied: zict>=0.1.3 in /usr/local/lib/python3.6/dist-packages (from distributed>=2.6.0->autogluon) (2.0.0)\n",
            "Requirement already satisfied: msgpack>=0.6.0 in /usr/local/lib/python3.6/dist-packages (from distributed>=2.6.0->autogluon) (1.0.0)\n",
            "Requirement already satisfied: click>=6.6 in /usr/local/lib/python3.6/dist-packages (from distributed>=2.6.0->autogluon) (7.1.2)\n",
            "Requirement already satisfied: setuptools in /usr/local/lib/python3.6/dist-packages (from distributed>=2.6.0->autogluon) (49.1.0)\n",
            "Requirement already satisfied: contextvars; python_version < \"3.7\" in /usr/local/lib/python3.6/dist-packages (from distributed>=2.6.0->autogluon) (2.4)\n",
            "Requirement already satisfied: pyparsing in /usr/local/lib/python3.6/dist-packages (from ConfigSpace<=0.4.10->autogluon) (2.4.7)\n",
            "Requirement already satisfied: typing in /usr/local/lib/python3.6/dist-packages (from ConfigSpace<=0.4.10->autogluon) (3.7.4.3)\n",
            "Requirement already satisfied: cffi!=1.11.3,>=1.8 in /usr/local/lib/python3.6/dist-packages (from cryptography>=2.8->autogluon) (1.14.0)\n",
            "Requirement already satisfied: kiwisolver>=1.0.1 in /usr/local/lib/python3.6/dist-packages (from matplotlib->autogluon) (1.2.0)\n",
            "Requirement already satisfied: cycler>=0.10 in /usr/local/lib/python3.6/dist-packages (from matplotlib->autogluon) (0.10.0)\n",
            "Requirement already satisfied: pytz>=2017.2 in /usr/local/lib/python3.6/dist-packages (from pandas<1.0,>=0.24.0->autogluon) (2018.9)\n",
            "Requirement already satisfied: bcrypt>=3.1.3 in /usr/local/lib/python3.6/dist-packages (from paramiko>=2.4->autogluon) (3.1.7)\n",
            "Requirement already satisfied: pynacl>=1.0.1 in /usr/local/lib/python3.6/dist-packages (from paramiko>=2.4->autogluon) (1.4.0)\n",
            "Requirement already satisfied: attrs>=17.4.0 in /usr/local/lib/python3.6/dist-packages (from pytest->autogluon) (19.3.0)\n",
            "Requirement already satisfied: more-itertools>=4.0.0 in /usr/local/lib/python3.6/dist-packages (from pytest->autogluon) (8.4.0)\n",
            "Requirement already satisfied: pluggy<0.8,>=0.5 in /usr/local/lib/python3.6/dist-packages (from pytest->autogluon) (0.7.1)\n",
            "Requirement already satisfied: atomicwrites>=1.0 in /usr/local/lib/python3.6/dist-packages (from pytest->autogluon) (1.4.0)\n",
            "Requirement already satisfied: py>=1.5.0 in /usr/local/lib/python3.6/dist-packages (from pytest->autogluon) (1.9.0)\n",
            "Requirement already satisfied: urllib3!=1.25.0,!=1.25.1,<1.26,>=1.21.1 in /usr/local/lib/python3.6/dist-packages (from requests->autogluon) (1.24.3)\n",
            "Requirement already satisfied: idna<3,>=2.5 in /usr/local/lib/python3.6/dist-packages (from requests->autogluon) (2.10)\n",
            "Requirement already satisfied: certifi>=2017.4.17 in /usr/local/lib/python3.6/dist-packages (from requests->autogluon) (2020.6.20)\n",
            "Requirement already satisfied: chardet<4,>=3.0.2 in /usr/local/lib/python3.6/dist-packages (from requests->autogluon) (3.0.4)\n",
            "Requirement already satisfied: pyaml>=16.9 in /usr/local/lib/python3.6/dist-packages (from scikit-optimize->autogluon) (20.4.0)\n",
            "Requirement already satisfied: joblib>=0.11 in /usr/local/lib/python3.6/dist-packages (from scikit-optimize->autogluon) (0.16.0)\n",
            "Requirement already satisfied: jmespath<1.0.0,>=0.7.1 in /usr/local/lib/python3.6/dist-packages (from boto3->autogluon) (0.10.0)\n",
            "Requirement already satisfied: botocore<1.18.0,>=1.17.24 in /usr/local/lib/python3.6/dist-packages (from boto3->autogluon) (1.17.24)\n",
            "Requirement already satisfied: s3transfer<0.4.0,>=0.3.0 in /usr/local/lib/python3.6/dist-packages (from boto3->autogluon) (0.3.3)\n",
            "Requirement already satisfied: portalocker in /usr/local/lib/python3.6/dist-packages (from gluoncv<1.0,>=0.5.0->autogluon) (1.7.1)\n",
            "Requirement already satisfied: decorator>=4.3.0 in /usr/local/lib/python3.6/dist-packages (from networkx<3.0,>=2.3->autogluon) (4.4.2)\n",
            "Requirement already satisfied: retrying>=1.3.3 in /usr/local/lib/python3.6/dist-packages (from plotly->catboost<0.24->autogluon) (1.3.3)\n",
            "Requirement already satisfied: heapdict in /usr/local/lib/python3.6/dist-packages (from zict>=0.1.3->distributed>=2.6.0->autogluon) (1.0.1)\n",
            "Requirement already satisfied: immutables>=0.9 in /usr/local/lib/python3.6/dist-packages (from contextvars; python_version < \"3.7\"->distributed>=2.6.0->autogluon) (0.14)\n",
            "Requirement already satisfied: pycparser in /usr/local/lib/python3.6/dist-packages (from cffi!=1.11.3,>=1.8->cryptography>=2.8->autogluon) (2.20)\n",
            "Requirement already satisfied: docutils<0.16,>=0.10 in /usr/local/lib/python3.6/dist-packages (from botocore<1.18.0,>=1.17.24->boto3->autogluon) (0.15.2)\n",
            "Installing collected packages: scikit-learn\n",
            "  Found existing installation: scikit-learn 0.23.1\n",
            "    Uninstalling scikit-learn-0.23.1:\n",
            "      Successfully uninstalled scikit-learn-0.23.1\n",
            "Successfully installed scikit-learn-0.22.2.post1\n"
          ],
          "name": "stdout"
        }
      ]
    },
    {
      "cell_type": "code",
      "metadata": {
        "id": "_BF8XziN5c37",
        "colab_type": "code",
        "colab": {
          "base_uri": "https://localhost:8080/",
          "height": 145
        },
        "outputId": "bbddc6a1-153d-4f90-ccfd-bed37219632b"
      },
      "source": [
        "from google.colab import drive\n",
        "drive.mount('/gdrive')\n",
        "%cd /gdrive"
      ],
      "execution_count": 2,
      "outputs": [
        {
          "output_type": "stream",
          "text": [
            "Go to this URL in a browser: https://accounts.google.com/o/oauth2/auth?client_id=947318989803-6bn6qk8qdgf4n4g3pfee6491hc0brc4i.apps.googleusercontent.com&redirect_uri=urn%3aietf%3awg%3aoauth%3a2.0%3aoob&response_type=code&scope=email%20https%3a%2f%2fwww.googleapis.com%2fauth%2fdocs.test%20https%3a%2f%2fwww.googleapis.com%2fauth%2fdrive%20https%3a%2f%2fwww.googleapis.com%2fauth%2fdrive.photos.readonly%20https%3a%2f%2fwww.googleapis.com%2fauth%2fpeopleapi.readonly\n",
            "\n",
            "Enter your authorization code:\n",
            "··········\n",
            "Mounted at /gdrive\n",
            "/gdrive\n"
          ],
          "name": "stdout"
        }
      ]
    },
    {
      "cell_type": "code",
      "metadata": {
        "id": "baIDlzNO5agJ",
        "colab_type": "code",
        "colab": {
          "base_uri": "https://localhost:8080/",
          "height": 89
        },
        "outputId": "481e8ab0-0925-4674-8e1d-e22bf6280f57"
      },
      "source": [
        "%cd /gdrive/My Drive/機械学習練習/AutoML/AutoGluon/experiments\n",
        "%ls"
      ],
      "execution_count": 3,
      "outputs": [
        {
          "output_type": "stream",
          "text": [
            "/gdrive/My Drive/機械学習練習/AutoML/AutoGluon/experiments\n",
            "\u001b[0m\u001b[01;34mAutogluonModels\u001b[0m/         \u001b[01;34mdask-worker-space\u001b[0m/  sample_table_cls.ipynb\n",
            "bigwine_table_cls.ipynb  \u001b[01;34mdataset\u001b[0m/\n",
            "covtype_table_cls.ipynb  \u001b[01;34mmodels\u001b[0m/\n"
          ],
          "name": "stdout"
        }
      ]
    },
    {
      "cell_type": "markdown",
      "metadata": {
        "id": "dXr2e3hPjZ2c",
        "colab_type": "text"
      },
      "source": [
        "# Bigwineデータセット予測モデルを作成"
      ]
    },
    {
      "cell_type": "code",
      "metadata": {
        "id": "frKFiXIS6iAJ",
        "colab_type": "code",
        "colab": {}
      },
      "source": [
        "import datetime, os\n",
        "\n",
        "import matplotlib.pyplot as plt\n",
        "import numpy as np\n",
        "import pandas as pd\n",
        "\n",
        "import autogluon as ag\n",
        "from autogluon import TabularPrediction as task\n",
        "from autogluon.task.tabular_prediction import TabularDataset\n",
        "from sklearn.metrics import classification_report, confusion_matrix"
      ],
      "execution_count": 38,
      "outputs": []
    },
    {
      "cell_type": "markdown",
      "metadata": {
        "id": "eLZNrf4EFfNi",
        "colab_type": "text"
      },
      "source": [
        "## データの読み込み"
      ]
    },
    {
      "cell_type": "code",
      "metadata": {
        "id": "-XTsvpMHALDy",
        "colab_type": "code",
        "colab": {
          "base_uri": "https://localhost:8080/",
          "height": 294
        },
        "outputId": "5b96d108-ddcc-4fb2-8fee-96c04b4263a4"
      },
      "source": [
        "SEED = 2\n",
        "\n",
        "DATA_DIR = 'dataset/big_wine'\n",
        "TRAIN_CSV = 'preprocessed_train.csv'\n",
        "TEST_CSV = 'preprocessed_test.csv'\n",
        "TARGET_COLUM = 'target'\n",
        "\n",
        "train_data = TabularDataset(file_path=os.path.join(DATA_DIR ,TRAIN_CSV ))\n",
        "test_data = TabularDataset(file_path=os.path.join(DATA_DIR ,TEST_CSV ))\n",
        "print('train_data:{}'.format(train_data.shape))\n",
        "print('test_data:{}'.format(test_data.shape))\n",
        "train_data.head()"
      ],
      "execution_count": 13,
      "outputs": [
        {
          "output_type": "stream",
          "text": [
            "Loaded data from: dataset/big_wine/preprocessed_train.csv | Columns = 14 / 14 | Rows = 142 -> 142\n",
            "Loaded data from: dataset/big_wine/preprocessed_test.csv | Columns = 14 / 14 | Rows = 36 -> 36\n"
          ],
          "name": "stderr"
        },
        {
          "output_type": "stream",
          "text": [
            "train_data:(142, 14)\n",
            "test_data:(36, 14)\n"
          ],
          "name": "stdout"
        },
        {
          "output_type": "execute_result",
          "data": {
            "text/html": [
              "<div>\n",
              "<style scoped>\n",
              "    .dataframe tbody tr th:only-of-type {\n",
              "        vertical-align: middle;\n",
              "    }\n",
              "\n",
              "    .dataframe tbody tr th {\n",
              "        vertical-align: top;\n",
              "    }\n",
              "\n",
              "    .dataframe thead th {\n",
              "        text-align: right;\n",
              "    }\n",
              "</style>\n",
              "<table border=\"1\" class=\"dataframe\">\n",
              "  <thead>\n",
              "    <tr style=\"text-align: right;\">\n",
              "      <th></th>\n",
              "      <th>alcohol</th>\n",
              "      <th>malic_acid</th>\n",
              "      <th>ash</th>\n",
              "      <th>alcalinity_of_ash</th>\n",
              "      <th>magnesium</th>\n",
              "      <th>total_phenols</th>\n",
              "      <th>flavanoids</th>\n",
              "      <th>nonflavanoid_phenols</th>\n",
              "      <th>proanthocyanins</th>\n",
              "      <th>color_intensity</th>\n",
              "      <th>hue</th>\n",
              "      <th>od280/od315_of_diluted_wines</th>\n",
              "      <th>proline</th>\n",
              "      <th>target</th>\n",
              "    </tr>\n",
              "  </thead>\n",
              "  <tbody>\n",
              "    <tr>\n",
              "      <th>0</th>\n",
              "      <td>-0.109781</td>\n",
              "      <td>0.986826</td>\n",
              "      <td>-0.055207</td>\n",
              "      <td>-0.270719</td>\n",
              "      <td>0.400136</td>\n",
              "      <td>-1.424148</td>\n",
              "      <td>-1.348592</td>\n",
              "      <td>0.315056</td>\n",
              "      <td>-1.130436</td>\n",
              "      <td>0.070159</td>\n",
              "      <td>-1.273811</td>\n",
              "      <td>-1.236580</td>\n",
              "      <td>-0.299237</td>\n",
              "      <td>2</td>\n",
              "    </tr>\n",
              "    <tr>\n",
              "      <th>1</th>\n",
              "      <td>0.825554</td>\n",
              "      <td>2.939229</td>\n",
              "      <td>0.299518</td>\n",
              "      <td>0.315289</td>\n",
              "      <td>-0.366751</td>\n",
              "      <td>-0.974682</td>\n",
              "      <td>-1.437680</td>\n",
              "      <td>1.272017</td>\n",
              "      <td>-0.922865</td>\n",
              "      <td>1.169546</td>\n",
              "      <td>-1.454575</td>\n",
              "      <td>-1.250822</td>\n",
              "      <td>-0.099601</td>\n",
              "      <td>2</td>\n",
              "    </tr>\n",
              "    <tr>\n",
              "      <th>2</th>\n",
              "      <td>1.336870</td>\n",
              "      <td>-0.761462</td>\n",
              "      <td>-0.161625</td>\n",
              "      <td>-0.768827</td>\n",
              "      <td>-0.366751</td>\n",
              "      <td>-0.168741</td>\n",
              "      <td>0.363881</td>\n",
              "      <td>-0.801398</td>\n",
              "      <td>-0.040686</td>\n",
              "      <td>-0.057042</td>\n",
              "      <td>0.940544</td>\n",
              "      <td>0.287355</td>\n",
              "      <td>1.558908</td>\n",
              "      <td>0</td>\n",
              "    </tr>\n",
              "    <tr>\n",
              "      <th>3</th>\n",
              "      <td>0.663429</td>\n",
              "      <td>0.214739</td>\n",
              "      <td>1.150857</td>\n",
              "      <td>1.487306</td>\n",
              "      <td>0.330419</td>\n",
              "      <td>-1.176167</td>\n",
              "      <td>-1.210010</td>\n",
              "      <td>0.235309</td>\n",
              "      <td>-0.092579</td>\n",
              "      <td>1.605666</td>\n",
              "      <td>-1.002666</td>\n",
              "      <td>-1.165368</td>\n",
              "      <td>-0.068888</td>\n",
              "      <td>2</td>\n",
              "    </tr>\n",
              "    <tr>\n",
              "      <th>4</th>\n",
              "      <td>0.314237</td>\n",
              "      <td>-0.548473</td>\n",
              "      <td>-0.800129</td>\n",
              "      <td>-0.710226</td>\n",
              "      <td>-0.436468</td>\n",
              "      <td>0.141236</td>\n",
              "      <td>0.126313</td>\n",
              "      <td>-0.721652</td>\n",
              "      <td>-0.421234</td>\n",
              "      <td>-0.534049</td>\n",
              "      <td>0.262680</td>\n",
              "      <td>0.216143</td>\n",
              "      <td>1.574264</td>\n",
              "      <td>0</td>\n",
              "    </tr>\n",
              "  </tbody>\n",
              "</table>\n",
              "</div>"
            ],
            "text/plain": [
              "    alcohol  malic_acid  ...   proline  target\n",
              "0 -0.109781    0.986826  ... -0.299237       2\n",
              "1  0.825554    2.939229  ... -0.099601       2\n",
              "2  1.336870   -0.761462  ...  1.558908       0\n",
              "3  0.663429    0.214739  ... -0.068888       2\n",
              "4  0.314237   -0.548473  ...  1.574264       0\n",
              "\n",
              "[5 rows x 14 columns]"
            ]
          },
          "metadata": {
            "tags": []
          },
          "execution_count": 13
        }
      ]
    },
    {
      "cell_type": "markdown",
      "metadata": {
        "id": "Nb-jkB0zFXHk",
        "colab_type": "text"
      },
      "source": [
        "## ベストなモデルを探索する"
      ]
    },
    {
      "cell_type": "markdown",
      "metadata": {
        "id": "sYHIHt27L5OB",
        "colab_type": "text"
      },
      "source": [
        "### 実験の詳細を指定"
      ]
    },
    {
      "cell_type": "code",
      "metadata": {
        "id": "q4V2MaauL3hn",
        "colab_type": "code",
        "colab": {}
      },
      "source": [
        "# 実験の最大許容時間の設定\n",
        "time_limits = 300  #@param {type: \"number\"}\n",
        "\n",
        "# 訓練後のモデル出力先\n",
        "output_directory = 'models'\n",
        "model_name = 'bigwine_' + datetime.datetime.now().strftime('%Y%m%d%H%M%S')\n",
        "output_model_path = os.path.join(output_directory, model_name)"
      ],
      "execution_count": 15,
      "outputs": []
    },
    {
      "cell_type": "code",
      "metadata": {
        "id": "lvtWiz8Viupu",
        "colab_type": "code",
        "colab": {
          "base_uri": "https://localhost:8080/",
          "height": 1000
        },
        "outputId": "99113552-a172-4420-f276-fe67bbb35c68"
      },
      "source": [
        "predictor = task.fit(train_data=train_data, tuning_data=test_data, label=TARGET_COLUM,\n",
        "                     auto_stack=True, # アンサンブルの戦略も自動で行ってほしい場合\n",
        "                     #num_bagging_folds=5, stack_ensemble_levels=1, #決め打ちしたい場合\n",
        "                     time_limits=time_limits)"
      ],
      "execution_count": 16,
      "outputs": [
        {
          "output_type": "stream",
          "text": [
            "No output_directory specified. Models will be saved in: AutogluonModels/ag-20200725_144843/\n",
            "Beginning AutoGluon training ... Time limit = 300s\n",
            "AutoGluon will save models to AutogluonModels/ag-20200725_144843/\n",
            "AutoGluon Version:  0.0.12\n",
            "Train Data Rows:    142\n",
            "Train Data Columns: 14\n",
            "Tuning Data Rows:    36\n",
            "Tuning Data Columns: 14\n",
            "Preprocessing data ...\n",
            "Here are the 3 unique label values in your data:  [2, 0, 1]\n",
            "AutoGluon infers your prediction problem is: multiclass  (because dtype of label-column == int, but few unique label-values observed).\n",
            "If this is wrong, please specify `problem_type` argument in fit() instead (You may specify problem_type as one of: ['binary', 'multiclass', 'regression'])\n",
            "\n",
            "Train Data Class Count: 3\n",
            "NumExpr defaulting to 2 threads.\n",
            "Feature Generator processed 178 data points with 13 features\n",
            "Original Features (raw dtypes):\n",
            "\tfloat64 features: 13\n",
            "Original Features (inferred dtypes):\n",
            "\tfloat features: 13\n",
            "Generated Features (special dtypes):\n",
            "Final Features (raw dtypes):\n",
            "\tfloat features: 13\n",
            "Final Features:\n",
            "\tfloat features: 13\n",
            "\tData preprocessing and feature engineering runtime = 0.13s ...\n",
            "AutoGluon will gauge predictive performance using evaluation metric: accuracy\n",
            "To change this, specify the eval_metric argument of fit()\n",
            "AutoGluon will early stop models using evaluation metric: accuracy\n",
            "Warning: Training AutoGluon in Bagged Mode but X_val is specified, concatenating X_train and X_val for cross-validation\n",
            "Fitting model: RandomForestClassifierGini_STACKER_l0 ... Training model for up to 299.87s of the 299.87s of remaining time.\n",
            "\t0.9775\t = Validation accuracy score\n",
            "\t4.22s\t = Training runtime\n",
            "\t0.54s\t = Validation runtime\n",
            "Fitting model: RandomForestClassifierEntr_STACKER_l0 ... Training model for up to 294.94s of the 294.94s of remaining time.\n",
            "\t0.9888\t = Validation accuracy score\n",
            "\t4.25s\t = Training runtime\n",
            "\t0.64s\t = Validation runtime\n",
            "Fitting model: ExtraTreesClassifierGini_STACKER_l0 ... Training model for up to 289.82s of the 289.82s of remaining time.\n",
            "\t0.9888\t = Validation accuracy score\n",
            "\t3.2s\t = Training runtime\n",
            "\t0.54s\t = Validation runtime\n",
            "Fitting model: ExtraTreesClassifierEntr_STACKER_l0 ... Training model for up to 285.9s of the 285.9s of remaining time.\n",
            "\t0.9831\t = Validation accuracy score\n",
            "\t3.19s\t = Training runtime\n",
            "\t0.54s\t = Validation runtime\n",
            "Fitting model: KNeighborsClassifierUnif_STACKER_l0 ... Training model for up to 281.83s of the 281.83s of remaining time.\n",
            "\t0.9607\t = Validation accuracy score\n",
            "\t0.07s\t = Training runtime\n",
            "\t0.56s\t = Validation runtime\n",
            "Fitting model: KNeighborsClassifierDist_STACKER_l0 ... Training model for up to 280.98s of the 280.98s of remaining time.\n",
            "\t0.9607\t = Validation accuracy score\n",
            "\t0.07s\t = Training runtime\n",
            "\t0.57s\t = Validation runtime\n",
            "Fitting model: LightGBMClassifier_STACKER_l0 ... Training model for up to 280.26s of the 280.26s of remaining time.\n",
            "\t0.9831\t = Validation accuracy score\n",
            "\t0.85s\t = Training runtime\n",
            "\t0.03s\t = Validation runtime\n",
            "Fitting model: CatboostClassifier_STACKER_l0 ... Training model for up to 279.16s of the 279.16s of remaining time.\n",
            "\t0.9831\t = Validation accuracy score\n",
            "\t3.11s\t = Training runtime\n",
            "\t0.03s\t = Validation runtime\n",
            "Fitting model: NeuralNetClassifier_STACKER_l0 ... Training model for up to 275.94s of the 275.94s of remaining time.\n",
            "\t0.9944\t = Validation accuracy score\n",
            "\t64.64s\t = Training runtime\n",
            "\t0.04s\t = Validation runtime\n",
            "Fitting model: LightGBMClassifierCustom_STACKER_l0 ... Training model for up to 211.12s of the 211.12s of remaining time.\n",
            "\t0.9888\t = Validation accuracy score\n",
            "\t1.91s\t = Training runtime\n",
            "\t0.03s\t = Validation runtime\n",
            "Repeating k-fold bagging: 2/20\n",
            "Fitting model: RandomForestClassifierGini_STACKER_l0 ... Training model for up to 209.04s of the 209.03s of remaining time.\n",
            "\t0.9831\t = Validation accuracy score\n",
            "\t8.46s\t = Training runtime\n",
            "\t1.09s\t = Validation runtime\n",
            "Fitting model: RandomForestClassifierEntr_STACKER_l0 ... Training model for up to 204.11s of the 204.11s of remaining time.\n",
            "\t0.9831\t = Validation accuracy score\n",
            "\t8.5s\t = Training runtime\n",
            "\t1.19s\t = Validation runtime\n",
            "Fitting model: ExtraTreesClassifierGini_STACKER_l0 ... Training model for up to 199.15s of the 199.15s of remaining time.\n",
            "\t0.9888\t = Validation accuracy score\n",
            "\t6.41s\t = Training runtime\n",
            "\t1.19s\t = Validation runtime\n",
            "Fitting model: ExtraTreesClassifierEntr_STACKER_l0 ... Training model for up to 195.11s of the 195.11s of remaining time.\n",
            "\t0.9888\t = Validation accuracy score\n",
            "\t6.41s\t = Training runtime\n",
            "\t1.09s\t = Validation runtime\n",
            "Fitting model: KNeighborsClassifierUnif_STACKER_l0 ... Training model for up to 191.18s of the 191.18s of remaining time.\n",
            "\t0.9607\t = Validation accuracy score\n",
            "\t0.15s\t = Training runtime\n",
            "\t1.13s\t = Validation runtime\n",
            "Fitting model: KNeighborsClassifierDist_STACKER_l0 ... Training model for up to 190.3s of the 190.3s of remaining time.\n",
            "\t0.9607\t = Validation accuracy score\n",
            "\t0.15s\t = Training runtime\n",
            "\t1.13s\t = Validation runtime\n",
            "Fitting model: LightGBMClassifier_STACKER_l0 ... Training model for up to 189.59s of the 189.58s of remaining time.\n",
            "\t0.9775\t = Validation accuracy score\n",
            "\t1.65s\t = Training runtime\n",
            "\t0.06s\t = Validation runtime\n",
            "Fitting model: CatboostClassifier_STACKER_l0 ... Training model for up to 188.52s of the 188.52s of remaining time.\n",
            "\t0.9719\t = Validation accuracy score\n",
            "\t6.55s\t = Training runtime\n",
            "\t0.05s\t = Validation runtime\n",
            "Fitting model: NeuralNetClassifier_STACKER_l0 ... Training model for up to 184.98s of the 184.98s of remaining time.\n",
            "\t0.9888\t = Validation accuracy score\n",
            "\t145.92s\t = Training runtime\n",
            "\t0.09s\t = Validation runtime\n",
            "Fitting model: LightGBMClassifierCustom_STACKER_l0 ... Training model for up to 103.34s of the 103.34s of remaining time.\n",
            "\t0.9831\t = Validation accuracy score\n",
            "\t4.26s\t = Training runtime\n",
            "\t0.06s\t = Validation runtime\n",
            "Completed 2/20 k-fold bagging repeats ...\n",
            "Fitting model: weighted_ensemble_k0_l1 ... Training model for up to 299.87s of the 100.68s of remaining time.\n",
            "\t0.9944\t = Validation accuracy score\n",
            "\t0.54s\t = Training runtime\n",
            "\t0.0s\t = Validation runtime\n",
            "AutoGluon training complete, total runtime = 199.96s ...\n"
          ],
          "name": "stderr"
        }
      ]
    },
    {
      "cell_type": "markdown",
      "metadata": {
        "id": "b-ZGfp-3h5X2",
        "colab_type": "text"
      },
      "source": [
        "### 結果の確認"
      ]
    },
    {
      "cell_type": "code",
      "metadata": {
        "id": "Vhs9e02WQM_i",
        "colab_type": "code",
        "colab": {
          "base_uri": "https://localhost:8080/",
          "height": 469
        },
        "outputId": "c02c583b-ea08-467c-eb8a-53f23e3bb63e"
      },
      "source": [
        "results = predictor.fit_summary()"
      ],
      "execution_count": 17,
      "outputs": [
        {
          "output_type": "stream",
          "text": [
            "*** Summary of fit() ***\n",
            "Estimated performance of each model:\n",
            "                                    model  score_val  pred_time_val    fit_time  pred_time_val_marginal  fit_time_marginal  stack_level  can_infer\n",
            "0                 weighted_ensemble_k0_l1   0.994382       1.275062  152.868117                0.001194           0.538868            1       True\n",
            "1          NeuralNetClassifier_STACKER_l0   0.988764       0.086104  145.920906                0.086104         145.920906            0       True\n",
            "2     ExtraTreesClassifierEntr_STACKER_l0   0.988764       1.086987    6.406035                1.086987           6.406035            0       True\n",
            "3     ExtraTreesClassifierGini_STACKER_l0   0.988764       1.187764    6.408342                1.187764           6.408342            0       True\n",
            "4     LightGBMClassifierCustom_STACKER_l0   0.983146       0.064371    4.261234                0.064371           4.261234            0       True\n",
            "5   RandomForestClassifierGini_STACKER_l0   0.983146       1.088076    8.462863                1.088076           8.462863            0       True\n",
            "6   RandomForestClassifierEntr_STACKER_l0   0.983146       1.190208    8.502609                1.190208           8.502609            0       True\n",
            "7           LightGBMClassifier_STACKER_l0   0.977528       0.059356    1.649439                0.059356           1.649439            0       True\n",
            "8           CatboostClassifier_STACKER_l0   0.971910       0.053984    6.545177                0.053984           6.545177            0       True\n",
            "9     KNeighborsClassifierUnif_STACKER_l0   0.960674       1.127896    0.147761                1.127896           0.147761            0       True\n",
            "10    KNeighborsClassifierDist_STACKER_l0   0.960674       1.131106    0.145122                1.131106           0.145122            0       True\n",
            "Number of models trained: 11\n",
            "Types of models trained:\n",
            "{'WeightedEnsembleModel', 'StackerEnsembleModel_RF', 'StackerEnsembleModel_TabularNeuralNet', 'StackerEnsembleModel_XT', 'StackerEnsembleModel_Catboost', 'StackerEnsembleModel_LGB', 'StackerEnsembleModel_KNN'}\n",
            "Bagging used: True  (with 5 folds)\n",
            "Stack-ensembling used: False \n",
            "Hyperparameter-tuning used: False \n",
            "User-specified hyperparameters:\n",
            "{'default': {'NN': [{}], 'GBM': [{}], 'CAT': [{}], 'RF': [{'criterion': 'gini', 'AG_args': {'name_suffix': 'Gini', 'problem_types': ['binary', 'multiclass']}}, {'criterion': 'entropy', 'AG_args': {'name_suffix': 'Entr', 'problem_types': ['binary', 'multiclass']}}], 'XT': [{'criterion': 'gini', 'AG_args': {'name_suffix': 'Gini', 'problem_types': ['binary', 'multiclass']}}, {'criterion': 'entropy', 'AG_args': {'name_suffix': 'Entr', 'problem_types': ['binary', 'multiclass']}}], 'KNN': [{'weights': 'uniform', 'AG_args': {'name_suffix': 'Unif'}}, {'weights': 'distance', 'AG_args': {'name_suffix': 'Dist'}}], 'custom': [{'num_boost_round': 10000, 'num_threads': -1, 'objective': 'multiclass', 'num_classes': 3, 'verbose': -1, 'boosting_type': 'gbdt', 'learning_rate': 0.03, 'num_leaves': 128, 'feature_fraction': 0.9, 'min_data_in_leaf': 3, 'two_round': True, 'seed_value': 0, 'AG_args': {'model_type': 'GBM', 'name_suffix': 'Custom', 'disable_in_hpo': True}}]}}\n",
            "Plot summary of models saved to file: AutogluonModels/ag-20200725_144843/SummaryOfModels.html\n",
            "*** End of fit() summary ***\n"
          ],
          "name": "stdout"
        }
      ]
    },
    {
      "cell_type": "code",
      "metadata": {
        "id": "gA4ZTBgijKWT",
        "colab_type": "code",
        "colab": {
          "base_uri": "https://localhost:8080/",
          "height": 197
        },
        "outputId": "d80bd9c3-18aa-460c-f3fa-d774118ad515"
      },
      "source": [
        "best_model_name = predictor.get_model_best()\n",
        "y_pred= predictor.predict(model=best_model_name, dataset=test_data.drop(columns=TARGET_COLUM))\n",
        "y_true = test_data[TARGET_COLUM].values \n",
        "\n",
        "class_names =[]\n",
        "class_num = 3\n",
        "for i in range(class_num):\n",
        "    class_names.append('class_'+str(i+1))\n",
        "\n",
        "# 分類器用のレポート出力\n",
        "report =classification_report(y_true=y_true, y_pred=y_pred, target_names=class_names)\n",
        "print(report)"
      ],
      "execution_count": 37,
      "outputs": [
        {
          "output_type": "stream",
          "text": [
            "              precision    recall  f1-score   support\n",
            "\n",
            "     class_1       1.00      1.00      1.00         7\n",
            "     class_2       1.00      1.00      1.00        17\n",
            "     class_3       1.00      1.00      1.00        12\n",
            "\n",
            "    accuracy                           1.00        36\n",
            "   macro avg       1.00      1.00      1.00        36\n",
            "weighted avg       1.00      1.00      1.00        36\n",
            "\n"
          ],
          "name": "stdout"
        }
      ]
    },
    {
      "cell_type": "code",
      "metadata": {
        "id": "mth9qHNxiUng",
        "colab_type": "code",
        "colab": {
          "base_uri": "https://localhost:8080/",
          "height": 71
        },
        "outputId": "521a3e0b-70fe-4222-8e3f-90e18380a1ce"
      },
      "source": [
        "# 混同行列を表示\n",
        "print(confusion_matrix(y_true=y_true, y_pred=y_pred))"
      ],
      "execution_count": 46,
      "outputs": [
        {
          "output_type": "stream",
          "text": [
            "[[ 7  0  0]\n",
            " [ 0 17  0]\n",
            " [ 0  0 12]]\n"
          ],
          "name": "stdout"
        }
      ]
    },
    {
      "cell_type": "code",
      "metadata": {
        "id": "7mIcVfKajTFY",
        "colab_type": "code",
        "colab": {}
      },
      "source": [
        ""
      ],
      "execution_count": null,
      "outputs": []
    }
  ]
}