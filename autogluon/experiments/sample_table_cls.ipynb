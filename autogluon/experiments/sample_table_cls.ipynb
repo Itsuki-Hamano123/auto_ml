{
  "nbformat": 4,
  "nbformat_minor": 0,
  "metadata": {
    "colab": {
      "name": "sample_table_cls.ipynb",
      "provenance": [],
      "collapsed_sections": [],
      "toc_visible": true,
      "authorship_tag": "ABX9TyNcVt/sS5ELRK7N9KbiKzJ7",
      "include_colab_link": true
    },
    "kernelspec": {
      "name": "python3",
      "display_name": "Python 3"
    },
    "accelerator": "GPU",
    "widgets": {
      "application/vnd.jupyter.widget-state+json": {
        "a63069a21b354db099380d4b9ff5517d": {
          "model_module": "@jupyter-widgets/controls",
          "model_name": "HBoxModel",
          "state": {
            "_view_name": "HBoxView",
            "_dom_classes": [],
            "_model_name": "HBoxModel",
            "_view_module": "@jupyter-widgets/controls",
            "_model_module_version": "1.5.0",
            "_view_count": null,
            "_view_module_version": "1.5.0",
            "box_style": "",
            "layout": "IPY_MODEL_14cecba389c544b4bfc8eaaa1a744204",
            "_model_module": "@jupyter-widgets/controls",
            "children": [
              "IPY_MODEL_d62b55ab9da64e1e9c6ed4b57abc9bda",
              "IPY_MODEL_eb411ebaed4e4d33aa3e579932ca3c30"
            ]
          }
        },
        "14cecba389c544b4bfc8eaaa1a744204": {
          "model_module": "@jupyter-widgets/base",
          "model_name": "LayoutModel",
          "state": {
            "_view_name": "LayoutView",
            "grid_template_rows": null,
            "right": null,
            "justify_content": null,
            "_view_module": "@jupyter-widgets/base",
            "overflow": null,
            "_model_module_version": "1.2.0",
            "_view_count": null,
            "flex_flow": null,
            "width": null,
            "min_width": null,
            "border": null,
            "align_items": null,
            "bottom": null,
            "_model_module": "@jupyter-widgets/base",
            "top": null,
            "grid_column": null,
            "overflow_y": null,
            "overflow_x": null,
            "grid_auto_flow": null,
            "grid_area": null,
            "grid_template_columns": null,
            "flex": null,
            "_model_name": "LayoutModel",
            "justify_items": null,
            "grid_row": null,
            "max_height": null,
            "align_content": null,
            "visibility": null,
            "align_self": null,
            "height": null,
            "min_height": null,
            "padding": null,
            "grid_auto_rows": null,
            "grid_gap": null,
            "max_width": null,
            "order": null,
            "_view_module_version": "1.2.0",
            "grid_template_areas": null,
            "object_position": null,
            "object_fit": null,
            "grid_auto_columns": null,
            "margin": null,
            "display": null,
            "left": null
          }
        },
        "d62b55ab9da64e1e9c6ed4b57abc9bda": {
          "model_module": "@jupyter-widgets/controls",
          "model_name": "FloatProgressModel",
          "state": {
            "_view_name": "ProgressView",
            "style": "IPY_MODEL_b426e0ac8fd1431cb306cb6cf79d3e0e",
            "_dom_classes": [],
            "description": "100%",
            "_model_name": "FloatProgressModel",
            "bar_style": "success",
            "max": 5,
            "_view_module": "@jupyter-widgets/controls",
            "_model_module_version": "1.5.0",
            "value": 5,
            "_view_count": null,
            "_view_module_version": "1.5.0",
            "orientation": "horizontal",
            "min": 0,
            "description_tooltip": null,
            "_model_module": "@jupyter-widgets/controls",
            "layout": "IPY_MODEL_62e979f0700a400a925fb29c704c76a7"
          }
        },
        "eb411ebaed4e4d33aa3e579932ca3c30": {
          "model_module": "@jupyter-widgets/controls",
          "model_name": "HTMLModel",
          "state": {
            "_view_name": "HTMLView",
            "style": "IPY_MODEL_7fc5f120a39e49768a6fd58cef9fc2ce",
            "_dom_classes": [],
            "description": "",
            "_model_name": "HTMLModel",
            "placeholder": "​",
            "_view_module": "@jupyter-widgets/controls",
            "_model_module_version": "1.5.0",
            "value": " 5/5 [02:06&lt;00:00, 25.26s/it]",
            "_view_count": null,
            "_view_module_version": "1.5.0",
            "description_tooltip": null,
            "_model_module": "@jupyter-widgets/controls",
            "layout": "IPY_MODEL_b7998fe07c8d44f9aa0ffa9c3277187a"
          }
        },
        "b426e0ac8fd1431cb306cb6cf79d3e0e": {
          "model_module": "@jupyter-widgets/controls",
          "model_name": "ProgressStyleModel",
          "state": {
            "_view_name": "StyleView",
            "_model_name": "ProgressStyleModel",
            "description_width": "initial",
            "_view_module": "@jupyter-widgets/base",
            "_model_module_version": "1.5.0",
            "_view_count": null,
            "_view_module_version": "1.2.0",
            "bar_color": null,
            "_model_module": "@jupyter-widgets/controls"
          }
        },
        "62e979f0700a400a925fb29c704c76a7": {
          "model_module": "@jupyter-widgets/base",
          "model_name": "LayoutModel",
          "state": {
            "_view_name": "LayoutView",
            "grid_template_rows": null,
            "right": null,
            "justify_content": null,
            "_view_module": "@jupyter-widgets/base",
            "overflow": null,
            "_model_module_version": "1.2.0",
            "_view_count": null,
            "flex_flow": null,
            "width": null,
            "min_width": null,
            "border": null,
            "align_items": null,
            "bottom": null,
            "_model_module": "@jupyter-widgets/base",
            "top": null,
            "grid_column": null,
            "overflow_y": null,
            "overflow_x": null,
            "grid_auto_flow": null,
            "grid_area": null,
            "grid_template_columns": null,
            "flex": null,
            "_model_name": "LayoutModel",
            "justify_items": null,
            "grid_row": null,
            "max_height": null,
            "align_content": null,
            "visibility": null,
            "align_self": null,
            "height": null,
            "min_height": null,
            "padding": null,
            "grid_auto_rows": null,
            "grid_gap": null,
            "max_width": null,
            "order": null,
            "_view_module_version": "1.2.0",
            "grid_template_areas": null,
            "object_position": null,
            "object_fit": null,
            "grid_auto_columns": null,
            "margin": null,
            "display": null,
            "left": null
          }
        },
        "7fc5f120a39e49768a6fd58cef9fc2ce": {
          "model_module": "@jupyter-widgets/controls",
          "model_name": "DescriptionStyleModel",
          "state": {
            "_view_name": "StyleView",
            "_model_name": "DescriptionStyleModel",
            "description_width": "",
            "_view_module": "@jupyter-widgets/base",
            "_model_module_version": "1.5.0",
            "_view_count": null,
            "_view_module_version": "1.2.0",
            "_model_module": "@jupyter-widgets/controls"
          }
        },
        "b7998fe07c8d44f9aa0ffa9c3277187a": {
          "model_module": "@jupyter-widgets/base",
          "model_name": "LayoutModel",
          "state": {
            "_view_name": "LayoutView",
            "grid_template_rows": null,
            "right": null,
            "justify_content": null,
            "_view_module": "@jupyter-widgets/base",
            "overflow": null,
            "_model_module_version": "1.2.0",
            "_view_count": null,
            "flex_flow": null,
            "width": null,
            "min_width": null,
            "border": null,
            "align_items": null,
            "bottom": null,
            "_model_module": "@jupyter-widgets/base",
            "top": null,
            "grid_column": null,
            "overflow_y": null,
            "overflow_x": null,
            "grid_auto_flow": null,
            "grid_area": null,
            "grid_template_columns": null,
            "flex": null,
            "_model_name": "LayoutModel",
            "justify_items": null,
            "grid_row": null,
            "max_height": null,
            "align_content": null,
            "visibility": null,
            "align_self": null,
            "height": null,
            "min_height": null,
            "padding": null,
            "grid_auto_rows": null,
            "grid_gap": null,
            "max_width": null,
            "order": null,
            "_view_module_version": "1.2.0",
            "grid_template_areas": null,
            "object_position": null,
            "object_fit": null,
            "grid_auto_columns": null,
            "margin": null,
            "display": null,
            "left": null
          }
        },
        "ccc41212e3974c0eb9945f36d2cfc444": {
          "model_module": "@jupyter-widgets/controls",
          "model_name": "HBoxModel",
          "state": {
            "_view_name": "HBoxView",
            "_dom_classes": [],
            "_model_name": "HBoxModel",
            "_view_module": "@jupyter-widgets/controls",
            "_model_module_version": "1.5.0",
            "_view_count": null,
            "_view_module_version": "1.5.0",
            "box_style": "",
            "layout": "IPY_MODEL_9d3147bf887542bbb76b3c681bd31d6f",
            "_model_module": "@jupyter-widgets/controls",
            "children": [
              "IPY_MODEL_aa551de7bc764f36a777215bb2f6757b",
              "IPY_MODEL_32eca19fa27442429af566502cc09a6b"
            ]
          }
        },
        "9d3147bf887542bbb76b3c681bd31d6f": {
          "model_module": "@jupyter-widgets/base",
          "model_name": "LayoutModel",
          "state": {
            "_view_name": "LayoutView",
            "grid_template_rows": null,
            "right": null,
            "justify_content": null,
            "_view_module": "@jupyter-widgets/base",
            "overflow": null,
            "_model_module_version": "1.2.0",
            "_view_count": null,
            "flex_flow": null,
            "width": null,
            "min_width": null,
            "border": null,
            "align_items": null,
            "bottom": null,
            "_model_module": "@jupyter-widgets/base",
            "top": null,
            "grid_column": null,
            "overflow_y": null,
            "overflow_x": null,
            "grid_auto_flow": null,
            "grid_area": null,
            "grid_template_columns": null,
            "flex": null,
            "_model_name": "LayoutModel",
            "justify_items": null,
            "grid_row": null,
            "max_height": null,
            "align_content": null,
            "visibility": null,
            "align_self": null,
            "height": null,
            "min_height": null,
            "padding": null,
            "grid_auto_rows": null,
            "grid_gap": null,
            "max_width": null,
            "order": null,
            "_view_module_version": "1.2.0",
            "grid_template_areas": null,
            "object_position": null,
            "object_fit": null,
            "grid_auto_columns": null,
            "margin": null,
            "display": null,
            "left": null
          }
        },
        "aa551de7bc764f36a777215bb2f6757b": {
          "model_module": "@jupyter-widgets/controls",
          "model_name": "FloatProgressModel",
          "state": {
            "_view_name": "ProgressView",
            "style": "IPY_MODEL_925b541aaee54639ac87602b49a4d289",
            "_dom_classes": [],
            "description": "100%",
            "_model_name": "FloatProgressModel",
            "bar_style": "success",
            "max": 5,
            "_view_module": "@jupyter-widgets/controls",
            "_model_module_version": "1.5.0",
            "value": 5,
            "_view_count": null,
            "_view_module_version": "1.5.0",
            "orientation": "horizontal",
            "min": 0,
            "description_tooltip": null,
            "_model_module": "@jupyter-widgets/controls",
            "layout": "IPY_MODEL_d4b0f32d3d48435f889b4518c30ce221"
          }
        },
        "32eca19fa27442429af566502cc09a6b": {
          "model_module": "@jupyter-widgets/controls",
          "model_name": "HTMLModel",
          "state": {
            "_view_name": "HTMLView",
            "style": "IPY_MODEL_0a91e9e83a9d4705b517eb2f7a3b6424",
            "_dom_classes": [],
            "description": "",
            "_model_name": "HTMLModel",
            "placeholder": "​",
            "_view_module": "@jupyter-widgets/controls",
            "_model_module_version": "1.5.0",
            "value": " 5/5 [01:59&lt;00:00, 23.84s/it]",
            "_view_count": null,
            "_view_module_version": "1.5.0",
            "description_tooltip": null,
            "_model_module": "@jupyter-widgets/controls",
            "layout": "IPY_MODEL_6e61aedc9c984541a42b243e951d3b33"
          }
        },
        "925b541aaee54639ac87602b49a4d289": {
          "model_module": "@jupyter-widgets/controls",
          "model_name": "ProgressStyleModel",
          "state": {
            "_view_name": "StyleView",
            "_model_name": "ProgressStyleModel",
            "description_width": "initial",
            "_view_module": "@jupyter-widgets/base",
            "_model_module_version": "1.5.0",
            "_view_count": null,
            "_view_module_version": "1.2.0",
            "bar_color": null,
            "_model_module": "@jupyter-widgets/controls"
          }
        },
        "d4b0f32d3d48435f889b4518c30ce221": {
          "model_module": "@jupyter-widgets/base",
          "model_name": "LayoutModel",
          "state": {
            "_view_name": "LayoutView",
            "grid_template_rows": null,
            "right": null,
            "justify_content": null,
            "_view_module": "@jupyter-widgets/base",
            "overflow": null,
            "_model_module_version": "1.2.0",
            "_view_count": null,
            "flex_flow": null,
            "width": null,
            "min_width": null,
            "border": null,
            "align_items": null,
            "bottom": null,
            "_model_module": "@jupyter-widgets/base",
            "top": null,
            "grid_column": null,
            "overflow_y": null,
            "overflow_x": null,
            "grid_auto_flow": null,
            "grid_area": null,
            "grid_template_columns": null,
            "flex": null,
            "_model_name": "LayoutModel",
            "justify_items": null,
            "grid_row": null,
            "max_height": null,
            "align_content": null,
            "visibility": null,
            "align_self": null,
            "height": null,
            "min_height": null,
            "padding": null,
            "grid_auto_rows": null,
            "grid_gap": null,
            "max_width": null,
            "order": null,
            "_view_module_version": "1.2.0",
            "grid_template_areas": null,
            "object_position": null,
            "object_fit": null,
            "grid_auto_columns": null,
            "margin": null,
            "display": null,
            "left": null
          }
        },
        "0a91e9e83a9d4705b517eb2f7a3b6424": {
          "model_module": "@jupyter-widgets/controls",
          "model_name": "DescriptionStyleModel",
          "state": {
            "_view_name": "StyleView",
            "_model_name": "DescriptionStyleModel",
            "description_width": "",
            "_view_module": "@jupyter-widgets/base",
            "_model_module_version": "1.5.0",
            "_view_count": null,
            "_view_module_version": "1.2.0",
            "_model_module": "@jupyter-widgets/controls"
          }
        },
        "6e61aedc9c984541a42b243e951d3b33": {
          "model_module": "@jupyter-widgets/base",
          "model_name": "LayoutModel",
          "state": {
            "_view_name": "LayoutView",
            "grid_template_rows": null,
            "right": null,
            "justify_content": null,
            "_view_module": "@jupyter-widgets/base",
            "overflow": null,
            "_model_module_version": "1.2.0",
            "_view_count": null,
            "flex_flow": null,
            "width": null,
            "min_width": null,
            "border": null,
            "align_items": null,
            "bottom": null,
            "_model_module": "@jupyter-widgets/base",
            "top": null,
            "grid_column": null,
            "overflow_y": null,
            "overflow_x": null,
            "grid_auto_flow": null,
            "grid_area": null,
            "grid_template_columns": null,
            "flex": null,
            "_model_name": "LayoutModel",
            "justify_items": null,
            "grid_row": null,
            "max_height": null,
            "align_content": null,
            "visibility": null,
            "align_self": null,
            "height": null,
            "min_height": null,
            "padding": null,
            "grid_auto_rows": null,
            "grid_gap": null,
            "max_width": null,
            "order": null,
            "_view_module_version": "1.2.0",
            "grid_template_areas": null,
            "object_position": null,
            "object_fit": null,
            "grid_auto_columns": null,
            "margin": null,
            "display": null,
            "left": null
          }
        }
      }
    }
  },
  "cells": [
    {
      "cell_type": "markdown",
      "metadata": {
        "id": "view-in-github",
        "colab_type": "text"
      },
      "source": [
        "<a href=\"https://colab.research.google.com/github/Itsuki-Hamano123/auto_ml/blob/master/autogluon/experiments/sample_table_cls.ipynb\" target=\"_parent\"><img src=\"https://colab.research.google.com/assets/colab-badge.svg\" alt=\"Open In Colab\"/></a>"
      ]
    },
    {
      "cell_type": "code",
      "metadata": {
        "id": "2zfaGeuq36iI",
        "colab_type": "code",
        "colab": {
          "base_uri": "https://localhost:8080/",
          "height": 1000
        },
        "outputId": "1c2722d9-babb-49cb-b3d0-88076c26cdda"
      },
      "source": [
        "%pip install scikit-learn==0.23.1\n",
        "%pip install --upgrade mxnet-cu101\n",
        "%pip install autogluon"
      ],
      "execution_count": null,
      "outputs": [
        {
          "output_type": "stream",
          "text": [
            "Collecting scikit-learn==0.23.1\n",
            "  Using cached https://files.pythonhosted.org/packages/d9/3a/eb8d7bbe28f4787d140bb9df685b7d5bf6115c0e2a969def4027144e98b6/scikit_learn-0.23.1-cp36-cp36m-manylinux1_x86_64.whl\n",
            "Requirement already satisfied: numpy>=1.13.3 in /usr/local/lib/python3.6/dist-packages (from scikit-learn==0.23.1) (1.18.5)\n",
            "Requirement already satisfied: scipy>=0.19.1 in /usr/local/lib/python3.6/dist-packages (from scikit-learn==0.23.1) (1.4.1)\n",
            "Requirement already satisfied: joblib>=0.11 in /usr/local/lib/python3.6/dist-packages (from scikit-learn==0.23.1) (0.16.0)\n",
            "Requirement already satisfied: threadpoolctl>=2.0.0 in /usr/local/lib/python3.6/dist-packages (from scikit-learn==0.23.1) (2.1.0)\n",
            "\u001b[31mERROR: autogluon 0.0.12 has requirement scikit-learn<0.23,>=0.22.0, but you'll have scikit-learn 0.23.1 which is incompatible.\u001b[0m\n",
            "Installing collected packages: scikit-learn\n",
            "  Found existing installation: scikit-learn 0.22.2.post1\n",
            "    Uninstalling scikit-learn-0.22.2.post1:\n",
            "      Successfully uninstalled scikit-learn-0.22.2.post1\n",
            "Successfully installed scikit-learn-0.23.1\n",
            "Requirement already up-to-date: mxnet-cu101 in /usr/local/lib/python3.6/dist-packages (1.6.0)\n",
            "Requirement already satisfied, skipping upgrade: numpy<2.0.0,>1.16.0 in /usr/local/lib/python3.6/dist-packages (from mxnet-cu101) (1.18.5)\n",
            "Requirement already satisfied, skipping upgrade: graphviz<0.9.0,>=0.8.1 in /usr/local/lib/python3.6/dist-packages (from mxnet-cu101) (0.8.4)\n",
            "Requirement already satisfied, skipping upgrade: requests<3,>=2.20.0 in /usr/local/lib/python3.6/dist-packages (from mxnet-cu101) (2.23.0)\n",
            "Requirement already satisfied, skipping upgrade: chardet<4,>=3.0.2 in /usr/local/lib/python3.6/dist-packages (from requests<3,>=2.20.0->mxnet-cu101) (3.0.4)\n",
            "Requirement already satisfied, skipping upgrade: idna<3,>=2.5 in /usr/local/lib/python3.6/dist-packages (from requests<3,>=2.20.0->mxnet-cu101) (2.10)\n",
            "Requirement already satisfied, skipping upgrade: urllib3!=1.25.0,!=1.25.1,<1.26,>=1.21.1 in /usr/local/lib/python3.6/dist-packages (from requests<3,>=2.20.0->mxnet-cu101) (1.24.3)\n",
            "Requirement already satisfied, skipping upgrade: certifi>=2017.4.17 in /usr/local/lib/python3.6/dist-packages (from requests<3,>=2.20.0->mxnet-cu101) (2020.6.20)\n",
            "Requirement already satisfied: autogluon in /usr/local/lib/python3.6/dist-packages (0.0.12)\n",
            "Requirement already satisfied: scipy>=1.3.3 in /usr/local/lib/python3.6/dist-packages (from autogluon) (1.4.1)\n",
            "Requirement already satisfied: tqdm>=4.38.0 in /usr/local/lib/python3.6/dist-packages (from autogluon) (4.41.1)\n",
            "Requirement already satisfied: ConfigSpace<=0.4.10 in /usr/local/lib/python3.6/dist-packages (from autogluon) (0.4.10)\n",
            "Requirement already satisfied: dask>=2.6.0 in /usr/local/lib/python3.6/dist-packages (from autogluon) (2.12.0)\n",
            "Requirement already satisfied: cython in /usr/local/lib/python3.6/dist-packages (from autogluon) (0.29.21)\n",
            "Collecting scikit-learn<0.23,>=0.22.0\n",
            "  Using cached https://files.pythonhosted.org/packages/5e/d8/312e03adf4c78663e17d802fe2440072376fee46cada1404f1727ed77a32/scikit_learn-0.22.2.post1-cp36-cp36m-manylinux1_x86_64.whl\n",
            "Requirement already satisfied: catboost<0.24 in /usr/local/lib/python3.6/dist-packages (from autogluon) (0.23.2)\n",
            "Requirement already satisfied: pytest in /usr/local/lib/python3.6/dist-packages (from autogluon) (3.6.4)\n",
            "Requirement already satisfied: graphviz in /usr/local/lib/python3.6/dist-packages (from autogluon) (0.8.4)\n",
            "Requirement already satisfied: lightgbm<3.0,>=2.3.0 in /usr/local/lib/python3.6/dist-packages (from autogluon) (2.3.1)\n",
            "Requirement already satisfied: psutil>=5.0.0 in /usr/local/lib/python3.6/dist-packages (from autogluon) (5.4.8)\n",
            "Requirement already satisfied: pandas<1.0,>=0.24.0 in /usr/local/lib/python3.6/dist-packages (from autogluon) (0.25.3)\n",
            "Requirement already satisfied: matplotlib in /usr/local/lib/python3.6/dist-packages (from autogluon) (3.2.2)\n",
            "Requirement already satisfied: networkx<3.0,>=2.3 in /usr/local/lib/python3.6/dist-packages (from autogluon) (2.4)\n",
            "Requirement already satisfied: cryptography>=2.8 in /usr/local/lib/python3.6/dist-packages (from autogluon) (3.0)\n",
            "Requirement already satisfied: scikit-optimize in /usr/local/lib/python3.6/dist-packages (from autogluon) (0.7.4)\n",
            "Requirement already satisfied: distributed>=2.6.0 in /usr/local/lib/python3.6/dist-packages (from autogluon) (2.21.0)\n",
            "Requirement already satisfied: boto3 in /usr/local/lib/python3.6/dist-packages (from autogluon) (1.14.24)\n",
            "Requirement already satisfied: requests in /usr/local/lib/python3.6/dist-packages (from autogluon) (2.23.0)\n",
            "Requirement already satisfied: gluoncv<1.0,>=0.5.0 in /usr/local/lib/python3.6/dist-packages (from autogluon) (0.7.0)\n",
            "Requirement already satisfied: openml in /usr/local/lib/python3.6/dist-packages (from autogluon) (0.10.2)\n",
            "Requirement already satisfied: paramiko>=2.4 in /usr/local/lib/python3.6/dist-packages (from autogluon) (2.7.1)\n",
            "Requirement already satisfied: Pillow<=6.2.1 in /usr/local/lib/python3.6/dist-packages (from autogluon) (6.2.1)\n",
            "Requirement already satisfied: numpy>=1.16.0 in /usr/local/lib/python3.6/dist-packages (from autogluon) (1.18.5)\n",
            "Requirement already satisfied: tornado>=5.0.1 in /usr/local/lib/python3.6/dist-packages (from autogluon) (5.1.1)\n",
            "Requirement already satisfied: pyparsing in /usr/local/lib/python3.6/dist-packages (from ConfigSpace<=0.4.10->autogluon) (2.4.7)\n",
            "Requirement already satisfied: typing in /usr/local/lib/python3.6/dist-packages (from ConfigSpace<=0.4.10->autogluon) (3.7.4.3)\n",
            "Requirement already satisfied: joblib>=0.11 in /usr/local/lib/python3.6/dist-packages (from scikit-learn<0.23,>=0.22.0->autogluon) (0.16.0)\n",
            "Requirement already satisfied: six in /usr/local/lib/python3.6/dist-packages (from catboost<0.24->autogluon) (1.15.0)\n",
            "Requirement already satisfied: plotly in /usr/local/lib/python3.6/dist-packages (from catboost<0.24->autogluon) (4.4.1)\n",
            "Requirement already satisfied: py>=1.5.0 in /usr/local/lib/python3.6/dist-packages (from pytest->autogluon) (1.9.0)\n",
            "Requirement already satisfied: pluggy<0.8,>=0.5 in /usr/local/lib/python3.6/dist-packages (from pytest->autogluon) (0.7.1)\n",
            "Requirement already satisfied: atomicwrites>=1.0 in /usr/local/lib/python3.6/dist-packages (from pytest->autogluon) (1.4.0)\n",
            "Requirement already satisfied: attrs>=17.4.0 in /usr/local/lib/python3.6/dist-packages (from pytest->autogluon) (19.3.0)\n",
            "Requirement already satisfied: setuptools in /usr/local/lib/python3.6/dist-packages (from pytest->autogluon) (49.1.0)\n",
            "Requirement already satisfied: more-itertools>=4.0.0 in /usr/local/lib/python3.6/dist-packages (from pytest->autogluon) (8.4.0)\n",
            "Requirement already satisfied: python-dateutil>=2.6.1 in /usr/local/lib/python3.6/dist-packages (from pandas<1.0,>=0.24.0->autogluon) (2.8.1)\n",
            "Requirement already satisfied: pytz>=2017.2 in /usr/local/lib/python3.6/dist-packages (from pandas<1.0,>=0.24.0->autogluon) (2018.9)\n",
            "Requirement already satisfied: cycler>=0.10 in /usr/local/lib/python3.6/dist-packages (from matplotlib->autogluon) (0.10.0)\n",
            "Requirement already satisfied: kiwisolver>=1.0.1 in /usr/local/lib/python3.6/dist-packages (from matplotlib->autogluon) (1.2.0)\n",
            "Requirement already satisfied: decorator>=4.3.0 in /usr/local/lib/python3.6/dist-packages (from networkx<3.0,>=2.3->autogluon) (4.4.2)\n",
            "Requirement already satisfied: cffi!=1.11.3,>=1.8 in /usr/local/lib/python3.6/dist-packages (from cryptography>=2.8->autogluon) (1.14.0)\n",
            "Requirement already satisfied: pyaml>=16.9 in /usr/local/lib/python3.6/dist-packages (from scikit-optimize->autogluon) (20.4.0)\n",
            "Requirement already satisfied: msgpack>=0.6.0 in /usr/local/lib/python3.6/dist-packages (from distributed>=2.6.0->autogluon) (1.0.0)\n",
            "Requirement already satisfied: sortedcontainers!=2.0.0,!=2.0.1 in /usr/local/lib/python3.6/dist-packages (from distributed>=2.6.0->autogluon) (2.2.2)\n",
            "Requirement already satisfied: cloudpickle>=1.5.0 in /usr/local/lib/python3.6/dist-packages (from distributed>=2.6.0->autogluon) (1.5.0)\n",
            "Requirement already satisfied: tblib>=1.6.0 in /usr/local/lib/python3.6/dist-packages (from distributed>=2.6.0->autogluon) (1.6.0)\n",
            "Requirement already satisfied: zict>=0.1.3 in /usr/local/lib/python3.6/dist-packages (from distributed>=2.6.0->autogluon) (2.0.0)\n",
            "Requirement already satisfied: pyyaml in /usr/local/lib/python3.6/dist-packages (from distributed>=2.6.0->autogluon) (3.13)\n",
            "Requirement already satisfied: contextvars; python_version < \"3.7\" in /usr/local/lib/python3.6/dist-packages (from distributed>=2.6.0->autogluon) (2.4)\n",
            "Requirement already satisfied: click>=6.6 in /usr/local/lib/python3.6/dist-packages (from distributed>=2.6.0->autogluon) (7.1.2)\n",
            "Requirement already satisfied: toolz>=0.8.2 in /usr/local/lib/python3.6/dist-packages (from distributed>=2.6.0->autogluon) (0.10.0)\n",
            "Requirement already satisfied: botocore<1.18.0,>=1.17.24 in /usr/local/lib/python3.6/dist-packages (from boto3->autogluon) (1.17.24)\n",
            "Requirement already satisfied: s3transfer<0.4.0,>=0.3.0 in /usr/local/lib/python3.6/dist-packages (from boto3->autogluon) (0.3.3)\n",
            "Requirement already satisfied: jmespath<1.0.0,>=0.7.1 in /usr/local/lib/python3.6/dist-packages (from boto3->autogluon) (0.10.0)\n",
            "Requirement already satisfied: idna<3,>=2.5 in /usr/local/lib/python3.6/dist-packages (from requests->autogluon) (2.10)\n",
            "Requirement already satisfied: chardet<4,>=3.0.2 in /usr/local/lib/python3.6/dist-packages (from requests->autogluon) (3.0.4)\n",
            "Requirement already satisfied: urllib3!=1.25.0,!=1.25.1,<1.26,>=1.21.1 in /usr/local/lib/python3.6/dist-packages (from requests->autogluon) (1.24.3)\n",
            "Requirement already satisfied: certifi>=2017.4.17 in /usr/local/lib/python3.6/dist-packages (from requests->autogluon) (2020.6.20)\n",
            "Requirement already satisfied: portalocker in /usr/local/lib/python3.6/dist-packages (from gluoncv<1.0,>=0.5.0->autogluon) (1.7.1)\n",
            "Requirement already satisfied: liac-arff>=2.4.0 in /usr/local/lib/python3.6/dist-packages (from openml->autogluon) (2.4.0)\n",
            "Requirement already satisfied: xmltodict in /usr/local/lib/python3.6/dist-packages (from openml->autogluon) (0.12.0)\n",
            "Requirement already satisfied: pynacl>=1.0.1 in /usr/local/lib/python3.6/dist-packages (from paramiko>=2.4->autogluon) (1.4.0)\n",
            "Requirement already satisfied: bcrypt>=3.1.3 in /usr/local/lib/python3.6/dist-packages (from paramiko>=2.4->autogluon) (3.1.7)\n",
            "Requirement already satisfied: retrying>=1.3.3 in /usr/local/lib/python3.6/dist-packages (from plotly->catboost<0.24->autogluon) (1.3.3)\n",
            "Requirement already satisfied: pycparser in /usr/local/lib/python3.6/dist-packages (from cffi!=1.11.3,>=1.8->cryptography>=2.8->autogluon) (2.20)\n",
            "Requirement already satisfied: heapdict in /usr/local/lib/python3.6/dist-packages (from zict>=0.1.3->distributed>=2.6.0->autogluon) (1.0.1)\n",
            "Requirement already satisfied: immutables>=0.9 in /usr/local/lib/python3.6/dist-packages (from contextvars; python_version < \"3.7\"->distributed>=2.6.0->autogluon) (0.14)\n",
            "Requirement already satisfied: docutils<0.16,>=0.10 in /usr/local/lib/python3.6/dist-packages (from botocore<1.18.0,>=1.17.24->boto3->autogluon) (0.15.2)\n",
            "Installing collected packages: scikit-learn\n",
            "  Found existing installation: scikit-learn 0.23.1\n",
            "    Uninstalling scikit-learn-0.23.1:\n",
            "      Successfully uninstalled scikit-learn-0.23.1\n",
            "Successfully installed scikit-learn-0.22.2.post1\n"
          ],
          "name": "stdout"
        }
      ]
    },
    {
      "cell_type": "code",
      "metadata": {
        "id": "_BF8XziN5c37",
        "colab_type": "code",
        "colab": {
          "base_uri": "https://localhost:8080/",
          "height": 53
        },
        "outputId": "988c8957-f807-41a9-d581-c2fa36738087"
      },
      "source": [
        "from google.colab import drive\n",
        "drive.mount('/gdrive')\n",
        "%cd /gdrive"
      ],
      "execution_count": null,
      "outputs": [
        {
          "output_type": "stream",
          "text": [
            "Drive already mounted at /gdrive; to attempt to forcibly remount, call drive.mount(\"/gdrive\", force_remount=True).\n",
            "/gdrive\n"
          ],
          "name": "stdout"
        }
      ]
    },
    {
      "cell_type": "code",
      "metadata": {
        "id": "baIDlzNO5agJ",
        "colab_type": "code",
        "colab": {
          "base_uri": "https://localhost:8080/",
          "height": 53
        },
        "outputId": "450eaeca-2f9b-467e-9165-e42ae3408efd"
      },
      "source": [
        "%cd /gdrive/My Drive/機械学習練習/AutoML/AutoGluon/experiments\n",
        "%ls"
      ],
      "execution_count": null,
      "outputs": [
        {
          "output_type": "stream",
          "text": [
            "/gdrive/My Drive/機械学習練習/AutoML/AutoGluon/experiments\n",
            "covtype_table_cls.ipynb  \u001b[0m\u001b[01;34mdataset\u001b[0m/  \u001b[01;34mmodels\u001b[0m/\n"
          ],
          "name": "stdout"
        }
      ]
    },
    {
      "cell_type": "markdown",
      "metadata": {
        "id": "dXr2e3hPjZ2c",
        "colab_type": "text"
      },
      "source": [
        "# Predicting Columns in a Table - In Depth\n",
        "テーブルデータを使った予測の練習[https://autogluon.mxnet.io/tutorials/tabular_prediction/tabular-indepth.html]([https://autogluon.mxnet.io/tutorials/tabular_prediction/tabular-indepth.html)"
      ]
    },
    {
      "cell_type": "code",
      "metadata": {
        "id": "frKFiXIS6iAJ",
        "colab_type": "code",
        "colab": {}
      },
      "source": [
        "import datetime, os\n",
        "\n",
        "import numpy as np\n",
        "import pandas as pd\n",
        "\n",
        "import autogluon as ag\n",
        "from autogluon import TabularPrediction as task\n",
        "from autogluon.task.tabular_prediction import TabularDataset\n",
        "from sklearn.datasets import fetch_covtype\n",
        "from sklearn.model_selection import train_test_split"
      ],
      "execution_count": null,
      "outputs": []
    },
    {
      "cell_type": "markdown",
      "metadata": {
        "id": "eLZNrf4EFfNi",
        "colab_type": "text"
      },
      "source": [
        "## データの読み込み"
      ]
    },
    {
      "cell_type": "code",
      "metadata": {
        "id": "-XTsvpMHALDy",
        "colab_type": "code",
        "colab": {
          "base_uri": "https://localhost:8080/",
          "height": 71
        },
        "outputId": "ca3522fb-5f6b-4f20-910b-bcd7f37d0446"
      },
      "source": [
        "SEED = 2\n",
        "\n",
        "fetch_data = fetch_covtype(random_state=SEED)\n",
        "\n",
        "train_X, test_X, train_y, test_y = train_test_split(fetch_data.data, fetch_data.target-1,\n",
        "                                                    test_size=0.2, random_state=SEED)\n",
        "train_X, val_X, train_y, val_y = train_test_split(train_X, train_y, \n",
        "                                                  test_size=0.2, random_state=SEED)\n",
        "print('train_X:{}, train_y:{}'.format(train_X.shape, train_y.shape))\n",
        "print('val_X:{}, val_y:{}'.format(val_X.shape, val_y.shape))\n",
        "print('test_X:{}, test_y:{}'.format(test_X.shape, test_y.shape))\n",
        "\n",
        "label_col = 'class'\n",
        "f_cols = []\n",
        "for i in range(train_X.shape[1]):\n",
        "  f_cols.append('f_'+str(i+1))"
      ],
      "execution_count": null,
      "outputs": [
        {
          "output_type": "stream",
          "text": [
            "train_X:(371847, 54), train_y:(371847,)\n",
            "val_X:(92962, 54), val_y:(92962,)\n",
            "test_X:(116203, 54), test_y:(116203,)\n"
          ],
          "name": "stdout"
        }
      ]
    },
    {
      "cell_type": "markdown",
      "metadata": {
        "id": "vNoLwI0fJImI",
        "colab_type": "text"
      },
      "source": [
        "### モデルの入力形式に合わせたデータの変型"
      ]
    },
    {
      "cell_type": "code",
      "metadata": {
        "id": "rzAde1ZKGM4V",
        "colab_type": "code",
        "colab": {}
      },
      "source": [
        "def convert_to_TabularDataset(X, y, f_cols, y_col):\n",
        "  df = pd.DataFrame(data=X,columns=f_cols)\n",
        "  df.insert(loc=0, column=y_col, value=y)\n",
        "  return TabularDataset(df = df)"
      ],
      "execution_count": null,
      "outputs": []
    },
    {
      "cell_type": "code",
      "metadata": {
        "id": "AFVQJbQQIv6V",
        "colab_type": "code",
        "colab": {
          "base_uri": "https://localhost:8080/",
          "height": 35
        },
        "outputId": "b66bbaac-f1ec-44d3-8852-bc9de15abdde"
      },
      "source": [
        "train_td = convert_to_TabularDataset(train_X, train_y, f_cols, label_col)\n",
        "val_td = convert_to_TabularDataset(val_X, val_y, f_cols, label_col)\n",
        "test_td = convert_to_TabularDataset(test_X, test_y, f_cols, label_col)\n",
        "print('データの型:{}'.format(type(train_td)))"
      ],
      "execution_count": null,
      "outputs": [
        {
          "output_type": "stream",
          "text": [
            "データの型:<class 'autogluon.task.tabular_prediction.dataset.TabularDataset'>\n"
          ],
          "name": "stdout"
        }
      ]
    },
    {
      "cell_type": "markdown",
      "metadata": {
        "id": "Nb-jkB0zFXHk",
        "colab_type": "text"
      },
      "source": [
        "## 予めモデルの構造(ハイパーパラメータ)を指定する場合"
      ]
    },
    {
      "cell_type": "markdown",
      "metadata": {
        "id": "_Nl4ZtVxKAbp",
        "colab_type": "text"
      },
      "source": [
        "### モデルの構造を指定\n",
        "パラメータ探索空間の指定方法や種類について：[https://autogluon.mxnet.io/api/autogluon.space.html](https://autogluon.mxnet.io/api/autogluon.space.html)"
      ]
    },
    {
      "cell_type": "code",
      "metadata": {
        "id": "kKgwhJXsWh4G",
        "colab_type": "code",
        "colab": {}
      },
      "source": [
        "nn_options = { # specifies non-default hyperparameter values for neural network models\n",
        "    'num_epochs': 10, # number of training epochs (controls training time of NN models)\n",
        "    'learning_rate': ag.space.Real(1e-4, 1e-2, default=5e-4, log=True), # learning rate used in training (real-valued hyperparameter searched on log-scale)\n",
        "    'activation': ag.space.Categorical('relu', 'softrelu', 'tanh'), # activation function used in NN (categorical hyperparameter, default = first entry)\n",
        "    #'layers': ag.space.Categorical([100],[1000],[200,100],[300,200,100]),\n",
        "      # Each choice for categorical hyperparameter 'layers' corresponds to list of sizes for each NN layer to use\n",
        "    'dropout_prob': ag.space.Real(0.0, 0.5, default=0.1), # dropout probability (real-valued hyperparameter)\n",
        "}\n",
        "\n",
        "gbm_options = { # specifies non-default hyperparameter values for lightGBM gradient boosted trees\n",
        "    'num_boost_round': 100, # number of boosting rounds (controls training time of GBM models)\n",
        "    'num_leaves': ag.space.Int(lower=26, upper=66, default=36), # number of leaves in trees (integer hyperparameter)\n",
        "}\n",
        "\n",
        "hyperparameters = {'NN': nn_options, 'GBM': gbm_options}  # hyperparameters of each model type\n",
        "# If one of these keys is missing from hyperparameters dict, then no models of that type are trained."
      ],
      "execution_count": null,
      "outputs": []
    },
    {
      "cell_type": "markdown",
      "metadata": {
        "id": "sYHIHt27L5OB",
        "colab_type": "text"
      },
      "source": [
        "### 実験の詳細を指定"
      ]
    },
    {
      "cell_type": "code",
      "metadata": {
        "id": "q4V2MaauL3hn",
        "colab_type": "code",
        "colab": {}
      },
      "source": [
        "# 実験の最大許容時間の設定\n",
        "time_limits = 60  #@param {type: \"number\"}\n",
        "# いくつのモデルを試行するか\n",
        "num_trials = 5  #@param {type: \"string\"}\n",
        "# パラメータ最適化の手法\n",
        "search_strategy = 'skopt' #@param {type: \"string\"}\n",
        "\n",
        "# 訓練後のモデル出力先\n",
        "output_directory = 'models'\n",
        "model_name = 'table_cls' + datetime.datetime.now().strftime('%Y%m%d%H%M%S')\n",
        "output_model_path = os.path.join(output_directory, model_name)"
      ],
      "execution_count": null,
      "outputs": []
    },
    {
      "cell_type": "code",
      "metadata": {
        "id": "VXzcYYTZBQpF",
        "colab_type": "code",
        "colab": {
          "base_uri": "https://localhost:8080/",
          "height": 1000,
          "referenced_widgets": [
            "a63069a21b354db099380d4b9ff5517d",
            "14cecba389c544b4bfc8eaaa1a744204",
            "d62b55ab9da64e1e9c6ed4b57abc9bda",
            "eb411ebaed4e4d33aa3e579932ca3c30",
            "b426e0ac8fd1431cb306cb6cf79d3e0e",
            "62e979f0700a400a925fb29c704c76a7",
            "7fc5f120a39e49768a6fd58cef9fc2ce",
            "b7998fe07c8d44f9aa0ffa9c3277187a",
            "ccc41212e3974c0eb9945f36d2cfc444",
            "9d3147bf887542bbb76b3c681bd31d6f",
            "aa551de7bc764f36a777215bb2f6757b",
            "32eca19fa27442429af566502cc09a6b",
            "925b541aaee54639ac87602b49a4d289",
            "d4b0f32d3d48435f889b4518c30ce221",
            "0a91e9e83a9d4705b517eb2f7a3b6424",
            "6e61aedc9c984541a42b243e951d3b33"
          ]
        },
        "outputId": "23a49728-9fff-4c38-e862-ddd41caf9ff3"
      },
      "source": [
        "# 時短のためデータ量を少なくして試行してみる\n",
        "predictor = task.fit(train_data=train_td.head(100), tuning_data=val_td.head(100), label=label_col,\n",
        "                     problem_type='multiclass', random_seed=SEED,\n",
        "                     output_directory=output_model_path, time_limits=time_limits,\n",
        "                     num_trials=num_trials, hyperparameter_tune=True,\n",
        "                     hyperparameters=hyperparameters, search_strategy=search_strategy)"
      ],
      "execution_count": null,
      "outputs": [
        {
          "output_type": "stream",
          "text": [
            "Warning: `hyperparameter_tune=True` is currently experimental and may cause the process to hang. Setting `auto_stack=True` instead is recommended to achieve maximum quality models.\n",
            "Beginning AutoGluon training ... Time limit = 60s\n",
            "AutoGluon will save models to models/table_cls20200725103114/\n",
            "AutoGluon Version:  0.0.12\n",
            "Train Data Rows:    100\n",
            "Train Data Columns: 55\n",
            "Tuning Data Rows:    100\n",
            "Tuning Data Columns: 55\n",
            "Preprocessing data ...\n",
            "Warning: Updated label_count_threshold from 10 to 4 to avoid cutting too many classes.\n",
            "Train Data Class Count: 5\n",
            "NumExpr defaulting to 2 threads.\n",
            "Feature Generator processed 196 data points with 41 features\n",
            "Original Features (raw dtypes):\n",
            "\tfloat64 features: 41\n",
            "Original Features (inferred dtypes):\n",
            "\tfloat features: 41\n",
            "Generated Features (special dtypes):\n",
            "Final Features (raw dtypes):\n",
            "\tfloat features: 41\n",
            "Final Features:\n",
            "\tfloat features: 41\n",
            "\tData preprocessing and feature engineering runtime = 0.23s ...\n",
            "AutoGluon will gauge predictive performance using evaluation metric: accuracy\n",
            "To change this, specify the eval_metric argument of fit()\n",
            "AutoGluon will early stop models using evaluation metric: accuracy\n",
            "scheduler_options: Key 'training_history_callback_delta_secs': Imputing default value 60\n",
            "scheduler_options: Key 'delay_get_config': Imputing default value True\n",
            "\n",
            "Starting Experiments\n",
            "Num of Finished Tasks is 0\n",
            "Num of Pending Tasks is 5\n"
          ],
          "name": "stderr"
        },
        {
          "output_type": "display_data",
          "data": {
            "application/vnd.jupyter.widget-view+json": {
              "model_id": "a63069a21b354db099380d4b9ff5517d",
              "version_minor": 0,
              "version_major": 2
            },
            "text/plain": [
              "HBox(children=(FloatProgress(value=0.0, max=5.0), HTML(value='')))"
            ]
          },
          "metadata": {
            "tags": []
          }
        },
        {
          "output_type": "stream",
          "text": [
            "Time out (secs) is 27.0\n"
          ],
          "name": "stderr"
        },
        {
          "output_type": "stream",
          "text": [
            "\n"
          ],
          "name": "stdout"
        },
        {
          "output_type": "stream",
          "text": [
            "\t0.75\t = Validation accuracy score\n",
            "\t0.9s\t = Training runtime\n",
            "\t0.04s\t = Validation runtime\n",
            "\t0.7292\t = Validation accuracy score\n",
            "\t0.93s\t = Training runtime\n",
            "\t0.04s\t = Validation runtime\n",
            "\t0.6354\t = Validation accuracy score\n",
            "\t1.69s\t = Training runtime\n",
            "\t0.04s\t = Validation runtime\n",
            "\t0.6562\t = Validation accuracy score\n",
            "\t1.0s\t = Training runtime\n",
            "\t0.04s\t = Validation runtime\n",
            "\t0.6562\t = Validation accuracy score\n",
            "\t1.06s\t = Training runtime\n",
            "\t0.04s\t = Validation runtime\n",
            "scheduler_options: Key 'training_history_callback_delta_secs': Imputing default value 60\n",
            "scheduler_options: Key 'delay_get_config': Imputing default value True\n",
            "\n",
            "Starting Experiments\n",
            "Num of Finished Tasks is 0\n",
            "Num of Pending Tasks is 5\n"
          ],
          "name": "stderr"
        },
        {
          "output_type": "display_data",
          "data": {
            "application/vnd.jupyter.widget-view+json": {
              "model_id": "ccc41212e3974c0eb9945f36d2cfc444",
              "version_minor": 0,
              "version_major": 2
            },
            "text/plain": [
              "HBox(children=(FloatProgress(value=0.0, max=5.0), HTML(value='')))"
            ]
          },
          "metadata": {
            "tags": []
          }
        },
        {
          "output_type": "stream",
          "text": [
            "Time out (secs) is 27.0\n"
          ],
          "name": "stderr"
        },
        {
          "output_type": "stream",
          "text": [
            "\n"
          ],
          "name": "stdout"
        },
        {
          "output_type": "stream",
          "text": [
            "Please either provide filename or allow plot in get_training_curves\n",
            "\t0.5521\t = Validation accuracy score\n",
            "\t0.94s\t = Training runtime\n",
            "\t0.01s\t = Validation runtime\n",
            "\t0.4583\t = Validation accuracy score\n",
            "\t0.72s\t = Training runtime\n",
            "\t0.01s\t = Validation runtime\n",
            "\t0.6354\t = Validation accuracy score\n",
            "\t0.71s\t = Training runtime\n",
            "\t0.01s\t = Validation runtime\n",
            "\t0.5\t = Validation accuracy score\n",
            "\t0.61s\t = Training runtime\n",
            "\t0.01s\t = Validation runtime\n",
            "\t0.5\t = Validation accuracy score\n",
            "\t0.57s\t = Training runtime\n",
            "\t0.01s\t = Validation runtime\n",
            "Fitting model: weighted_ensemble_k0_l1 ... Training model for up to 59.77s of the 46.08s of remaining time.\n",
            "\t0.7604\t = Validation accuracy score\n",
            "\t0.69s\t = Training runtime\n",
            "\t0.0s\t = Validation runtime\n",
            "AutoGluon training complete, total runtime = 14.89s ...\n"
          ],
          "name": "stderr"
        },
        {
          "output_type": "display_data",
          "data": {
            "image/png": "[encoded data removed]",
            "text/plain": [
              "<Figure size 432x288 with 1 Axes>"
            ]
          },
          "metadata": {
            "tags": [],
            "needs_background": "light"
          }
        }
      ]
    },
    {
      "cell_type": "markdown",
      "metadata": {
        "id": "b-ZGfp-3h5X2",
        "colab_type": "text"
      },
      "source": [
        "### 結果の確認"
      ]
    },
    {
      "cell_type": "code",
      "metadata": {
        "id": "Vhs9e02WQM_i",
        "colab_type": "code",
        "colab": {
          "base_uri": "https://localhost:8080/",
          "height": 1000
        },
        "outputId": "11a5212e-a1a3-4fd7-b638-f0f75203f83e"
      },
      "source": [
        "results = predictor.fit_summary()"
      ],
      "execution_count": null,
      "outputs": [
        {
          "output_type": "stream",
          "text": [
            "*** Summary of fit() ***\n",
            "Estimated performance of each model:\n",
            "                          model  score_val  pred_time_val  fit_time  pred_time_val_marginal  fit_time_marginal  stack_level  can_infer\n",
            "0       weighted_ensemble_k0_l1   0.760417       0.065130  2.915565                0.001406           0.692714            1       True\n",
            "1    LightGBMClassifier/trial_0   0.750000       0.041214  0.897069                0.041214           0.897069            0       True\n",
            "2    LightGBMClassifier/trial_1   0.729167       0.043778  0.932957                0.043778           0.932957            0       True\n",
            "3    LightGBMClassifier/trial_3   0.656250       0.039238  0.999057                0.039238           0.999057            0       True\n",
            "4    LightGBMClassifier/trial_4   0.656250       0.041246  1.057314                0.041246           1.057314            0       True\n",
            "5   NeuralNetClassifier/trial_7   0.635417       0.011067  0.706456                0.011067           0.706456            0       True\n",
            "6    LightGBMClassifier/trial_2   0.635417       0.044687  1.692784                0.044687           1.692784            0       True\n",
            "7   NeuralNetClassifier/trial_5   0.552083       0.009341  0.944050                0.009341           0.944050            0       True\n",
            "8   NeuralNetClassifier/trial_8   0.500000       0.009828  0.607824                0.009828           0.607824            0       True\n",
            "9   NeuralNetClassifier/trial_9   0.500000       0.010013  0.574003                0.010013           0.574003            0       True\n",
            "10  NeuralNetClassifier/trial_6   0.458333       0.012681  0.717958                0.012681           0.717958            0       True\n",
            "Number of models trained: 11\n",
            "Types of models trained:\n",
            "{'LGBModel', 'TabularNeuralNetModel', 'WeightedEnsembleModel'}\n",
            "Bagging used: False \n",
            "Stack-ensembling used: False \n",
            "Hyperparameter-tuning used: True \n",
            "User-specified hyperparameters:\n",
            "{'default': {'NN': [{'num_epochs': 10, 'learning_rate': Real: lower=0.0001, upper=0.01, 'activation': Categorical['relu', 'softrelu', 'tanh'], 'dropout_prob': Real: lower=0.0, upper=0.5}], 'GBM': [{'num_boost_round': 100, 'num_leaves': Int: lower=26, upper=66}]}}\n",
            "Plot summary of models saved to file: models/table_cls20200725103114/SummaryOfModels.html\n",
            "Plot summary of models saved to file: models/table_cls20200725103114/LightGBMClassifier_HPOmodelsummary.html\n",
            "Plot summary of models saved to file: LightGBMClassifier_HPOmodelsummary.html\n",
            "Plot of HPO performance saved to file: models/table_cls20200725103114/LightGBMClassifier_HPOperformanceVStrials.png\n"
          ],
          "name": "stdout"
        },
        {
          "output_type": "display_data",
          "data": {
            "image/png": "[encoded data removed]",
            "text/plain": [
              "<Figure size 432x288 with 1 Axes>"
            ]
          },
          "metadata": {
            "tags": [],
            "needs_background": "light"
          }
        },
        {
          "output_type": "stream",
          "text": [
            "Plot summary of models saved to file: models/table_cls20200725103114/NeuralNetClassifier_HPOmodelsummary.html\n",
            "Plot summary of models saved to file: NeuralNetClassifier_HPOmodelsummary.html\n",
            "Plot of HPO performance saved to file: models/table_cls20200725103114/NeuralNetClassifier_HPOperformanceVStrials.png\n"
          ],
          "name": "stdout"
        },
        {
          "output_type": "display_data",
          "data": {
            "image/png": "[encoded data removed]",
            "text/plain": [
              "<Figure size 432x288 with 1 Axes>"
            ]
          },
          "metadata": {
            "tags": [],
            "needs_background": "light"
          }
        },
        {
          "output_type": "stream",
          "text": [
            "*** Details of Hyperparameter optimization ***\n",
            "HPO for LightGBMClassifier model:  Num. configurations tried = 5, Time spent = 7.418692350387573, Search strategy = skopt\n",
            "Best hyperparameter-configuration (validation-performance: accuracy = -0.2708333333333333):\n",
            "{'feature_fraction': 0.8566939494360085, 'learning_rate': 0.009036534552604733, 'min_data_in_leaf': 18, 'num_leaves': 34}\n",
            "HPO for NeuralNetClassifier model:  Num. configurations tried = 5, Time spent = 5.579728126525879, Search strategy = skopt\n",
            "Best hyperparameter-configuration (validation-performance: accuracy = 0.6354166666666666):\n",
            "{'activation.choice': 2, 'dropout_prob': 0.0006629628023373525, 'embedding_size_factor': 0.6448220134841547, 'layers.choice': 4, 'learning_rate': 0.0032307508333433007, 'network_type.choice': 0, 'use_batchnorm.choice': 1, 'weight_decay': 0.000617392994347252}\n",
            "*** End of fit() summary ***\n"
          ],
          "name": "stdout"
        }
      ]
    },
    {
      "cell_type": "markdown",
      "metadata": {
        "id": "7fsWnFq_h-__",
        "colab_type": "text"
      },
      "source": [
        "## アンサンブルの設定を行う"
      ]
    },
    {
      "cell_type": "code",
      "metadata": {
        "id": "BTRB0BHGcQu_",
        "colab_type": "code",
        "colab": {
          "base_uri": "https://localhost:8080/",
          "height": 829
        },
        "outputId": "60316399-bae7-4c63-bb7e-a73d8d063050"
      },
      "source": [
        "predictor = task.fit(train_data=train_td.head(100), tuning_data=val_td.head(100), label=label_col,\n",
        "                     auto_stack=True, # アンサンブルの戦略も自動で行ってほしい場合\n",
        "                     #num_bagging_folds=5, stack_ensemble_levels=1, #決め打ちしたい場合\n",
        "                     hyperparameters = {'NN':{'num_epochs':5}, 'GBM':{'num_boost_round':100}})"
      ],
      "execution_count": null,
      "outputs": [
        {
          "output_type": "stream",
          "text": [
            "No output_directory specified. Models will be saved in: AutogluonModels/ag-20200725_103503/\n",
            "Beginning AutoGluon training ...\n",
            "AutoGluon will save models to AutogluonModels/ag-20200725_103503/\n",
            "AutoGluon Version:  0.0.12\n",
            "Train Data Rows:    100\n",
            "Train Data Columns: 55\n",
            "Tuning Data Rows:    100\n",
            "Tuning Data Columns: 55\n",
            "Preprocessing data ...\n",
            "Here are the 5 unique label values in your data:  [1, 2, 0, 5, 6]\n",
            "AutoGluon infers your prediction problem is: multiclass  (because dtype of label-column == int, but few unique label-values observed).\n",
            "If this is wrong, please specify `problem_type` argument in fit() instead (You may specify problem_type as one of: ['binary', 'multiclass', 'regression'])\n",
            "\n",
            "Warning: Updated label_count_threshold from 10 to 4 to avoid cutting too many classes.\n",
            "Warning: Updated num_bagging_folds from 5 to 4 to avoid cutting too many classes.\n",
            "Train Data Class Count: 5\n",
            "Feature Generator processed 196 data points with 41 features\n",
            "Original Features (raw dtypes):\n",
            "\tfloat64 features: 41\n",
            "Original Features (inferred dtypes):\n",
            "\tfloat features: 41\n",
            "Generated Features (special dtypes):\n",
            "Final Features (raw dtypes):\n",
            "\tfloat features: 41\n",
            "Final Features:\n",
            "\tfloat features: 41\n",
            "\tData preprocessing and feature engineering runtime = 0.25s ...\n",
            "AutoGluon will gauge predictive performance using evaluation metric: accuracy\n",
            "To change this, specify the eval_metric argument of fit()\n",
            "AutoGluon will early stop models using evaluation metric: accuracy\n",
            "Warning: Training AutoGluon in Bagged Mode but X_val is specified, concatenating X_train and X_val for cross-validation\n",
            "Fitting model: LightGBMClassifier_STACKER_l0 ...\n",
            "\t0.7245\t = Validation accuracy score\n",
            "\t0.88s\t = Training runtime\n",
            "\t0.05s\t = Validation runtime\n",
            "Fitting model: NeuralNetClassifier_STACKER_l0 ...\n",
            "\t0.4286\t = Validation accuracy score\n",
            "\t1.65s\t = Training runtime\n",
            "\t0.08s\t = Validation runtime\n",
            "Fitting model: weighted_ensemble_k0_l1 ...\n",
            "\t0.7245\t = Validation accuracy score\n",
            "\t0.15s\t = Training runtime\n",
            "\t0.0s\t = Validation runtime\n",
            "AutoGluon training complete, total runtime = 3.41s ...\n"
          ],
          "name": "stderr"
        }
      ]
    },
    {
      "cell_type": "code",
      "metadata": {
        "id": "Hgk413KxiljS",
        "colab_type": "code",
        "colab": {
          "base_uri": "https://localhost:8080/",
          "height": 937
        },
        "outputId": "7960b308-dd2a-4690-8903-e454afdeb768"
      },
      "source": [
        "predictor.fit_summary()"
      ],
      "execution_count": null,
      "outputs": [
        {
          "output_type": "stream",
          "text": [
            "*** Summary of fit() ***\n",
            "Estimated performance of each model:\n",
            "                            model  score_val  pred_time_val  fit_time  pred_time_val_marginal  fit_time_marginal  stack_level  can_infer\n",
            "0   LightGBMClassifier_STACKER_l0   0.724490       0.049734  0.875940                0.049734           0.875940            0       True\n",
            "1         weighted_ensemble_k0_l1   0.724490       0.051375  1.029071                0.001641           0.153131            1       True\n",
            "2  NeuralNetClassifier_STACKER_l0   0.428571       0.084949  1.649934                0.084949           1.649934            0       True\n",
            "Number of models trained: 3\n",
            "Types of models trained:\n",
            "{'StackerEnsembleModel_LGB', 'WeightedEnsembleModel', 'StackerEnsembleModel_TabularNeuralNet'}\n",
            "Bagging used: True  (with 4 folds)\n",
            "Stack-ensembling used: False \n",
            "Hyperparameter-tuning used: False \n",
            "User-specified hyperparameters:\n",
            "{'default': {'NN': [{'num_epochs': 5}], 'GBM': [{'num_boost_round': 100}]}}\n",
            "Plot summary of models saved to file: AutogluonModels/ag-20200725_103503/SummaryOfModels.html\n",
            "*** End of fit() summary ***\n"
          ],
          "name": "stdout"
        },
        {
          "output_type": "execute_result",
          "data": {
            "text/plain": [
              "{'feature_prune': False,\n",
              " 'hyperparameter_tune': False,\n",
              " 'hyperparameters_userspecified': {'default': {'GBM': [{'num_boost_round': 100}],\n",
              "   'NN': [{'num_epochs': 5}]}},\n",
              " 'leaderboard':                             model  score_val  ...  stack_level  can_infer\n",
              " 0   LightGBMClassifier_STACKER_l0   0.724490  ...            0       True\n",
              " 1         weighted_ensemble_k0_l1   0.724490  ...            1       True\n",
              " 2  NeuralNetClassifier_STACKER_l0   0.428571  ...            0       True\n",
              " \n",
              " [3 rows x 8 columns],\n",
              " 'model_best': 'weighted_ensemble_k0_l1',\n",
              " 'model_fit_times': {'LightGBMClassifier_STACKER_l0': 0.8759400844573975,\n",
              "  'NeuralNetClassifier_STACKER_l0': 1.6499340534210205,\n",
              "  'weighted_ensemble_k0_l1': 0.15313076972961426},\n",
              " 'model_hyperparams': {'LightGBMClassifier_STACKER_l0': {'max_models': 25,\n",
              "   'max_models_per_type': 5},\n",
              "  'NeuralNetClassifier_STACKER_l0': {'max_models': 25,\n",
              "   'max_models_per_type': 5},\n",
              "  'weighted_ensemble_k0_l1': {'max_models': 25, 'max_models_per_type': 5}},\n",
              " 'model_paths': {'LightGBMClassifier_STACKER_l0': 'AutogluonModels/ag-20200725_103503/models/LightGBMClassifier_STACKER_l0/',\n",
              "  'NeuralNetClassifier_STACKER_l0': 'AutogluonModels/ag-20200725_103503/models/NeuralNetClassifier_STACKER_l0/',\n",
              "  'weighted_ensemble_k0_l1': 'AutogluonModels/ag-20200725_103503/models/weighted_ensemble_k0_l1/'},\n",
              " 'model_performance': {'LightGBMClassifier_STACKER_l0': 0.7244897959183674,\n",
              "  'NeuralNetClassifier_STACKER_l0': 0.42857142857142855,\n",
              "  'weighted_ensemble_k0_l1': 0.7244897959183674},\n",
              " 'model_pred_times': {'LightGBMClassifier_STACKER_l0': 0.04973411560058594,\n",
              "  'NeuralNetClassifier_STACKER_l0': 0.08494925498962402,\n",
              "  'weighted_ensemble_k0_l1': 0.0016405582427978516},\n",
              " 'model_types': {'LightGBMClassifier_STACKER_l0': 'StackerEnsembleModel_LGB',\n",
              "  'NeuralNetClassifier_STACKER_l0': 'StackerEnsembleModel_TabularNeuralNet',\n",
              "  'weighted_ensemble_k0_l1': 'WeightedEnsembleModel'},\n",
              " 'num_bagging_folds': 4,\n",
              " 'num_classes': 5,\n",
              " 'stack_ensemble_levels': 0}"
            ]
          },
          "metadata": {
            "tags": []
          },
          "execution_count": 15
        }
      ]
    },
    {
      "cell_type": "markdown",
      "metadata": {
        "id": "mZ7vYcQNi5hI",
        "colab_type": "text"
      },
      "source": [
        "## 最大限のパフォーマンスを出したい場合(全てAutogluonに決めてもらう方が良い)"
      ]
    },
    {
      "cell_type": "code",
      "metadata": {
        "id": "lvtWiz8Viupu",
        "colab_type": "code",
        "colab": {
          "base_uri": "https://localhost:8080/",
          "height": 1000
        },
        "outputId": "9020e001-1356-4aef-947c-9dc46be6d29a"
      },
      "source": [
        "long_time = 60 # for quick demonstration only, you should set this to longest time you are willing to wait\n",
        "predictor = task.fit(train_data=train_td.head(100), tuning_data=val_td.head(100), label=label_col,\n",
        "                     auto_stack=True, time_limits=long_time)"
      ],
      "execution_count": null,
      "outputs": [
        {
          "output_type": "stream",
          "text": [
            "No output_directory specified. Models will be saved in: AutogluonModels/ag-20200725_103734/\n",
            "Beginning AutoGluon training ... Time limit = 60s\n",
            "AutoGluon will save models to AutogluonModels/ag-20200725_103734/\n",
            "AutoGluon Version:  0.0.12\n",
            "Train Data Rows:    100\n",
            "Train Data Columns: 55\n",
            "Tuning Data Rows:    100\n",
            "Tuning Data Columns: 55\n",
            "Preprocessing data ...\n",
            "Here are the 5 unique label values in your data:  [1, 2, 0, 5, 6]\n",
            "AutoGluon infers your prediction problem is: multiclass  (because dtype of label-column == int, but few unique label-values observed).\n",
            "If this is wrong, please specify `problem_type` argument in fit() instead (You may specify problem_type as one of: ['binary', 'multiclass', 'regression'])\n",
            "\n",
            "Warning: Updated label_count_threshold from 10 to 4 to avoid cutting too many classes.\n",
            "Warning: Updated num_bagging_folds from 5 to 4 to avoid cutting too many classes.\n",
            "Train Data Class Count: 5\n",
            "Feature Generator processed 196 data points with 41 features\n",
            "Original Features (raw dtypes):\n",
            "\tfloat64 features: 41\n",
            "Original Features (inferred dtypes):\n",
            "\tfloat features: 41\n",
            "Generated Features (special dtypes):\n",
            "Final Features (raw dtypes):\n",
            "\tfloat features: 41\n",
            "Final Features:\n",
            "\tfloat features: 41\n",
            "\tData preprocessing and feature engineering runtime = 0.26s ...\n",
            "AutoGluon will gauge predictive performance using evaluation metric: accuracy\n",
            "To change this, specify the eval_metric argument of fit()\n",
            "AutoGluon will early stop models using evaluation metric: accuracy\n",
            "Warning: Training AutoGluon in Bagged Mode but X_val is specified, concatenating X_train and X_val for cross-validation\n",
            "Fitting model: RandomForestClassifierGini_STACKER_l0 ... Training model for up to 59.74s of the 59.74s of remaining time.\n",
            "\t0.7245\t = Validation accuracy score\n",
            "\t3.78s\t = Training runtime\n",
            "\t0.77s\t = Validation runtime\n",
            "Fitting model: RandomForestClassifierEntr_STACKER_l0 ... Training model for up to 54.97s of the 54.96s of remaining time.\n",
            "\t0.7143\t = Validation accuracy score\n",
            "\t3.9s\t = Training runtime\n",
            "\t0.77s\t = Validation runtime\n",
            "Fitting model: ExtraTreesClassifierGini_STACKER_l0 ... Training model for up to 50.04s of the 50.04s of remaining time.\n",
            "\t0.6786\t = Validation accuracy score\n",
            "\t3.14s\t = Training runtime\n",
            "\t0.87s\t = Validation runtime\n",
            "Fitting model: ExtraTreesClassifierEntr_STACKER_l0 ... Training model for up to 45.76s of the 45.76s of remaining time.\n",
            "\t0.699\t = Validation accuracy score\n",
            "\t3.13s\t = Training runtime\n",
            "\t0.87s\t = Validation runtime\n",
            "Fitting model: KNeighborsClassifierUnif_STACKER_l0 ... Training model for up to 41.36s of the 41.36s of remaining time.\n",
            "\t0.5357\t = Validation accuracy score\n",
            "\t0.12s\t = Training runtime\n",
            "\t0.51s\t = Validation runtime\n",
            "Fitting model: KNeighborsClassifierDist_STACKER_l0 ... Training model for up to 40.51s of the 40.51s of remaining time.\n",
            "\t0.5408\t = Validation accuracy score\n",
            "\t0.11s\t = Training runtime\n",
            "\t0.51s\t = Validation runtime\n",
            "Fitting model: LightGBMClassifier_STACKER_l0 ... Training model for up to 39.78s of the 39.78s of remaining time.\n",
            "\t0.7245\t = Validation accuracy score\n",
            "\t1.27s\t = Training runtime\n",
            "\t0.06s\t = Validation runtime\n",
            "Fitting model: CatboostClassifier_STACKER_l0 ... Training model for up to 38.15s of the 38.15s of remaining time.\n",
            "\t0.7347\t = Validation accuracy score\n",
            "\t5.35s\t = Training runtime\n",
            "\t0.05s\t = Validation runtime\n",
            "Fitting model: NeuralNetClassifier_STACKER_l0 ... Training model for up to 32.67s of the 32.66s of remaining time.\n",
            "\t0.7041\t = Validation accuracy score\n",
            "\t11.96s\t = Training runtime\n",
            "\t0.08s\t = Validation runtime\n",
            "Fitting model: LightGBMClassifierCustom_STACKER_l0 ... Training model for up to 20.47s of the 20.47s of remaining time.\n",
            "\t0.7398\t = Validation accuracy score\n",
            "\t3.24s\t = Training runtime\n",
            "\t0.05s\t = Validation runtime\n",
            "Completed 1/20 k-fold bagging repeats ...\n",
            "Fitting model: weighted_ensemble_k0_l1 ... Training model for up to 59.74s of the 16.83s of remaining time.\n",
            "\t0.7398\t = Validation accuracy score\n",
            "\t0.79s\t = Training runtime\n",
            "\t0.0s\t = Validation runtime\n",
            "AutoGluon training complete, total runtime = 44.08s ...\n"
          ],
          "name": "stderr"
        }
      ]
    },
    {
      "cell_type": "code",
      "metadata": {
        "id": "gA4ZTBgijKWT",
        "colab_type": "code",
        "colab": {}
      },
      "source": [
        ""
      ],
      "execution_count": null,
      "outputs": []
    }
  ]
}