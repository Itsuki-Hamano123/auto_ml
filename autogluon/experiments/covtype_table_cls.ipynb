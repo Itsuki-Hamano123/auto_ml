{
  "nbformat": 4,
  "nbformat_minor": 0,
  "metadata": {
    "colab": {
      "name": "covtype_table_cls.ipynb",
      "provenance": [],
      "collapsed_sections": [],
      "toc_visible": true,
      "authorship_tag": "ABX9TyMLmTkg3GPGanWQ7mF/MMKB",
      "include_colab_link": true
    },
    "kernelspec": {
      "name": "python3",
      "display_name": "Python 3"
    },
    "accelerator": "GPU"
  },
  "cells": [
    {
      "cell_type": "markdown",
      "metadata": {
        "id": "view-in-github",
        "colab_type": "text"
      },
      "source": [
        "<a href=\"https://colab.research.google.com/github/Itsuki-Hamano123/auto_ml/blob/master/autogluon/experiments/covtype_table_cls.ipynb\" target=\"_parent\"><img src=\"https://colab.research.google.com/assets/colab-badge.svg\" alt=\"Open In Colab\"/></a>"
      ]
    },
    {
      "cell_type": "code",
      "metadata": {
        "id": "2zfaGeuq36iI",
        "colab_type": "code",
        "colab": {
          "base_uri": "https://localhost:8080/",
          "height": 1000
        },
        "outputId": "7076e6c7-16d1-4e0c-a0a1-750e0c3e0a8e"
      },
      "source": [
        "%pip install scikit-learn==0.23.1\n",
        "%pip install --upgrade mxnet-cu101\n",
        "%pip install autogluon"
      ],
      "execution_count": null,
      "outputs": [
        {
          "output_type": "stream",
          "text": [
            "Collecting scikit-learn==0.23.1\n",
            "  Using cached https://files.pythonhosted.org/packages/d9/3a/eb8d7bbe28f4787d140bb9df685b7d5bf6115c0e2a969def4027144e98b6/scikit_learn-0.23.1-cp36-cp36m-manylinux1_x86_64.whl\n",
            "Requirement already satisfied: threadpoolctl>=2.0.0 in /usr/local/lib/python3.6/dist-packages (from scikit-learn==0.23.1) (2.1.0)\n",
            "Requirement already satisfied: numpy>=1.13.3 in /usr/local/lib/python3.6/dist-packages (from scikit-learn==0.23.1) (1.18.5)\n",
            "Requirement already satisfied: joblib>=0.11 in /usr/local/lib/python3.6/dist-packages (from scikit-learn==0.23.1) (0.16.0)\n",
            "Requirement already satisfied: scipy>=0.19.1 in /usr/local/lib/python3.6/dist-packages (from scikit-learn==0.23.1) (1.4.1)\n",
            "\u001b[31mERROR: autogluon 0.0.12 has requirement scikit-learn<0.23,>=0.22.0, but you'll have scikit-learn 0.23.1 which is incompatible.\u001b[0m\n",
            "Installing collected packages: scikit-learn\n",
            "  Found existing installation: scikit-learn 0.22.2.post1\n",
            "    Uninstalling scikit-learn-0.22.2.post1:\n",
            "      Successfully uninstalled scikit-learn-0.22.2.post1\n",
            "Successfully installed scikit-learn-0.23.1\n",
            "Requirement already up-to-date: mxnet-cu101 in /usr/local/lib/python3.6/dist-packages (1.6.0)\n",
            "Requirement already satisfied, skipping upgrade: numpy<2.0.0,>1.16.0 in /usr/local/lib/python3.6/dist-packages (from mxnet-cu101) (1.18.5)\n",
            "Requirement already satisfied, skipping upgrade: graphviz<0.9.0,>=0.8.1 in /usr/local/lib/python3.6/dist-packages (from mxnet-cu101) (0.8.4)\n",
            "Requirement already satisfied, skipping upgrade: requests<3,>=2.20.0 in /usr/local/lib/python3.6/dist-packages (from mxnet-cu101) (2.23.0)\n",
            "Requirement already satisfied, skipping upgrade: idna<3,>=2.5 in /usr/local/lib/python3.6/dist-packages (from requests<3,>=2.20.0->mxnet-cu101) (2.10)\n",
            "Requirement already satisfied, skipping upgrade: urllib3!=1.25.0,!=1.25.1,<1.26,>=1.21.1 in /usr/local/lib/python3.6/dist-packages (from requests<3,>=2.20.0->mxnet-cu101) (1.24.3)\n",
            "Requirement already satisfied, skipping upgrade: certifi>=2017.4.17 in /usr/local/lib/python3.6/dist-packages (from requests<3,>=2.20.0->mxnet-cu101) (2020.6.20)\n",
            "Requirement already satisfied, skipping upgrade: chardet<4,>=3.0.2 in /usr/local/lib/python3.6/dist-packages (from requests<3,>=2.20.0->mxnet-cu101) (3.0.4)\n",
            "Requirement already satisfied: autogluon in /usr/local/lib/python3.6/dist-packages (0.0.12)\n",
            "Requirement already satisfied: distributed>=2.6.0 in /usr/local/lib/python3.6/dist-packages (from autogluon) (2.21.0)\n",
            "Requirement already satisfied: openml in /usr/local/lib/python3.6/dist-packages (from autogluon) (0.10.2)\n",
            "Requirement already satisfied: matplotlib in /usr/local/lib/python3.6/dist-packages (from autogluon) (3.2.2)\n",
            "Requirement already satisfied: graphviz in /usr/local/lib/python3.6/dist-packages (from autogluon) (0.8.4)\n",
            "Requirement already satisfied: tornado>=5.0.1 in /usr/local/lib/python3.6/dist-packages (from autogluon) (5.1.1)\n",
            "Requirement already satisfied: gluoncv<1.0,>=0.5.0 in /usr/local/lib/python3.6/dist-packages (from autogluon) (0.7.0)\n",
            "Requirement already satisfied: cryptography>=2.8 in /usr/local/lib/python3.6/dist-packages (from autogluon) (3.0)\n",
            "Requirement already satisfied: requests in /usr/local/lib/python3.6/dist-packages (from autogluon) (2.23.0)\n",
            "Requirement already satisfied: numpy>=1.16.0 in /usr/local/lib/python3.6/dist-packages (from autogluon) (1.18.5)\n",
            "Requirement already satisfied: cython in /usr/local/lib/python3.6/dist-packages (from autogluon) (0.29.21)\n",
            "Requirement already satisfied: dask>=2.6.0 in /usr/local/lib/python3.6/dist-packages (from autogluon) (2.12.0)\n",
            "Requirement already satisfied: psutil>=5.0.0 in /usr/local/lib/python3.6/dist-packages (from autogluon) (5.4.8)\n",
            "Requirement already satisfied: pytest in /usr/local/lib/python3.6/dist-packages (from autogluon) (3.6.4)\n",
            "Collecting scikit-learn<0.23,>=0.22.0\n",
            "  Using cached https://files.pythonhosted.org/packages/5e/d8/312e03adf4c78663e17d802fe2440072376fee46cada1404f1727ed77a32/scikit_learn-0.22.2.post1-cp36-cp36m-manylinux1_x86_64.whl\n",
            "Requirement already satisfied: lightgbm<3.0,>=2.3.0 in /usr/local/lib/python3.6/dist-packages (from autogluon) (2.3.1)\n",
            "Requirement already satisfied: scipy>=1.3.3 in /usr/local/lib/python3.6/dist-packages (from autogluon) (1.4.1)\n",
            "Requirement already satisfied: Pillow<=6.2.1 in /usr/local/lib/python3.6/dist-packages (from autogluon) (6.2.1)\n",
            "Requirement already satisfied: pandas<1.0,>=0.24.0 in /usr/local/lib/python3.6/dist-packages (from autogluon) (0.25.3)\n",
            "Requirement already satisfied: networkx<3.0,>=2.3 in /usr/local/lib/python3.6/dist-packages (from autogluon) (2.4)\n",
            "Requirement already satisfied: catboost<0.24 in /usr/local/lib/python3.6/dist-packages (from autogluon) (0.23.2)\n",
            "Requirement already satisfied: boto3 in /usr/local/lib/python3.6/dist-packages (from autogluon) (1.14.24)\n",
            "Requirement already satisfied: paramiko>=2.4 in /usr/local/lib/python3.6/dist-packages (from autogluon) (2.7.1)\n",
            "Requirement already satisfied: ConfigSpace<=0.4.10 in /usr/local/lib/python3.6/dist-packages (from autogluon) (0.4.10)\n",
            "Requirement already satisfied: scikit-optimize in /usr/local/lib/python3.6/dist-packages (from autogluon) (0.7.4)\n",
            "Requirement already satisfied: tqdm>=4.38.0 in /usr/local/lib/python3.6/dist-packages (from autogluon) (4.41.1)\n",
            "Requirement already satisfied: toolz>=0.8.2 in /usr/local/lib/python3.6/dist-packages (from distributed>=2.6.0->autogluon) (0.10.0)\n",
            "Requirement already satisfied: click>=6.6 in /usr/local/lib/python3.6/dist-packages (from distributed>=2.6.0->autogluon) (7.1.2)\n",
            "Requirement already satisfied: tblib>=1.6.0 in /usr/local/lib/python3.6/dist-packages (from distributed>=2.6.0->autogluon) (1.6.0)\n",
            "Requirement already satisfied: zict>=0.1.3 in /usr/local/lib/python3.6/dist-packages (from distributed>=2.6.0->autogluon) (2.0.0)\n",
            "Requirement already satisfied: msgpack>=0.6.0 in /usr/local/lib/python3.6/dist-packages (from distributed>=2.6.0->autogluon) (1.0.0)\n",
            "Requirement already satisfied: pyyaml in /usr/local/lib/python3.6/dist-packages (from distributed>=2.6.0->autogluon) (3.13)\n",
            "Requirement already satisfied: setuptools in /usr/local/lib/python3.6/dist-packages (from distributed>=2.6.0->autogluon) (49.1.0)\n",
            "Requirement already satisfied: cloudpickle>=1.5.0 in /usr/local/lib/python3.6/dist-packages (from distributed>=2.6.0->autogluon) (1.5.0)\n",
            "Requirement already satisfied: contextvars; python_version < \"3.7\" in /usr/local/lib/python3.6/dist-packages (from distributed>=2.6.0->autogluon) (2.4)\n",
            "Requirement already satisfied: sortedcontainers!=2.0.0,!=2.0.1 in /usr/local/lib/python3.6/dist-packages (from distributed>=2.6.0->autogluon) (2.2.2)\n",
            "Requirement already satisfied: xmltodict in /usr/local/lib/python3.6/dist-packages (from openml->autogluon) (0.12.0)\n",
            "Requirement already satisfied: liac-arff>=2.4.0 in /usr/local/lib/python3.6/dist-packages (from openml->autogluon) (2.4.0)\n",
            "Requirement already satisfied: python-dateutil in /usr/local/lib/python3.6/dist-packages (from openml->autogluon) (2.8.1)\n",
            "Requirement already satisfied: cycler>=0.10 in /usr/local/lib/python3.6/dist-packages (from matplotlib->autogluon) (0.10.0)\n",
            "Requirement already satisfied: pyparsing!=2.0.4,!=2.1.2,!=2.1.6,>=2.0.1 in /usr/local/lib/python3.6/dist-packages (from matplotlib->autogluon) (2.4.7)\n",
            "Requirement already satisfied: kiwisolver>=1.0.1 in /usr/local/lib/python3.6/dist-packages (from matplotlib->autogluon) (1.2.0)\n",
            "Requirement already satisfied: portalocker in /usr/local/lib/python3.6/dist-packages (from gluoncv<1.0,>=0.5.0->autogluon) (1.7.1)\n",
            "Requirement already satisfied: cffi!=1.11.3,>=1.8 in /usr/local/lib/python3.6/dist-packages (from cryptography>=2.8->autogluon) (1.14.0)\n",
            "Requirement already satisfied: six>=1.4.1 in /usr/local/lib/python3.6/dist-packages (from cryptography>=2.8->autogluon) (1.15.0)\n",
            "Requirement already satisfied: idna<3,>=2.5 in /usr/local/lib/python3.6/dist-packages (from requests->autogluon) (2.10)\n",
            "Requirement already satisfied: chardet<4,>=3.0.2 in /usr/local/lib/python3.6/dist-packages (from requests->autogluon) (3.0.4)\n",
            "Requirement already satisfied: urllib3!=1.25.0,!=1.25.1,<1.26,>=1.21.1 in /usr/local/lib/python3.6/dist-packages (from requests->autogluon) (1.24.3)\n",
            "Requirement already satisfied: certifi>=2017.4.17 in /usr/local/lib/python3.6/dist-packages (from requests->autogluon) (2020.6.20)\n",
            "Requirement already satisfied: attrs>=17.4.0 in /usr/local/lib/python3.6/dist-packages (from pytest->autogluon) (19.3.0)\n",
            "Requirement already satisfied: atomicwrites>=1.0 in /usr/local/lib/python3.6/dist-packages (from pytest->autogluon) (1.4.0)\n",
            "Requirement already satisfied: more-itertools>=4.0.0 in /usr/local/lib/python3.6/dist-packages (from pytest->autogluon) (8.4.0)\n",
            "Requirement already satisfied: pluggy<0.8,>=0.5 in /usr/local/lib/python3.6/dist-packages (from pytest->autogluon) (0.7.1)\n",
            "Requirement already satisfied: py>=1.5.0 in /usr/local/lib/python3.6/dist-packages (from pytest->autogluon) (1.9.0)\n",
            "Requirement already satisfied: joblib>=0.11 in /usr/local/lib/python3.6/dist-packages (from scikit-learn<0.23,>=0.22.0->autogluon) (0.16.0)\n",
            "Requirement already satisfied: pytz>=2017.2 in /usr/local/lib/python3.6/dist-packages (from pandas<1.0,>=0.24.0->autogluon) (2018.9)\n",
            "Requirement already satisfied: decorator>=4.3.0 in /usr/local/lib/python3.6/dist-packages (from networkx<3.0,>=2.3->autogluon) (4.4.2)\n",
            "Requirement already satisfied: plotly in /usr/local/lib/python3.6/dist-packages (from catboost<0.24->autogluon) (4.4.1)\n",
            "Requirement already satisfied: botocore<1.18.0,>=1.17.24 in /usr/local/lib/python3.6/dist-packages (from boto3->autogluon) (1.17.24)\n",
            "Requirement already satisfied: s3transfer<0.4.0,>=0.3.0 in /usr/local/lib/python3.6/dist-packages (from boto3->autogluon) (0.3.3)\n",
            "Requirement already satisfied: jmespath<1.0.0,>=0.7.1 in /usr/local/lib/python3.6/dist-packages (from boto3->autogluon) (0.10.0)\n",
            "Requirement already satisfied: bcrypt>=3.1.3 in /usr/local/lib/python3.6/dist-packages (from paramiko>=2.4->autogluon) (3.1.7)\n",
            "Requirement already satisfied: pynacl>=1.0.1 in /usr/local/lib/python3.6/dist-packages (from paramiko>=2.4->autogluon) (1.4.0)\n",
            "Requirement already satisfied: typing in /usr/local/lib/python3.6/dist-packages (from ConfigSpace<=0.4.10->autogluon) (3.7.4.3)\n",
            "Requirement already satisfied: pyaml>=16.9 in /usr/local/lib/python3.6/dist-packages (from scikit-optimize->autogluon) (20.4.0)\n",
            "Requirement already satisfied: heapdict in /usr/local/lib/python3.6/dist-packages (from zict>=0.1.3->distributed>=2.6.0->autogluon) (1.0.1)\n",
            "Requirement already satisfied: immutables>=0.9 in /usr/local/lib/python3.6/dist-packages (from contextvars; python_version < \"3.7\"->distributed>=2.6.0->autogluon) (0.14)\n",
            "Requirement already satisfied: pycparser in /usr/local/lib/python3.6/dist-packages (from cffi!=1.11.3,>=1.8->cryptography>=2.8->autogluon) (2.20)\n",
            "Requirement already satisfied: retrying>=1.3.3 in /usr/local/lib/python3.6/dist-packages (from plotly->catboost<0.24->autogluon) (1.3.3)\n",
            "Requirement already satisfied: docutils<0.16,>=0.10 in /usr/local/lib/python3.6/dist-packages (from botocore<1.18.0,>=1.17.24->boto3->autogluon) (0.15.2)\n",
            "Installing collected packages: scikit-learn\n",
            "  Found existing installation: scikit-learn 0.23.1\n",
            "    Uninstalling scikit-learn-0.23.1:\n",
            "      Successfully uninstalled scikit-learn-0.23.1\n",
            "Successfully installed scikit-learn-0.22.2.post1\n"
          ],
          "name": "stdout"
        }
      ]
    },
    {
      "cell_type": "code",
      "metadata": {
        "id": "_BF8XziN5c37",
        "colab_type": "code",
        "colab": {
          "base_uri": "https://localhost:8080/",
          "height": 145
        },
        "outputId": "aa34824c-c782-477e-bb18-88d2a029c0c2"
      },
      "source": [
        "from google.colab import drive\n",
        "drive.mount('/gdrive')\n",
        "%cd /gdrive"
      ],
      "execution_count": null,
      "outputs": [
        {
          "output_type": "stream",
          "text": [
            "Go to this URL in a browser: https://accounts.google.com/o/oauth2/auth?client_id=947318989803-6bn6qk8qdgf4n4g3pfee6491hc0brc4i.apps.googleusercontent.com&redirect_uri=urn%3aietf%3awg%3aoauth%3a2.0%3aoob&response_type=code&scope=email%20https%3a%2f%2fwww.googleapis.com%2fauth%2fdocs.test%20https%3a%2f%2fwww.googleapis.com%2fauth%2fdrive%20https%3a%2f%2fwww.googleapis.com%2fauth%2fdrive.photos.readonly%20https%3a%2f%2fwww.googleapis.com%2fauth%2fpeopleapi.readonly\n",
            "\n",
            "Enter your authorization code:\n",
            "··········\n",
            "Mounted at /gdrive\n",
            "/gdrive\n"
          ],
          "name": "stdout"
        }
      ]
    },
    {
      "cell_type": "code",
      "metadata": {
        "id": "baIDlzNO5agJ",
        "colab_type": "code",
        "colab": {
          "base_uri": "https://localhost:8080/",
          "height": 71
        },
        "outputId": "3e4ae5b9-b4b7-4188-bf8a-2fd811715176"
      },
      "source": [
        "%cd /gdrive/My Drive/機械学習練習/AutoML/AutoGluon/experiments\n",
        "%ls"
      ],
      "execution_count": null,
      "outputs": [
        {
          "output_type": "stream",
          "text": [
            "/gdrive/My Drive/機械学習練習/AutoML/AutoGluon/experiments\n",
            "\u001b[0m\u001b[01;34mAutogluonModels\u001b[0m/         \u001b[01;34mdask-worker-space\u001b[0m/  \u001b[01;34mmodels\u001b[0m/\n",
            "covtype_table_cls.ipynb  \u001b[01;34mdataset\u001b[0m/            sample_table_cls.ipynb\n"
          ],
          "name": "stdout"
        }
      ]
    },
    {
      "cell_type": "markdown",
      "metadata": {
        "id": "dXr2e3hPjZ2c",
        "colab_type": "text"
      },
      "source": [
        "# Predicting Columns in a Table - In Depth\n",
        "テーブルデータを使った予測の練習[https://autogluon.mxnet.io/tutorials/tabular_prediction/tabular-indepth.html]([https://autogluon.mxnet.io/tutorials/tabular_prediction/tabular-indepth.html)"
      ]
    },
    {
      "cell_type": "code",
      "metadata": {
        "id": "frKFiXIS6iAJ",
        "colab_type": "code",
        "colab": {}
      },
      "source": [
        "import datetime, os\n",
        "\n",
        "import numpy as np\n",
        "import pandas as pd\n",
        "\n",
        "import autogluon as ag\n",
        "from autogluon import TabularPrediction as task\n",
        "from autogluon.task.tabular_prediction import TabularDataset\n",
        "from sklearn.datasets import fetch_covtype\n",
        "from sklearn.model_selection import train_test_split"
      ],
      "execution_count": null,
      "outputs": []
    },
    {
      "cell_type": "markdown",
      "metadata": {
        "id": "eLZNrf4EFfNi",
        "colab_type": "text"
      },
      "source": [
        "## データの読み込み"
      ]
    },
    {
      "cell_type": "code",
      "metadata": {
        "id": "-XTsvpMHALDy",
        "colab_type": "code",
        "colab": {
          "base_uri": "https://localhost:8080/",
          "height": 107
        },
        "outputId": "badc18f2-4724-4079-ee71-7d2e55167bb6"
      },
      "source": [
        "SEED = 2\n",
        "\n",
        "fetch_data = fetch_covtype(random_state=SEED)\n",
        "\n",
        "train_X, test_X, train_y, test_y = train_test_split(fetch_data.data, fetch_data.target-1,\n",
        "                                                    test_size=0.2, random_state=SEED)\n",
        "train_X, val_X, train_y, val_y = train_test_split(train_X, train_y, \n",
        "                                                  test_size=0.2, random_state=SEED)\n",
        "print('train_X:{}, train_y:{}'.format(train_X.shape, train_y.shape))\n",
        "print('val_X:{}, val_y:{}'.format(val_X.shape, val_y.shape))\n",
        "print('test_X:{}, test_y:{}'.format(test_X.shape, test_y.shape))\n",
        "\n",
        "label_col = 'class'\n",
        "f_cols = []\n",
        "for i in range(train_X.shape[1]):\n",
        "  f_cols.append('f_'+str(i+1))"
      ],
      "execution_count": null,
      "outputs": [
        {
          "output_type": "stream",
          "text": [
            "Downloading https://ndownloader.figshare.com/files/5976039\n",
            "Downloading https://ndownloader.figshare.com/files/5976039\n"
          ],
          "name": "stderr"
        },
        {
          "output_type": "stream",
          "text": [
            "train_X:(371847, 54), train_y:(371847,)\n",
            "val_X:(92962, 54), val_y:(92962,)\n",
            "test_X:(116203, 54), test_y:(116203,)\n"
          ],
          "name": "stdout"
        }
      ]
    },
    {
      "cell_type": "markdown",
      "metadata": {
        "id": "vNoLwI0fJImI",
        "colab_type": "text"
      },
      "source": [
        "### モデルの入力形式に合わせたデータの変型"
      ]
    },
    {
      "cell_type": "code",
      "metadata": {
        "id": "rzAde1ZKGM4V",
        "colab_type": "code",
        "colab": {}
      },
      "source": [
        "def convert_to_TabularDataset(X, y, f_cols, y_col):\n",
        "  df = pd.DataFrame(data=X,columns=f_cols)\n",
        "  df.insert(loc=0, column=y_col, value=y)\n",
        "  return TabularDataset(df = df)"
      ],
      "execution_count": null,
      "outputs": []
    },
    {
      "cell_type": "code",
      "metadata": {
        "id": "AFVQJbQQIv6V",
        "colab_type": "code",
        "colab": {
          "base_uri": "https://localhost:8080/",
          "height": 35
        },
        "outputId": "31058704-baa9-493e-ed56-086417601369"
      },
      "source": [
        "train_td = convert_to_TabularDataset(train_X, train_y, f_cols, label_col)\n",
        "val_td = convert_to_TabularDataset(val_X, val_y, f_cols, label_col)\n",
        "test_td = convert_to_TabularDataset(test_X, test_y, f_cols, label_col)\n",
        "print('データの型:{}'.format(type(train_td)))"
      ],
      "execution_count": null,
      "outputs": [
        {
          "output_type": "stream",
          "text": [
            "データの型:<class 'autogluon.task.tabular_prediction.dataset.TabularDataset'>\n"
          ],
          "name": "stdout"
        }
      ]
    },
    {
      "cell_type": "markdown",
      "metadata": {
        "id": "Nb-jkB0zFXHk",
        "colab_type": "text"
      },
      "source": [
        "## ベストなモデルを探索する"
      ]
    },
    {
      "cell_type": "markdown",
      "metadata": {
        "id": "sYHIHt27L5OB",
        "colab_type": "text"
      },
      "source": [
        "### 実験の詳細を指定"
      ]
    },
    {
      "cell_type": "code",
      "metadata": {
        "id": "q4V2MaauL3hn",
        "colab_type": "code",
        "colab": {}
      },
      "source": [
        "# 実験の最大許容時間の設定\n",
        "time_limits = 300  #@param {type: \"number\"}\n",
        "\n",
        "# 訓練後のモデル出力先\n",
        "output_directory = 'models'\n",
        "model_name = 'table_cls' + datetime.datetime.now().strftime('%Y%m%d%H%M%S')\n",
        "output_model_path = os.path.join(output_directory, model_name)"
      ],
      "execution_count": null,
      "outputs": []
    },
    {
      "cell_type": "code",
      "metadata": {
        "id": "lvtWiz8Viupu",
        "colab_type": "code",
        "colab": {
          "base_uri": "https://localhost:8080/",
          "height": 1000
        },
        "outputId": "050b415a-eda4-44cc-98de-d2514e29314f"
      },
      "source": [
        "predictor = task.fit(train_data=train_td, tuning_data=val_td, label=label_col,\n",
        "                     auto_stack=True, # アンサンブルの戦略も自動で行ってほしい場合\n",
        "                     #num_bagging_folds=5, stack_ensemble_levels=1, #決め打ちしたい場合\n",
        "                     time_limits=time_limits)"
      ],
      "execution_count": null,
      "outputs": [
        {
          "output_type": "stream",
          "text": [
            "No output_directory specified. Models will be saved in: AutogluonModels/ag-20200725_143521/\n",
            "Beginning AutoGluon training ... Time limit = 300s\n",
            "AutoGluon will save models to AutogluonModels/ag-20200725_143521/\n",
            "AutoGluon Version:  0.0.12\n",
            "Train Data Rows:    371847\n",
            "Train Data Columns: 55\n",
            "Tuning Data Rows:    92962\n",
            "Tuning Data Columns: 55\n",
            "Preprocessing data ...\n",
            "Here are the 7 unique label values in your data:  [1, 2, 0, 5, 6, 4, 3]\n",
            "AutoGluon infers your prediction problem is: multiclass  (because dtype of label-column == int, but few unique label-values observed).\n",
            "If this is wrong, please specify `problem_type` argument in fit() instead (You may specify problem_type as one of: ['binary', 'multiclass', 'regression'])\n",
            "\n",
            "Train Data Class Count: 7\n",
            "Feature Generator processed 464809 data points with 54 features\n",
            "Original Features (raw dtypes):\n",
            "\tfloat64 features: 54\n",
            "Original Features (inferred dtypes):\n",
            "\tfloat features: 54\n",
            "Generated Features (special dtypes):\n",
            "Final Features (raw dtypes):\n",
            "\tfloat features: 54\n",
            "Final Features:\n",
            "\tfloat features: 54\n",
            "\tData preprocessing and feature engineering runtime = 1.65s ...\n",
            "AutoGluon will gauge predictive performance using evaluation metric: accuracy\n",
            "To change this, specify the eval_metric argument of fit()\n",
            "AutoGluon will early stop models using evaluation metric: accuracy\n",
            "Warning: Training AutoGluon in Bagged Mode but X_val is specified, concatenating X_train and X_val for cross-validation\n",
            "Fitting model: RandomForestClassifierGini_STACKER_l0 ... Training model for up to 149.17s of the 298.35s of remaining time.\n",
            "\tWarning: Model is expected to require 271.1s to train, which exceeds the maximum time limit of 11.9s, skipping model...\n",
            "\tTime limit exceeded... Skipping RandomForestClassifierGini_STACKER_l0.\n",
            "Fitting model: RandomForestClassifierEntr_STACKER_l0 ... Training model for up to 141.45s of the 290.62s of remaining time.\n",
            "\tWarning: Model is expected to require 342.2s to train, which exceeds the maximum time limit of 11.3s, skipping model...\n",
            "\tTime limit exceeded... Skipping RandomForestClassifierEntr_STACKER_l0.\n",
            "Fitting model: ExtraTreesClassifierGini_STACKER_l0 ... Training model for up to 131.85s of the 281.03s of remaining time.\n",
            "\tWarning: Reducing model 'n_estimators' from 300 -> 110 due to low memory. Expected memory usage reduced from 68.0% -> 25.0% of available memory...\n",
            "\tWarning: Model is expected to require 81.5s to train, which exceeds the maximum time limit of 10.5s, skipping model...\n",
            "\tTime limit exceeded... Skipping ExtraTreesClassifierGini_STACKER_l0.\n",
            "Fitting model: ExtraTreesClassifierEntr_STACKER_l0 ... Training model for up to 125.11s of the 274.28s of remaining time.\n",
            "\tWarning: Reducing model 'n_estimators' from 300 -> 110 due to low memory. Expected memory usage reduced from 68.2% -> 25.0% of available memory...\n",
            "\tWarning: Model is expected to require 82.8s to train, which exceeds the maximum time limit of 10.0s, skipping model...\n",
            "\tTime limit exceeded... Skipping ExtraTreesClassifierEntr_STACKER_l0.\n",
            "Fitting model: KNeighborsClassifierUnif_STACKER_l0 ... Training model for up to 118.36s of the 267.53s of remaining time.\n",
            "\tTime limit exceeded... Skipping KNeighborsClassifierUnif_STACKER_l0.\n",
            "Fitting model: KNeighborsClassifierDist_STACKER_l0 ... Training model for up to 104.93s of the 254.1s of remaining time.\n",
            "\tTime limit exceeded... Skipping KNeighborsClassifierDist_STACKER_l0.\n",
            "Fitting model: LightGBMClassifier_STACKER_l0 ... Training model for up to 90.93s of the 240.1s of remaining time.\n",
            "\tRan out of time, early stopping on iteration 15. Best iteration is:\n",
            "\t[15]\ttrain_set's multi_error: 0.228902\tvalid_set's multi_error: 0.231729\n",
            "\tRan out of time, early stopping on iteration 13. Best iteration is:\n",
            "\t[13]\ttrain_set's multi_error: 0.233575\tvalid_set's multi_error: 0.233515\n",
            "\tRan out of time, early stopping on iteration 16. Best iteration is:\n",
            "\t[16]\ttrain_set's multi_error: 0.227398\tvalid_set's multi_error: 0.232288\n",
            "\tRan out of time, early stopping on iteration 16. Best iteration is:\n",
            "\t[16]\ttrain_set's multi_error: 0.228096\tvalid_set's multi_error: 0.232052\n",
            "\tRan out of time, early stopping on iteration 16. Best iteration is:\n",
            "\t[16]\ttrain_set's multi_error: 0.226619\tvalid_set's multi_error: 0.225318\n",
            "\tRan out of time, early stopping on iteration 17. Best iteration is:\n",
            "\t[17]\ttrain_set's multi_error: 0.225598\tvalid_set's multi_error: 0.227319\n",
            "\tRan out of time, early stopping on iteration 17. Best iteration is:\n",
            "\t[17]\ttrain_set's multi_error: 0.226442\tvalid_set's multi_error: 0.230912\n",
            "\tRan out of time, early stopping on iteration 18. Best iteration is:\n",
            "\t[18]\ttrain_set's multi_error: 0.223521\tvalid_set's multi_error: 0.225511\n",
            "\tRan out of time, early stopping on iteration 20. Best iteration is:\n",
            "\t[20]\ttrain_set's multi_error: 0.221235\tvalid_set's multi_error: 0.223704\n",
            "\tRan out of time, early stopping on iteration 22. Best iteration is:\n",
            "\t[22]\ttrain_set's multi_error: 0.217537\tvalid_set's multi_error: 0.219514\n",
            "\t0.7718\t = Validation accuracy score\n",
            "\t85.65s\t = Training runtime\n",
            "\t3.04s\t = Validation runtime\n",
            "Fitting model: CatboostClassifier_STACKER_l0 ... Training model for up to 1.45s of the 150.62s of remaining time.\n",
            "\tTime limit exceeded... Skipping CatboostClassifier_STACKER_l0.\n",
            "Completed 1/20 k-fold bagging repeats ...\n",
            "Fitting model: weighted_ensemble_k0_l1 ... Training model for up to 298.35s of the 148.28s of remaining time.\n",
            "\t0.7718\t = Validation accuracy score\n",
            "\t0.1s\t = Training runtime\n",
            "\t0.07s\t = Validation runtime\n",
            "Fitting model: RandomForestClassifierGini_STACKER_l1 ... Training model for up to 147.77s of the 147.64s of remaining time.\n",
            "\tWarning: Reducing model 'n_estimators' from 300 -> 297 due to low memory. Expected memory usage reduced from 25.2% -> 25.0% of available memory...\n",
            "\tWarning: Model is expected to require 383.5s to train, which exceeds the maximum time limit of 11.8s, skipping model...\n",
            "\tTime limit exceeded... Skipping RandomForestClassifierGini_STACKER_l1.\n",
            "Fitting model: RandomForestClassifierEntr_STACKER_l1 ... Training model for up to 136.76s of the 136.63s of remaining time.\n",
            "\tWarning: Model is expected to require 526.5s to train, which exceeds the maximum time limit of 10.9s, skipping model...\n",
            "\tTime limit exceeded... Skipping RandomForestClassifierEntr_STACKER_l1.\n",
            "Fitting model: ExtraTreesClassifierGini_STACKER_l1 ... Training model for up to 122.22s of the 122.09s of remaining time.\n",
            "\tWarning: Reducing model 'n_estimators' from 300 -> 107 due to low memory. Expected memory usage reduced from 69.6% -> 25.0% of available memory...\n",
            "\tWarning: Model is expected to require 86.1s to train, which exceeds the maximum time limit of 9.8s, skipping model...\n",
            "\tTime limit exceeded... Skipping ExtraTreesClassifierGini_STACKER_l1.\n",
            "Fitting model: ExtraTreesClassifierEntr_STACKER_l1 ... Training model for up to 115.14s of the 115.0s of remaining time.\n",
            "\tWarning: Reducing model 'n_estimators' from 300 -> 108 due to low memory. Expected memory usage reduced from 69.3% -> 25.0% of available memory...\n",
            "\tWarning: Model is expected to require 89.6s to train, which exceeds the maximum time limit of 9.2s, skipping model...\n",
            "\tTime limit exceeded... Skipping ExtraTreesClassifierEntr_STACKER_l1.\n",
            "Fitting model: KNeighborsClassifierUnif_STACKER_l1 ... Training model for up to 107.86s of the 107.73s of remaining time.\n",
            "\tTime limit exceeded... Skipping KNeighborsClassifierUnif_STACKER_l1.\n",
            "Fitting model: KNeighborsClassifierDist_STACKER_l1 ... Training model for up to 91.83s of the 91.69s of remaining time.\n",
            "\tTime limit exceeded... Skipping KNeighborsClassifierDist_STACKER_l1.\n",
            "Fitting model: LightGBMClassifier_STACKER_l1 ... Training model for up to 75.27s of the 75.14s of remaining time.\n",
            "\tRan out of time, early stopping on iteration 9. Best iteration is:\n",
            "\t[9]\ttrain_set's multi_error: 0.207803\tvalid_set's multi_error: 0.21071\n",
            "\tRan out of time, early stopping on iteration 7. Best iteration is:\n",
            "\t[7]\ttrain_set's multi_error: 0.219689\tvalid_set's multi_error: 0.219617\n",
            "\tRan out of time, early stopping on iteration 10. Best iteration is:\n",
            "\t[10]\ttrain_set's multi_error: 0.204301\tvalid_set's multi_error: 0.208838\n",
            "\tRan out of time, early stopping on iteration 10. Best iteration is:\n",
            "\t[10]\ttrain_set's multi_error: 0.203522\tvalid_set's multi_error: 0.209526\n",
            "\tRan out of time, early stopping on iteration 11. Best iteration is:\n",
            "\t[11]\ttrain_set's multi_error: 0.201598\tvalid_set's multi_error: 0.205503\n",
            "\tRan out of time, early stopping on iteration 11. Best iteration is:\n",
            "\t[11]\ttrain_set's multi_error: 0.201098\tvalid_set's multi_error: 0.200318\n",
            "\tRan out of time, early stopping on iteration 11. Best iteration is:\n",
            "\t[11]\ttrain_set's multi_error: 0.201808\tvalid_set's multi_error: 0.205955\n",
            "\tRan out of time, early stopping on iteration 12. Best iteration is:\n",
            "\t[12]\ttrain_set's multi_error: 0.199838\tvalid_set's multi_error: 0.200555\n",
            "\tRan out of time, early stopping on iteration 12. Best iteration is:\n",
            "\t[12]\ttrain_set's multi_error: 0.199062\tvalid_set's multi_error: 0.202169\n",
            "\tRan out of time, early stopping on iteration 15. Best iteration is:\n",
            "\t[15]\ttrain_set's multi_error: 0.195788\tvalid_set's multi_error: 0.194471\n",
            "\t0.7942\t = Validation accuracy score\n",
            "\t71.45s\t = Training runtime\n",
            "\t1.76s\t = Validation runtime\n",
            "Fitting model: CatboostClassifier_STACKER_l1 ... Training model for up to 1.35s of the 1.21s of remaining time.\n",
            "\tTime limit exceeded... Skipping CatboostClassifier_STACKER_l1.\n",
            "Completed 1/20 k-fold bagging repeats ...\n",
            "Fitting model: weighted_ensemble_k0_l2 ... Training model for up to 298.35s of the -1.36s of remaining time.\n",
            "\t0.7942\t = Validation accuracy score\n",
            "\t0.1s\t = Training runtime\n",
            "\t0.07s\t = Validation runtime\n",
            "AutoGluon training complete, total runtime = 302.73s ...\n"
          ],
          "name": "stderr"
        }
      ]
    },
    {
      "cell_type": "markdown",
      "metadata": {
        "id": "b-ZGfp-3h5X2",
        "colab_type": "text"
      },
      "source": [
        "### 結果の確認"
      ]
    },
    {
      "cell_type": "code",
      "metadata": {
        "id": "Vhs9e02WQM_i",
        "colab_type": "code",
        "colab": {
          "base_uri": "https://localhost:8080/",
          "height": 343
        },
        "outputId": "da20a823-60aa-47af-ff2d-08431b52512a"
      },
      "source": [
        "results = predictor.fit_summary()"
      ],
      "execution_count": null,
      "outputs": [
        {
          "output_type": "stream",
          "text": [
            "*** Summary of fit() ***\n",
            "Estimated performance of each model:\n",
            "                           model  score_val  pred_time_val    fit_time  pred_time_val_marginal  fit_time_marginal  stack_level  can_infer\n",
            "0  LightGBMClassifier_STACKER_l1   0.794234       4.798083  157.103575                1.756800          71.453314            1       True\n",
            "1        weighted_ensemble_k0_l2   0.794234       4.871034  157.200658                0.072951           0.097083            2       True\n",
            "2  LightGBMClassifier_STACKER_l0   0.771814       3.041282   85.650261                3.041282          85.650261            0       True\n",
            "3        weighted_ensemble_k0_l1   0.771814       3.112620   85.752110                0.071338           0.101849            1       True\n",
            "Number of models trained: 4\n",
            "Types of models trained:\n",
            "{'WeightedEnsembleModel', 'StackerEnsembleModel_LGB'}\n",
            "Bagging used: True  (with 10 folds)\n",
            "Stack-ensembling used: True  (with 1 levels)\n",
            "Hyperparameter-tuning used: False \n",
            "User-specified hyperparameters:\n",
            "{'default': {'NN': [{}], 'GBM': [{}], 'CAT': [{}], 'RF': [{'criterion': 'gini', 'AG_args': {'name_suffix': 'Gini', 'problem_types': ['binary', 'multiclass']}}, {'criterion': 'entropy', 'AG_args': {'name_suffix': 'Entr', 'problem_types': ['binary', 'multiclass']}}], 'XT': [{'criterion': 'gini', 'AG_args': {'name_suffix': 'Gini', 'problem_types': ['binary', 'multiclass']}}, {'criterion': 'entropy', 'AG_args': {'name_suffix': 'Entr', 'problem_types': ['binary', 'multiclass']}}], 'KNN': [{'weights': 'uniform', 'AG_args': {'name_suffix': 'Unif'}}, {'weights': 'distance', 'AG_args': {'name_suffix': 'Dist'}}], 'custom': [{'num_boost_round': 10000, 'num_threads': -1, 'objective': 'multiclass', 'num_classes': 7, 'verbose': -1, 'boosting_type': 'gbdt', 'learning_rate': 0.03, 'num_leaves': 128, 'feature_fraction': 0.9, 'min_data_in_leaf': 3, 'two_round': True, 'seed_value': 0, 'AG_args': {'model_type': 'GBM', 'name_suffix': 'Custom', 'disable_in_hpo': True}}]}}\n",
            "Plot summary of models saved to file: AutogluonModels/ag-20200725_143521/SummaryOfModels.html\n",
            "*** End of fit() summary ***\n"
          ],
          "name": "stdout"
        }
      ]
    },
    {
      "cell_type": "code",
      "metadata": {
        "id": "gA4ZTBgijKWT",
        "colab_type": "code",
        "colab": {}
      },
      "source": [
        ""
      ],
      "execution_count": null,
      "outputs": []
    }
  ]
}