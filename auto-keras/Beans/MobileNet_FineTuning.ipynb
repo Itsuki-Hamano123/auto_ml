{
  "nbformat": 4,
  "nbformat_minor": 0,
  "metadata": {
    "colab": {
      "name": "MobileNet_FineTuning.ipynb",
      "provenance": [],
      "collapsed_sections": [],
      "toc_visible": true,
      "authorship_tag": "ABX9TyM326OSQYwHlJ0ERItd2LcB",
      "include_colab_link": true
    },
    "kernelspec": {
      "name": "python3",
      "display_name": "Python 3"
    },
    "accelerator": "GPU",
    "widgets": {
      "application/vnd.jupyter.widget-state+json": {
        "8b738347056c439bb8a53aad47b839b4": {
          "model_module": "@jupyter-widgets/controls",
          "model_name": "HBoxModel",
          "state": {
            "_view_name": "HBoxView",
            "_dom_classes": [],
            "_model_name": "HBoxModel",
            "_view_module": "@jupyter-widgets/controls",
            "_model_module_version": "1.5.0",
            "_view_count": null,
            "_view_module_version": "1.5.0",
            "box_style": "",
            "layout": "IPY_MODEL_142db891fccf4ffb8af2cb562c2c6d33",
            "_model_module": "@jupyter-widgets/controls",
            "children": [
              "IPY_MODEL_8d00c8cc8aed4246a5257a3039b2486f",
              "IPY_MODEL_6d27b0103141422baad68aa981888ee0"
            ]
          }
        },
        "142db891fccf4ffb8af2cb562c2c6d33": {
          "model_module": "@jupyter-widgets/base",
          "model_name": "LayoutModel",
          "state": {
            "_view_name": "LayoutView",
            "grid_template_rows": null,
            "right": null,
            "justify_content": null,
            "_view_module": "@jupyter-widgets/base",
            "overflow": null,
            "_model_module_version": "1.2.0",
            "_view_count": null,
            "flex_flow": null,
            "width": null,
            "min_width": null,
            "border": null,
            "align_items": null,
            "bottom": null,
            "_model_module": "@jupyter-widgets/base",
            "top": null,
            "grid_column": null,
            "overflow_y": null,
            "overflow_x": null,
            "grid_auto_flow": null,
            "grid_area": null,
            "grid_template_columns": null,
            "flex": null,
            "_model_name": "LayoutModel",
            "justify_items": null,
            "grid_row": null,
            "max_height": null,
            "align_content": null,
            "visibility": null,
            "align_self": null,
            "height": null,
            "min_height": null,
            "padding": null,
            "grid_auto_rows": null,
            "grid_gap": null,
            "max_width": null,
            "order": null,
            "_view_module_version": "1.2.0",
            "grid_template_areas": null,
            "object_position": null,
            "object_fit": null,
            "grid_auto_columns": null,
            "margin": null,
            "display": null,
            "left": null
          }
        },
        "8d00c8cc8aed4246a5257a3039b2486f": {
          "model_module": "@jupyter-widgets/controls",
          "model_name": "FloatProgressModel",
          "state": {
            "_view_name": "ProgressView",
            "style": "IPY_MODEL_1814cf993f76493795ebd42c264f02fd",
            "_dom_classes": [],
            "description": "Dl Completed...: 100%",
            "_model_name": "FloatProgressModel",
            "bar_style": "success",
            "max": 1,
            "_view_module": "@jupyter-widgets/controls",
            "_model_module_version": "1.5.0",
            "value": 1,
            "_view_count": null,
            "_view_module_version": "1.5.0",
            "orientation": "horizontal",
            "min": 0,
            "description_tooltip": null,
            "_model_module": "@jupyter-widgets/controls",
            "layout": "IPY_MODEL_611ede77a9114ccbae2710a3d49946a1"
          }
        },
        "6d27b0103141422baad68aa981888ee0": {
          "model_module": "@jupyter-widgets/controls",
          "model_name": "HTMLModel",
          "state": {
            "_view_name": "HTMLView",
            "style": "IPY_MODEL_927c15b1faf94d5a96c3ab8e08f6e143",
            "_dom_classes": [],
            "description": "",
            "_model_name": "HTMLModel",
            "placeholder": "​",
            "_view_module": "@jupyter-widgets/controls",
            "_model_module_version": "1.5.0",
            "value": " 3/3 [00:02&lt;00:00,  1.02 url/s]",
            "_view_count": null,
            "_view_module_version": "1.5.0",
            "description_tooltip": null,
            "_model_module": "@jupyter-widgets/controls",
            "layout": "IPY_MODEL_9aa0a411971e4804a64bdd4ed1a99f64"
          }
        },
        "1814cf993f76493795ebd42c264f02fd": {
          "model_module": "@jupyter-widgets/controls",
          "model_name": "ProgressStyleModel",
          "state": {
            "_view_name": "StyleView",
            "_model_name": "ProgressStyleModel",
            "description_width": "initial",
            "_view_module": "@jupyter-widgets/base",
            "_model_module_version": "1.5.0",
            "_view_count": null,
            "_view_module_version": "1.2.0",
            "bar_color": null,
            "_model_module": "@jupyter-widgets/controls"
          }
        },
        "611ede77a9114ccbae2710a3d49946a1": {
          "model_module": "@jupyter-widgets/base",
          "model_name": "LayoutModel",
          "state": {
            "_view_name": "LayoutView",
            "grid_template_rows": null,
            "right": null,
            "justify_content": null,
            "_view_module": "@jupyter-widgets/base",
            "overflow": null,
            "_model_module_version": "1.2.0",
            "_view_count": null,
            "flex_flow": null,
            "width": null,
            "min_width": null,
            "border": null,
            "align_items": null,
            "bottom": null,
            "_model_module": "@jupyter-widgets/base",
            "top": null,
            "grid_column": null,
            "overflow_y": null,
            "overflow_x": null,
            "grid_auto_flow": null,
            "grid_area": null,
            "grid_template_columns": null,
            "flex": null,
            "_model_name": "LayoutModel",
            "justify_items": null,
            "grid_row": null,
            "max_height": null,
            "align_content": null,
            "visibility": null,
            "align_self": null,
            "height": null,
            "min_height": null,
            "padding": null,
            "grid_auto_rows": null,
            "grid_gap": null,
            "max_width": null,
            "order": null,
            "_view_module_version": "1.2.0",
            "grid_template_areas": null,
            "object_position": null,
            "object_fit": null,
            "grid_auto_columns": null,
            "margin": null,
            "display": null,
            "left": null
          }
        },
        "927c15b1faf94d5a96c3ab8e08f6e143": {
          "model_module": "@jupyter-widgets/controls",
          "model_name": "DescriptionStyleModel",
          "state": {
            "_view_name": "StyleView",
            "_model_name": "DescriptionStyleModel",
            "description_width": "",
            "_view_module": "@jupyter-widgets/base",
            "_model_module_version": "1.5.0",
            "_view_count": null,
            "_view_module_version": "1.2.0",
            "_model_module": "@jupyter-widgets/controls"
          }
        },
        "9aa0a411971e4804a64bdd4ed1a99f64": {
          "model_module": "@jupyter-widgets/base",
          "model_name": "LayoutModel",
          "state": {
            "_view_name": "LayoutView",
            "grid_template_rows": null,
            "right": null,
            "justify_content": null,
            "_view_module": "@jupyter-widgets/base",
            "overflow": null,
            "_model_module_version": "1.2.0",
            "_view_count": null,
            "flex_flow": null,
            "width": null,
            "min_width": null,
            "border": null,
            "align_items": null,
            "bottom": null,
            "_model_module": "@jupyter-widgets/base",
            "top": null,
            "grid_column": null,
            "overflow_y": null,
            "overflow_x": null,
            "grid_auto_flow": null,
            "grid_area": null,
            "grid_template_columns": null,
            "flex": null,
            "_model_name": "LayoutModel",
            "justify_items": null,
            "grid_row": null,
            "max_height": null,
            "align_content": null,
            "visibility": null,
            "align_self": null,
            "height": null,
            "min_height": null,
            "padding": null,
            "grid_auto_rows": null,
            "grid_gap": null,
            "max_width": null,
            "order": null,
            "_view_module_version": "1.2.0",
            "grid_template_areas": null,
            "object_position": null,
            "object_fit": null,
            "grid_auto_columns": null,
            "margin": null,
            "display": null,
            "left": null
          }
        },
        "f7ad4599b07a4db58edd547992c65a2e": {
          "model_module": "@jupyter-widgets/controls",
          "model_name": "HBoxModel",
          "state": {
            "_view_name": "HBoxView",
            "_dom_classes": [],
            "_model_name": "HBoxModel",
            "_view_module": "@jupyter-widgets/controls",
            "_model_module_version": "1.5.0",
            "_view_count": null,
            "_view_module_version": "1.5.0",
            "box_style": "",
            "layout": "IPY_MODEL_c1e671bb0900426fb1d04c2fb8ca588b",
            "_model_module": "@jupyter-widgets/controls",
            "children": [
              "IPY_MODEL_b98a9d9accdf4563a63e4b31655f001e",
              "IPY_MODEL_f1bac90ae8e14f5cb080f65d87216ebd"
            ]
          }
        },
        "c1e671bb0900426fb1d04c2fb8ca588b": {
          "model_module": "@jupyter-widgets/base",
          "model_name": "LayoutModel",
          "state": {
            "_view_name": "LayoutView",
            "grid_template_rows": null,
            "right": null,
            "justify_content": null,
            "_view_module": "@jupyter-widgets/base",
            "overflow": null,
            "_model_module_version": "1.2.0",
            "_view_count": null,
            "flex_flow": null,
            "width": null,
            "min_width": null,
            "border": null,
            "align_items": null,
            "bottom": null,
            "_model_module": "@jupyter-widgets/base",
            "top": null,
            "grid_column": null,
            "overflow_y": null,
            "overflow_x": null,
            "grid_auto_flow": null,
            "grid_area": null,
            "grid_template_columns": null,
            "flex": null,
            "_model_name": "LayoutModel",
            "justify_items": null,
            "grid_row": null,
            "max_height": null,
            "align_content": null,
            "visibility": null,
            "align_self": null,
            "height": null,
            "min_height": null,
            "padding": null,
            "grid_auto_rows": null,
            "grid_gap": null,
            "max_width": null,
            "order": null,
            "_view_module_version": "1.2.0",
            "grid_template_areas": null,
            "object_position": null,
            "object_fit": null,
            "grid_auto_columns": null,
            "margin": null,
            "display": null,
            "left": null
          }
        },
        "b98a9d9accdf4563a63e4b31655f001e": {
          "model_module": "@jupyter-widgets/controls",
          "model_name": "FloatProgressModel",
          "state": {
            "_view_name": "ProgressView",
            "style": "IPY_MODEL_6e4981fc2c5f4ac68c438072256d8bdb",
            "_dom_classes": [],
            "description": "Dl Size...: 100%",
            "_model_name": "FloatProgressModel",
            "bar_style": "success",
            "max": 1,
            "_view_module": "@jupyter-widgets/controls",
            "_model_module_version": "1.5.0",
            "value": 1,
            "_view_count": null,
            "_view_module_version": "1.5.0",
            "orientation": "horizontal",
            "min": 0,
            "description_tooltip": null,
            "_model_module": "@jupyter-widgets/controls",
            "layout": "IPY_MODEL_f0c1ce03ffb94a64b3cfcb6d2fe3f9be"
          }
        },
        "f1bac90ae8e14f5cb080f65d87216ebd": {
          "model_module": "@jupyter-widgets/controls",
          "model_name": "HTMLModel",
          "state": {
            "_view_name": "HTMLView",
            "style": "IPY_MODEL_e43470aed76642c992f5756e5e1bc3fb",
            "_dom_classes": [],
            "description": "",
            "_model_name": "HTMLModel",
            "placeholder": "​",
            "_view_module": "@jupyter-widgets/controls",
            "_model_module_version": "1.5.0",
            "value": " 170/170 [00:02&lt;00:00, 58.47 MiB/s]",
            "_view_count": null,
            "_view_module_version": "1.5.0",
            "description_tooltip": null,
            "_model_module": "@jupyter-widgets/controls",
            "layout": "IPY_MODEL_493bd2f878aa4453bf5227b31f12092a"
          }
        },
        "6e4981fc2c5f4ac68c438072256d8bdb": {
          "model_module": "@jupyter-widgets/controls",
          "model_name": "ProgressStyleModel",
          "state": {
            "_view_name": "StyleView",
            "_model_name": "ProgressStyleModel",
            "description_width": "initial",
            "_view_module": "@jupyter-widgets/base",
            "_model_module_version": "1.5.0",
            "_view_count": null,
            "_view_module_version": "1.2.0",
            "bar_color": null,
            "_model_module": "@jupyter-widgets/controls"
          }
        },
        "f0c1ce03ffb94a64b3cfcb6d2fe3f9be": {
          "model_module": "@jupyter-widgets/base",
          "model_name": "LayoutModel",
          "state": {
            "_view_name": "LayoutView",
            "grid_template_rows": null,
            "right": null,
            "justify_content": null,
            "_view_module": "@jupyter-widgets/base",
            "overflow": null,
            "_model_module_version": "1.2.0",
            "_view_count": null,
            "flex_flow": null,
            "width": null,
            "min_width": null,
            "border": null,
            "align_items": null,
            "bottom": null,
            "_model_module": "@jupyter-widgets/base",
            "top": null,
            "grid_column": null,
            "overflow_y": null,
            "overflow_x": null,
            "grid_auto_flow": null,
            "grid_area": null,
            "grid_template_columns": null,
            "flex": null,
            "_model_name": "LayoutModel",
            "justify_items": null,
            "grid_row": null,
            "max_height": null,
            "align_content": null,
            "visibility": null,
            "align_self": null,
            "height": null,
            "min_height": null,
            "padding": null,
            "grid_auto_rows": null,
            "grid_gap": null,
            "max_width": null,
            "order": null,
            "_view_module_version": "1.2.0",
            "grid_template_areas": null,
            "object_position": null,
            "object_fit": null,
            "grid_auto_columns": null,
            "margin": null,
            "display": null,
            "left": null
          }
        },
        "e43470aed76642c992f5756e5e1bc3fb": {
          "model_module": "@jupyter-widgets/controls",
          "model_name": "DescriptionStyleModel",
          "state": {
            "_view_name": "StyleView",
            "_model_name": "DescriptionStyleModel",
            "description_width": "",
            "_view_module": "@jupyter-widgets/base",
            "_model_module_version": "1.5.0",
            "_view_count": null,
            "_view_module_version": "1.2.0",
            "_model_module": "@jupyter-widgets/controls"
          }
        },
        "493bd2f878aa4453bf5227b31f12092a": {
          "model_module": "@jupyter-widgets/base",
          "model_name": "LayoutModel",
          "state": {
            "_view_name": "LayoutView",
            "grid_template_rows": null,
            "right": null,
            "justify_content": null,
            "_view_module": "@jupyter-widgets/base",
            "overflow": null,
            "_model_module_version": "1.2.0",
            "_view_count": null,
            "flex_flow": null,
            "width": null,
            "min_width": null,
            "border": null,
            "align_items": null,
            "bottom": null,
            "_model_module": "@jupyter-widgets/base",
            "top": null,
            "grid_column": null,
            "overflow_y": null,
            "overflow_x": null,
            "grid_auto_flow": null,
            "grid_area": null,
            "grid_template_columns": null,
            "flex": null,
            "_model_name": "LayoutModel",
            "justify_items": null,
            "grid_row": null,
            "max_height": null,
            "align_content": null,
            "visibility": null,
            "align_self": null,
            "height": null,
            "min_height": null,
            "padding": null,
            "grid_auto_rows": null,
            "grid_gap": null,
            "max_width": null,
            "order": null,
            "_view_module_version": "1.2.0",
            "grid_template_areas": null,
            "object_position": null,
            "object_fit": null,
            "grid_auto_columns": null,
            "margin": null,
            "display": null,
            "left": null
          }
        },
        "dcc4dd6a53a449bcac3787a422653578": {
          "model_module": "@jupyter-widgets/controls",
          "model_name": "HBoxModel",
          "state": {
            "_view_name": "HBoxView",
            "_dom_classes": [],
            "_model_name": "HBoxModel",
            "_view_module": "@jupyter-widgets/controls",
            "_model_module_version": "1.5.0",
            "_view_count": null,
            "_view_module_version": "1.5.0",
            "box_style": "",
            "layout": "IPY_MODEL_3f3fca59c86d496a8ffd62fd2bd9e2b3",
            "_model_module": "@jupyter-widgets/controls",
            "children": [
              "IPY_MODEL_ff9d82e5acd14d6e8ff7de381c8564a8",
              "IPY_MODEL_c649e0c8f95b4c9ab4b0601bd90c45a2"
            ]
          }
        },
        "3f3fca59c86d496a8ffd62fd2bd9e2b3": {
          "model_module": "@jupyter-widgets/base",
          "model_name": "LayoutModel",
          "state": {
            "_view_name": "LayoutView",
            "grid_template_rows": null,
            "right": null,
            "justify_content": null,
            "_view_module": "@jupyter-widgets/base",
            "overflow": null,
            "_model_module_version": "1.2.0",
            "_view_count": null,
            "flex_flow": null,
            "width": null,
            "min_width": null,
            "border": null,
            "align_items": null,
            "bottom": null,
            "_model_module": "@jupyter-widgets/base",
            "top": null,
            "grid_column": null,
            "overflow_y": null,
            "overflow_x": null,
            "grid_auto_flow": null,
            "grid_area": null,
            "grid_template_columns": null,
            "flex": null,
            "_model_name": "LayoutModel",
            "justify_items": null,
            "grid_row": null,
            "max_height": null,
            "align_content": null,
            "visibility": null,
            "align_self": null,
            "height": null,
            "min_height": null,
            "padding": null,
            "grid_auto_rows": null,
            "grid_gap": null,
            "max_width": null,
            "order": null,
            "_view_module_version": "1.2.0",
            "grid_template_areas": null,
            "object_position": null,
            "object_fit": null,
            "grid_auto_columns": null,
            "margin": null,
            "display": null,
            "left": null
          }
        },
        "ff9d82e5acd14d6e8ff7de381c8564a8": {
          "model_module": "@jupyter-widgets/controls",
          "model_name": "FloatProgressModel",
          "state": {
            "_view_name": "ProgressView",
            "style": "IPY_MODEL_4010b2889f7b4eaa8691970be7119b5f",
            "_dom_classes": [],
            "description": "",
            "_model_name": "FloatProgressModel",
            "bar_style": "info",
            "max": 1,
            "_view_module": "@jupyter-widgets/controls",
            "_model_module_version": "1.5.0",
            "value": 1,
            "_view_count": null,
            "_view_module_version": "1.5.0",
            "orientation": "horizontal",
            "min": 0,
            "description_tooltip": null,
            "_model_module": "@jupyter-widgets/controls",
            "layout": "IPY_MODEL_98a959085e2b43309f0e2921a7c37465"
          }
        },
        "c649e0c8f95b4c9ab4b0601bd90c45a2": {
          "model_module": "@jupyter-widgets/controls",
          "model_name": "HTMLModel",
          "state": {
            "_view_name": "HTMLView",
            "style": "IPY_MODEL_9cda62fe860a4b82bc89dd67f7c34831",
            "_dom_classes": [],
            "description": "",
            "_model_name": "HTMLModel",
            "placeholder": "​",
            "_view_module": "@jupyter-widgets/controls",
            "_model_module_version": "1.5.0",
            "value": " 1034/0 [00:00&lt;00:00, 1148.75 examples/s]",
            "_view_count": null,
            "_view_module_version": "1.5.0",
            "description_tooltip": null,
            "_model_module": "@jupyter-widgets/controls",
            "layout": "IPY_MODEL_b6ea07bc26224ec68c6d064d3bcc78d5"
          }
        },
        "4010b2889f7b4eaa8691970be7119b5f": {
          "model_module": "@jupyter-widgets/controls",
          "model_name": "ProgressStyleModel",
          "state": {
            "_view_name": "StyleView",
            "_model_name": "ProgressStyleModel",
            "description_width": "initial",
            "_view_module": "@jupyter-widgets/base",
            "_model_module_version": "1.5.0",
            "_view_count": null,
            "_view_module_version": "1.2.0",
            "bar_color": null,
            "_model_module": "@jupyter-widgets/controls"
          }
        },
        "98a959085e2b43309f0e2921a7c37465": {
          "model_module": "@jupyter-widgets/base",
          "model_name": "LayoutModel",
          "state": {
            "_view_name": "LayoutView",
            "grid_template_rows": null,
            "right": null,
            "justify_content": null,
            "_view_module": "@jupyter-widgets/base",
            "overflow": null,
            "_model_module_version": "1.2.0",
            "_view_count": null,
            "flex_flow": null,
            "width": null,
            "min_width": null,
            "border": null,
            "align_items": null,
            "bottom": null,
            "_model_module": "@jupyter-widgets/base",
            "top": null,
            "grid_column": null,
            "overflow_y": null,
            "overflow_x": null,
            "grid_auto_flow": null,
            "grid_area": null,
            "grid_template_columns": null,
            "flex": null,
            "_model_name": "LayoutModel",
            "justify_items": null,
            "grid_row": null,
            "max_height": null,
            "align_content": null,
            "visibility": null,
            "align_self": null,
            "height": null,
            "min_height": null,
            "padding": null,
            "grid_auto_rows": null,
            "grid_gap": null,
            "max_width": null,
            "order": null,
            "_view_module_version": "1.2.0",
            "grid_template_areas": null,
            "object_position": null,
            "object_fit": null,
            "grid_auto_columns": null,
            "margin": null,
            "display": null,
            "left": null
          }
        },
        "9cda62fe860a4b82bc89dd67f7c34831": {
          "model_module": "@jupyter-widgets/controls",
          "model_name": "DescriptionStyleModel",
          "state": {
            "_view_name": "StyleView",
            "_model_name": "DescriptionStyleModel",
            "description_width": "",
            "_view_module": "@jupyter-widgets/base",
            "_model_module_version": "1.5.0",
            "_view_count": null,
            "_view_module_version": "1.2.0",
            "_model_module": "@jupyter-widgets/controls"
          }
        },
        "b6ea07bc26224ec68c6d064d3bcc78d5": {
          "model_module": "@jupyter-widgets/base",
          "model_name": "LayoutModel",
          "state": {
            "_view_name": "LayoutView",
            "grid_template_rows": null,
            "right": null,
            "justify_content": null,
            "_view_module": "@jupyter-widgets/base",
            "overflow": null,
            "_model_module_version": "1.2.0",
            "_view_count": null,
            "flex_flow": null,
            "width": null,
            "min_width": null,
            "border": null,
            "align_items": null,
            "bottom": null,
            "_model_module": "@jupyter-widgets/base",
            "top": null,
            "grid_column": null,
            "overflow_y": null,
            "overflow_x": null,
            "grid_auto_flow": null,
            "grid_area": null,
            "grid_template_columns": null,
            "flex": null,
            "_model_name": "LayoutModel",
            "justify_items": null,
            "grid_row": null,
            "max_height": null,
            "align_content": null,
            "visibility": null,
            "align_self": null,
            "height": null,
            "min_height": null,
            "padding": null,
            "grid_auto_rows": null,
            "grid_gap": null,
            "max_width": null,
            "order": null,
            "_view_module_version": "1.2.0",
            "grid_template_areas": null,
            "object_position": null,
            "object_fit": null,
            "grid_auto_columns": null,
            "margin": null,
            "display": null,
            "left": null
          }
        },
        "6a8c3c5530594afa92ef3ca641de9089": {
          "model_module": "@jupyter-widgets/controls",
          "model_name": "HBoxModel",
          "state": {
            "_view_name": "HBoxView",
            "_dom_classes": [],
            "_model_name": "HBoxModel",
            "_view_module": "@jupyter-widgets/controls",
            "_model_module_version": "1.5.0",
            "_view_count": null,
            "_view_module_version": "1.5.0",
            "box_style": "",
            "layout": "IPY_MODEL_b6947a5fa9344bc3ae417193d5eae13b",
            "_model_module": "@jupyter-widgets/controls",
            "children": [
              "IPY_MODEL_0f582613b37645f39ea7b69e80e097ed",
              "IPY_MODEL_ba4f3e90773e4a31a094ce7dc1a816bd"
            ]
          }
        },
        "b6947a5fa9344bc3ae417193d5eae13b": {
          "model_module": "@jupyter-widgets/base",
          "model_name": "LayoutModel",
          "state": {
            "_view_name": "LayoutView",
            "grid_template_rows": null,
            "right": null,
            "justify_content": null,
            "_view_module": "@jupyter-widgets/base",
            "overflow": null,
            "_model_module_version": "1.2.0",
            "_view_count": null,
            "flex_flow": null,
            "width": null,
            "min_width": null,
            "border": null,
            "align_items": null,
            "bottom": null,
            "_model_module": "@jupyter-widgets/base",
            "top": null,
            "grid_column": null,
            "overflow_y": null,
            "overflow_x": null,
            "grid_auto_flow": null,
            "grid_area": null,
            "grid_template_columns": null,
            "flex": null,
            "_model_name": "LayoutModel",
            "justify_items": null,
            "grid_row": null,
            "max_height": null,
            "align_content": null,
            "visibility": null,
            "align_self": null,
            "height": null,
            "min_height": null,
            "padding": null,
            "grid_auto_rows": null,
            "grid_gap": null,
            "max_width": null,
            "order": null,
            "_view_module_version": "1.2.0",
            "grid_template_areas": null,
            "object_position": null,
            "object_fit": null,
            "grid_auto_columns": null,
            "margin": null,
            "display": null,
            "left": null
          }
        },
        "0f582613b37645f39ea7b69e80e097ed": {
          "model_module": "@jupyter-widgets/controls",
          "model_name": "FloatProgressModel",
          "state": {
            "_view_name": "ProgressView",
            "style": "IPY_MODEL_04089ca0e4a544a2a60a4bc9da7e1251",
            "_dom_classes": [],
            "description": " 92%",
            "_model_name": "FloatProgressModel",
            "bar_style": "danger",
            "max": 1034,
            "_view_module": "@jupyter-widgets/controls",
            "_model_module_version": "1.5.0",
            "value": 955,
            "_view_count": null,
            "_view_module_version": "1.5.0",
            "orientation": "horizontal",
            "min": 0,
            "description_tooltip": null,
            "_model_module": "@jupyter-widgets/controls",
            "layout": "IPY_MODEL_26c90f2eed4e4870b5d4bad74c30b6f5"
          }
        },
        "ba4f3e90773e4a31a094ce7dc1a816bd": {
          "model_module": "@jupyter-widgets/controls",
          "model_name": "HTMLModel",
          "state": {
            "_view_name": "HTMLView",
            "style": "IPY_MODEL_3b1a03b609424daebf2b06265b31f800",
            "_dom_classes": [],
            "description": "",
            "_model_name": "HTMLModel",
            "placeholder": "​",
            "_view_module": "@jupyter-widgets/controls",
            "_model_module_version": "1.5.0",
            "value": " 955/1034 [00:00&lt;00:00, 4497.43 examples/s]",
            "_view_count": null,
            "_view_module_version": "1.5.0",
            "description_tooltip": null,
            "_model_module": "@jupyter-widgets/controls",
            "layout": "IPY_MODEL_b916984c20424ae0ad1e29a1a1de197d"
          }
        },
        "04089ca0e4a544a2a60a4bc9da7e1251": {
          "model_module": "@jupyter-widgets/controls",
          "model_name": "ProgressStyleModel",
          "state": {
            "_view_name": "StyleView",
            "_model_name": "ProgressStyleModel",
            "description_width": "initial",
            "_view_module": "@jupyter-widgets/base",
            "_model_module_version": "1.5.0",
            "_view_count": null,
            "_view_module_version": "1.2.0",
            "bar_color": null,
            "_model_module": "@jupyter-widgets/controls"
          }
        },
        "26c90f2eed4e4870b5d4bad74c30b6f5": {
          "model_module": "@jupyter-widgets/base",
          "model_name": "LayoutModel",
          "state": {
            "_view_name": "LayoutView",
            "grid_template_rows": null,
            "right": null,
            "justify_content": null,
            "_view_module": "@jupyter-widgets/base",
            "overflow": null,
            "_model_module_version": "1.2.0",
            "_view_count": null,
            "flex_flow": null,
            "width": null,
            "min_width": null,
            "border": null,
            "align_items": null,
            "bottom": null,
            "_model_module": "@jupyter-widgets/base",
            "top": null,
            "grid_column": null,
            "overflow_y": null,
            "overflow_x": null,
            "grid_auto_flow": null,
            "grid_area": null,
            "grid_template_columns": null,
            "flex": null,
            "_model_name": "LayoutModel",
            "justify_items": null,
            "grid_row": null,
            "max_height": null,
            "align_content": null,
            "visibility": null,
            "align_self": null,
            "height": null,
            "min_height": null,
            "padding": null,
            "grid_auto_rows": null,
            "grid_gap": null,
            "max_width": null,
            "order": null,
            "_view_module_version": "1.2.0",
            "grid_template_areas": null,
            "object_position": null,
            "object_fit": null,
            "grid_auto_columns": null,
            "margin": null,
            "display": null,
            "left": null
          }
        },
        "3b1a03b609424daebf2b06265b31f800": {
          "model_module": "@jupyter-widgets/controls",
          "model_name": "DescriptionStyleModel",
          "state": {
            "_view_name": "StyleView",
            "_model_name": "DescriptionStyleModel",
            "description_width": "",
            "_view_module": "@jupyter-widgets/base",
            "_model_module_version": "1.5.0",
            "_view_count": null,
            "_view_module_version": "1.2.0",
            "_model_module": "@jupyter-widgets/controls"
          }
        },
        "b916984c20424ae0ad1e29a1a1de197d": {
          "model_module": "@jupyter-widgets/base",
          "model_name": "LayoutModel",
          "state": {
            "_view_name": "LayoutView",
            "grid_template_rows": null,
            "right": null,
            "justify_content": null,
            "_view_module": "@jupyter-widgets/base",
            "overflow": null,
            "_model_module_version": "1.2.0",
            "_view_count": null,
            "flex_flow": null,
            "width": null,
            "min_width": null,
            "border": null,
            "align_items": null,
            "bottom": null,
            "_model_module": "@jupyter-widgets/base",
            "top": null,
            "grid_column": null,
            "overflow_y": null,
            "overflow_x": null,
            "grid_auto_flow": null,
            "grid_area": null,
            "grid_template_columns": null,
            "flex": null,
            "_model_name": "LayoutModel",
            "justify_items": null,
            "grid_row": null,
            "max_height": null,
            "align_content": null,
            "visibility": null,
            "align_self": null,
            "height": null,
            "min_height": null,
            "padding": null,
            "grid_auto_rows": null,
            "grid_gap": null,
            "max_width": null,
            "order": null,
            "_view_module_version": "1.2.0",
            "grid_template_areas": null,
            "object_position": null,
            "object_fit": null,
            "grid_auto_columns": null,
            "margin": null,
            "display": null,
            "left": null
          }
        },
        "72abfacc24cf47b49310758fa13bdf2a": {
          "model_module": "@jupyter-widgets/controls",
          "model_name": "HBoxModel",
          "state": {
            "_view_name": "HBoxView",
            "_dom_classes": [],
            "_model_name": "HBoxModel",
            "_view_module": "@jupyter-widgets/controls",
            "_model_module_version": "1.5.0",
            "_view_count": null,
            "_view_module_version": "1.5.0",
            "box_style": "",
            "layout": "IPY_MODEL_5301f58a80794720862d27d4421891e6",
            "_model_module": "@jupyter-widgets/controls",
            "children": [
              "IPY_MODEL_531edbf790dd4540bda7f53d8215257b",
              "IPY_MODEL_ae23da1fdef5491c9122e5f0a4900274"
            ]
          }
        },
        "5301f58a80794720862d27d4421891e6": {
          "model_module": "@jupyter-widgets/base",
          "model_name": "LayoutModel",
          "state": {
            "_view_name": "LayoutView",
            "grid_template_rows": null,
            "right": null,
            "justify_content": null,
            "_view_module": "@jupyter-widgets/base",
            "overflow": null,
            "_model_module_version": "1.2.0",
            "_view_count": null,
            "flex_flow": null,
            "width": null,
            "min_width": null,
            "border": null,
            "align_items": null,
            "bottom": null,
            "_model_module": "@jupyter-widgets/base",
            "top": null,
            "grid_column": null,
            "overflow_y": null,
            "overflow_x": null,
            "grid_auto_flow": null,
            "grid_area": null,
            "grid_template_columns": null,
            "flex": null,
            "_model_name": "LayoutModel",
            "justify_items": null,
            "grid_row": null,
            "max_height": null,
            "align_content": null,
            "visibility": null,
            "align_self": null,
            "height": null,
            "min_height": null,
            "padding": null,
            "grid_auto_rows": null,
            "grid_gap": null,
            "max_width": null,
            "order": null,
            "_view_module_version": "1.2.0",
            "grid_template_areas": null,
            "object_position": null,
            "object_fit": null,
            "grid_auto_columns": null,
            "margin": null,
            "display": null,
            "left": null
          }
        },
        "531edbf790dd4540bda7f53d8215257b": {
          "model_module": "@jupyter-widgets/controls",
          "model_name": "FloatProgressModel",
          "state": {
            "_view_name": "ProgressView",
            "style": "IPY_MODEL_b9f768c5b8dd4fb7b9991b8435fe8463",
            "_dom_classes": [],
            "description": "",
            "_model_name": "FloatProgressModel",
            "bar_style": "info",
            "max": 1,
            "_view_module": "@jupyter-widgets/controls",
            "_model_module_version": "1.5.0",
            "value": 1,
            "_view_count": null,
            "_view_module_version": "1.5.0",
            "orientation": "horizontal",
            "min": 0,
            "description_tooltip": null,
            "_model_module": "@jupyter-widgets/controls",
            "layout": "IPY_MODEL_8d3f68f02a604ae4a89a807c11767347"
          }
        },
        "ae23da1fdef5491c9122e5f0a4900274": {
          "model_module": "@jupyter-widgets/controls",
          "model_name": "HTMLModel",
          "state": {
            "_view_name": "HTMLView",
            "style": "IPY_MODEL_ad4f24d0d8814afa8179177d2c875b21",
            "_dom_classes": [],
            "description": "",
            "_model_name": "HTMLModel",
            "placeholder": "​",
            "_view_module": "@jupyter-widgets/controls",
            "_model_module_version": "1.5.0",
            "value": " 133/0 [00:00&lt;00:00, 575.81 examples/s]",
            "_view_count": null,
            "_view_module_version": "1.5.0",
            "description_tooltip": null,
            "_model_module": "@jupyter-widgets/controls",
            "layout": "IPY_MODEL_9a26da75e8554195abeb1bf8fcb28e6e"
          }
        },
        "b9f768c5b8dd4fb7b9991b8435fe8463": {
          "model_module": "@jupyter-widgets/controls",
          "model_name": "ProgressStyleModel",
          "state": {
            "_view_name": "StyleView",
            "_model_name": "ProgressStyleModel",
            "description_width": "initial",
            "_view_module": "@jupyter-widgets/base",
            "_model_module_version": "1.5.0",
            "_view_count": null,
            "_view_module_version": "1.2.0",
            "bar_color": null,
            "_model_module": "@jupyter-widgets/controls"
          }
        },
        "8d3f68f02a604ae4a89a807c11767347": {
          "model_module": "@jupyter-widgets/base",
          "model_name": "LayoutModel",
          "state": {
            "_view_name": "LayoutView",
            "grid_template_rows": null,
            "right": null,
            "justify_content": null,
            "_view_module": "@jupyter-widgets/base",
            "overflow": null,
            "_model_module_version": "1.2.0",
            "_view_count": null,
            "flex_flow": null,
            "width": null,
            "min_width": null,
            "border": null,
            "align_items": null,
            "bottom": null,
            "_model_module": "@jupyter-widgets/base",
            "top": null,
            "grid_column": null,
            "overflow_y": null,
            "overflow_x": null,
            "grid_auto_flow": null,
            "grid_area": null,
            "grid_template_columns": null,
            "flex": null,
            "_model_name": "LayoutModel",
            "justify_items": null,
            "grid_row": null,
            "max_height": null,
            "align_content": null,
            "visibility": null,
            "align_self": null,
            "height": null,
            "min_height": null,
            "padding": null,
            "grid_auto_rows": null,
            "grid_gap": null,
            "max_width": null,
            "order": null,
            "_view_module_version": "1.2.0",
            "grid_template_areas": null,
            "object_position": null,
            "object_fit": null,
            "grid_auto_columns": null,
            "margin": null,
            "display": null,
            "left": null
          }
        },
        "ad4f24d0d8814afa8179177d2c875b21": {
          "model_module": "@jupyter-widgets/controls",
          "model_name": "DescriptionStyleModel",
          "state": {
            "_view_name": "StyleView",
            "_model_name": "DescriptionStyleModel",
            "description_width": "",
            "_view_module": "@jupyter-widgets/base",
            "_model_module_version": "1.5.0",
            "_view_count": null,
            "_view_module_version": "1.2.0",
            "_model_module": "@jupyter-widgets/controls"
          }
        },
        "9a26da75e8554195abeb1bf8fcb28e6e": {
          "model_module": "@jupyter-widgets/base",
          "model_name": "LayoutModel",
          "state": {
            "_view_name": "LayoutView",
            "grid_template_rows": null,
            "right": null,
            "justify_content": null,
            "_view_module": "@jupyter-widgets/base",
            "overflow": null,
            "_model_module_version": "1.2.0",
            "_view_count": null,
            "flex_flow": null,
            "width": null,
            "min_width": null,
            "border": null,
            "align_items": null,
            "bottom": null,
            "_model_module": "@jupyter-widgets/base",
            "top": null,
            "grid_column": null,
            "overflow_y": null,
            "overflow_x": null,
            "grid_auto_flow": null,
            "grid_area": null,
            "grid_template_columns": null,
            "flex": null,
            "_model_name": "LayoutModel",
            "justify_items": null,
            "grid_row": null,
            "max_height": null,
            "align_content": null,
            "visibility": null,
            "align_self": null,
            "height": null,
            "min_height": null,
            "padding": null,
            "grid_auto_rows": null,
            "grid_gap": null,
            "max_width": null,
            "order": null,
            "_view_module_version": "1.2.0",
            "grid_template_areas": null,
            "object_position": null,
            "object_fit": null,
            "grid_auto_columns": null,
            "margin": null,
            "display": null,
            "left": null
          }
        },
        "a987ab8da8ac4f18a0bcba7fc1cb2232": {
          "model_module": "@jupyter-widgets/controls",
          "model_name": "HBoxModel",
          "state": {
            "_view_name": "HBoxView",
            "_dom_classes": [],
            "_model_name": "HBoxModel",
            "_view_module": "@jupyter-widgets/controls",
            "_model_module_version": "1.5.0",
            "_view_count": null,
            "_view_module_version": "1.5.0",
            "box_style": "",
            "layout": "IPY_MODEL_88319383ae224bd1be064e8ef4ffe66d",
            "_model_module": "@jupyter-widgets/controls",
            "children": [
              "IPY_MODEL_7ea831440a294536a84fab1bf9de5d08",
              "IPY_MODEL_7f2642a1fa0d446ea0ba726bbf1c50f8"
            ]
          }
        },
        "88319383ae224bd1be064e8ef4ffe66d": {
          "model_module": "@jupyter-widgets/base",
          "model_name": "LayoutModel",
          "state": {
            "_view_name": "LayoutView",
            "grid_template_rows": null,
            "right": null,
            "justify_content": null,
            "_view_module": "@jupyter-widgets/base",
            "overflow": null,
            "_model_module_version": "1.2.0",
            "_view_count": null,
            "flex_flow": null,
            "width": null,
            "min_width": null,
            "border": null,
            "align_items": null,
            "bottom": null,
            "_model_module": "@jupyter-widgets/base",
            "top": null,
            "grid_column": null,
            "overflow_y": null,
            "overflow_x": null,
            "grid_auto_flow": null,
            "grid_area": null,
            "grid_template_columns": null,
            "flex": null,
            "_model_name": "LayoutModel",
            "justify_items": null,
            "grid_row": null,
            "max_height": null,
            "align_content": null,
            "visibility": null,
            "align_self": null,
            "height": null,
            "min_height": null,
            "padding": null,
            "grid_auto_rows": null,
            "grid_gap": null,
            "max_width": null,
            "order": null,
            "_view_module_version": "1.2.0",
            "grid_template_areas": null,
            "object_position": null,
            "object_fit": null,
            "grid_auto_columns": null,
            "margin": null,
            "display": null,
            "left": null
          }
        },
        "7ea831440a294536a84fab1bf9de5d08": {
          "model_module": "@jupyter-widgets/controls",
          "model_name": "FloatProgressModel",
          "state": {
            "_view_name": "ProgressView",
            "style": "IPY_MODEL_8dbdca277da1464ba9308d61ab14cbf9",
            "_dom_classes": [],
            "description": "  0%",
            "_model_name": "FloatProgressModel",
            "bar_style": "danger",
            "max": 133,
            "_view_module": "@jupyter-widgets/controls",
            "_model_module_version": "1.5.0",
            "value": 0,
            "_view_count": null,
            "_view_module_version": "1.5.0",
            "orientation": "horizontal",
            "min": 0,
            "description_tooltip": null,
            "_model_module": "@jupyter-widgets/controls",
            "layout": "IPY_MODEL_db1a633861b34aa99db7a6995bc4a668"
          }
        },
        "7f2642a1fa0d446ea0ba726bbf1c50f8": {
          "model_module": "@jupyter-widgets/controls",
          "model_name": "HTMLModel",
          "state": {
            "_view_name": "HTMLView",
            "style": "IPY_MODEL_7dee7d8eb6e44a7b8645c1ba8b779202",
            "_dom_classes": [],
            "description": "",
            "_model_name": "HTMLModel",
            "placeholder": "​",
            "_view_module": "@jupyter-widgets/controls",
            "_model_module_version": "1.5.0",
            "value": " 0/133 [00:00&lt;?, ? examples/s]",
            "_view_count": null,
            "_view_module_version": "1.5.0",
            "description_tooltip": null,
            "_model_module": "@jupyter-widgets/controls",
            "layout": "IPY_MODEL_4953c86531974b4ea1bf3fa244105807"
          }
        },
        "8dbdca277da1464ba9308d61ab14cbf9": {
          "model_module": "@jupyter-widgets/controls",
          "model_name": "ProgressStyleModel",
          "state": {
            "_view_name": "StyleView",
            "_model_name": "ProgressStyleModel",
            "description_width": "initial",
            "_view_module": "@jupyter-widgets/base",
            "_model_module_version": "1.5.0",
            "_view_count": null,
            "_view_module_version": "1.2.0",
            "bar_color": null,
            "_model_module": "@jupyter-widgets/controls"
          }
        },
        "db1a633861b34aa99db7a6995bc4a668": {
          "model_module": "@jupyter-widgets/base",
          "model_name": "LayoutModel",
          "state": {
            "_view_name": "LayoutView",
            "grid_template_rows": null,
            "right": null,
            "justify_content": null,
            "_view_module": "@jupyter-widgets/base",
            "overflow": null,
            "_model_module_version": "1.2.0",
            "_view_count": null,
            "flex_flow": null,
            "width": null,
            "min_width": null,
            "border": null,
            "align_items": null,
            "bottom": null,
            "_model_module": "@jupyter-widgets/base",
            "top": null,
            "grid_column": null,
            "overflow_y": null,
            "overflow_x": null,
            "grid_auto_flow": null,
            "grid_area": null,
            "grid_template_columns": null,
            "flex": null,
            "_model_name": "LayoutModel",
            "justify_items": null,
            "grid_row": null,
            "max_height": null,
            "align_content": null,
            "visibility": null,
            "align_self": null,
            "height": null,
            "min_height": null,
            "padding": null,
            "grid_auto_rows": null,
            "grid_gap": null,
            "max_width": null,
            "order": null,
            "_view_module_version": "1.2.0",
            "grid_template_areas": null,
            "object_position": null,
            "object_fit": null,
            "grid_auto_columns": null,
            "margin": null,
            "display": null,
            "left": null
          }
        },
        "7dee7d8eb6e44a7b8645c1ba8b779202": {
          "model_module": "@jupyter-widgets/controls",
          "model_name": "DescriptionStyleModel",
          "state": {
            "_view_name": "StyleView",
            "_model_name": "DescriptionStyleModel",
            "description_width": "",
            "_view_module": "@jupyter-widgets/base",
            "_model_module_version": "1.5.0",
            "_view_count": null,
            "_view_module_version": "1.2.0",
            "_model_module": "@jupyter-widgets/controls"
          }
        },
        "4953c86531974b4ea1bf3fa244105807": {
          "model_module": "@jupyter-widgets/base",
          "model_name": "LayoutModel",
          "state": {
            "_view_name": "LayoutView",
            "grid_template_rows": null,
            "right": null,
            "justify_content": null,
            "_view_module": "@jupyter-widgets/base",
            "overflow": null,
            "_model_module_version": "1.2.0",
            "_view_count": null,
            "flex_flow": null,
            "width": null,
            "min_width": null,
            "border": null,
            "align_items": null,
            "bottom": null,
            "_model_module": "@jupyter-widgets/base",
            "top": null,
            "grid_column": null,
            "overflow_y": null,
            "overflow_x": null,
            "grid_auto_flow": null,
            "grid_area": null,
            "grid_template_columns": null,
            "flex": null,
            "_model_name": "LayoutModel",
            "justify_items": null,
            "grid_row": null,
            "max_height": null,
            "align_content": null,
            "visibility": null,
            "align_self": null,
            "height": null,
            "min_height": null,
            "padding": null,
            "grid_auto_rows": null,
            "grid_gap": null,
            "max_width": null,
            "order": null,
            "_view_module_version": "1.2.0",
            "grid_template_areas": null,
            "object_position": null,
            "object_fit": null,
            "grid_auto_columns": null,
            "margin": null,
            "display": null,
            "left": null
          }
        },
        "faba77bb58c14e6aba88f83ca8a7ecfb": {
          "model_module": "@jupyter-widgets/controls",
          "model_name": "HBoxModel",
          "state": {
            "_view_name": "HBoxView",
            "_dom_classes": [],
            "_model_name": "HBoxModel",
            "_view_module": "@jupyter-widgets/controls",
            "_model_module_version": "1.5.0",
            "_view_count": null,
            "_view_module_version": "1.5.0",
            "box_style": "",
            "layout": "IPY_MODEL_560634aa750d44e981fb9cf6b7b69912",
            "_model_module": "@jupyter-widgets/controls",
            "children": [
              "IPY_MODEL_f8ea6bc0b6fd4814ae824c054109bec4",
              "IPY_MODEL_002a699f12aa4dc7b181ebb4cedcfdb4"
            ]
          }
        },
        "560634aa750d44e981fb9cf6b7b69912": {
          "model_module": "@jupyter-widgets/base",
          "model_name": "LayoutModel",
          "state": {
            "_view_name": "LayoutView",
            "grid_template_rows": null,
            "right": null,
            "justify_content": null,
            "_view_module": "@jupyter-widgets/base",
            "overflow": null,
            "_model_module_version": "1.2.0",
            "_view_count": null,
            "flex_flow": null,
            "width": null,
            "min_width": null,
            "border": null,
            "align_items": null,
            "bottom": null,
            "_model_module": "@jupyter-widgets/base",
            "top": null,
            "grid_column": null,
            "overflow_y": null,
            "overflow_x": null,
            "grid_auto_flow": null,
            "grid_area": null,
            "grid_template_columns": null,
            "flex": null,
            "_model_name": "LayoutModel",
            "justify_items": null,
            "grid_row": null,
            "max_height": null,
            "align_content": null,
            "visibility": null,
            "align_self": null,
            "height": null,
            "min_height": null,
            "padding": null,
            "grid_auto_rows": null,
            "grid_gap": null,
            "max_width": null,
            "order": null,
            "_view_module_version": "1.2.0",
            "grid_template_areas": null,
            "object_position": null,
            "object_fit": null,
            "grid_auto_columns": null,
            "margin": null,
            "display": null,
            "left": null
          }
        },
        "f8ea6bc0b6fd4814ae824c054109bec4": {
          "model_module": "@jupyter-widgets/controls",
          "model_name": "FloatProgressModel",
          "state": {
            "_view_name": "ProgressView",
            "style": "IPY_MODEL_4ba9ab18e99f49c499aa360f5233ddcb",
            "_dom_classes": [],
            "description": "",
            "_model_name": "FloatProgressModel",
            "bar_style": "info",
            "max": 1,
            "_view_module": "@jupyter-widgets/controls",
            "_model_module_version": "1.5.0",
            "value": 1,
            "_view_count": null,
            "_view_module_version": "1.5.0",
            "orientation": "horizontal",
            "min": 0,
            "description_tooltip": null,
            "_model_module": "@jupyter-widgets/controls",
            "layout": "IPY_MODEL_78ecfafb1bcb4e3ea17865547f8dffcd"
          }
        },
        "002a699f12aa4dc7b181ebb4cedcfdb4": {
          "model_module": "@jupyter-widgets/controls",
          "model_name": "HTMLModel",
          "state": {
            "_view_name": "HTMLView",
            "style": "IPY_MODEL_da3dfdf0d7ba4b778238f0eca332c502",
            "_dom_classes": [],
            "description": "",
            "_model_name": "HTMLModel",
            "placeholder": "​",
            "_view_module": "@jupyter-widgets/controls",
            "_model_module_version": "1.5.0",
            "value": " 128/0 [00:00&lt;00:00, 677.28 examples/s]",
            "_view_count": null,
            "_view_module_version": "1.5.0",
            "description_tooltip": null,
            "_model_module": "@jupyter-widgets/controls",
            "layout": "IPY_MODEL_ec16b8b3eda749c2b39419ce682704a6"
          }
        },
        "4ba9ab18e99f49c499aa360f5233ddcb": {
          "model_module": "@jupyter-widgets/controls",
          "model_name": "ProgressStyleModel",
          "state": {
            "_view_name": "StyleView",
            "_model_name": "ProgressStyleModel",
            "description_width": "initial",
            "_view_module": "@jupyter-widgets/base",
            "_model_module_version": "1.5.0",
            "_view_count": null,
            "_view_module_version": "1.2.0",
            "bar_color": null,
            "_model_module": "@jupyter-widgets/controls"
          }
        },
        "78ecfafb1bcb4e3ea17865547f8dffcd": {
          "model_module": "@jupyter-widgets/base",
          "model_name": "LayoutModel",
          "state": {
            "_view_name": "LayoutView",
            "grid_template_rows": null,
            "right": null,
            "justify_content": null,
            "_view_module": "@jupyter-widgets/base",
            "overflow": null,
            "_model_module_version": "1.2.0",
            "_view_count": null,
            "flex_flow": null,
            "width": null,
            "min_width": null,
            "border": null,
            "align_items": null,
            "bottom": null,
            "_model_module": "@jupyter-widgets/base",
            "top": null,
            "grid_column": null,
            "overflow_y": null,
            "overflow_x": null,
            "grid_auto_flow": null,
            "grid_area": null,
            "grid_template_columns": null,
            "flex": null,
            "_model_name": "LayoutModel",
            "justify_items": null,
            "grid_row": null,
            "max_height": null,
            "align_content": null,
            "visibility": null,
            "align_self": null,
            "height": null,
            "min_height": null,
            "padding": null,
            "grid_auto_rows": null,
            "grid_gap": null,
            "max_width": null,
            "order": null,
            "_view_module_version": "1.2.0",
            "grid_template_areas": null,
            "object_position": null,
            "object_fit": null,
            "grid_auto_columns": null,
            "margin": null,
            "display": null,
            "left": null
          }
        },
        "da3dfdf0d7ba4b778238f0eca332c502": {
          "model_module": "@jupyter-widgets/controls",
          "model_name": "DescriptionStyleModel",
          "state": {
            "_view_name": "StyleView",
            "_model_name": "DescriptionStyleModel",
            "description_width": "",
            "_view_module": "@jupyter-widgets/base",
            "_model_module_version": "1.5.0",
            "_view_count": null,
            "_view_module_version": "1.2.0",
            "_model_module": "@jupyter-widgets/controls"
          }
        },
        "ec16b8b3eda749c2b39419ce682704a6": {
          "model_module": "@jupyter-widgets/base",
          "model_name": "LayoutModel",
          "state": {
            "_view_name": "LayoutView",
            "grid_template_rows": null,
            "right": null,
            "justify_content": null,
            "_view_module": "@jupyter-widgets/base",
            "overflow": null,
            "_model_module_version": "1.2.0",
            "_view_count": null,
            "flex_flow": null,
            "width": null,
            "min_width": null,
            "border": null,
            "align_items": null,
            "bottom": null,
            "_model_module": "@jupyter-widgets/base",
            "top": null,
            "grid_column": null,
            "overflow_y": null,
            "overflow_x": null,
            "grid_auto_flow": null,
            "grid_area": null,
            "grid_template_columns": null,
            "flex": null,
            "_model_name": "LayoutModel",
            "justify_items": null,
            "grid_row": null,
            "max_height": null,
            "align_content": null,
            "visibility": null,
            "align_self": null,
            "height": null,
            "min_height": null,
            "padding": null,
            "grid_auto_rows": null,
            "grid_gap": null,
            "max_width": null,
            "order": null,
            "_view_module_version": "1.2.0",
            "grid_template_areas": null,
            "object_position": null,
            "object_fit": null,
            "grid_auto_columns": null,
            "margin": null,
            "display": null,
            "left": null
          }
        },
        "c32764925aa24127865075b7c01e2ae4": {
          "model_module": "@jupyter-widgets/controls",
          "model_name": "HBoxModel",
          "state": {
            "_view_name": "HBoxView",
            "_dom_classes": [],
            "_model_name": "HBoxModel",
            "_view_module": "@jupyter-widgets/controls",
            "_model_module_version": "1.5.0",
            "_view_count": null,
            "_view_module_version": "1.5.0",
            "box_style": "",
            "layout": "IPY_MODEL_8aed4f5efa7a4a219008de87d956f717",
            "_model_module": "@jupyter-widgets/controls",
            "children": [
              "IPY_MODEL_6ac0f181f09c47fabf4b2a8efd44267b",
              "IPY_MODEL_f5bc09a1e7b1408285dcfcda39649da0"
            ]
          }
        },
        "8aed4f5efa7a4a219008de87d956f717": {
          "model_module": "@jupyter-widgets/base",
          "model_name": "LayoutModel",
          "state": {
            "_view_name": "LayoutView",
            "grid_template_rows": null,
            "right": null,
            "justify_content": null,
            "_view_module": "@jupyter-widgets/base",
            "overflow": null,
            "_model_module_version": "1.2.0",
            "_view_count": null,
            "flex_flow": null,
            "width": null,
            "min_width": null,
            "border": null,
            "align_items": null,
            "bottom": null,
            "_model_module": "@jupyter-widgets/base",
            "top": null,
            "grid_column": null,
            "overflow_y": null,
            "overflow_x": null,
            "grid_auto_flow": null,
            "grid_area": null,
            "grid_template_columns": null,
            "flex": null,
            "_model_name": "LayoutModel",
            "justify_items": null,
            "grid_row": null,
            "max_height": null,
            "align_content": null,
            "visibility": null,
            "align_self": null,
            "height": null,
            "min_height": null,
            "padding": null,
            "grid_auto_rows": null,
            "grid_gap": null,
            "max_width": null,
            "order": null,
            "_view_module_version": "1.2.0",
            "grid_template_areas": null,
            "object_position": null,
            "object_fit": null,
            "grid_auto_columns": null,
            "margin": null,
            "display": null,
            "left": null
          }
        },
        "6ac0f181f09c47fabf4b2a8efd44267b": {
          "model_module": "@jupyter-widgets/controls",
          "model_name": "FloatProgressModel",
          "state": {
            "_view_name": "ProgressView",
            "style": "IPY_MODEL_26ab03ee7e7f4f2ea73f4da4204a658a",
            "_dom_classes": [],
            "description": "  0%",
            "_model_name": "FloatProgressModel",
            "bar_style": "danger",
            "max": 128,
            "_view_module": "@jupyter-widgets/controls",
            "_model_module_version": "1.5.0",
            "value": 0,
            "_view_count": null,
            "_view_module_version": "1.5.0",
            "orientation": "horizontal",
            "min": 0,
            "description_tooltip": null,
            "_model_module": "@jupyter-widgets/controls",
            "layout": "IPY_MODEL_4d97f4b2d30648eeb8688313c7e14988"
          }
        },
        "f5bc09a1e7b1408285dcfcda39649da0": {
          "model_module": "@jupyter-widgets/controls",
          "model_name": "HTMLModel",
          "state": {
            "_view_name": "HTMLView",
            "style": "IPY_MODEL_5434ad5c01fb4497895ee51ac0c9083b",
            "_dom_classes": [],
            "description": "",
            "_model_name": "HTMLModel",
            "placeholder": "​",
            "_view_module": "@jupyter-widgets/controls",
            "_model_module_version": "1.5.0",
            "value": " 0/128 [00:05&lt;?, ? examples/s]",
            "_view_count": null,
            "_view_module_version": "1.5.0",
            "description_tooltip": null,
            "_model_module": "@jupyter-widgets/controls",
            "layout": "IPY_MODEL_14ce27ddc532457da0ba63ebf2197a7d"
          }
        },
        "26ab03ee7e7f4f2ea73f4da4204a658a": {
          "model_module": "@jupyter-widgets/controls",
          "model_name": "ProgressStyleModel",
          "state": {
            "_view_name": "StyleView",
            "_model_name": "ProgressStyleModel",
            "description_width": "initial",
            "_view_module": "@jupyter-widgets/base",
            "_model_module_version": "1.5.0",
            "_view_count": null,
            "_view_module_version": "1.2.0",
            "bar_color": null,
            "_model_module": "@jupyter-widgets/controls"
          }
        },
        "4d97f4b2d30648eeb8688313c7e14988": {
          "model_module": "@jupyter-widgets/base",
          "model_name": "LayoutModel",
          "state": {
            "_view_name": "LayoutView",
            "grid_template_rows": null,
            "right": null,
            "justify_content": null,
            "_view_module": "@jupyter-widgets/base",
            "overflow": null,
            "_model_module_version": "1.2.0",
            "_view_count": null,
            "flex_flow": null,
            "width": null,
            "min_width": null,
            "border": null,
            "align_items": null,
            "bottom": null,
            "_model_module": "@jupyter-widgets/base",
            "top": null,
            "grid_column": null,
            "overflow_y": null,
            "overflow_x": null,
            "grid_auto_flow": null,
            "grid_area": null,
            "grid_template_columns": null,
            "flex": null,
            "_model_name": "LayoutModel",
            "justify_items": null,
            "grid_row": null,
            "max_height": null,
            "align_content": null,
            "visibility": null,
            "align_self": null,
            "height": null,
            "min_height": null,
            "padding": null,
            "grid_auto_rows": null,
            "grid_gap": null,
            "max_width": null,
            "order": null,
            "_view_module_version": "1.2.0",
            "grid_template_areas": null,
            "object_position": null,
            "object_fit": null,
            "grid_auto_columns": null,
            "margin": null,
            "display": null,
            "left": null
          }
        },
        "5434ad5c01fb4497895ee51ac0c9083b": {
          "model_module": "@jupyter-widgets/controls",
          "model_name": "DescriptionStyleModel",
          "state": {
            "_view_name": "StyleView",
            "_model_name": "DescriptionStyleModel",
            "description_width": "",
            "_view_module": "@jupyter-widgets/base",
            "_model_module_version": "1.5.0",
            "_view_count": null,
            "_view_module_version": "1.2.0",
            "_model_module": "@jupyter-widgets/controls"
          }
        },
        "14ce27ddc532457da0ba63ebf2197a7d": {
          "model_module": "@jupyter-widgets/base",
          "model_name": "LayoutModel",
          "state": {
            "_view_name": "LayoutView",
            "grid_template_rows": null,
            "right": null,
            "justify_content": null,
            "_view_module": "@jupyter-widgets/base",
            "overflow": null,
            "_model_module_version": "1.2.0",
            "_view_count": null,
            "flex_flow": null,
            "width": null,
            "min_width": null,
            "border": null,
            "align_items": null,
            "bottom": null,
            "_model_module": "@jupyter-widgets/base",
            "top": null,
            "grid_column": null,
            "overflow_y": null,
            "overflow_x": null,
            "grid_auto_flow": null,
            "grid_area": null,
            "grid_template_columns": null,
            "flex": null,
            "_model_name": "LayoutModel",
            "justify_items": null,
            "grid_row": null,
            "max_height": null,
            "align_content": null,
            "visibility": null,
            "align_self": null,
            "height": null,
            "min_height": null,
            "padding": null,
            "grid_auto_rows": null,
            "grid_gap": null,
            "max_width": null,
            "order": null,
            "_view_module_version": "1.2.0",
            "grid_template_areas": null,
            "object_position": null,
            "object_fit": null,
            "grid_auto_columns": null,
            "margin": null,
            "display": null,
            "left": null
          }
        }
      }
    }
  },
  "cells": [
    {
      "cell_type": "markdown",
      "metadata": {
        "id": "view-in-github",
        "colab_type": "text"
      },
      "source": [
        "<a href=\"https://colab.research.google.com/github/Itsuki-Hamano123/auto_ml/blob/master/auto-keras/Beans/MobileNet_FineTuning.ipynb\" target=\"_parent\"><img src=\"https://colab.research.google.com/assets/colab-badge.svg\" alt=\"Open In Colab\"/></a>"
      ]
    },
    {
      "cell_type": "code",
      "metadata": {
        "id": "FxHegnvglDac",
        "colab_type": "code",
        "colab": {
          "base_uri": "https://localhost:8080/",
          "height": 487
        },
        "outputId": "aef76e8a-12d5-41ad-eeb4-3ccf5503686a"
      },
      "source": [
        "%pip install tensorflow-hub\n",
        "%pip show tensorflow-hub\n",
        "%pip show tensorflow"
      ],
      "execution_count": 1,
      "outputs": [
        {
          "output_type": "stream",
          "text": [
            "Requirement already satisfied: tensorflow-hub in /usr/local/lib/python3.6/dist-packages (0.9.0)\n",
            "Requirement already satisfied: protobuf>=3.8.0 in /usr/local/lib/python3.6/dist-packages (from tensorflow-hub) (3.12.4)\n",
            "Requirement already satisfied: numpy>=1.12.0 in /usr/local/lib/python3.6/dist-packages (from tensorflow-hub) (1.18.5)\n",
            "Requirement already satisfied: six>=1.12.0 in /usr/local/lib/python3.6/dist-packages (from tensorflow-hub) (1.15.0)\n",
            "Requirement already satisfied: setuptools in /usr/local/lib/python3.6/dist-packages (from protobuf>=3.8.0->tensorflow-hub) (50.3.0)\n",
            "Name: tensorflow-hub\n",
            "Version: 0.9.0\n",
            "Summary: TensorFlow Hub is a library to foster the publication, discovery, and consumption of reusable parts of machine learning models.\n",
            "Home-page: https://github.com/tensorflow/hub\n",
            "Author: Google LLC\n",
            "Author-email: packages@tensorflow.org\n",
            "License: Apache 2.0\n",
            "Location: /usr/local/lib/python3.6/dist-packages\n",
            "Requires: protobuf, six, numpy\n",
            "Required-by: \n",
            "Name: tensorflow\n",
            "Version: 2.3.0\n",
            "Summary: TensorFlow is an open source machine learning framework for everyone.\n",
            "Home-page: https://www.tensorflow.org/\n",
            "Author: Google Inc.\n",
            "Author-email: packages@tensorflow.org\n",
            "License: Apache 2.0\n",
            "Location: /usr/local/lib/python3.6/dist-packages\n",
            "Requires: termcolor, grpcio, google-pasta, protobuf, absl-py, astunparse, tensorboard, numpy, opt-einsum, wrapt, tensorflow-estimator, wheel, six, scipy, keras-preprocessing, gast, h5py\n",
            "Required-by: fancyimpute\n"
          ],
          "name": "stdout"
        }
      ]
    },
    {
      "cell_type": "code",
      "metadata": {
        "id": "PaQDD90k3fOO",
        "colab_type": "code",
        "colab": {
          "base_uri": "https://localhost:8080/",
          "height": 73
        },
        "outputId": "f677bb5f-6992-4f3c-f873-efbc54afe097"
      },
      "source": [
        "import numpy as np\n",
        "\n",
        "import tensorflow as tf\n",
        "from tensorflow.keras import Sequential, layers\n",
        "from tensorflow.keras.callbacks import EarlyStopping\n",
        "from tensorflow.keras.optimizers import Adam\n",
        "\n",
        "import tensorflow_datasets  as tfds\n",
        "import tensorflow_hub as hub\n",
        "\n",
        "from sklearn.metrics import confusion_matrix, classification_report\n",
        "import seaborn as sns\n",
        "import matplotlib.pyplot as plt"
      ],
      "execution_count": 22,
      "outputs": [
        {
          "output_type": "stream",
          "text": [
            "/usr/local/lib/python3.6/dist-packages/statsmodels/tools/_testing.py:19: FutureWarning: pandas.util.testing is deprecated. Use the functions in the public API at pandas.testing instead.\n",
            "  import pandas.util.testing as tm\n"
          ],
          "name": "stderr"
        }
      ]
    },
    {
      "cell_type": "markdown",
      "metadata": {
        "id": "hhMX2rgPeFCz",
        "colab_type": "text"
      },
      "source": [
        "## データの読み込み"
      ]
    },
    {
      "cell_type": "code",
      "metadata": {
        "id": "ThAaBtxbltkW",
        "colab_type": "code",
        "colab": {
          "base_uri": "https://localhost:8080/",
          "height": 1000,
          "referenced_widgets": [
            "8b738347056c439bb8a53aad47b839b4",
            "142db891fccf4ffb8af2cb562c2c6d33",
            "8d00c8cc8aed4246a5257a3039b2486f",
            "6d27b0103141422baad68aa981888ee0",
            "1814cf993f76493795ebd42c264f02fd",
            "611ede77a9114ccbae2710a3d49946a1",
            "927c15b1faf94d5a96c3ab8e08f6e143",
            "9aa0a411971e4804a64bdd4ed1a99f64",
            "f7ad4599b07a4db58edd547992c65a2e",
            "c1e671bb0900426fb1d04c2fb8ca588b",
            "b98a9d9accdf4563a63e4b31655f001e",
            "f1bac90ae8e14f5cb080f65d87216ebd",
            "6e4981fc2c5f4ac68c438072256d8bdb",
            "f0c1ce03ffb94a64b3cfcb6d2fe3f9be",
            "e43470aed76642c992f5756e5e1bc3fb",
            "493bd2f878aa4453bf5227b31f12092a",
            "dcc4dd6a53a449bcac3787a422653578",
            "3f3fca59c86d496a8ffd62fd2bd9e2b3",
            "ff9d82e5acd14d6e8ff7de381c8564a8",
            "c649e0c8f95b4c9ab4b0601bd90c45a2",
            "4010b2889f7b4eaa8691970be7119b5f",
            "98a959085e2b43309f0e2921a7c37465",
            "9cda62fe860a4b82bc89dd67f7c34831",
            "b6ea07bc26224ec68c6d064d3bcc78d5",
            "6a8c3c5530594afa92ef3ca641de9089",
            "b6947a5fa9344bc3ae417193d5eae13b",
            "0f582613b37645f39ea7b69e80e097ed",
            "ba4f3e90773e4a31a094ce7dc1a816bd",
            "04089ca0e4a544a2a60a4bc9da7e1251",
            "26c90f2eed4e4870b5d4bad74c30b6f5",
            "3b1a03b609424daebf2b06265b31f800",
            "b916984c20424ae0ad1e29a1a1de197d",
            "72abfacc24cf47b49310758fa13bdf2a",
            "5301f58a80794720862d27d4421891e6",
            "531edbf790dd4540bda7f53d8215257b",
            "ae23da1fdef5491c9122e5f0a4900274",
            "b9f768c5b8dd4fb7b9991b8435fe8463",
            "8d3f68f02a604ae4a89a807c11767347",
            "ad4f24d0d8814afa8179177d2c875b21",
            "9a26da75e8554195abeb1bf8fcb28e6e",
            "a987ab8da8ac4f18a0bcba7fc1cb2232",
            "88319383ae224bd1be064e8ef4ffe66d",
            "7ea831440a294536a84fab1bf9de5d08",
            "7f2642a1fa0d446ea0ba726bbf1c50f8",
            "8dbdca277da1464ba9308d61ab14cbf9",
            "db1a633861b34aa99db7a6995bc4a668",
            "7dee7d8eb6e44a7b8645c1ba8b779202",
            "4953c86531974b4ea1bf3fa244105807",
            "faba77bb58c14e6aba88f83ca8a7ecfb",
            "560634aa750d44e981fb9cf6b7b69912",
            "f8ea6bc0b6fd4814ae824c054109bec4",
            "002a699f12aa4dc7b181ebb4cedcfdb4",
            "4ba9ab18e99f49c499aa360f5233ddcb",
            "78ecfafb1bcb4e3ea17865547f8dffcd",
            "da3dfdf0d7ba4b778238f0eca332c502",
            "ec16b8b3eda749c2b39419ce682704a6",
            "c32764925aa24127865075b7c01e2ae4",
            "8aed4f5efa7a4a219008de87d956f717",
            "6ac0f181f09c47fabf4b2a8efd44267b",
            "f5bc09a1e7b1408285dcfcda39649da0",
            "26ab03ee7e7f4f2ea73f4da4204a658a",
            "4d97f4b2d30648eeb8688313c7e14988",
            "5434ad5c01fb4497895ee51ac0c9083b",
            "14ce27ddc532457da0ba63ebf2197a7d"
          ]
        },
        "outputId": "6b3fc528-6c24-4429-8dd5-72a6d38c1cdc"
      },
      "source": [
        "def fetch_tf_dataset(data_name, \n",
        "                     split=['train','validation','test'],\n",
        "                     shuffle_files=True, as_supervised=True,\n",
        "                     with_info=True, batch_size=None):\n",
        "  '''TensorFlowデータセットからデータをフェッチ'''\n",
        "  (ds_train, ds_val, ds_test), data_info = tfds.load(data_name, split=split,\n",
        "                                  shuffle_files=shuffle_files,\n",
        "                                  as_supervised=as_supervised,\n",
        "                                  with_info=with_info,\n",
        "                                  batch_size=batch_size)\n",
        "  return ds_train, ds_val, ds_test, data_info\n",
        "  \n",
        "\n",
        "\n",
        "data_name = 'beans' # @param{type:'string'}\n",
        "x_name = 'image' # @param{type:'string'}\n",
        "y_name = 'label' # @param{type:'string'}\n",
        "# データのバッチサイズ\n",
        "BATCH_SIZE = 256 # @param{type:'number'}\n",
        "\n",
        "# データのフェッチ\n",
        "ds_train, ds_val, ds_test, ds_info = fetch_tf_dataset(data_name=data_name,\n",
        "                                     as_supervised=True,\n",
        "                                     batch_size=BATCH_SIZE)\n",
        "\n",
        "display(ds_info)"
      ],
      "execution_count": 3,
      "outputs": [
        {
          "output_type": "stream",
          "text": [
            "\u001b[1mDownloading and preparing dataset beans/0.1.0 (download: Unknown size, generated: 171.63 MiB, total: 171.63 MiB) to /root/tensorflow_datasets/beans/0.1.0...\u001b[0m\n"
          ],
          "name": "stdout"
        },
        {
          "output_type": "display_data",
          "data": {
            "application/vnd.jupyter.widget-view+json": {
              "model_id": "8b738347056c439bb8a53aad47b839b4",
              "version_minor": 0,
              "version_major": 2
            },
            "text/plain": [
              "HBox(children=(FloatProgress(value=1.0, bar_style='info', description='Dl Completed...', max=1.0, style=Progre…"
            ]
          },
          "metadata": {
            "tags": []
          }
        },
        {
          "output_type": "display_data",
          "data": {
            "application/vnd.jupyter.widget-view+json": {
              "model_id": "f7ad4599b07a4db58edd547992c65a2e",
              "version_minor": 0,
              "version_major": 2
            },
            "text/plain": [
              "HBox(children=(FloatProgress(value=1.0, bar_style='info', description='Dl Size...', max=1.0, style=ProgressSty…"
            ]
          },
          "metadata": {
            "tags": []
          }
        },
        {
          "output_type": "stream",
          "text": [
            "/usr/local/lib/python3.6/dist-packages/urllib3/connectionpool.py:847: InsecureRequestWarning: Unverified HTTPS request is being made. Adding certificate verification is strongly advised. See: https://urllib3.readthedocs.io/en/latest/advanced-usage.html#ssl-warnings\n",
            "  InsecureRequestWarning)\n",
            "/usr/local/lib/python3.6/dist-packages/urllib3/connectionpool.py:847: InsecureRequestWarning: Unverified HTTPS request is being made. Adding certificate verification is strongly advised. See: https://urllib3.readthedocs.io/en/latest/advanced-usage.html#ssl-warnings\n",
            "  InsecureRequestWarning)\n",
            "/usr/local/lib/python3.6/dist-packages/urllib3/connectionpool.py:847: InsecureRequestWarning: Unverified HTTPS request is being made. Adding certificate verification is strongly advised. See: https://urllib3.readthedocs.io/en/latest/advanced-usage.html#ssl-warnings\n",
            "  InsecureRequestWarning)\n"
          ],
          "name": "stderr"
        },
        {
          "output_type": "stream",
          "text": [
            "\n",
            "\n",
            "\n",
            "\n"
          ],
          "name": "stdout"
        },
        {
          "output_type": "display_data",
          "data": {
            "application/vnd.jupyter.widget-view+json": {
              "model_id": "dcc4dd6a53a449bcac3787a422653578",
              "version_minor": 0,
              "version_major": 2
            },
            "text/plain": [
              "HBox(children=(FloatProgress(value=1.0, bar_style='info', max=1.0), HTML(value='')))"
            ]
          },
          "metadata": {
            "tags": []
          }
        },
        {
          "output_type": "stream",
          "text": [
            "\rShuffling and writing examples to /root/tensorflow_datasets/beans/0.1.0.incompleteOBW2MU/beans-train.tfrecord\n"
          ],
          "name": "stdout"
        },
        {
          "output_type": "display_data",
          "data": {
            "application/vnd.jupyter.widget-view+json": {
              "model_id": "6a8c3c5530594afa92ef3ca641de9089",
              "version_minor": 0,
              "version_major": 2
            },
            "text/plain": [
              "HBox(children=(FloatProgress(value=0.0, max=1034.0), HTML(value='')))"
            ]
          },
          "metadata": {
            "tags": []
          }
        },
        {
          "output_type": "stream",
          "text": [
            "\r"
          ],
          "name": "stdout"
        },
        {
          "output_type": "display_data",
          "data": {
            "application/vnd.jupyter.widget-view+json": {
              "model_id": "72abfacc24cf47b49310758fa13bdf2a",
              "version_minor": 0,
              "version_major": 2
            },
            "text/plain": [
              "HBox(children=(FloatProgress(value=1.0, bar_style='info', max=1.0), HTML(value='')))"
            ]
          },
          "metadata": {
            "tags": []
          }
        },
        {
          "output_type": "stream",
          "text": [
            "\rShuffling and writing examples to /root/tensorflow_datasets/beans/0.1.0.incompleteOBW2MU/beans-validation.tfrecord\n"
          ],
          "name": "stdout"
        },
        {
          "output_type": "display_data",
          "data": {
            "application/vnd.jupyter.widget-view+json": {
              "model_id": "a987ab8da8ac4f18a0bcba7fc1cb2232",
              "version_minor": 0,
              "version_major": 2
            },
            "text/plain": [
              "HBox(children=(FloatProgress(value=0.0, max=133.0), HTML(value='')))"
            ]
          },
          "metadata": {
            "tags": []
          }
        },
        {
          "output_type": "stream",
          "text": [
            "\r"
          ],
          "name": "stdout"
        },
        {
          "output_type": "display_data",
          "data": {
            "application/vnd.jupyter.widget-view+json": {
              "model_id": "faba77bb58c14e6aba88f83ca8a7ecfb",
              "version_minor": 0,
              "version_major": 2
            },
            "text/plain": [
              "HBox(children=(FloatProgress(value=1.0, bar_style='info', max=1.0), HTML(value='')))"
            ]
          },
          "metadata": {
            "tags": []
          }
        },
        {
          "output_type": "stream",
          "text": [
            "\rShuffling and writing examples to /root/tensorflow_datasets/beans/0.1.0.incompleteOBW2MU/beans-test.tfrecord\n"
          ],
          "name": "stdout"
        },
        {
          "output_type": "display_data",
          "data": {
            "application/vnd.jupyter.widget-view+json": {
              "model_id": "c32764925aa24127865075b7c01e2ae4",
              "version_minor": 0,
              "version_major": 2
            },
            "text/plain": [
              "HBox(children=(FloatProgress(value=0.0, max=128.0), HTML(value='')))"
            ]
          },
          "metadata": {
            "tags": []
          }
        },
        {
          "output_type": "stream",
          "text": [
            "\u001b[1mDataset beans downloaded and prepared to /root/tensorflow_datasets/beans/0.1.0. Subsequent calls will reuse this data.\u001b[0m\n"
          ],
          "name": "stdout"
        },
        {
          "output_type": "display_data",
          "data": {
            "text/plain": [
              "tfds.core.DatasetInfo(\n",
              "    name='beans',\n",
              "    version=0.1.0,\n",
              "    description='Beans is a dataset of images of beans taken in the field using smartphone\n",
              "cameras. It consists of 3 classes: 2 disease classes and the healthy class.\n",
              "Diseases depicted include Angular Leaf Spot and Bean Rust. Data was annotated\n",
              "by experts from the National Crops Resources Research Institute (NaCRRI) in\n",
              "Uganda and collected by the Makerere AI research lab.\n",
              "',\n",
              "    homepage='https://github.com/AI-Lab-Makerere/ibean/',\n",
              "    features=FeaturesDict({\n",
              "        'image': Image(shape=(500, 500, 3), dtype=tf.uint8),\n",
              "        'label': ClassLabel(shape=(), dtype=tf.int64, num_classes=3),\n",
              "    }),\n",
              "    total_num_examples=1295,\n",
              "    splits={\n",
              "        'test': 128,\n",
              "        'train': 1034,\n",
              "        'validation': 133,\n",
              "    },\n",
              "    supervised_keys=('image', 'label'),\n",
              "    citation=\"\"\"@ONLINE {beansdata,\n",
              "        author=\"Makerere AI Lab\",\n",
              "        title=\"Bean disease dataset\",\n",
              "        month=\"January\",\n",
              "        year=\"2020\",\n",
              "        url=\"https://github.com/AI-Lab-Makerere/ibean/\"\n",
              "    }\"\"\",\n",
              "    redistribution_info=,\n",
              ")"
            ]
          },
          "metadata": {
            "tags": []
          }
        }
      ]
    },
    {
      "cell_type": "markdown",
      "metadata": {
        "id": "8Akcg8QDhQGD",
        "colab_type": "text"
      },
      "source": [
        "# モデル作成"
      ]
    },
    {
      "cell_type": "markdown",
      "metadata": {
        "id": "bds2zOfsNjj-",
        "colab_type": "text"
      },
      "source": [
        "## 前処理を行うKerasレイヤー\n",
        "https://www.tensorflow.org/tutorials/images/data_augmentation?hl=ja"
      ]
    },
    {
      "cell_type": "code",
      "metadata": {
        "id": "UbMfmbTFwFfK",
        "colab_type": "code",
        "colab": {}
      },
      "source": [
        "# リサイズ後の画像サイズ\n",
        "RESIZE_IMG_SIZE = 224\n",
        "\n",
        "# 画像のリサイズと、画素値のリスケールを行う層\n",
        "resize_and_rescale = tf.keras.Sequential(layers=[\n",
        "  layers.experimental.preprocessing.Resizing(height=RESIZE_IMG_SIZE,\n",
        "                                             width=RESIZE_IMG_SIZE),\n",
        "  layers.experimental.preprocessing.Rescaling(1./255)\n",
        "], name='resize_and_rescale')\n",
        "\n",
        "\n",
        "# Data Augmentationを行う層 \n",
        "# 推論時には実行されない層\n",
        "data_augmentation = tf.keras.Sequential(layers=[\n",
        "                                          layers.experimental.preprocessing.RandomFlip(\"horizontal_and_vertical\"),\n",
        "                                          layers.experimental.preprocessing.RandomRotation(0.2),\n",
        "                                        ], name='train_data_augmentation')"
      ],
      "execution_count": 4,
      "outputs": []
    },
    {
      "cell_type": "markdown",
      "metadata": {
        "id": "3-Yelghw4RyP",
        "colab_type": "text"
      },
      "source": [
        "## ファインチューニングさせるMobileNet\n",
        "前処理レイヤーの差し込みも行う"
      ]
    },
    {
      "cell_type": "code",
      "metadata": {
        "id": "wvLrXPool2yJ",
        "colab_type": "code",
        "colab": {
          "base_uri": "https://localhost:8080/",
          "height": 305
        },
        "outputId": "24932af5-2f0a-4da6-981c-ce1c8ebd0bf6"
      },
      "source": [
        "def _fetch_hub_keras_layer(hub_url, trainable=False):\n",
        "  '''tensorflow hubのレイヤーをKerasレイヤーとしてfetch'''\n",
        "  fetch_keras_layer = hub.KerasLayer(hub_url, trainable=trainable)\n",
        "  return fetch_keras_layer\n",
        "\n",
        "\n",
        "def clf_model_fn(hub_url, input_shape, output_shape, hub_layer_trainable=False):\n",
        "  '''分類モデルの構造を定義'''\n",
        "  model = Sequential([\n",
        "                      resize_and_rescale, # 前処理用のレイヤー\n",
        "                      data_augmentation, # 前処理用のレイヤー\n",
        "                      _fetch_hub_keras_layer(hub_url, trainable=hub_layer_trainable),\n",
        "                      layers.Dense(output_shape, activation='softmax')\n",
        "  ])\n",
        "  model.build(input_shape)\n",
        "  return model\n",
        "\n",
        "\n",
        "TF_HUB_URL = 'https://tfhub.dev/google/imagenet/mobilenet_v2_100_224/feature_vector/4' #@param{type:'string'}\n",
        "# 画像をリサイズする層があるためinputの画像サイズは未指定\n",
        "MODEL_INPUT_SHAPE = (None, None, None, 3)\n",
        "CLASS_NUM = ds_info.features[y_name].num_classes\n",
        "FINE_TUNING = False\n",
        "\n",
        "clf = clf_model_fn(hub_url=TF_HUB_URL, input_shape=MODEL_INPUT_SHAPE,\n",
        "                   output_shape=CLASS_NUM, hub_layer_trainable=FINE_TUNING)\n",
        "clf.summary()"
      ],
      "execution_count": 5,
      "outputs": [
        {
          "output_type": "stream",
          "text": [
            "Model: \"sequential\"\n",
            "_________________________________________________________________\n",
            "Layer (type)                 Output Shape              Param #   \n",
            "=================================================================\n",
            "resize_and_rescale (Sequenti (None, 224, 224, 3)       0         \n",
            "_________________________________________________________________\n",
            "train_data_augmentation (Seq (None, 224, 224, 3)       0         \n",
            "_________________________________________________________________\n",
            "keras_layer (KerasLayer)     (None, 1280)              2257984   \n",
            "_________________________________________________________________\n",
            "dense (Dense)                (None, 3)                 3843      \n",
            "=================================================================\n",
            "Total params: 2,261,827\n",
            "Trainable params: 3,843\n",
            "Non-trainable params: 2,257,984\n",
            "_________________________________________________________________\n"
          ],
          "name": "stdout"
        }
      ]
    },
    {
      "cell_type": "code",
      "metadata": {
        "id": "LIQqco6tx-ZK",
        "colab_type": "code",
        "colab": {}
      },
      "source": [
        "es = EarlyStopping(patience=3)\n",
        "\n",
        "clf.compile(\n",
        "    loss='sparse_categorical_crossentropy',\n",
        "    optimizer=Adam(0.001),\n",
        "    metrics=['accuracy'],\n",
        ")"
      ],
      "execution_count": 6,
      "outputs": []
    },
    {
      "cell_type": "code",
      "metadata": {
        "id": "Y4InpPTtxRGb",
        "colab_type": "code",
        "colab": {
          "base_uri": "https://localhost:8080/",
          "height": 1000
        },
        "outputId": "4a7c736f-1552-4930-8217-7a4e675d21c9"
      },
      "source": [
        "EPOCHS = 100 #@param{type:'number'}\n",
        "\n",
        "# バッチサイズはDatasetをfetchする際に指定済み\n",
        "clf.fit(ds_train, epochs=EPOCHS,\n",
        "        validation_data=ds_val,\n",
        "        callbacks=[es])"
      ],
      "execution_count": 7,
      "outputs": [
        {
          "output_type": "stream",
          "text": [
            "Epoch 1/100\n",
            "5/5 [==============================] - 4s 706ms/step - loss: 1.1666 - accuracy: 0.4159 - val_loss: 1.0094 - val_accuracy: 0.5038\n",
            "Epoch 2/100\n",
            "5/5 [==============================] - 2s 472ms/step - loss: 0.8922 - accuracy: 0.6035 - val_loss: 0.8435 - val_accuracy: 0.6241\n",
            "Epoch 3/100\n",
            "5/5 [==============================] - 2s 474ms/step - loss: 0.7378 - accuracy: 0.7234 - val_loss: 0.6917 - val_accuracy: 0.7218\n",
            "Epoch 4/100\n",
            "5/5 [==============================] - 2s 454ms/step - loss: 0.6569 - accuracy: 0.7273 - val_loss: 0.6254 - val_accuracy: 0.7444\n",
            "Epoch 5/100\n",
            "5/5 [==============================] - 2s 473ms/step - loss: 0.5960 - accuracy: 0.7631 - val_loss: 0.5839 - val_accuracy: 0.7669\n",
            "Epoch 6/100\n",
            "5/5 [==============================] - 2s 469ms/step - loss: 0.5480 - accuracy: 0.7834 - val_loss: 0.5387 - val_accuracy: 0.8045\n",
            "Epoch 7/100\n",
            "5/5 [==============================] - 2s 459ms/step - loss: 0.5105 - accuracy: 0.8027 - val_loss: 0.5059 - val_accuracy: 0.8195\n",
            "Epoch 8/100\n",
            "5/5 [==============================] - 2s 466ms/step - loss: 0.5037 - accuracy: 0.8230 - val_loss: 0.4966 - val_accuracy: 0.7895\n",
            "Epoch 9/100\n",
            "5/5 [==============================] - 2s 470ms/step - loss: 0.4776 - accuracy: 0.8269 - val_loss: 0.4737 - val_accuracy: 0.8120\n",
            "Epoch 10/100\n",
            "5/5 [==============================] - 2s 461ms/step - loss: 0.4391 - accuracy: 0.8288 - val_loss: 0.4567 - val_accuracy: 0.8045\n",
            "Epoch 11/100\n",
            "5/5 [==============================] - 2s 460ms/step - loss: 0.4425 - accuracy: 0.8317 - val_loss: 0.4528 - val_accuracy: 0.8120\n",
            "Epoch 12/100\n",
            "5/5 [==============================] - 2s 463ms/step - loss: 0.4303 - accuracy: 0.8366 - val_loss: 0.4240 - val_accuracy: 0.8271\n",
            "Epoch 13/100\n",
            "5/5 [==============================] - 2s 453ms/step - loss: 0.4381 - accuracy: 0.8327 - val_loss: 0.4232 - val_accuracy: 0.8346\n",
            "Epoch 14/100\n",
            "5/5 [==============================] - 2s 461ms/step - loss: 0.3964 - accuracy: 0.8520 - val_loss: 0.4132 - val_accuracy: 0.8346\n",
            "Epoch 15/100\n",
            "5/5 [==============================] - 2s 451ms/step - loss: 0.4021 - accuracy: 0.8424 - val_loss: 0.3968 - val_accuracy: 0.8346\n",
            "Epoch 16/100\n",
            "5/5 [==============================] - 2s 469ms/step - loss: 0.3869 - accuracy: 0.8559 - val_loss: 0.4374 - val_accuracy: 0.8120\n",
            "Epoch 17/100\n",
            "5/5 [==============================] - 2s 467ms/step - loss: 0.3766 - accuracy: 0.8617 - val_loss: 0.4093 - val_accuracy: 0.8271\n",
            "Epoch 18/100\n",
            "5/5 [==============================] - 2s 477ms/step - loss: 0.3589 - accuracy: 0.8675 - val_loss: 0.3927 - val_accuracy: 0.8421\n",
            "Epoch 19/100\n",
            "5/5 [==============================] - 2s 459ms/step - loss: 0.3642 - accuracy: 0.8704 - val_loss: 0.3878 - val_accuracy: 0.8571\n",
            "Epoch 20/100\n",
            "5/5 [==============================] - 2s 467ms/step - loss: 0.3492 - accuracy: 0.8665 - val_loss: 0.4064 - val_accuracy: 0.8421\n",
            "Epoch 21/100\n",
            "5/5 [==============================] - 2s 454ms/step - loss: 0.3310 - accuracy: 0.8839 - val_loss: 0.3993 - val_accuracy: 0.8421\n",
            "Epoch 22/100\n",
            "5/5 [==============================] - 2s 464ms/step - loss: 0.3463 - accuracy: 0.8656 - val_loss: 0.3821 - val_accuracy: 0.8496\n",
            "Epoch 23/100\n",
            "5/5 [==============================] - 2s 459ms/step - loss: 0.3201 - accuracy: 0.8888 - val_loss: 0.3657 - val_accuracy: 0.8647\n",
            "Epoch 24/100\n",
            "5/5 [==============================] - 2s 464ms/step - loss: 0.3296 - accuracy: 0.8752 - val_loss: 0.3737 - val_accuracy: 0.8496\n",
            "Epoch 25/100\n",
            "5/5 [==============================] - 2s 470ms/step - loss: 0.3140 - accuracy: 0.8820 - val_loss: 0.3806 - val_accuracy: 0.8496\n",
            "Epoch 26/100\n",
            "5/5 [==============================] - 2s 465ms/step - loss: 0.3392 - accuracy: 0.8801 - val_loss: 0.3592 - val_accuracy: 0.8571\n",
            "Epoch 27/100\n",
            "5/5 [==============================] - 2s 457ms/step - loss: 0.3328 - accuracy: 0.8665 - val_loss: 0.3540 - val_accuracy: 0.8647\n",
            "Epoch 28/100\n",
            "5/5 [==============================] - 2s 459ms/step - loss: 0.3175 - accuracy: 0.8801 - val_loss: 0.3547 - val_accuracy: 0.8421\n",
            "Epoch 29/100\n",
            "5/5 [==============================] - 2s 464ms/step - loss: 0.3181 - accuracy: 0.8917 - val_loss: 0.3407 - val_accuracy: 0.8571\n",
            "Epoch 30/100\n",
            "5/5 [==============================] - 2s 461ms/step - loss: 0.3060 - accuracy: 0.8888 - val_loss: 0.3337 - val_accuracy: 0.8647\n",
            "Epoch 31/100\n",
            "5/5 [==============================] - 2s 460ms/step - loss: 0.3002 - accuracy: 0.8936 - val_loss: 0.3321 - val_accuracy: 0.8647\n",
            "Epoch 32/100\n",
            "5/5 [==============================] - 2s 458ms/step - loss: 0.2879 - accuracy: 0.8956 - val_loss: 0.3363 - val_accuracy: 0.8647\n",
            "Epoch 33/100\n",
            "5/5 [==============================] - 2s 453ms/step - loss: 0.2919 - accuracy: 0.8985 - val_loss: 0.3447 - val_accuracy: 0.8647\n",
            "Epoch 34/100\n",
            "5/5 [==============================] - 2s 462ms/step - loss: 0.2837 - accuracy: 0.8975 - val_loss: 0.3564 - val_accuracy: 0.8722\n"
          ],
          "name": "stdout"
        },
        {
          "output_type": "execute_result",
          "data": {
            "text/plain": [
              "<tensorflow.python.keras.callbacks.History at 0x7f61a024ec50>"
            ]
          },
          "metadata": {
            "tags": []
          },
          "execution_count": 7
        }
      ]
    },
    {
      "cell_type": "markdown",
      "metadata": {
        "id": "L453SaoEujKs",
        "colab_type": "text"
      },
      "source": [
        "# モデルの評価"
      ]
    },
    {
      "cell_type": "code",
      "metadata": {
        "id": "Lt77rRFbv4Oz",
        "colab_type": "code",
        "colab": {
          "base_uri": "https://localhost:8080/",
          "height": 107
        },
        "outputId": "61e06e89-be76-4275-9b52-0ccf54bb16c1"
      },
      "source": [
        "%time\n",
        "def take_y_from_tf_dataset(ds):\n",
        "  '''tensorflow.datasetから正解ラベル取り出し'''\n",
        "  ds_y = ds.map(map_func=lambda X,y:y) # ラベルのみを返す\n",
        "  np_list_y  = list(ds_y.as_numpy_iterator())\n",
        "\n",
        "  flat_y = np.empty(0, dtype='int')\n",
        "  for np_array in np_list_y:\n",
        "    # batch_size毎に分割されたラベルを一次元に結合\n",
        "    flat_y = np.append(flat_y, np_array)\n",
        "  return flat_y\n",
        "\n",
        "\n",
        "# tensorflow Datasetから正解ラベルを取り出し\n",
        "y_train = take_y_from_tf_dataset(ds_train)\n",
        "y_val = take_y_from_tf_dataset(ds_val)\n",
        "y_test = take_y_from_tf_dataset(ds_test)\n",
        "\n",
        "\n",
        "# モデルの予測結果取得\n",
        "pred_train = np.argmax(clf.predict(ds_train), axis=-1)\n",
        "pred_val = np.argmax(clf.predict(ds_val), axis=-1)\n",
        "pred_test = np.argmax(clf.predict(ds_test), axis=-1)\n",
        "\n",
        "display(pred_train.shape, pred_val.shape, pred_test.shape)"
      ],
      "execution_count": 20,
      "outputs": [
        {
          "output_type": "stream",
          "text": [
            "CPU times: user 2 µs, sys: 0 ns, total: 2 µs\n",
            "Wall time: 5.25 µs\n"
          ],
          "name": "stdout"
        },
        {
          "output_type": "display_data",
          "data": {
            "text/plain": [
              "(1034,)"
            ]
          },
          "metadata": {
            "tags": []
          }
        },
        {
          "output_type": "display_data",
          "data": {
            "text/plain": [
              "(133,)"
            ]
          },
          "metadata": {
            "tags": []
          }
        },
        {
          "output_type": "display_data",
          "data": {
            "text/plain": [
              "(128,)"
            ]
          },
          "metadata": {
            "tags": []
          }
        }
      ]
    },
    {
      "cell_type": "code",
      "metadata": {
        "id": "7DdraQLCF3o-",
        "colab_type": "code",
        "colab": {
          "base_uri": "https://localhost:8080/",
          "height": 1000
        },
        "outputId": "b7dfbc55-c5d8-4445-ba10-a1414ab74de8"
      },
      "source": [
        "def _calc_sk_metric(sk_metric, y_true, y_pred):\n",
        "  '''sklearnの評価関数を使う'''\n",
        "  result = sk_metric(y_true, y_pred)\n",
        "  return result\n",
        "\n",
        "\n",
        "def print_sk_metrics(sk_metrics, y_true, y_pred, data_name=None):\n",
        "  '''sklearnの評価指標の計算結果を画面に出力'''\n",
        "  print('----- {} レポート-----'.format(data_name))\n",
        "  for sk_metric in sk_metrics:\n",
        "    report = _calc_sk_metric(sk_metric, y_true, y_pred)\n",
        "    \n",
        "    if(sk_metric.__name__ == 'confusion_matrix'):\n",
        "      plt.show(sns.heatmap(report, annot=True, fmt='d', cmap='Blues'))\n",
        "    else:\n",
        "      print(report)\n",
        "\n",
        "  print('----------')\n",
        "\n",
        "\n",
        "use_sk_metrics = [confusion_matrix, classification_report]\n",
        "\n",
        "\n",
        "# 訓練データに対する評価\n",
        "print_sk_metrics(sk_metrics=use_sk_metrics, y_true=y_train,\n",
        "                 y_pred=pred_train, data_name='訓練データ')\n",
        "\n",
        "# 検証データに対する評価\n",
        "print_sk_metrics(sk_metrics=use_sk_metrics, y_true=y_val,\n",
        "                 y_pred=pred_val, data_name='検証データ')\n",
        "\n",
        "# テストデータに対する評価\n",
        "print_sk_metrics(sk_metrics=use_sk_metrics, y_true=y_test,\n",
        "                 y_pred=pred_test, data_name='テストデータ')"
      ],
      "execution_count": 23,
      "outputs": [
        {
          "output_type": "stream",
          "text": [
            "----- 訓練データ レポート-----\n"
          ],
          "name": "stdout"
        },
        {
          "output_type": "display_data",
          "data": {
            "image/png": "[encoded data removed]",
            "text/plain": [
              "<Figure size 432x288 with 2 Axes>"
            ]
          },
          "metadata": {
            "tags": [],
            "needs_background": "light"
          }
        },
        {
          "output_type": "stream",
          "text": [
            "              precision    recall  f1-score   support\n",
            "\n",
            "           0       0.46      0.35      0.40       345\n",
            "           1       0.41      0.48      0.44       348\n",
            "           2       0.45      0.48      0.46       341\n",
            "\n",
            "    accuracy                           0.44      1034\n",
            "   macro avg       0.44      0.44      0.44      1034\n",
            "weighted avg       0.44      0.44      0.44      1034\n",
            "\n",
            "----------\n",
            "----- 検証データ レポート-----\n"
          ],
          "name": "stdout"
        },
        {
          "output_type": "display_data",
          "data": {
            "image/png": "[encoded data removed]",
            "text/plain": [
              "<Figure size 432x288 with 2 Axes>"
            ]
          },
          "metadata": {
            "tags": [],
            "needs_background": "light"
          }
        },
        {
          "output_type": "stream",
          "text": [
            "              precision    recall  f1-score   support\n",
            "\n",
            "           0       1.00      0.66      0.79        44\n",
            "           1       0.75      1.00      0.86        45\n",
            "           2       0.95      0.95      0.95        44\n",
            "\n",
            "    accuracy                           0.87       133\n",
            "   macro avg       0.90      0.87      0.87       133\n",
            "weighted avg       0.90      0.87      0.87       133\n",
            "\n",
            "----------\n",
            "----- テストデータ レポート-----\n"
          ],
          "name": "stdout"
        },
        {
          "output_type": "display_data",
          "data": {
            "image/png": "[encoded data removed]",
            "text/plain": [
              "<Figure size 432x288 with 2 Axes>"
            ]
          },
          "metadata": {
            "tags": [],
            "needs_background": "light"
          }
        },
        {
          "output_type": "stream",
          "text": [
            "              precision    recall  f1-score   support\n",
            "\n",
            "           0       0.92      0.84      0.88        43\n",
            "           1       0.83      0.88      0.85        43\n",
            "           2       0.95      0.98      0.96        42\n",
            "\n",
            "    accuracy                           0.90       128\n",
            "   macro avg       0.90      0.90      0.90       128\n",
            "weighted avg       0.90      0.90      0.90       128\n",
            "\n",
            "----------\n"
          ],
          "name": "stdout"
        }
      ]
    }
  ]
}