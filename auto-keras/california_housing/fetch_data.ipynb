{
  "nbformat": 4,
  "nbformat_minor": 0,
  "metadata": {
    "colab": {
      "name": "fetch_data.ipynb",
      "provenance": [],
      "collapsed_sections": [],
      "mount_file_id": "1vMKAT-C1AOj-c9Jw32HLb75Rm3MLVv1g",
      "authorship_tag": "ABX9TyPaXGbOwwXznhbdat65K2f5",
      "include_colab_link": true
    },
    "kernelspec": {
      "name": "python3",
      "display_name": "Python 3"
    }
  },
  "cells": [
    {
      "cell_type": "markdown",
      "metadata": {
        "id": "view-in-github",
        "colab_type": "text"
      },
      "source": [
        "<a href=\"https://colab.research.google.com/github/Itsuki-Hamano123/auto_ml/blob/master/auto-keras/california_housing/fetch_data.ipynb\" target=\"_parent\"><img src=\"https://colab.research.google.com/assets/colab-badge.svg\" alt=\"Open In Colab\"/></a>"
      ]
    },
    {
      "cell_type": "code",
      "metadata": {
        "id": "W5JrVhtRLaJC",
        "colab_type": "code",
        "colab": {
          "base_uri": "https://localhost:8080/",
          "height": 649
        },
        "outputId": "db783b8b-d116-44a4-e9ae-3960970f0e32"
      },
      "source": [
        "%pip install 'scikit-learn>0.23'\n",
        "%pip show scikit-learn pandas"
      ],
      "execution_count": 1,
      "outputs": [
        {
          "output_type": "stream",
          "text": [
            "Collecting scikit-learn>0.23\n",
            "\u001b[?25l  Downloading https://files.pythonhosted.org/packages/5c/a1/273def87037a7fb010512bbc5901c31cfddfca8080bc63b42b26e3cc55b3/scikit_learn-0.23.2-cp36-cp36m-manylinux1_x86_64.whl (6.8MB)\n",
            "\u001b[K     |████████████████████████████████| 6.8MB 8.2MB/s \n",
            "\u001b[?25hCollecting threadpoolctl>=2.0.0\n",
            "  Downloading https://files.pythonhosted.org/packages/f7/12/ec3f2e203afa394a149911729357aa48affc59c20e2c1c8297a60f33f133/threadpoolctl-2.1.0-py3-none-any.whl\n",
            "Requirement already satisfied: joblib>=0.11 in /usr/local/lib/python3.6/dist-packages (from scikit-learn>0.23) (0.16.0)\n",
            "Requirement already satisfied: numpy>=1.13.3 in /usr/local/lib/python3.6/dist-packages (from scikit-learn>0.23) (1.18.5)\n",
            "Requirement already satisfied: scipy>=0.19.1 in /usr/local/lib/python3.6/dist-packages (from scikit-learn>0.23) (1.4.1)\n",
            "Installing collected packages: threadpoolctl, scikit-learn\n",
            "  Found existing installation: scikit-learn 0.22.2.post1\n",
            "    Uninstalling scikit-learn-0.22.2.post1:\n",
            "      Successfully uninstalled scikit-learn-0.22.2.post1\n",
            "Successfully installed scikit-learn-0.23.2 threadpoolctl-2.1.0\n",
            "Name: scikit-learn\n",
            "Version: 0.23.2\n",
            "Summary: A set of python modules for machine learning and data mining\n",
            "Home-page: http://scikit-learn.org\n",
            "Author: None\n",
            "Author-email: None\n",
            "License: new BSD\n",
            "Location: /usr/local/lib/python3.6/dist-packages\n",
            "Requires: joblib, numpy, threadpoolctl, scipy\n",
            "Required-by: yellowbrick, umap-learn, textgenrnn, sklearn, sklearn-pandas, mlxtend, lucid, lightgbm, librosa, imbalanced-learn, fancyimpute\n",
            "---\n",
            "Name: pandas\n",
            "Version: 1.0.5\n",
            "Summary: Powerful data structures for data analysis, time series, and statistics\n",
            "Home-page: https://pandas.pydata.org\n",
            "Author: None\n",
            "Author-email: None\n",
            "License: BSD\n",
            "Location: /usr/local/lib/python3.6/dist-packages\n",
            "Requires: python-dateutil, numpy, pytz\n",
            "Required-by: xarray, vega-datasets, statsmodels, sklearn-pandas, seaborn, pymc3, plotnine, pandas-profiling, pandas-gbq, pandas-datareader, mlxtend, mizani, holoviews, gspread-dataframe, google-colab, fix-yahoo-finance, fbprophet, fastai, cufflinks, cmdstanpy, altair\n"
          ],
          "name": "stdout"
        }
      ]
    },
    {
      "cell_type": "code",
      "metadata": {
        "id": "pQ_7nCZBQZpD",
        "colab_type": "code",
        "colab": {
          "base_uri": "https://localhost:8080/",
          "height": 53
        },
        "outputId": "f8680634-d35e-4a40-bd07-3cfe90b46b24"
      },
      "source": [
        "%cd /content/drive/My Drive/機械学習練習/AutoML/auto-keras/california_housing\n",
        "%ls"
      ],
      "execution_count": 3,
      "outputs": [
        {
          "output_type": "stream",
          "text": [
            "/content/drive/My Drive/機械学習練習/AutoML/auto-keras/california_housing\n",
            "fetch_data.ipynb\n"
          ],
          "name": "stdout"
        }
      ]
    },
    {
      "cell_type": "code",
      "metadata": {
        "id": "RAhOwMCBKw_v",
        "colab_type": "code",
        "colab": {}
      },
      "source": [
        "import cloudpickle, os\n",
        "\n",
        "import pandas as pd\n",
        "\n",
        "from sklearn.datasets import fetch_california_housing\n",
        "from sklearn.model_selection import train_test_split\n",
        "from sklearn.preprocessing import StandardScaler"
      ],
      "execution_count": 27,
      "outputs": []
    },
    {
      "cell_type": "markdown",
      "metadata": {
        "id": "nBORnG6oVdOE",
        "colab_type": "text"
      },
      "source": [
        "## データ読み込み"
      ]
    },
    {
      "cell_type": "code",
      "metadata": {
        "id": "EqQm9dptLZA_",
        "colab_type": "code",
        "colab": {
          "base_uri": "https://localhost:8080/",
          "height": 451
        },
        "outputId": "97781e1f-75b4-45e4-cde9-a9275aede037"
      },
      "source": [
        "res = fetch_california_housing(as_frame=True)\n",
        "\n",
        "FEATURE_COLS  = res.feature_names\n",
        "TARGET_COL = res.target_names\n",
        "print('features cols : {}'.format(FEATURE_COLS))\n",
        "print('target col : {}'.format(TARGET_COL))\n",
        "\n",
        "df = pd.concat([res.data, res.target], axis=1)\n",
        "df"
      ],
      "execution_count": 18,
      "outputs": [
        {
          "output_type": "stream",
          "text": [
            "features cols : ['MedInc', 'HouseAge', 'AveRooms', 'AveBedrms', 'Population', 'AveOccup', 'Latitude', 'Longitude']\n",
            "target col : ['MedHouseVal']\n"
          ],
          "name": "stdout"
        },
        {
          "output_type": "execute_result",
          "data": {
            "text/html": [
              "<div>\n",
              "<style scoped>\n",
              "    .dataframe tbody tr th:only-of-type {\n",
              "        vertical-align: middle;\n",
              "    }\n",
              "\n",
              "    .dataframe tbody tr th {\n",
              "        vertical-align: top;\n",
              "    }\n",
              "\n",
              "    .dataframe thead th {\n",
              "        text-align: right;\n",
              "    }\n",
              "</style>\n",
              "<table border=\"1\" class=\"dataframe\">\n",
              "  <thead>\n",
              "    <tr style=\"text-align: right;\">\n",
              "      <th></th>\n",
              "      <th>MedInc</th>\n",
              "      <th>HouseAge</th>\n",
              "      <th>AveRooms</th>\n",
              "      <th>AveBedrms</th>\n",
              "      <th>Population</th>\n",
              "      <th>AveOccup</th>\n",
              "      <th>Latitude</th>\n",
              "      <th>Longitude</th>\n",
              "      <th>MedHouseVal</th>\n",
              "    </tr>\n",
              "  </thead>\n",
              "  <tbody>\n",
              "    <tr>\n",
              "      <th>0</th>\n",
              "      <td>8.3252</td>\n",
              "      <td>41.0</td>\n",
              "      <td>6.984127</td>\n",
              "      <td>1.023810</td>\n",
              "      <td>322.0</td>\n",
              "      <td>2.555556</td>\n",
              "      <td>37.88</td>\n",
              "      <td>-122.23</td>\n",
              "      <td>4.526</td>\n",
              "    </tr>\n",
              "    <tr>\n",
              "      <th>1</th>\n",
              "      <td>8.3014</td>\n",
              "      <td>21.0</td>\n",
              "      <td>6.238137</td>\n",
              "      <td>0.971880</td>\n",
              "      <td>2401.0</td>\n",
              "      <td>2.109842</td>\n",
              "      <td>37.86</td>\n",
              "      <td>-122.22</td>\n",
              "      <td>3.585</td>\n",
              "    </tr>\n",
              "    <tr>\n",
              "      <th>2</th>\n",
              "      <td>7.2574</td>\n",
              "      <td>52.0</td>\n",
              "      <td>8.288136</td>\n",
              "      <td>1.073446</td>\n",
              "      <td>496.0</td>\n",
              "      <td>2.802260</td>\n",
              "      <td>37.85</td>\n",
              "      <td>-122.24</td>\n",
              "      <td>3.521</td>\n",
              "    </tr>\n",
              "    <tr>\n",
              "      <th>3</th>\n",
              "      <td>5.6431</td>\n",
              "      <td>52.0</td>\n",
              "      <td>5.817352</td>\n",
              "      <td>1.073059</td>\n",
              "      <td>558.0</td>\n",
              "      <td>2.547945</td>\n",
              "      <td>37.85</td>\n",
              "      <td>-122.25</td>\n",
              "      <td>3.413</td>\n",
              "    </tr>\n",
              "    <tr>\n",
              "      <th>4</th>\n",
              "      <td>3.8462</td>\n",
              "      <td>52.0</td>\n",
              "      <td>6.281853</td>\n",
              "      <td>1.081081</td>\n",
              "      <td>565.0</td>\n",
              "      <td>2.181467</td>\n",
              "      <td>37.85</td>\n",
              "      <td>-122.25</td>\n",
              "      <td>3.422</td>\n",
              "    </tr>\n",
              "    <tr>\n",
              "      <th>...</th>\n",
              "      <td>...</td>\n",
              "      <td>...</td>\n",
              "      <td>...</td>\n",
              "      <td>...</td>\n",
              "      <td>...</td>\n",
              "      <td>...</td>\n",
              "      <td>...</td>\n",
              "      <td>...</td>\n",
              "      <td>...</td>\n",
              "    </tr>\n",
              "    <tr>\n",
              "      <th>20635</th>\n",
              "      <td>1.5603</td>\n",
              "      <td>25.0</td>\n",
              "      <td>5.045455</td>\n",
              "      <td>1.133333</td>\n",
              "      <td>845.0</td>\n",
              "      <td>2.560606</td>\n",
              "      <td>39.48</td>\n",
              "      <td>-121.09</td>\n",
              "      <td>0.781</td>\n",
              "    </tr>\n",
              "    <tr>\n",
              "      <th>20636</th>\n",
              "      <td>2.5568</td>\n",
              "      <td>18.0</td>\n",
              "      <td>6.114035</td>\n",
              "      <td>1.315789</td>\n",
              "      <td>356.0</td>\n",
              "      <td>3.122807</td>\n",
              "      <td>39.49</td>\n",
              "      <td>-121.21</td>\n",
              "      <td>0.771</td>\n",
              "    </tr>\n",
              "    <tr>\n",
              "      <th>20637</th>\n",
              "      <td>1.7000</td>\n",
              "      <td>17.0</td>\n",
              "      <td>5.205543</td>\n",
              "      <td>1.120092</td>\n",
              "      <td>1007.0</td>\n",
              "      <td>2.325635</td>\n",
              "      <td>39.43</td>\n",
              "      <td>-121.22</td>\n",
              "      <td>0.923</td>\n",
              "    </tr>\n",
              "    <tr>\n",
              "      <th>20638</th>\n",
              "      <td>1.8672</td>\n",
              "      <td>18.0</td>\n",
              "      <td>5.329513</td>\n",
              "      <td>1.171920</td>\n",
              "      <td>741.0</td>\n",
              "      <td>2.123209</td>\n",
              "      <td>39.43</td>\n",
              "      <td>-121.32</td>\n",
              "      <td>0.847</td>\n",
              "    </tr>\n",
              "    <tr>\n",
              "      <th>20639</th>\n",
              "      <td>2.3886</td>\n",
              "      <td>16.0</td>\n",
              "      <td>5.254717</td>\n",
              "      <td>1.162264</td>\n",
              "      <td>1387.0</td>\n",
              "      <td>2.616981</td>\n",
              "      <td>39.37</td>\n",
              "      <td>-121.24</td>\n",
              "      <td>0.894</td>\n",
              "    </tr>\n",
              "  </tbody>\n",
              "</table>\n",
              "<p>20640 rows × 9 columns</p>\n",
              "</div>"
            ],
            "text/plain": [
              "       MedInc  HouseAge  AveRooms  ...  Latitude  Longitude  MedHouseVal\n",
              "0      8.3252      41.0  6.984127  ...     37.88    -122.23        4.526\n",
              "1      8.3014      21.0  6.238137  ...     37.86    -122.22        3.585\n",
              "2      7.2574      52.0  8.288136  ...     37.85    -122.24        3.521\n",
              "3      5.6431      52.0  5.817352  ...     37.85    -122.25        3.413\n",
              "4      3.8462      52.0  6.281853  ...     37.85    -122.25        3.422\n",
              "...       ...       ...       ...  ...       ...        ...          ...\n",
              "20635  1.5603      25.0  5.045455  ...     39.48    -121.09        0.781\n",
              "20636  2.5568      18.0  6.114035  ...     39.49    -121.21        0.771\n",
              "20637  1.7000      17.0  5.205543  ...     39.43    -121.22        0.923\n",
              "20638  1.8672      18.0  5.329513  ...     39.43    -121.32        0.847\n",
              "20639  2.3886      16.0  5.254717  ...     39.37    -121.24        0.894\n",
              "\n",
              "[20640 rows x 9 columns]"
            ]
          },
          "metadata": {
            "tags": []
          },
          "execution_count": 18
        }
      ]
    },
    {
      "cell_type": "markdown",
      "metadata": {
        "id": "O7Xh1V8RVUub",
        "colab_type": "text"
      },
      "source": [
        "## データ分割\n",
        "学習/検証/テストに3分割"
      ]
    },
    {
      "cell_type": "code",
      "metadata": {
        "id": "u9wheOaRRELj",
        "colab_type": "code",
        "colab": {
          "base_uri": "https://localhost:8080/",
          "height": 71
        },
        "outputId": "c0f9c80b-02ba-41ff-aefa-c4ad3c5d13b5"
      },
      "source": [
        "SEED = 7\n",
        "train_df, test_df = train_test_split(df, test_size=0.2, random_state=SEED)\n",
        "train_df, val_df = train_test_split(train_df, test_size=0.2, random_state=SEED)\n",
        "\n",
        "print('train shape:{}'.format(train_df.shape))\n",
        "print('validation shape:{}'.format(val_df.shape))\n",
        "print('test shape:{}'.format(test_df.shape))"
      ],
      "execution_count": 16,
      "outputs": [
        {
          "output_type": "stream",
          "text": [
            "train shape:(13209, 9)\n",
            "validation shape:(3303, 9)\n",
            "test shape:(4128, 9)\n"
          ],
          "name": "stdout"
        }
      ]
    },
    {
      "cell_type": "code",
      "metadata": {
        "id": "ibkaviMZSiik",
        "colab_type": "code",
        "colab": {
          "base_uri": "https://localhost:8080/",
          "height": 1000
        },
        "outputId": "054e66b2-f7d4-4fbc-ae4c-7ccb5030eee9"
      },
      "source": [
        "# 統計量表示\n",
        "display(train_df.describe())\n",
        "display(train_df.hist(figsize=(20,20)))"
      ],
      "execution_count": 22,
      "outputs": [
        {
          "output_type": "display_data",
          "data": {
            "text/html": [
              "<div>\n",
              "<style scoped>\n",
              "    .dataframe tbody tr th:only-of-type {\n",
              "        vertical-align: middle;\n",
              "    }\n",
              "\n",
              "    .dataframe tbody tr th {\n",
              "        vertical-align: top;\n",
              "    }\n",
              "\n",
              "    .dataframe thead th {\n",
              "        text-align: right;\n",
              "    }\n",
              "</style>\n",
              "<table border=\"1\" class=\"dataframe\">\n",
              "  <thead>\n",
              "    <tr style=\"text-align: right;\">\n",
              "      <th></th>\n",
              "      <th>MedInc</th>\n",
              "      <th>HouseAge</th>\n",
              "      <th>AveRooms</th>\n",
              "      <th>AveBedrms</th>\n",
              "      <th>Population</th>\n",
              "      <th>AveOccup</th>\n",
              "      <th>Latitude</th>\n",
              "      <th>Longitude</th>\n",
              "      <th>MedHouseVal</th>\n",
              "    </tr>\n",
              "  </thead>\n",
              "  <tbody>\n",
              "    <tr>\n",
              "      <th>count</th>\n",
              "      <td>13209.000000</td>\n",
              "      <td>13209.000000</td>\n",
              "      <td>13209.000000</td>\n",
              "      <td>13209.000000</td>\n",
              "      <td>13209.000000</td>\n",
              "      <td>13209.000000</td>\n",
              "      <td>13209.000000</td>\n",
              "      <td>13209.000000</td>\n",
              "      <td>13209.000000</td>\n",
              "    </tr>\n",
              "    <tr>\n",
              "      <th>mean</th>\n",
              "      <td>3.841704</td>\n",
              "      <td>28.626088</td>\n",
              "      <td>5.429359</td>\n",
              "      <td>1.100950</td>\n",
              "      <td>1436.912787</td>\n",
              "      <td>3.056979</td>\n",
              "      <td>35.621619</td>\n",
              "      <td>-119.556919</td>\n",
              "      <td>2.049578</td>\n",
              "    </tr>\n",
              "    <tr>\n",
              "      <th>std</th>\n",
              "      <td>1.900738</td>\n",
              "      <td>12.618110</td>\n",
              "      <td>2.683741</td>\n",
              "      <td>0.527306</td>\n",
              "      <td>1174.790370</td>\n",
              "      <td>7.174546</td>\n",
              "      <td>2.133565</td>\n",
              "      <td>2.004591</td>\n",
              "      <td>1.145536</td>\n",
              "    </tr>\n",
              "    <tr>\n",
              "      <th>min</th>\n",
              "      <td>0.499900</td>\n",
              "      <td>1.000000</td>\n",
              "      <td>0.846154</td>\n",
              "      <td>0.333333</td>\n",
              "      <td>3.000000</td>\n",
              "      <td>0.750000</td>\n",
              "      <td>32.540000</td>\n",
              "      <td>-124.350000</td>\n",
              "      <td>0.149990</td>\n",
              "    </tr>\n",
              "    <tr>\n",
              "      <th>25%</th>\n",
              "      <td>2.543700</td>\n",
              "      <td>18.000000</td>\n",
              "      <td>4.414080</td>\n",
              "      <td>1.006623</td>\n",
              "      <td>792.000000</td>\n",
              "      <td>2.433809</td>\n",
              "      <td>33.940000</td>\n",
              "      <td>-121.790000</td>\n",
              "      <td>1.186000</td>\n",
              "    </tr>\n",
              "    <tr>\n",
              "      <th>50%</th>\n",
              "      <td>3.500000</td>\n",
              "      <td>29.000000</td>\n",
              "      <td>5.216649</td>\n",
              "      <td>1.049140</td>\n",
              "      <td>1168.000000</td>\n",
              "      <td>2.823529</td>\n",
              "      <td>34.250000</td>\n",
              "      <td>-118.490000</td>\n",
              "      <td>1.777000</td>\n",
              "    </tr>\n",
              "    <tr>\n",
              "      <th>75%</th>\n",
              "      <td>4.695700</td>\n",
              "      <td>37.000000</td>\n",
              "      <td>6.039855</td>\n",
              "      <td>1.099768</td>\n",
              "      <td>1738.000000</td>\n",
              "      <td>3.295567</td>\n",
              "      <td>37.710000</td>\n",
              "      <td>-118.000000</td>\n",
              "      <td>2.611000</td>\n",
              "    </tr>\n",
              "    <tr>\n",
              "      <th>max</th>\n",
              "      <td>15.000100</td>\n",
              "      <td>52.000000</td>\n",
              "      <td>141.909091</td>\n",
              "      <td>34.066667</td>\n",
              "      <td>35682.000000</td>\n",
              "      <td>599.714286</td>\n",
              "      <td>41.950000</td>\n",
              "      <td>-114.310000</td>\n",
              "      <td>5.000010</td>\n",
              "    </tr>\n",
              "  </tbody>\n",
              "</table>\n",
              "</div>"
            ],
            "text/plain": [
              "             MedInc      HouseAge  ...     Longitude   MedHouseVal\n",
              "count  13209.000000  13209.000000  ...  13209.000000  13209.000000\n",
              "mean       3.841704     28.626088  ...   -119.556919      2.049578\n",
              "std        1.900738     12.618110  ...      2.004591      1.145536\n",
              "min        0.499900      1.000000  ...   -124.350000      0.149990\n",
              "25%        2.543700     18.000000  ...   -121.790000      1.186000\n",
              "50%        3.500000     29.000000  ...   -118.490000      1.777000\n",
              "75%        4.695700     37.000000  ...   -118.000000      2.611000\n",
              "max       15.000100     52.000000  ...   -114.310000      5.000010\n",
              "\n",
              "[8 rows x 9 columns]"
            ]
          },
          "metadata": {
            "tags": []
          }
        },
        {
          "output_type": "display_data",
          "data": {
            "text/plain": [
              "array([[<matplotlib.axes._subplots.AxesSubplot object at 0x7f48ac32a160>,\n",
              "        <matplotlib.axes._subplots.AxesSubplot object at 0x7f48ac2e2ef0>,\n",
              "        <matplotlib.axes._subplots.AxesSubplot object at 0x7f48ac290160>],\n",
              "       [<matplotlib.axes._subplots.AxesSubplot object at 0x7f48ac2c33c8>,\n",
              "        <matplotlib.axes._subplots.AxesSubplot object at 0x7f48ac277630>,\n",
              "        <matplotlib.axes._subplots.AxesSubplot object at 0x7f48ac229898>],\n",
              "       [<matplotlib.axes._subplots.AxesSubplot object at 0x7f48ac1dbb00>,\n",
              "        <matplotlib.axes._subplots.AxesSubplot object at 0x7f48ac192d30>,\n",
              "        <matplotlib.axes._subplots.AxesSubplot object at 0x7f48ac192da0>]],\n",
              "      dtype=object)"
            ]
          },
          "metadata": {
            "tags": []
          }
        },
        {
          "output_type": "display_data",
          "data": {
            "image/png": "[encoded data removed]",
            "text/plain": [
              "<Figure size 1440x1440 with 9 Axes>"
            ]
          },
          "metadata": {
            "tags": [],
            "needs_background": "light"
          }
        }
      ]
    },
    {
      "cell_type": "markdown",
      "metadata": {
        "id": "DefC6FE6VjNN",
        "colab_type": "text"
      },
      "source": [
        "## CSVに書き出し\n",
        "前処理してないバージョンのデータ"
      ]
    },
    {
      "cell_type": "code",
      "metadata": {
        "id": "kAew0eEzTA4p",
        "colab_type": "code",
        "colab": {
          "base_uri": "https://localhost:8080/",
          "height": 35
        },
        "outputId": "2725219f-2331-4492-9065-3e7567301c2a"
      },
      "source": [
        "def df_write_csv(df, path, file_name, extension='.csv' ,index=False):\n",
        "  '''pandas.DataframeをCSVに出力'''\n",
        "  output_file = os.path.join(path, file_name+extension)\n",
        "  df.to_csv(path_or_buf=output_file, index=index)\n",
        "\n",
        "data_path = 'datasets/origin'\n",
        "df_write_csv(train_df, data_path, 'train')\n",
        "df_write_csv(val_df, data_path, 'val')\n",
        "df_write_csv(test_df, data_path, 'test')\n",
        "%ls {data_path}"
      ],
      "execution_count": 25,
      "outputs": [
        {
          "output_type": "stream",
          "text": [
            "test.csv  train.csv  val.csv\n"
          ],
          "name": "stdout"
        }
      ]
    },
    {
      "cell_type": "markdown",
      "metadata": {
        "id": "j2EPUnFPVoL3",
        "colab_type": "text"
      },
      "source": [
        "## データの前処理\n",
        "- 標準化"
      ]
    },
    {
      "cell_type": "code",
      "metadata": {
        "id": "f6yxtKS5VLlo",
        "colab_type": "code",
        "colab": {
          "base_uri": "https://localhost:8080/",
          "height": 71
        },
        "outputId": "5d8f041b-f9a6-4ddd-f06a-83e680043f50"
      },
      "source": [
        "%time\n",
        "std_scaler = StandardScaler()\n",
        "std_scaler.fit(train_df.values)"
      ],
      "execution_count": 37,
      "outputs": [
        {
          "output_type": "stream",
          "text": [
            "CPU times: user 2 µs, sys: 0 ns, total: 2 µs\n",
            "Wall time: 4.29 µs\n"
          ],
          "name": "stdout"
        },
        {
          "output_type": "execute_result",
          "data": {
            "text/plain": [
              "StandardScaler()"
            ]
          },
          "metadata": {
            "tags": []
          },
          "execution_count": 37
        }
      ]
    },
    {
      "cell_type": "code",
      "metadata": {
        "id": "QjmfMNwpYcuZ",
        "colab_type": "code",
        "colab": {
          "base_uri": "https://localhost:8080/",
          "height": 1000
        },
        "outputId": "6d3f248b-ebe2-43e2-f37b-bb837a240a40"
      },
      "source": [
        "%time\n",
        "\n",
        "def scaler_df(df, scaler):\n",
        "  '''scalerで処理したpandas.Dataframeを返す'''\n",
        "  trans_data = std_scaler.transform(df.values)\n",
        "  trans_df = pd.DataFrame(data=trans_data, columns=df.columns)\n",
        "  return trans_df\n",
        "\n",
        "std_train_df = scaler_df(train_df, std_scaler)\n",
        "std_val_df = scaler_df(val_df, std_scaler)\n",
        "std_test_df = scaler_df(test_df, std_scaler)\n",
        "\n",
        "# サイズの確認\n",
        "print('train shape:{}'.format(std_train_df.shape))\n",
        "print('validation shape:{}'.format(std_val_df.shape))\n",
        "print('test shape:{}'.format(std_test_df.shape))\n",
        "\n",
        "# 統計量表示\n",
        "display(std_train_df.describe())\n",
        "display(std_train_df.hist(figsize=(20,20)))"
      ],
      "execution_count": 45,
      "outputs": [
        {
          "output_type": "stream",
          "text": [
            "CPU times: user 3 µs, sys: 0 ns, total: 3 µs\n",
            "Wall time: 5.25 µs\n",
            "train shape:(13209, 9)\n",
            "validation shape:(3303, 9)\n",
            "test shape:(4128, 9)\n"
          ],
          "name": "stdout"
        },
        {
          "output_type": "display_data",
          "data": {
            "text/html": [
              "<div>\n",
              "<style scoped>\n",
              "    .dataframe tbody tr th:only-of-type {\n",
              "        vertical-align: middle;\n",
              "    }\n",
              "\n",
              "    .dataframe tbody tr th {\n",
              "        vertical-align: top;\n",
              "    }\n",
              "\n",
              "    .dataframe thead th {\n",
              "        text-align: right;\n",
              "    }\n",
              "</style>\n",
              "<table border=\"1\" class=\"dataframe\">\n",
              "  <thead>\n",
              "    <tr style=\"text-align: right;\">\n",
              "      <th></th>\n",
              "      <th>MedInc</th>\n",
              "      <th>HouseAge</th>\n",
              "      <th>AveRooms</th>\n",
              "      <th>AveBedrms</th>\n",
              "      <th>Population</th>\n",
              "      <th>AveOccup</th>\n",
              "      <th>Latitude</th>\n",
              "      <th>Longitude</th>\n",
              "      <th>MedHouseVal</th>\n",
              "    </tr>\n",
              "  </thead>\n",
              "  <tbody>\n",
              "    <tr>\n",
              "      <th>count</th>\n",
              "      <td>1.320900e+04</td>\n",
              "      <td>1.320900e+04</td>\n",
              "      <td>1.320900e+04</td>\n",
              "      <td>1.320900e+04</td>\n",
              "      <td>1.320900e+04</td>\n",
              "      <td>1.320900e+04</td>\n",
              "      <td>1.320900e+04</td>\n",
              "      <td>1.320900e+04</td>\n",
              "      <td>1.320900e+04</td>\n",
              "    </tr>\n",
              "    <tr>\n",
              "      <th>mean</th>\n",
              "      <td>5.184445e-17</td>\n",
              "      <td>4.296661e-17</td>\n",
              "      <td>3.152062e-16</td>\n",
              "      <td>2.882152e-16</td>\n",
              "      <td>4.890898e-17</td>\n",
              "      <td>-2.970397e-18</td>\n",
              "      <td>-1.791469e-15</td>\n",
              "      <td>5.558797e-15</td>\n",
              "      <td>-1.479835e-16</td>\n",
              "    </tr>\n",
              "    <tr>\n",
              "      <th>std</th>\n",
              "      <td>1.000038e+00</td>\n",
              "      <td>1.000038e+00</td>\n",
              "      <td>1.000038e+00</td>\n",
              "      <td>1.000038e+00</td>\n",
              "      <td>1.000038e+00</td>\n",
              "      <td>1.000038e+00</td>\n",
              "      <td>1.000038e+00</td>\n",
              "      <td>1.000038e+00</td>\n",
              "      <td>1.000038e+00</td>\n",
              "    </tr>\n",
              "    <tr>\n",
              "      <th>min</th>\n",
              "      <td>-1.758228e+00</td>\n",
              "      <td>-2.189483e+00</td>\n",
              "      <td>-1.707832e+00</td>\n",
              "      <td>-1.455788e+00</td>\n",
              "      <td>-1.220615e+00</td>\n",
              "      <td>-3.215627e-01</td>\n",
              "      <td>-1.444407e+00</td>\n",
              "      <td>-2.391143e+00</td>\n",
              "      <td>-1.658315e+00</td>\n",
              "    </tr>\n",
              "    <tr>\n",
              "      <th>25%</th>\n",
              "      <td>-6.829204e-01</td>\n",
              "      <td>-8.421618e-01</td>\n",
              "      <td>-3.783218e-01</td>\n",
              "      <td>-1.788923e-01</td>\n",
              "      <td>-5.489807e-01</td>\n",
              "      <td>-8.686180e-02</td>\n",
              "      <td>-7.882030e-01</td>\n",
              "      <td>-1.114026e+00</td>\n",
              "      <td>-7.538920e-01</td>\n",
              "    </tr>\n",
              "    <tr>\n",
              "      <th>50%</th>\n",
              "      <td>-1.797810e-01</td>\n",
              "      <td>2.963406e-02</td>\n",
              "      <td>-7.926176e-02</td>\n",
              "      <td>-9.825768e-02</td>\n",
              "      <td>-2.289114e-01</td>\n",
              "      <td>-3.253981e-02</td>\n",
              "      <td>-6.429007e-01</td>\n",
              "      <td>5.322578e-01</td>\n",
              "      <td>-2.379570e-01</td>\n",
              "    </tr>\n",
              "    <tr>\n",
              "      <th>75%</th>\n",
              "      <td>4.493144e-01</td>\n",
              "      <td>6.636674e-01</td>\n",
              "      <td>2.274882e-01</td>\n",
              "      <td>-2.241621e-03</td>\n",
              "      <td>2.562999e-01</td>\n",
              "      <td>3.325598e-02</td>\n",
              "      <td>9.788595e-01</td>\n",
              "      <td>7.767060e-01</td>\n",
              "      <td>4.901138e-01</td>\n",
              "    </tr>\n",
              "    <tr>\n",
              "      <th>max</th>\n",
              "      <td>5.870783e+00</td>\n",
              "      <td>1.852480e+00</td>\n",
              "      <td>5.085622e+01</td>\n",
              "      <td>6.251960e+01</td>\n",
              "      <td>2.915106e+01</td>\n",
              "      <td>8.316622e+01</td>\n",
              "      <td>2.966219e+00</td>\n",
              "      <td>2.617550e+00</td>\n",
              "      <td>2.575687e+00</td>\n",
              "    </tr>\n",
              "  </tbody>\n",
              "</table>\n",
              "</div>"
            ],
            "text/plain": [
              "             MedInc      HouseAge  ...     Longitude   MedHouseVal\n",
              "count  1.320900e+04  1.320900e+04  ...  1.320900e+04  1.320900e+04\n",
              "mean   5.184445e-17  4.296661e-17  ...  5.558797e-15 -1.479835e-16\n",
              "std    1.000038e+00  1.000038e+00  ...  1.000038e+00  1.000038e+00\n",
              "min   -1.758228e+00 -2.189483e+00  ... -2.391143e+00 -1.658315e+00\n",
              "25%   -6.829204e-01 -8.421618e-01  ... -1.114026e+00 -7.538920e-01\n",
              "50%   -1.797810e-01  2.963406e-02  ...  5.322578e-01 -2.379570e-01\n",
              "75%    4.493144e-01  6.636674e-01  ...  7.767060e-01  4.901138e-01\n",
              "max    5.870783e+00  1.852480e+00  ...  2.617550e+00  2.575687e+00\n",
              "\n",
              "[8 rows x 9 columns]"
            ]
          },
          "metadata": {
            "tags": []
          }
        },
        {
          "output_type": "display_data",
          "data": {
            "text/plain": [
              "array([[<matplotlib.axes._subplots.AxesSubplot object at 0x7f48abe9a1d0>,\n",
              "        <matplotlib.axes._subplots.AxesSubplot object at 0x7f48abf96518>,\n",
              "        <matplotlib.axes._subplots.AxesSubplot object at 0x7f48ac07e860>],\n",
              "       [<matplotlib.axes._subplots.AxesSubplot object at 0x7f48ac112be0>,\n",
              "        <matplotlib.axes._subplots.AxesSubplot object at 0x7f48abf7cf60>,\n",
              "        <matplotlib.axes._subplots.AxesSubplot object at 0x7f48ae78c320>],\n",
              "       [<matplotlib.axes._subplots.AxesSubplot object at 0x7f48ac048160>,\n",
              "        <matplotlib.axes._subplots.AxesSubplot object at 0x7f48ac3429e8>,\n",
              "        <matplotlib.axes._subplots.AxesSubplot object at 0x7f48ac342a58>]],\n",
              "      dtype=object)"
            ]
          },
          "metadata": {
            "tags": []
          }
        },
        {
          "output_type": "display_data",
          "data": {
            "image/png": "[encoded data removed]",
            "text/plain": [
              "<Figure size 1440x1440 with 9 Axes>"
            ]
          },
          "metadata": {
            "tags": [],
            "needs_background": "light"
          }
        }
      ]
    },
    {
      "cell_type": "markdown",
      "metadata": {
        "id": "hHatCk5FbWUm",
        "colab_type": "text"
      },
      "source": [
        "## 標準化器をcloudpikleで書き出し"
      ]
    },
    {
      "cell_type": "code",
      "metadata": {
        "id": "PJbRxuQxbd9v",
        "colab_type": "code",
        "colab": {
          "base_uri": "https://localhost:8080/",
          "height": 71
        },
        "outputId": "42776d3d-7688-47ee-f351-92dfaee37db8"
      },
      "source": [
        "%time\n",
        "\n",
        "def write_pkl(obj, path, file_name, extension='.pkl'):\n",
        "  '''オブジェクトを.pklに書き出し'''\n",
        "  output_file = os.path.join(path, file_name+extension)\n",
        "  with open(output_file, 'wb') as f:\n",
        "    cloudpickle.dump(obj, f)\n",
        "\n",
        "output_path = 'datasets/std'\n",
        "write_pkl(std_scaler, output_path, 'std_scaler')\n",
        "%ls {output_path}"
      ],
      "execution_count": 49,
      "outputs": [
        {
          "output_type": "stream",
          "text": [
            "CPU times: user 2 µs, sys: 0 ns, total: 2 µs\n",
            "Wall time: 5.72 µs\n",
            "std_scaler.pkl  std_test.csv  std_train.csv  std_val.csv\n"
          ],
          "name": "stdout"
        }
      ]
    },
    {
      "cell_type": "markdown",
      "metadata": {
        "id": "0LAEW-Dma5w2",
        "colab_type": "text"
      },
      "source": [
        "## 前処理済みデータをCSVに書き出し"
      ]
    },
    {
      "cell_type": "code",
      "metadata": {
        "id": "DmTAzSK7ZCf7",
        "colab_type": "code",
        "colab": {
          "base_uri": "https://localhost:8080/",
          "height": 35
        },
        "outputId": "c7e66107-7386-4428-fc5c-d600d0007424"
      },
      "source": [
        "data_path = 'datasets/std'\n",
        "df_write_csv(std_train_df, data_path, 'std_train')\n",
        "df_write_csv(std_val_df, data_path, 'std_val')\n",
        "df_write_csv(std_test_df, data_path, 'std_test')\n",
        "%ls {data_path}"
      ],
      "execution_count": 50,
      "outputs": [
        {
          "output_type": "stream",
          "text": [
            "std_scaler.pkl  std_test.csv  std_train.csv  std_val.csv\n"
          ],
          "name": "stdout"
        }
      ]
    }
  ]
}