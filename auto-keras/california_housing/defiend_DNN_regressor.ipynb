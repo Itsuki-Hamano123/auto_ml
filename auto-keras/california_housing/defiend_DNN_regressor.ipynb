{
  "nbformat": 4,
  "nbformat_minor": 0,
  "metadata": {
    "colab": {
      "name": "defiend_DNN_regressor.ipynb",
      "provenance": [],
      "collapsed_sections": [],
      "toc_visible": true,
      "mount_file_id": "1xoy00sveoYIVeYYE6KtkaV-Sp6tngnwW",
      "authorship_tag": "ABX9TyOsnDPhtv0xFWZ8YGFZaory",
      "include_colab_link": true
    },
    "kernelspec": {
      "name": "python3",
      "display_name": "Python 3"
    }
  },
  "cells": [
    {
      "cell_type": "markdown",
      "metadata": {
        "id": "view-in-github",
        "colab_type": "text"
      },
      "source": [
        "<a href=\"https://colab.research.google.com/github/Itsuki-Hamano123/auto_ml/blob/master/auto-keras/california_housing/defiend_DNN_regressor.ipynb\" target=\"_parent\"><img src=\"https://colab.research.google.com/assets/colab-badge.svg\" alt=\"Open In Colab\"/></a>"
      ]
    },
    {
      "cell_type": "code",
      "metadata": {
        "id": "R8wgpB3kBaPO",
        "colab_type": "code",
        "colab": {
          "base_uri": "https://localhost:8080/",
          "height": 217
        },
        "outputId": "6f26df85-6757-428e-9353-20ce3c8d3475"
      },
      "source": [
        "%pip show tensorflow"
      ],
      "execution_count": 1,
      "outputs": [
        {
          "output_type": "stream",
          "text": [
            "Name: tensorflow\n",
            "Version: 2.3.0\n",
            "Summary: TensorFlow is an open source machine learning framework for everyone.\n",
            "Home-page: https://www.tensorflow.org/\n",
            "Author: Google Inc.\n",
            "Author-email: packages@tensorflow.org\n",
            "License: Apache 2.0\n",
            "Location: /usr/local/lib/python3.6/dist-packages\n",
            "Requires: grpcio, tensorflow-estimator, protobuf, keras-preprocessing, termcolor, wrapt, scipy, absl-py, wheel, astunparse, six, h5py, numpy, opt-einsum, gast, google-pasta, tensorboard\n",
            "Required-by: fancyimpute\n"
          ],
          "name": "stdout"
        }
      ]
    },
    {
      "cell_type": "code",
      "metadata": {
        "id": "MpMgfN_QCDdX",
        "colab_type": "code",
        "colab": {
          "base_uri": "https://localhost:8080/",
          "height": 107
        },
        "outputId": "6c444f16-aea7-4aad-ffd4-bb93d21d38c9"
      },
      "source": [
        "%cd /content/drive/My Drive/機械学習練習/AutoML/auto-keras/california_housing\n",
        "%ls"
      ],
      "execution_count": 2,
      "outputs": [
        {
          "output_type": "stream",
          "text": [
            "/content/drive/My Drive/機械学習練習/AutoML/auto-keras/california_housing\n",
            "\u001b[0m\u001b[01;34mauto_keras_outputs\u001b[0m/          defiend_ShallowNN_regressor.ipynb\n",
            "autokeras_regressor.ipynb    fetch_data.ipynb\n",
            "\u001b[01;34mdatasets\u001b[0m/                    xgb_regressor.ipynb\n",
            "defiend_DNN_regressor.ipynb\n"
          ],
          "name": "stdout"
        }
      ]
    },
    {
      "cell_type": "code",
      "metadata": {
        "id": "jt4D8_vaBAxH",
        "colab_type": "code",
        "colab": {}
      },
      "source": [
        "import cloudpickle, os, pprint\n",
        "\n",
        "import pandas as pd\n",
        "from sklearn.metrics import explained_variance_score, mean_squared_error, r2_score\n",
        "from tensorflow.keras import Model, Sequential, layers\n",
        "from tensorflow.keras.callbacks import EarlyStopping\n",
        "from tensorflow.keras.optimizers import Adam"
      ],
      "execution_count": 3,
      "outputs": []
    },
    {
      "cell_type": "markdown",
      "metadata": {
        "id": "oZrRrFIEk7G5",
        "colab_type": "text"
      },
      "source": [
        "## データ読み込み"
      ]
    },
    {
      "cell_type": "code",
      "metadata": {
        "id": "voTXcoTpBb0R",
        "colab_type": "code",
        "colab": {
          "base_uri": "https://localhost:8080/",
          "height": 256
        },
        "outputId": "81c6c9d1-6402-48a2-be52-ff5707793474"
      },
      "source": [
        "F_COLS = ['MedInc', 'HouseAge', 'AveRooms', 'AveBedrms', 'Population', 'AveOccup', 'Latitude', 'Longitude']\n",
        "TARGET_COL = 'MedHouseVal'\n",
        "\n",
        "data_path = 'datasets/origin'\n",
        "train_csv = 'train.csv'\n",
        "val_csv = 'val.csv'\n",
        "test_csv = 'test.csv'\n",
        "\n",
        "train_df= pd.read_csv(os.path.join(data_path, train_csv), header=0)\n",
        "val_df = pd.read_csv(os.path.join(data_path, val_csv), header=0)\n",
        "test_df = pd.read_csv(os.path.join(data_path, test_csv), header=0)\n",
        "\n",
        "print('train shape:{}'.format(train_df.shape))\n",
        "print('validation shape:{}'.format(val_df.shape))\n",
        "print('test shape:{}'.format(test_df.shape))\n",
        "\n",
        "display(train_df.head())"
      ],
      "execution_count": 4,
      "outputs": [
        {
          "output_type": "stream",
          "text": [
            "train shape:(13209, 9)\n",
            "validation shape:(3303, 9)\n",
            "test shape:(4128, 9)\n"
          ],
          "name": "stdout"
        },
        {
          "output_type": "display_data",
          "data": {
            "text/html": [
              "<div>\n",
              "<style scoped>\n",
              "    .dataframe tbody tr th:only-of-type {\n",
              "        vertical-align: middle;\n",
              "    }\n",
              "\n",
              "    .dataframe tbody tr th {\n",
              "        vertical-align: top;\n",
              "    }\n",
              "\n",
              "    .dataframe thead th {\n",
              "        text-align: right;\n",
              "    }\n",
              "</style>\n",
              "<table border=\"1\" class=\"dataframe\">\n",
              "  <thead>\n",
              "    <tr style=\"text-align: right;\">\n",
              "      <th></th>\n",
              "      <th>MedInc</th>\n",
              "      <th>HouseAge</th>\n",
              "      <th>AveRooms</th>\n",
              "      <th>AveBedrms</th>\n",
              "      <th>Population</th>\n",
              "      <th>AveOccup</th>\n",
              "      <th>Latitude</th>\n",
              "      <th>Longitude</th>\n",
              "      <th>MedHouseVal</th>\n",
              "    </tr>\n",
              "  </thead>\n",
              "  <tbody>\n",
              "    <tr>\n",
              "      <th>0</th>\n",
              "      <td>4.4063</td>\n",
              "      <td>15.0</td>\n",
              "      <td>6.104430</td>\n",
              "      <td>1.003165</td>\n",
              "      <td>1237.0</td>\n",
              "      <td>3.914557</td>\n",
              "      <td>34.00</td>\n",
              "      <td>-117.50</td>\n",
              "      <td>1.285</td>\n",
              "    </tr>\n",
              "    <tr>\n",
              "      <th>1</th>\n",
              "      <td>3.7222</td>\n",
              "      <td>35.0</td>\n",
              "      <td>5.539326</td>\n",
              "      <td>1.030899</td>\n",
              "      <td>1152.0</td>\n",
              "      <td>3.235955</td>\n",
              "      <td>33.87</td>\n",
              "      <td>-117.96</td>\n",
              "      <td>1.875</td>\n",
              "    </tr>\n",
              "    <tr>\n",
              "      <th>2</th>\n",
              "      <td>1.1094</td>\n",
              "      <td>49.0</td>\n",
              "      <td>3.773585</td>\n",
              "      <td>1.144654</td>\n",
              "      <td>1448.0</td>\n",
              "      <td>4.553459</td>\n",
              "      <td>37.95</td>\n",
              "      <td>-121.28</td>\n",
              "      <td>0.525</td>\n",
              "    </tr>\n",
              "    <tr>\n",
              "      <th>3</th>\n",
              "      <td>3.3239</td>\n",
              "      <td>9.0</td>\n",
              "      <td>5.610955</td>\n",
              "      <td>1.092697</td>\n",
              "      <td>1691.0</td>\n",
              "      <td>2.375000</td>\n",
              "      <td>36.82</td>\n",
              "      <td>-119.85</td>\n",
              "      <td>0.913</td>\n",
              "    </tr>\n",
              "    <tr>\n",
              "      <th>4</th>\n",
              "      <td>5.9629</td>\n",
              "      <td>17.0</td>\n",
              "      <td>6.867133</td>\n",
              "      <td>1.097902</td>\n",
              "      <td>808.0</td>\n",
              "      <td>2.825175</td>\n",
              "      <td>38.58</td>\n",
              "      <td>-121.81</td>\n",
              "      <td>2.860</td>\n",
              "    </tr>\n",
              "  </tbody>\n",
              "</table>\n",
              "</div>"
            ],
            "text/plain": [
              "   MedInc  HouseAge  AveRooms  ...  Latitude  Longitude  MedHouseVal\n",
              "0  4.4063      15.0  6.104430  ...     34.00    -117.50        1.285\n",
              "1  3.7222      35.0  5.539326  ...     33.87    -117.96        1.875\n",
              "2  1.1094      49.0  3.773585  ...     37.95    -121.28        0.525\n",
              "3  3.3239       9.0  5.610955  ...     36.82    -119.85        0.913\n",
              "4  5.9629      17.0  6.867133  ...     38.58    -121.81        2.860\n",
              "\n",
              "[5 rows x 9 columns]"
            ]
          },
          "metadata": {
            "tags": []
          }
        }
      ]
    },
    {
      "cell_type": "markdown",
      "metadata": {
        "id": "R-_IeEfFlCPv",
        "colab_type": "text"
      },
      "source": [
        "## Deep Neural Networkモデルを構築"
      ]
    },
    {
      "cell_type": "code",
      "metadata": {
        "id": "12gBvURzCb7g",
        "colab_type": "code",
        "colab": {
          "base_uri": "https://localhost:8080/",
          "height": 341
        },
        "outputId": "68e97550-212f-46e5-df44-7a9bcae0d8ab"
      },
      "source": [
        "def model_fn(input_shape, output_size):\n",
        "  '''モデルの定義'''\n",
        "  model = Sequential([\n",
        "    layers.Dense(64, activation='relu', input_shape=[input_shape]),\n",
        "    layers.Dropout(rate=0.3),\n",
        "    layers.Dense(32, activation='relu'),\n",
        "    layers.Dropout(rate=0.3),\n",
        "    layers.Dense(output_size)\n",
        "  ])\n",
        "  return model\n",
        "\n",
        "\n",
        "model = model_fn(input_shape=len(F_COLS), output_size=1)\n",
        "\n",
        "model.compile(loss='mse',\n",
        "              optimizer=Adam(learning_rate=0.001),\n",
        "              metrics=['mae', 'mse'])\n",
        "\n",
        "model.summary()"
      ],
      "execution_count": 5,
      "outputs": [
        {
          "output_type": "stream",
          "text": [
            "Model: \"sequential\"\n",
            "_________________________________________________________________\n",
            "Layer (type)                 Output Shape              Param #   \n",
            "=================================================================\n",
            "dense (Dense)                (None, 64)                576       \n",
            "_________________________________________________________________\n",
            "dropout (Dropout)            (None, 64)                0         \n",
            "_________________________________________________________________\n",
            "dense_1 (Dense)              (None, 32)                2080      \n",
            "_________________________________________________________________\n",
            "dropout_1 (Dropout)          (None, 32)                0         \n",
            "_________________________________________________________________\n",
            "dense_2 (Dense)              (None, 1)                 33        \n",
            "=================================================================\n",
            "Total params: 2,689\n",
            "Trainable params: 2,689\n",
            "Non-trainable params: 0\n",
            "_________________________________________________________________\n"
          ],
          "name": "stdout"
        }
      ]
    },
    {
      "cell_type": "code",
      "metadata": {
        "id": "b1qCInpkDK2R",
        "colab_type": "code",
        "colab": {
          "base_uri": "https://localhost:8080/",
          "height": 487
        },
        "outputId": "fd773efa-bd14-4f5f-bba9-f8bd2c812152"
      },
      "source": [
        "%time\n",
        "BATCH_SIZE = 256\n",
        "EPOCHS = 100\n",
        "\n",
        "es = EarlyStopping(patience=5)\n",
        "\n",
        "model.fit(x=train_df[F_COLS].values, y=train_df[TARGET_COL].values,\n",
        "          batch_size=BATCH_SIZE, epochs=EPOCHS,\n",
        "          validation_data=(val_df[F_COLS].values, val_df[TARGET_COL].values),\n",
        "          callbacks=[es]\n",
        "          )"
      ],
      "execution_count": 6,
      "outputs": [
        {
          "output_type": "stream",
          "text": [
            "CPU times: user 2 µs, sys: 0 ns, total: 2 µs\n",
            "Wall time: 5.48 µs\n",
            "Epoch 1/100\n",
            "52/52 [==============================] - 0s 5ms/step - loss: 19134.4961 - mae: 81.5737 - mse: 19134.4961 - val_loss: 112.5563 - val_mae: 5.8384 - val_mse: 112.5563\n",
            "Epoch 2/100\n",
            "52/52 [==============================] - 0s 2ms/step - loss: 2486.6572 - mae: 27.5317 - mse: 2486.6572 - val_loss: 4.5938 - val_mae: 1.7731 - val_mse: 4.5938\n",
            "Epoch 3/100\n",
            "52/52 [==============================] - 0s 3ms/step - loss: 902.8755 - mae: 14.6792 - mse: 902.8755 - val_loss: 17.4217 - val_mae: 3.5469 - val_mse: 17.4217\n",
            "Epoch 4/100\n",
            "52/52 [==============================] - 0s 2ms/step - loss: 529.0455 - mae: 9.7620 - mse: 529.0455 - val_loss: 6.9245 - val_mae: 2.2295 - val_mse: 6.9245\n",
            "Epoch 5/100\n",
            "52/52 [==============================] - 0s 2ms/step - loss: 244.2318 - mae: 6.7462 - mse: 244.2318 - val_loss: 4.5424 - val_mae: 1.7274 - val_mse: 4.5424\n",
            "Epoch 6/100\n",
            "52/52 [==============================] - 0s 2ms/step - loss: 180.2058 - mae: 4.5494 - mse: 180.2058 - val_loss: 2.1650 - val_mae: 1.0595 - val_mse: 2.1650\n",
            "Epoch 7/100\n",
            "52/52 [==============================] - 0s 2ms/step - loss: 85.0226 - mae: 3.4706 - mse: 85.0226 - val_loss: 2.2243 - val_mae: 1.0946 - val_mse: 2.2243\n",
            "Epoch 8/100\n",
            "52/52 [==============================] - 0s 2ms/step - loss: 65.0464 - mae: 2.7003 - mse: 65.0464 - val_loss: 2.4943 - val_mae: 1.1549 - val_mse: 2.4943\n",
            "Epoch 9/100\n",
            "52/52 [==============================] - 0s 2ms/step - loss: 32.5527 - mae: 2.2873 - mse: 32.5527 - val_loss: 2.7597 - val_mae: 1.2276 - val_mse: 2.7597\n",
            "Epoch 10/100\n",
            "52/52 [==============================] - 0s 3ms/step - loss: 29.1622 - mae: 2.0446 - mse: 29.1622 - val_loss: 2.5856 - val_mae: 1.1779 - val_mse: 2.5856\n",
            "Epoch 11/100\n",
            "52/52 [==============================] - 0s 3ms/step - loss: 16.8193 - mae: 1.8714 - mse: 16.8193 - val_loss: 2.8340 - val_mae: 1.2482 - val_mse: 2.8340\n"
          ],
          "name": "stdout"
        },
        {
          "output_type": "execute_result",
          "data": {
            "text/plain": [
              "<tensorflow.python.keras.callbacks.History at 0x7fcc83315e10>"
            ]
          },
          "metadata": {
            "tags": []
          },
          "execution_count": 6
        }
      ]
    },
    {
      "cell_type": "markdown",
      "metadata": {
        "id": "LwbTmSJ80GmU",
        "colab_type": "text"
      },
      "source": [
        "## 前処理したデータの読み込み\n",
        "行った前処理\n",
        "- 標準化"
      ]
    },
    {
      "cell_type": "code",
      "metadata": {
        "id": "PEtNjIyt0M_v",
        "colab_type": "code",
        "colab": {
          "base_uri": "https://localhost:8080/",
          "height": 256
        },
        "outputId": "a09f4152-553f-4126-b344-67761c603316"
      },
      "source": [
        "std_data_path = 'datasets/std'\n",
        "std_train_csv = 'std_train.csv'\n",
        "std_val_csv = 'std_val.csv'\n",
        "std_test_csv = 'std_test.csv'\n",
        "\n",
        "std_train_df= pd.read_csv(os.path.join(std_data_path, std_train_csv), header=0)\n",
        "std_val_df = pd.read_csv(os.path.join(std_data_path, std_val_csv), header=0)\n",
        "std_test_df = pd.read_csv(os.path.join(std_data_path, std_test_csv), header=0)\n",
        "\n",
        "print('std_train shape:{}'.format(std_train_df.shape))\n",
        "print('std_validation shape:{}'.format(std_val_df.shape))\n",
        "print('std_test shape:{}'.format(std_test_df.shape))\n",
        "\n",
        "display(std_train_df.head())"
      ],
      "execution_count": 7,
      "outputs": [
        {
          "output_type": "stream",
          "text": [
            "std_train shape:(13209, 9)\n",
            "std_validation shape:(3303, 9)\n",
            "std_test shape:(4128, 9)\n"
          ],
          "name": "stdout"
        },
        {
          "output_type": "display_data",
          "data": {
            "text/html": [
              "<div>\n",
              "<style scoped>\n",
              "    .dataframe tbody tr th:only-of-type {\n",
              "        vertical-align: middle;\n",
              "    }\n",
              "\n",
              "    .dataframe tbody tr th {\n",
              "        vertical-align: top;\n",
              "    }\n",
              "\n",
              "    .dataframe thead th {\n",
              "        text-align: right;\n",
              "    }\n",
              "</style>\n",
              "<table border=\"1\" class=\"dataframe\">\n",
              "  <thead>\n",
              "    <tr style=\"text-align: right;\">\n",
              "      <th></th>\n",
              "      <th>MedInc</th>\n",
              "      <th>HouseAge</th>\n",
              "      <th>AveRooms</th>\n",
              "      <th>AveBedrms</th>\n",
              "      <th>Population</th>\n",
              "      <th>AveOccup</th>\n",
              "      <th>Latitude</th>\n",
              "      <th>Longitude</th>\n",
              "      <th>MedHouseVal</th>\n",
              "    </tr>\n",
              "  </thead>\n",
              "  <tbody>\n",
              "    <tr>\n",
              "      <th>0</th>\n",
              "      <td>0.297052</td>\n",
              "      <td>-1.079924</td>\n",
              "      <td>0.251551</td>\n",
              "      <td>-0.185450</td>\n",
              "      <td>-0.170175</td>\n",
              "      <td>0.119535</td>\n",
              "      <td>-0.760080</td>\n",
              "      <td>1.026143</td>\n",
              "      <td>-0.667466</td>\n",
              "    </tr>\n",
              "    <tr>\n",
              "      <th>1</th>\n",
              "      <td>-0.062875</td>\n",
              "      <td>0.505159</td>\n",
              "      <td>0.040977</td>\n",
              "      <td>-0.132852</td>\n",
              "      <td>-0.242531</td>\n",
              "      <td>0.024947</td>\n",
              "      <td>-0.821013</td>\n",
              "      <td>0.796661</td>\n",
              "      <td>-0.152404</td>\n",
              "    </tr>\n",
              "    <tr>\n",
              "      <th>2</th>\n",
              "      <td>-1.437551</td>\n",
              "      <td>1.614717</td>\n",
              "      <td>-0.616988</td>\n",
              "      <td>0.082885</td>\n",
              "      <td>0.009438</td>\n",
              "      <td>0.208590</td>\n",
              "      <td>1.091352</td>\n",
              "      <td>-0.859600</td>\n",
              "      <td>-1.330936</td>\n",
              "    </tr>\n",
              "    <tr>\n",
              "      <th>3</th>\n",
              "      <td>-0.272433</td>\n",
              "      <td>-1.555449</td>\n",
              "      <td>0.067668</td>\n",
              "      <td>-0.015652</td>\n",
              "      <td>0.216291</td>\n",
              "      <td>-0.095059</td>\n",
              "      <td>0.561702</td>\n",
              "      <td>-0.146211</td>\n",
              "      <td>-0.992217</td>\n",
              "    </tr>\n",
              "    <tr>\n",
              "      <th>4</th>\n",
              "      <td>1.116028</td>\n",
              "      <td>-0.921416</td>\n",
              "      <td>0.535755</td>\n",
              "      <td>-0.005780</td>\n",
              "      <td>-0.535361</td>\n",
              "      <td>-0.032310</td>\n",
              "      <td>1.386643</td>\n",
              "      <td>-1.124003</td>\n",
              "      <td>0.707487</td>\n",
              "    </tr>\n",
              "  </tbody>\n",
              "</table>\n",
              "</div>"
            ],
            "text/plain": [
              "     MedInc  HouseAge  AveRooms  ...  Latitude  Longitude  MedHouseVal\n",
              "0  0.297052 -1.079924  0.251551  ... -0.760080   1.026143    -0.667466\n",
              "1 -0.062875  0.505159  0.040977  ... -0.821013   0.796661    -0.152404\n",
              "2 -1.437551  1.614717 -0.616988  ...  1.091352  -0.859600    -1.330936\n",
              "3 -0.272433 -1.555449  0.067668  ...  0.561702  -0.146211    -0.992217\n",
              "4  1.116028 -0.921416  0.535755  ...  1.386643  -1.124003     0.707487\n",
              "\n",
              "[5 rows x 9 columns]"
            ]
          },
          "metadata": {
            "tags": []
          }
        }
      ]
    },
    {
      "cell_type": "code",
      "metadata": {
        "id": "VeHVVeIQ048m",
        "colab_type": "code",
        "colab": {
          "base_uri": "https://localhost:8080/",
          "height": 91
        },
        "outputId": "f1de3148-6f34-4440-8ef5-e09152f562f3"
      },
      "source": [
        "# 標準化器も読み込んでおく\n",
        "def load_pkl(path):\n",
        "  '''pklファイルの読み込み'''\n",
        "  with open(path, 'rb') as f:\n",
        "    obj = cloudpickle.load(f)\n",
        "  return obj\n",
        "\n",
        "\n",
        "pkl_name = 'std_scaler.pkl'\n",
        "std_scaler = load_pkl(os.path.join(std_data_path, pkl_name))\n",
        "std_scaler"
      ],
      "execution_count": 8,
      "outputs": [
        {
          "output_type": "stream",
          "text": [
            "/usr/local/lib/python3.6/dist-packages/sklearn/base.py:318: UserWarning: Trying to unpickle estimator StandardScaler from version 0.23.2 when using version 0.22.2.post1. This might lead to breaking code or invalid results. Use at your own risk.\n",
            "  UserWarning)\n"
          ],
          "name": "stderr"
        },
        {
          "output_type": "execute_result",
          "data": {
            "text/plain": [
              "StandardScaler(copy=True, with_mean=True, with_std=True)"
            ]
          },
          "metadata": {
            "tags": []
          },
          "execution_count": 8
        }
      ]
    },
    {
      "cell_type": "markdown",
      "metadata": {
        "id": "KoFBlEsR1RtL",
        "colab_type": "text"
      },
      "source": [
        "## 前処理済みデータに対してモデルを構築"
      ]
    },
    {
      "cell_type": "code",
      "metadata": {
        "id": "7jJ5JNG71Vln",
        "colab_type": "code",
        "colab": {
          "base_uri": "https://localhost:8080/",
          "height": 1000
        },
        "outputId": "3387c94d-00f0-4bec-d15c-bca5a8d2d654"
      },
      "source": [
        "std_model = model_fn(input_shape=len(F_COLS), output_size=1)\n",
        "\n",
        "std_model.compile(loss='mse',\n",
        "                  optimizer=Adam(learning_rate=0.001),\n",
        "                  metrics=['mae', 'mse'])\n",
        "\n",
        "es = EarlyStopping(patience=3)\n",
        "\n",
        "std_model.fit(x=std_train_df[F_COLS].values, y=std_train_df[TARGET_COL].values,\n",
        "              batch_size=BATCH_SIZE, epochs=EPOCHS,\n",
        "              validation_data=(std_val_df[F_COLS].values, std_val_df[TARGET_COL].values),\n",
        "              callbacks=[es]\n",
        "              )"
      ],
      "execution_count": 9,
      "outputs": [
        {
          "output_type": "stream",
          "text": [
            "Epoch 1/100\n",
            "52/52 [==============================] - 0s 4ms/step - loss: 0.9786 - mae: 0.7543 - mse: 0.9786 - val_loss: 0.6113 - val_mae: 0.5982 - val_mse: 0.6113\n",
            "Epoch 2/100\n",
            "52/52 [==============================] - 0s 2ms/step - loss: 0.6220 - mae: 0.5924 - mse: 0.6220 - val_loss: 0.5007 - val_mae: 0.5181 - val_mse: 0.5007\n",
            "Epoch 3/100\n",
            "52/52 [==============================] - 0s 2ms/step - loss: 0.5794 - mae: 0.5552 - mse: 0.5794 - val_loss: 0.4628 - val_mae: 0.4964 - val_mse: 0.4628\n",
            "Epoch 4/100\n",
            "52/52 [==============================] - 0s 2ms/step - loss: 0.5226 - mae: 0.5266 - mse: 0.5226 - val_loss: 0.4256 - val_mae: 0.4743 - val_mse: 0.4256\n",
            "Epoch 5/100\n",
            "52/52 [==============================] - 0s 2ms/step - loss: 0.4708 - mae: 0.5041 - mse: 0.4708 - val_loss: 0.3971 - val_mae: 0.4598 - val_mse: 0.3971\n",
            "Epoch 6/100\n",
            "52/52 [==============================] - 0s 2ms/step - loss: 0.4659 - mae: 0.4901 - mse: 0.4659 - val_loss: 0.3828 - val_mae: 0.4430 - val_mse: 0.3828\n",
            "Epoch 7/100\n",
            "52/52 [==============================] - 0s 2ms/step - loss: 0.4271 - mae: 0.4768 - mse: 0.4271 - val_loss: 0.3637 - val_mae: 0.4372 - val_mse: 0.3637\n",
            "Epoch 8/100\n",
            "52/52 [==============================] - 0s 3ms/step - loss: 0.4111 - mae: 0.4658 - mse: 0.4111 - val_loss: 0.3534 - val_mae: 0.4317 - val_mse: 0.3534\n",
            "Epoch 9/100\n",
            "52/52 [==============================] - 0s 2ms/step - loss: 0.3959 - mae: 0.4592 - mse: 0.3959 - val_loss: 0.3348 - val_mae: 0.4153 - val_mse: 0.3348\n",
            "Epoch 10/100\n",
            "52/52 [==============================] - 0s 2ms/step - loss: 0.4160 - mae: 0.4529 - mse: 0.4160 - val_loss: 0.3274 - val_mae: 0.4177 - val_mse: 0.3274\n",
            "Epoch 11/100\n",
            "52/52 [==============================] - 0s 2ms/step - loss: 0.3765 - mae: 0.4482 - mse: 0.3765 - val_loss: 0.3193 - val_mae: 0.3999 - val_mse: 0.3193\n",
            "Epoch 12/100\n",
            "52/52 [==============================] - 0s 2ms/step - loss: 0.3649 - mae: 0.4387 - mse: 0.3649 - val_loss: 0.3160 - val_mae: 0.3999 - val_mse: 0.3160\n",
            "Epoch 13/100\n",
            "52/52 [==============================] - 0s 2ms/step - loss: 0.3578 - mae: 0.4334 - mse: 0.3578 - val_loss: 0.3178 - val_mae: 0.4021 - val_mse: 0.3178\n",
            "Epoch 14/100\n",
            "52/52 [==============================] - 0s 2ms/step - loss: 0.3963 - mae: 0.4354 - mse: 0.3963 - val_loss: 0.3133 - val_mae: 0.3977 - val_mse: 0.3133\n",
            "Epoch 15/100\n",
            "52/52 [==============================] - 0s 2ms/step - loss: 0.3643 - mae: 0.4309 - mse: 0.3643 - val_loss: 0.3067 - val_mae: 0.3949 - val_mse: 0.3067\n",
            "Epoch 16/100\n",
            "52/52 [==============================] - 0s 2ms/step - loss: 0.3486 - mae: 0.4276 - mse: 0.3486 - val_loss: 0.3047 - val_mae: 0.3939 - val_mse: 0.3047\n",
            "Epoch 17/100\n",
            "52/52 [==============================] - 0s 2ms/step - loss: 0.3402 - mae: 0.4232 - mse: 0.3402 - val_loss: 0.2995 - val_mae: 0.3894 - val_mse: 0.2995\n",
            "Epoch 18/100\n",
            "52/52 [==============================] - 0s 3ms/step - loss: 0.3510 - mae: 0.4240 - mse: 0.3510 - val_loss: 0.2948 - val_mae: 0.3884 - val_mse: 0.2948\n",
            "Epoch 19/100\n",
            "52/52 [==============================] - 0s 3ms/step - loss: 0.3379 - mae: 0.4201 - mse: 0.3379 - val_loss: 0.2919 - val_mae: 0.3836 - val_mse: 0.2919\n",
            "Epoch 20/100\n",
            "52/52 [==============================] - 0s 2ms/step - loss: 0.3473 - mae: 0.4164 - mse: 0.3473 - val_loss: 0.2915 - val_mae: 0.3830 - val_mse: 0.2915\n",
            "Epoch 21/100\n",
            "52/52 [==============================] - 0s 2ms/step - loss: 0.3293 - mae: 0.4136 - mse: 0.3293 - val_loss: 0.2901 - val_mae: 0.3804 - val_mse: 0.2901\n",
            "Epoch 22/100\n",
            "52/52 [==============================] - 0s 2ms/step - loss: 0.3262 - mae: 0.4115 - mse: 0.3262 - val_loss: 0.2852 - val_mae: 0.3777 - val_mse: 0.2852\n",
            "Epoch 23/100\n",
            "52/52 [==============================] - 0s 2ms/step - loss: 0.3203 - mae: 0.4110 - mse: 0.3203 - val_loss: 0.2831 - val_mae: 0.3760 - val_mse: 0.2831\n",
            "Epoch 24/100\n",
            "52/52 [==============================] - 0s 2ms/step - loss: 0.3168 - mae: 0.4065 - mse: 0.3168 - val_loss: 0.2809 - val_mae: 0.3756 - val_mse: 0.2809\n",
            "Epoch 25/100\n",
            "52/52 [==============================] - 0s 2ms/step - loss: 0.3241 - mae: 0.4080 - mse: 0.3241 - val_loss: 0.2808 - val_mae: 0.3771 - val_mse: 0.2808\n",
            "Epoch 26/100\n",
            "52/52 [==============================] - 0s 2ms/step - loss: 0.3180 - mae: 0.4084 - mse: 0.3180 - val_loss: 0.2823 - val_mae: 0.3734 - val_mse: 0.2823\n",
            "Epoch 27/100\n",
            "52/52 [==============================] - 0s 2ms/step - loss: 0.3196 - mae: 0.4058 - mse: 0.3196 - val_loss: 0.2805 - val_mae: 0.3730 - val_mse: 0.2805\n",
            "Epoch 28/100\n",
            "52/52 [==============================] - 0s 2ms/step - loss: 0.3151 - mae: 0.4040 - mse: 0.3151 - val_loss: 0.2777 - val_mae: 0.3755 - val_mse: 0.2777\n",
            "Epoch 29/100\n",
            "52/52 [==============================] - 0s 2ms/step - loss: 0.3110 - mae: 0.4031 - mse: 0.3110 - val_loss: 0.2772 - val_mae: 0.3707 - val_mse: 0.2772\n",
            "Epoch 30/100\n",
            "52/52 [==============================] - 0s 2ms/step - loss: 0.3090 - mae: 0.4021 - mse: 0.3090 - val_loss: 0.2740 - val_mae: 0.3725 - val_mse: 0.2740\n",
            "Epoch 31/100\n",
            "52/52 [==============================] - 0s 3ms/step - loss: 0.3044 - mae: 0.3990 - mse: 0.3044 - val_loss: 0.2728 - val_mae: 0.3692 - val_mse: 0.2728\n",
            "Epoch 32/100\n",
            "52/52 [==============================] - 0s 3ms/step - loss: 0.3095 - mae: 0.4003 - mse: 0.3095 - val_loss: 0.2710 - val_mae: 0.3682 - val_mse: 0.2710\n",
            "Epoch 33/100\n",
            "52/52 [==============================] - 0s 2ms/step - loss: 0.3007 - mae: 0.3980 - mse: 0.3007 - val_loss: 0.2679 - val_mae: 0.3666 - val_mse: 0.2679\n",
            "Epoch 34/100\n",
            "52/52 [==============================] - 0s 2ms/step - loss: 0.3073 - mae: 0.3975 - mse: 0.3073 - val_loss: 0.2690 - val_mae: 0.3699 - val_mse: 0.2690\n",
            "Epoch 35/100\n",
            "52/52 [==============================] - 0s 3ms/step - loss: 0.2976 - mae: 0.3944 - mse: 0.2976 - val_loss: 0.2647 - val_mae: 0.3661 - val_mse: 0.2647\n",
            "Epoch 36/100\n",
            "52/52 [==============================] - 0s 2ms/step - loss: 0.3030 - mae: 0.3973 - mse: 0.3030 - val_loss: 0.2674 - val_mae: 0.3669 - val_mse: 0.2674\n",
            "Epoch 37/100\n",
            "52/52 [==============================] - 0s 2ms/step - loss: 0.2983 - mae: 0.3952 - mse: 0.2983 - val_loss: 0.2685 - val_mae: 0.3704 - val_mse: 0.2685\n",
            "Epoch 38/100\n",
            "52/52 [==============================] - 0s 2ms/step - loss: 0.3003 - mae: 0.3948 - mse: 0.3003 - val_loss: 0.2693 - val_mae: 0.3637 - val_mse: 0.2693\n"
          ],
          "name": "stdout"
        },
        {
          "output_type": "execute_result",
          "data": {
            "text/plain": [
              "<tensorflow.python.keras.callbacks.History at 0x7fcc8299ab38>"
            ]
          },
          "metadata": {
            "tags": []
          },
          "execution_count": 9
        }
      ]
    },
    {
      "cell_type": "markdown",
      "metadata": {
        "id": "UasUHS94lGWO",
        "colab_type": "text"
      },
      "source": [
        "## モデルの評価"
      ]
    },
    {
      "cell_type": "markdown",
      "metadata": {
        "id": "evUIxuNFlypE",
        "colab_type": "text"
      },
      "source": [
        "### 評価指標の定義"
      ]
    },
    {
      "cell_type": "code",
      "metadata": {
        "id": "fA-3KR5PFVim",
        "colab_type": "code",
        "colab": {}
      },
      "source": [
        "SK_METRICS=[r2_score, explained_variance_score, mean_squared_error]\n",
        "\n",
        "def _calc_score(y_true, y_pred, sklearn_metric):\n",
        "  '''sklearnの評価指標のスコアを計算'''\n",
        "  score = sklearn_metric(y_true=y_true, y_pred=y_pred)\n",
        "  return score\n",
        "\n",
        "\n",
        "def evaluete_sk_metrics(y_true, y_pred, sklearn_metrics):\n",
        "  '''sklearnの各種、評価関数を使用'''\n",
        "  result = {}\n",
        "  for sk_metric in sklearn_metrics:\n",
        "    result[sk_metric.__name__] = _calc_score(y_true=y_true, y_pred=y_pred, sklearn_metric=sk_metric)\n",
        "  return result"
      ],
      "execution_count": 10,
      "outputs": []
    },
    {
      "cell_type": "markdown",
      "metadata": {
        "id": "XAgGKxvYloVE",
        "colab_type": "text"
      },
      "source": [
        "### 推論結果の取得"
      ]
    },
    {
      "cell_type": "code",
      "metadata": {
        "id": "A_ncz3hSlolO",
        "colab_type": "code",
        "colab": {}
      },
      "source": [
        "def predict_multiple_times(model, inputs, input_names):\n",
        "  '''何度か推論'''\n",
        "  pred = {}\n",
        "  for input, name in zip(inputs, input_names):\n",
        "    pred[name] = model.predict(input)\n",
        "  return pred"
      ],
      "execution_count": 11,
      "outputs": []
    },
    {
      "cell_type": "code",
      "metadata": {
        "id": "RSWjyhesl_Us",
        "colab_type": "code",
        "colab": {
          "base_uri": "https://localhost:8080/",
          "height": 53
        },
        "outputId": "e68a840a-a023-43e7-9f2d-8f03ffe4ffa0"
      },
      "source": [
        "%time\n",
        "reg_inputs = [train_df[F_COLS].values, val_df[F_COLS], test_df[F_COLS].values]\n",
        "reg_input_names = [train_csv, val_csv, test_csv]\n",
        "\n",
        "std_reg_inputs = [std_train_df[F_COLS].values, std_val_df[F_COLS].values, std_test_df[F_COLS].values]\n",
        "std_input_names = [std_train_csv, std_val_csv, std_test_csv]\n",
        "\n",
        "\n",
        "reg_preds = predict_multiple_times(model=model, inputs=reg_inputs, input_names=reg_input_names)\n",
        "std_reg_preds = predict_multiple_times(model=std_model, inputs=std_reg_inputs, input_names=std_input_names)"
      ],
      "execution_count": 12,
      "outputs": [
        {
          "output_type": "stream",
          "text": [
            "CPU times: user 3 µs, sys: 0 ns, total: 3 µs\n",
            "Wall time: 7.15 µs\n"
          ],
          "name": "stdout"
        }
      ]
    },
    {
      "cell_type": "markdown",
      "metadata": {
        "id": "n9KrK8_CmgbI",
        "colab_type": "text"
      },
      "source": [
        "### 評価の実行"
      ]
    },
    {
      "cell_type": "code",
      "metadata": {
        "id": "in8wCVfvmbPK",
        "colab_type": "code",
        "colab": {
          "base_uri": "https://localhost:8080/",
          "height": 341
        },
        "outputId": "2437b1a8-7987-4d25-8734-ef18176ab528"
      },
      "source": [
        "model_name = 'ShallowNN'\n",
        "std_model_name = 'std_ShallowNN'\n",
        "\n",
        "eval_scores = {model_name: {}, std_model_name: {}}\n",
        "\n",
        "for csv_name, y_true in zip([train_csv, val_csv, test_csv],\n",
        "                            [train_df[TARGET_COL].values, val_df[TARGET_COL].values, test_df[TARGET_COL].values]):\n",
        "  eval_scores[model_name][csv_name] = evaluete_sk_metrics(y_true=y_true,\n",
        "                                                          y_pred=reg_preds[csv_name], sklearn_metrics=SK_METRICS)\n",
        "\n",
        "for csv_name, y_true in zip([std_train_csv, std_val_csv, std_test_csv], \n",
        "                            [std_train_df[TARGET_COL].values, std_val_df[TARGET_COL].values, std_test_df[TARGET_COL].values]):\n",
        "  eval_scores[std_model_name][csv_name] = evaluete_sk_metrics(y_true=y_true,\n",
        "                                                              y_pred=std_reg_preds[csv_name], sklearn_metrics=SK_METRICS)\n",
        "\n",
        "pprint.pprint(eval_scores)"
      ],
      "execution_count": 13,
      "outputs": [
        {
          "output_type": "stream",
          "text": [
            "{'ShallowNN': {'test.csv': {'explained_variance_score': -0.19024090705998442,\n",
            "                            'mean_squared_error': 2.8355035404206133,\n",
            "                            'r2_score': -1.1081552206026752},\n",
            "               'train.csv': {'explained_variance_score': -0.2190799709166884,\n",
            "                             'mean_squared_error': 2.6967030020720757,\n",
            "                             'r2_score': -1.0551720248170615},\n",
            "               'val.csv': {'explained_variance_score': -0.14233020031470045,\n",
            "                           'mean_squared_error': 2.8340194839280963,\n",
            "                           'r2_score': -1.0414726191009631}},\n",
            " 'std_ShallowNN': {'std_test.csv': {'explained_variance_score': 0.7379766870985052,\n",
            "                                    'mean_squared_error': 0.2702549543637324,\n",
            "                                    'r2_score': 0.7363480464688159},\n",
            "                   'std_train.csv': {'explained_variance_score': 0.7481227894748291,\n",
            "                                     'mean_squared_error': 0.2527572125825467,\n",
            "                                     'r2_score': 0.7472427874174533},\n",
            "                   'std_val.csv': {'explained_variance_score': 0.7472405873312808,\n",
            "                                   'mean_squared_error': 0.26928701496988244,\n",
            "                                   'r2_score': 0.7454687684219723}}}\n"
          ],
          "name": "stdout"
        }
      ]
    },
    {
      "cell_type": "markdown",
      "metadata": {
        "id": "KgucOget9o3-",
        "colab_type": "text"
      },
      "source": [
        "## モデルの予測値を標準化から復元し評価する場合"
      ]
    },
    {
      "cell_type": "code",
      "metadata": {
        "id": "3j3_QuVb9qU2",
        "colab_type": "code",
        "colab": {
          "base_uri": "https://localhost:8080/",
          "height": 125
        },
        "outputId": "60639717-5398-4957-f12d-fa0580b72be8"
      },
      "source": [
        "def inverse_scale_values(values, scaler):\n",
        "  '''scalerを使って値の復元'''\n",
        "  return scaler.inverse_transform(values)\n",
        "\n",
        "\n",
        "inverse_scale_preds = {}\n",
        "# 目的変数をモデルの予測値に置き換え\n",
        "for df, csv_name, key in zip([std_train_df, std_val_df, std_test_df], [std_train_csv, std_val_csv, std_test_csv], \n",
        "                             [train_csv, val_csv, test_csv]):\n",
        "  df[TARGET_COL] = std_reg_preds[csv_name]\n",
        "  tmp_df = pd.DataFrame(inverse_scale_values(df.values, std_scaler), columns=F_COLS+[TARGET_COL])\n",
        "  inverse_scale_preds[key] = tmp_df[TARGET_COL].values\n",
        "\n",
        "inverse_scale_preds"
      ],
      "execution_count": 14,
      "outputs": [
        {
          "output_type": "execute_result",
          "data": {
            "text/plain": [
              "{'test.csv': array([1.87008941, 2.50364486, 2.7981052 , ..., 1.36596458, 3.23513048,\n",
              "        3.82070102]),\n",
              " 'train.csv': array([1.49912021, 1.66854893, 0.87408859, ..., 1.31983923, 1.18044045,\n",
              "        2.23785628]),\n",
              " 'val.csv': array([1.29993827, 0.90050021, 1.27258826, ..., 0.99922724, 1.08113334,\n",
              "        0.97867055])}"
            ]
          },
          "metadata": {
            "tags": []
          },
          "execution_count": 14
        }
      ]
    },
    {
      "cell_type": "code",
      "metadata": {
        "id": "SSDoihB69zQH",
        "colab_type": "code",
        "colab": {
          "base_uri": "https://localhost:8080/",
          "height": 503
        },
        "outputId": "56b9aa88-14b0-41c7-a244-7b5bad209d10"
      },
      "source": [
        "# 標準化された値を復元した場合の評価スコア\n",
        "for csv_name, y_true in zip([train_csv, val_csv, test_csv],\n",
        "                            [train_df[TARGET_COL].values, val_df[TARGET_COL].values, test_df[TARGET_COL].values]):\n",
        "  eval_scores[std_model_name][csv_name] = evaluete_sk_metrics(y_true=y_true,\n",
        "                                                              y_pred=inverse_scale_preds[csv_name],\n",
        "                                                              sklearn_metrics=SK_METRICS)\n",
        "\n",
        "pprint.pprint(eval_scores)"
      ],
      "execution_count": 15,
      "outputs": [
        {
          "output_type": "stream",
          "text": [
            "{'ShallowNN': {'test.csv': {'explained_variance_score': -0.19024090705998442,\n",
            "                            'mean_squared_error': 2.8355035404206133,\n",
            "                            'r2_score': -1.1081552206026752},\n",
            "               'train.csv': {'explained_variance_score': -0.2190799709166884,\n",
            "                             'mean_squared_error': 2.6967030020720757,\n",
            "                             'r2_score': -1.0551720248170615},\n",
            "               'val.csv': {'explained_variance_score': -0.14233020031470045,\n",
            "                           'mean_squared_error': 2.8340194839280963,\n",
            "                           'r2_score': -1.0414726191009631}},\n",
            " 'std_ShallowNN': {'std_test.csv': {'explained_variance_score': 0.7379766870985052,\n",
            "                                    'mean_squared_error': 0.2702549543637324,\n",
            "                                    'r2_score': 0.7363480464688159},\n",
            "                   'std_train.csv': {'explained_variance_score': 0.7481227894748291,\n",
            "                                     'mean_squared_error': 0.2527572125825467,\n",
            "                                     'r2_score': 0.7472427874174533},\n",
            "                   'std_val.csv': {'explained_variance_score': 0.7472405873312808,\n",
            "                                   'mean_squared_error': 0.26928701496988244,\n",
            "                                   'r2_score': 0.7454687684219723},\n",
            "                   'test.csv': {'explained_variance_score': 0.7379766870985052,\n",
            "                                'mean_squared_error': 0.3546162257742887,\n",
            "                                'r2_score': 0.7363480464688159},\n",
            "                   'train.csv': {'explained_variance_score': 0.7481227894748292,\n",
            "                                 'mean_squared_error': 0.3316564870171373,\n",
            "                                 'r2_score': 0.7472427874174533},\n",
            "                   'val.csv': {'explained_variance_score': 0.7472405873312808,\n",
            "                               'mean_squared_error': 0.3533461398458608,\n",
            "                               'r2_score': 0.7454687684219723}}}\n"
          ],
          "name": "stdout"
        }
      ]
    }
  ]
}