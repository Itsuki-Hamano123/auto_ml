{
  "nbformat": 4,
  "nbformat_minor": 0,
  "metadata": {
    "colab": {
      "name": "defiend_ShallowNN_regressor.ipynb",
      "provenance": [],
      "collapsed_sections": [],
      "toc_visible": true,
      "mount_file_id": "1jpdcuIWmAGWntZTKT5U7cObfcJ2FDy6m",
      "authorship_tag": "ABX9TyM1mhYm4f1UkY1UCrPpujXR",
      "include_colab_link": true
    },
    "kernelspec": {
      "name": "python3",
      "display_name": "Python 3"
    }
  },
  "cells": [
    {
      "cell_type": "markdown",
      "metadata": {
        "id": "view-in-github",
        "colab_type": "text"
      },
      "source": [
        "<a href=\"https://colab.research.google.com/github/Itsuki-Hamano123/auto_ml/blob/master/auto-keras/california_housing/defiend_ShallowNN_regressor.ipynb\" target=\"_parent\"><img src=\"https://colab.research.google.com/assets/colab-badge.svg\" alt=\"Open In Colab\"/></a>"
      ]
    },
    {
      "cell_type": "code",
      "metadata": {
        "id": "R8wgpB3kBaPO",
        "colab_type": "code",
        "colab": {
          "base_uri": "https://localhost:8080/",
          "height": 217
        },
        "outputId": "537a3d81-e35c-42f3-fa90-42e521a83494"
      },
      "source": [
        "%pip show tensorflow"
      ],
      "execution_count": 1,
      "outputs": [
        {
          "output_type": "stream",
          "text": [
            "Name: tensorflow\n",
            "Version: 2.3.0\n",
            "Summary: TensorFlow is an open source machine learning framework for everyone.\n",
            "Home-page: https://www.tensorflow.org/\n",
            "Author: Google Inc.\n",
            "Author-email: packages@tensorflow.org\n",
            "License: Apache 2.0\n",
            "Location: /usr/local/lib/python3.6/dist-packages\n",
            "Requires: keras-preprocessing, termcolor, wrapt, astunparse, tensorboard, grpcio, scipy, opt-einsum, six, absl-py, protobuf, tensorflow-estimator, h5py, google-pasta, numpy, wheel, gast\n",
            "Required-by: fancyimpute\n"
          ],
          "name": "stdout"
        }
      ]
    },
    {
      "cell_type": "code",
      "metadata": {
        "id": "MpMgfN_QCDdX",
        "colab_type": "code",
        "colab": {
          "base_uri": "https://localhost:8080/",
          "height": 107
        },
        "outputId": "47397cf9-2072-4f27-ee1d-8d75165dddf7"
      },
      "source": [
        "%cd /content/drive/My Drive/機械学習練習/AutoML/auto-keras/california_housing\n",
        "%ls"
      ],
      "execution_count": 2,
      "outputs": [
        {
          "output_type": "stream",
          "text": [
            "/content/drive/My Drive/機械学習練習/AutoML/auto-keras/california_housing\n",
            "\u001b[0m\u001b[01;34mauto_keras_outputs\u001b[0m/          defiend_ShallowNN_regressor.ipynb\n",
            "autokeras_regressor.ipynb    fetch_data.ipynb\n",
            "\u001b[01;34mdatasets\u001b[0m/                    xgb_regressor.ipynb\n",
            "defiend_DNN_regressor.ipynb\n"
          ],
          "name": "stdout"
        }
      ]
    },
    {
      "cell_type": "code",
      "metadata": {
        "id": "jt4D8_vaBAxH",
        "colab_type": "code",
        "colab": {}
      },
      "source": [
        "import cloudpickle, os, pprint\n",
        "\n",
        "import pandas as pd\n",
        "from sklearn.metrics import explained_variance_score, mean_squared_error, r2_score\n",
        "from tensorflow.keras import Model, Sequential, layers\n",
        "from tensorflow.keras.callbacks import EarlyStopping\n",
        "from tensorflow.keras.optimizers import Adam"
      ],
      "execution_count": 3,
      "outputs": []
    },
    {
      "cell_type": "markdown",
      "metadata": {
        "id": "oZrRrFIEk7G5",
        "colab_type": "text"
      },
      "source": [
        "## データ読み込み"
      ]
    },
    {
      "cell_type": "code",
      "metadata": {
        "id": "voTXcoTpBb0R",
        "colab_type": "code",
        "colab": {
          "base_uri": "https://localhost:8080/",
          "height": 256
        },
        "outputId": "605ac6a8-82ea-4fe5-83b2-8bd6048be13a"
      },
      "source": [
        "F_COLS = ['MedInc', 'HouseAge', 'AveRooms', 'AveBedrms', 'Population', 'AveOccup', 'Latitude', 'Longitude']\n",
        "TARGET_COL = 'MedHouseVal'\n",
        "\n",
        "data_path = 'datasets/origin'\n",
        "train_csv = 'train.csv'\n",
        "val_csv = 'val.csv'\n",
        "test_csv = 'test.csv'\n",
        "\n",
        "train_df= pd.read_csv(os.path.join(data_path, train_csv), header=0)\n",
        "val_df = pd.read_csv(os.path.join(data_path, val_csv), header=0)\n",
        "test_df = pd.read_csv(os.path.join(data_path, test_csv), header=0)\n",
        "\n",
        "print('train shape:{}'.format(train_df.shape))\n",
        "print('validation shape:{}'.format(val_df.shape))\n",
        "print('test shape:{}'.format(test_df.shape))\n",
        "\n",
        "display(train_df.head())"
      ],
      "execution_count": 4,
      "outputs": [
        {
          "output_type": "stream",
          "text": [
            "train shape:(13209, 9)\n",
            "validation shape:(3303, 9)\n",
            "test shape:(4128, 9)\n"
          ],
          "name": "stdout"
        },
        {
          "output_type": "display_data",
          "data": {
            "text/html": [
              "<div>\n",
              "<style scoped>\n",
              "    .dataframe tbody tr th:only-of-type {\n",
              "        vertical-align: middle;\n",
              "    }\n",
              "\n",
              "    .dataframe tbody tr th {\n",
              "        vertical-align: top;\n",
              "    }\n",
              "\n",
              "    .dataframe thead th {\n",
              "        text-align: right;\n",
              "    }\n",
              "</style>\n",
              "<table border=\"1\" class=\"dataframe\">\n",
              "  <thead>\n",
              "    <tr style=\"text-align: right;\">\n",
              "      <th></th>\n",
              "      <th>MedInc</th>\n",
              "      <th>HouseAge</th>\n",
              "      <th>AveRooms</th>\n",
              "      <th>AveBedrms</th>\n",
              "      <th>Population</th>\n",
              "      <th>AveOccup</th>\n",
              "      <th>Latitude</th>\n",
              "      <th>Longitude</th>\n",
              "      <th>MedHouseVal</th>\n",
              "    </tr>\n",
              "  </thead>\n",
              "  <tbody>\n",
              "    <tr>\n",
              "      <th>0</th>\n",
              "      <td>4.4063</td>\n",
              "      <td>15.0</td>\n",
              "      <td>6.104430</td>\n",
              "      <td>1.003165</td>\n",
              "      <td>1237.0</td>\n",
              "      <td>3.914557</td>\n",
              "      <td>34.00</td>\n",
              "      <td>-117.50</td>\n",
              "      <td>1.285</td>\n",
              "    </tr>\n",
              "    <tr>\n",
              "      <th>1</th>\n",
              "      <td>3.7222</td>\n",
              "      <td>35.0</td>\n",
              "      <td>5.539326</td>\n",
              "      <td>1.030899</td>\n",
              "      <td>1152.0</td>\n",
              "      <td>3.235955</td>\n",
              "      <td>33.87</td>\n",
              "      <td>-117.96</td>\n",
              "      <td>1.875</td>\n",
              "    </tr>\n",
              "    <tr>\n",
              "      <th>2</th>\n",
              "      <td>1.1094</td>\n",
              "      <td>49.0</td>\n",
              "      <td>3.773585</td>\n",
              "      <td>1.144654</td>\n",
              "      <td>1448.0</td>\n",
              "      <td>4.553459</td>\n",
              "      <td>37.95</td>\n",
              "      <td>-121.28</td>\n",
              "      <td>0.525</td>\n",
              "    </tr>\n",
              "    <tr>\n",
              "      <th>3</th>\n",
              "      <td>3.3239</td>\n",
              "      <td>9.0</td>\n",
              "      <td>5.610955</td>\n",
              "      <td>1.092697</td>\n",
              "      <td>1691.0</td>\n",
              "      <td>2.375000</td>\n",
              "      <td>36.82</td>\n",
              "      <td>-119.85</td>\n",
              "      <td>0.913</td>\n",
              "    </tr>\n",
              "    <tr>\n",
              "      <th>4</th>\n",
              "      <td>5.9629</td>\n",
              "      <td>17.0</td>\n",
              "      <td>6.867133</td>\n",
              "      <td>1.097902</td>\n",
              "      <td>808.0</td>\n",
              "      <td>2.825175</td>\n",
              "      <td>38.58</td>\n",
              "      <td>-121.81</td>\n",
              "      <td>2.860</td>\n",
              "    </tr>\n",
              "  </tbody>\n",
              "</table>\n",
              "</div>"
            ],
            "text/plain": [
              "   MedInc  HouseAge  AveRooms  ...  Latitude  Longitude  MedHouseVal\n",
              "0  4.4063      15.0  6.104430  ...     34.00    -117.50        1.285\n",
              "1  3.7222      35.0  5.539326  ...     33.87    -117.96        1.875\n",
              "2  1.1094      49.0  3.773585  ...     37.95    -121.28        0.525\n",
              "3  3.3239       9.0  5.610955  ...     36.82    -119.85        0.913\n",
              "4  5.9629      17.0  6.867133  ...     38.58    -121.81        2.860\n",
              "\n",
              "[5 rows x 9 columns]"
            ]
          },
          "metadata": {
            "tags": []
          }
        }
      ]
    },
    {
      "cell_type": "markdown",
      "metadata": {
        "id": "R-_IeEfFlCPv",
        "colab_type": "text"
      },
      "source": [
        "## Shallow Neural Networkモデルを構築"
      ]
    },
    {
      "cell_type": "code",
      "metadata": {
        "id": "12gBvURzCb7g",
        "colab_type": "code",
        "colab": {
          "base_uri": "https://localhost:8080/",
          "height": 233
        },
        "outputId": "51ca76bb-8bdd-454e-c0d9-fddba08bf848"
      },
      "source": [
        "def model_fn(input_shape, hidden_size, output_size):\n",
        "  '''モデルの定義'''\n",
        "  model = Sequential([\n",
        "    layers.Dense(hidden_size, activation='relu', input_shape=[input_shape]),\n",
        "    layers.Dense(output_size)\n",
        "  ])\n",
        "  return model\n",
        "\n",
        "\n",
        "model = model_fn(input_shape=len(F_COLS), hidden_size=64,\n",
        "                 output_size=1)\n",
        "\n",
        "model.compile(loss='mse',\n",
        "              optimizer=Adam(learning_rate=0.001),\n",
        "              metrics=['mae', 'mse'])\n",
        "\n",
        "model.summary()"
      ],
      "execution_count": 5,
      "outputs": [
        {
          "output_type": "stream",
          "text": [
            "Model: \"sequential\"\n",
            "_________________________________________________________________\n",
            "Layer (type)                 Output Shape              Param #   \n",
            "=================================================================\n",
            "dense (Dense)                (None, 64)                576       \n",
            "_________________________________________________________________\n",
            "dense_1 (Dense)              (None, 1)                 65        \n",
            "=================================================================\n",
            "Total params: 641\n",
            "Trainable params: 641\n",
            "Non-trainable params: 0\n",
            "_________________________________________________________________\n"
          ],
          "name": "stdout"
        }
      ]
    },
    {
      "cell_type": "code",
      "metadata": {
        "id": "b1qCInpkDK2R",
        "colab_type": "code",
        "colab": {
          "base_uri": "https://localhost:8080/",
          "height": 1000
        },
        "outputId": "da5c7667-6f45-4525-caea-90bc0a290b2c"
      },
      "source": [
        "%time\n",
        "BATCH_SIZE = 256\n",
        "EPOCHS = 100\n",
        "\n",
        "es = EarlyStopping(patience=3)\n",
        "\n",
        "model.fit(x=train_df[F_COLS].values, y=train_df[TARGET_COL].values,\n",
        "          batch_size=BATCH_SIZE, epochs=EPOCHS,\n",
        "          validation_data=(val_df[F_COLS].values, val_df[TARGET_COL].values),\n",
        "          callbacks=[es]\n",
        "          )"
      ],
      "execution_count": 6,
      "outputs": [
        {
          "output_type": "stream",
          "text": [
            "CPU times: user 2 µs, sys: 1 µs, total: 3 µs\n",
            "Wall time: 5.48 µs\n",
            "Epoch 1/100\n",
            "52/52 [==============================] - 0s 5ms/step - loss: 422638.3125 - mae: 443.7372 - mse: 422638.3125 - val_loss: 44012.1992 - val_mae: 141.4354 - val_mse: 44012.1992\n",
            "Epoch 2/100\n",
            "52/52 [==============================] - 0s 2ms/step - loss: 12291.4287 - mae: 66.8137 - mse: 12291.4287 - val_loss: 2495.9775 - val_mae: 44.8956 - val_mse: 2495.9775\n",
            "Epoch 3/100\n",
            "52/52 [==============================] - 0s 2ms/step - loss: 1054.8199 - mae: 19.5608 - mse: 1054.8199 - val_loss: 47.0933 - val_mae: 2.6940 - val_mse: 47.0933\n",
            "Epoch 4/100\n",
            "52/52 [==============================] - 0s 2ms/step - loss: 55.5700 - mae: 2.9130 - mse: 55.5700 - val_loss: 23.2650 - val_mae: 2.8178 - val_mse: 23.2650\n",
            "Epoch 5/100\n",
            "52/52 [==============================] - 0s 2ms/step - loss: 27.0311 - mae: 2.4494 - mse: 27.0311 - val_loss: 8.1673 - val_mae: 1.9677 - val_mse: 8.1673\n",
            "Epoch 6/100\n",
            "52/52 [==============================] - 0s 2ms/step - loss: 7.0875 - mae: 1.2297 - mse: 7.0875 - val_loss: 1.4166 - val_mae: 0.8354 - val_mse: 1.4166\n",
            "Epoch 7/100\n",
            "52/52 [==============================] - 0s 2ms/step - loss: 3.0177 - mae: 0.8256 - mse: 3.0177 - val_loss: 1.2511 - val_mae: 0.8105 - val_mse: 1.2511\n",
            "Epoch 8/100\n",
            "52/52 [==============================] - 0s 2ms/step - loss: 2.1092 - mae: 0.7960 - mse: 2.1092 - val_loss: 1.2240 - val_mae: 0.8108 - val_mse: 1.2240\n",
            "Epoch 9/100\n",
            "52/52 [==============================] - 0s 2ms/step - loss: 1.5825 - mae: 0.7843 - mse: 1.5825 - val_loss: 1.1128 - val_mae: 0.7798 - val_mse: 1.1128\n",
            "Epoch 10/100\n",
            "52/52 [==============================] - 0s 2ms/step - loss: 1.2789 - mae: 0.7630 - mse: 1.2789 - val_loss: 1.1071 - val_mae: 0.7666 - val_mse: 1.1071\n",
            "Epoch 11/100\n",
            "52/52 [==============================] - 0s 2ms/step - loss: 1.3064 - mae: 0.7933 - mse: 1.3064 - val_loss: 1.1684 - val_mae: 0.7850 - val_mse: 1.1684\n",
            "Epoch 12/100\n",
            "52/52 [==============================] - 0s 2ms/step - loss: 1.0641 - mae: 0.7479 - mse: 1.0641 - val_loss: 1.0326 - val_mae: 0.7759 - val_mse: 1.0326\n",
            "Epoch 13/100\n",
            "52/52 [==============================] - 0s 2ms/step - loss: 1.1085 - mae: 0.7683 - mse: 1.1085 - val_loss: 1.0263 - val_mae: 0.7753 - val_mse: 1.0263\n",
            "Epoch 14/100\n",
            "52/52 [==============================] - 0s 2ms/step - loss: 1.0179 - mae: 0.7395 - mse: 1.0179 - val_loss: 1.0502 - val_mae: 0.7475 - val_mse: 1.0502\n",
            "Epoch 15/100\n",
            "52/52 [==============================] - 0s 2ms/step - loss: 0.9855 - mae: 0.7420 - mse: 0.9855 - val_loss: 0.9852 - val_mae: 0.7513 - val_mse: 0.9852\n",
            "Epoch 16/100\n",
            "52/52 [==============================] - 0s 2ms/step - loss: 0.9430 - mae: 0.7224 - mse: 0.9430 - val_loss: 0.9628 - val_mae: 0.7311 - val_mse: 0.9628\n",
            "Epoch 17/100\n",
            "52/52 [==============================] - 0s 3ms/step - loss: 0.9105 - mae: 0.7160 - mse: 0.9105 - val_loss: 0.9444 - val_mae: 0.7364 - val_mse: 0.9444\n",
            "Epoch 18/100\n",
            "52/52 [==============================] - 0s 2ms/step - loss: 0.8875 - mae: 0.7075 - mse: 0.8875 - val_loss: 0.9344 - val_mae: 0.7256 - val_mse: 0.9344\n",
            "Epoch 19/100\n",
            "52/52 [==============================] - 0s 2ms/step - loss: 0.8743 - mae: 0.7031 - mse: 0.8743 - val_loss: 0.9212 - val_mae: 0.7235 - val_mse: 0.9212\n",
            "Epoch 20/100\n",
            "52/52 [==============================] - 0s 2ms/step - loss: 0.8622 - mae: 0.6987 - mse: 0.8622 - val_loss: 0.9180 - val_mae: 0.7148 - val_mse: 0.9180\n",
            "Epoch 21/100\n",
            "52/52 [==============================] - 0s 2ms/step - loss: 0.8488 - mae: 0.6916 - mse: 0.8488 - val_loss: 0.9093 - val_mae: 0.7298 - val_mse: 0.9093\n",
            "Epoch 22/100\n",
            "52/52 [==============================] - 0s 2ms/step - loss: 0.8402 - mae: 0.6901 - mse: 0.8402 - val_loss: 0.8959 - val_mae: 0.7159 - val_mse: 0.8959\n",
            "Epoch 23/100\n",
            "52/52 [==============================] - 0s 2ms/step - loss: 0.8519 - mae: 0.6957 - mse: 0.8519 - val_loss: 0.9510 - val_mae: 0.7696 - val_mse: 0.9510\n",
            "Epoch 24/100\n",
            "52/52 [==============================] - 0s 2ms/step - loss: 0.8435 - mae: 0.6931 - mse: 0.8435 - val_loss: 0.8830 - val_mae: 0.7081 - val_mse: 0.8830\n",
            "Epoch 25/100\n",
            "52/52 [==============================] - 0s 2ms/step - loss: 0.8271 - mae: 0.6866 - mse: 0.8271 - val_loss: 0.8685 - val_mae: 0.7128 - val_mse: 0.8685\n",
            "Epoch 26/100\n",
            "52/52 [==============================] - 0s 2ms/step - loss: 0.8089 - mae: 0.6790 - mse: 0.8089 - val_loss: 0.8614 - val_mae: 0.7135 - val_mse: 0.8614\n",
            "Epoch 27/100\n",
            "52/52 [==============================] - 0s 2ms/step - loss: 0.7972 - mae: 0.6740 - mse: 0.7972 - val_loss: 0.8504 - val_mae: 0.7032 - val_mse: 0.8504\n",
            "Epoch 28/100\n",
            "52/52 [==============================] - 0s 2ms/step - loss: 0.7832 - mae: 0.6680 - mse: 0.7832 - val_loss: 0.8419 - val_mae: 0.6955 - val_mse: 0.8419\n",
            "Epoch 29/100\n",
            "52/52 [==============================] - 0s 2ms/step - loss: 0.7796 - mae: 0.6672 - mse: 0.7796 - val_loss: 0.8467 - val_mae: 0.6966 - val_mse: 0.8467\n",
            "Epoch 30/100\n",
            "52/52 [==============================] - 0s 2ms/step - loss: 0.7747 - mae: 0.6655 - mse: 0.7747 - val_loss: 0.8768 - val_mae: 0.6812 - val_mse: 0.8768\n",
            "Epoch 31/100\n",
            "52/52 [==============================] - 0s 2ms/step - loss: 0.7741 - mae: 0.6641 - mse: 0.7741 - val_loss: 0.8270 - val_mae: 0.6768 - val_mse: 0.8270\n",
            "Epoch 32/100\n",
            "52/52 [==============================] - 0s 2ms/step - loss: 0.7625 - mae: 0.6593 - mse: 0.7625 - val_loss: 0.8252 - val_mae: 0.6765 - val_mse: 0.8252\n",
            "Epoch 33/100\n",
            "52/52 [==============================] - 0s 2ms/step - loss: 0.7801 - mae: 0.6699 - mse: 0.7801 - val_loss: 0.8908 - val_mae: 0.6922 - val_mse: 0.8908\n",
            "Epoch 34/100\n",
            "52/52 [==============================] - 0s 2ms/step - loss: 0.7753 - mae: 0.6669 - mse: 0.7753 - val_loss: 0.8524 - val_mae: 0.6785 - val_mse: 0.8524\n",
            "Epoch 35/100\n",
            "52/52 [==============================] - 0s 2ms/step - loss: 0.7554 - mae: 0.6584 - mse: 0.7554 - val_loss: 0.7983 - val_mae: 0.6852 - val_mse: 0.7983\n",
            "Epoch 36/100\n",
            "52/52 [==============================] - 0s 2ms/step - loss: 0.7446 - mae: 0.6535 - mse: 0.7446 - val_loss: 0.8781 - val_mae: 0.6734 - val_mse: 0.8781\n",
            "Epoch 37/100\n",
            "52/52 [==============================] - 0s 2ms/step - loss: 0.7380 - mae: 0.6494 - mse: 0.7380 - val_loss: 0.7988 - val_mae: 0.6969 - val_mse: 0.7988\n",
            "Epoch 38/100\n",
            "52/52 [==============================] - 0s 2ms/step - loss: 0.7611 - mae: 0.6622 - mse: 0.7611 - val_loss: 0.8588 - val_mae: 0.7429 - val_mse: 0.8588\n"
          ],
          "name": "stdout"
        },
        {
          "output_type": "execute_result",
          "data": {
            "text/plain": [
              "<tensorflow.python.keras.callbacks.History at 0x7f4c90ea0630>"
            ]
          },
          "metadata": {
            "tags": []
          },
          "execution_count": 6
        }
      ]
    },
    {
      "cell_type": "markdown",
      "metadata": {
        "id": "LwbTmSJ80GmU",
        "colab_type": "text"
      },
      "source": [
        "## 前処理したデータの読み込み\n",
        "行った前処理\n",
        "- 標準化"
      ]
    },
    {
      "cell_type": "code",
      "metadata": {
        "id": "PEtNjIyt0M_v",
        "colab_type": "code",
        "colab": {
          "base_uri": "https://localhost:8080/",
          "height": 256
        },
        "outputId": "ec8b4928-a854-4853-e188-0fdc6a8639c1"
      },
      "source": [
        "std_data_path = 'datasets/std'\n",
        "std_train_csv = 'std_train.csv'\n",
        "std_val_csv = 'std_val.csv'\n",
        "std_test_csv = 'std_test.csv'\n",
        "\n",
        "std_train_df= pd.read_csv(os.path.join(std_data_path, std_train_csv), header=0)\n",
        "std_val_df = pd.read_csv(os.path.join(std_data_path, std_val_csv), header=0)\n",
        "std_test_df = pd.read_csv(os.path.join(std_data_path, std_test_csv), header=0)\n",
        "\n",
        "print('std_train shape:{}'.format(std_train_df.shape))\n",
        "print('std_validation shape:{}'.format(std_val_df.shape))\n",
        "print('std_test shape:{}'.format(std_test_df.shape))\n",
        "\n",
        "display(std_train_df.head())"
      ],
      "execution_count": 7,
      "outputs": [
        {
          "output_type": "stream",
          "text": [
            "std_train shape:(13209, 9)\n",
            "std_validation shape:(3303, 9)\n",
            "std_test shape:(4128, 9)\n"
          ],
          "name": "stdout"
        },
        {
          "output_type": "display_data",
          "data": {
            "text/html": [
              "<div>\n",
              "<style scoped>\n",
              "    .dataframe tbody tr th:only-of-type {\n",
              "        vertical-align: middle;\n",
              "    }\n",
              "\n",
              "    .dataframe tbody tr th {\n",
              "        vertical-align: top;\n",
              "    }\n",
              "\n",
              "    .dataframe thead th {\n",
              "        text-align: right;\n",
              "    }\n",
              "</style>\n",
              "<table border=\"1\" class=\"dataframe\">\n",
              "  <thead>\n",
              "    <tr style=\"text-align: right;\">\n",
              "      <th></th>\n",
              "      <th>MedInc</th>\n",
              "      <th>HouseAge</th>\n",
              "      <th>AveRooms</th>\n",
              "      <th>AveBedrms</th>\n",
              "      <th>Population</th>\n",
              "      <th>AveOccup</th>\n",
              "      <th>Latitude</th>\n",
              "      <th>Longitude</th>\n",
              "      <th>MedHouseVal</th>\n",
              "    </tr>\n",
              "  </thead>\n",
              "  <tbody>\n",
              "    <tr>\n",
              "      <th>0</th>\n",
              "      <td>0.297052</td>\n",
              "      <td>-1.079924</td>\n",
              "      <td>0.251551</td>\n",
              "      <td>-0.185450</td>\n",
              "      <td>-0.170175</td>\n",
              "      <td>0.119535</td>\n",
              "      <td>-0.760080</td>\n",
              "      <td>1.026143</td>\n",
              "      <td>-0.667466</td>\n",
              "    </tr>\n",
              "    <tr>\n",
              "      <th>1</th>\n",
              "      <td>-0.062875</td>\n",
              "      <td>0.505159</td>\n",
              "      <td>0.040977</td>\n",
              "      <td>-0.132852</td>\n",
              "      <td>-0.242531</td>\n",
              "      <td>0.024947</td>\n",
              "      <td>-0.821013</td>\n",
              "      <td>0.796661</td>\n",
              "      <td>-0.152404</td>\n",
              "    </tr>\n",
              "    <tr>\n",
              "      <th>2</th>\n",
              "      <td>-1.437551</td>\n",
              "      <td>1.614717</td>\n",
              "      <td>-0.616988</td>\n",
              "      <td>0.082885</td>\n",
              "      <td>0.009438</td>\n",
              "      <td>0.208590</td>\n",
              "      <td>1.091352</td>\n",
              "      <td>-0.859600</td>\n",
              "      <td>-1.330936</td>\n",
              "    </tr>\n",
              "    <tr>\n",
              "      <th>3</th>\n",
              "      <td>-0.272433</td>\n",
              "      <td>-1.555449</td>\n",
              "      <td>0.067668</td>\n",
              "      <td>-0.015652</td>\n",
              "      <td>0.216291</td>\n",
              "      <td>-0.095059</td>\n",
              "      <td>0.561702</td>\n",
              "      <td>-0.146211</td>\n",
              "      <td>-0.992217</td>\n",
              "    </tr>\n",
              "    <tr>\n",
              "      <th>4</th>\n",
              "      <td>1.116028</td>\n",
              "      <td>-0.921416</td>\n",
              "      <td>0.535755</td>\n",
              "      <td>-0.005780</td>\n",
              "      <td>-0.535361</td>\n",
              "      <td>-0.032310</td>\n",
              "      <td>1.386643</td>\n",
              "      <td>-1.124003</td>\n",
              "      <td>0.707487</td>\n",
              "    </tr>\n",
              "  </tbody>\n",
              "</table>\n",
              "</div>"
            ],
            "text/plain": [
              "     MedInc  HouseAge  AveRooms  ...  Latitude  Longitude  MedHouseVal\n",
              "0  0.297052 -1.079924  0.251551  ... -0.760080   1.026143    -0.667466\n",
              "1 -0.062875  0.505159  0.040977  ... -0.821013   0.796661    -0.152404\n",
              "2 -1.437551  1.614717 -0.616988  ...  1.091352  -0.859600    -1.330936\n",
              "3 -0.272433 -1.555449  0.067668  ...  0.561702  -0.146211    -0.992217\n",
              "4  1.116028 -0.921416  0.535755  ...  1.386643  -1.124003     0.707487\n",
              "\n",
              "[5 rows x 9 columns]"
            ]
          },
          "metadata": {
            "tags": []
          }
        }
      ]
    },
    {
      "cell_type": "code",
      "metadata": {
        "id": "VeHVVeIQ048m",
        "colab_type": "code",
        "colab": {
          "base_uri": "https://localhost:8080/",
          "height": 91
        },
        "outputId": "19315618-8d48-4c6d-fbc1-a8f4c4f1b43b"
      },
      "source": [
        "# 標準化器も読み込んでおく\n",
        "def load_pkl(path):\n",
        "  '''pklファイルの読み込み'''\n",
        "  with open(path, 'rb') as f:\n",
        "    obj = cloudpickle.load(f)\n",
        "  return obj\n",
        "\n",
        "\n",
        "pkl_name = 'std_scaler.pkl'\n",
        "std_scaler = load_pkl(os.path.join(std_data_path, pkl_name))\n",
        "std_scaler"
      ],
      "execution_count": 8,
      "outputs": [
        {
          "output_type": "stream",
          "text": [
            "/usr/local/lib/python3.6/dist-packages/sklearn/base.py:318: UserWarning: Trying to unpickle estimator StandardScaler from version 0.23.2 when using version 0.22.2.post1. This might lead to breaking code or invalid results. Use at your own risk.\n",
            "  UserWarning)\n"
          ],
          "name": "stderr"
        },
        {
          "output_type": "execute_result",
          "data": {
            "text/plain": [
              "StandardScaler(copy=True, with_mean=True, with_std=True)"
            ]
          },
          "metadata": {
            "tags": []
          },
          "execution_count": 8
        }
      ]
    },
    {
      "cell_type": "markdown",
      "metadata": {
        "id": "KoFBlEsR1RtL",
        "colab_type": "text"
      },
      "source": [
        "## 前処理済みデータに対してモデルを構築"
      ]
    },
    {
      "cell_type": "code",
      "metadata": {
        "id": "7jJ5JNG71Vln",
        "colab_type": "code",
        "colab": {
          "base_uri": "https://localhost:8080/",
          "height": 1000
        },
        "outputId": "6dc7604d-c6f7-48e0-b5ea-e308ecfb881b"
      },
      "source": [
        "std_model = model_fn(input_shape=len(F_COLS), hidden_size=64,\n",
        "                     output_size=1)\n",
        "\n",
        "std_model.compile(loss='mse',\n",
        "                  optimizer=Adam(learning_rate=0.001),\n",
        "                  metrics=['mae', 'mse'])\n",
        "\n",
        "std_model.fit(x=std_train_df[F_COLS].values, y=std_train_df[TARGET_COL].values,\n",
        "              batch_size=BATCH_SIZE, epochs=EPOCHS,\n",
        "              validation_data=(std_val_df[F_COLS].values, std_val_df[TARGET_COL].values),\n",
        "              callbacks=[es]\n",
        "              )"
      ],
      "execution_count": 9,
      "outputs": [
        {
          "output_type": "stream",
          "text": [
            "Epoch 1/100\n",
            "52/52 [==============================] - 0s 4ms/step - loss: 0.6280 - mae: 0.6006 - mse: 0.6280 - val_loss: 0.5417 - val_mae: 0.5474 - val_mse: 0.5417\n",
            "Epoch 2/100\n",
            "52/52 [==============================] - 0s 2ms/step - loss: 0.4496 - mae: 0.4984 - mse: 0.4496 - val_loss: 0.4720 - val_mae: 0.5013 - val_mse: 0.4720\n",
            "Epoch 3/100\n",
            "52/52 [==============================] - 0s 2ms/step - loss: 0.3996 - mae: 0.4636 - mse: 0.3996 - val_loss: 0.4214 - val_mae: 0.4702 - val_mse: 0.4214\n",
            "Epoch 4/100\n",
            "52/52 [==============================] - 0s 2ms/step - loss: 0.3633 - mae: 0.4393 - mse: 0.3633 - val_loss: 0.3837 - val_mae: 0.4423 - val_mse: 0.3837\n",
            "Epoch 5/100\n",
            "52/52 [==============================] - 0s 2ms/step - loss: 0.3391 - mae: 0.4224 - mse: 0.3391 - val_loss: 0.3600 - val_mae: 0.4287 - val_mse: 0.3600\n",
            "Epoch 6/100\n",
            "52/52 [==============================] - 0s 2ms/step - loss: 0.3232 - mae: 0.4109 - mse: 0.3232 - val_loss: 0.3439 - val_mae: 0.4155 - val_mse: 0.3439\n",
            "Epoch 7/100\n",
            "52/52 [==============================] - 0s 2ms/step - loss: 0.3123 - mae: 0.4011 - mse: 0.3123 - val_loss: 0.3325 - val_mae: 0.4127 - val_mse: 0.3325\n",
            "Epoch 8/100\n",
            "52/52 [==============================] - 0s 2ms/step - loss: 0.3042 - mae: 0.3965 - mse: 0.3042 - val_loss: 0.3249 - val_mae: 0.4049 - val_mse: 0.3249\n",
            "Epoch 9/100\n",
            "52/52 [==============================] - 0s 2ms/step - loss: 0.2970 - mae: 0.3904 - mse: 0.2970 - val_loss: 0.3169 - val_mae: 0.3978 - val_mse: 0.3169\n",
            "Epoch 10/100\n",
            "52/52 [==============================] - 0s 2ms/step - loss: 0.2922 - mae: 0.3867 - mse: 0.2922 - val_loss: 0.3117 - val_mae: 0.3964 - val_mse: 0.3117\n",
            "Epoch 11/100\n",
            "52/52 [==============================] - 0s 2ms/step - loss: 0.2870 - mae: 0.3830 - mse: 0.2870 - val_loss: 0.3059 - val_mae: 0.3888 - val_mse: 0.3059\n",
            "Epoch 12/100\n",
            "52/52 [==============================] - 0s 2ms/step - loss: 0.2828 - mae: 0.3792 - mse: 0.2828 - val_loss: 0.3010 - val_mae: 0.3856 - val_mse: 0.3010\n",
            "Epoch 13/100\n",
            "52/52 [==============================] - 0s 2ms/step - loss: 0.2800 - mae: 0.3766 - mse: 0.2800 - val_loss: 0.2967 - val_mae: 0.3837 - val_mse: 0.2967\n",
            "Epoch 14/100\n",
            "52/52 [==============================] - 0s 2ms/step - loss: 0.2764 - mae: 0.3735 - mse: 0.2764 - val_loss: 0.2948 - val_mae: 0.3798 - val_mse: 0.2948\n",
            "Epoch 15/100\n",
            "52/52 [==============================] - 0s 2ms/step - loss: 0.2730 - mae: 0.3706 - mse: 0.2730 - val_loss: 0.2909 - val_mae: 0.3777 - val_mse: 0.2909\n",
            "Epoch 16/100\n",
            "52/52 [==============================] - 0s 2ms/step - loss: 0.2713 - mae: 0.3693 - mse: 0.2713 - val_loss: 0.2896 - val_mae: 0.3776 - val_mse: 0.2896\n",
            "Epoch 17/100\n",
            "52/52 [==============================] - 0s 2ms/step - loss: 0.2688 - mae: 0.3684 - mse: 0.2688 - val_loss: 0.2878 - val_mae: 0.3716 - val_mse: 0.2878\n",
            "Epoch 18/100\n",
            "52/52 [==============================] - 0s 2ms/step - loss: 0.2676 - mae: 0.3659 - mse: 0.2676 - val_loss: 0.2847 - val_mae: 0.3740 - val_mse: 0.2847\n",
            "Epoch 19/100\n",
            "52/52 [==============================] - 0s 2ms/step - loss: 0.2675 - mae: 0.3656 - mse: 0.2675 - val_loss: 0.2859 - val_mae: 0.3713 - val_mse: 0.2859\n",
            "Epoch 20/100\n",
            "52/52 [==============================] - 0s 2ms/step - loss: 0.2676 - mae: 0.3646 - mse: 0.2676 - val_loss: 0.2822 - val_mae: 0.3752 - val_mse: 0.2822\n",
            "Epoch 21/100\n",
            "52/52 [==============================] - 0s 2ms/step - loss: 0.2632 - mae: 0.3622 - mse: 0.2632 - val_loss: 0.2799 - val_mae: 0.3692 - val_mse: 0.2799\n",
            "Epoch 22/100\n",
            "52/52 [==============================] - 0s 2ms/step - loss: 0.2616 - mae: 0.3624 - mse: 0.2616 - val_loss: 0.2800 - val_mae: 0.3651 - val_mse: 0.2800\n",
            "Epoch 23/100\n",
            "52/52 [==============================] - 0s 2ms/step - loss: 0.2614 - mae: 0.3601 - mse: 0.2614 - val_loss: 0.2777 - val_mae: 0.3679 - val_mse: 0.2777\n",
            "Epoch 24/100\n",
            "52/52 [==============================] - 0s 2ms/step - loss: 0.2593 - mae: 0.3593 - mse: 0.2593 - val_loss: 0.2770 - val_mae: 0.3636 - val_mse: 0.2770\n",
            "Epoch 25/100\n",
            "52/52 [==============================] - 0s 2ms/step - loss: 0.2592 - mae: 0.3585 - mse: 0.2592 - val_loss: 0.2780 - val_mae: 0.3630 - val_mse: 0.2780\n",
            "Epoch 26/100\n",
            "52/52 [==============================] - 0s 2ms/step - loss: 0.2583 - mae: 0.3573 - mse: 0.2583 - val_loss: 0.2760 - val_mae: 0.3695 - val_mse: 0.2760\n",
            "Epoch 27/100\n",
            "52/52 [==============================] - 0s 2ms/step - loss: 0.2577 - mae: 0.3571 - mse: 0.2577 - val_loss: 0.2733 - val_mae: 0.3631 - val_mse: 0.2733\n",
            "Epoch 28/100\n",
            "52/52 [==============================] - 0s 3ms/step - loss: 0.2569 - mae: 0.3565 - mse: 0.2569 - val_loss: 0.2728 - val_mae: 0.3647 - val_mse: 0.2728\n",
            "Epoch 29/100\n",
            "52/52 [==============================] - 0s 2ms/step - loss: 0.2586 - mae: 0.3568 - mse: 0.2586 - val_loss: 0.2726 - val_mae: 0.3604 - val_mse: 0.2726\n",
            "Epoch 30/100\n",
            "52/52 [==============================] - 0s 2ms/step - loss: 0.2600 - mae: 0.3562 - mse: 0.2600 - val_loss: 0.2706 - val_mae: 0.3611 - val_mse: 0.2706\n",
            "Epoch 31/100\n",
            "52/52 [==============================] - 0s 2ms/step - loss: 0.2536 - mae: 0.3531 - mse: 0.2536 - val_loss: 0.2691 - val_mae: 0.3607 - val_mse: 0.2691\n",
            "Epoch 32/100\n",
            "52/52 [==============================] - 0s 2ms/step - loss: 0.2533 - mae: 0.3544 - mse: 0.2533 - val_loss: 0.2703 - val_mae: 0.3568 - val_mse: 0.2703\n",
            "Epoch 33/100\n",
            "52/52 [==============================] - 0s 2ms/step - loss: 0.2519 - mae: 0.3522 - mse: 0.2519 - val_loss: 0.2690 - val_mae: 0.3626 - val_mse: 0.2690\n",
            "Epoch 34/100\n",
            "52/52 [==============================] - 0s 2ms/step - loss: 0.2516 - mae: 0.3530 - mse: 0.2516 - val_loss: 0.2700 - val_mae: 0.3586 - val_mse: 0.2700\n",
            "Epoch 35/100\n",
            "52/52 [==============================] - 0s 2ms/step - loss: 0.2507 - mae: 0.3510 - mse: 0.2507 - val_loss: 0.2661 - val_mae: 0.3578 - val_mse: 0.2661\n",
            "Epoch 36/100\n",
            "52/52 [==============================] - 0s 2ms/step - loss: 0.2498 - mae: 0.3501 - mse: 0.2498 - val_loss: 0.2698 - val_mae: 0.3628 - val_mse: 0.2698\n",
            "Epoch 37/100\n",
            "52/52 [==============================] - 0s 2ms/step - loss: 0.2513 - mae: 0.3516 - mse: 0.2513 - val_loss: 0.2657 - val_mae: 0.3555 - val_mse: 0.2657\n",
            "Epoch 38/100\n",
            "52/52 [==============================] - 0s 2ms/step - loss: 0.2484 - mae: 0.3500 - mse: 0.2484 - val_loss: 0.2661 - val_mae: 0.3539 - val_mse: 0.2661\n",
            "Epoch 39/100\n",
            "52/52 [==============================] - 0s 2ms/step - loss: 0.2478 - mae: 0.3490 - mse: 0.2478 - val_loss: 0.2653 - val_mae: 0.3552 - val_mse: 0.2653\n",
            "Epoch 40/100\n",
            "52/52 [==============================] - 0s 2ms/step - loss: 0.2486 - mae: 0.3499 - mse: 0.2486 - val_loss: 0.2644 - val_mae: 0.3533 - val_mse: 0.2644\n",
            "Epoch 41/100\n",
            "52/52 [==============================] - 0s 2ms/step - loss: 0.2490 - mae: 0.3483 - mse: 0.2490 - val_loss: 0.2646 - val_mae: 0.3581 - val_mse: 0.2646\n",
            "Epoch 42/100\n",
            "52/52 [==============================] - 0s 2ms/step - loss: 0.2465 - mae: 0.3477 - mse: 0.2465 - val_loss: 0.2622 - val_mae: 0.3553 - val_mse: 0.2622\n",
            "Epoch 43/100\n",
            "52/52 [==============================] - 0s 2ms/step - loss: 0.2446 - mae: 0.3466 - mse: 0.2446 - val_loss: 0.2646 - val_mae: 0.3521 - val_mse: 0.2646\n",
            "Epoch 44/100\n",
            "52/52 [==============================] - 0s 2ms/step - loss: 0.2453 - mae: 0.3472 - mse: 0.2453 - val_loss: 0.2604 - val_mae: 0.3541 - val_mse: 0.2604\n",
            "Epoch 45/100\n",
            "52/52 [==============================] - 0s 2ms/step - loss: 0.2452 - mae: 0.3460 - mse: 0.2452 - val_loss: 0.2617 - val_mae: 0.3504 - val_mse: 0.2617\n",
            "Epoch 46/100\n",
            "52/52 [==============================] - 0s 2ms/step - loss: 0.2445 - mae: 0.3463 - mse: 0.2445 - val_loss: 0.2604 - val_mae: 0.3479 - val_mse: 0.2604\n",
            "Epoch 47/100\n",
            "52/52 [==============================] - 0s 2ms/step - loss: 0.2436 - mae: 0.3453 - mse: 0.2436 - val_loss: 0.2581 - val_mae: 0.3512 - val_mse: 0.2581\n",
            "Epoch 48/100\n",
            "52/52 [==============================] - 0s 2ms/step - loss: 0.2482 - mae: 0.3448 - mse: 0.2482 - val_loss: 0.2599 - val_mae: 0.3517 - val_mse: 0.2599\n",
            "Epoch 49/100\n",
            "52/52 [==============================] - 0s 2ms/step - loss: 0.2416 - mae: 0.3444 - mse: 0.2416 - val_loss: 0.2576 - val_mae: 0.3522 - val_mse: 0.2576\n",
            "Epoch 50/100\n",
            "52/52 [==============================] - 0s 2ms/step - loss: 0.2416 - mae: 0.3439 - mse: 0.2416 - val_loss: 0.2607 - val_mae: 0.3505 - val_mse: 0.2607\n",
            "Epoch 51/100\n",
            "52/52 [==============================] - 0s 2ms/step - loss: 0.2414 - mae: 0.3433 - mse: 0.2414 - val_loss: 0.2601 - val_mae: 0.3466 - val_mse: 0.2601\n",
            "Epoch 52/100\n",
            "52/52 [==============================] - 0s 2ms/step - loss: 0.2398 - mae: 0.3421 - mse: 0.2398 - val_loss: 0.2593 - val_mae: 0.3530 - val_mse: 0.2593\n"
          ],
          "name": "stdout"
        },
        {
          "output_type": "execute_result",
          "data": {
            "text/plain": [
              "<tensorflow.python.keras.callbacks.History at 0x7f4c8c7ab668>"
            ]
          },
          "metadata": {
            "tags": []
          },
          "execution_count": 9
        }
      ]
    },
    {
      "cell_type": "markdown",
      "metadata": {
        "id": "UasUHS94lGWO",
        "colab_type": "text"
      },
      "source": [
        "## モデルの評価"
      ]
    },
    {
      "cell_type": "markdown",
      "metadata": {
        "id": "evUIxuNFlypE",
        "colab_type": "text"
      },
      "source": [
        "### 評価指標の定義"
      ]
    },
    {
      "cell_type": "code",
      "metadata": {
        "id": "fA-3KR5PFVim",
        "colab_type": "code",
        "colab": {}
      },
      "source": [
        "SK_METRICS=[r2_score, explained_variance_score, mean_squared_error]\n",
        "\n",
        "def _calc_score(y_true, y_pred, sklearn_metric):\n",
        "  '''sklearnの評価指標のスコアを計算'''\n",
        "  score = sklearn_metric(y_true=y_true, y_pred=y_pred)\n",
        "  return score\n",
        "\n",
        "\n",
        "def evaluete_sk_metrics(y_true, y_pred, sklearn_metrics):\n",
        "  '''sklearnの各種、評価関数を使用'''\n",
        "  result = {}\n",
        "  for sk_metric in sklearn_metrics:\n",
        "    result[sk_metric.__name__] = _calc_score(y_true=y_true, y_pred=y_pred, sklearn_metric=sk_metric)\n",
        "  return result"
      ],
      "execution_count": 10,
      "outputs": []
    },
    {
      "cell_type": "markdown",
      "metadata": {
        "id": "XAgGKxvYloVE",
        "colab_type": "text"
      },
      "source": [
        "### 推論結果の取得"
      ]
    },
    {
      "cell_type": "code",
      "metadata": {
        "id": "A_ncz3hSlolO",
        "colab_type": "code",
        "colab": {}
      },
      "source": [
        "def predict_multiple_times(model, inputs, input_names):\n",
        "  '''何度か推論'''\n",
        "  pred = {}\n",
        "  for input, name in zip(inputs, input_names):\n",
        "    pred[name] = model.predict(input)\n",
        "  return pred"
      ],
      "execution_count": 11,
      "outputs": []
    },
    {
      "cell_type": "code",
      "metadata": {
        "id": "RSWjyhesl_Us",
        "colab_type": "code",
        "colab": {
          "base_uri": "https://localhost:8080/",
          "height": 53
        },
        "outputId": "19584788-2ea3-47be-dfdf-19e47212af15"
      },
      "source": [
        "%time\n",
        "reg_inputs = [train_df[F_COLS].values, val_df[F_COLS], test_df[F_COLS].values]\n",
        "reg_input_names = [train_csv, val_csv, test_csv]\n",
        "\n",
        "std_reg_inputs = [std_train_df[F_COLS].values, std_val_df[F_COLS].values, std_test_df[F_COLS].values]\n",
        "std_input_names = [std_train_csv, std_val_csv, std_test_csv]\n",
        "\n",
        "\n",
        "reg_preds = predict_multiple_times(model=model, inputs=reg_inputs, input_names=reg_input_names)\n",
        "std_reg_preds = predict_multiple_times(model=std_model, inputs=std_reg_inputs, input_names=std_input_names)"
      ],
      "execution_count": 12,
      "outputs": [
        {
          "output_type": "stream",
          "text": [
            "CPU times: user 4 µs, sys: 1 µs, total: 5 µs\n",
            "Wall time: 8.82 µs\n"
          ],
          "name": "stdout"
        }
      ]
    },
    {
      "cell_type": "markdown",
      "metadata": {
        "id": "n9KrK8_CmgbI",
        "colab_type": "text"
      },
      "source": [
        "### 評価の実行"
      ]
    },
    {
      "cell_type": "code",
      "metadata": {
        "id": "in8wCVfvmbPK",
        "colab_type": "code",
        "colab": {
          "base_uri": "https://localhost:8080/",
          "height": 341
        },
        "outputId": "e341092a-cd14-418e-87cb-cd2725fd26b2"
      },
      "source": [
        "model_name = 'ShallowNN'\n",
        "std_model_name = 'std_ShallowNN'\n",
        "\n",
        "eval_scores = {model_name: {}, std_model_name: {}}\n",
        "\n",
        "for csv_name, y_true in zip([train_csv, val_csv, test_csv],\n",
        "                            [train_df[TARGET_COL].values, val_df[TARGET_COL].values, test_df[TARGET_COL].values]):\n",
        "  eval_scores[model_name][csv_name] = evaluete_sk_metrics(y_true=y_true,\n",
        "                                                          y_pred=reg_preds[csv_name], sklearn_metrics=SK_METRICS)\n",
        "\n",
        "for csv_name, y_true in zip([std_train_csv, std_val_csv, std_test_csv], \n",
        "                            [std_train_df[TARGET_COL].values, std_val_df[TARGET_COL].values, std_test_df[TARGET_COL].values]):\n",
        "  eval_scores[std_model_name][csv_name] = evaluete_sk_metrics(y_true=y_true,\n",
        "                                                              y_pred=std_reg_preds[csv_name], sklearn_metrics=SK_METRICS)\n",
        "\n",
        "pprint.pprint(eval_scores)"
      ],
      "execution_count": 13,
      "outputs": [
        {
          "output_type": "stream",
          "text": [
            "{'ShallowNN': {'test.csv': {'explained_variance_score': 0.4113507362237835,\n",
            "                            'mean_squared_error': 0.8671976812652659,\n",
            "                            'r2_score': 0.3552512656067024},\n",
            "               'train.csv': {'explained_variance_score': 0.4382437418720341,\n",
            "                             'mean_squared_error': 0.8216732977780793,\n",
            "                             'r2_score': 0.3737983108131855},\n",
            "               'val.csv': {'explained_variance_score': 0.42981381590755363,\n",
            "                           'mean_squared_error': 0.8588002188503151,\n",
            "                           'r2_score': 0.3813672975773672}},\n",
            " 'std_ShallowNN': {'std_test.csv': {'explained_variance_score': 0.7435970868416897,\n",
            "                                    'mean_squared_error': 0.2629155355581765,\n",
            "                                    'r2_score': 0.7435081450151091},\n",
            "                   'std_train.csv': {'explained_variance_score': 0.7605143906602558,\n",
            "                                     'mean_squared_error': 0.23974903193165886,\n",
            "                                     'r2_score': 0.7602509680683411},\n",
            "                   'std_val.csv': {'explained_variance_score': 0.7550361705488584,\n",
            "                                   'mean_squared_error': 0.2593092192546777,\n",
            "                                   'r2_score': 0.7548998233583163}}}\n"
          ],
          "name": "stdout"
        }
      ]
    },
    {
      "cell_type": "markdown",
      "metadata": {
        "id": "KgucOget9o3-",
        "colab_type": "text"
      },
      "source": [
        "## モデルの予測値を標準化から復元し評価する場合"
      ]
    },
    {
      "cell_type": "code",
      "metadata": {
        "id": "3j3_QuVb9qU2",
        "colab_type": "code",
        "colab": {
          "base_uri": "https://localhost:8080/",
          "height": 125
        },
        "outputId": "c63d10ad-c72c-42e5-b783-997a6631d5d5"
      },
      "source": [
        "def inverse_scale_values(values, scaler):\n",
        "  '''scalerを使って値の復元'''\n",
        "  return scaler.inverse_transform(values)\n",
        "\n",
        "\n",
        "inverse_scale_preds = {}\n",
        "# 目的変数をモデルの予測値に置き換え\n",
        "for df, csv_name, key in zip([std_train_df, std_val_df, std_test_df], [std_train_csv, std_val_csv, std_test_csv], \n",
        "                             [train_csv, val_csv, test_csv]):\n",
        "  df[TARGET_COL] = std_reg_preds[csv_name]\n",
        "  tmp_df = pd.DataFrame(inverse_scale_values(df.values, std_scaler), columns=F_COLS+[TARGET_COL])\n",
        "  inverse_scale_preds[key] = tmp_df[TARGET_COL].values\n",
        "\n",
        "inverse_scale_preds"
      ],
      "execution_count": 14,
      "outputs": [
        {
          "output_type": "execute_result",
          "data": {
            "text/plain": [
              "{'test.csv': array([2.05405413, 2.71168867, 3.0679269 , ..., 1.33230109, 3.23131995,\n",
              "        4.16991808]),\n",
              " 'train.csv': array([1.58030596, 1.70514985, 0.7200618 , ..., 1.27362621, 1.2391027 ,\n",
              "        2.21615701]),\n",
              " 'val.csv': array([1.06332521, 0.86363761, 1.29767183, ..., 0.9586947 , 1.20174339,\n",
              "        0.85731437])}"
            ]
          },
          "metadata": {
            "tags": []
          },
          "execution_count": 14
        }
      ]
    },
    {
      "cell_type": "code",
      "metadata": {
        "id": "SSDoihB69zQH",
        "colab_type": "code",
        "colab": {
          "base_uri": "https://localhost:8080/",
          "height": 503
        },
        "outputId": "7ba28f4a-1220-42bf-f25a-4e27b7a157e4"
      },
      "source": [
        "# 標準化された値を復元した場合の評価スコア\n",
        "for csv_name, y_true in zip([train_csv, val_csv, test_csv],\n",
        "                            [train_df[TARGET_COL].values, val_df[TARGET_COL].values, test_df[TARGET_COL].values]):\n",
        "  eval_scores[std_model_name][csv_name] = evaluete_sk_metrics(y_true=y_true,\n",
        "                                                              y_pred=inverse_scale_preds[csv_name],\n",
        "                                                              sklearn_metrics=SK_METRICS)\n",
        "\n",
        "pprint.pprint(eval_scores)"
      ],
      "execution_count": 15,
      "outputs": [
        {
          "output_type": "stream",
          "text": [
            "{'ShallowNN': {'test.csv': {'explained_variance_score': 0.4113507362237835,\n",
            "                            'mean_squared_error': 0.8671976812652659,\n",
            "                            'r2_score': 0.3552512656067024},\n",
            "               'train.csv': {'explained_variance_score': 0.4382437418720341,\n",
            "                             'mean_squared_error': 0.8216732977780793,\n",
            "                             'r2_score': 0.3737983108131855},\n",
            "               'val.csv': {'explained_variance_score': 0.42981381590755363,\n",
            "                           'mean_squared_error': 0.8588002188503151,\n",
            "                           'r2_score': 0.3813672975773672}},\n",
            " 'std_ShallowNN': {'std_test.csv': {'explained_variance_score': 0.7435970868416897,\n",
            "                                    'mean_squared_error': 0.2629155355581765,\n",
            "                                    'r2_score': 0.7435081450151091},\n",
            "                   'std_train.csv': {'explained_variance_score': 0.7605143906602558,\n",
            "                                     'mean_squared_error': 0.23974903193165886,\n",
            "                                     'r2_score': 0.7602509680683411},\n",
            "                   'std_val.csv': {'explained_variance_score': 0.7550361705488584,\n",
            "                                   'mean_squared_error': 0.2593092192546777,\n",
            "                                   'r2_score': 0.7548998233583163},\n",
            "                   'test.csv': {'explained_variance_score': 0.7435970868416897,\n",
            "                                'mean_squared_error': 0.3449857751417347,\n",
            "                                'r2_score': 0.7435081450151091},\n",
            "                   'train.csv': {'explained_variance_score': 0.7605143906602558,\n",
            "                                 'mean_squared_error': 0.31458774562267056,\n",
            "                                 'r2_score': 0.7602509680683411},\n",
            "                   'val.csv': {'explained_variance_score': 0.7550361705488584,\n",
            "                               'mean_squared_error': 0.3402537313592039,\n",
            "                               'r2_score': 0.7548998233583164}}}\n"
          ],
          "name": "stdout"
        }
      ]
    }
  ]
}