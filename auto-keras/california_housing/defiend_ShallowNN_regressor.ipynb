{
  "nbformat": 4,
  "nbformat_minor": 0,
  "metadata": {
    "colab": {
      "name": "defiend_ShallowNN_regressor.ipynb",
      "provenance": [],
      "collapsed_sections": [],
      "toc_visible": true,
      "mount_file_id": "1jpdcuIWmAGWntZTKT5U7cObfcJ2FDy6m",
      "authorship_tag": "ABX9TyMFoJS1w4l2lAkFv4U+JXPg",
      "include_colab_link": true
    },
    "kernelspec": {
      "name": "python3",
      "display_name": "Python 3"
    }
  },
  "cells": [
    {
      "cell_type": "markdown",
      "metadata": {
        "id": "view-in-github",
        "colab_type": "text"
      },
      "source": [
        "<a href=\"https://colab.research.google.com/github/Itsuki-Hamano123/auto_ml/blob/master/auto-keras/california_housing/defiend_ShallowNN_regressor.ipynb\" target=\"_parent\"><img src=\"https://colab.research.google.com/assets/colab-badge.svg\" alt=\"Open In Colab\"/></a>"
      ]
    },
    {
      "cell_type": "code",
      "metadata": {
        "id": "R8wgpB3kBaPO",
        "colab_type": "code",
        "colab": {
          "base_uri": "https://localhost:8080/",
          "height": 217
        },
        "outputId": "3953f4a5-b8be-4b5a-b886-471afb800d92"
      },
      "source": [
        "%pip show tensorflow"
      ],
      "execution_count": 1,
      "outputs": [
        {
          "output_type": "stream",
          "text": [
            "Name: tensorflow\n",
            "Version: 2.3.0\n",
            "Summary: TensorFlow is an open source machine learning framework for everyone.\n",
            "Home-page: https://www.tensorflow.org/\n",
            "Author: Google Inc.\n",
            "Author-email: packages@tensorflow.org\n",
            "License: Apache 2.0\n",
            "Location: /usr/local/lib/python3.6/dist-packages\n",
            "Requires: keras-preprocessing, numpy, google-pasta, opt-einsum, six, scipy, absl-py, tensorflow-estimator, tensorboard, astunparse, grpcio, gast, wrapt, protobuf, termcolor, wheel, h5py\n",
            "Required-by: fancyimpute\n"
          ],
          "name": "stdout"
        }
      ]
    },
    {
      "cell_type": "code",
      "metadata": {
        "id": "MpMgfN_QCDdX",
        "colab_type": "code",
        "colab": {
          "base_uri": "https://localhost:8080/",
          "height": 71
        },
        "outputId": "e573b46f-68b9-4453-9b42-7008c56cb54e"
      },
      "source": [
        "%cd /content/drive/My Drive/機械学習練習/AutoML/auto-keras/california_housing\n",
        "%ls"
      ],
      "execution_count": 3,
      "outputs": [
        {
          "output_type": "stream",
          "text": [
            "/content/drive/My Drive/機械学習練習/AutoML/auto-keras/california_housing\n",
            "\u001b[0m\u001b[01;34mauto_keras_outputs\u001b[0m/        \u001b[01;34mdatasets\u001b[0m/                    fetch_data.ipynb\n",
            "autokeras_regressor.ipynb  defiend_DNN_regressor.ipynb  xgb_regressor.ipynb\n"
          ],
          "name": "stdout"
        }
      ]
    },
    {
      "cell_type": "code",
      "metadata": {
        "id": "jt4D8_vaBAxH",
        "colab_type": "code",
        "colab": {}
      },
      "source": [
        "import cloudpickle, os, pprint\n",
        "\n",
        "import pandas as pd\n",
        "from sklearn.metrics import explained_variance_score, mean_squared_error, r2_score\n",
        "from tensorflow.keras import Model, Sequential, layers\n",
        "from tensorflow.keras.callbacks import EarlyStopping\n",
        "from tensorflow.keras.optimizers import Adam"
      ],
      "execution_count": 20,
      "outputs": []
    },
    {
      "cell_type": "markdown",
      "metadata": {
        "id": "oZrRrFIEk7G5",
        "colab_type": "text"
      },
      "source": [
        "## データ読み込み"
      ]
    },
    {
      "cell_type": "code",
      "metadata": {
        "id": "voTXcoTpBb0R",
        "colab_type": "code",
        "colab": {
          "base_uri": "https://localhost:8080/",
          "height": 256
        },
        "outputId": "d8ecbcb0-855c-425b-9147-f55627af8a37"
      },
      "source": [
        "F_COLS = ['MedInc', 'HouseAge', 'AveRooms', 'AveBedrms', 'Population', 'AveOccup', 'Latitude', 'Longitude']\n",
        "TARGET_COL = 'MedHouseVal'\n",
        "\n",
        "data_path = 'datasets/origin'\n",
        "train_csv = 'train.csv'\n",
        "val_csv = 'val.csv'\n",
        "test_csv = 'test.csv'\n",
        "\n",
        "train_df= pd.read_csv(os.path.join(data_path, train_csv), header=0)\n",
        "val_df = pd.read_csv(os.path.join(data_path, val_csv), header=0)\n",
        "test_df = pd.read_csv(os.path.join(data_path, test_csv), header=0)\n",
        "\n",
        "print('train shape:{}'.format(train_df.shape))\n",
        "print('validation shape:{}'.format(val_df.shape))\n",
        "print('test shape:{}'.format(test_df.shape))\n",
        "\n",
        "display(train_df.head())"
      ],
      "execution_count": 5,
      "outputs": [
        {
          "output_type": "stream",
          "text": [
            "train shape:(13209, 9)\n",
            "validation shape:(3303, 9)\n",
            "test shape:(4128, 9)\n"
          ],
          "name": "stdout"
        },
        {
          "output_type": "display_data",
          "data": {
            "text/html": [
              "<div>\n",
              "<style scoped>\n",
              "    .dataframe tbody tr th:only-of-type {\n",
              "        vertical-align: middle;\n",
              "    }\n",
              "\n",
              "    .dataframe tbody tr th {\n",
              "        vertical-align: top;\n",
              "    }\n",
              "\n",
              "    .dataframe thead th {\n",
              "        text-align: right;\n",
              "    }\n",
              "</style>\n",
              "<table border=\"1\" class=\"dataframe\">\n",
              "  <thead>\n",
              "    <tr style=\"text-align: right;\">\n",
              "      <th></th>\n",
              "      <th>MedInc</th>\n",
              "      <th>HouseAge</th>\n",
              "      <th>AveRooms</th>\n",
              "      <th>AveBedrms</th>\n",
              "      <th>Population</th>\n",
              "      <th>AveOccup</th>\n",
              "      <th>Latitude</th>\n",
              "      <th>Longitude</th>\n",
              "      <th>MedHouseVal</th>\n",
              "    </tr>\n",
              "  </thead>\n",
              "  <tbody>\n",
              "    <tr>\n",
              "      <th>0</th>\n",
              "      <td>4.4063</td>\n",
              "      <td>15.0</td>\n",
              "      <td>6.104430</td>\n",
              "      <td>1.003165</td>\n",
              "      <td>1237.0</td>\n",
              "      <td>3.914557</td>\n",
              "      <td>34.00</td>\n",
              "      <td>-117.50</td>\n",
              "      <td>1.285</td>\n",
              "    </tr>\n",
              "    <tr>\n",
              "      <th>1</th>\n",
              "      <td>3.7222</td>\n",
              "      <td>35.0</td>\n",
              "      <td>5.539326</td>\n",
              "      <td>1.030899</td>\n",
              "      <td>1152.0</td>\n",
              "      <td>3.235955</td>\n",
              "      <td>33.87</td>\n",
              "      <td>-117.96</td>\n",
              "      <td>1.875</td>\n",
              "    </tr>\n",
              "    <tr>\n",
              "      <th>2</th>\n",
              "      <td>1.1094</td>\n",
              "      <td>49.0</td>\n",
              "      <td>3.773585</td>\n",
              "      <td>1.144654</td>\n",
              "      <td>1448.0</td>\n",
              "      <td>4.553459</td>\n",
              "      <td>37.95</td>\n",
              "      <td>-121.28</td>\n",
              "      <td>0.525</td>\n",
              "    </tr>\n",
              "    <tr>\n",
              "      <th>3</th>\n",
              "      <td>3.3239</td>\n",
              "      <td>9.0</td>\n",
              "      <td>5.610955</td>\n",
              "      <td>1.092697</td>\n",
              "      <td>1691.0</td>\n",
              "      <td>2.375000</td>\n",
              "      <td>36.82</td>\n",
              "      <td>-119.85</td>\n",
              "      <td>0.913</td>\n",
              "    </tr>\n",
              "    <tr>\n",
              "      <th>4</th>\n",
              "      <td>5.9629</td>\n",
              "      <td>17.0</td>\n",
              "      <td>6.867133</td>\n",
              "      <td>1.097902</td>\n",
              "      <td>808.0</td>\n",
              "      <td>2.825175</td>\n",
              "      <td>38.58</td>\n",
              "      <td>-121.81</td>\n",
              "      <td>2.860</td>\n",
              "    </tr>\n",
              "  </tbody>\n",
              "</table>\n",
              "</div>"
            ],
            "text/plain": [
              "   MedInc  HouseAge  AveRooms  ...  Latitude  Longitude  MedHouseVal\n",
              "0  4.4063      15.0  6.104430  ...     34.00    -117.50        1.285\n",
              "1  3.7222      35.0  5.539326  ...     33.87    -117.96        1.875\n",
              "2  1.1094      49.0  3.773585  ...     37.95    -121.28        0.525\n",
              "3  3.3239       9.0  5.610955  ...     36.82    -119.85        0.913\n",
              "4  5.9629      17.0  6.867133  ...     38.58    -121.81        2.860\n",
              "\n",
              "[5 rows x 9 columns]"
            ]
          },
          "metadata": {
            "tags": []
          }
        }
      ]
    },
    {
      "cell_type": "markdown",
      "metadata": {
        "id": "R-_IeEfFlCPv",
        "colab_type": "text"
      },
      "source": [
        "## Shallow Neural Networkモデルを構築"
      ]
    },
    {
      "cell_type": "code",
      "metadata": {
        "id": "12gBvURzCb7g",
        "colab_type": "code",
        "colab": {
          "base_uri": "https://localhost:8080/",
          "height": 233
        },
        "outputId": "521837e8-1d79-44a8-84f7-a93a88dabed2"
      },
      "source": [
        "def model_fn(input_shape, hidden_size, output_size):\n",
        "  '''モデルの定義'''\n",
        "  model = Sequential([\n",
        "    layers.Dense(hidden_size, activation='relu', input_shape=[None,input_shape]),\n",
        "    layers.Dense(output_size)\n",
        "  ])\n",
        "  return model\n",
        "\n",
        "\n",
        "model = model_fn(input_shape=len(F_COLS), hidden_size=64,\n",
        "                 output_size=1)\n",
        "\n",
        "model.compile(loss='mse',\n",
        "              optimizer=Adam(learning_rate=0.001),\n",
        "              metrics=['mae', 'mse'])\n",
        "\n",
        "model.summary()"
      ],
      "execution_count": 16,
      "outputs": [
        {
          "output_type": "stream",
          "text": [
            "Model: \"sequential_3\"\n",
            "_________________________________________________________________\n",
            "Layer (type)                 Output Shape              Param #   \n",
            "=================================================================\n",
            "dense_6 (Dense)              (None, None, 64)          576       \n",
            "_________________________________________________________________\n",
            "dense_7 (Dense)              (None, None, 1)           65        \n",
            "=================================================================\n",
            "Total params: 641\n",
            "Trainable params: 641\n",
            "Non-trainable params: 0\n",
            "_________________________________________________________________\n"
          ],
          "name": "stdout"
        }
      ]
    },
    {
      "cell_type": "code",
      "metadata": {
        "id": "b1qCInpkDK2R",
        "colab_type": "code",
        "colab": {
          "base_uri": "https://localhost:8080/",
          "height": 1000
        },
        "outputId": "d9871cd1-5737-4dfe-d667-5dd2d29895ad"
      },
      "source": [
        "%time\n",
        "BATCH_SIZE = 256\n",
        "EPOCHS = 50\n",
        "\n",
        "es = EarlyStopping(patience=3)\n",
        "\n",
        "model.fit(x=train_df[F_COLS].values, y=train_df[TARGET_COL].values,\n",
        "          batch_size=BATCH_SIZE, epochs=EPOCHS,\n",
        "          validation_data=(val_df[F_COLS].values, val_df[TARGET_COL].values),\n",
        "          callbacks=[es]\n",
        "          )"
      ],
      "execution_count": 17,
      "outputs": [
        {
          "output_type": "stream",
          "text": [
            "CPU times: user 3 µs, sys: 0 ns, total: 3 µs\n",
            "Wall time: 7.63 µs\n",
            "Epoch 1/50\n",
            "WARNING:tensorflow:Model was constructed with shape (None, None, 8) for input Tensor(\"dense_6_input:0\", shape=(None, None, 8), dtype=float32), but it was called on an input with incompatible shape (None, 8).\n",
            "WARNING:tensorflow:Model was constructed with shape (None, None, 8) for input Tensor(\"dense_6_input:0\", shape=(None, None, 8), dtype=float32), but it was called on an input with incompatible shape (None, 8).\n",
            "46/52 [=========================>....] - ETA: 0s - loss: 12384.2188 - mae: 61.9050 - mse: 12384.2188 WARNING:tensorflow:Model was constructed with shape (None, None, 8) for input Tensor(\"dense_6_input:0\", shape=(None, None, 8), dtype=float32), but it was called on an input with incompatible shape (None, 8).\n",
            "52/52 [==============================] - 0s 4ms/step - loss: 11076.4746 - mae: 57.1027 - mse: 11076.4746 - val_loss: 163.9289 - val_mae: 11.9892 - val_mse: 163.9289\n",
            "Epoch 2/50\n",
            "52/52 [==============================] - 0s 2ms/step - loss: 76.8025 - mae: 5.0169 - mse: 76.8025 - val_loss: 6.4963 - val_mae: 2.0304 - val_mse: 6.4963\n",
            "Epoch 3/50\n",
            "52/52 [==============================] - 0s 2ms/step - loss: 5.8402 - mae: 1.8837 - mse: 5.8402 - val_loss: 4.6593 - val_mae: 1.7428 - val_mse: 4.6593\n",
            "Epoch 4/50\n",
            "52/52 [==============================] - 0s 2ms/step - loss: 4.3347 - mae: 1.6474 - mse: 4.3347 - val_loss: 3.7885 - val_mae: 1.5731 - val_mse: 3.7885\n",
            "Epoch 5/50\n",
            "52/52 [==============================] - 0s 2ms/step - loss: 3.5481 - mae: 1.4863 - mse: 3.5481 - val_loss: 3.1116 - val_mae: 1.4196 - val_mse: 3.1116\n",
            "Epoch 6/50\n",
            "52/52 [==============================] - 0s 2ms/step - loss: 2.8613 - mae: 1.3308 - mse: 2.8613 - val_loss: 2.5775 - val_mae: 1.2864 - val_mse: 2.5775\n",
            "Epoch 7/50\n",
            "52/52 [==============================] - 0s 2ms/step - loss: 2.2937 - mae: 1.1812 - mse: 2.2937 - val_loss: 2.1409 - val_mae: 1.1710 - val_mse: 2.1409\n",
            "Epoch 8/50\n",
            "52/52 [==============================] - 0s 2ms/step - loss: 1.8930 - mae: 1.0635 - mse: 1.8930 - val_loss: 1.5588 - val_mae: 0.9746 - val_mse: 1.5588\n",
            "Epoch 9/50\n",
            "52/52 [==============================] - 0s 2ms/step - loss: 1.3189 - mae: 0.8853 - mse: 1.3189 - val_loss: 1.2282 - val_mae: 0.8684 - val_mse: 1.2282\n",
            "Epoch 10/50\n",
            "52/52 [==============================] - 0s 2ms/step - loss: 1.0980 - mae: 0.8034 - mse: 1.0980 - val_loss: 1.1195 - val_mae: 0.8265 - val_mse: 1.1195\n",
            "Epoch 11/50\n",
            "52/52 [==============================] - 0s 2ms/step - loss: 1.0166 - mae: 0.7767 - mse: 1.0166 - val_loss: 1.0967 - val_mae: 0.7950 - val_mse: 1.0967\n",
            "Epoch 12/50\n",
            "52/52 [==============================] - 0s 2ms/step - loss: 0.9810 - mae: 0.7648 - mse: 0.9810 - val_loss: 1.0256 - val_mae: 0.7681 - val_mse: 1.0256\n",
            "Epoch 13/50\n",
            "52/52 [==============================] - 0s 2ms/step - loss: 0.9281 - mae: 0.7421 - mse: 0.9281 - val_loss: 0.9843 - val_mae: 0.7731 - val_mse: 0.9843\n",
            "Epoch 14/50\n",
            "52/52 [==============================] - 0s 2ms/step - loss: 0.9242 - mae: 0.7430 - mse: 0.9242 - val_loss: 0.9509 - val_mae: 0.7545 - val_mse: 0.9509\n",
            "Epoch 15/50\n",
            "52/52 [==============================] - 0s 2ms/step - loss: 0.8692 - mae: 0.7168 - mse: 0.8692 - val_loss: 0.9247 - val_mae: 0.7331 - val_mse: 0.9247\n",
            "Epoch 16/50\n",
            "52/52 [==============================] - 0s 2ms/step - loss: 0.8625 - mae: 0.7140 - mse: 0.8625 - val_loss: 1.0390 - val_mae: 0.8211 - val_mse: 1.0390\n",
            "Epoch 17/50\n",
            "52/52 [==============================] - 0s 2ms/step - loss: 0.8948 - mae: 0.7285 - mse: 0.8948 - val_loss: 0.9144 - val_mae: 0.7460 - val_mse: 0.9144\n",
            "Epoch 18/50\n",
            "52/52 [==============================] - 0s 2ms/step - loss: 0.8171 - mae: 0.6920 - mse: 0.8171 - val_loss: 0.8766 - val_mae: 0.7166 - val_mse: 0.8766\n",
            "Epoch 19/50\n",
            "52/52 [==============================] - 0s 2ms/step - loss: 0.8059 - mae: 0.6886 - mse: 0.8059 - val_loss: 0.8723 - val_mae: 0.7245 - val_mse: 0.8723\n",
            "Epoch 20/50\n",
            "52/52 [==============================] - 0s 2ms/step - loss: 0.7901 - mae: 0.6811 - mse: 0.7901 - val_loss: 0.8515 - val_mae: 0.6923 - val_mse: 0.8515\n",
            "Epoch 21/50\n",
            "52/52 [==============================] - 0s 2ms/step - loss: 0.7769 - mae: 0.6741 - mse: 0.7769 - val_loss: 0.8760 - val_mae: 0.6905 - val_mse: 0.8760\n",
            "Epoch 22/50\n",
            "52/52 [==============================] - 0s 2ms/step - loss: 0.7825 - mae: 0.6762 - mse: 0.7825 - val_loss: 0.8359 - val_mae: 0.6926 - val_mse: 0.8359\n",
            "Epoch 23/50\n",
            "52/52 [==============================] - 0s 2ms/step - loss: 0.7690 - mae: 0.6696 - mse: 0.7690 - val_loss: 0.8581 - val_mae: 0.6802 - val_mse: 0.8581\n",
            "Epoch 24/50\n",
            "52/52 [==============================] - 0s 2ms/step - loss: 0.7670 - mae: 0.6669 - mse: 0.7670 - val_loss: 0.8172 - val_mae: 0.6711 - val_mse: 0.8172\n",
            "Epoch 25/50\n",
            "52/52 [==============================] - 0s 2ms/step - loss: 0.7448 - mae: 0.6543 - mse: 0.7448 - val_loss: 0.8335 - val_mae: 0.7180 - val_mse: 0.8335\n",
            "Epoch 26/50\n",
            "52/52 [==============================] - 0s 2ms/step - loss: 0.7491 - mae: 0.6581 - mse: 0.7491 - val_loss: 0.7987 - val_mae: 0.6700 - val_mse: 0.7987\n",
            "Epoch 27/50\n",
            "52/52 [==============================] - 0s 2ms/step - loss: 0.7340 - mae: 0.6491 - mse: 0.7340 - val_loss: 0.7964 - val_mae: 0.6676 - val_mse: 0.7964\n",
            "Epoch 28/50\n",
            "52/52 [==============================] - 0s 2ms/step - loss: 0.7428 - mae: 0.6546 - mse: 0.7428 - val_loss: 0.9541 - val_mae: 0.7890 - val_mse: 0.9541\n",
            "Epoch 29/50\n",
            "52/52 [==============================] - 0s 2ms/step - loss: 0.7889 - mae: 0.6744 - mse: 0.7889 - val_loss: 0.7942 - val_mae: 0.6538 - val_mse: 0.7942\n",
            "Epoch 30/50\n",
            "52/52 [==============================] - 0s 2ms/step - loss: 0.7216 - mae: 0.6450 - mse: 0.7216 - val_loss: 0.7723 - val_mae: 0.6611 - val_mse: 0.7723\n",
            "Epoch 31/50\n",
            "52/52 [==============================] - 0s 2ms/step - loss: 0.7125 - mae: 0.6389 - mse: 0.7125 - val_loss: 0.7733 - val_mae: 0.6494 - val_mse: 0.7733\n",
            "Epoch 32/50\n",
            "52/52 [==============================] - 0s 2ms/step - loss: 0.7168 - mae: 0.6402 - mse: 0.7168 - val_loss: 0.7789 - val_mae: 0.6779 - val_mse: 0.7789\n",
            "Epoch 33/50\n",
            "52/52 [==============================] - 0s 2ms/step - loss: 0.7126 - mae: 0.6394 - mse: 0.7126 - val_loss: 0.7544 - val_mae: 0.6540 - val_mse: 0.7544\n",
            "Epoch 34/50\n",
            "52/52 [==============================] - 0s 2ms/step - loss: 0.7198 - mae: 0.6443 - mse: 0.7198 - val_loss: 0.7544 - val_mae: 0.6634 - val_mse: 0.7544\n",
            "Epoch 35/50\n",
            "52/52 [==============================] - 0s 2ms/step - loss: 0.7034 - mae: 0.6329 - mse: 0.7034 - val_loss: 0.7443 - val_mae: 0.6507 - val_mse: 0.7443\n",
            "Epoch 36/50\n",
            "52/52 [==============================] - 0s 2ms/step - loss: 0.6838 - mae: 0.6233 - mse: 0.6838 - val_loss: 0.7682 - val_mae: 0.6433 - val_mse: 0.7682\n",
            "Epoch 37/50\n",
            "52/52 [==============================] - 0s 2ms/step - loss: 0.6889 - mae: 0.6261 - mse: 0.6889 - val_loss: 0.7460 - val_mae: 0.6614 - val_mse: 0.7460\n",
            "Epoch 38/50\n",
            "52/52 [==============================] - 0s 2ms/step - loss: 0.7038 - mae: 0.6345 - mse: 0.7038 - val_loss: 0.7371 - val_mae: 0.6532 - val_mse: 0.7371\n",
            "Epoch 39/50\n",
            "52/52 [==============================] - 0s 2ms/step - loss: 0.6822 - mae: 0.6211 - mse: 0.6822 - val_loss: 0.7536 - val_mae: 0.6778 - val_mse: 0.7536\n",
            "Epoch 40/50\n",
            "52/52 [==============================] - 0s 2ms/step - loss: 0.7243 - mae: 0.6432 - mse: 0.7243 - val_loss: 0.7710 - val_mae: 0.6953 - val_mse: 0.7710\n",
            "Epoch 41/50\n",
            "52/52 [==============================] - 0s 2ms/step - loss: 0.6802 - mae: 0.6227 - mse: 0.6802 - val_loss: 0.7219 - val_mae: 0.6341 - val_mse: 0.7219\n",
            "Epoch 42/50\n",
            "52/52 [==============================] - 0s 2ms/step - loss: 0.6700 - mae: 0.6161 - mse: 0.6700 - val_loss: 0.7808 - val_mae: 0.7025 - val_mse: 0.7808\n",
            "Epoch 43/50\n",
            "52/52 [==============================] - 0s 2ms/step - loss: 0.7572 - mae: 0.6579 - mse: 0.7572 - val_loss: 0.7955 - val_mae: 0.7050 - val_mse: 0.7955\n",
            "Epoch 44/50\n",
            "52/52 [==============================] - 0s 2ms/step - loss: 0.7888 - mae: 0.6763 - mse: 0.7888 - val_loss: 0.7614 - val_mae: 0.6279 - val_mse: 0.7614\n"
          ],
          "name": "stdout"
        },
        {
          "output_type": "execute_result",
          "data": {
            "text/plain": [
              "<tensorflow.python.keras.callbacks.History at 0x7f49a9f65da0>"
            ]
          },
          "metadata": {
            "tags": []
          },
          "execution_count": 17
        }
      ]
    },
    {
      "cell_type": "markdown",
      "metadata": {
        "id": "LwbTmSJ80GmU",
        "colab_type": "text"
      },
      "source": [
        "## 前処理したデータの読み込み\n",
        "行った前処理\n",
        "- 標準化"
      ]
    },
    {
      "cell_type": "code",
      "metadata": {
        "id": "PEtNjIyt0M_v",
        "colab_type": "code",
        "colab": {
          "base_uri": "https://localhost:8080/",
          "height": 256
        },
        "outputId": "41804f24-98b0-45f5-aedd-b04ec6de744e"
      },
      "source": [
        "std_data_path = 'datasets/std'\n",
        "std_train_csv = 'std_train.csv'\n",
        "std_val_csv = 'std_val.csv'\n",
        "std_test_csv = 'std_test.csv'\n",
        "\n",
        "std_train_df= pd.read_csv(os.path.join(std_data_path, std_train_csv), header=0)\n",
        "std_val_df = pd.read_csv(os.path.join(std_data_path, std_val_csv), header=0)\n",
        "std_test_df = pd.read_csv(os.path.join(std_data_path, std_test_csv), header=0)\n",
        "\n",
        "print('std_train shape:{}'.format(std_train_df.shape))\n",
        "print('std_validation shape:{}'.format(std_val_df.shape))\n",
        "print('std_test shape:{}'.format(std_test_df.shape))\n",
        "\n",
        "display(std_train_df.head())"
      ],
      "execution_count": 18,
      "outputs": [
        {
          "output_type": "stream",
          "text": [
            "std_train shape:(13209, 9)\n",
            "std_validation shape:(3303, 9)\n",
            "std_test shape:(4128, 9)\n"
          ],
          "name": "stdout"
        },
        {
          "output_type": "display_data",
          "data": {
            "text/html": [
              "<div>\n",
              "<style scoped>\n",
              "    .dataframe tbody tr th:only-of-type {\n",
              "        vertical-align: middle;\n",
              "    }\n",
              "\n",
              "    .dataframe tbody tr th {\n",
              "        vertical-align: top;\n",
              "    }\n",
              "\n",
              "    .dataframe thead th {\n",
              "        text-align: right;\n",
              "    }\n",
              "</style>\n",
              "<table border=\"1\" class=\"dataframe\">\n",
              "  <thead>\n",
              "    <tr style=\"text-align: right;\">\n",
              "      <th></th>\n",
              "      <th>MedInc</th>\n",
              "      <th>HouseAge</th>\n",
              "      <th>AveRooms</th>\n",
              "      <th>AveBedrms</th>\n",
              "      <th>Population</th>\n",
              "      <th>AveOccup</th>\n",
              "      <th>Latitude</th>\n",
              "      <th>Longitude</th>\n",
              "      <th>MedHouseVal</th>\n",
              "    </tr>\n",
              "  </thead>\n",
              "  <tbody>\n",
              "    <tr>\n",
              "      <th>0</th>\n",
              "      <td>0.297052</td>\n",
              "      <td>-1.079924</td>\n",
              "      <td>0.251551</td>\n",
              "      <td>-0.185450</td>\n",
              "      <td>-0.170175</td>\n",
              "      <td>0.119535</td>\n",
              "      <td>-0.760080</td>\n",
              "      <td>1.026143</td>\n",
              "      <td>-0.667466</td>\n",
              "    </tr>\n",
              "    <tr>\n",
              "      <th>1</th>\n",
              "      <td>-0.062875</td>\n",
              "      <td>0.505159</td>\n",
              "      <td>0.040977</td>\n",
              "      <td>-0.132852</td>\n",
              "      <td>-0.242531</td>\n",
              "      <td>0.024947</td>\n",
              "      <td>-0.821013</td>\n",
              "      <td>0.796661</td>\n",
              "      <td>-0.152404</td>\n",
              "    </tr>\n",
              "    <tr>\n",
              "      <th>2</th>\n",
              "      <td>-1.437551</td>\n",
              "      <td>1.614717</td>\n",
              "      <td>-0.616988</td>\n",
              "      <td>0.082885</td>\n",
              "      <td>0.009438</td>\n",
              "      <td>0.208590</td>\n",
              "      <td>1.091352</td>\n",
              "      <td>-0.859600</td>\n",
              "      <td>-1.330936</td>\n",
              "    </tr>\n",
              "    <tr>\n",
              "      <th>3</th>\n",
              "      <td>-0.272433</td>\n",
              "      <td>-1.555449</td>\n",
              "      <td>0.067668</td>\n",
              "      <td>-0.015652</td>\n",
              "      <td>0.216291</td>\n",
              "      <td>-0.095059</td>\n",
              "      <td>0.561702</td>\n",
              "      <td>-0.146211</td>\n",
              "      <td>-0.992217</td>\n",
              "    </tr>\n",
              "    <tr>\n",
              "      <th>4</th>\n",
              "      <td>1.116028</td>\n",
              "      <td>-0.921416</td>\n",
              "      <td>0.535755</td>\n",
              "      <td>-0.005780</td>\n",
              "      <td>-0.535361</td>\n",
              "      <td>-0.032310</td>\n",
              "      <td>1.386643</td>\n",
              "      <td>-1.124003</td>\n",
              "      <td>0.707487</td>\n",
              "    </tr>\n",
              "  </tbody>\n",
              "</table>\n",
              "</div>"
            ],
            "text/plain": [
              "     MedInc  HouseAge  AveRooms  ...  Latitude  Longitude  MedHouseVal\n",
              "0  0.297052 -1.079924  0.251551  ... -0.760080   1.026143    -0.667466\n",
              "1 -0.062875  0.505159  0.040977  ... -0.821013   0.796661    -0.152404\n",
              "2 -1.437551  1.614717 -0.616988  ...  1.091352  -0.859600    -1.330936\n",
              "3 -0.272433 -1.555449  0.067668  ...  0.561702  -0.146211    -0.992217\n",
              "4  1.116028 -0.921416  0.535755  ...  1.386643  -1.124003     0.707487\n",
              "\n",
              "[5 rows x 9 columns]"
            ]
          },
          "metadata": {
            "tags": []
          }
        }
      ]
    },
    {
      "cell_type": "code",
      "metadata": {
        "id": "VeHVVeIQ048m",
        "colab_type": "code",
        "colab": {
          "base_uri": "https://localhost:8080/",
          "height": 91
        },
        "outputId": "9c70fa04-e1f5-46ff-f97d-f04c524c9186"
      },
      "source": [
        "# 標準化器も読み込んでおく\n",
        "def load_pkl(path):\n",
        "  '''pklファイルの読み込み'''\n",
        "  with open(path, 'rb') as f:\n",
        "    obj = cloudpickle.load(f)\n",
        "  return obj\n",
        "\n",
        "\n",
        "pkl_name = 'std_scaler.pkl'\n",
        "std_scaler = load_pkl(os.path.join(std_data_path, pkl_name))\n",
        "std_scaler"
      ],
      "execution_count": 21,
      "outputs": [
        {
          "output_type": "stream",
          "text": [
            "/usr/local/lib/python3.6/dist-packages/sklearn/base.py:318: UserWarning: Trying to unpickle estimator StandardScaler from version 0.23.2 when using version 0.22.2.post1. This might lead to breaking code or invalid results. Use at your own risk.\n",
            "  UserWarning)\n"
          ],
          "name": "stderr"
        },
        {
          "output_type": "execute_result",
          "data": {
            "text/plain": [
              "StandardScaler(copy=True, with_mean=True, with_std=True)"
            ]
          },
          "metadata": {
            "tags": []
          },
          "execution_count": 21
        }
      ]
    },
    {
      "cell_type": "markdown",
      "metadata": {
        "id": "KoFBlEsR1RtL",
        "colab_type": "text"
      },
      "source": [
        "## 前処理済みデータに対してモデルを構築"
      ]
    },
    {
      "cell_type": "code",
      "metadata": {
        "id": "7jJ5JNG71Vln",
        "colab_type": "code",
        "colab": {
          "base_uri": "https://localhost:8080/",
          "height": 1000
        },
        "outputId": "faee7869-9eeb-43ec-a4b9-7a489007f116"
      },
      "source": [
        "std_model = model_fn(input_shape=len(F_COLS), hidden_size=64,\n",
        "                     output_size=1)\n",
        "\n",
        "std_model.compile(loss='mse',\n",
        "                  optimizer=Adam(learning_rate=0.001),\n",
        "                  metrics=['mae', 'mse'])\n",
        "\n",
        "std_model.fit(x=std_train_df[F_COLS].values, y=std_train_df[TARGET_COL].values,\n",
        "              batch_size=BATCH_SIZE, epochs=EPOCHS,\n",
        "              validation_data=(std_val_df[F_COLS].values, std_val_df[TARGET_COL].values),\n",
        "              callbacks=[es]\n",
        "              )"
      ],
      "execution_count": 23,
      "outputs": [
        {
          "output_type": "stream",
          "text": [
            "Epoch 1/50\n",
            "WARNING:tensorflow:Model was constructed with shape (None, None, 8) for input Tensor(\"dense_10_input:0\", shape=(None, None, 8), dtype=float32), but it was called on an input with incompatible shape (None, 8).\n",
            "WARNING:tensorflow:Model was constructed with shape (None, None, 8) for input Tensor(\"dense_10_input:0\", shape=(None, None, 8), dtype=float32), but it was called on an input with incompatible shape (None, 8).\n",
            "44/52 [========================>.....] - ETA: 0s - loss: 0.8456 - mae: 0.7032 - mse: 0.8456WARNING:tensorflow:Model was constructed with shape (None, None, 8) for input Tensor(\"dense_10_input:0\", shape=(None, None, 8), dtype=float32), but it was called on an input with incompatible shape (None, 8).\n",
            "52/52 [==============================] - 0s 4ms/step - loss: 0.8074 - mae: 0.6885 - mse: 0.8074 - val_loss: 0.5884 - val_mae: 0.5945 - val_mse: 0.5884\n",
            "Epoch 2/50\n",
            "52/52 [==============================] - 0s 2ms/step - loss: 0.4891 - mae: 0.5205 - mse: 0.4891 - val_loss: 0.4614 - val_mae: 0.4996 - val_mse: 0.4614\n",
            "Epoch 3/50\n",
            "52/52 [==============================] - 0s 2ms/step - loss: 0.4040 - mae: 0.4642 - mse: 0.4040 - val_loss: 0.4179 - val_mae: 0.4687 - val_mse: 0.4179\n",
            "Epoch 4/50\n",
            "52/52 [==============================] - 0s 2ms/step - loss: 0.3674 - mae: 0.4422 - mse: 0.3674 - val_loss: 0.3873 - val_mae: 0.4451 - val_mse: 0.3873\n",
            "Epoch 5/50\n",
            "52/52 [==============================] - 0s 2ms/step - loss: 0.3466 - mae: 0.4283 - mse: 0.3466 - val_loss: 0.3665 - val_mae: 0.4343 - val_mse: 0.3665\n",
            "Epoch 6/50\n",
            "52/52 [==============================] - 0s 2ms/step - loss: 0.3301 - mae: 0.4166 - mse: 0.3301 - val_loss: 0.3508 - val_mae: 0.4231 - val_mse: 0.3508\n",
            "Epoch 7/50\n",
            "52/52 [==============================] - 0s 2ms/step - loss: 0.3195 - mae: 0.4076 - mse: 0.3195 - val_loss: 0.3368 - val_mae: 0.4170 - val_mse: 0.3368\n",
            "Epoch 8/50\n",
            "52/52 [==============================] - 0s 2ms/step - loss: 0.3100 - mae: 0.4024 - mse: 0.3100 - val_loss: 0.3269 - val_mae: 0.4057 - val_mse: 0.3269\n",
            "Epoch 9/50\n",
            "52/52 [==============================] - 0s 2ms/step - loss: 0.3030 - mae: 0.3954 - mse: 0.3030 - val_loss: 0.3189 - val_mae: 0.4023 - val_mse: 0.3189\n",
            "Epoch 10/50\n",
            "52/52 [==============================] - 0s 2ms/step - loss: 0.2978 - mae: 0.3909 - mse: 0.2978 - val_loss: 0.3161 - val_mae: 0.3985 - val_mse: 0.3161\n",
            "Epoch 11/50\n",
            "52/52 [==============================] - 0s 2ms/step - loss: 0.2932 - mae: 0.3881 - mse: 0.2932 - val_loss: 0.3101 - val_mae: 0.3937 - val_mse: 0.3101\n",
            "Epoch 12/50\n",
            "52/52 [==============================] - 0s 2ms/step - loss: 0.2888 - mae: 0.3837 - mse: 0.2888 - val_loss: 0.3057 - val_mae: 0.3899 - val_mse: 0.3057\n",
            "Epoch 13/50\n",
            "52/52 [==============================] - 0s 2ms/step - loss: 0.2857 - mae: 0.3815 - mse: 0.2857 - val_loss: 0.3014 - val_mae: 0.3878 - val_mse: 0.3014\n",
            "Epoch 14/50\n",
            "52/52 [==============================] - 0s 2ms/step - loss: 0.2824 - mae: 0.3784 - mse: 0.2824 - val_loss: 0.2978 - val_mae: 0.3864 - val_mse: 0.2978\n",
            "Epoch 15/50\n",
            "52/52 [==============================] - 0s 2ms/step - loss: 0.2795 - mae: 0.3774 - mse: 0.2795 - val_loss: 0.2950 - val_mae: 0.3808 - val_mse: 0.2950\n",
            "Epoch 16/50\n",
            "52/52 [==============================] - 0s 2ms/step - loss: 0.2764 - mae: 0.3735 - mse: 0.2764 - val_loss: 0.2922 - val_mae: 0.3789 - val_mse: 0.2922\n",
            "Epoch 17/50\n",
            "52/52 [==============================] - 0s 2ms/step - loss: 0.2738 - mae: 0.3721 - mse: 0.2738 - val_loss: 0.2927 - val_mae: 0.3773 - val_mse: 0.2927\n",
            "Epoch 18/50\n",
            "52/52 [==============================] - 0s 2ms/step - loss: 0.2721 - mae: 0.3701 - mse: 0.2721 - val_loss: 0.2890 - val_mae: 0.3778 - val_mse: 0.2890\n",
            "Epoch 19/50\n",
            "52/52 [==============================] - 0s 2ms/step - loss: 0.2692 - mae: 0.3680 - mse: 0.2692 - val_loss: 0.2865 - val_mae: 0.3745 - val_mse: 0.2865\n",
            "Epoch 20/50\n",
            "52/52 [==============================] - 0s 2ms/step - loss: 0.2672 - mae: 0.3666 - mse: 0.2672 - val_loss: 0.2829 - val_mae: 0.3745 - val_mse: 0.2829\n",
            "Epoch 21/50\n",
            "52/52 [==============================] - 0s 2ms/step - loss: 0.2659 - mae: 0.3646 - mse: 0.2659 - val_loss: 0.2830 - val_mae: 0.3763 - val_mse: 0.2830\n",
            "Epoch 22/50\n",
            "52/52 [==============================] - 0s 2ms/step - loss: 0.2636 - mae: 0.3637 - mse: 0.2636 - val_loss: 0.2805 - val_mae: 0.3693 - val_mse: 0.2805\n",
            "Epoch 23/50\n",
            "52/52 [==============================] - 0s 2ms/step - loss: 0.2620 - mae: 0.3617 - mse: 0.2620 - val_loss: 0.2788 - val_mae: 0.3712 - val_mse: 0.2788\n",
            "Epoch 24/50\n",
            "52/52 [==============================] - 0s 2ms/step - loss: 0.2611 - mae: 0.3616 - mse: 0.2611 - val_loss: 0.2763 - val_mae: 0.3647 - val_mse: 0.2763\n",
            "Epoch 25/50\n",
            "52/52 [==============================] - 0s 2ms/step - loss: 0.2612 - mae: 0.3613 - mse: 0.2612 - val_loss: 0.2768 - val_mae: 0.3675 - val_mse: 0.2768\n",
            "Epoch 26/50\n",
            "52/52 [==============================] - 0s 2ms/step - loss: 0.2588 - mae: 0.3588 - mse: 0.2588 - val_loss: 0.2751 - val_mae: 0.3663 - val_mse: 0.2751\n",
            "Epoch 27/50\n",
            "52/52 [==============================] - 0s 2ms/step - loss: 0.2566 - mae: 0.3573 - mse: 0.2566 - val_loss: 0.2740 - val_mae: 0.3640 - val_mse: 0.2740\n",
            "Epoch 28/50\n",
            "52/52 [==============================] - 0s 2ms/step - loss: 0.2558 - mae: 0.3567 - mse: 0.2558 - val_loss: 0.2749 - val_mae: 0.3624 - val_mse: 0.2749\n",
            "Epoch 29/50\n",
            "52/52 [==============================] - 0s 2ms/step - loss: 0.2563 - mae: 0.3559 - mse: 0.2563 - val_loss: 0.2711 - val_mae: 0.3649 - val_mse: 0.2711\n",
            "Epoch 30/50\n",
            "52/52 [==============================] - 0s 2ms/step - loss: 0.2552 - mae: 0.3559 - mse: 0.2552 - val_loss: 0.2706 - val_mae: 0.3591 - val_mse: 0.2706\n",
            "Epoch 31/50\n",
            "52/52 [==============================] - 0s 2ms/step - loss: 0.2553 - mae: 0.3546 - mse: 0.2553 - val_loss: 0.2689 - val_mae: 0.3575 - val_mse: 0.2689\n",
            "Epoch 32/50\n",
            "52/52 [==============================] - 0s 2ms/step - loss: 0.2525 - mae: 0.3529 - mse: 0.2525 - val_loss: 0.2673 - val_mae: 0.3610 - val_mse: 0.2673\n",
            "Epoch 33/50\n",
            "52/52 [==============================] - 0s 2ms/step - loss: 0.2529 - mae: 0.3519 - mse: 0.2529 - val_loss: 0.2708 - val_mae: 0.3602 - val_mse: 0.2708\n",
            "Epoch 34/50\n",
            "52/52 [==============================] - 0s 2ms/step - loss: 0.2503 - mae: 0.3519 - mse: 0.2503 - val_loss: 0.2657 - val_mae: 0.3561 - val_mse: 0.2657\n",
            "Epoch 35/50\n",
            "52/52 [==============================] - 0s 2ms/step - loss: 0.2493 - mae: 0.3505 - mse: 0.2493 - val_loss: 0.2646 - val_mae: 0.3579 - val_mse: 0.2646\n",
            "Epoch 36/50\n",
            "52/52 [==============================] - 0s 2ms/step - loss: 0.2486 - mae: 0.3500 - mse: 0.2486 - val_loss: 0.2634 - val_mae: 0.3548 - val_mse: 0.2634\n",
            "Epoch 37/50\n",
            "52/52 [==============================] - 0s 2ms/step - loss: 0.2475 - mae: 0.3491 - mse: 0.2475 - val_loss: 0.2632 - val_mae: 0.3549 - val_mse: 0.2632\n",
            "Epoch 38/50\n",
            "52/52 [==============================] - 0s 2ms/step - loss: 0.2471 - mae: 0.3488 - mse: 0.2471 - val_loss: 0.2616 - val_mae: 0.3582 - val_mse: 0.2616\n",
            "Epoch 39/50\n",
            "52/52 [==============================] - 0s 2ms/step - loss: 0.2459 - mae: 0.3475 - mse: 0.2459 - val_loss: 0.2639 - val_mae: 0.3537 - val_mse: 0.2639\n",
            "Epoch 40/50\n",
            "52/52 [==============================] - 0s 2ms/step - loss: 0.2457 - mae: 0.3470 - mse: 0.2457 - val_loss: 0.2619 - val_mae: 0.3548 - val_mse: 0.2619\n",
            "Epoch 41/50\n",
            "52/52 [==============================] - 0s 2ms/step - loss: 0.2449 - mae: 0.3469 - mse: 0.2449 - val_loss: 0.2597 - val_mae: 0.3493 - val_mse: 0.2597\n",
            "Epoch 42/50\n",
            "52/52 [==============================] - 0s 2ms/step - loss: 0.2437 - mae: 0.3454 - mse: 0.2437 - val_loss: 0.2632 - val_mae: 0.3589 - val_mse: 0.2632\n",
            "Epoch 43/50\n",
            "52/52 [==============================] - 0s 2ms/step - loss: 0.2433 - mae: 0.3454 - mse: 0.2433 - val_loss: 0.2587 - val_mae: 0.3507 - val_mse: 0.2587\n",
            "Epoch 44/50\n",
            "52/52 [==============================] - 0s 2ms/step - loss: 0.2425 - mae: 0.3443 - mse: 0.2425 - val_loss: 0.2578 - val_mae: 0.3554 - val_mse: 0.2578\n",
            "Epoch 45/50\n",
            "52/52 [==============================] - 0s 2ms/step - loss: 0.2428 - mae: 0.3450 - mse: 0.2428 - val_loss: 0.2592 - val_mae: 0.3496 - val_mse: 0.2592\n",
            "Epoch 46/50\n",
            "52/52 [==============================] - 0s 2ms/step - loss: 0.2411 - mae: 0.3433 - mse: 0.2411 - val_loss: 0.2582 - val_mae: 0.3470 - val_mse: 0.2582\n",
            "Epoch 47/50\n",
            "52/52 [==============================] - 0s 2ms/step - loss: 0.2428 - mae: 0.3440 - mse: 0.2428 - val_loss: 0.2590 - val_mae: 0.3489 - val_mse: 0.2590\n"
          ],
          "name": "stdout"
        },
        {
          "output_type": "execute_result",
          "data": {
            "text/plain": [
              "<tensorflow.python.keras.callbacks.History at 0x7f49a6c946a0>"
            ]
          },
          "metadata": {
            "tags": []
          },
          "execution_count": 23
        }
      ]
    },
    {
      "cell_type": "markdown",
      "metadata": {
        "id": "UasUHS94lGWO",
        "colab_type": "text"
      },
      "source": [
        "## モデルの評価"
      ]
    },
    {
      "cell_type": "markdown",
      "metadata": {
        "id": "evUIxuNFlypE",
        "colab_type": "text"
      },
      "source": [
        "### 評価指標の定義"
      ]
    },
    {
      "cell_type": "code",
      "metadata": {
        "id": "fA-3KR5PFVim",
        "colab_type": "code",
        "colab": {}
      },
      "source": [
        "SK_METRICS=[r2_score, explained_variance_score, mean_squared_error]\n",
        "\n",
        "def _calc_score(y_true, y_pred, sklearn_metric):\n",
        "  '''sklearnの評価指標のスコアを計算'''\n",
        "  score = sklearn_metric(y_true=y_true, y_pred=y_pred)\n",
        "  return score\n",
        "\n",
        "\n",
        "def evaluete_sk_metrics(y_true, y_pred, sklearn_metrics):\n",
        "  '''sklearnの各種、評価関数を使用'''\n",
        "  result = {}\n",
        "  for sk_metric in sklearn_metrics:\n",
        "    result[sk_metric.__name__] = _calc_score(y_true=y_true, y_pred=y_pred, sklearn_metric=sk_metric)\n",
        "  return result"
      ],
      "execution_count": 26,
      "outputs": []
    },
    {
      "cell_type": "markdown",
      "metadata": {
        "id": "XAgGKxvYloVE",
        "colab_type": "text"
      },
      "source": [
        "### 推論結果の取得"
      ]
    },
    {
      "cell_type": "code",
      "metadata": {
        "id": "A_ncz3hSlolO",
        "colab_type": "code",
        "colab": {}
      },
      "source": [
        "def predict_multiple_times(model, inputs, input_names):\n",
        "  '''何度か推論'''\n",
        "  pred = {}\n",
        "  for input, name in zip(inputs, input_names):\n",
        "    pred[name] = model.predict(input)\n",
        "  return pred"
      ],
      "execution_count": 27,
      "outputs": []
    },
    {
      "cell_type": "code",
      "metadata": {
        "id": "RSWjyhesl_Us",
        "colab_type": "code",
        "colab": {
          "base_uri": "https://localhost:8080/",
          "height": 163
        },
        "outputId": "69a6ea10-891a-4b9a-84a6-b8f1a5f0237e"
      },
      "source": [
        "%time\n",
        "reg_inputs = [train_df[F_COLS].values, val_df[F_COLS], test_df[F_COLS].values]\n",
        "reg_input_names = [train_csv, val_csv, test_csv]\n",
        "\n",
        "std_reg_inputs = [std_train_df[F_COLS].values, std_val_df[F_COLS].values, std_test_df[F_COLS].values]\n",
        "std_input_names = [std_train_csv, std_val_csv, std_test_csv]\n",
        "\n",
        "\n",
        "reg_preds = predict_multiple_times(model=model, inputs=reg_inputs, input_names=reg_input_names)\n",
        "std_reg_preds = predict_multiple_times(model=std_model, inputs=std_reg_inputs, input_names=std_input_names)"
      ],
      "execution_count": 29,
      "outputs": [
        {
          "output_type": "stream",
          "text": [
            "CPU times: user 3 µs, sys: 0 ns, total: 3 µs\n",
            "Wall time: 7.87 µs\n",
            "WARNING:tensorflow:Model was constructed with shape (None, None, 8) for input Tensor(\"dense_6_input:0\", shape=(None, None, 8), dtype=float32), but it was called on an input with incompatible shape (None, 8).\n",
            "WARNING:tensorflow:Model was constructed with shape (None, None, 8) for input Tensor(\"dense_6_input:0\", shape=(None, None, 8), dtype=float32), but it was called on an input with incompatible shape (None, 8).\n",
            "WARNING:tensorflow:Model was constructed with shape (None, None, 8) for input Tensor(\"dense_6_input:0\", shape=(None, None, 8), dtype=float32), but it was called on an input with incompatible shape (32, 8).\n",
            "WARNING:tensorflow:Model was constructed with shape (None, None, 8) for input Tensor(\"dense_10_input:0\", shape=(None, None, 8), dtype=float32), but it was called on an input with incompatible shape (None, 8).\n",
            "WARNING:tensorflow:Model was constructed with shape (None, None, 8) for input Tensor(\"dense_10_input:0\", shape=(None, None, 8), dtype=float32), but it was called on an input with incompatible shape (32, 8).\n"
          ],
          "name": "stdout"
        }
      ]
    },
    {
      "cell_type": "markdown",
      "metadata": {
        "id": "n9KrK8_CmgbI",
        "colab_type": "text"
      },
      "source": [
        "### 評価の実行"
      ]
    },
    {
      "cell_type": "code",
      "metadata": {
        "id": "in8wCVfvmbPK",
        "colab_type": "code",
        "colab": {
          "base_uri": "https://localhost:8080/",
          "height": 341
        },
        "outputId": "2414285e-bf5a-4ff4-f939-418ba03e8c0e"
      },
      "source": [
        "model_name = 'ShallowNN'\n",
        "std_model_name = 'std_ShallowNN'\n",
        "\n",
        "eval_scores = {model_name: {}, std_model_name: {}}\n",
        "\n",
        "for csv_name, y_true in zip([train_csv, val_csv, test_csv],\n",
        "                            [train_df[TARGET_COL].values, val_df[TARGET_COL].values, test_df[TARGET_COL].values]):\n",
        "  eval_scores[model_name][csv_name] = evaluete_sk_metrics(y_true=y_true,\n",
        "                                                          y_pred=reg_preds[csv_name], sklearn_metrics=SK_METRICS)\n",
        "\n",
        "for csv_name, y_true in zip([std_train_csv, std_val_csv, std_test_csv], \n",
        "                            [std_train_df[TARGET_COL].values, std_val_df[TARGET_COL].values, std_test_df[TARGET_COL].values]):\n",
        "  eval_scores[std_model_name][csv_name] = evaluete_sk_metrics(y_true=y_true,\n",
        "                                                              y_pred=std_reg_preds[csv_name], sklearn_metrics=SK_METRICS)\n",
        "\n",
        "pprint.pprint(eval_scores)"
      ],
      "execution_count": 33,
      "outputs": [
        {
          "output_type": "stream",
          "text": [
            "{'ShallowNN': {'test.csv': {'explained_variance_score': 0.4349276989151253,\n",
            "                            'mean_squared_error': 0.8056064330265855,\n",
            "                            'r2_score': 0.4010434537196287},\n",
            "               'train.csv': {'explained_variance_score': 0.4912248014795293,\n",
            "                             'mean_squared_error': 0.7051086596845951,\n",
            "                             'r2_score': 0.46263285548072286},\n",
            "               'val.csv': {'explained_variance_score': 0.48019983175773084,\n",
            "                           'mean_squared_error': 0.7613552447055286,\n",
            "                           'r2_score': 0.45156132683995154}},\n",
            " 'std_ShallowNN': {'std_test.csv': {'explained_variance_score': 0.746095717799165,\n",
            "                                    'mean_squared_error': 0.26068363319909493,\n",
            "                                    'r2_score': 0.7456855164473855},\n",
            "                   'std_train.csv': {'explained_variance_score': 0.7600809596560849,\n",
            "                                     'mean_squared_error': 0.2401026532240373,\n",
            "                                     'r2_score': 0.7598973467759627},\n",
            "                   'std_val.csv': {'explained_variance_score': 0.7556136399564881,\n",
            "                                   'mean_squared_error': 0.2590311544490945,\n",
            "                                   'r2_score': 0.7551626513949059}}}\n"
          ],
          "name": "stdout"
        }
      ]
    },
    {
      "cell_type": "markdown",
      "metadata": {
        "id": "KgucOget9o3-",
        "colab_type": "text"
      },
      "source": [
        "## モデルの予測値を標準化から復元し評価する場合"
      ]
    },
    {
      "cell_type": "code",
      "metadata": {
        "id": "3j3_QuVb9qU2",
        "colab_type": "code",
        "colab": {
          "base_uri": "https://localhost:8080/",
          "height": 125
        },
        "outputId": "91369f2d-b8ea-4988-9b35-4251859a6b73"
      },
      "source": [
        "def inverse_scale_values(values, scaler):\n",
        "  '''scalerを使って値の復元'''\n",
        "  return scaler.inverse_transform(values)\n",
        "\n",
        "\n",
        "inverse_scale_preds = {}\n",
        "# 目的変数をモデルの予測値に置き換え\n",
        "for df, csv_name, key in zip([std_train_df, std_val_df, std_test_df], [std_train_csv, std_val_csv, std_test_csv], \n",
        "                             [train_csv, val_csv, test_csv]):\n",
        "  df[TARGET_COL] = std_reg_preds[csv_name]\n",
        "  tmp_df = pd.DataFrame(inverse_scale_values(df.values, std_scaler), columns=F_COLS+[TARGET_COL])\n",
        "  inverse_scale_preds[key] = tmp_df[TARGET_COL].values\n",
        "\n",
        "inverse_scale_preds"
      ],
      "execution_count": 34,
      "outputs": [
        {
          "output_type": "execute_result",
          "data": {
            "text/plain": [
              "{'test.csv': array([1.96888891, 2.64350311, 3.02531752, ..., 1.39617887, 3.23044205,\n",
              "        4.07344255]),\n",
              " 'train.csv': array([1.63601822, 1.70219333, 0.66430281, ..., 1.31385225, 1.13543401,\n",
              "        2.24268852]),\n",
              " 'val.csv': array([1.03696876, 0.89421862, 1.23962263, ..., 0.83946889, 1.18357954,\n",
              "        0.94447362])}"
            ]
          },
          "metadata": {
            "tags": []
          },
          "execution_count": 34
        }
      ]
    },
    {
      "cell_type": "code",
      "metadata": {
        "id": "SSDoihB69zQH",
        "colab_type": "code",
        "colab": {
          "base_uri": "https://localhost:8080/",
          "height": 503
        },
        "outputId": "ae9f57d7-394e-43c0-c6d3-99d095a306ac"
      },
      "source": [
        "# 標準化された値を復元した場合の評価スコア\n",
        "for csv_name, y_true in zip([train_csv, val_csv, test_csv],\n",
        "                            [train_df[TARGET_COL].values, val_df[TARGET_COL].values, test_df[TARGET_COL].values]):\n",
        "  eval_scores[std_model_name][csv_name] = evaluete_sk_metrics(y_true=y_true,\n",
        "                                                              y_pred=inverse_scale_preds[csv_name],\n",
        "                                                              sklearn_metrics=SK_METRICS)\n",
        "\n",
        "pprint.pprint(eval_scores)"
      ],
      "execution_count": 37,
      "outputs": [
        {
          "output_type": "stream",
          "text": [
            "{'ShallowNN': {'test.csv': {'explained_variance_score': 0.4349276989151253,\n",
            "                            'mean_squared_error': 0.8056064330265855,\n",
            "                            'r2_score': 0.4010434537196287},\n",
            "               'train.csv': {'explained_variance_score': 0.4912248014795293,\n",
            "                             'mean_squared_error': 0.7051086596845951,\n",
            "                             'r2_score': 0.46263285548072286},\n",
            "               'val.csv': {'explained_variance_score': 0.48019983175773084,\n",
            "                           'mean_squared_error': 0.7613552447055286,\n",
            "                           'r2_score': 0.45156132683995154}},\n",
            " 'std_ShallowNN': {'std_test.csv': {'explained_variance_score': 0.746095717799165,\n",
            "                                    'mean_squared_error': 0.26068363319909493,\n",
            "                                    'r2_score': 0.7456855164473855},\n",
            "                   'std_train.csv': {'explained_variance_score': 0.7600809596560849,\n",
            "                                     'mean_squared_error': 0.2401026532240373,\n",
            "                                     'r2_score': 0.7598973467759627},\n",
            "                   'std_val.csv': {'explained_variance_score': 0.7556136399564881,\n",
            "                                   'mean_squared_error': 0.2590311544490945,\n",
            "                                   'r2_score': 0.7551626513949059},\n",
            "                   'test.csv': {'explained_variance_score': 0.746095717799165,\n",
            "                                'mean_squared_error': 0.3420571746550659,\n",
            "                                'r2_score': 0.7456855164473855},\n",
            "                   'train.csv': {'explained_variance_score': 0.7600809596560849,\n",
            "                                 'mean_squared_error': 0.3150517513551534,\n",
            "                                 'r2_score': 0.7598973467759627},\n",
            "                   'val.csv': {'explained_variance_score': 0.7556136399564881,\n",
            "                               'mean_squared_error': 0.3398888674028382,\n",
            "                               'r2_score': 0.7551626513949059}}}\n"
          ],
          "name": "stdout"
        }
      ]
    }
  ]
}