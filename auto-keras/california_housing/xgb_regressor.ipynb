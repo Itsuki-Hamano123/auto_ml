{
  "nbformat": 4,
  "nbformat_minor": 0,
  "metadata": {
    "colab": {
      "name": "xgb_regressor.ipynb",
      "provenance": [],
      "collapsed_sections": [],
      "toc_visible": true,
      "mount_file_id": "18TgFbhhlUcBS6bwnu_bNeeu8U8_WIi11",
      "authorship_tag": "ABX9TyOk4xOA2Clx2agSGRuk8X5w",
      "include_colab_link": true
    },
    "kernelspec": {
      "name": "python3",
      "display_name": "Python 3"
    }
  },
  "cells": [
    {
      "cell_type": "markdown",
      "metadata": {
        "id": "view-in-github",
        "colab_type": "text"
      },
      "source": [
        "<a href=\"https://colab.research.google.com/github/Itsuki-Hamano123/auto_ml/blob/master/auto-keras/california_housing/xgb_regressor.ipynb\" target=\"_parent\"><img src=\"https://colab.research.google.com/assets/colab-badge.svg\" alt=\"Open In Colab\"/></a>"
      ]
    },
    {
      "cell_type": "code",
      "metadata": {
        "id": "R8wgpB3kBaPO",
        "colab_type": "code",
        "colab": {
          "base_uri": "https://localhost:8080/",
          "height": 197
        },
        "outputId": "b7bac638-729c-4f32-ab4a-4199f2c6f15f"
      },
      "source": [
        "%pip show xgboost"
      ],
      "execution_count": 27,
      "outputs": [
        {
          "output_type": "stream",
          "text": [
            "Name: xgboost\n",
            "Version: 0.90\n",
            "Summary: XGBoost Python Package\n",
            "Home-page: https://github.com/dmlc/xgboost\n",
            "Author: None\n",
            "Author-email: None\n",
            "License: Apache-2.0\n",
            "Location: /usr/local/lib/python3.6/dist-packages\n",
            "Requires: scipy, numpy\n",
            "Required-by: \n"
          ],
          "name": "stdout"
        }
      ]
    },
    {
      "cell_type": "code",
      "metadata": {
        "id": "MpMgfN_QCDdX",
        "colab_type": "code",
        "colab": {
          "base_uri": "https://localhost:8080/",
          "height": 71
        },
        "outputId": "ff1287da-6415-4c11-89d0-eb3b6f4498fb"
      },
      "source": [
        "%cd /content/drive/My Drive/機械学習練習/AutoML/auto-keras/california_housing\n",
        "%ls"
      ],
      "execution_count": 28,
      "outputs": [
        {
          "output_type": "stream",
          "text": [
            "/content/drive/My Drive/機械学習練習/AutoML/auto-keras/california_housing\n",
            "\u001b[0m\u001b[01;34mauto_keras_outputs\u001b[0m/        \u001b[01;34mdatasets\u001b[0m/         xgboost_reg.ipynb\n",
            "autokeras_regressor.ipynb  fetch_data.ipynb\n"
          ],
          "name": "stdout"
        }
      ]
    },
    {
      "cell_type": "code",
      "metadata": {
        "id": "jt4D8_vaBAxH",
        "colab_type": "code",
        "colab": {}
      },
      "source": [
        "import os, pprint\n",
        "\n",
        "import pandas as pd\n",
        "from sklearn.metrics import explained_variance_score, mean_squared_error, r2_score\n",
        "\n",
        "from xgboost import XGBRegressor"
      ],
      "execution_count": 39,
      "outputs": []
    },
    {
      "cell_type": "markdown",
      "metadata": {
        "id": "oZrRrFIEk7G5",
        "colab_type": "text"
      },
      "source": [
        "## データ読み込み"
      ]
    },
    {
      "cell_type": "code",
      "metadata": {
        "id": "voTXcoTpBb0R",
        "colab_type": "code",
        "colab": {
          "base_uri": "https://localhost:8080/",
          "height": 256
        },
        "outputId": "578e50f9-979e-404c-e344-ec3e06cc37ab"
      },
      "source": [
        "F_COLS = ['MedInc', 'HouseAge', 'AveRooms', 'AveBedrms', 'Population', 'AveOccup', 'Latitude', 'Longitude']\n",
        "TARGET_COL = 'MedHouseVal'\n",
        "\n",
        "data_path = 'datasets/origin'\n",
        "train_csv = 'train.csv'\n",
        "val_csv = 'val.csv'\n",
        "test_csv = 'test.csv'\n",
        "\n",
        "train_df= pd.read_csv(os.path.join(data_path, train_csv), header=0)\n",
        "val_df = pd.read_csv(os.path.join(data_path, val_csv), header=0)\n",
        "test_df = pd.read_csv(os.path.join(data_path, test_csv), header=0)\n",
        "\n",
        "print('train shape:{}'.format(train_df.shape))\n",
        "print('validation shape:{}'.format(val_df.shape))\n",
        "print('test shape:{}'.format(test_df.shape))\n",
        "\n",
        "display(train_df.head())"
      ],
      "execution_count": 30,
      "outputs": [
        {
          "output_type": "stream",
          "text": [
            "train shape:(13209, 9)\n",
            "validation shape:(3303, 9)\n",
            "test shape:(4128, 9)\n"
          ],
          "name": "stdout"
        },
        {
          "output_type": "display_data",
          "data": {
            "text/html": [
              "<div>\n",
              "<style scoped>\n",
              "    .dataframe tbody tr th:only-of-type {\n",
              "        vertical-align: middle;\n",
              "    }\n",
              "\n",
              "    .dataframe tbody tr th {\n",
              "        vertical-align: top;\n",
              "    }\n",
              "\n",
              "    .dataframe thead th {\n",
              "        text-align: right;\n",
              "    }\n",
              "</style>\n",
              "<table border=\"1\" class=\"dataframe\">\n",
              "  <thead>\n",
              "    <tr style=\"text-align: right;\">\n",
              "      <th></th>\n",
              "      <th>MedInc</th>\n",
              "      <th>HouseAge</th>\n",
              "      <th>AveRooms</th>\n",
              "      <th>AveBedrms</th>\n",
              "      <th>Population</th>\n",
              "      <th>AveOccup</th>\n",
              "      <th>Latitude</th>\n",
              "      <th>Longitude</th>\n",
              "      <th>MedHouseVal</th>\n",
              "    </tr>\n",
              "  </thead>\n",
              "  <tbody>\n",
              "    <tr>\n",
              "      <th>0</th>\n",
              "      <td>4.4063</td>\n",
              "      <td>15.0</td>\n",
              "      <td>6.104430</td>\n",
              "      <td>1.003165</td>\n",
              "      <td>1237.0</td>\n",
              "      <td>3.914557</td>\n",
              "      <td>34.00</td>\n",
              "      <td>-117.50</td>\n",
              "      <td>1.285</td>\n",
              "    </tr>\n",
              "    <tr>\n",
              "      <th>1</th>\n",
              "      <td>3.7222</td>\n",
              "      <td>35.0</td>\n",
              "      <td>5.539326</td>\n",
              "      <td>1.030899</td>\n",
              "      <td>1152.0</td>\n",
              "      <td>3.235955</td>\n",
              "      <td>33.87</td>\n",
              "      <td>-117.96</td>\n",
              "      <td>1.875</td>\n",
              "    </tr>\n",
              "    <tr>\n",
              "      <th>2</th>\n",
              "      <td>1.1094</td>\n",
              "      <td>49.0</td>\n",
              "      <td>3.773585</td>\n",
              "      <td>1.144654</td>\n",
              "      <td>1448.0</td>\n",
              "      <td>4.553459</td>\n",
              "      <td>37.95</td>\n",
              "      <td>-121.28</td>\n",
              "      <td>0.525</td>\n",
              "    </tr>\n",
              "    <tr>\n",
              "      <th>3</th>\n",
              "      <td>3.3239</td>\n",
              "      <td>9.0</td>\n",
              "      <td>5.610955</td>\n",
              "      <td>1.092697</td>\n",
              "      <td>1691.0</td>\n",
              "      <td>2.375000</td>\n",
              "      <td>36.82</td>\n",
              "      <td>-119.85</td>\n",
              "      <td>0.913</td>\n",
              "    </tr>\n",
              "    <tr>\n",
              "      <th>4</th>\n",
              "      <td>5.9629</td>\n",
              "      <td>17.0</td>\n",
              "      <td>6.867133</td>\n",
              "      <td>1.097902</td>\n",
              "      <td>808.0</td>\n",
              "      <td>2.825175</td>\n",
              "      <td>38.58</td>\n",
              "      <td>-121.81</td>\n",
              "      <td>2.860</td>\n",
              "    </tr>\n",
              "  </tbody>\n",
              "</table>\n",
              "</div>"
            ],
            "text/plain": [
              "   MedInc  HouseAge  AveRooms  ...  Latitude  Longitude  MedHouseVal\n",
              "0  4.4063      15.0  6.104430  ...     34.00    -117.50        1.285\n",
              "1  3.7222      35.0  5.539326  ...     33.87    -117.96        1.875\n",
              "2  1.1094      49.0  3.773585  ...     37.95    -121.28        0.525\n",
              "3  3.3239       9.0  5.610955  ...     36.82    -119.85        0.913\n",
              "4  5.9629      17.0  6.867133  ...     38.58    -121.81        2.860\n",
              "\n",
              "[5 rows x 9 columns]"
            ]
          },
          "metadata": {
            "tags": []
          }
        }
      ]
    },
    {
      "cell_type": "markdown",
      "metadata": {
        "id": "R-_IeEfFlCPv",
        "colab_type": "text"
      },
      "source": [
        "## XGBoos回帰モデルを構築"
      ]
    },
    {
      "cell_type": "code",
      "metadata": {
        "id": "12gBvURzCb7g",
        "colab_type": "code",
        "colab": {
          "base_uri": "https://localhost:8080/",
          "height": 143
        },
        "outputId": "2ab1eb5f-02d3-4788-99b4-b4811fd86473"
      },
      "source": [
        "SEED = 7\n",
        "\n",
        "reg = XGBRegressor(n_estimators=1000,\n",
        "                   seed=SEED)\n",
        "reg"
      ],
      "execution_count": 36,
      "outputs": [
        {
          "output_type": "execute_result",
          "data": {
            "text/plain": [
              "XGBRegressor(base_score=0.5, booster='gbtree', colsample_bylevel=1,\n",
              "             colsample_bynode=1, colsample_bytree=1, gamma=0,\n",
              "             importance_type='gain', learning_rate=0.1, max_delta_step=0,\n",
              "             max_depth=3, min_child_weight=1, missing=None, n_estimators=1000,\n",
              "             n_jobs=1, nthread=None, objective='reg:linear', random_state=0,\n",
              "             reg_alpha=0, reg_lambda=1, scale_pos_weight=1, seed=7, silent=None,\n",
              "             subsample=1, verbosity=1)"
            ]
          },
          "metadata": {
            "tags": []
          },
          "execution_count": 36
        }
      ]
    },
    {
      "cell_type": "code",
      "metadata": {
        "id": "b1qCInpkDK2R",
        "colab_type": "code",
        "colab": {
          "base_uri": "https://localhost:8080/",
          "height": 1000
        },
        "outputId": "5fc9ffa3-214a-4a62-991b-23f796431a7a"
      },
      "source": [
        "%time\n",
        "reg.fit(X=train_df.drop(columns=TARGET_COL).values,\n",
        "        y=train_df[TARGET_COL].values,\n",
        "        eval_set=[(val_df.drop(columns=TARGET_COL).values, val_df[TARGET_COL].values)],\n",
        "        early_stopping_rounds=3)"
      ],
      "execution_count": 37,
      "outputs": [
        {
          "output_type": "stream",
          "text": [
            "CPU times: user 4 µs, sys: 0 ns, total: 4 µs\n",
            "Wall time: 7.15 µs\n",
            "[06:49:03] WARNING: /workspace/src/objective/regression_obj.cu:152: reg:linear is now deprecated in favor of reg:squarederror.\n",
            "[0]\tvalidation_0-rmse:1.82163\n",
            "Will train until validation_0-rmse hasn't improved in 3 rounds.\n",
            "[1]\tvalidation_0-rmse:1.67765\n",
            "[2]\tvalidation_0-rmse:1.54937\n",
            "[3]\tvalidation_0-rmse:1.43711\n",
            "[4]\tvalidation_0-rmse:1.33808\n",
            "[5]\tvalidation_0-rmse:1.25086\n",
            "[6]\tvalidation_0-rmse:1.17508\n",
            "[7]\tvalidation_0-rmse:1.10842\n",
            "[8]\tvalidation_0-rmse:1.05154\n",
            "[9]\tvalidation_0-rmse:0.999667\n",
            "[10]\tvalidation_0-rmse:0.955497\n",
            "[11]\tvalidation_0-rmse:0.918296\n",
            "[12]\tvalidation_0-rmse:0.88404\n",
            "[13]\tvalidation_0-rmse:0.851828\n",
            "[14]\tvalidation_0-rmse:0.825755\n",
            "[15]\tvalidation_0-rmse:0.80357\n",
            "[16]\tvalidation_0-rmse:0.784042\n",
            "[17]\tvalidation_0-rmse:0.767869\n",
            "[18]\tvalidation_0-rmse:0.751435\n",
            "[19]\tvalidation_0-rmse:0.738701\n",
            "[20]\tvalidation_0-rmse:0.724905\n",
            "[21]\tvalidation_0-rmse:0.714596\n",
            "[22]\tvalidation_0-rmse:0.705812\n",
            "[23]\tvalidation_0-rmse:0.695998\n",
            "[24]\tvalidation_0-rmse:0.686981\n",
            "[25]\tvalidation_0-rmse:0.678653\n",
            "[26]\tvalidation_0-rmse:0.672091\n",
            "[27]\tvalidation_0-rmse:0.66715\n",
            "[28]\tvalidation_0-rmse:0.65602\n",
            "[29]\tvalidation_0-rmse:0.648587\n",
            "[30]\tvalidation_0-rmse:0.644141\n",
            "[31]\tvalidation_0-rmse:0.637304\n",
            "[32]\tvalidation_0-rmse:0.631824\n",
            "[33]\tvalidation_0-rmse:0.62945\n",
            "[34]\tvalidation_0-rmse:0.626071\n",
            "[35]\tvalidation_0-rmse:0.620098\n",
            "[36]\tvalidation_0-rmse:0.617689\n",
            "[37]\tvalidation_0-rmse:0.616023\n",
            "[38]\tvalidation_0-rmse:0.611095\n",
            "[39]\tvalidation_0-rmse:0.608188\n",
            "[40]\tvalidation_0-rmse:0.605945\n",
            "[41]\tvalidation_0-rmse:0.60338\n",
            "[42]\tvalidation_0-rmse:0.600981\n",
            "[43]\tvalidation_0-rmse:0.599263\n",
            "[44]\tvalidation_0-rmse:0.595019\n",
            "[45]\tvalidation_0-rmse:0.593272\n",
            "[46]\tvalidation_0-rmse:0.591712\n",
            "[47]\tvalidation_0-rmse:0.58997\n",
            "[48]\tvalidation_0-rmse:0.587145\n",
            "[49]\tvalidation_0-rmse:0.584815\n",
            "[50]\tvalidation_0-rmse:0.583551\n",
            "[51]\tvalidation_0-rmse:0.58278\n",
            "[52]\tvalidation_0-rmse:0.580836\n",
            "[53]\tvalidation_0-rmse:0.57904\n",
            "[54]\tvalidation_0-rmse:0.57747\n",
            "[55]\tvalidation_0-rmse:0.576384\n",
            "[56]\tvalidation_0-rmse:0.576033\n",
            "[57]\tvalidation_0-rmse:0.573513\n",
            "[58]\tvalidation_0-rmse:0.572628\n",
            "[59]\tvalidation_0-rmse:0.571505\n",
            "[60]\tvalidation_0-rmse:0.569722\n",
            "[61]\tvalidation_0-rmse:0.568887\n",
            "[62]\tvalidation_0-rmse:0.567462\n",
            "[63]\tvalidation_0-rmse:0.567155\n",
            "[64]\tvalidation_0-rmse:0.566716\n",
            "[65]\tvalidation_0-rmse:0.565823\n",
            "[66]\tvalidation_0-rmse:0.565431\n",
            "[67]\tvalidation_0-rmse:0.564615\n",
            "[68]\tvalidation_0-rmse:0.563584\n",
            "[69]\tvalidation_0-rmse:0.563204\n",
            "[70]\tvalidation_0-rmse:0.56273\n",
            "[71]\tvalidation_0-rmse:0.562355\n",
            "[72]\tvalidation_0-rmse:0.561268\n",
            "[73]\tvalidation_0-rmse:0.56073\n",
            "[74]\tvalidation_0-rmse:0.559653\n",
            "[75]\tvalidation_0-rmse:0.559239\n",
            "[76]\tvalidation_0-rmse:0.559175\n",
            "[77]\tvalidation_0-rmse:0.558777\n",
            "[78]\tvalidation_0-rmse:0.557763\n",
            "[79]\tvalidation_0-rmse:0.557258\n",
            "[80]\tvalidation_0-rmse:0.557086\n",
            "[81]\tvalidation_0-rmse:0.556232\n",
            "[82]\tvalidation_0-rmse:0.55563\n",
            "[83]\tvalidation_0-rmse:0.5537\n",
            "[84]\tvalidation_0-rmse:0.553758\n",
            "[85]\tvalidation_0-rmse:0.553097\n",
            "[86]\tvalidation_0-rmse:0.55209\n",
            "[87]\tvalidation_0-rmse:0.552032\n",
            "[88]\tvalidation_0-rmse:0.551525\n",
            "[89]\tvalidation_0-rmse:0.551548\n",
            "[90]\tvalidation_0-rmse:0.551147\n",
            "[91]\tvalidation_0-rmse:0.550862\n",
            "[92]\tvalidation_0-rmse:0.549482\n",
            "[93]\tvalidation_0-rmse:0.54941\n",
            "[94]\tvalidation_0-rmse:0.549164\n",
            "[95]\tvalidation_0-rmse:0.548691\n",
            "[96]\tvalidation_0-rmse:0.548317\n",
            "[97]\tvalidation_0-rmse:0.548179\n",
            "[98]\tvalidation_0-rmse:0.547256\n",
            "[99]\tvalidation_0-rmse:0.545747\n",
            "[100]\tvalidation_0-rmse:0.545359\n",
            "[101]\tvalidation_0-rmse:0.543604\n",
            "[102]\tvalidation_0-rmse:0.543262\n",
            "[103]\tvalidation_0-rmse:0.543069\n",
            "[104]\tvalidation_0-rmse:0.543047\n",
            "[105]\tvalidation_0-rmse:0.54264\n",
            "[106]\tvalidation_0-rmse:0.542431\n",
            "[107]\tvalidation_0-rmse:0.541166\n",
            "[108]\tvalidation_0-rmse:0.54071\n",
            "[109]\tvalidation_0-rmse:0.540485\n",
            "[110]\tvalidation_0-rmse:0.540129\n",
            "[111]\tvalidation_0-rmse:0.539915\n",
            "[112]\tvalidation_0-rmse:0.539944\n",
            "[113]\tvalidation_0-rmse:0.5396\n",
            "[114]\tvalidation_0-rmse:0.539583\n",
            "[115]\tvalidation_0-rmse:0.539293\n",
            "[116]\tvalidation_0-rmse:0.539307\n",
            "[117]\tvalidation_0-rmse:0.538867\n",
            "[118]\tvalidation_0-rmse:0.53876\n",
            "[119]\tvalidation_0-rmse:0.537334\n",
            "[120]\tvalidation_0-rmse:0.536428\n",
            "[121]\tvalidation_0-rmse:0.53621\n",
            "[122]\tvalidation_0-rmse:0.535418\n",
            "[123]\tvalidation_0-rmse:0.535391\n",
            "[124]\tvalidation_0-rmse:0.535097\n",
            "[125]\tvalidation_0-rmse:0.534973\n",
            "[126]\tvalidation_0-rmse:0.534666\n",
            "[127]\tvalidation_0-rmse:0.534242\n",
            "[128]\tvalidation_0-rmse:0.533982\n",
            "[129]\tvalidation_0-rmse:0.533315\n",
            "[130]\tvalidation_0-rmse:0.53255\n",
            "[131]\tvalidation_0-rmse:0.531877\n",
            "[132]\tvalidation_0-rmse:0.531712\n",
            "[133]\tvalidation_0-rmse:0.531649\n",
            "[134]\tvalidation_0-rmse:0.531438\n",
            "[135]\tvalidation_0-rmse:0.531193\n",
            "[136]\tvalidation_0-rmse:0.530775\n",
            "[137]\tvalidation_0-rmse:0.53057\n",
            "[138]\tvalidation_0-rmse:0.530187\n",
            "[139]\tvalidation_0-rmse:0.529965\n",
            "[140]\tvalidation_0-rmse:0.529683\n",
            "[141]\tvalidation_0-rmse:0.529661\n",
            "[142]\tvalidation_0-rmse:0.529298\n",
            "[143]\tvalidation_0-rmse:0.529028\n",
            "[144]\tvalidation_0-rmse:0.528867\n",
            "[145]\tvalidation_0-rmse:0.528448\n",
            "[146]\tvalidation_0-rmse:0.527733\n",
            "[147]\tvalidation_0-rmse:0.527333\n",
            "[148]\tvalidation_0-rmse:0.526405\n",
            "[149]\tvalidation_0-rmse:0.5259\n",
            "[150]\tvalidation_0-rmse:0.52503\n",
            "[151]\tvalidation_0-rmse:0.524431\n",
            "[152]\tvalidation_0-rmse:0.524184\n",
            "[153]\tvalidation_0-rmse:0.524177\n",
            "[154]\tvalidation_0-rmse:0.523896\n",
            "[155]\tvalidation_0-rmse:0.52363\n",
            "[156]\tvalidation_0-rmse:0.523558\n",
            "[157]\tvalidation_0-rmse:0.523267\n",
            "[158]\tvalidation_0-rmse:0.522743\n",
            "[159]\tvalidation_0-rmse:0.522469\n",
            "[160]\tvalidation_0-rmse:0.522506\n",
            "[161]\tvalidation_0-rmse:0.521968\n",
            "[162]\tvalidation_0-rmse:0.521916\n",
            "[163]\tvalidation_0-rmse:0.521788\n",
            "[164]\tvalidation_0-rmse:0.521576\n",
            "[165]\tvalidation_0-rmse:0.521352\n",
            "[166]\tvalidation_0-rmse:0.521228\n",
            "[167]\tvalidation_0-rmse:0.520928\n",
            "[168]\tvalidation_0-rmse:0.521119\n",
            "[169]\tvalidation_0-rmse:0.521146\n",
            "[170]\tvalidation_0-rmse:0.52108\n",
            "Stopping. Best iteration:\n",
            "[167]\tvalidation_0-rmse:0.520928\n",
            "\n"
          ],
          "name": "stdout"
        },
        {
          "output_type": "execute_result",
          "data": {
            "text/plain": [
              "XGBRegressor(base_score=0.5, booster='gbtree', colsample_bylevel=1,\n",
              "             colsample_bynode=1, colsample_bytree=1, gamma=0,\n",
              "             importance_type='gain', learning_rate=0.1, max_delta_step=0,\n",
              "             max_depth=3, min_child_weight=1, missing=None, n_estimators=1000,\n",
              "             n_jobs=1, nthread=None, objective='reg:linear', random_state=0,\n",
              "             reg_alpha=0, reg_lambda=1, scale_pos_weight=1, seed=7, silent=None,\n",
              "             subsample=1, verbosity=1)"
            ]
          },
          "metadata": {
            "tags": []
          },
          "execution_count": 37
        }
      ]
    },
    {
      "cell_type": "markdown",
      "metadata": {
        "id": "UasUHS94lGWO",
        "colab_type": "text"
      },
      "source": [
        "## モデルの評価"
      ]
    },
    {
      "cell_type": "markdown",
      "metadata": {
        "id": "evUIxuNFlypE",
        "colab_type": "text"
      },
      "source": [
        "### 評価指標の定義"
      ]
    },
    {
      "cell_type": "code",
      "metadata": {
        "id": "fA-3KR5PFVim",
        "colab_type": "code",
        "colab": {}
      },
      "source": [
        "SK_METRICS=[r2_score, explained_variance_score, mean_squared_error]\n",
        "\n",
        "def _calc_score(y_true, y_pred, sklearn_metric):\n",
        "  '''sklearnの評価指標のスコアを計算'''\n",
        "  score = sklearn_metric(y_true=y_true, y_pred=y_pred)\n",
        "  return score\n",
        "\n",
        "\n",
        "def evaluete_sk_metrics(y_true, y_pred, sklearn_metrics):\n",
        "  '''sklearnの各種、評価関数を使用'''\n",
        "  result = {}\n",
        "  for sk_metric in sklearn_metrics:\n",
        "    result[sk_metric.__name__] = _calc_score(y_true=y_true, y_pred=y_pred, sklearn_metric=sk_metric)\n",
        "  return result"
      ],
      "execution_count": 40,
      "outputs": []
    },
    {
      "cell_type": "markdown",
      "metadata": {
        "id": "XAgGKxvYloVE",
        "colab_type": "text"
      },
      "source": [
        "### 推論結果の取得"
      ]
    },
    {
      "cell_type": "code",
      "metadata": {
        "id": "A_ncz3hSlolO",
        "colab_type": "code",
        "colab": {}
      },
      "source": [
        "def predict_multiple_times(model, inputs, input_names):\n",
        "  '''何度か推論'''\n",
        "  pred = {}\n",
        "  for input, name in zip(inputs, input_names):\n",
        "    pred[name] = model.predict(input)\n",
        "  return pred"
      ],
      "execution_count": 44,
      "outputs": []
    },
    {
      "cell_type": "code",
      "metadata": {
        "id": "RSWjyhesl_Us",
        "colab_type": "code",
        "colab": {
          "base_uri": "https://localhost:8080/",
          "height": 161
        },
        "outputId": "1855d468-6997-48d5-b802-411514ad9710"
      },
      "source": [
        "%time\n",
        "reg_inputs = [train_df[F_COLS].values, val_df[F_COLS].values, test_df[F_COLS].values]\n",
        "reg_input_names = [train_csv, val_csv, test_csv]\n",
        "\n",
        "reg_preds = predict_multiple_times(model=reg, inputs=reg_inputs, input_names=reg_input_names)\n",
        "reg_preds"
      ],
      "execution_count": 45,
      "outputs": [
        {
          "output_type": "stream",
          "text": [
            "CPU times: user 3 µs, sys: 0 ns, total: 3 µs\n",
            "Wall time: 4.77 µs\n"
          ],
          "name": "stdout"
        },
        {
          "output_type": "execute_result",
          "data": {
            "text/plain": [
              "{'test.csv': array([2.165414 , 2.4882603, 2.9066982, ..., 1.5247506, 3.3332872,\n",
              "        4.407699 ], dtype=float32),\n",
              " 'train.csv': array([1.4310822, 1.750393 , 0.7285534, ..., 1.6013324, 1.3429168,\n",
              "        2.0459855], dtype=float32),\n",
              " 'val.csv': array([0.9650786, 1.0881988, 1.4906633, ..., 0.9098087, 0.6162703,\n",
              "        0.9352584], dtype=float32)}"
            ]
          },
          "metadata": {
            "tags": []
          },
          "execution_count": 45
        }
      ]
    },
    {
      "cell_type": "markdown",
      "metadata": {
        "id": "n9KrK8_CmgbI",
        "colab_type": "text"
      },
      "source": [
        "### 評価の実行"
      ]
    },
    {
      "cell_type": "code",
      "metadata": {
        "id": "in8wCVfvmbPK",
        "colab_type": "code",
        "colab": {
          "base_uri": "https://localhost:8080/",
          "height": 179
        },
        "outputId": "2312dd25-6029-4d9f-c129-fc38740c8b42"
      },
      "source": [
        "eval_scores = {}\n",
        "\n",
        "for df, key in zip([train_df, val_df, test_df], [train_csv, val_csv, test_csv]):\n",
        "  eval_scores[key] = evaluete_sk_metrics(y_true=df[TARGET_COL].values,\n",
        "                                              y_pred=reg_preds[key], sklearn_metrics=SK_METRICS)\n",
        "\n",
        "pprint.pprint(eval_scores)"
      ],
      "execution_count": 46,
      "outputs": [
        {
          "output_type": "stream",
          "text": [
            "{'test.csv': {'explained_variance_score': 0.7959080889556576,\n",
            "              'mean_squared_error': 0.2747132700861737,\n",
            "              'r2_score': 0.795754720018762},\n",
            " 'train.csv': {'explained_variance_score': 0.8314111332558983,\n",
            "               'mean_squared_error': 0.22121462647575077,\n",
            "               'r2_score': 0.8314111300117255},\n",
            " 'val.csv': {'explained_variance_score': 0.8046547107411665,\n",
            "             'mean_squared_error': 0.27136591506967356,\n",
            "             'r2_score': 0.8045228381407727}}\n"
          ],
          "name": "stdout"
        }
      ]
    }
  ]
}