{
  "nbformat": 4,
  "nbformat_minor": 0,
  "metadata": {
    "colab": {
      "name": "MobileNet_FineTuning.ipynb",
      "provenance": [],
      "collapsed_sections": [],
      "toc_visible": true,
      "authorship_tag": "ABX9TyMlzw3GKh/hMe0754ZqHDhZ",
      "include_colab_link": true
    },
    "kernelspec": {
      "name": "python3",
      "display_name": "Python 3"
    },
    "accelerator": "GPU",
    "widgets": {
      "application/vnd.jupyter.widget-state+json": {
        "8e4d8028d3c942bb8beb3d630ec102ff": {
          "model_module": "@jupyter-widgets/controls",
          "model_name": "HBoxModel",
          "state": {
            "_view_name": "HBoxView",
            "_dom_classes": [],
            "_model_name": "HBoxModel",
            "_view_module": "@jupyter-widgets/controls",
            "_model_module_version": "1.5.0",
            "_view_count": null,
            "_view_module_version": "1.5.0",
            "box_style": "",
            "layout": "IPY_MODEL_e0ef7da1ed824c97867dca370578f39c",
            "_model_module": "@jupyter-widgets/controls",
            "children": [
              "IPY_MODEL_a847c7944de541d580176d40914ac009",
              "IPY_MODEL_387280420520455cbd638b4ae9120c11"
            ]
          }
        },
        "e0ef7da1ed824c97867dca370578f39c": {
          "model_module": "@jupyter-widgets/base",
          "model_name": "LayoutModel",
          "state": {
            "_view_name": "LayoutView",
            "grid_template_rows": null,
            "right": null,
            "justify_content": null,
            "_view_module": "@jupyter-widgets/base",
            "overflow": null,
            "_model_module_version": "1.2.0",
            "_view_count": null,
            "flex_flow": null,
            "width": null,
            "min_width": null,
            "border": null,
            "align_items": null,
            "bottom": null,
            "_model_module": "@jupyter-widgets/base",
            "top": null,
            "grid_column": null,
            "overflow_y": null,
            "overflow_x": null,
            "grid_auto_flow": null,
            "grid_area": null,
            "grid_template_columns": null,
            "flex": null,
            "_model_name": "LayoutModel",
            "justify_items": null,
            "grid_row": null,
            "max_height": null,
            "align_content": null,
            "visibility": null,
            "align_self": null,
            "height": null,
            "min_height": null,
            "padding": null,
            "grid_auto_rows": null,
            "grid_gap": null,
            "max_width": null,
            "order": null,
            "_view_module_version": "1.2.0",
            "grid_template_areas": null,
            "object_position": null,
            "object_fit": null,
            "grid_auto_columns": null,
            "margin": null,
            "display": null,
            "left": null
          }
        },
        "a847c7944de541d580176d40914ac009": {
          "model_module": "@jupyter-widgets/controls",
          "model_name": "FloatProgressModel",
          "state": {
            "_view_name": "ProgressView",
            "style": "IPY_MODEL_b96c7d123396400ca7772a9972836f50",
            "_dom_classes": [],
            "description": "Dl Completed...: 100%",
            "_model_name": "FloatProgressModel",
            "bar_style": "success",
            "max": 1,
            "_view_module": "@jupyter-widgets/controls",
            "_model_module_version": "1.5.0",
            "value": 1,
            "_view_count": null,
            "_view_module_version": "1.5.0",
            "orientation": "horizontal",
            "min": 0,
            "description_tooltip": null,
            "_model_module": "@jupyter-widgets/controls",
            "layout": "IPY_MODEL_3b0583d1983b471eb8f9a05d8f76912a"
          }
        },
        "387280420520455cbd638b4ae9120c11": {
          "model_module": "@jupyter-widgets/controls",
          "model_name": "HTMLModel",
          "state": {
            "_view_name": "HTMLView",
            "style": "IPY_MODEL_09f6797c5efd4b9fb914a66216bc22e3",
            "_dom_classes": [],
            "description": "",
            "_model_name": "HTMLModel",
            "placeholder": "​",
            "_view_module": "@jupyter-widgets/controls",
            "_model_module_version": "1.5.0",
            "value": " 1/1 [00:30&lt;00:00, 30.52s/ url]",
            "_view_count": null,
            "_view_module_version": "1.5.0",
            "description_tooltip": null,
            "_model_module": "@jupyter-widgets/controls",
            "layout": "IPY_MODEL_953991427b13479b9cc835925a99ab39"
          }
        },
        "b96c7d123396400ca7772a9972836f50": {
          "model_module": "@jupyter-widgets/controls",
          "model_name": "ProgressStyleModel",
          "state": {
            "_view_name": "StyleView",
            "_model_name": "ProgressStyleModel",
            "description_width": "initial",
            "_view_module": "@jupyter-widgets/base",
            "_model_module_version": "1.5.0",
            "_view_count": null,
            "_view_module_version": "1.2.0",
            "bar_color": null,
            "_model_module": "@jupyter-widgets/controls"
          }
        },
        "3b0583d1983b471eb8f9a05d8f76912a": {
          "model_module": "@jupyter-widgets/base",
          "model_name": "LayoutModel",
          "state": {
            "_view_name": "LayoutView",
            "grid_template_rows": null,
            "right": null,
            "justify_content": null,
            "_view_module": "@jupyter-widgets/base",
            "overflow": null,
            "_model_module_version": "1.2.0",
            "_view_count": null,
            "flex_flow": null,
            "width": null,
            "min_width": null,
            "border": null,
            "align_items": null,
            "bottom": null,
            "_model_module": "@jupyter-widgets/base",
            "top": null,
            "grid_column": null,
            "overflow_y": null,
            "overflow_x": null,
            "grid_auto_flow": null,
            "grid_area": null,
            "grid_template_columns": null,
            "flex": null,
            "_model_name": "LayoutModel",
            "justify_items": null,
            "grid_row": null,
            "max_height": null,
            "align_content": null,
            "visibility": null,
            "align_self": null,
            "height": null,
            "min_height": null,
            "padding": null,
            "grid_auto_rows": null,
            "grid_gap": null,
            "max_width": null,
            "order": null,
            "_view_module_version": "1.2.0",
            "grid_template_areas": null,
            "object_position": null,
            "object_fit": null,
            "grid_auto_columns": null,
            "margin": null,
            "display": null,
            "left": null
          }
        },
        "09f6797c5efd4b9fb914a66216bc22e3": {
          "model_module": "@jupyter-widgets/controls",
          "model_name": "DescriptionStyleModel",
          "state": {
            "_view_name": "StyleView",
            "_model_name": "DescriptionStyleModel",
            "description_width": "",
            "_view_module": "@jupyter-widgets/base",
            "_model_module_version": "1.5.0",
            "_view_count": null,
            "_view_module_version": "1.2.0",
            "_model_module": "@jupyter-widgets/controls"
          }
        },
        "953991427b13479b9cc835925a99ab39": {
          "model_module": "@jupyter-widgets/base",
          "model_name": "LayoutModel",
          "state": {
            "_view_name": "LayoutView",
            "grid_template_rows": null,
            "right": null,
            "justify_content": null,
            "_view_module": "@jupyter-widgets/base",
            "overflow": null,
            "_model_module_version": "1.2.0",
            "_view_count": null,
            "flex_flow": null,
            "width": null,
            "min_width": null,
            "border": null,
            "align_items": null,
            "bottom": null,
            "_model_module": "@jupyter-widgets/base",
            "top": null,
            "grid_column": null,
            "overflow_y": null,
            "overflow_x": null,
            "grid_auto_flow": null,
            "grid_area": null,
            "grid_template_columns": null,
            "flex": null,
            "_model_name": "LayoutModel",
            "justify_items": null,
            "grid_row": null,
            "max_height": null,
            "align_content": null,
            "visibility": null,
            "align_self": null,
            "height": null,
            "min_height": null,
            "padding": null,
            "grid_auto_rows": null,
            "grid_gap": null,
            "max_width": null,
            "order": null,
            "_view_module_version": "1.2.0",
            "grid_template_areas": null,
            "object_position": null,
            "object_fit": null,
            "grid_auto_columns": null,
            "margin": null,
            "display": null,
            "left": null
          }
        },
        "f2453af62732435fa44c7ec19bf387a7": {
          "model_module": "@jupyter-widgets/controls",
          "model_name": "HBoxModel",
          "state": {
            "_view_name": "HBoxView",
            "_dom_classes": [],
            "_model_name": "HBoxModel",
            "_view_module": "@jupyter-widgets/controls",
            "_model_module_version": "1.5.0",
            "_view_count": null,
            "_view_module_version": "1.5.0",
            "box_style": "",
            "layout": "IPY_MODEL_2464b21884e34915a5eb79d302348bfb",
            "_model_module": "@jupyter-widgets/controls",
            "children": [
              "IPY_MODEL_454fb49091654bfd91d0280f01c32508",
              "IPY_MODEL_6c546553a3224cf4b3e4d8ec268a833b"
            ]
          }
        },
        "2464b21884e34915a5eb79d302348bfb": {
          "model_module": "@jupyter-widgets/base",
          "model_name": "LayoutModel",
          "state": {
            "_view_name": "LayoutView",
            "grid_template_rows": null,
            "right": null,
            "justify_content": null,
            "_view_module": "@jupyter-widgets/base",
            "overflow": null,
            "_model_module_version": "1.2.0",
            "_view_count": null,
            "flex_flow": null,
            "width": null,
            "min_width": null,
            "border": null,
            "align_items": null,
            "bottom": null,
            "_model_module": "@jupyter-widgets/base",
            "top": null,
            "grid_column": null,
            "overflow_y": null,
            "overflow_x": null,
            "grid_auto_flow": null,
            "grid_area": null,
            "grid_template_columns": null,
            "flex": null,
            "_model_name": "LayoutModel",
            "justify_items": null,
            "grid_row": null,
            "max_height": null,
            "align_content": null,
            "visibility": null,
            "align_self": null,
            "height": null,
            "min_height": null,
            "padding": null,
            "grid_auto_rows": null,
            "grid_gap": null,
            "max_width": null,
            "order": null,
            "_view_module_version": "1.2.0",
            "grid_template_areas": null,
            "object_position": null,
            "object_fit": null,
            "grid_auto_columns": null,
            "margin": null,
            "display": null,
            "left": null
          }
        },
        "454fb49091654bfd91d0280f01c32508": {
          "model_module": "@jupyter-widgets/controls",
          "model_name": "FloatProgressModel",
          "state": {
            "_view_name": "ProgressView",
            "style": "IPY_MODEL_2b0fc75974bc48aebc9b3510d7a19e46",
            "_dom_classes": [],
            "description": "Dl Size...: 100%",
            "_model_name": "FloatProgressModel",
            "bar_style": "success",
            "max": 1,
            "_view_module": "@jupyter-widgets/controls",
            "_model_module_version": "1.5.0",
            "value": 1,
            "_view_count": null,
            "_view_module_version": "1.5.0",
            "orientation": "horizontal",
            "min": 0,
            "description_tooltip": null,
            "_model_module": "@jupyter-widgets/controls",
            "layout": "IPY_MODEL_6493b8601fe5460da6eb2b4b47391294"
          }
        },
        "6c546553a3224cf4b3e4d8ec268a833b": {
          "model_module": "@jupyter-widgets/controls",
          "model_name": "HTMLModel",
          "state": {
            "_view_name": "HTMLView",
            "style": "IPY_MODEL_f29b7e5a52754ca3b41a5849d8574490",
            "_dom_classes": [],
            "description": "",
            "_model_name": "HTMLModel",
            "placeholder": "​",
            "_view_module": "@jupyter-widgets/controls",
            "_model_module_version": "1.5.0",
            "value": " 246/246 [00:30&lt;00:00,  8.07 MiB/s]",
            "_view_count": null,
            "_view_module_version": "1.5.0",
            "description_tooltip": null,
            "_model_module": "@jupyter-widgets/controls",
            "layout": "IPY_MODEL_90b40f14ff4644f3859a18ebe3d649c9"
          }
        },
        "2b0fc75974bc48aebc9b3510d7a19e46": {
          "model_module": "@jupyter-widgets/controls",
          "model_name": "ProgressStyleModel",
          "state": {
            "_view_name": "StyleView",
            "_model_name": "ProgressStyleModel",
            "description_width": "initial",
            "_view_module": "@jupyter-widgets/base",
            "_model_module_version": "1.5.0",
            "_view_count": null,
            "_view_module_version": "1.2.0",
            "bar_color": null,
            "_model_module": "@jupyter-widgets/controls"
          }
        },
        "6493b8601fe5460da6eb2b4b47391294": {
          "model_module": "@jupyter-widgets/base",
          "model_name": "LayoutModel",
          "state": {
            "_view_name": "LayoutView",
            "grid_template_rows": null,
            "right": null,
            "justify_content": null,
            "_view_module": "@jupyter-widgets/base",
            "overflow": null,
            "_model_module_version": "1.2.0",
            "_view_count": null,
            "flex_flow": null,
            "width": null,
            "min_width": null,
            "border": null,
            "align_items": null,
            "bottom": null,
            "_model_module": "@jupyter-widgets/base",
            "top": null,
            "grid_column": null,
            "overflow_y": null,
            "overflow_x": null,
            "grid_auto_flow": null,
            "grid_area": null,
            "grid_template_columns": null,
            "flex": null,
            "_model_name": "LayoutModel",
            "justify_items": null,
            "grid_row": null,
            "max_height": null,
            "align_content": null,
            "visibility": null,
            "align_self": null,
            "height": null,
            "min_height": null,
            "padding": null,
            "grid_auto_rows": null,
            "grid_gap": null,
            "max_width": null,
            "order": null,
            "_view_module_version": "1.2.0",
            "grid_template_areas": null,
            "object_position": null,
            "object_fit": null,
            "grid_auto_columns": null,
            "margin": null,
            "display": null,
            "left": null
          }
        },
        "f29b7e5a52754ca3b41a5849d8574490": {
          "model_module": "@jupyter-widgets/controls",
          "model_name": "DescriptionStyleModel",
          "state": {
            "_view_name": "StyleView",
            "_model_name": "DescriptionStyleModel",
            "description_width": "",
            "_view_module": "@jupyter-widgets/base",
            "_model_module_version": "1.5.0",
            "_view_count": null,
            "_view_module_version": "1.2.0",
            "_model_module": "@jupyter-widgets/controls"
          }
        },
        "90b40f14ff4644f3859a18ebe3d649c9": {
          "model_module": "@jupyter-widgets/base",
          "model_name": "LayoutModel",
          "state": {
            "_view_name": "LayoutView",
            "grid_template_rows": null,
            "right": null,
            "justify_content": null,
            "_view_module": "@jupyter-widgets/base",
            "overflow": null,
            "_model_module_version": "1.2.0",
            "_view_count": null,
            "flex_flow": null,
            "width": null,
            "min_width": null,
            "border": null,
            "align_items": null,
            "bottom": null,
            "_model_module": "@jupyter-widgets/base",
            "top": null,
            "grid_column": null,
            "overflow_y": null,
            "overflow_x": null,
            "grid_auto_flow": null,
            "grid_area": null,
            "grid_template_columns": null,
            "flex": null,
            "_model_name": "LayoutModel",
            "justify_items": null,
            "grid_row": null,
            "max_height": null,
            "align_content": null,
            "visibility": null,
            "align_self": null,
            "height": null,
            "min_height": null,
            "padding": null,
            "grid_auto_rows": null,
            "grid_gap": null,
            "max_width": null,
            "order": null,
            "_view_module_version": "1.2.0",
            "grid_template_areas": null,
            "object_position": null,
            "object_fit": null,
            "grid_auto_columns": null,
            "margin": null,
            "display": null,
            "left": null
          }
        },
        "dae39e26c4e243b38ddd0e653b8ae9ca": {
          "model_module": "@jupyter-widgets/controls",
          "model_name": "HBoxModel",
          "state": {
            "_view_name": "HBoxView",
            "_dom_classes": [],
            "_model_name": "HBoxModel",
            "_view_module": "@jupyter-widgets/controls",
            "_model_module_version": "1.5.0",
            "_view_count": null,
            "_view_module_version": "1.5.0",
            "box_style": "",
            "layout": "IPY_MODEL_a239c7771d1a407ea5ff16daab3c3b89",
            "_model_module": "@jupyter-widgets/controls",
            "children": [
              "IPY_MODEL_84a18dad9d3343a883465084bd3cde1e",
              "IPY_MODEL_798a8fb53bfa4918a7a3cfe9727196cb"
            ]
          }
        },
        "a239c7771d1a407ea5ff16daab3c3b89": {
          "model_module": "@jupyter-widgets/base",
          "model_name": "LayoutModel",
          "state": {
            "_view_name": "LayoutView",
            "grid_template_rows": null,
            "right": null,
            "justify_content": null,
            "_view_module": "@jupyter-widgets/base",
            "overflow": null,
            "_model_module_version": "1.2.0",
            "_view_count": null,
            "flex_flow": null,
            "width": null,
            "min_width": null,
            "border": null,
            "align_items": null,
            "bottom": null,
            "_model_module": "@jupyter-widgets/base",
            "top": null,
            "grid_column": null,
            "overflow_y": null,
            "overflow_x": null,
            "grid_auto_flow": null,
            "grid_area": null,
            "grid_template_columns": null,
            "flex": null,
            "_model_name": "LayoutModel",
            "justify_items": null,
            "grid_row": null,
            "max_height": null,
            "align_content": null,
            "visibility": null,
            "align_self": null,
            "height": null,
            "min_height": null,
            "padding": null,
            "grid_auto_rows": null,
            "grid_gap": null,
            "max_width": null,
            "order": null,
            "_view_module_version": "1.2.0",
            "grid_template_areas": null,
            "object_position": null,
            "object_fit": null,
            "grid_auto_columns": null,
            "margin": null,
            "display": null,
            "left": null
          }
        },
        "84a18dad9d3343a883465084bd3cde1e": {
          "model_module": "@jupyter-widgets/controls",
          "model_name": "FloatProgressModel",
          "state": {
            "_view_name": "ProgressView",
            "style": "IPY_MODEL_1ec20ee7b79f4af5bd6ae10b6a4ee8d2",
            "_dom_classes": [],
            "description": "Extraction completed...: 100%",
            "_model_name": "FloatProgressModel",
            "bar_style": "success",
            "max": 1,
            "_view_module": "@jupyter-widgets/controls",
            "_model_module_version": "1.5.0",
            "value": 1,
            "_view_count": null,
            "_view_module_version": "1.5.0",
            "orientation": "horizontal",
            "min": 0,
            "description_tooltip": null,
            "_model_module": "@jupyter-widgets/controls",
            "layout": "IPY_MODEL_4cbaf08a46f2482ab03cc8c016ce574d"
          }
        },
        "798a8fb53bfa4918a7a3cfe9727196cb": {
          "model_module": "@jupyter-widgets/controls",
          "model_name": "HTMLModel",
          "state": {
            "_view_name": "HTMLView",
            "style": "IPY_MODEL_989263bafac4444eb056ab91c6f7af4f",
            "_dom_classes": [],
            "description": "",
            "_model_name": "HTMLModel",
            "placeholder": "​",
            "_view_module": "@jupyter-widgets/controls",
            "_model_module_version": "1.5.0",
            "value": " 1/1 [00:30&lt;00:00, 30.44s/ file]",
            "_view_count": null,
            "_view_module_version": "1.5.0",
            "description_tooltip": null,
            "_model_module": "@jupyter-widgets/controls",
            "layout": "IPY_MODEL_c5567277d965464f92849e6104268439"
          }
        },
        "1ec20ee7b79f4af5bd6ae10b6a4ee8d2": {
          "model_module": "@jupyter-widgets/controls",
          "model_name": "ProgressStyleModel",
          "state": {
            "_view_name": "StyleView",
            "_model_name": "ProgressStyleModel",
            "description_width": "initial",
            "_view_module": "@jupyter-widgets/base",
            "_model_module_version": "1.5.0",
            "_view_count": null,
            "_view_module_version": "1.2.0",
            "bar_color": null,
            "_model_module": "@jupyter-widgets/controls"
          }
        },
        "4cbaf08a46f2482ab03cc8c016ce574d": {
          "model_module": "@jupyter-widgets/base",
          "model_name": "LayoutModel",
          "state": {
            "_view_name": "LayoutView",
            "grid_template_rows": null,
            "right": null,
            "justify_content": null,
            "_view_module": "@jupyter-widgets/base",
            "overflow": null,
            "_model_module_version": "1.2.0",
            "_view_count": null,
            "flex_flow": null,
            "width": null,
            "min_width": null,
            "border": null,
            "align_items": null,
            "bottom": null,
            "_model_module": "@jupyter-widgets/base",
            "top": null,
            "grid_column": null,
            "overflow_y": null,
            "overflow_x": null,
            "grid_auto_flow": null,
            "grid_area": null,
            "grid_template_columns": null,
            "flex": null,
            "_model_name": "LayoutModel",
            "justify_items": null,
            "grid_row": null,
            "max_height": null,
            "align_content": null,
            "visibility": null,
            "align_self": null,
            "height": null,
            "min_height": null,
            "padding": null,
            "grid_auto_rows": null,
            "grid_gap": null,
            "max_width": null,
            "order": null,
            "_view_module_version": "1.2.0",
            "grid_template_areas": null,
            "object_position": null,
            "object_fit": null,
            "grid_auto_columns": null,
            "margin": null,
            "display": null,
            "left": null
          }
        },
        "989263bafac4444eb056ab91c6f7af4f": {
          "model_module": "@jupyter-widgets/controls",
          "model_name": "DescriptionStyleModel",
          "state": {
            "_view_name": "StyleView",
            "_model_name": "DescriptionStyleModel",
            "description_width": "",
            "_view_module": "@jupyter-widgets/base",
            "_model_module_version": "1.5.0",
            "_view_count": null,
            "_view_module_version": "1.2.0",
            "_model_module": "@jupyter-widgets/controls"
          }
        },
        "c5567277d965464f92849e6104268439": {
          "model_module": "@jupyter-widgets/base",
          "model_name": "LayoutModel",
          "state": {
            "_view_name": "LayoutView",
            "grid_template_rows": null,
            "right": null,
            "justify_content": null,
            "_view_module": "@jupyter-widgets/base",
            "overflow": null,
            "_model_module_version": "1.2.0",
            "_view_count": null,
            "flex_flow": null,
            "width": null,
            "min_width": null,
            "border": null,
            "align_items": null,
            "bottom": null,
            "_model_module": "@jupyter-widgets/base",
            "top": null,
            "grid_column": null,
            "overflow_y": null,
            "overflow_x": null,
            "grid_auto_flow": null,
            "grid_area": null,
            "grid_template_columns": null,
            "flex": null,
            "_model_name": "LayoutModel",
            "justify_items": null,
            "grid_row": null,
            "max_height": null,
            "align_content": null,
            "visibility": null,
            "align_self": null,
            "height": null,
            "min_height": null,
            "padding": null,
            "grid_auto_rows": null,
            "grid_gap": null,
            "max_width": null,
            "order": null,
            "_view_module_version": "1.2.0",
            "grid_template_areas": null,
            "object_position": null,
            "object_fit": null,
            "grid_auto_columns": null,
            "margin": null,
            "display": null,
            "left": null
          }
        },
        "84e2c7737cdc47dcb71c1637b4d047a8": {
          "model_module": "@jupyter-widgets/controls",
          "model_name": "HBoxModel",
          "state": {
            "_view_name": "HBoxView",
            "_dom_classes": [],
            "_model_name": "HBoxModel",
            "_view_module": "@jupyter-widgets/controls",
            "_model_module_version": "1.5.0",
            "_view_count": null,
            "_view_module_version": "1.5.0",
            "box_style": "",
            "layout": "IPY_MODEL_eea6f62fdd684800b3bf2a85ce80c20f",
            "_model_module": "@jupyter-widgets/controls",
            "children": [
              "IPY_MODEL_a3a5d655e82946ab8e4ef54a7a52be9a",
              "IPY_MODEL_2f8f5b93afb8465b97b6220106b8e24b"
            ]
          }
        },
        "eea6f62fdd684800b3bf2a85ce80c20f": {
          "model_module": "@jupyter-widgets/base",
          "model_name": "LayoutModel",
          "state": {
            "_view_name": "LayoutView",
            "grid_template_rows": null,
            "right": null,
            "justify_content": null,
            "_view_module": "@jupyter-widgets/base",
            "overflow": null,
            "_model_module_version": "1.2.0",
            "_view_count": null,
            "flex_flow": null,
            "width": null,
            "min_width": null,
            "border": null,
            "align_items": null,
            "bottom": null,
            "_model_module": "@jupyter-widgets/base",
            "top": null,
            "grid_column": null,
            "overflow_y": null,
            "overflow_x": null,
            "grid_auto_flow": null,
            "grid_area": null,
            "grid_template_columns": null,
            "flex": null,
            "_model_name": "LayoutModel",
            "justify_items": null,
            "grid_row": null,
            "max_height": null,
            "align_content": null,
            "visibility": null,
            "align_self": null,
            "height": null,
            "min_height": null,
            "padding": null,
            "grid_auto_rows": null,
            "grid_gap": null,
            "max_width": null,
            "order": null,
            "_view_module_version": "1.2.0",
            "grid_template_areas": null,
            "object_position": null,
            "object_fit": null,
            "grid_auto_columns": null,
            "margin": null,
            "display": null,
            "left": null
          }
        },
        "a3a5d655e82946ab8e4ef54a7a52be9a": {
          "model_module": "@jupyter-widgets/controls",
          "model_name": "FloatProgressModel",
          "state": {
            "_view_name": "ProgressView",
            "style": "IPY_MODEL_2a3ca15b3e164031a2dd89222d879e7f",
            "_dom_classes": [],
            "description": "",
            "_model_name": "FloatProgressModel",
            "bar_style": "info",
            "max": 1,
            "_view_module": "@jupyter-widgets/controls",
            "_model_module_version": "1.5.0",
            "value": 1,
            "_view_count": null,
            "_view_module_version": "1.5.0",
            "orientation": "horizontal",
            "min": 0,
            "description_tooltip": null,
            "_model_module": "@jupyter-widgets/controls",
            "layout": "IPY_MODEL_ccfaabaa2eba4452a17c025c630cf355"
          }
        },
        "2f8f5b93afb8465b97b6220106b8e24b": {
          "model_module": "@jupyter-widgets/controls",
          "model_name": "HTMLModel",
          "state": {
            "_view_name": "HTMLView",
            "style": "IPY_MODEL_b928dd0f19dc41f3a95b0bddc40acedd",
            "_dom_classes": [],
            "description": "",
            "_model_name": "HTMLModel",
            "placeholder": "​",
            "_view_module": "@jupyter-widgets/controls",
            "_model_module_version": "1.5.0",
            "value": " 5000/0 [00:47&lt;00:00, 152.94 examples/s]",
            "_view_count": null,
            "_view_module_version": "1.5.0",
            "description_tooltip": null,
            "_model_module": "@jupyter-widgets/controls",
            "layout": "IPY_MODEL_4feb4ee6048141128a9601514d693957"
          }
        },
        "2a3ca15b3e164031a2dd89222d879e7f": {
          "model_module": "@jupyter-widgets/controls",
          "model_name": "ProgressStyleModel",
          "state": {
            "_view_name": "StyleView",
            "_model_name": "ProgressStyleModel",
            "description_width": "initial",
            "_view_module": "@jupyter-widgets/base",
            "_model_module_version": "1.5.0",
            "_view_count": null,
            "_view_module_version": "1.2.0",
            "bar_color": null,
            "_model_module": "@jupyter-widgets/controls"
          }
        },
        "ccfaabaa2eba4452a17c025c630cf355": {
          "model_module": "@jupyter-widgets/base",
          "model_name": "LayoutModel",
          "state": {
            "_view_name": "LayoutView",
            "grid_template_rows": null,
            "right": null,
            "justify_content": null,
            "_view_module": "@jupyter-widgets/base",
            "overflow": null,
            "_model_module_version": "1.2.0",
            "_view_count": null,
            "flex_flow": null,
            "width": null,
            "min_width": null,
            "border": null,
            "align_items": null,
            "bottom": null,
            "_model_module": "@jupyter-widgets/base",
            "top": null,
            "grid_column": null,
            "overflow_y": null,
            "overflow_x": null,
            "grid_auto_flow": null,
            "grid_area": null,
            "grid_template_columns": null,
            "flex": null,
            "_model_name": "LayoutModel",
            "justify_items": null,
            "grid_row": null,
            "max_height": null,
            "align_content": null,
            "visibility": null,
            "align_self": null,
            "height": null,
            "min_height": null,
            "padding": null,
            "grid_auto_rows": null,
            "grid_gap": null,
            "max_width": null,
            "order": null,
            "_view_module_version": "1.2.0",
            "grid_template_areas": null,
            "object_position": null,
            "object_fit": null,
            "grid_auto_columns": null,
            "margin": null,
            "display": null,
            "left": null
          }
        },
        "b928dd0f19dc41f3a95b0bddc40acedd": {
          "model_module": "@jupyter-widgets/controls",
          "model_name": "DescriptionStyleModel",
          "state": {
            "_view_name": "StyleView",
            "_model_name": "DescriptionStyleModel",
            "description_width": "",
            "_view_module": "@jupyter-widgets/base",
            "_model_module_version": "1.5.0",
            "_view_count": null,
            "_view_module_version": "1.2.0",
            "_model_module": "@jupyter-widgets/controls"
          }
        },
        "4feb4ee6048141128a9601514d693957": {
          "model_module": "@jupyter-widgets/base",
          "model_name": "LayoutModel",
          "state": {
            "_view_name": "LayoutView",
            "grid_template_rows": null,
            "right": null,
            "justify_content": null,
            "_view_module": "@jupyter-widgets/base",
            "overflow": null,
            "_model_module_version": "1.2.0",
            "_view_count": null,
            "flex_flow": null,
            "width": null,
            "min_width": null,
            "border": null,
            "align_items": null,
            "bottom": null,
            "_model_module": "@jupyter-widgets/base",
            "top": null,
            "grid_column": null,
            "overflow_y": null,
            "overflow_x": null,
            "grid_auto_flow": null,
            "grid_area": null,
            "grid_template_columns": null,
            "flex": null,
            "_model_name": "LayoutModel",
            "justify_items": null,
            "grid_row": null,
            "max_height": null,
            "align_content": null,
            "visibility": null,
            "align_self": null,
            "height": null,
            "min_height": null,
            "padding": null,
            "grid_auto_rows": null,
            "grid_gap": null,
            "max_width": null,
            "order": null,
            "_view_module_version": "1.2.0",
            "grid_template_areas": null,
            "object_position": null,
            "object_fit": null,
            "grid_auto_columns": null,
            "margin": null,
            "display": null,
            "left": null
          }
        },
        "75d8e4a8f4a5488bad52cb2752e85de4": {
          "model_module": "@jupyter-widgets/controls",
          "model_name": "HBoxModel",
          "state": {
            "_view_name": "HBoxView",
            "_dom_classes": [],
            "_model_name": "HBoxModel",
            "_view_module": "@jupyter-widgets/controls",
            "_model_module_version": "1.5.0",
            "_view_count": null,
            "_view_module_version": "1.5.0",
            "box_style": "",
            "layout": "IPY_MODEL_8da004a51216451aae63f70cf3d3d055",
            "_model_module": "@jupyter-widgets/controls",
            "children": [
              "IPY_MODEL_0e73d95bff6741a9b394c2bea8beef67",
              "IPY_MODEL_2036088c2a3d4ea3bca2a5d8c7e4dd00"
            ]
          }
        },
        "8da004a51216451aae63f70cf3d3d055": {
          "model_module": "@jupyter-widgets/base",
          "model_name": "LayoutModel",
          "state": {
            "_view_name": "LayoutView",
            "grid_template_rows": null,
            "right": null,
            "justify_content": null,
            "_view_module": "@jupyter-widgets/base",
            "overflow": null,
            "_model_module_version": "1.2.0",
            "_view_count": null,
            "flex_flow": null,
            "width": null,
            "min_width": null,
            "border": null,
            "align_items": null,
            "bottom": null,
            "_model_module": "@jupyter-widgets/base",
            "top": null,
            "grid_column": null,
            "overflow_y": null,
            "overflow_x": null,
            "grid_auto_flow": null,
            "grid_area": null,
            "grid_template_columns": null,
            "flex": null,
            "_model_name": "LayoutModel",
            "justify_items": null,
            "grid_row": null,
            "max_height": null,
            "align_content": null,
            "visibility": null,
            "align_self": null,
            "height": null,
            "min_height": null,
            "padding": null,
            "grid_auto_rows": null,
            "grid_gap": null,
            "max_width": null,
            "order": null,
            "_view_module_version": "1.2.0",
            "grid_template_areas": null,
            "object_position": null,
            "object_fit": null,
            "grid_auto_columns": null,
            "margin": null,
            "display": null,
            "left": null
          }
        },
        "0e73d95bff6741a9b394c2bea8beef67": {
          "model_module": "@jupyter-widgets/controls",
          "model_name": "FloatProgressModel",
          "state": {
            "_view_name": "ProgressView",
            "style": "IPY_MODEL_92b01fc8436f4ff6a1c8fac563ea4f49",
            "_dom_classes": [],
            "description": " 87%",
            "_model_name": "FloatProgressModel",
            "bar_style": "danger",
            "max": 5000,
            "_view_module": "@jupyter-widgets/controls",
            "_model_module_version": "1.5.0",
            "value": 4343,
            "_view_count": null,
            "_view_module_version": "1.5.0",
            "orientation": "horizontal",
            "min": 0,
            "description_tooltip": null,
            "_model_module": "@jupyter-widgets/controls",
            "layout": "IPY_MODEL_98850b35019c4921bbad5955fc54d081"
          }
        },
        "2036088c2a3d4ea3bca2a5d8c7e4dd00": {
          "model_module": "@jupyter-widgets/controls",
          "model_name": "HTMLModel",
          "state": {
            "_view_name": "HTMLView",
            "style": "IPY_MODEL_c266fff037c94261a77d1ecb821ceb50",
            "_dom_classes": [],
            "description": "",
            "_model_name": "HTMLModel",
            "placeholder": "​",
            "_view_module": "@jupyter-widgets/controls",
            "_model_module_version": "1.5.0",
            "value": " 4343/5000 [00:00&lt;00:00, 19720.48 examples/s]",
            "_view_count": null,
            "_view_module_version": "1.5.0",
            "description_tooltip": null,
            "_model_module": "@jupyter-widgets/controls",
            "layout": "IPY_MODEL_23cf5597ca90415d92417afdd91da23b"
          }
        },
        "92b01fc8436f4ff6a1c8fac563ea4f49": {
          "model_module": "@jupyter-widgets/controls",
          "model_name": "ProgressStyleModel",
          "state": {
            "_view_name": "StyleView",
            "_model_name": "ProgressStyleModel",
            "description_width": "initial",
            "_view_module": "@jupyter-widgets/base",
            "_model_module_version": "1.5.0",
            "_view_count": null,
            "_view_module_version": "1.2.0",
            "bar_color": null,
            "_model_module": "@jupyter-widgets/controls"
          }
        },
        "98850b35019c4921bbad5955fc54d081": {
          "model_module": "@jupyter-widgets/base",
          "model_name": "LayoutModel",
          "state": {
            "_view_name": "LayoutView",
            "grid_template_rows": null,
            "right": null,
            "justify_content": null,
            "_view_module": "@jupyter-widgets/base",
            "overflow": null,
            "_model_module_version": "1.2.0",
            "_view_count": null,
            "flex_flow": null,
            "width": null,
            "min_width": null,
            "border": null,
            "align_items": null,
            "bottom": null,
            "_model_module": "@jupyter-widgets/base",
            "top": null,
            "grid_column": null,
            "overflow_y": null,
            "overflow_x": null,
            "grid_auto_flow": null,
            "grid_area": null,
            "grid_template_columns": null,
            "flex": null,
            "_model_name": "LayoutModel",
            "justify_items": null,
            "grid_row": null,
            "max_height": null,
            "align_content": null,
            "visibility": null,
            "align_self": null,
            "height": null,
            "min_height": null,
            "padding": null,
            "grid_auto_rows": null,
            "grid_gap": null,
            "max_width": null,
            "order": null,
            "_view_module_version": "1.2.0",
            "grid_template_areas": null,
            "object_position": null,
            "object_fit": null,
            "grid_auto_columns": null,
            "margin": null,
            "display": null,
            "left": null
          }
        },
        "c266fff037c94261a77d1ecb821ceb50": {
          "model_module": "@jupyter-widgets/controls",
          "model_name": "DescriptionStyleModel",
          "state": {
            "_view_name": "StyleView",
            "_model_name": "DescriptionStyleModel",
            "description_width": "",
            "_view_module": "@jupyter-widgets/base",
            "_model_module_version": "1.5.0",
            "_view_count": null,
            "_view_module_version": "1.2.0",
            "_model_module": "@jupyter-widgets/controls"
          }
        },
        "23cf5597ca90415d92417afdd91da23b": {
          "model_module": "@jupyter-widgets/base",
          "model_name": "LayoutModel",
          "state": {
            "_view_name": "LayoutView",
            "grid_template_rows": null,
            "right": null,
            "justify_content": null,
            "_view_module": "@jupyter-widgets/base",
            "overflow": null,
            "_model_module_version": "1.2.0",
            "_view_count": null,
            "flex_flow": null,
            "width": null,
            "min_width": null,
            "border": null,
            "align_items": null,
            "bottom": null,
            "_model_module": "@jupyter-widgets/base",
            "top": null,
            "grid_column": null,
            "overflow_y": null,
            "overflow_x": null,
            "grid_auto_flow": null,
            "grid_area": null,
            "grid_template_columns": null,
            "flex": null,
            "_model_name": "LayoutModel",
            "justify_items": null,
            "grid_row": null,
            "max_height": null,
            "align_content": null,
            "visibility": null,
            "align_self": null,
            "height": null,
            "min_height": null,
            "padding": null,
            "grid_auto_rows": null,
            "grid_gap": null,
            "max_width": null,
            "order": null,
            "_view_module_version": "1.2.0",
            "grid_template_areas": null,
            "object_position": null,
            "object_fit": null,
            "grid_auto_columns": null,
            "margin": null,
            "display": null,
            "left": null
          }
        }
      }
    }
  },
  "cells": [
    {
      "cell_type": "markdown",
      "metadata": {
        "id": "view-in-github",
        "colab_type": "text"
      },
      "source": [
        "<a href=\"https://colab.research.google.com/github/Itsuki-Hamano123/auto_ml/blob/master/auto-keras/colorectal_histology/MobileNet_FineTuning.ipynb\" target=\"_parent\"><img src=\"https://colab.research.google.com/assets/colab-badge.svg\" alt=\"Open In Colab\"/></a>"
      ]
    },
    {
      "cell_type": "code",
      "metadata": {
        "id": "FxHegnvglDac",
        "colab_type": "code",
        "colab": {
          "base_uri": "https://localhost:8080/",
          "height": 487
        },
        "outputId": "e5a83cce-a0cf-4e5a-d9e1-fb6fecb97b7d"
      },
      "source": [
        "%pip install tensorflow-hub\n",
        "%pip show tensorflow-hub\n",
        "%pip show tensorflow"
      ],
      "execution_count": 1,
      "outputs": [
        {
          "output_type": "stream",
          "text": [
            "Requirement already satisfied: tensorflow-hub in /usr/local/lib/python3.6/dist-packages (0.9.0)\n",
            "Requirement already satisfied: six>=1.12.0 in /usr/local/lib/python3.6/dist-packages (from tensorflow-hub) (1.15.0)\n",
            "Requirement already satisfied: numpy>=1.12.0 in /usr/local/lib/python3.6/dist-packages (from tensorflow-hub) (1.18.5)\n",
            "Requirement already satisfied: protobuf>=3.8.0 in /usr/local/lib/python3.6/dist-packages (from tensorflow-hub) (3.12.4)\n",
            "Requirement already satisfied: setuptools in /usr/local/lib/python3.6/dist-packages (from protobuf>=3.8.0->tensorflow-hub) (50.3.0)\n",
            "Name: tensorflow-hub\n",
            "Version: 0.9.0\n",
            "Summary: TensorFlow Hub is a library to foster the publication, discovery, and consumption of reusable parts of machine learning models.\n",
            "Home-page: https://github.com/tensorflow/hub\n",
            "Author: Google LLC\n",
            "Author-email: packages@tensorflow.org\n",
            "License: Apache 2.0\n",
            "Location: /usr/local/lib/python3.6/dist-packages\n",
            "Requires: numpy, six, protobuf\n",
            "Required-by: \n",
            "Name: tensorflow\n",
            "Version: 2.3.0\n",
            "Summary: TensorFlow is an open source machine learning framework for everyone.\n",
            "Home-page: https://www.tensorflow.org/\n",
            "Author: Google Inc.\n",
            "Author-email: packages@tensorflow.org\n",
            "License: Apache 2.0\n",
            "Location: /usr/local/lib/python3.6/dist-packages\n",
            "Requires: astunparse, absl-py, grpcio, scipy, wrapt, numpy, wheel, h5py, google-pasta, gast, termcolor, keras-preprocessing, six, protobuf, tensorflow-estimator, tensorboard, opt-einsum\n",
            "Required-by: fancyimpute\n"
          ],
          "name": "stdout"
        }
      ]
    },
    {
      "cell_type": "code",
      "metadata": {
        "id": "PaQDD90k3fOO",
        "colab_type": "code",
        "colab": {
          "base_uri": "https://localhost:8080/",
          "height": 73
        },
        "outputId": "79e27f42-d7e3-4611-c96f-c3c92730f76c"
      },
      "source": [
        "import numpy as np\n",
        "\n",
        "import tensorflow as tf\n",
        "from tensorflow.keras import Sequential, layers\n",
        "from tensorflow.keras.callbacks import EarlyStopping\n",
        "from tensorflow.keras.optimizers import Adam\n",
        "\n",
        "import tensorflow_datasets  as tfds\n",
        "import tensorflow_hub as hub\n",
        "\n",
        "from sklearn.metrics import confusion_matrix, classification_report\n",
        "import seaborn as sns\n",
        "import matplotlib.pyplot as plt"
      ],
      "execution_count": 2,
      "outputs": [
        {
          "output_type": "stream",
          "text": [
            "/usr/local/lib/python3.6/dist-packages/statsmodels/tools/_testing.py:19: FutureWarning: pandas.util.testing is deprecated. Use the functions in the public API at pandas.testing instead.\n",
            "  import pandas.util.testing as tm\n"
          ],
          "name": "stderr"
        }
      ]
    },
    {
      "cell_type": "markdown",
      "metadata": {
        "id": "hhMX2rgPeFCz",
        "colab_type": "text"
      },
      "source": [
        "## データの読み込み"
      ]
    },
    {
      "cell_type": "code",
      "metadata": {
        "id": "ThAaBtxbltkW",
        "colab_type": "code",
        "colab": {
          "base_uri": "https://localhost:8080/",
          "height": 831,
          "referenced_widgets": [
            "8e4d8028d3c942bb8beb3d630ec102ff",
            "e0ef7da1ed824c97867dca370578f39c",
            "a847c7944de541d580176d40914ac009",
            "387280420520455cbd638b4ae9120c11",
            "b96c7d123396400ca7772a9972836f50",
            "3b0583d1983b471eb8f9a05d8f76912a",
            "09f6797c5efd4b9fb914a66216bc22e3",
            "953991427b13479b9cc835925a99ab39",
            "f2453af62732435fa44c7ec19bf387a7",
            "2464b21884e34915a5eb79d302348bfb",
            "454fb49091654bfd91d0280f01c32508",
            "6c546553a3224cf4b3e4d8ec268a833b",
            "2b0fc75974bc48aebc9b3510d7a19e46",
            "6493b8601fe5460da6eb2b4b47391294",
            "f29b7e5a52754ca3b41a5849d8574490",
            "90b40f14ff4644f3859a18ebe3d649c9",
            "dae39e26c4e243b38ddd0e653b8ae9ca",
            "a239c7771d1a407ea5ff16daab3c3b89",
            "84a18dad9d3343a883465084bd3cde1e",
            "798a8fb53bfa4918a7a3cfe9727196cb",
            "1ec20ee7b79f4af5bd6ae10b6a4ee8d2",
            "4cbaf08a46f2482ab03cc8c016ce574d",
            "989263bafac4444eb056ab91c6f7af4f",
            "c5567277d965464f92849e6104268439",
            "84e2c7737cdc47dcb71c1637b4d047a8",
            "eea6f62fdd684800b3bf2a85ce80c20f",
            "a3a5d655e82946ab8e4ef54a7a52be9a",
            "2f8f5b93afb8465b97b6220106b8e24b",
            "2a3ca15b3e164031a2dd89222d879e7f",
            "ccfaabaa2eba4452a17c025c630cf355",
            "b928dd0f19dc41f3a95b0bddc40acedd",
            "4feb4ee6048141128a9601514d693957",
            "75d8e4a8f4a5488bad52cb2752e85de4",
            "8da004a51216451aae63f70cf3d3d055",
            "0e73d95bff6741a9b394c2bea8beef67",
            "2036088c2a3d4ea3bca2a5d8c7e4dd00",
            "92b01fc8436f4ff6a1c8fac563ea4f49",
            "98850b35019c4921bbad5955fc54d081",
            "c266fff037c94261a77d1ecb821ceb50",
            "23cf5597ca90415d92417afdd91da23b"
          ]
        },
        "outputId": "71635668-93dc-4eab-ae1a-9c36b9dda0bf"
      },
      "source": [
        "def fetch_tf_dataset(data_name, \n",
        "                     split=['train[0%:60%]','train[60%:80%]','train[80%:100%]'],\n",
        "                     shuffle_files=True, as_supervised=True,\n",
        "                     with_info=True, batch_size=None):\n",
        "  '''TensorFlowデータセットからデータをフェッチ'''\n",
        "  (ds_train, ds_val, ds_test), data_info = tfds.load(data_name, split=split,\n",
        "                                  shuffle_files=shuffle_files,\n",
        "                                  as_supervised=as_supervised,\n",
        "                                  with_info=with_info,\n",
        "                                  batch_size=batch_size)\n",
        "  return ds_train, ds_val, ds_test, data_info\n",
        "  \n",
        "\n",
        "\n",
        "data_name = 'colorectal_histology' # @param{type:'string'}\n",
        "x_name = 'image' # @param{type:'string'}\n",
        "y_name = 'label' # @param{type:'string'}\n",
        "# データのバッチサイズ\n",
        "BATCH_SIZE = 256 # @param{type:'number'}\n",
        "\n",
        "# データのフェッチ\n",
        "ds_train, ds_val, ds_test, ds_info = fetch_tf_dataset(data_name=data_name,\n",
        "                                     as_supervised=True,\n",
        "                                     batch_size=BATCH_SIZE)\n",
        "\n",
        "display(ds_info)"
      ],
      "execution_count": 3,
      "outputs": [
        {
          "output_type": "stream",
          "text": [
            "\u001b[1mDownloading and preparing dataset colorectal_histology/2.0.0 (download: 246.14 MiB, generated: Unknown size, total: 246.14 MiB) to /root/tensorflow_datasets/colorectal_histology/2.0.0...\u001b[0m\n"
          ],
          "name": "stdout"
        },
        {
          "output_type": "display_data",
          "data": {
            "application/vnd.jupyter.widget-view+json": {
              "model_id": "8e4d8028d3c942bb8beb3d630ec102ff",
              "version_minor": 0,
              "version_major": 2
            },
            "text/plain": [
              "HBox(children=(FloatProgress(value=1.0, bar_style='info', description='Dl Completed...', max=1.0, style=Progre…"
            ]
          },
          "metadata": {
            "tags": []
          }
        },
        {
          "output_type": "display_data",
          "data": {
            "application/vnd.jupyter.widget-view+json": {
              "model_id": "f2453af62732435fa44c7ec19bf387a7",
              "version_minor": 0,
              "version_major": 2
            },
            "text/plain": [
              "HBox(children=(FloatProgress(value=1.0, bar_style='info', description='Dl Size...', max=1.0, style=ProgressSty…"
            ]
          },
          "metadata": {
            "tags": []
          }
        },
        {
          "output_type": "display_data",
          "data": {
            "application/vnd.jupyter.widget-view+json": {
              "model_id": "dae39e26c4e243b38ddd0e653b8ae9ca",
              "version_minor": 0,
              "version_major": 2
            },
            "text/plain": [
              "HBox(children=(FloatProgress(value=1.0, bar_style='info', description='Extraction completed...', max=1.0, styl…"
            ]
          },
          "metadata": {
            "tags": []
          }
        },
        {
          "output_type": "stream",
          "text": [
            "/usr/local/lib/python3.6/dist-packages/urllib3/connectionpool.py:847: InsecureRequestWarning: Unverified HTTPS request is being made. Adding certificate verification is strongly advised. See: https://urllib3.readthedocs.io/en/latest/advanced-usage.html#ssl-warnings\n",
            "  InsecureRequestWarning)\n"
          ],
          "name": "stderr"
        },
        {
          "output_type": "stream",
          "text": [
            "\n",
            "\n",
            "\n",
            "\n",
            "\n",
            "\n"
          ],
          "name": "stdout"
        },
        {
          "output_type": "display_data",
          "data": {
            "application/vnd.jupyter.widget-view+json": {
              "model_id": "84e2c7737cdc47dcb71c1637b4d047a8",
              "version_minor": 0,
              "version_major": 2
            },
            "text/plain": [
              "HBox(children=(FloatProgress(value=1.0, bar_style='info', max=1.0), HTML(value='')))"
            ]
          },
          "metadata": {
            "tags": []
          }
        },
        {
          "output_type": "stream",
          "text": [
            "\rShuffling and writing examples to /root/tensorflow_datasets/colorectal_histology/2.0.0.incomplete70EC8B/colorectal_histology-train.tfrecord\n"
          ],
          "name": "stdout"
        },
        {
          "output_type": "display_data",
          "data": {
            "application/vnd.jupyter.widget-view+json": {
              "model_id": "75d8e4a8f4a5488bad52cb2752e85de4",
              "version_minor": 0,
              "version_major": 2
            },
            "text/plain": [
              "HBox(children=(FloatProgress(value=0.0, max=5000.0), HTML(value='')))"
            ]
          },
          "metadata": {
            "tags": []
          }
        },
        {
          "output_type": "stream",
          "text": [
            "\u001b[1mDataset colorectal_histology downloaded and prepared to /root/tensorflow_datasets/colorectal_histology/2.0.0. Subsequent calls will reuse this data.\u001b[0m\n",
            "\r"
          ],
          "name": "stdout"
        },
        {
          "output_type": "display_data",
          "data": {
            "text/plain": [
              "tfds.core.DatasetInfo(\n",
              "    name='colorectal_histology',\n",
              "    version=2.0.0,\n",
              "    description='Classification of textures in colorectal cancer histology. Each example is a 150 x 150 x 3 RGB image of one of 8 classes.',\n",
              "    homepage='https://zenodo.org/record/53169#.XGZemKwzbmG',\n",
              "    features=FeaturesDict({\n",
              "        'filename': Text(shape=(), dtype=tf.string),\n",
              "        'image': Image(shape=(150, 150, 3), dtype=tf.uint8),\n",
              "        'label': ClassLabel(shape=(), dtype=tf.int64, num_classes=8),\n",
              "    }),\n",
              "    total_num_examples=5000,\n",
              "    splits={\n",
              "        'train': 5000,\n",
              "    },\n",
              "    supervised_keys=('image', 'label'),\n",
              "    citation=\"\"\"@article{kather2016multi,\n",
              "      title={Multi-class texture analysis in colorectal cancer histology},\n",
              "      author={Kather, Jakob Nikolas and Weis, Cleo-Aron and Bianconi, Francesco and Melchers, Susanne M and Schad, Lothar R and Gaiser, Timo and Marx, Alexander and Z{\"o}llner, Frank Gerrit},\n",
              "      journal={Scientific reports},\n",
              "      volume={6},\n",
              "      pages={27988},\n",
              "      year={2016},\n",
              "      publisher={Nature Publishing Group}\n",
              "    }\"\"\",\n",
              "    redistribution_info=,\n",
              ")"
            ]
          },
          "metadata": {
            "tags": []
          }
        }
      ]
    },
    {
      "cell_type": "markdown",
      "metadata": {
        "id": "8Akcg8QDhQGD",
        "colab_type": "text"
      },
      "source": [
        "# モデル作成"
      ]
    },
    {
      "cell_type": "markdown",
      "metadata": {
        "id": "bds2zOfsNjj-",
        "colab_type": "text"
      },
      "source": [
        "## 前処理を行うKerasレイヤー\n",
        "https://www.tensorflow.org/tutorials/images/data_augmentation?hl=ja"
      ]
    },
    {
      "cell_type": "code",
      "metadata": {
        "id": "UbMfmbTFwFfK",
        "colab_type": "code",
        "colab": {}
      },
      "source": [
        "# リサイズ後の画像サイズ\n",
        "RESIZE_IMG_SIZE = 224\n",
        "\n",
        "# 画像のリサイズと、画素値のリスケールを行う層\n",
        "resize_and_rescale = tf.keras.Sequential(layers=[\n",
        "  layers.experimental.preprocessing.Resizing(height=RESIZE_IMG_SIZE,\n",
        "                                             width=RESIZE_IMG_SIZE),\n",
        "  layers.experimental.preprocessing.Rescaling(1./255)\n",
        "], name='resize_and_rescale')\n",
        "\n",
        "\n",
        "# Data Augmentationを行う層 \n",
        "# 推論時には実行されない層\n",
        "data_augmentation = tf.keras.Sequential(layers=[\n",
        "                                          layers.experimental.preprocessing.RandomFlip(\"horizontal_and_vertical\"),\n",
        "                                          layers.experimental.preprocessing.RandomRotation(0.2),\n",
        "                                        ], name='train_data_augmentation')"
      ],
      "execution_count": 4,
      "outputs": []
    },
    {
      "cell_type": "markdown",
      "metadata": {
        "id": "3-Yelghw4RyP",
        "colab_type": "text"
      },
      "source": [
        "## ファインチューニングさせるMobileNet\n",
        "前処理レイヤーの差し込みも行う"
      ]
    },
    {
      "cell_type": "code",
      "metadata": {
        "id": "wvLrXPool2yJ",
        "colab_type": "code",
        "colab": {
          "base_uri": "https://localhost:8080/",
          "height": 305
        },
        "outputId": "f1627df6-3692-4758-a369-79942702a278"
      },
      "source": [
        "def _fetch_hub_keras_layer(hub_url, trainable=False):\n",
        "  '''tensorflow hubのレイヤーをKerasレイヤーとしてfetch'''\n",
        "  fetch_keras_layer = hub.KerasLayer(hub_url, trainable=trainable)\n",
        "  return fetch_keras_layer\n",
        "\n",
        "\n",
        "def clf_model_fn(hub_url, input_shape, output_shape, hub_layer_trainable=False):\n",
        "  '''分類モデルの構造を定義'''\n",
        "  model = Sequential([\n",
        "                      resize_and_rescale, # 前処理用のレイヤー\n",
        "                      data_augmentation, # 前処理用のレイヤー\n",
        "                      _fetch_hub_keras_layer(hub_url, trainable=hub_layer_trainable),\n",
        "                      layers.Dense(output_shape, activation='softmax')\n",
        "  ])\n",
        "  model.build(input_shape)\n",
        "  return model\n",
        "\n",
        "\n",
        "TF_HUB_URL = 'https://tfhub.dev/google/imagenet/mobilenet_v2_100_224/feature_vector/4' #@param{type:'string'}\n",
        "# 画像をリサイズする層があるためinputの画像サイズは未指定\n",
        "MODEL_INPUT_SHAPE = (None, None, None, 3)\n",
        "CLASS_NUM = ds_info.features[y_name].num_classes\n",
        "FINE_TUNING = False\n",
        "\n",
        "clf = clf_model_fn(hub_url=TF_HUB_URL, input_shape=MODEL_INPUT_SHAPE,\n",
        "                   output_shape=CLASS_NUM, hub_layer_trainable=FINE_TUNING)\n",
        "clf.summary()"
      ],
      "execution_count": 5,
      "outputs": [
        {
          "output_type": "stream",
          "text": [
            "Model: \"sequential\"\n",
            "_________________________________________________________________\n",
            "Layer (type)                 Output Shape              Param #   \n",
            "=================================================================\n",
            "resize_and_rescale (Sequenti (None, 224, 224, 3)       0         \n",
            "_________________________________________________________________\n",
            "train_data_augmentation (Seq (None, 224, 224, 3)       0         \n",
            "_________________________________________________________________\n",
            "keras_layer (KerasLayer)     (None, 1280)              2257984   \n",
            "_________________________________________________________________\n",
            "dense (Dense)                (None, 8)                 10248     \n",
            "=================================================================\n",
            "Total params: 2,268,232\n",
            "Trainable params: 10,248\n",
            "Non-trainable params: 2,257,984\n",
            "_________________________________________________________________\n"
          ],
          "name": "stdout"
        }
      ]
    },
    {
      "cell_type": "code",
      "metadata": {
        "id": "LIQqco6tx-ZK",
        "colab_type": "code",
        "colab": {}
      },
      "source": [
        "es = EarlyStopping(patience=3)\n",
        "\n",
        "clf.compile(\n",
        "    loss='sparse_categorical_crossentropy',\n",
        "    optimizer=Adam(0.001),\n",
        "    metrics=['accuracy'],\n",
        ")"
      ],
      "execution_count": 6,
      "outputs": []
    },
    {
      "cell_type": "code",
      "metadata": {
        "id": "Y4InpPTtxRGb",
        "colab_type": "code",
        "colab": {
          "base_uri": "https://localhost:8080/",
          "height": 991
        },
        "outputId": "5a63a2e9-b082-4b88-e0e4-52494f17f777"
      },
      "source": [
        "EPOCHS = 100 #@param{type:'number'}\n",
        "\n",
        "# バッチサイズはDatasetをfetchする際に指定済み\n",
        "clf.fit(ds_train, epochs=EPOCHS,\n",
        "        validation_data=ds_val,\n",
        "        callbacks=[es])"
      ],
      "execution_count": 7,
      "outputs": [
        {
          "output_type": "stream",
          "text": [
            "Epoch 1/100\n",
            "12/12 [==============================] - 6s 517ms/step - loss: 1.9872 - accuracy: 0.2727 - val_loss: 1.3924 - val_accuracy: 0.5290\n",
            "Epoch 2/100\n",
            "12/12 [==============================] - 4s 371ms/step - loss: 1.0405 - accuracy: 0.6403 - val_loss: 1.1308 - val_accuracy: 0.6490\n",
            "Epoch 3/100\n",
            "12/12 [==============================] - 4s 372ms/step - loss: 0.7428 - accuracy: 0.7630 - val_loss: 0.9466 - val_accuracy: 0.6980\n",
            "Epoch 4/100\n",
            "12/12 [==============================] - 4s 372ms/step - loss: 0.6314 - accuracy: 0.7963 - val_loss: 0.7990 - val_accuracy: 0.7350\n",
            "Epoch 5/100\n",
            "12/12 [==============================] - 4s 372ms/step - loss: 0.5733 - accuracy: 0.8080 - val_loss: 0.7346 - val_accuracy: 0.7560\n",
            "Epoch 6/100\n",
            "12/12 [==============================] - 4s 372ms/step - loss: 0.5261 - accuracy: 0.8297 - val_loss: 0.7001 - val_accuracy: 0.7700\n",
            "Epoch 7/100\n",
            "12/12 [==============================] - 5s 376ms/step - loss: 0.4987 - accuracy: 0.8363 - val_loss: 0.6800 - val_accuracy: 0.7740\n",
            "Epoch 8/100\n",
            "12/12 [==============================] - 5s 376ms/step - loss: 0.4765 - accuracy: 0.8420 - val_loss: 0.6418 - val_accuracy: 0.7880\n",
            "Epoch 9/100\n",
            "12/12 [==============================] - 4s 373ms/step - loss: 0.4466 - accuracy: 0.8560 - val_loss: 0.6374 - val_accuracy: 0.7830\n",
            "Epoch 10/100\n",
            "12/12 [==============================] - 4s 372ms/step - loss: 0.4237 - accuracy: 0.8647 - val_loss: 0.6148 - val_accuracy: 0.7940\n",
            "Epoch 11/100\n",
            "12/12 [==============================] - 4s 373ms/step - loss: 0.4055 - accuracy: 0.8687 - val_loss: 0.6013 - val_accuracy: 0.7990\n",
            "Epoch 12/100\n",
            "12/12 [==============================] - 4s 373ms/step - loss: 0.3936 - accuracy: 0.8673 - val_loss: 0.5645 - val_accuracy: 0.8120\n",
            "Epoch 13/100\n",
            "12/12 [==============================] - 5s 378ms/step - loss: 0.3870 - accuracy: 0.8733 - val_loss: 0.5702 - val_accuracy: 0.8120\n",
            "Epoch 14/100\n",
            "12/12 [==============================] - 5s 377ms/step - loss: 0.3842 - accuracy: 0.8743 - val_loss: 0.5335 - val_accuracy: 0.8280\n",
            "Epoch 15/100\n",
            "12/12 [==============================] - 5s 379ms/step - loss: 0.3694 - accuracy: 0.8837 - val_loss: 0.5319 - val_accuracy: 0.8300\n",
            "Epoch 16/100\n",
            "12/12 [==============================] - 5s 377ms/step - loss: 0.3563 - accuracy: 0.8857 - val_loss: 0.5403 - val_accuracy: 0.8270\n",
            "Epoch 17/100\n",
            "12/12 [==============================] - 5s 378ms/step - loss: 0.3573 - accuracy: 0.8793 - val_loss: 0.5052 - val_accuracy: 0.8400\n",
            "Epoch 18/100\n",
            "12/12 [==============================] - 5s 376ms/step - loss: 0.3442 - accuracy: 0.8800 - val_loss: 0.5024 - val_accuracy: 0.8430\n",
            "Epoch 19/100\n",
            "12/12 [==============================] - 5s 376ms/step - loss: 0.3415 - accuracy: 0.8890 - val_loss: 0.5061 - val_accuracy: 0.8430\n",
            "Epoch 20/100\n",
            "12/12 [==============================] - 4s 374ms/step - loss: 0.3324 - accuracy: 0.8860 - val_loss: 0.5003 - val_accuracy: 0.8430\n",
            "Epoch 21/100\n",
            "12/12 [==============================] - 5s 375ms/step - loss: 0.3212 - accuracy: 0.8930 - val_loss: 0.5121 - val_accuracy: 0.8370\n",
            "Epoch 22/100\n",
            "12/12 [==============================] - 4s 373ms/step - loss: 0.3284 - accuracy: 0.8883 - val_loss: 0.5053 - val_accuracy: 0.8410\n",
            "Epoch 23/100\n",
            "12/12 [==============================] - 5s 375ms/step - loss: 0.3120 - accuracy: 0.8993 - val_loss: 0.4812 - val_accuracy: 0.8510\n",
            "Epoch 24/100\n",
            "12/12 [==============================] - 4s 375ms/step - loss: 0.3089 - accuracy: 0.9003 - val_loss: 0.4815 - val_accuracy: 0.8510\n",
            "Epoch 25/100\n",
            "12/12 [==============================] - 5s 375ms/step - loss: 0.3007 - accuracy: 0.9033 - val_loss: 0.5010 - val_accuracy: 0.8390\n",
            "Epoch 26/100\n",
            "12/12 [==============================] - 4s 375ms/step - loss: 0.2992 - accuracy: 0.9033 - val_loss: 0.4858 - val_accuracy: 0.8450\n"
          ],
          "name": "stdout"
        },
        {
          "output_type": "execute_result",
          "data": {
            "text/plain": [
              "<tensorflow.python.keras.callbacks.History at 0x7f8fd017e8d0>"
            ]
          },
          "metadata": {
            "tags": []
          },
          "execution_count": 7
        }
      ]
    },
    {
      "cell_type": "markdown",
      "metadata": {
        "id": "L453SaoEujKs",
        "colab_type": "text"
      },
      "source": [
        "# モデルの評価"
      ]
    },
    {
      "cell_type": "markdown",
      "metadata": {
        "id": "ABKBcWM1TuF_",
        "colab_type": "text"
      },
      "source": [
        "### 簡易的な評価"
      ]
    },
    {
      "cell_type": "code",
      "metadata": {
        "id": "I75C_xOcTUIm",
        "colab_type": "code",
        "colab": {
          "base_uri": "https://localhost:8080/",
          "height": 161
        },
        "outputId": "8d8aed54-e7d6-48ef-c397-d859c8639925"
      },
      "source": [
        "%time\n",
        "def evalute_model(model, ds):\n",
        "  '''モデルの評価関数呼び出し'''\n",
        "  score = model.evaluate(ds)\n",
        "  return score\n",
        "\n",
        "\n",
        "train_score = evalute_model(clf, ds_train)\n",
        "val_score = evalute_model(clf, ds_val)\n",
        "test_score = evalute_model(clf, ds_test)\n",
        "print('訓練 loss:{loss}, 正答率:{auc}'.format(loss=train_score[0], auc=train_score[1]))\n",
        "print('検証 loss:{loss}, 正答率:{auc}'.format(loss=val_score[0], auc=val_score[1]))\n",
        "print('テスト loss:{loss}, 正答率:{auc}'.format(loss=test_score[0], auc=test_score[1]))"
      ],
      "execution_count": 8,
      "outputs": [
        {
          "output_type": "stream",
          "text": [
            "CPU times: user 3 µs, sys: 0 ns, total: 3 µs\n",
            "Wall time: 7.63 µs\n",
            "12/12 [==============================] - 3s 241ms/step - loss: 0.4027 - accuracy: 0.8607\n",
            "4/4 [==============================] - 1s 194ms/step - loss: 0.4858 - accuracy: 0.8450\n",
            "4/4 [==============================] - 1s 191ms/step - loss: 0.4052 - accuracy: 0.8580\n",
            "訓練 loss:0.4026747941970825, 正答率:0.8606666922569275\n",
            "検証 loss:0.485822856426239, 正答率:0.8450000286102295\n",
            "テスト loss:0.4052494466304779, 正答率:0.8579999804496765\n"
          ],
          "name": "stdout"
        }
      ]
    }
  ]
}