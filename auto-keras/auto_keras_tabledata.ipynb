{
  "nbformat": 4,
  "nbformat_minor": 0,
  "metadata": {
    "colab": {
      "name": "auto_keras_tabledata.ipynb",
      "provenance": [],
      "collapsed_sections": [],
      "authorship_tag": "ABX9TyMXaVv8tXBtqq+WaK0DduNA",
      "include_colab_link": true
    },
    "kernelspec": {
      "name": "python3",
      "display_name": "Python 3"
    }
  },
  "cells": [
    {
      "cell_type": "markdown",
      "metadata": {
        "id": "view-in-github",
        "colab_type": "text"
      },
      "source": [
        "<a href=\"https://colab.research.google.com/github/Itsuki-Hamano123/auto_ml/blob/master/auto-keras/auto_keras_tabledata.ipynb\" target=\"_parent\"><img src=\"https://colab.research.google.com/assets/colab-badge.svg\" alt=\"Open In Colab\"/></a>"
      ]
    },
    {
      "cell_type": "code",
      "metadata": {
        "id": "1v71RZb6Wfw3",
        "colab_type": "code",
        "colab": {
          "base_uri": "https://localhost:8080/",
          "height": 71
        },
        "outputId": "71f22203-9b0a-414e-b0b6-1eb72f0b30fa"
      },
      "source": [
        "from google.colab import drive\n",
        "drive.mount('/gdrive')\n",
        "%cd /gdrive/My Drive/機械学習練習/MLモデル構築自動化/auto-keras\n",
        "%ls"
      ],
      "execution_count": 33,
      "outputs": [
        {
          "output_type": "stream",
          "text": [
            "Drive already mounted at /gdrive; to attempt to forcibly remount, call drive.mount(\"/gdrive\", force_remount=True).\n",
            "/gdrive/My Drive/機械学習練習/MLモデル構築自動化/auto-keras\n",
            "auto_keras_tabledata.ipynb  \u001b[0m\u001b[01;34mstructured_data_classifier\u001b[0m/  titanic.ipynb\n"
          ],
          "name": "stdout"
        }
      ]
    },
    {
      "cell_type": "markdown",
      "metadata": {
        "id": "C2dkFta2Wyba",
        "colab_type": "text"
      },
      "source": [
        "# テーブルデータでauto-kerasを試す"
      ]
    },
    {
      "cell_type": "code",
      "metadata": {
        "id": "SdKno5K1W9w1",
        "colab_type": "code",
        "colab": {
          "base_uri": "https://localhost:8080/",
          "height": 1000
        },
        "outputId": "08dddea2-1afe-4fe1-e317-cafc97807479"
      },
      "source": [
        "%pip install keras-tuner\n",
        "%pip install autokeras"
      ],
      "execution_count": 34,
      "outputs": [
        {
          "output_type": "stream",
          "text": [
            "Requirement already satisfied: keras-tuner in /usr/local/lib/python3.6/dist-packages (1.0.2rc1.dev0)\n",
            "Requirement already satisfied: scikit-learn in /usr/local/lib/python3.6/dist-packages (from keras-tuner) (0.22.2.post1)\n",
            "Requirement already satisfied: requests in /usr/local/lib/python3.6/dist-packages (from keras-tuner) (2.23.0)\n",
            "Requirement already satisfied: packaging in /usr/local/lib/python3.6/dist-packages (from keras-tuner) (20.4)\n",
            "Requirement already satisfied: numpy in /usr/local/lib/python3.6/dist-packages (from keras-tuner) (1.18.5)\n",
            "Requirement already satisfied: terminaltables in /usr/local/lib/python3.6/dist-packages (from keras-tuner) (3.1.0)\n",
            "Requirement already satisfied: tqdm in /usr/local/lib/python3.6/dist-packages (from keras-tuner) (4.41.1)\n",
            "Requirement already satisfied: future in /usr/local/lib/python3.6/dist-packages (from keras-tuner) (0.16.0)\n",
            "Requirement already satisfied: tabulate in /usr/local/lib/python3.6/dist-packages (from keras-tuner) (0.8.7)\n",
            "Requirement already satisfied: scipy in /usr/local/lib/python3.6/dist-packages (from keras-tuner) (1.4.1)\n",
            "Requirement already satisfied: colorama in /usr/local/lib/python3.6/dist-packages (from keras-tuner) (0.4.3)\n",
            "Requirement already satisfied: joblib>=0.11 in /usr/local/lib/python3.6/dist-packages (from scikit-learn->keras-tuner) (0.16.0)\n",
            "Requirement already satisfied: idna<3,>=2.5 in /usr/local/lib/python3.6/dist-packages (from requests->keras-tuner) (2.10)\n",
            "Requirement already satisfied: chardet<4,>=3.0.2 in /usr/local/lib/python3.6/dist-packages (from requests->keras-tuner) (3.0.4)\n",
            "Requirement already satisfied: urllib3!=1.25.0,!=1.25.1,<1.26,>=1.21.1 in /usr/local/lib/python3.6/dist-packages (from requests->keras-tuner) (1.24.3)\n",
            "Requirement already satisfied: certifi>=2017.4.17 in /usr/local/lib/python3.6/dist-packages (from requests->keras-tuner) (2020.6.20)\n",
            "Requirement already satisfied: six in /usr/local/lib/python3.6/dist-packages (from packaging->keras-tuner) (1.15.0)\n",
            "Requirement already satisfied: pyparsing>=2.0.2 in /usr/local/lib/python3.6/dist-packages (from packaging->keras-tuner) (2.4.7)\n",
            "Requirement already satisfied: autokeras in /usr/local/lib/python3.6/dist-packages (1.0.6.dev0)\n",
            "Requirement already satisfied: pandas in /usr/local/lib/python3.6/dist-packages (from autokeras) (1.0.5)\n",
            "Requirement already satisfied: scikit-learn in /usr/local/lib/python3.6/dist-packages (from autokeras) (0.22.2.post1)\n",
            "Requirement already satisfied: numpy in /usr/local/lib/python3.6/dist-packages (from autokeras) (1.18.5)\n",
            "Requirement already satisfied: tensorflow>=2.3.0 in /usr/local/lib/python3.6/dist-packages (from autokeras) (2.3.0)\n",
            "Requirement already satisfied: packaging in /usr/local/lib/python3.6/dist-packages (from autokeras) (20.4)\n",
            "Requirement already satisfied: python-dateutil>=2.6.1 in /usr/local/lib/python3.6/dist-packages (from pandas->autokeras) (2.8.1)\n",
            "Requirement already satisfied: pytz>=2017.2 in /usr/local/lib/python3.6/dist-packages (from pandas->autokeras) (2018.9)\n",
            "Requirement already satisfied: joblib>=0.11 in /usr/local/lib/python3.6/dist-packages (from scikit-learn->autokeras) (0.16.0)\n",
            "Requirement already satisfied: scipy>=0.17.0 in /usr/local/lib/python3.6/dist-packages (from scikit-learn->autokeras) (1.4.1)\n",
            "Requirement already satisfied: six>=1.12.0 in /usr/local/lib/python3.6/dist-packages (from tensorflow>=2.3.0->autokeras) (1.15.0)\n",
            "Requirement already satisfied: grpcio>=1.8.6 in /usr/local/lib/python3.6/dist-packages (from tensorflow>=2.3.0->autokeras) (1.30.0)\n",
            "Requirement already satisfied: tensorboard<3,>=2.3.0 in /usr/local/lib/python3.6/dist-packages (from tensorflow>=2.3.0->autokeras) (2.3.0)\n",
            "Requirement already satisfied: gast==0.3.3 in /usr/local/lib/python3.6/dist-packages (from tensorflow>=2.3.0->autokeras) (0.3.3)\n",
            "Requirement already satisfied: tensorflow-estimator<2.4.0,>=2.3.0 in /usr/local/lib/python3.6/dist-packages (from tensorflow>=2.3.0->autokeras) (2.3.0)\n",
            "Requirement already satisfied: termcolor>=1.1.0 in /usr/local/lib/python3.6/dist-packages (from tensorflow>=2.3.0->autokeras) (1.1.0)\n",
            "Requirement already satisfied: wrapt>=1.11.1 in /usr/local/lib/python3.6/dist-packages (from tensorflow>=2.3.0->autokeras) (1.12.1)\n",
            "Requirement already satisfied: astunparse==1.6.3 in /usr/local/lib/python3.6/dist-packages (from tensorflow>=2.3.0->autokeras) (1.6.3)\n",
            "Requirement already satisfied: protobuf>=3.9.2 in /usr/local/lib/python3.6/dist-packages (from tensorflow>=2.3.0->autokeras) (3.12.4)\n",
            "Requirement already satisfied: h5py<2.11.0,>=2.10.0 in /usr/local/lib/python3.6/dist-packages (from tensorflow>=2.3.0->autokeras) (2.10.0)\n",
            "Requirement already satisfied: opt-einsum>=2.3.2 in /usr/local/lib/python3.6/dist-packages (from tensorflow>=2.3.0->autokeras) (3.3.0)\n",
            "Requirement already satisfied: google-pasta>=0.1.8 in /usr/local/lib/python3.6/dist-packages (from tensorflow>=2.3.0->autokeras) (0.2.0)\n",
            "Requirement already satisfied: wheel>=0.26 in /usr/local/lib/python3.6/dist-packages (from tensorflow>=2.3.0->autokeras) (0.34.2)\n",
            "Requirement already satisfied: absl-py>=0.7.0 in /usr/local/lib/python3.6/dist-packages (from tensorflow>=2.3.0->autokeras) (0.9.0)\n",
            "Requirement already satisfied: keras-preprocessing<1.2,>=1.1.1 in /usr/local/lib/python3.6/dist-packages (from tensorflow>=2.3.0->autokeras) (1.1.2)\n",
            "Requirement already satisfied: pyparsing>=2.0.2 in /usr/local/lib/python3.6/dist-packages (from packaging->autokeras) (2.4.7)\n",
            "Requirement already satisfied: tensorboard-plugin-wit>=1.6.0 in /usr/local/lib/python3.6/dist-packages (from tensorboard<3,>=2.3.0->tensorflow>=2.3.0->autokeras) (1.7.0)\n",
            "Requirement already satisfied: requests<3,>=2.21.0 in /usr/local/lib/python3.6/dist-packages (from tensorboard<3,>=2.3.0->tensorflow>=2.3.0->autokeras) (2.23.0)\n",
            "Requirement already satisfied: werkzeug>=0.11.15 in /usr/local/lib/python3.6/dist-packages (from tensorboard<3,>=2.3.0->tensorflow>=2.3.0->autokeras) (1.0.1)\n",
            "Requirement already satisfied: google-auth-oauthlib<0.5,>=0.4.1 in /usr/local/lib/python3.6/dist-packages (from tensorboard<3,>=2.3.0->tensorflow>=2.3.0->autokeras) (0.4.1)\n",
            "Requirement already satisfied: setuptools>=41.0.0 in /usr/local/lib/python3.6/dist-packages (from tensorboard<3,>=2.3.0->tensorflow>=2.3.0->autokeras) (49.2.0)\n",
            "Requirement already satisfied: markdown>=2.6.8 in /usr/local/lib/python3.6/dist-packages (from tensorboard<3,>=2.3.0->tensorflow>=2.3.0->autokeras) (3.2.2)\n",
            "Requirement already satisfied: google-auth<2,>=1.6.3 in /usr/local/lib/python3.6/dist-packages (from tensorboard<3,>=2.3.0->tensorflow>=2.3.0->autokeras) (1.17.2)\n",
            "Requirement already satisfied: idna<3,>=2.5 in /usr/local/lib/python3.6/dist-packages (from requests<3,>=2.21.0->tensorboard<3,>=2.3.0->tensorflow>=2.3.0->autokeras) (2.10)\n",
            "Requirement already satisfied: chardet<4,>=3.0.2 in /usr/local/lib/python3.6/dist-packages (from requests<3,>=2.21.0->tensorboard<3,>=2.3.0->tensorflow>=2.3.0->autokeras) (3.0.4)\n",
            "Requirement already satisfied: certifi>=2017.4.17 in /usr/local/lib/python3.6/dist-packages (from requests<3,>=2.21.0->tensorboard<3,>=2.3.0->tensorflow>=2.3.0->autokeras) (2020.6.20)\n",
            "Requirement already satisfied: urllib3!=1.25.0,!=1.25.1,<1.26,>=1.21.1 in /usr/local/lib/python3.6/dist-packages (from requests<3,>=2.21.0->tensorboard<3,>=2.3.0->tensorflow>=2.3.0->autokeras) (1.24.3)\n",
            "Requirement already satisfied: requests-oauthlib>=0.7.0 in /usr/local/lib/python3.6/dist-packages (from google-auth-oauthlib<0.5,>=0.4.1->tensorboard<3,>=2.3.0->tensorflow>=2.3.0->autokeras) (1.3.0)\n",
            "Requirement already satisfied: importlib-metadata; python_version < \"3.8\" in /usr/local/lib/python3.6/dist-packages (from markdown>=2.6.8->tensorboard<3,>=2.3.0->tensorflow>=2.3.0->autokeras) (1.7.0)\n",
            "Requirement already satisfied: cachetools<5.0,>=2.0.0 in /usr/local/lib/python3.6/dist-packages (from google-auth<2,>=1.6.3->tensorboard<3,>=2.3.0->tensorflow>=2.3.0->autokeras) (4.1.1)\n",
            "Requirement already satisfied: rsa<5,>=3.1.4; python_version >= \"3\" in /usr/local/lib/python3.6/dist-packages (from google-auth<2,>=1.6.3->tensorboard<3,>=2.3.0->tensorflow>=2.3.0->autokeras) (4.6)\n",
            "Requirement already satisfied: pyasn1-modules>=0.2.1 in /usr/local/lib/python3.6/dist-packages (from google-auth<2,>=1.6.3->tensorboard<3,>=2.3.0->tensorflow>=2.3.0->autokeras) (0.2.8)\n",
            "Requirement already satisfied: oauthlib>=3.0.0 in /usr/local/lib/python3.6/dist-packages (from requests-oauthlib>=0.7.0->google-auth-oauthlib<0.5,>=0.4.1->tensorboard<3,>=2.3.0->tensorflow>=2.3.0->autokeras) (3.1.0)\n",
            "Requirement already satisfied: zipp>=0.5 in /usr/local/lib/python3.6/dist-packages (from importlib-metadata; python_version < \"3.8\"->markdown>=2.6.8->tensorboard<3,>=2.3.0->tensorflow>=2.3.0->autokeras) (3.1.0)\n",
            "Requirement already satisfied: pyasn1>=0.1.3 in /usr/local/lib/python3.6/dist-packages (from rsa<5,>=3.1.4; python_version >= \"3\"->google-auth<2,>=1.6.3->tensorboard<3,>=2.3.0->tensorflow>=2.3.0->autokeras) (0.4.8)\n"
          ],
          "name": "stdout"
        }
      ]
    },
    {
      "cell_type": "code",
      "metadata": {
        "id": "FAEEy4yFXSOo",
        "colab_type": "code",
        "colab": {
          "base_uri": "https://localhost:8080/",
          "height": 577
        },
        "outputId": "6eb6c472-8f5d-4a92-9a79-11b290ce09e6"
      },
      "source": [
        "%pip show autokeras\n",
        "%pip show keras-tuner\n",
        "%pip show tensorflow"
      ],
      "execution_count": 36,
      "outputs": [
        {
          "output_type": "stream",
          "text": [
            "Name: autokeras\n",
            "Version: 1.0.6.dev0\n",
            "Summary: AutoML for deep learning\n",
            "Home-page: http://autokeras.com\n",
            "Author: Data Analytics at Texas A&M (DATA) Lab, Keras Team\n",
            "Author-email: jhfjhfj1@gmail.com\n",
            "License: MIT\n",
            "Location: /usr/local/lib/python3.6/dist-packages\n",
            "Requires: numpy, scikit-learn, tensorflow, packaging, pandas\n",
            "Required-by: \n",
            "Name: keras-tuner\n",
            "Version: 1.0.2rc1.dev0\n",
            "Summary: Hypertuner for Keras\n",
            "Home-page: https://github.com/keras-team/keras-tuner\n",
            "Author: The Keras Tuner authors\n",
            "Author-email: kerastuner@google.com\n",
            "License: Apache License 2.0\n",
            "Location: /usr/local/lib/python3.6/dist-packages\n",
            "Requires: numpy, terminaltables, tqdm, scipy, future, scikit-learn, requests, colorama, packaging, tabulate\n",
            "Required-by: \n",
            "Name: tensorflow\n",
            "Version: 2.3.0\n",
            "Summary: TensorFlow is an open source machine learning framework for everyone.\n",
            "Home-page: https://www.tensorflow.org/\n",
            "Author: Google Inc.\n",
            "Author-email: packages@tensorflow.org\n",
            "License: Apache 2.0\n",
            "Location: /usr/local/lib/python3.6/dist-packages\n",
            "Requires: google-pasta, six, protobuf, tensorflow-estimator, wheel, h5py, termcolor, tensorboard, wrapt, absl-py, grpcio, scipy, astunparse, gast, keras-preprocessing, opt-einsum, numpy\n",
            "Required-by: fancyimpute, autokeras\n"
          ],
          "name": "stdout"
        }
      ]
    },
    {
      "cell_type": "code",
      "metadata": {
        "id": "Paj3sfHAWyA2",
        "colab_type": "code",
        "colab": {}
      },
      "source": [
        "import os\n",
        "\n",
        "import autokeras as ak\n",
        "import tensorflow as tf\n",
        "from tensorflow.keras.callbacks import EarlyStopping\n",
        "import pandas as pd"
      ],
      "execution_count": 47,
      "outputs": []
    },
    {
      "cell_type": "markdown",
      "metadata": {
        "id": "7iqLDMrIX-H4",
        "colab_type": "text"
      },
      "source": [
        "## データ読み込み"
      ]
    },
    {
      "cell_type": "code",
      "metadata": {
        "id": "e1VLe3dkYixu",
        "colab_type": "code",
        "colab": {}
      },
      "source": [
        "# データセット\n",
        "DATA_DIR = '../big_dataset'  #@param {type: \"string\"}\n",
        "TRAIN_CSV = 'preprocessed_train.csv'  #@param {type: \"string\"}\n",
        "TEST_CSV = 'preprocessed_test.csv'  #@param {type: \"string\"}\n",
        "\n",
        "# 予測対象の列名\n",
        "TARGET_COL = 'class' #@param {type: \"string\"}\n",
        "NUM_CLASSES = 2 #@param {type: \"number\"}\n",
        "\n",
        "# 探索するモデルの上限数\n",
        "MAX_TRIALS = 11  #@param {type: \"slider\", min: 0, max: 100}"
      ],
      "execution_count": 52,
      "outputs": []
    },
    {
      "cell_type": "code",
      "metadata": {
        "id": "5vMWtg3SYiYq",
        "colab_type": "code",
        "colab": {}
      },
      "source": [
        "train_df = pd.read_csv(os.path.join(DATA_DIR, TRAIN_CSV))\n",
        "\n",
        "# 特徴量の種類を設定しておく\n",
        "# (設定しなかった場合stringのみを受け付けるモデルとなってしまったため)\n",
        "def setup_col_type():\n",
        "  column_types = {}\n",
        "  for col in train_df.drop(columns=TARGET_COL).columns:\n",
        "    column_types[col] = 'numerical'\n",
        "  return column_types \n",
        "\n",
        "column_types = setup_col_type()"
      ],
      "execution_count": 83,
      "outputs": []
    },
    {
      "cell_type": "markdown",
      "metadata": {
        "id": "ExYBIuWqagFt",
        "colab_type": "text"
      },
      "source": [
        "### モデルのクラス初期化"
      ]
    },
    {
      "cell_type": "code",
      "metadata": {
        "id": "n3STKIrIXZ_e",
        "colab_type": "code",
        "colab": {}
      },
      "source": [
        "# 構造化データを元に分類するモデルクラスの初期化\n",
        "clf = ak.StructuredDataClassifier(max_trials=MAX_TRIALS,# 探索するモデルの上限数\n",
        "                                  #column_types=column_types,\n",
        "                                  seed=7,\n",
        "                                  overwrite=True) "
      ],
      "execution_count": 88,
      "outputs": []
    },
    {
      "cell_type": "markdown",
      "metadata": {
        "id": "aaRpRhadajJm",
        "colab_type": "text"
      },
      "source": [
        "### モデルの訓練（探索）"
      ]
    },
    {
      "cell_type": "code",
      "metadata": {
        "id": "VT-sGfztaiXQ",
        "colab_type": "code",
        "colab": {
          "base_uri": "https://localhost:8080/",
          "height": 1000
        },
        "outputId": "3006df5e-baf1-4baa-f2f3-f6f3ee3b6cdb"
      },
      "source": [
        "clf.fit(#x=os.path.join(DATA_DIR, TRAIN_CSV),\n",
        "        x=train_df.drop(columns=TARGET_COL).values,\n",
        "        y=train_df[TARGET_COL].values,\n",
        "        epochs=30, # 各モデルで回すエポック数(default:1000, earlystoppingあり)\n",
        "        callbacks=[EarlyStopping(monitor='val_loss',patience=2)], # kerasモデル同様にcallback処理を設定可能\n",
        "        validation_split=0.2, # 訓練データの末尾から指定した割合が検証データとなる(default:0.2)\n",
        "        verbose=1, # 通常のkerasモデルで使われるようなキーワード引数も渡せる\n",
        "        )"
      ],
      "execution_count": 89,
      "outputs": [
        {
          "output_type": "stream",
          "text": [
            "Trial 11 Complete [00h 00m 04s]\n",
            "val_accuracy: 0.918749988079071\n",
            "\n",
            "Best val_accuracy So Far: 0.9243749976158142\n",
            "Total elapsed time: 00h 01m 11s\n",
            "INFO:tensorflow:Oracle triggered exit\n",
            "Epoch 1/30\n",
            "250/250 [==============================] - 0s 1ms/step - loss: 0.4468 - accuracy: 0.8389\n",
            "Epoch 2/30\n",
            "250/250 [==============================] - 0s 1ms/step - loss: 0.2238 - accuracy: 0.9235\n",
            "Epoch 3/30\n",
            "250/250 [==============================] - 0s 1ms/step - loss: 0.2126 - accuracy: 0.9296\n",
            "Epoch 4/30\n",
            "250/250 [==============================] - 0s 1ms/step - loss: 0.2056 - accuracy: 0.9320\n",
            "Epoch 5/30\n",
            "250/250 [==============================] - 0s 1ms/step - loss: 0.2003 - accuracy: 0.9335\n",
            "Epoch 6/30\n",
            "250/250 [==============================] - 0s 2ms/step - loss: 0.1957 - accuracy: 0.9358\n",
            "Epoch 7/30\n",
            "250/250 [==============================] - 0s 1ms/step - loss: 0.1917 - accuracy: 0.9379\n",
            "Epoch 8/30\n",
            "250/250 [==============================] - 0s 1ms/step - loss: 0.1885 - accuracy: 0.9386\n",
            "Epoch 9/30\n",
            "250/250 [==============================] - 0s 1ms/step - loss: 0.1856 - accuracy: 0.9396\n",
            "Epoch 10/30\n",
            "250/250 [==============================] - 0s 2ms/step - loss: 0.1831 - accuracy: 0.9406\n",
            "Epoch 11/30\n",
            "250/250 [==============================] - 0s 2ms/step - loss: 0.1807 - accuracy: 0.9410\n",
            "Epoch 12/30\n",
            "250/250 [==============================] - 0s 1ms/step - loss: 0.1784 - accuracy: 0.9414\n",
            "Epoch 13/30\n",
            "250/250 [==============================] - 0s 2ms/step - loss: 0.1762 - accuracy: 0.9420\n",
            "Epoch 14/30\n",
            "250/250 [==============================] - 0s 1ms/step - loss: 0.1742 - accuracy: 0.9429\n",
            "Epoch 15/30\n",
            "250/250 [==============================] - 0s 1ms/step - loss: 0.1723 - accuracy: 0.9439\n",
            "Epoch 16/30\n",
            "250/250 [==============================] - 0s 1ms/step - loss: 0.1704 - accuracy: 0.9452\n",
            "Epoch 17/30\n",
            "250/250 [==============================] - 0s 1ms/step - loss: 0.1687 - accuracy: 0.9454\n",
            "Epoch 18/30\n",
            "250/250 [==============================] - 0s 1ms/step - loss: 0.1669 - accuracy: 0.9459\n",
            "Epoch 19/30\n",
            "250/250 [==============================] - 0s 2ms/step - loss: 0.1653 - accuracy: 0.9461\n",
            "Epoch 20/30\n",
            "250/250 [==============================] - 0s 1ms/step - loss: 0.1637 - accuracy: 0.9471\n",
            "Epoch 21/30\n",
            "250/250 [==============================] - 0s 2ms/step - loss: 0.1623 - accuracy: 0.9476\n",
            "Epoch 22/30\n",
            "250/250 [==============================] - 0s 1ms/step - loss: 0.1607 - accuracy: 0.9482\n",
            "Epoch 23/30\n",
            "250/250 [==============================] - 0s 1ms/step - loss: 0.1594 - accuracy: 0.9485\n",
            "Epoch 24/30\n",
            "250/250 [==============================] - 0s 2ms/step - loss: 0.1580 - accuracy: 0.9489\n",
            "Epoch 25/30\n",
            "250/250 [==============================] - 0s 1ms/step - loss: 0.1568 - accuracy: 0.9496\n",
            "Epoch 26/30\n",
            "250/250 [==============================] - 0s 2ms/step - loss: 0.1556 - accuracy: 0.9494\n",
            "Epoch 27/30\n",
            "250/250 [==============================] - 0s 1ms/step - loss: 0.1543 - accuracy: 0.9500\n",
            "Epoch 28/30\n",
            "250/250 [==============================] - 0s 1ms/step - loss: 0.1531 - accuracy: 0.9501\n",
            "Epoch 29/30\n",
            "250/250 [==============================] - 0s 2ms/step - loss: 0.1519 - accuracy: 0.9503\n",
            "Epoch 30/30\n",
            "250/250 [==============================] - 0s 1ms/step - loss: 0.1509 - accuracy: 0.9505\n"
          ],
          "name": "stdout"
        }
      ]
    },
    {
      "cell_type": "markdown",
      "metadata": {
        "id": "1EMVSiSVcCLt",
        "colab_type": "text"
      },
      "source": [
        "### テストデータに対する性能"
      ]
    },
    {
      "cell_type": "code",
      "metadata": {
        "id": "ZZF5StNkXNxI",
        "colab_type": "code",
        "colab": {
          "base_uri": "https://localhost:8080/",
          "height": 53
        },
        "outputId": "e9d46a52-1308-430d-910a-cab1601eb56a"
      },
      "source": [
        "result = clf.evaluate(x=os.path.join(DATA_DIR, TEST_CSV), \n",
        "                      y=TARGET_COL)\n",
        "print('loss:{}, accuracy:{}'.format(result[0], result[1]))"
      ],
      "execution_count": 90,
      "outputs": [
        {
          "output_type": "stream",
          "text": [
            "63/63 [==============================] - 0s 1ms/step - loss: 0.2181 - accuracy: 0.9230\n",
            "loss:0.21807485818862915, accuracy:0.9229999780654907\n"
          ],
          "name": "stdout"
        }
      ]
    },
    {
      "cell_type": "markdown",
      "metadata": {
        "id": "FmsAnVjxXhfI",
        "colab_type": "text"
      },
      "source": [
        "## ベストなモデルをエクスポート"
      ]
    },
    {
      "cell_type": "code",
      "metadata": {
        "id": "u3hYXEzlb3QA",
        "colab_type": "code",
        "colab": {
          "base_uri": "https://localhost:8080/",
          "height": 577
        },
        "outputId": "92e4ce1a-8f06-427a-a0e5-174b99e96434"
      },
      "source": [
        "model = clf.export_model()\n",
        "model.summary()"
      ],
      "execution_count": 91,
      "outputs": [
        {
          "output_type": "stream",
          "text": [
            "WARNING:tensorflow:Unresolved object in checkpoint: (root).optimizer.iter\n",
            "WARNING:tensorflow:Unresolved object in checkpoint: (root).optimizer.beta_1\n",
            "WARNING:tensorflow:Unresolved object in checkpoint: (root).optimizer.beta_2\n",
            "WARNING:tensorflow:Unresolved object in checkpoint: (root).optimizer.decay\n",
            "WARNING:tensorflow:Unresolved object in checkpoint: (root).optimizer.learning_rate\n",
            "WARNING:tensorflow:A checkpoint was restored (e.g. tf.train.Checkpoint.restore or tf.keras.Model.load_weights) but not all checkpointed values were used. See above for specific issues. Use expect_partial() on the load status object, e.g. tf.train.Checkpoint.restore(...).expect_partial(), to silence these warnings, or use assert_consumed() to make the check explicit. See https://www.tensorflow.org/guide/checkpoint#loading_mechanics for details.\n",
            "Model: \"functional_1\"\n",
            "_________________________________________________________________\n",
            "Layer (type)                 Output Shape              Param #   \n",
            "=================================================================\n",
            "input_1 (InputLayer)         [(None, 13)]              0         \n",
            "_________________________________________________________________\n",
            "multi_category_encoding (Mul (None, 13)                0         \n",
            "_________________________________________________________________\n",
            "dense (Dense)                (None, 32)                448       \n",
            "_________________________________________________________________\n",
            "re_lu (ReLU)                 (None, 32)                0         \n",
            "_________________________________________________________________\n",
            "dense_1 (Dense)              (None, 32)                1056      \n",
            "_________________________________________________________________\n",
            "re_lu_1 (ReLU)               (None, 32)                0         \n",
            "_________________________________________________________________\n",
            "dense_2 (Dense)              (None, 3)                 99        \n",
            "_________________________________________________________________\n",
            "classification_head_3 (Softm (None, 3)                 0         \n",
            "=================================================================\n",
            "Total params: 1,603\n",
            "Trainable params: 1,603\n",
            "Non-trainable params: 0\n",
            "_________________________________________________________________\n"
          ],
          "name": "stdout"
        }
      ]
    },
    {
      "cell_type": "code",
      "metadata": {
        "id": "suhZLETvqTsc",
        "colab_type": "code",
        "colab": {}
      },
      "source": [
        "test_df = pd.read_csv(os.path.join(DATA_DIR, TEST_CSV))\n",
        "\n",
        "test_X = test_df.drop(columns=TARGET_COL).values\n",
        "test_y = tf.keras.utils.to_categorical(test_df[TARGET_COL].values)"
      ],
      "execution_count": 92,
      "outputs": []
    },
    {
      "cell_type": "code",
      "metadata": {
        "id": "nkwfdsMpY43X",
        "colab_type": "code",
        "colab": {}
      },
      "source": [
        ""
      ],
      "execution_count": null,
      "outputs": []
    }
  ]
}