{
  "nbformat": 4,
  "nbformat_minor": 0,
  "metadata": {
    "colab": {
      "name": "radon-regressor_drop_country.ipynb",
      "provenance": [],
      "collapsed_sections": [],
      "toc_visible": true,
      "mount_file_id": "1yQTFrIAxKAdW0y5BrckiUKr6cNdkhUat",
      "authorship_tag": "ABX9TyM/xVZuU4jF7KUiRq78mFzY",
      "include_colab_link": true
    },
    "kernelspec": {
      "name": "python3",
      "display_name": "Python 3"
    },
    "widgets": {
      "application/vnd.jupyter.widget-state+json": {
        "429333be5f0047d7b77a750f3a97d4bc": {
          "model_module": "@jupyter-widgets/controls",
          "model_name": "HBoxModel",
          "state": {
            "_view_name": "HBoxView",
            "_dom_classes": [],
            "_model_name": "HBoxModel",
            "_view_module": "@jupyter-widgets/controls",
            "_model_module_version": "1.5.0",
            "_view_count": null,
            "_view_module_version": "1.5.0",
            "box_style": "",
            "layout": "IPY_MODEL_9872c662df1743de8890fcbbd67217a1",
            "_model_module": "@jupyter-widgets/controls",
            "children": [
              "IPY_MODEL_ee7106e487d447fc830a5756dce7d5ba",
              "IPY_MODEL_91d4c414461e4fe3ad6caad0a2ffda04"
            ]
          }
        },
        "9872c662df1743de8890fcbbd67217a1": {
          "model_module": "@jupyter-widgets/base",
          "model_name": "LayoutModel",
          "state": {
            "_view_name": "LayoutView",
            "grid_template_rows": null,
            "right": null,
            "justify_content": null,
            "_view_module": "@jupyter-widgets/base",
            "overflow": null,
            "_model_module_version": "1.2.0",
            "_view_count": null,
            "flex_flow": null,
            "width": null,
            "min_width": null,
            "border": null,
            "align_items": null,
            "bottom": null,
            "_model_module": "@jupyter-widgets/base",
            "top": null,
            "grid_column": null,
            "overflow_y": null,
            "overflow_x": null,
            "grid_auto_flow": null,
            "grid_area": null,
            "grid_template_columns": null,
            "flex": null,
            "_model_name": "LayoutModel",
            "justify_items": null,
            "grid_row": null,
            "max_height": null,
            "align_content": null,
            "visibility": null,
            "align_self": null,
            "height": null,
            "min_height": null,
            "padding": null,
            "grid_auto_rows": null,
            "grid_gap": null,
            "max_width": null,
            "order": null,
            "_view_module_version": "1.2.0",
            "grid_template_areas": null,
            "object_position": null,
            "object_fit": null,
            "grid_auto_columns": null,
            "margin": null,
            "display": null,
            "left": null
          }
        },
        "ee7106e487d447fc830a5756dce7d5ba": {
          "model_module": "@jupyter-widgets/controls",
          "model_name": "FloatProgressModel",
          "state": {
            "_view_name": "ProgressView",
            "style": "IPY_MODEL_3ee32344095440a680833254fe02d659",
            "_dom_classes": [],
            "description": "Dl Completed...: 100%",
            "_model_name": "FloatProgressModel",
            "bar_style": "success",
            "max": 1,
            "_view_module": "@jupyter-widgets/controls",
            "_model_module_version": "1.5.0",
            "value": 1,
            "_view_count": null,
            "_view_module_version": "1.5.0",
            "orientation": "horizontal",
            "min": 0,
            "description_tooltip": null,
            "_model_module": "@jupyter-widgets/controls",
            "layout": "IPY_MODEL_610667ab9cdd46f49feafa5cb1f7b7ed"
          }
        },
        "91d4c414461e4fe3ad6caad0a2ffda04": {
          "model_module": "@jupyter-widgets/controls",
          "model_name": "HTMLModel",
          "state": {
            "_view_name": "HTMLView",
            "style": "IPY_MODEL_91be54faf3194519af6c44126a7cbdc3",
            "_dom_classes": [],
            "description": "",
            "_model_name": "HTMLModel",
            "placeholder": "​",
            "_view_module": "@jupyter-widgets/controls",
            "_model_module_version": "1.5.0",
            "value": " 2/2 [00:00&lt;00:00,  6.90 url/s]",
            "_view_count": null,
            "_view_module_version": "1.5.0",
            "description_tooltip": null,
            "_model_module": "@jupyter-widgets/controls",
            "layout": "IPY_MODEL_2a48e117eeb24b418fe352d5ed8b5f3a"
          }
        },
        "3ee32344095440a680833254fe02d659": {
          "model_module": "@jupyter-widgets/controls",
          "model_name": "ProgressStyleModel",
          "state": {
            "_view_name": "StyleView",
            "_model_name": "ProgressStyleModel",
            "description_width": "initial",
            "_view_module": "@jupyter-widgets/base",
            "_model_module_version": "1.5.0",
            "_view_count": null,
            "_view_module_version": "1.2.0",
            "bar_color": null,
            "_model_module": "@jupyter-widgets/controls"
          }
        },
        "610667ab9cdd46f49feafa5cb1f7b7ed": {
          "model_module": "@jupyter-widgets/base",
          "model_name": "LayoutModel",
          "state": {
            "_view_name": "LayoutView",
            "grid_template_rows": null,
            "right": null,
            "justify_content": null,
            "_view_module": "@jupyter-widgets/base",
            "overflow": null,
            "_model_module_version": "1.2.0",
            "_view_count": null,
            "flex_flow": null,
            "width": null,
            "min_width": null,
            "border": null,
            "align_items": null,
            "bottom": null,
            "_model_module": "@jupyter-widgets/base",
            "top": null,
            "grid_column": null,
            "overflow_y": null,
            "overflow_x": null,
            "grid_auto_flow": null,
            "grid_area": null,
            "grid_template_columns": null,
            "flex": null,
            "_model_name": "LayoutModel",
            "justify_items": null,
            "grid_row": null,
            "max_height": null,
            "align_content": null,
            "visibility": null,
            "align_self": null,
            "height": null,
            "min_height": null,
            "padding": null,
            "grid_auto_rows": null,
            "grid_gap": null,
            "max_width": null,
            "order": null,
            "_view_module_version": "1.2.0",
            "grid_template_areas": null,
            "object_position": null,
            "object_fit": null,
            "grid_auto_columns": null,
            "margin": null,
            "display": null,
            "left": null
          }
        },
        "91be54faf3194519af6c44126a7cbdc3": {
          "model_module": "@jupyter-widgets/controls",
          "model_name": "DescriptionStyleModel",
          "state": {
            "_view_name": "StyleView",
            "_model_name": "DescriptionStyleModel",
            "description_width": "",
            "_view_module": "@jupyter-widgets/base",
            "_model_module_version": "1.5.0",
            "_view_count": null,
            "_view_module_version": "1.2.0",
            "_model_module": "@jupyter-widgets/controls"
          }
        },
        "2a48e117eeb24b418fe352d5ed8b5f3a": {
          "model_module": "@jupyter-widgets/base",
          "model_name": "LayoutModel",
          "state": {
            "_view_name": "LayoutView",
            "grid_template_rows": null,
            "right": null,
            "justify_content": null,
            "_view_module": "@jupyter-widgets/base",
            "overflow": null,
            "_model_module_version": "1.2.0",
            "_view_count": null,
            "flex_flow": null,
            "width": null,
            "min_width": null,
            "border": null,
            "align_items": null,
            "bottom": null,
            "_model_module": "@jupyter-widgets/base",
            "top": null,
            "grid_column": null,
            "overflow_y": null,
            "overflow_x": null,
            "grid_auto_flow": null,
            "grid_area": null,
            "grid_template_columns": null,
            "flex": null,
            "_model_name": "LayoutModel",
            "justify_items": null,
            "grid_row": null,
            "max_height": null,
            "align_content": null,
            "visibility": null,
            "align_self": null,
            "height": null,
            "min_height": null,
            "padding": null,
            "grid_auto_rows": null,
            "grid_gap": null,
            "max_width": null,
            "order": null,
            "_view_module_version": "1.2.0",
            "grid_template_areas": null,
            "object_position": null,
            "object_fit": null,
            "grid_auto_columns": null,
            "margin": null,
            "display": null,
            "left": null
          }
        },
        "89fe9a6380204546869a2a1bfa7f2f8f": {
          "model_module": "@jupyter-widgets/controls",
          "model_name": "HBoxModel",
          "state": {
            "_view_name": "HBoxView",
            "_dom_classes": [],
            "_model_name": "HBoxModel",
            "_view_module": "@jupyter-widgets/controls",
            "_model_module_version": "1.5.0",
            "_view_count": null,
            "_view_module_version": "1.5.0",
            "box_style": "",
            "layout": "IPY_MODEL_d93f14b9bc9949cab6e8c4e62a1cb29e",
            "_model_module": "@jupyter-widgets/controls",
            "children": [
              "IPY_MODEL_f92ceccd20144778987411a324fedee0",
              "IPY_MODEL_f49f7993753f41d0b8cac4b77331703c"
            ]
          }
        },
        "d93f14b9bc9949cab6e8c4e62a1cb29e": {
          "model_module": "@jupyter-widgets/base",
          "model_name": "LayoutModel",
          "state": {
            "_view_name": "LayoutView",
            "grid_template_rows": null,
            "right": null,
            "justify_content": null,
            "_view_module": "@jupyter-widgets/base",
            "overflow": null,
            "_model_module_version": "1.2.0",
            "_view_count": null,
            "flex_flow": null,
            "width": null,
            "min_width": null,
            "border": null,
            "align_items": null,
            "bottom": null,
            "_model_module": "@jupyter-widgets/base",
            "top": null,
            "grid_column": null,
            "overflow_y": null,
            "overflow_x": null,
            "grid_auto_flow": null,
            "grid_area": null,
            "grid_template_columns": null,
            "flex": null,
            "_model_name": "LayoutModel",
            "justify_items": null,
            "grid_row": null,
            "max_height": null,
            "align_content": null,
            "visibility": null,
            "align_self": null,
            "height": null,
            "min_height": null,
            "padding": null,
            "grid_auto_rows": null,
            "grid_gap": null,
            "max_width": null,
            "order": null,
            "_view_module_version": "1.2.0",
            "grid_template_areas": null,
            "object_position": null,
            "object_fit": null,
            "grid_auto_columns": null,
            "margin": null,
            "display": null,
            "left": null
          }
        },
        "f92ceccd20144778987411a324fedee0": {
          "model_module": "@jupyter-widgets/controls",
          "model_name": "FloatProgressModel",
          "state": {
            "_view_name": "ProgressView",
            "style": "IPY_MODEL_cd23412264b24c7db1639e5d67617e71",
            "_dom_classes": [],
            "description": "Dl Size...: 100%",
            "_model_name": "FloatProgressModel",
            "bar_style": "success",
            "max": 1,
            "_view_module": "@jupyter-widgets/controls",
            "_model_module_version": "1.5.0",
            "value": 1,
            "_view_count": null,
            "_view_module_version": "1.5.0",
            "orientation": "horizontal",
            "min": 0,
            "description_tooltip": null,
            "_model_module": "@jupyter-widgets/controls",
            "layout": "IPY_MODEL_08995158fdfb4407abd11e907c5600ea"
          }
        },
        "f49f7993753f41d0b8cac4b77331703c": {
          "model_module": "@jupyter-widgets/controls",
          "model_name": "HTMLModel",
          "state": {
            "_view_name": "HTMLView",
            "style": "IPY_MODEL_bb4762bab4e043499b73e725789f5597",
            "_dom_classes": [],
            "description": "",
            "_model_name": "HTMLModel",
            "placeholder": "​",
            "_view_module": "@jupyter-widgets/controls",
            "_model_module_version": "1.5.0",
            "value": " 1/1 [00:00&lt;00:00,  3.81 MiB/s]",
            "_view_count": null,
            "_view_module_version": "1.5.0",
            "description_tooltip": null,
            "_model_module": "@jupyter-widgets/controls",
            "layout": "IPY_MODEL_de0780cac42b4336a70500321608259d"
          }
        },
        "cd23412264b24c7db1639e5d67617e71": {
          "model_module": "@jupyter-widgets/controls",
          "model_name": "ProgressStyleModel",
          "state": {
            "_view_name": "StyleView",
            "_model_name": "ProgressStyleModel",
            "description_width": "initial",
            "_view_module": "@jupyter-widgets/base",
            "_model_module_version": "1.5.0",
            "_view_count": null,
            "_view_module_version": "1.2.0",
            "bar_color": null,
            "_model_module": "@jupyter-widgets/controls"
          }
        },
        "08995158fdfb4407abd11e907c5600ea": {
          "model_module": "@jupyter-widgets/base",
          "model_name": "LayoutModel",
          "state": {
            "_view_name": "LayoutView",
            "grid_template_rows": null,
            "right": null,
            "justify_content": null,
            "_view_module": "@jupyter-widgets/base",
            "overflow": null,
            "_model_module_version": "1.2.0",
            "_view_count": null,
            "flex_flow": null,
            "width": null,
            "min_width": null,
            "border": null,
            "align_items": null,
            "bottom": null,
            "_model_module": "@jupyter-widgets/base",
            "top": null,
            "grid_column": null,
            "overflow_y": null,
            "overflow_x": null,
            "grid_auto_flow": null,
            "grid_area": null,
            "grid_template_columns": null,
            "flex": null,
            "_model_name": "LayoutModel",
            "justify_items": null,
            "grid_row": null,
            "max_height": null,
            "align_content": null,
            "visibility": null,
            "align_self": null,
            "height": null,
            "min_height": null,
            "padding": null,
            "grid_auto_rows": null,
            "grid_gap": null,
            "max_width": null,
            "order": null,
            "_view_module_version": "1.2.0",
            "grid_template_areas": null,
            "object_position": null,
            "object_fit": null,
            "grid_auto_columns": null,
            "margin": null,
            "display": null,
            "left": null
          }
        },
        "bb4762bab4e043499b73e725789f5597": {
          "model_module": "@jupyter-widgets/controls",
          "model_name": "DescriptionStyleModel",
          "state": {
            "_view_name": "StyleView",
            "_model_name": "DescriptionStyleModel",
            "description_width": "",
            "_view_module": "@jupyter-widgets/base",
            "_model_module_version": "1.5.0",
            "_view_count": null,
            "_view_module_version": "1.2.0",
            "_model_module": "@jupyter-widgets/controls"
          }
        },
        "de0780cac42b4336a70500321608259d": {
          "model_module": "@jupyter-widgets/base",
          "model_name": "LayoutModel",
          "state": {
            "_view_name": "LayoutView",
            "grid_template_rows": null,
            "right": null,
            "justify_content": null,
            "_view_module": "@jupyter-widgets/base",
            "overflow": null,
            "_model_module_version": "1.2.0",
            "_view_count": null,
            "flex_flow": null,
            "width": null,
            "min_width": null,
            "border": null,
            "align_items": null,
            "bottom": null,
            "_model_module": "@jupyter-widgets/base",
            "top": null,
            "grid_column": null,
            "overflow_y": null,
            "overflow_x": null,
            "grid_auto_flow": null,
            "grid_area": null,
            "grid_template_columns": null,
            "flex": null,
            "_model_name": "LayoutModel",
            "justify_items": null,
            "grid_row": null,
            "max_height": null,
            "align_content": null,
            "visibility": null,
            "align_self": null,
            "height": null,
            "min_height": null,
            "padding": null,
            "grid_auto_rows": null,
            "grid_gap": null,
            "max_width": null,
            "order": null,
            "_view_module_version": "1.2.0",
            "grid_template_areas": null,
            "object_position": null,
            "object_fit": null,
            "grid_auto_columns": null,
            "margin": null,
            "display": null,
            "left": null
          }
        },
        "43ce759c89a04f7e96f4f5f33f1168ae": {
          "model_module": "@jupyter-widgets/controls",
          "model_name": "HBoxModel",
          "state": {
            "_view_name": "HBoxView",
            "_dom_classes": [],
            "_model_name": "HBoxModel",
            "_view_module": "@jupyter-widgets/controls",
            "_model_module_version": "1.5.0",
            "_view_count": null,
            "_view_module_version": "1.5.0",
            "box_style": "",
            "layout": "IPY_MODEL_b0f00be3e8e0465e981b7c7a6bdb2082",
            "_model_module": "@jupyter-widgets/controls",
            "children": [
              "IPY_MODEL_0e99b466b1d948f2b16a806be6057d13",
              "IPY_MODEL_511a2ce2c8154eb4a73075178709358e"
            ]
          }
        },
        "b0f00be3e8e0465e981b7c7a6bdb2082": {
          "model_module": "@jupyter-widgets/base",
          "model_name": "LayoutModel",
          "state": {
            "_view_name": "LayoutView",
            "grid_template_rows": null,
            "right": null,
            "justify_content": null,
            "_view_module": "@jupyter-widgets/base",
            "overflow": null,
            "_model_module_version": "1.2.0",
            "_view_count": null,
            "flex_flow": null,
            "width": null,
            "min_width": null,
            "border": null,
            "align_items": null,
            "bottom": null,
            "_model_module": "@jupyter-widgets/base",
            "top": null,
            "grid_column": null,
            "overflow_y": null,
            "overflow_x": null,
            "grid_auto_flow": null,
            "grid_area": null,
            "grid_template_columns": null,
            "flex": null,
            "_model_name": "LayoutModel",
            "justify_items": null,
            "grid_row": null,
            "max_height": null,
            "align_content": null,
            "visibility": null,
            "align_self": null,
            "height": null,
            "min_height": null,
            "padding": null,
            "grid_auto_rows": null,
            "grid_gap": null,
            "max_width": null,
            "order": null,
            "_view_module_version": "1.2.0",
            "grid_template_areas": null,
            "object_position": null,
            "object_fit": null,
            "grid_auto_columns": null,
            "margin": null,
            "display": null,
            "left": null
          }
        },
        "0e99b466b1d948f2b16a806be6057d13": {
          "model_module": "@jupyter-widgets/controls",
          "model_name": "FloatProgressModel",
          "state": {
            "_view_name": "ProgressView",
            "style": "IPY_MODEL_41297d0d09664628a9c8a8e59e9f6a6f",
            "_dom_classes": [],
            "description": "100%",
            "_model_name": "FloatProgressModel",
            "bar_style": "",
            "max": 1,
            "_view_module": "@jupyter-widgets/controls",
            "_model_module_version": "1.5.0",
            "value": 1,
            "_view_count": null,
            "_view_module_version": "1.5.0",
            "orientation": "horizontal",
            "min": 0,
            "description_tooltip": null,
            "_model_module": "@jupyter-widgets/controls",
            "layout": "IPY_MODEL_9f3ed895f06040afbdfd24ebff9d341f"
          }
        },
        "511a2ce2c8154eb4a73075178709358e": {
          "model_module": "@jupyter-widgets/controls",
          "model_name": "HTMLModel",
          "state": {
            "_view_name": "HTMLView",
            "style": "IPY_MODEL_92ca3c34748f41cb9f9cb906c8c459b7",
            "_dom_classes": [],
            "description": "",
            "_model_name": "HTMLModel",
            "placeholder": "​",
            "_view_module": "@jupyter-widgets/controls",
            "_model_module_version": "1.5.0",
            "value": " 1/1 [00:30&lt;00:00, 30.07s/ splits]",
            "_view_count": null,
            "_view_module_version": "1.5.0",
            "description_tooltip": null,
            "_model_module": "@jupyter-widgets/controls",
            "layout": "IPY_MODEL_8d11235734d84759b858f1942da968d3"
          }
        },
        "41297d0d09664628a9c8a8e59e9f6a6f": {
          "model_module": "@jupyter-widgets/controls",
          "model_name": "ProgressStyleModel",
          "state": {
            "_view_name": "StyleView",
            "_model_name": "ProgressStyleModel",
            "description_width": "initial",
            "_view_module": "@jupyter-widgets/base",
            "_model_module_version": "1.5.0",
            "_view_count": null,
            "_view_module_version": "1.2.0",
            "bar_color": null,
            "_model_module": "@jupyter-widgets/controls"
          }
        },
        "9f3ed895f06040afbdfd24ebff9d341f": {
          "model_module": "@jupyter-widgets/base",
          "model_name": "LayoutModel",
          "state": {
            "_view_name": "LayoutView",
            "grid_template_rows": null,
            "right": null,
            "justify_content": null,
            "_view_module": "@jupyter-widgets/base",
            "overflow": null,
            "_model_module_version": "1.2.0",
            "_view_count": null,
            "flex_flow": null,
            "width": null,
            "min_width": null,
            "border": null,
            "align_items": null,
            "bottom": null,
            "_model_module": "@jupyter-widgets/base",
            "top": null,
            "grid_column": null,
            "overflow_y": null,
            "overflow_x": null,
            "grid_auto_flow": null,
            "grid_area": null,
            "grid_template_columns": null,
            "flex": null,
            "_model_name": "LayoutModel",
            "justify_items": null,
            "grid_row": null,
            "max_height": null,
            "align_content": null,
            "visibility": null,
            "align_self": null,
            "height": null,
            "min_height": null,
            "padding": null,
            "grid_auto_rows": null,
            "grid_gap": null,
            "max_width": null,
            "order": null,
            "_view_module_version": "1.2.0",
            "grid_template_areas": null,
            "object_position": null,
            "object_fit": null,
            "grid_auto_columns": null,
            "margin": null,
            "display": null,
            "left": null
          }
        },
        "92ca3c34748f41cb9f9cb906c8c459b7": {
          "model_module": "@jupyter-widgets/controls",
          "model_name": "DescriptionStyleModel",
          "state": {
            "_view_name": "StyleView",
            "_model_name": "DescriptionStyleModel",
            "description_width": "",
            "_view_module": "@jupyter-widgets/base",
            "_model_module_version": "1.5.0",
            "_view_count": null,
            "_view_module_version": "1.2.0",
            "_model_module": "@jupyter-widgets/controls"
          }
        },
        "8d11235734d84759b858f1942da968d3": {
          "model_module": "@jupyter-widgets/base",
          "model_name": "LayoutModel",
          "state": {
            "_view_name": "LayoutView",
            "grid_template_rows": null,
            "right": null,
            "justify_content": null,
            "_view_module": "@jupyter-widgets/base",
            "overflow": null,
            "_model_module_version": "1.2.0",
            "_view_count": null,
            "flex_flow": null,
            "width": null,
            "min_width": null,
            "border": null,
            "align_items": null,
            "bottom": null,
            "_model_module": "@jupyter-widgets/base",
            "top": null,
            "grid_column": null,
            "overflow_y": null,
            "overflow_x": null,
            "grid_auto_flow": null,
            "grid_area": null,
            "grid_template_columns": null,
            "flex": null,
            "_model_name": "LayoutModel",
            "justify_items": null,
            "grid_row": null,
            "max_height": null,
            "align_content": null,
            "visibility": null,
            "align_self": null,
            "height": null,
            "min_height": null,
            "padding": null,
            "grid_auto_rows": null,
            "grid_gap": null,
            "max_width": null,
            "order": null,
            "_view_module_version": "1.2.0",
            "grid_template_areas": null,
            "object_position": null,
            "object_fit": null,
            "grid_auto_columns": null,
            "margin": null,
            "display": null,
            "left": null
          }
        },
        "35faf2144d514fa0bfced9c564ed18a6": {
          "model_module": "@jupyter-widgets/controls",
          "model_name": "HBoxModel",
          "state": {
            "_view_name": "HBoxView",
            "_dom_classes": [],
            "_model_name": "HBoxModel",
            "_view_module": "@jupyter-widgets/controls",
            "_model_module_version": "1.5.0",
            "_view_count": null,
            "_view_module_version": "1.5.0",
            "box_style": "",
            "layout": "IPY_MODEL_fb55c3dfa9e546e29e67e7d3fa59365b",
            "_model_module": "@jupyter-widgets/controls",
            "children": [
              "IPY_MODEL_a5a7f760e36a49f18344ea04f2a8bf90",
              "IPY_MODEL_101a010c1aaf4f1f9a0fe76b3032e899"
            ]
          }
        },
        "fb55c3dfa9e546e29e67e7d3fa59365b": {
          "model_module": "@jupyter-widgets/base",
          "model_name": "LayoutModel",
          "state": {
            "_view_name": "LayoutView",
            "grid_template_rows": null,
            "right": null,
            "justify_content": null,
            "_view_module": "@jupyter-widgets/base",
            "overflow": null,
            "_model_module_version": "1.2.0",
            "_view_count": null,
            "flex_flow": null,
            "width": null,
            "min_width": null,
            "border": null,
            "align_items": null,
            "bottom": null,
            "_model_module": "@jupyter-widgets/base",
            "top": null,
            "grid_column": null,
            "overflow_y": null,
            "overflow_x": null,
            "grid_auto_flow": null,
            "grid_area": null,
            "grid_template_columns": null,
            "flex": null,
            "_model_name": "LayoutModel",
            "justify_items": null,
            "grid_row": null,
            "max_height": null,
            "align_content": null,
            "visibility": null,
            "align_self": null,
            "height": null,
            "min_height": null,
            "padding": null,
            "grid_auto_rows": null,
            "grid_gap": null,
            "max_width": null,
            "order": null,
            "_view_module_version": "1.2.0",
            "grid_template_areas": null,
            "object_position": null,
            "object_fit": null,
            "grid_auto_columns": null,
            "margin": null,
            "display": null,
            "left": null
          }
        },
        "a5a7f760e36a49f18344ea04f2a8bf90": {
          "model_module": "@jupyter-widgets/controls",
          "model_name": "FloatProgressModel",
          "state": {
            "_view_name": "ProgressView",
            "style": "IPY_MODEL_c7c7ee7dfe8042578cec8a65cf2233c4",
            "_dom_classes": [],
            "description": "100%",
            "_model_name": "FloatProgressModel",
            "bar_style": "",
            "max": 12573,
            "_view_module": "@jupyter-widgets/controls",
            "_model_module_version": "1.5.0",
            "value": 12573,
            "_view_count": null,
            "_view_module_version": "1.5.0",
            "orientation": "horizontal",
            "min": 0,
            "description_tooltip": null,
            "_model_module": "@jupyter-widgets/controls",
            "layout": "IPY_MODEL_d8e1602c400f4100a8222ae768a8881f"
          }
        },
        "101a010c1aaf4f1f9a0fe76b3032e899": {
          "model_module": "@jupyter-widgets/controls",
          "model_name": "HTMLModel",
          "state": {
            "_view_name": "HTMLView",
            "style": "IPY_MODEL_f155cb8dd4de491ea7c92447f7733395",
            "_dom_classes": [],
            "description": "",
            "_model_name": "HTMLModel",
            "placeholder": "​",
            "_view_module": "@jupyter-widgets/controls",
            "_model_module_version": "1.5.0",
            "value": " 12573/12573 [00:29&lt;00:00, 409.14 examples/s]",
            "_view_count": null,
            "_view_module_version": "1.5.0",
            "description_tooltip": null,
            "_model_module": "@jupyter-widgets/controls",
            "layout": "IPY_MODEL_4f6ef0d5a3ae4656b7585e818a359e8b"
          }
        },
        "c7c7ee7dfe8042578cec8a65cf2233c4": {
          "model_module": "@jupyter-widgets/controls",
          "model_name": "ProgressStyleModel",
          "state": {
            "_view_name": "StyleView",
            "_model_name": "ProgressStyleModel",
            "description_width": "initial",
            "_view_module": "@jupyter-widgets/base",
            "_model_module_version": "1.5.0",
            "_view_count": null,
            "_view_module_version": "1.2.0",
            "bar_color": null,
            "_model_module": "@jupyter-widgets/controls"
          }
        },
        "d8e1602c400f4100a8222ae768a8881f": {
          "model_module": "@jupyter-widgets/base",
          "model_name": "LayoutModel",
          "state": {
            "_view_name": "LayoutView",
            "grid_template_rows": null,
            "right": null,
            "justify_content": null,
            "_view_module": "@jupyter-widgets/base",
            "overflow": null,
            "_model_module_version": "1.2.0",
            "_view_count": null,
            "flex_flow": null,
            "width": null,
            "min_width": null,
            "border": null,
            "align_items": null,
            "bottom": null,
            "_model_module": "@jupyter-widgets/base",
            "top": null,
            "grid_column": null,
            "overflow_y": null,
            "overflow_x": null,
            "grid_auto_flow": null,
            "grid_area": null,
            "grid_template_columns": null,
            "flex": null,
            "_model_name": "LayoutModel",
            "justify_items": null,
            "grid_row": null,
            "max_height": null,
            "align_content": null,
            "visibility": null,
            "align_self": null,
            "height": null,
            "min_height": null,
            "padding": null,
            "grid_auto_rows": null,
            "grid_gap": null,
            "max_width": null,
            "order": null,
            "_view_module_version": "1.2.0",
            "grid_template_areas": null,
            "object_position": null,
            "object_fit": null,
            "grid_auto_columns": null,
            "margin": null,
            "display": null,
            "left": null
          }
        },
        "f155cb8dd4de491ea7c92447f7733395": {
          "model_module": "@jupyter-widgets/controls",
          "model_name": "DescriptionStyleModel",
          "state": {
            "_view_name": "StyleView",
            "_model_name": "DescriptionStyleModel",
            "description_width": "",
            "_view_module": "@jupyter-widgets/base",
            "_model_module_version": "1.5.0",
            "_view_count": null,
            "_view_module_version": "1.2.0",
            "_model_module": "@jupyter-widgets/controls"
          }
        },
        "4f6ef0d5a3ae4656b7585e818a359e8b": {
          "model_module": "@jupyter-widgets/base",
          "model_name": "LayoutModel",
          "state": {
            "_view_name": "LayoutView",
            "grid_template_rows": null,
            "right": null,
            "justify_content": null,
            "_view_module": "@jupyter-widgets/base",
            "overflow": null,
            "_model_module_version": "1.2.0",
            "_view_count": null,
            "flex_flow": null,
            "width": null,
            "min_width": null,
            "border": null,
            "align_items": null,
            "bottom": null,
            "_model_module": "@jupyter-widgets/base",
            "top": null,
            "grid_column": null,
            "overflow_y": null,
            "overflow_x": null,
            "grid_auto_flow": null,
            "grid_area": null,
            "grid_template_columns": null,
            "flex": null,
            "_model_name": "LayoutModel",
            "justify_items": null,
            "grid_row": null,
            "max_height": null,
            "align_content": null,
            "visibility": null,
            "align_self": null,
            "height": null,
            "min_height": null,
            "padding": null,
            "grid_auto_rows": null,
            "grid_gap": null,
            "max_width": null,
            "order": null,
            "_view_module_version": "1.2.0",
            "grid_template_areas": null,
            "object_position": null,
            "object_fit": null,
            "grid_auto_columns": null,
            "margin": null,
            "display": null,
            "left": null
          }
        },
        "3e606bffa5ae4c05b10d3cb64a94cba1": {
          "model_module": "@jupyter-widgets/controls",
          "model_name": "HBoxModel",
          "state": {
            "_view_name": "HBoxView",
            "_dom_classes": [],
            "_model_name": "HBoxModel",
            "_view_module": "@jupyter-widgets/controls",
            "_model_module_version": "1.5.0",
            "_view_count": null,
            "_view_module_version": "1.5.0",
            "box_style": "",
            "layout": "IPY_MODEL_3540998a707f41908ed34c8a77eb9276",
            "_model_module": "@jupyter-widgets/controls",
            "children": [
              "IPY_MODEL_e0d66940a7d34b2ab880925bf982cf30",
              "IPY_MODEL_b4cb96538eb44cb599bd514e9f7e332b"
            ]
          }
        },
        "3540998a707f41908ed34c8a77eb9276": {
          "model_module": "@jupyter-widgets/base",
          "model_name": "LayoutModel",
          "state": {
            "_view_name": "LayoutView",
            "grid_template_rows": null,
            "right": null,
            "justify_content": null,
            "_view_module": "@jupyter-widgets/base",
            "overflow": null,
            "_model_module_version": "1.2.0",
            "_view_count": null,
            "flex_flow": null,
            "width": null,
            "min_width": null,
            "border": null,
            "align_items": null,
            "bottom": null,
            "_model_module": "@jupyter-widgets/base",
            "top": null,
            "grid_column": null,
            "overflow_y": null,
            "overflow_x": null,
            "grid_auto_flow": null,
            "grid_area": null,
            "grid_template_columns": null,
            "flex": null,
            "_model_name": "LayoutModel",
            "justify_items": null,
            "grid_row": null,
            "max_height": null,
            "align_content": null,
            "visibility": null,
            "align_self": null,
            "height": null,
            "min_height": null,
            "padding": null,
            "grid_auto_rows": null,
            "grid_gap": null,
            "max_width": null,
            "order": null,
            "_view_module_version": "1.2.0",
            "grid_template_areas": null,
            "object_position": null,
            "object_fit": null,
            "grid_auto_columns": null,
            "margin": null,
            "display": null,
            "left": null
          }
        },
        "e0d66940a7d34b2ab880925bf982cf30": {
          "model_module": "@jupyter-widgets/controls",
          "model_name": "FloatProgressModel",
          "state": {
            "_view_name": "ProgressView",
            "style": "IPY_MODEL_2ab95372deb94fa081bfc6c0b991a040",
            "_dom_classes": [],
            "description": " 24%",
            "_model_name": "FloatProgressModel",
            "bar_style": "danger",
            "max": 12573,
            "_view_module": "@jupyter-widgets/controls",
            "_model_module_version": "1.5.0",
            "value": 3067,
            "_view_count": null,
            "_view_module_version": "1.5.0",
            "orientation": "horizontal",
            "min": 0,
            "description_tooltip": null,
            "_model_module": "@jupyter-widgets/controls",
            "layout": "IPY_MODEL_cff38481e635478db422805b563f099d"
          }
        },
        "b4cb96538eb44cb599bd514e9f7e332b": {
          "model_module": "@jupyter-widgets/controls",
          "model_name": "HTMLModel",
          "state": {
            "_view_name": "HTMLView",
            "style": "IPY_MODEL_57d3a8102194469ebcc90d777299ff30",
            "_dom_classes": [],
            "description": "",
            "_model_name": "HTMLModel",
            "placeholder": "​",
            "_view_module": "@jupyter-widgets/controls",
            "_model_module_version": "1.5.0",
            "value": " 3067/12573 [5:57:07&lt;00:00, 30667.18 examples/s]",
            "_view_count": null,
            "_view_module_version": "1.5.0",
            "description_tooltip": null,
            "_model_module": "@jupyter-widgets/controls",
            "layout": "IPY_MODEL_971efc2587334204a23e0a64a6400f53"
          }
        },
        "2ab95372deb94fa081bfc6c0b991a040": {
          "model_module": "@jupyter-widgets/controls",
          "model_name": "ProgressStyleModel",
          "state": {
            "_view_name": "StyleView",
            "_model_name": "ProgressStyleModel",
            "description_width": "initial",
            "_view_module": "@jupyter-widgets/base",
            "_model_module_version": "1.5.0",
            "_view_count": null,
            "_view_module_version": "1.2.0",
            "bar_color": null,
            "_model_module": "@jupyter-widgets/controls"
          }
        },
        "cff38481e635478db422805b563f099d": {
          "model_module": "@jupyter-widgets/base",
          "model_name": "LayoutModel",
          "state": {
            "_view_name": "LayoutView",
            "grid_template_rows": null,
            "right": null,
            "justify_content": null,
            "_view_module": "@jupyter-widgets/base",
            "overflow": null,
            "_model_module_version": "1.2.0",
            "_view_count": null,
            "flex_flow": null,
            "width": null,
            "min_width": null,
            "border": null,
            "align_items": null,
            "bottom": null,
            "_model_module": "@jupyter-widgets/base",
            "top": null,
            "grid_column": null,
            "overflow_y": null,
            "overflow_x": null,
            "grid_auto_flow": null,
            "grid_area": null,
            "grid_template_columns": null,
            "flex": null,
            "_model_name": "LayoutModel",
            "justify_items": null,
            "grid_row": null,
            "max_height": null,
            "align_content": null,
            "visibility": null,
            "align_self": null,
            "height": null,
            "min_height": null,
            "padding": null,
            "grid_auto_rows": null,
            "grid_gap": null,
            "max_width": null,
            "order": null,
            "_view_module_version": "1.2.0",
            "grid_template_areas": null,
            "object_position": null,
            "object_fit": null,
            "grid_auto_columns": null,
            "margin": null,
            "display": null,
            "left": null
          }
        },
        "57d3a8102194469ebcc90d777299ff30": {
          "model_module": "@jupyter-widgets/controls",
          "model_name": "DescriptionStyleModel",
          "state": {
            "_view_name": "StyleView",
            "_model_name": "DescriptionStyleModel",
            "description_width": "",
            "_view_module": "@jupyter-widgets/base",
            "_model_module_version": "1.5.0",
            "_view_count": null,
            "_view_module_version": "1.2.0",
            "_model_module": "@jupyter-widgets/controls"
          }
        },
        "971efc2587334204a23e0a64a6400f53": {
          "model_module": "@jupyter-widgets/base",
          "model_name": "LayoutModel",
          "state": {
            "_view_name": "LayoutView",
            "grid_template_rows": null,
            "right": null,
            "justify_content": null,
            "_view_module": "@jupyter-widgets/base",
            "overflow": null,
            "_model_module_version": "1.2.0",
            "_view_count": null,
            "flex_flow": null,
            "width": null,
            "min_width": null,
            "border": null,
            "align_items": null,
            "bottom": null,
            "_model_module": "@jupyter-widgets/base",
            "top": null,
            "grid_column": null,
            "overflow_y": null,
            "overflow_x": null,
            "grid_auto_flow": null,
            "grid_area": null,
            "grid_template_columns": null,
            "flex": null,
            "_model_name": "LayoutModel",
            "justify_items": null,
            "grid_row": null,
            "max_height": null,
            "align_content": null,
            "visibility": null,
            "align_self": null,
            "height": null,
            "min_height": null,
            "padding": null,
            "grid_auto_rows": null,
            "grid_gap": null,
            "max_width": null,
            "order": null,
            "_view_module_version": "1.2.0",
            "grid_template_areas": null,
            "object_position": null,
            "object_fit": null,
            "grid_auto_columns": null,
            "margin": null,
            "display": null,
            "left": null
          }
        },
        "8c7d09ab9a744a2aba335457bdc30a40": {
          "model_module": "@jupyter-widgets/controls",
          "model_name": "HBoxModel",
          "state": {
            "_view_name": "HBoxView",
            "_dom_classes": [],
            "_model_name": "HBoxModel",
            "_view_module": "@jupyter-widgets/controls",
            "_model_module_version": "1.5.0",
            "_view_count": null,
            "_view_module_version": "1.5.0",
            "box_style": "",
            "layout": "IPY_MODEL_1bb017fe8fa146c5b64b18a0535466cf",
            "_model_module": "@jupyter-widgets/controls",
            "children": [
              "IPY_MODEL_e2c4e5ed34644de2bcd7a2d2d4cb9dc8",
              "IPY_MODEL_80b8f65b320c4d7cbe6c80ea65acfbc1"
            ]
          }
        },
        "1bb017fe8fa146c5b64b18a0535466cf": {
          "model_module": "@jupyter-widgets/base",
          "model_name": "LayoutModel",
          "state": {
            "_view_name": "LayoutView",
            "grid_template_rows": null,
            "right": null,
            "justify_content": null,
            "_view_module": "@jupyter-widgets/base",
            "overflow": null,
            "_model_module_version": "1.2.0",
            "_view_count": null,
            "flex_flow": null,
            "width": null,
            "min_width": null,
            "border": null,
            "align_items": null,
            "bottom": null,
            "_model_module": "@jupyter-widgets/base",
            "top": null,
            "grid_column": null,
            "overflow_y": null,
            "overflow_x": null,
            "grid_auto_flow": null,
            "grid_area": null,
            "grid_template_columns": null,
            "flex": null,
            "_model_name": "LayoutModel",
            "justify_items": null,
            "grid_row": null,
            "max_height": null,
            "align_content": null,
            "visibility": null,
            "align_self": null,
            "height": null,
            "min_height": null,
            "padding": null,
            "grid_auto_rows": null,
            "grid_gap": null,
            "max_width": null,
            "order": null,
            "_view_module_version": "1.2.0",
            "grid_template_areas": null,
            "object_position": null,
            "object_fit": null,
            "grid_auto_columns": null,
            "margin": null,
            "display": null,
            "left": null
          }
        },
        "e2c4e5ed34644de2bcd7a2d2d4cb9dc8": {
          "model_module": "@jupyter-widgets/controls",
          "model_name": "FloatProgressModel",
          "state": {
            "_view_name": "ProgressView",
            "style": "IPY_MODEL_1e67cb98e0d74a1c88f064ef612d8170",
            "_dom_classes": [],
            "description": "Optimization Progress:   9%",
            "_model_name": "FloatProgressModel",
            "bar_style": "danger",
            "max": 10100,
            "_view_module": "@jupyter-widgets/controls",
            "_model_module_version": "1.5.0",
            "value": 922,
            "_view_count": null,
            "_view_module_version": "1.5.0",
            "orientation": "horizontal",
            "min": 0,
            "description_tooltip": null,
            "_model_module": "@jupyter-widgets/controls",
            "layout": "IPY_MODEL_194d1cedae68436e9a7af8c98639858f"
          }
        },
        "80b8f65b320c4d7cbe6c80ea65acfbc1": {
          "model_module": "@jupyter-widgets/controls",
          "model_name": "HTMLModel",
          "state": {
            "_view_name": "HTMLView",
            "style": "IPY_MODEL_3f5a0a113235431fbce22f62bbdfe044",
            "_dom_classes": [],
            "description": "",
            "_model_name": "HTMLModel",
            "placeholder": "​",
            "_view_module": "@jupyter-widgets/controls",
            "_model_module_version": "1.5.0",
            "value": " 922/10100 [5:56:48&lt;72:16:10, 28.35s/pipeline]",
            "_view_count": null,
            "_view_module_version": "1.5.0",
            "description_tooltip": null,
            "_model_module": "@jupyter-widgets/controls",
            "layout": "IPY_MODEL_f39b3f29aa5745fd8ef09a0fe9896eff"
          }
        },
        "1e67cb98e0d74a1c88f064ef612d8170": {
          "model_module": "@jupyter-widgets/controls",
          "model_name": "ProgressStyleModel",
          "state": {
            "_view_name": "StyleView",
            "_model_name": "ProgressStyleModel",
            "description_width": "initial",
            "_view_module": "@jupyter-widgets/base",
            "_model_module_version": "1.5.0",
            "_view_count": null,
            "_view_module_version": "1.2.0",
            "bar_color": null,
            "_model_module": "@jupyter-widgets/controls"
          }
        },
        "194d1cedae68436e9a7af8c98639858f": {
          "model_module": "@jupyter-widgets/base",
          "model_name": "LayoutModel",
          "state": {
            "_view_name": "LayoutView",
            "grid_template_rows": null,
            "right": null,
            "justify_content": null,
            "_view_module": "@jupyter-widgets/base",
            "overflow": null,
            "_model_module_version": "1.2.0",
            "_view_count": null,
            "flex_flow": null,
            "width": null,
            "min_width": null,
            "border": null,
            "align_items": null,
            "bottom": null,
            "_model_module": "@jupyter-widgets/base",
            "top": null,
            "grid_column": null,
            "overflow_y": null,
            "overflow_x": null,
            "grid_auto_flow": null,
            "grid_area": null,
            "grid_template_columns": null,
            "flex": null,
            "_model_name": "LayoutModel",
            "justify_items": null,
            "grid_row": null,
            "max_height": null,
            "align_content": null,
            "visibility": null,
            "align_self": null,
            "height": null,
            "min_height": null,
            "padding": null,
            "grid_auto_rows": null,
            "grid_gap": null,
            "max_width": null,
            "order": null,
            "_view_module_version": "1.2.0",
            "grid_template_areas": null,
            "object_position": null,
            "object_fit": null,
            "grid_auto_columns": null,
            "margin": null,
            "display": null,
            "left": null
          }
        },
        "3f5a0a113235431fbce22f62bbdfe044": {
          "model_module": "@jupyter-widgets/controls",
          "model_name": "DescriptionStyleModel",
          "state": {
            "_view_name": "StyleView",
            "_model_name": "DescriptionStyleModel",
            "description_width": "",
            "_view_module": "@jupyter-widgets/base",
            "_model_module_version": "1.5.0",
            "_view_count": null,
            "_view_module_version": "1.2.0",
            "_model_module": "@jupyter-widgets/controls"
          }
        },
        "f39b3f29aa5745fd8ef09a0fe9896eff": {
          "model_module": "@jupyter-widgets/base",
          "model_name": "LayoutModel",
          "state": {
            "_view_name": "LayoutView",
            "grid_template_rows": null,
            "right": null,
            "justify_content": null,
            "_view_module": "@jupyter-widgets/base",
            "overflow": null,
            "_model_module_version": "1.2.0",
            "_view_count": null,
            "flex_flow": null,
            "width": null,
            "min_width": null,
            "border": null,
            "align_items": null,
            "bottom": null,
            "_model_module": "@jupyter-widgets/base",
            "top": null,
            "grid_column": null,
            "overflow_y": null,
            "overflow_x": null,
            "grid_auto_flow": null,
            "grid_area": null,
            "grid_template_columns": null,
            "flex": null,
            "_model_name": "LayoutModel",
            "justify_items": null,
            "grid_row": null,
            "max_height": null,
            "align_content": null,
            "visibility": null,
            "align_self": null,
            "height": null,
            "min_height": null,
            "padding": null,
            "grid_auto_rows": null,
            "grid_gap": null,
            "max_width": null,
            "order": null,
            "_view_module_version": "1.2.0",
            "grid_template_areas": null,
            "object_position": null,
            "object_fit": null,
            "grid_auto_columns": null,
            "margin": null,
            "display": null,
            "left": null
          }
        }
      }
    }
  },
  "cells": [
    {
      "cell_type": "markdown",
      "metadata": {
        "id": "view-in-github",
        "colab_type": "text"
      },
      "source": [
        "<a href=\"https://colab.research.google.com/github/Itsuki-Hamano123/auto_ml/blob/master/TPOT/radon_regressor_drop_country.ipynb\" target=\"_parent\"><img src=\"https://colab.research.google.com/assets/colab-badge.svg\" alt=\"Open In Colab\"/></a>"
      ]
    },
    {
      "cell_type": "code",
      "metadata": {
        "id": "l6-xjloXHExj",
        "colab": {
          "base_uri": "https://localhost:8080/"
        },
        "outputId": "40d5716b-c43c-46ed-c07e-6ac4052ca285"
      },
      "source": [
        "%pip install -q tfds-nightly tensorflow matplotlib tpot\n",
        "%pip show tpot"
      ],
      "execution_count": 1,
      "outputs": [
        {
          "output_type": "stream",
          "text": [
            "\u001b[K     |████████████████████████████████| 3.7MB 5.5MB/s \n",
            "\u001b[K     |████████████████████████████████| 92kB 9.0MB/s \n",
            "\u001b[K     |████████████████████████████████| 163kB 39.7MB/s \n",
            "\u001b[?25h  Building wheel for stopit (setup.py) ... \u001b[?25l\u001b[?25hdone\n",
            "Name: TPOT\n",
            "Version: 0.11.6.post1\n",
            "Summary: Tree-based Pipeline Optimization Tool\n",
            "Home-page: https://github.com/EpistasisLab/tpot\n",
            "Author: Randal S. Olson\n",
            "Author-email: rso@randalolson.com\n",
            "License: GNU/LGPLv3\n",
            "Location: /usr/local/lib/python3.6/dist-packages\n",
            "Requires: deap, scipy, tqdm, numpy, stopit, update-checker, pandas, joblib, scikit-learn\n",
            "Required-by: \n"
          ],
          "name": "stdout"
        }
      ]
    },
    {
      "cell_type": "code",
      "metadata": {
        "id": "83xkk0znHJQR"
      },
      "source": [
        "import cloudpickle\n",
        "import datetime\n",
        "import os\n",
        "import pprint\n",
        "\n",
        "import numpy as np\n",
        "import pandas as pd\n",
        "\n",
        "from sklearn.model_selection import train_test_split\n",
        "from sklearn.metrics import explained_variance_score, mean_squared_error, r2_score\n",
        "from sklearn.preprocessing import MultiLabelBinarizer\n",
        "import tensorflow_datasets as tfds\n",
        "from tpot import TPOTRegressor\n",
        "import xgboost"
      ],
      "execution_count": 2,
      "outputs": []
    },
    {
      "cell_type": "markdown",
      "metadata": {
        "id": "Dc0B0jOLn-oS"
      },
      "source": [
        "## データセット読み込み\n",
        "- radonデータセット[https://www.tensorflow.org/datasets/catalog/radon](https://www.tensorflow.org/datasets/catalog/radon)"
      ]
    },
    {
      "cell_type": "code",
      "metadata": {
        "id": "408E4QO-H1QO",
        "colab": {
          "base_uri": "https://localhost:8080/",
          "height": 1000,
          "referenced_widgets": [
            "429333be5f0047d7b77a750f3a97d4bc",
            "9872c662df1743de8890fcbbd67217a1",
            "ee7106e487d447fc830a5756dce7d5ba",
            "91d4c414461e4fe3ad6caad0a2ffda04",
            "3ee32344095440a680833254fe02d659",
            "610667ab9cdd46f49feafa5cb1f7b7ed",
            "91be54faf3194519af6c44126a7cbdc3",
            "2a48e117eeb24b418fe352d5ed8b5f3a",
            "89fe9a6380204546869a2a1bfa7f2f8f",
            "d93f14b9bc9949cab6e8c4e62a1cb29e",
            "f92ceccd20144778987411a324fedee0",
            "f49f7993753f41d0b8cac4b77331703c",
            "cd23412264b24c7db1639e5d67617e71",
            "08995158fdfb4407abd11e907c5600ea",
            "bb4762bab4e043499b73e725789f5597",
            "de0780cac42b4336a70500321608259d",
            "43ce759c89a04f7e96f4f5f33f1168ae",
            "b0f00be3e8e0465e981b7c7a6bdb2082",
            "0e99b466b1d948f2b16a806be6057d13",
            "511a2ce2c8154eb4a73075178709358e",
            "41297d0d09664628a9c8a8e59e9f6a6f",
            "9f3ed895f06040afbdfd24ebff9d341f",
            "92ca3c34748f41cb9f9cb906c8c459b7",
            "8d11235734d84759b858f1942da968d3",
            "35faf2144d514fa0bfced9c564ed18a6",
            "fb55c3dfa9e546e29e67e7d3fa59365b",
            "a5a7f760e36a49f18344ea04f2a8bf90",
            "101a010c1aaf4f1f9a0fe76b3032e899",
            "c7c7ee7dfe8042578cec8a65cf2233c4",
            "d8e1602c400f4100a8222ae768a8881f",
            "f155cb8dd4de491ea7c92447f7733395",
            "4f6ef0d5a3ae4656b7585e818a359e8b",
            "3e606bffa5ae4c05b10d3cb64a94cba1",
            "3540998a707f41908ed34c8a77eb9276",
            "e0d66940a7d34b2ab880925bf982cf30",
            "b4cb96538eb44cb599bd514e9f7e332b",
            "2ab95372deb94fa081bfc6c0b991a040",
            "cff38481e635478db422805b563f099d",
            "57d3a8102194469ebcc90d777299ff30",
            "971efc2587334204a23e0a64a6400f53"
          ]
        },
        "outputId": "6a9b41ec-dc53-4ecc-a950-3869c6b1ca70"
      },
      "source": [
        "def fetch_tf_dataset(data_name, \n",
        "                     split='train',\n",
        "                     shuffle_files=True, as_supervised=True,\n",
        "                     with_info=True, batch_size=None):\n",
        "  '''TensorFlowデータセットからデータをフェッチ'''\n",
        "  dataset, data_info = tfds.load(data_name, split=split,\n",
        "                                  shuffle_files=shuffle_files,\n",
        "                                  as_supervised=as_supervised,\n",
        "                                  with_info=with_info,\n",
        "                                  batch_size=batch_size)\n",
        "  return dataset, data_info\n",
        "  \n",
        "\n",
        "\n",
        "data_name = 'radon' # @param{type:'string'}\n",
        "x_name = 'features' # @param{type:'string'}\n",
        "y_name = 'activity' # @param{type:'string'}\n",
        "# インメモリでデータを読み込む\n",
        "# TPOTがdatasetV1Adapter,generatorを受け付けないため\n",
        "batch_size = -1\n",
        "\n",
        "# データのフェッチ\n",
        "tf_dataset, ds_info = fetch_tf_dataset(data_name=data_name,\n",
        "                                     as_supervised=False,\n",
        "                                     batch_size=batch_size)\n",
        "\n",
        "display(ds_info)"
      ],
      "execution_count": 3,
      "outputs": [
        {
          "output_type": "stream",
          "text": [
            "\u001b[1mDownloading and preparing dataset radon/1.0.0 (download: 1.71 MiB, generated: 9.15 MiB, total: 10.86 MiB) to /root/tensorflow_datasets/radon/1.0.0...\u001b[0m\n"
          ],
          "name": "stdout"
        },
        {
          "output_type": "display_data",
          "data": {
            "application/vnd.jupyter.widget-view+json": {
              "model_id": "429333be5f0047d7b77a750f3a97d4bc",
              "version_minor": 0,
              "version_major": 2
            },
            "text/plain": [
              "HBox(children=(FloatProgress(value=1.0, bar_style='info', description='Dl Completed...', max=1.0, style=Progre…"
            ]
          },
          "metadata": {
            "tags": []
          }
        },
        {
          "output_type": "display_data",
          "data": {
            "application/vnd.jupyter.widget-view+json": {
              "model_id": "89fe9a6380204546869a2a1bfa7f2f8f",
              "version_minor": 0,
              "version_major": 2
            },
            "text/plain": [
              "HBox(children=(FloatProgress(value=1.0, bar_style='info', description='Dl Size...', max=1.0, style=ProgressSty…"
            ]
          },
          "metadata": {
            "tags": []
          }
        },
        {
          "output_type": "stream",
          "text": [
            "\n",
            "\n",
            "\n",
            "\n"
          ],
          "name": "stdout"
        },
        {
          "output_type": "display_data",
          "data": {
            "application/vnd.jupyter.widget-view+json": {
              "model_id": "43ce759c89a04f7e96f4f5f33f1168ae",
              "version_minor": 0,
              "version_major": 2
            },
            "text/plain": [
              "HBox(children=(FloatProgress(value=0.0, max=1.0), HTML(value='')))"
            ]
          },
          "metadata": {
            "tags": []
          }
        },
        {
          "output_type": "display_data",
          "data": {
            "application/vnd.jupyter.widget-view+json": {
              "model_id": "35faf2144d514fa0bfced9c564ed18a6",
              "version_minor": 0,
              "version_major": 2
            },
            "text/plain": [
              "HBox(children=(FloatProgress(value=0.0, max=12573.0), HTML(value='')))"
            ]
          },
          "metadata": {
            "tags": []
          }
        },
        {
          "output_type": "stream",
          "text": [
            "Shuffling and writing examples to /root/tensorflow_datasets/radon/1.0.0.incompleteHG26IV/radon-train.tfrecord\n"
          ],
          "name": "stdout"
        },
        {
          "output_type": "display_data",
          "data": {
            "application/vnd.jupyter.widget-view+json": {
              "model_id": "3e606bffa5ae4c05b10d3cb64a94cba1",
              "version_minor": 0,
              "version_major": 2
            },
            "text/plain": [
              "HBox(children=(FloatProgress(value=0.0, max=12573.0), HTML(value='')))"
            ]
          },
          "metadata": {
            "tags": []
          }
        },
        {
          "output_type": "stream",
          "text": [
            "\r\u001b[1mDataset radon downloaded and prepared to /root/tensorflow_datasets/radon/1.0.0. Subsequent calls will reuse this data.\u001b[0m\n"
          ],
          "name": "stdout"
        },
        {
          "output_type": "display_data",
          "data": {
            "text/plain": [
              "tfds.core.DatasetInfo(\n",
              "    name='radon',\n",
              "    version=1.0.0,\n",
              "    description='Radon is a radioactive gas that enters homes through contact\n",
              "points with the ground. It is a carcinogen that is the primary cause of lung\n",
              "cancer in non-smokers. Radon levels vary greatly from household to household.\n",
              "This dataset contains measured radon levels in U.S homes by county and state.\n",
              "The 'activity' label is the measured radon concentration in pCi/L. Important\n",
              "predictors are 'floor' (the floor of the house in which the measurement was\n",
              "taken), 'county' (the U.S. county in which the house is located), and 'Uppm' (a\n",
              "measurement of uranium level of the soil by county).',\n",
              "    homepage='http://www.stat.columbia.edu/~gelman/arm/examples/radon/',\n",
              "    features=FeaturesDict({\n",
              "        'activity': tf.float32,\n",
              "        'features': FeaturesDict({\n",
              "            'Uppm': tf.float32,\n",
              "            'adjwt': tf.float32,\n",
              "            'basement': tf.string,\n",
              "            'cntyfips': tf.int32,\n",
              "            'county': tf.string,\n",
              "            'dupflag': tf.int32,\n",
              "            'floor': tf.int32,\n",
              "            'idnum': tf.int32,\n",
              "            'lat': tf.float32,\n",
              "            'lon': tf.float32,\n",
              "            'pcterr': tf.float32,\n",
              "            'region': tf.int32,\n",
              "            'rep': tf.int32,\n",
              "            'room': tf.int32,\n",
              "            'startdt': tf.int32,\n",
              "            'starttm': tf.int32,\n",
              "            'state': tf.string,\n",
              "            'state2': tf.string,\n",
              "            'stfips': tf.int32,\n",
              "            'stopdt': tf.int32,\n",
              "            'stoptm': tf.int32,\n",
              "            'stratum': tf.int32,\n",
              "            'typebldg': tf.int32,\n",
              "            'wave': tf.int32,\n",
              "            'windoor': tf.string,\n",
              "            'zip': tf.int32,\n",
              "            'zipflag': tf.int32,\n",
              "        }),\n",
              "    }),\n",
              "    total_num_examples=12573,\n",
              "    splits={\n",
              "        'train': 12573,\n",
              "    },\n",
              "    supervised_keys=('features', 'activity'),\n",
              "    citation=\"\"\"@book{GelmanHill:2007,\n",
              "      author = {Gelman, Andrew and Hill, Jennifer},\n",
              "      title = {Data Analysis Using Regression and Multilevel/Hierarchical Models},\n",
              "      publisher = {Cambridge University Press},\n",
              "      series = {Analytical methods for social research},\n",
              "      year = 2007\n",
              "    }\"\"\",\n",
              "    redistribution_info=,\n",
              ")"
            ]
          },
          "metadata": {
            "tags": []
          }
        }
      ]
    },
    {
      "cell_type": "markdown",
      "metadata": {
        "id": "Q_hlNPnGoFa2"
      },
      "source": [
        "### Dataframeに変換\n",
        "TPOTがTFDS形式を受け付けないため"
      ]
    },
    {
      "cell_type": "code",
      "metadata": {
        "id": "k6gOA-v6T7Cr",
        "colab": {
          "base_uri": "https://localhost:8080/",
          "height": 328
        },
        "outputId": "afdd2417-7e93-4b92-b5eb-c5269a4de977"
      },
      "source": [
        "%%time\n",
        "\n",
        "def convert_tfds_to_df(tf_ds, x_key, y_key):\n",
        "  '''tf DatasetをDataframeに変換'''\n",
        "  \n",
        "  # yについて{key:numpy}形式のdictに変換\n",
        "  y = {}\n",
        "  y[y_key] = tf_ds[y_key].numpy()\n",
        "\n",
        "  # xについて[{key:numpy},{key:numpy},,,]形式のdictに変換\n",
        "  x = {}\n",
        "  for f_key, element in tf_ds[x_key].items():\n",
        "    if element.dtype == 'string':\n",
        "      x[f_key] = _convert_byte_np_to_string_np(bytes_np=element.numpy())\n",
        "    else:\n",
        "      x[f_key] = element.numpy()\n",
        "  \n",
        "  y_df = pd.DataFrame.from_dict(y)\n",
        "  x_df = pd.DataFrame.from_dict(x)\n",
        "  df = pd.concat([y_df, x_df], axis=1)\n",
        "\n",
        "  return df\n",
        "\n",
        "\n",
        "def _convert_byte_np_to_string_np(bytes_np, decode_char='utf-8'):\n",
        "  '''バイナリ文字列形式のnumpy配列を文字列形式のnumpy配列に変換'''\n",
        "  decode_np = np.array([])\n",
        "  for b in bytes_np:\n",
        "    decode_np = np.append(decode_np, b.decode(decode_char))\n",
        "  decode_np = decode_np.astype('object')\n",
        "  return decode_np\n",
        "\n",
        "\n",
        "# tf datasetからDataframeに変換\n",
        "dataset = convert_tfds_to_df(tf_dataset, x_key=x_name, y_key=y_name)\n",
        "\n",
        "\n",
        "display(dataset.head())\n",
        "display(dataset.shape)\n",
        "\n",
        "\n",
        "# カラム名の設定\n",
        "y_col = y_name\n",
        "x_cols = dataset.drop(columns=y_col).columns\n",
        "\n",
        "display('y_col:{}'.format(y_col))\n",
        "display('x_cols num:{}, names:{}'.format(len(x_cols), x_cols))"
      ],
      "execution_count": 4,
      "outputs": [
        {
          "output_type": "display_data",
          "data": {
            "text/html": [
              "<div>\n",
              "<style scoped>\n",
              "    .dataframe tbody tr th:only-of-type {\n",
              "        vertical-align: middle;\n",
              "    }\n",
              "\n",
              "    .dataframe tbody tr th {\n",
              "        vertical-align: top;\n",
              "    }\n",
              "\n",
              "    .dataframe thead th {\n",
              "        text-align: right;\n",
              "    }\n",
              "</style>\n",
              "<table border=\"1\" class=\"dataframe\">\n",
              "  <thead>\n",
              "    <tr style=\"text-align: right;\">\n",
              "      <th></th>\n",
              "      <th>activity</th>\n",
              "      <th>Uppm</th>\n",
              "      <th>adjwt</th>\n",
              "      <th>basement</th>\n",
              "      <th>cntyfips</th>\n",
              "      <th>county</th>\n",
              "      <th>dupflag</th>\n",
              "      <th>floor</th>\n",
              "      <th>idnum</th>\n",
              "      <th>lat</th>\n",
              "      <th>lon</th>\n",
              "      <th>pcterr</th>\n",
              "      <th>region</th>\n",
              "      <th>rep</th>\n",
              "      <th>room</th>\n",
              "      <th>startdt</th>\n",
              "      <th>starttm</th>\n",
              "      <th>state</th>\n",
              "      <th>state2</th>\n",
              "      <th>stfips</th>\n",
              "      <th>stopdt</th>\n",
              "      <th>stoptm</th>\n",
              "      <th>stratum</th>\n",
              "      <th>typebldg</th>\n",
              "      <th>wave</th>\n",
              "      <th>windoor</th>\n",
              "      <th>zip</th>\n",
              "      <th>zipflag</th>\n",
              "    </tr>\n",
              "  </thead>\n",
              "  <tbody>\n",
              "    <tr>\n",
              "      <th>0</th>\n",
              "      <td>1.6</td>\n",
              "      <td>2.49759</td>\n",
              "      <td>292.219543</td>\n",
              "      <td>N</td>\n",
              "      <td>3</td>\n",
              "      <td>ALLEN</td>\n",
              "      <td>0</td>\n",
              "      <td>1</td>\n",
              "      <td>1681</td>\n",
              "      <td>41.091000</td>\n",
              "      <td>-85.067001</td>\n",
              "      <td>12.7</td>\n",
              "      <td>2</td>\n",
              "      <td>3</td>\n",
              "      <td>2</td>\n",
              "      <td>11489</td>\n",
              "      <td>2230</td>\n",
              "      <td>IN</td>\n",
              "      <td>IN</td>\n",
              "      <td>18</td>\n",
              "      <td>11689</td>\n",
              "      <td>2235</td>\n",
              "      <td>2</td>\n",
              "      <td>1</td>\n",
              "      <td>92</td>\n",
              "      <td></td>\n",
              "      <td>46835</td>\n",
              "      <td>0</td>\n",
              "    </tr>\n",
              "    <tr>\n",
              "      <th>1</th>\n",
              "      <td>0.5</td>\n",
              "      <td>2.66527</td>\n",
              "      <td>364.958313</td>\n",
              "      <td>N</td>\n",
              "      <td>25</td>\n",
              "      <td>YAVAPAI</td>\n",
              "      <td>0</td>\n",
              "      <td>1</td>\n",
              "      <td>1457</td>\n",
              "      <td>34.599998</td>\n",
              "      <td>-112.554001</td>\n",
              "      <td>0.0</td>\n",
              "      <td>2</td>\n",
              "      <td>5</td>\n",
              "      <td>2</td>\n",
              "      <td>22688</td>\n",
              "      <td>833</td>\n",
              "      <td>AZ</td>\n",
              "      <td>AZ</td>\n",
              "      <td>4</td>\n",
              "      <td>22888</td>\n",
              "      <td>1010</td>\n",
              "      <td>2</td>\n",
              "      <td>1</td>\n",
              "      <td>56</td>\n",
              "      <td></td>\n",
              "      <td>86325</td>\n",
              "      <td>0</td>\n",
              "    </tr>\n",
              "    <tr>\n",
              "      <th>2</th>\n",
              "      <td>3.0</td>\n",
              "      <td>2.43343</td>\n",
              "      <td>626.564575</td>\n",
              "      <td>Y</td>\n",
              "      <td>17</td>\n",
              "      <td>MIDDLESEX</td>\n",
              "      <td>0</td>\n",
              "      <td>0</td>\n",
              "      <td>4224</td>\n",
              "      <td>42.485001</td>\n",
              "      <td>-71.391998</td>\n",
              "      <td>9.7</td>\n",
              "      <td>6</td>\n",
              "      <td>1</td>\n",
              "      <td>2</td>\n",
              "      <td>32288</td>\n",
              "      <td>1000</td>\n",
              "      <td>MA</td>\n",
              "      <td>MA</td>\n",
              "      <td>25</td>\n",
              "      <td>32488</td>\n",
              "      <td>1000</td>\n",
              "      <td>1</td>\n",
              "      <td>1</td>\n",
              "      <td>23</td>\n",
              "      <td></td>\n",
              "      <td>1778</td>\n",
              "      <td>0</td>\n",
              "    </tr>\n",
              "    <tr>\n",
              "      <th>3</th>\n",
              "      <td>0.6</td>\n",
              "      <td>2.43343</td>\n",
              "      <td>570.611755</td>\n",
              "      <td>N</td>\n",
              "      <td>17</td>\n",
              "      <td>MIDDLESEX</td>\n",
              "      <td>0</td>\n",
              "      <td>1</td>\n",
              "      <td>4094</td>\n",
              "      <td>42.485001</td>\n",
              "      <td>-71.391998</td>\n",
              "      <td>27.6</td>\n",
              "      <td>6</td>\n",
              "      <td>3</td>\n",
              "      <td>3</td>\n",
              "      <td>32488</td>\n",
              "      <td>700</td>\n",
              "      <td>MA</td>\n",
              "      <td>MA</td>\n",
              "      <td>25</td>\n",
              "      <td>32688</td>\n",
              "      <td>1200</td>\n",
              "      <td>1</td>\n",
              "      <td>1</td>\n",
              "      <td>62</td>\n",
              "      <td></td>\n",
              "      <td>1432</td>\n",
              "      <td>0</td>\n",
              "    </tr>\n",
              "    <tr>\n",
              "      <th>4</th>\n",
              "      <td>1.2</td>\n",
              "      <td>2.10811</td>\n",
              "      <td>426.798859</td>\n",
              "      <td>Y</td>\n",
              "      <td>95</td>\n",
              "      <td>JACKSON</td>\n",
              "      <td>0</td>\n",
              "      <td>0</td>\n",
              "      <td>6849</td>\n",
              "      <td>39.007999</td>\n",
              "      <td>-94.347000</td>\n",
              "      <td>23.5</td>\n",
              "      <td>1</td>\n",
              "      <td>3</td>\n",
              "      <td>4</td>\n",
              "      <td>32288</td>\n",
              "      <td>605</td>\n",
              "      <td>MO</td>\n",
              "      <td>MO</td>\n",
              "      <td>29</td>\n",
              "      <td>32488</td>\n",
              "      <td>610</td>\n",
              "      <td>2</td>\n",
              "      <td>1</td>\n",
              "      <td>91</td>\n",
              "      <td></td>\n",
              "      <td>64134</td>\n",
              "      <td>0</td>\n",
              "    </tr>\n",
              "  </tbody>\n",
              "</table>\n",
              "</div>"
            ],
            "text/plain": [
              "   activity     Uppm       adjwt basement  ...  wave windoor    zip  zipflag\n",
              "0       1.6  2.49759  292.219543        N  ...    92          46835        0\n",
              "1       0.5  2.66527  364.958313        N  ...    56          86325        0\n",
              "2       3.0  2.43343  626.564575        Y  ...    23           1778        0\n",
              "3       0.6  2.43343  570.611755        N  ...    62           1432        0\n",
              "4       1.2  2.10811  426.798859        Y  ...    91          64134        0\n",
              "\n",
              "[5 rows x 28 columns]"
            ]
          },
          "metadata": {
            "tags": []
          }
        },
        {
          "output_type": "display_data",
          "data": {
            "text/plain": [
              "(12573, 28)"
            ]
          },
          "metadata": {
            "tags": []
          }
        },
        {
          "output_type": "display_data",
          "data": {
            "application/vnd.google.colaboratory.intrinsic+json": {
              "type": "string"
            },
            "text/plain": [
              "'y_col:activity'"
            ]
          },
          "metadata": {
            "tags": []
          }
        },
        {
          "output_type": "display_data",
          "data": {
            "application/vnd.google.colaboratory.intrinsic+json": {
              "type": "string"
            },
            "text/plain": [
              "\"x_cols num:27, names:Index(['Uppm', 'adjwt', 'basement', 'cntyfips', 'county', 'dupflag', 'floor',\\n       'idnum', 'lat', 'lon', 'pcterr', 'region', 'rep', 'room', 'startdt',\\n       'starttm', 'state', 'state2', 'stfips', 'stopdt', 'stoptm', 'stratum',\\n       'typebldg', 'wave', 'windoor', 'zip', 'zipflag'],\\n      dtype='object')\""
            ]
          },
          "metadata": {
            "tags": []
          }
        },
        {
          "output_type": "stream",
          "text": [
            "CPU times: user 10.1 s, sys: 322 ms, total: 10.5 s\n",
            "Wall time: 10.5 s\n"
          ],
          "name": "stdout"
        }
      ]
    },
    {
      "cell_type": "markdown",
      "metadata": {
        "id": "67H7xvj82tG6"
      },
      "source": [
        "## 不要なカラムを削除\n",
        "- country:one-hot-encodeすると400次元という大きな次元数になるため"
      ]
    },
    {
      "cell_type": "code",
      "metadata": {
        "id": "bfJwuzeu253q",
        "colab": {
          "base_uri": "https://localhost:8080/",
          "height": 102
        },
        "outputId": "9c5db1b1-effb-497f-8958-9ea46c0d53e4"
      },
      "source": [
        "drop_columns = ['county']\n",
        "\n",
        "dataset = dataset.drop(columns=drop_columns)\n",
        "display(dataset.columns)"
      ],
      "execution_count": 5,
      "outputs": [
        {
          "output_type": "display_data",
          "data": {
            "text/plain": [
              "Index(['activity', 'Uppm', 'adjwt', 'basement', 'cntyfips', 'dupflag', 'floor',\n",
              "       'idnum', 'lat', 'lon', 'pcterr', 'region', 'rep', 'room', 'startdt',\n",
              "       'starttm', 'state', 'state2', 'stfips', 'stopdt', 'stoptm', 'stratum',\n",
              "       'typebldg', 'wave', 'windoor', 'zip', 'zipflag'],\n",
              "      dtype='object')"
            ]
          },
          "metadata": {
            "tags": []
          }
        }
      ]
    },
    {
      "cell_type": "markdown",
      "metadata": {
        "id": "xwAtZ-R41VKV"
      },
      "source": [
        "## 文字列をone-hotエンコード\n",
        "TPOTが文字列を受け付けないため"
      ]
    },
    {
      "cell_type": "code",
      "metadata": {
        "id": "0NAXhd211bX3",
        "colab": {
          "base_uri": "https://localhost:8080/",
          "height": 328
        },
        "outputId": "f3aa79e6-a444-439d-e201-1a65cffd693f"
      },
      "source": [
        "%%time\n",
        "\n",
        "def one_hot_encode_df_val(df, target_col):\n",
        "  '''文字列のカラムをone-hot-encodeしたカラムに置き換え\n",
        "  WARNING : target_colはdropされる\n",
        "  '''\n",
        "  mlb = MultiLabelBinarizer()\n",
        "  one_hot_feature = mlb.fit_transform([{str(val)} for val in df[target_col].values])\n",
        "  insert_columns = [target_col+'_'+str(x+1) for x in range(len(one_hot_feature[0]))]\n",
        "  insert_df = pd.DataFrame(one_hot_feature, columns=insert_columns)\n",
        "  df = df.drop(columns=target_col)\n",
        "  df = pd.concat([df, insert_df], axis=1)\n",
        "  return df\n",
        "\n",
        "target_cols = ['basement', 'state', 'state2', 'windoor']\n",
        "for col in target_cols:\n",
        "  dataset = one_hot_encode_df_val(dataset, col)\n",
        "display(dataset.head())\n",
        "\n",
        "\n",
        "# カラム名の設定\n",
        "y_col = y_name\n",
        "x_cols = dataset.drop(columns=y_col).columns\n",
        "\n",
        "display('y_col:{}'.format(y_col))\n",
        "display('x_cols num:{}, names:{}'.format(len(x_cols), x_cols))"
      ],
      "execution_count": 6,
      "outputs": [
        {
          "output_type": "display_data",
          "data": {
            "text/html": [
              "<div>\n",
              "<style scoped>\n",
              "    .dataframe tbody tr th:only-of-type {\n",
              "        vertical-align: middle;\n",
              "    }\n",
              "\n",
              "    .dataframe tbody tr th {\n",
              "        vertical-align: top;\n",
              "    }\n",
              "\n",
              "    .dataframe thead th {\n",
              "        text-align: right;\n",
              "    }\n",
              "</style>\n",
              "<table border=\"1\" class=\"dataframe\">\n",
              "  <thead>\n",
              "    <tr style=\"text-align: right;\">\n",
              "      <th></th>\n",
              "      <th>activity</th>\n",
              "      <th>Uppm</th>\n",
              "      <th>adjwt</th>\n",
              "      <th>cntyfips</th>\n",
              "      <th>dupflag</th>\n",
              "      <th>floor</th>\n",
              "      <th>idnum</th>\n",
              "      <th>lat</th>\n",
              "      <th>lon</th>\n",
              "      <th>pcterr</th>\n",
              "      <th>region</th>\n",
              "      <th>rep</th>\n",
              "      <th>room</th>\n",
              "      <th>startdt</th>\n",
              "      <th>starttm</th>\n",
              "      <th>stfips</th>\n",
              "      <th>stopdt</th>\n",
              "      <th>stoptm</th>\n",
              "      <th>stratum</th>\n",
              "      <th>typebldg</th>\n",
              "      <th>wave</th>\n",
              "      <th>zip</th>\n",
              "      <th>zipflag</th>\n",
              "      <th>basement_1</th>\n",
              "      <th>basement_2</th>\n",
              "      <th>basement_3</th>\n",
              "      <th>basement_4</th>\n",
              "      <th>state_1</th>\n",
              "      <th>state_2</th>\n",
              "      <th>state_3</th>\n",
              "      <th>state_4</th>\n",
              "      <th>state_5</th>\n",
              "      <th>state_6</th>\n",
              "      <th>state_7</th>\n",
              "      <th>state_8</th>\n",
              "      <th>state2_1</th>\n",
              "      <th>state2_2</th>\n",
              "      <th>state2_3</th>\n",
              "      <th>state2_4</th>\n",
              "      <th>state2_5</th>\n",
              "      <th>state2_6</th>\n",
              "      <th>state2_7</th>\n",
              "      <th>state2_8</th>\n",
              "      <th>state2_9</th>\n",
              "      <th>windoor_1</th>\n",
              "    </tr>\n",
              "  </thead>\n",
              "  <tbody>\n",
              "    <tr>\n",
              "      <th>0</th>\n",
              "      <td>1.6</td>\n",
              "      <td>2.49759</td>\n",
              "      <td>292.219543</td>\n",
              "      <td>3</td>\n",
              "      <td>0</td>\n",
              "      <td>1</td>\n",
              "      <td>1681</td>\n",
              "      <td>41.091000</td>\n",
              "      <td>-85.067001</td>\n",
              "      <td>12.7</td>\n",
              "      <td>2</td>\n",
              "      <td>3</td>\n",
              "      <td>2</td>\n",
              "      <td>11489</td>\n",
              "      <td>2230</td>\n",
              "      <td>18</td>\n",
              "      <td>11689</td>\n",
              "      <td>2235</td>\n",
              "      <td>2</td>\n",
              "      <td>1</td>\n",
              "      <td>92</td>\n",
              "      <td>46835</td>\n",
              "      <td>0</td>\n",
              "      <td>0</td>\n",
              "      <td>0</td>\n",
              "      <td>1</td>\n",
              "      <td>0</td>\n",
              "      <td>0</td>\n",
              "      <td>1</td>\n",
              "      <td>0</td>\n",
              "      <td>0</td>\n",
              "      <td>0</td>\n",
              "      <td>0</td>\n",
              "      <td>0</td>\n",
              "      <td>0</td>\n",
              "      <td>0</td>\n",
              "      <td>1</td>\n",
              "      <td>0</td>\n",
              "      <td>0</td>\n",
              "      <td>0</td>\n",
              "      <td>0</td>\n",
              "      <td>0</td>\n",
              "      <td>0</td>\n",
              "      <td>0</td>\n",
              "      <td>1</td>\n",
              "    </tr>\n",
              "    <tr>\n",
              "      <th>1</th>\n",
              "      <td>0.5</td>\n",
              "      <td>2.66527</td>\n",
              "      <td>364.958313</td>\n",
              "      <td>25</td>\n",
              "      <td>0</td>\n",
              "      <td>1</td>\n",
              "      <td>1457</td>\n",
              "      <td>34.599998</td>\n",
              "      <td>-112.554001</td>\n",
              "      <td>0.0</td>\n",
              "      <td>2</td>\n",
              "      <td>5</td>\n",
              "      <td>2</td>\n",
              "      <td>22688</td>\n",
              "      <td>833</td>\n",
              "      <td>4</td>\n",
              "      <td>22888</td>\n",
              "      <td>1010</td>\n",
              "      <td>2</td>\n",
              "      <td>1</td>\n",
              "      <td>56</td>\n",
              "      <td>86325</td>\n",
              "      <td>0</td>\n",
              "      <td>0</td>\n",
              "      <td>0</td>\n",
              "      <td>1</td>\n",
              "      <td>0</td>\n",
              "      <td>1</td>\n",
              "      <td>0</td>\n",
              "      <td>0</td>\n",
              "      <td>0</td>\n",
              "      <td>0</td>\n",
              "      <td>0</td>\n",
              "      <td>0</td>\n",
              "      <td>0</td>\n",
              "      <td>1</td>\n",
              "      <td>0</td>\n",
              "      <td>0</td>\n",
              "      <td>0</td>\n",
              "      <td>0</td>\n",
              "      <td>0</td>\n",
              "      <td>0</td>\n",
              "      <td>0</td>\n",
              "      <td>0</td>\n",
              "      <td>1</td>\n",
              "    </tr>\n",
              "    <tr>\n",
              "      <th>2</th>\n",
              "      <td>3.0</td>\n",
              "      <td>2.43343</td>\n",
              "      <td>626.564575</td>\n",
              "      <td>17</td>\n",
              "      <td>0</td>\n",
              "      <td>0</td>\n",
              "      <td>4224</td>\n",
              "      <td>42.485001</td>\n",
              "      <td>-71.391998</td>\n",
              "      <td>9.7</td>\n",
              "      <td>6</td>\n",
              "      <td>1</td>\n",
              "      <td>2</td>\n",
              "      <td>32288</td>\n",
              "      <td>1000</td>\n",
              "      <td>25</td>\n",
              "      <td>32488</td>\n",
              "      <td>1000</td>\n",
              "      <td>1</td>\n",
              "      <td>1</td>\n",
              "      <td>23</td>\n",
              "      <td>1778</td>\n",
              "      <td>0</td>\n",
              "      <td>0</td>\n",
              "      <td>0</td>\n",
              "      <td>0</td>\n",
              "      <td>1</td>\n",
              "      <td>0</td>\n",
              "      <td>0</td>\n",
              "      <td>1</td>\n",
              "      <td>0</td>\n",
              "      <td>0</td>\n",
              "      <td>0</td>\n",
              "      <td>0</td>\n",
              "      <td>0</td>\n",
              "      <td>0</td>\n",
              "      <td>0</td>\n",
              "      <td>1</td>\n",
              "      <td>0</td>\n",
              "      <td>0</td>\n",
              "      <td>0</td>\n",
              "      <td>0</td>\n",
              "      <td>0</td>\n",
              "      <td>0</td>\n",
              "      <td>1</td>\n",
              "    </tr>\n",
              "    <tr>\n",
              "      <th>3</th>\n",
              "      <td>0.6</td>\n",
              "      <td>2.43343</td>\n",
              "      <td>570.611755</td>\n",
              "      <td>17</td>\n",
              "      <td>0</td>\n",
              "      <td>1</td>\n",
              "      <td>4094</td>\n",
              "      <td>42.485001</td>\n",
              "      <td>-71.391998</td>\n",
              "      <td>27.6</td>\n",
              "      <td>6</td>\n",
              "      <td>3</td>\n",
              "      <td>3</td>\n",
              "      <td>32488</td>\n",
              "      <td>700</td>\n",
              "      <td>25</td>\n",
              "      <td>32688</td>\n",
              "      <td>1200</td>\n",
              "      <td>1</td>\n",
              "      <td>1</td>\n",
              "      <td>62</td>\n",
              "      <td>1432</td>\n",
              "      <td>0</td>\n",
              "      <td>0</td>\n",
              "      <td>0</td>\n",
              "      <td>1</td>\n",
              "      <td>0</td>\n",
              "      <td>0</td>\n",
              "      <td>0</td>\n",
              "      <td>1</td>\n",
              "      <td>0</td>\n",
              "      <td>0</td>\n",
              "      <td>0</td>\n",
              "      <td>0</td>\n",
              "      <td>0</td>\n",
              "      <td>0</td>\n",
              "      <td>0</td>\n",
              "      <td>1</td>\n",
              "      <td>0</td>\n",
              "      <td>0</td>\n",
              "      <td>0</td>\n",
              "      <td>0</td>\n",
              "      <td>0</td>\n",
              "      <td>0</td>\n",
              "      <td>1</td>\n",
              "    </tr>\n",
              "    <tr>\n",
              "      <th>4</th>\n",
              "      <td>1.2</td>\n",
              "      <td>2.10811</td>\n",
              "      <td>426.798859</td>\n",
              "      <td>95</td>\n",
              "      <td>0</td>\n",
              "      <td>0</td>\n",
              "      <td>6849</td>\n",
              "      <td>39.007999</td>\n",
              "      <td>-94.347000</td>\n",
              "      <td>23.5</td>\n",
              "      <td>1</td>\n",
              "      <td>3</td>\n",
              "      <td>4</td>\n",
              "      <td>32288</td>\n",
              "      <td>605</td>\n",
              "      <td>29</td>\n",
              "      <td>32488</td>\n",
              "      <td>610</td>\n",
              "      <td>2</td>\n",
              "      <td>1</td>\n",
              "      <td>91</td>\n",
              "      <td>64134</td>\n",
              "      <td>0</td>\n",
              "      <td>0</td>\n",
              "      <td>0</td>\n",
              "      <td>0</td>\n",
              "      <td>1</td>\n",
              "      <td>0</td>\n",
              "      <td>0</td>\n",
              "      <td>0</td>\n",
              "      <td>0</td>\n",
              "      <td>1</td>\n",
              "      <td>0</td>\n",
              "      <td>0</td>\n",
              "      <td>0</td>\n",
              "      <td>0</td>\n",
              "      <td>0</td>\n",
              "      <td>0</td>\n",
              "      <td>0</td>\n",
              "      <td>0</td>\n",
              "      <td>1</td>\n",
              "      <td>0</td>\n",
              "      <td>0</td>\n",
              "      <td>0</td>\n",
              "      <td>1</td>\n",
              "    </tr>\n",
              "  </tbody>\n",
              "</table>\n",
              "</div>"
            ],
            "text/plain": [
              "   activity     Uppm       adjwt  ...  state2_8  state2_9  windoor_1\n",
              "0       1.6  2.49759  292.219543  ...         0         0          1\n",
              "1       0.5  2.66527  364.958313  ...         0         0          1\n",
              "2       3.0  2.43343  626.564575  ...         0         0          1\n",
              "3       0.6  2.43343  570.611755  ...         0         0          1\n",
              "4       1.2  2.10811  426.798859  ...         0         0          1\n",
              "\n",
              "[5 rows x 45 columns]"
            ]
          },
          "metadata": {
            "tags": []
          }
        },
        {
          "output_type": "display_data",
          "data": {
            "application/vnd.google.colaboratory.intrinsic+json": {
              "type": "string"
            },
            "text/plain": [
              "'y_col:activity'"
            ]
          },
          "metadata": {
            "tags": []
          }
        },
        {
          "output_type": "display_data",
          "data": {
            "application/vnd.google.colaboratory.intrinsic+json": {
              "type": "string"
            },
            "text/plain": [
              "\"x_cols num:44, names:Index(['Uppm', 'adjwt', 'cntyfips', 'dupflag', 'floor', 'idnum', 'lat', 'lon',\\n       'pcterr', 'region', 'rep', 'room', 'startdt', 'starttm', 'stfips',\\n       'stopdt', 'stoptm', 'stratum', 'typebldg', 'wave', 'zip', 'zipflag',\\n       'basement_1', 'basement_2', 'basement_3', 'basement_4', 'state_1',\\n       'state_2', 'state_3', 'state_4', 'state_5', 'state_6', 'state_7',\\n       'state_8', 'state2_1', 'state2_2', 'state2_3', 'state2_4', 'state2_5',\\n       'state2_6', 'state2_7', 'state2_8', 'state2_9', 'windoor_1'],\\n      dtype='object')\""
            ]
          },
          "metadata": {
            "tags": []
          }
        },
        {
          "output_type": "stream",
          "text": [
            "CPU times: user 134 ms, sys: 10.9 ms, total: 145 ms\n",
            "Wall time: 146 ms\n"
          ],
          "name": "stdout"
        }
      ]
    },
    {
      "cell_type": "markdown",
      "metadata": {
        "id": "Sd3VLs0zRRTC"
      },
      "source": [
        "## データ分割"
      ]
    },
    {
      "cell_type": "code",
      "metadata": {
        "id": "BQU2-FY6RTIN",
        "colab": {
          "base_uri": "https://localhost:8080/",
          "height": 85
        },
        "outputId": "7a2dfe29-0cc3-48c6-b402-9ec1fa46a778"
      },
      "source": [
        "SEED = 7 #@param{type:'number'}\n",
        "\n",
        "X_train, X_test, y_train, y_test = train_test_split(dataset[x_cols].values, dataset[y_col].values,\n",
        "                                                    test_size=0.2, random_state=SEED)\n",
        "\n",
        "display(X_train.shape, y_train.shape)\n",
        "display(X_test.shape, y_test.shape)"
      ],
      "execution_count": 7,
      "outputs": [
        {
          "output_type": "display_data",
          "data": {
            "text/plain": [
              "(10058, 44)"
            ]
          },
          "metadata": {
            "tags": []
          }
        },
        {
          "output_type": "display_data",
          "data": {
            "text/plain": [
              "(10058,)"
            ]
          },
          "metadata": {
            "tags": []
          }
        },
        {
          "output_type": "display_data",
          "data": {
            "text/plain": [
              "(2515, 44)"
            ]
          },
          "metadata": {
            "tags": []
          }
        },
        {
          "output_type": "display_data",
          "data": {
            "text/plain": [
              "(2515,)"
            ]
          },
          "metadata": {
            "tags": []
          }
        }
      ]
    },
    {
      "cell_type": "markdown",
      "metadata": {
        "id": "Gf7PO8NVnydA"
      },
      "source": [
        "## TPOTで回帰モデル作成"
      ]
    },
    {
      "cell_type": "code",
      "metadata": {
        "id": "Sp3b59hAffCK"
      },
      "source": [
        "GENERATION =  100#@param{type:'number'}\n",
        "POPULATION =  100#@param{type:'number'}\n",
        "CV =  5#@param{type:'number'}\n",
        "EARLY_STOP_ROUND = 2 #@param:{type:'number'}\n",
        "N_JOBS = -1 #@param{type:'number'}\n",
        "VERBOSITY = 3 #@param{type:'number'}\n",
        "'''\n",
        "SEARCH_STRATEGY = {\n",
        "    'sklearn.neural_network.MLPRegressor':{\n",
        "        'activation': ['relu'],\n",
        "        'solver': ['adam', 'sgd']\n",
        "    },\n",
        "    'xgboost.XGBRegressor': {\n",
        "        'objective' : ['reg:squarederror']\n",
        "    }\n",
        "}\n",
        "'''\n",
        "SEARCH_STRATEGY = None\n",
        "\n",
        "\n",
        "pipeline_optimizer = TPOTRegressor(config_dict=SEARCH_STRATEGY,\n",
        "                                   generations=GENERATION, # (default:100)\n",
        "                                   population_size=POPULATION, # (default:100)\n",
        "                                   cv=CV, #(default:5)\n",
        "                                   early_stop=EARLY_STOP_ROUND,\n",
        "                                   n_jobs=N_JOBS, # (default:1)\n",
        "                                   random_state=SEED,\n",
        "                                   verbosity=VERBOSITY,\n",
        "                                   warm_start=True, # 以前のfit結果があれば続きから開始\n",
        "                                   )\n"
      ],
      "execution_count": 8,
      "outputs": []
    },
    {
      "cell_type": "code",
      "metadata": {
        "id": "sYQgzVjVm0Te",
        "colab": {
          "base_uri": "https://localhost:8080/",
          "height": 1000,
          "referenced_widgets": [
            "8c7d09ab9a744a2aba335457bdc30a40",
            "1bb017fe8fa146c5b64b18a0535466cf",
            "e2c4e5ed34644de2bcd7a2d2d4cb9dc8",
            "80b8f65b320c4d7cbe6c80ea65acfbc1",
            "1e67cb98e0d74a1c88f064ef612d8170",
            "194d1cedae68436e9a7af8c98639858f",
            "3f5a0a113235431fbce22f62bbdfe044",
            "f39b3f29aa5745fd8ef09a0fe9896eff"
          ]
        },
        "outputId": "1ae1e57a-8b86-4217-b369-03972391a3a9"
      },
      "source": [
        "%%time\n",
        "pipeline_optimizer.fit(X_train, y_train)"
      ],
      "execution_count": 9,
      "outputs": [
        {
          "output_type": "stream",
          "text": [
            "30 operators have been imported by TPOT.\n"
          ],
          "name": "stdout"
        },
        {
          "output_type": "display_data",
          "data": {
            "application/vnd.jupyter.widget-view+json": {
              "model_id": "8c7d09ab9a744a2aba335457bdc30a40",
              "version_minor": 0,
              "version_major": 2
            },
            "text/plain": [
              "HBox(children=(FloatProgress(value=0.0, description='Optimization Progress', max=10100.0, style=ProgressStyle(…"
            ]
          },
          "metadata": {
            "tags": []
          }
        },
        {
          "output_type": "stream",
          "text": [
            "_pre_test decorator: _random_mutation_operator: num_test=0 Found array with 0 feature(s) (shape=(50, 0)) while a minimum of 1 is required..\n",
            "_pre_test decorator: _random_mutation_operator: num_test=0 Found array with 0 feature(s) (shape=(50, 0)) while a minimum of 1 is required..\n",
            "Invalid pipeline encountered. Skipping its evaluation.\n",
            "Skipped pipeline #156 due to time out. Continuing to the next pipeline.\n",
            "Skipped pipeline #182 due to time out. Continuing to the next pipeline.\n",
            "\n",
            "Generation 1 - Current Pareto front scores:\n",
            "\n",
            "-1\t-21.270564458583607\tRandomForestRegressor(input_matrix, RandomForestRegressor__bootstrap=False, RandomForestRegressor__max_features=0.6500000000000001, RandomForestRegressor__min_samples_leaf=6, RandomForestRegressor__min_samples_split=19, RandomForestRegressor__n_estimators=100)\n",
            "_pre_test decorator: _random_mutation_operator: num_test=0 Expected n_neighbors <= n_samples,  but n_samples = 50, n_neighbors = 90.\n",
            "_pre_test decorator: _random_mutation_operator: num_test=0 Found array with 0 feature(s) (shape=(50, 0)) while a minimum of 1 is required..\n",
            "_pre_test decorator: _random_mutation_operator: num_test=0 Unsupported set of arguments: The combination of penalty='l2' and loss='epsilon_insensitive' are not supported when dual=False, Parameters: penalty='l2', loss='epsilon_insensitive', dual=False.\n",
            "Skipped pipeline #224 due to time out. Continuing to the next pipeline.\n",
            "Skipped pipeline #243 due to time out. Continuing to the next pipeline.\n",
            "\n",
            "Generation 2 - Current Pareto front scores:\n",
            "\n",
            "-1\t-21.270564458583607\tRandomForestRegressor(input_matrix, RandomForestRegressor__bootstrap=False, RandomForestRegressor__max_features=0.6500000000000001, RandomForestRegressor__min_samples_leaf=6, RandomForestRegressor__min_samples_split=19, RandomForestRegressor__n_estimators=100)\n",
            "_pre_test decorator: _random_mutation_operator: num_test=0 X contains negative values..\n",
            "_pre_test decorator: _random_mutation_operator: num_test=1 Found array with 0 feature(s) (shape=(50, 0)) while a minimum of 1 is required..\n",
            "_pre_test decorator: _random_mutation_operator: num_test=0 Unsupported set of arguments: The combination of penalty='l2' and loss='epsilon_insensitive' are not supported when dual=False, Parameters: penalty='l2', loss='epsilon_insensitive', dual=False.\n",
            "_pre_test decorator: _random_mutation_operator: num_test=0 Expected n_neighbors <= n_samples,  but n_samples = 50, n_neighbors = 99.\n",
            "Pipeline encountered that has previously been evaluated during the optimization process. Using the score from the previous evaluation.\n",
            "Invalid pipeline encountered. Skipping its evaluation.\n",
            "Pipeline encountered that has previously been evaluated during the optimization process. Using the score from the previous evaluation.\n",
            "Skipped pipeline #321 due to time out. Continuing to the next pipeline.\n",
            "Skipped pipeline #359 due to time out. Continuing to the next pipeline.\n",
            "Skipped pipeline #371 due to time out. Continuing to the next pipeline.\n",
            "Skipped pipeline #395 due to time out. Continuing to the next pipeline.\n",
            "Skipped pipeline #404 due to time out. Continuing to the next pipeline.\n",
            "\n",
            "Generation 3 - Current Pareto front scores:\n",
            "\n",
            "-1\t-21.270564458583607\tRandomForestRegressor(input_matrix, RandomForestRegressor__bootstrap=False, RandomForestRegressor__max_features=0.6500000000000001, RandomForestRegressor__min_samples_leaf=6, RandomForestRegressor__min_samples_split=19, RandomForestRegressor__n_estimators=100)\n",
            "\n",
            "-3\t-20.626830551132393\tExtraTreesRegressor(SGDRegressor(RandomForestRegressor(input_matrix, RandomForestRegressor__bootstrap=True, RandomForestRegressor__max_features=0.9000000000000001, RandomForestRegressor__min_samples_leaf=15, RandomForestRegressor__min_samples_split=16, RandomForestRegressor__n_estimators=100), SGDRegressor__alpha=0.0, SGDRegressor__eta0=0.1, SGDRegressor__fit_intercept=False, SGDRegressor__l1_ratio=0.25, SGDRegressor__learning_rate=constant, SGDRegressor__loss=epsilon_insensitive, SGDRegressor__penalty=elasticnet, SGDRegressor__power_t=0.0), ExtraTreesRegressor__bootstrap=False, ExtraTreesRegressor__max_features=0.8500000000000001, ExtraTreesRegressor__min_samples_leaf=5, ExtraTreesRegressor__min_samples_split=4, ExtraTreesRegressor__n_estimators=100)\n",
            "_pre_test decorator: _random_mutation_operator: num_test=0 manhattan was provided as affinity. Ward can only work with euclidean distances..\n",
            "_pre_test decorator: _random_mutation_operator: num_test=0 Found array with 0 feature(s) (shape=(50, 0)) while a minimum of 1 is required..\n",
            "_pre_test decorator: _random_mutation_operator: num_test=0 Found array with 0 feature(s) (shape=(50, 0)) while a minimum of 1 is required..\n",
            "_pre_test decorator: _random_mutation_operator: num_test=0 [02:40:57] /workspace/src/learner.cc:723: Check failed: mparam_.num_feature != 0 (0 vs. 0) : 0 feature is supplied.  Are you using raw Booster interface?\n",
            "Stack trace:\n",
            "  [bt] (0) /usr/local/lib/python3.6/dist-packages/xgboost/./lib/libxgboost.so(dmlc::LogMessageFatal::~LogMessageFatal()+0x24) [0x7f1347ef5cb4]\n",
            "  [bt] (1) /usr/local/lib/python3.6/dist-packages/xgboost/./lib/libxgboost.so(xgboost::LearnerImpl::LazyInitModel()+0x5bf) [0x7f1347f8b1ef]\n",
            "  [bt] (2) /usr/local/lib/python3.6/dist-packages/xgboost/./lib/libxgboost.so(XGBoosterUpdateOneIter+0x52) [0x7f1347ef2ac2]\n",
            "  [bt] (3) /usr/lib/x86_64-linux-gnu/libffi.so.6(ffi_call_unix64+0x4c) [0x7f13f3f9fdae]\n",
            "  [bt] (4) /usr/lib/x86_64-linux-gnu/libffi.so.6(ffi_call+0x22f) [0x7f13f3f9f71f]\n",
            "  [bt] (5) /usr/lib/python3.6/lib-dynload/_ctypes.cpython-36m-x86_64-linux-gnu.so(_ctypes_callproc+0x2b4) [0x7f13f41b35c4]\n",
            "  [bt] (6) /usr/lib/python3.6/lib-dynload/_ctypes.cpython-36m-x86_64-linux-gnu.so(+0x11c33) [0x7f13f41b3c33]\n",
            "  [bt] (7) /usr/bin/python3(_PyObject_FastCallKeywords+0x19c) [0x5a9dac]\n",
            "  [bt] (8) /usr/bin/python3() [0x50a433]\n",
            "\n",
            ".\n",
            "Invalid pipeline encountered. Skipping its evaluation.\n",
            "Pipeline encountered that has previously been evaluated during the optimization process. Using the score from the previous evaluation.\n",
            "\n",
            "Generation 4 - Current Pareto front scores:\n",
            "\n",
            "-1\t-20.551025696026066\tRandomForestRegressor(input_matrix, RandomForestRegressor__bootstrap=True, RandomForestRegressor__max_features=1.0, RandomForestRegressor__min_samples_leaf=3, RandomForestRegressor__min_samples_split=7, RandomForestRegressor__n_estimators=100)\n",
            "\n",
            "-3\t-20.411477739114837\tExtraTreesRegressor(SGDRegressor(RandomForestRegressor(input_matrix, RandomForestRegressor__bootstrap=True, RandomForestRegressor__max_features=0.9000000000000001, RandomForestRegressor__min_samples_leaf=9, RandomForestRegressor__min_samples_split=16, RandomForestRegressor__n_estimators=100), SGDRegressor__alpha=0.0, SGDRegressor__eta0=0.1, SGDRegressor__fit_intercept=False, SGDRegressor__l1_ratio=0.25, SGDRegressor__learning_rate=constant, SGDRegressor__loss=epsilon_insensitive, SGDRegressor__penalty=elasticnet, SGDRegressor__power_t=0.0), ExtraTreesRegressor__bootstrap=False, ExtraTreesRegressor__max_features=0.8500000000000001, ExtraTreesRegressor__min_samples_leaf=5, ExtraTreesRegressor__min_samples_split=4, ExtraTreesRegressor__n_estimators=100)\n",
            "_pre_test decorator: _random_mutation_operator: num_test=0 Unsupported set of arguments: The combination of penalty='l2' and loss='epsilon_insensitive' are not supported when dual=False, Parameters: penalty='l2', loss='epsilon_insensitive', dual=False.\n",
            "_pre_test decorator: _random_mutation_operator: num_test=0 Expected n_neighbors <= n_samples,  but n_samples = 50, n_neighbors = 93.\n",
            "Skipped pipeline #560 due to time out. Continuing to the next pipeline.\n",
            "Skipped pipeline #579 due to time out. Continuing to the next pipeline.\n",
            "Skipped pipeline #587 due to time out. Continuing to the next pipeline.\n",
            "\n",
            "Generation 5 - Current Pareto front scores:\n",
            "\n",
            "-1\t-20.551025696026066\tRandomForestRegressor(input_matrix, RandomForestRegressor__bootstrap=True, RandomForestRegressor__max_features=1.0, RandomForestRegressor__min_samples_leaf=3, RandomForestRegressor__min_samples_split=7, RandomForestRegressor__n_estimators=100)\n",
            "\n",
            "-3\t-20.411477739114837\tExtraTreesRegressor(SGDRegressor(RandomForestRegressor(input_matrix, RandomForestRegressor__bootstrap=True, RandomForestRegressor__max_features=0.9000000000000001, RandomForestRegressor__min_samples_leaf=9, RandomForestRegressor__min_samples_split=16, RandomForestRegressor__n_estimators=100), SGDRegressor__alpha=0.0, SGDRegressor__eta0=0.1, SGDRegressor__fit_intercept=False, SGDRegressor__l1_ratio=0.25, SGDRegressor__learning_rate=constant, SGDRegressor__loss=epsilon_insensitive, SGDRegressor__penalty=elasticnet, SGDRegressor__power_t=0.0), ExtraTreesRegressor__bootstrap=False, ExtraTreesRegressor__max_features=0.8500000000000001, ExtraTreesRegressor__min_samples_leaf=5, ExtraTreesRegressor__min_samples_split=4, ExtraTreesRegressor__n_estimators=100)\n",
            "_pre_test decorator: _random_mutation_operator: num_test=0 Expected n_neighbors <= n_samples,  but n_samples = 50, n_neighbors = 52.\n",
            "_pre_test decorator: _random_mutation_operator: num_test=0 Expected n_neighbors <= n_samples,  but n_samples = 50, n_neighbors = 88.\n",
            "_pre_test decorator: _random_mutation_operator: num_test=1 Expected n_neighbors <= n_samples,  but n_samples = 50, n_neighbors = 84.\n",
            "_pre_test decorator: _random_mutation_operator: num_test=0 l1 was provided as affinity. Ward can only work with euclidean distances..\n",
            "Skipped pipeline #640 due to time out. Continuing to the next pipeline.\n",
            "Skipped pipeline #682 due to time out. Continuing to the next pipeline.\n",
            "Skipped pipeline #695 due to time out. Continuing to the next pipeline.\n",
            "Skipped pipeline #703 due to time out. Continuing to the next pipeline.\n",
            "Skipped pipeline #708 due to time out. Continuing to the next pipeline.\n",
            "\n",
            "Generation 6 - Current Pareto front scores:\n",
            "\n",
            "-1\t-20.21474600975342\tRandomForestRegressor(input_matrix, RandomForestRegressor__bootstrap=True, RandomForestRegressor__max_features=0.8, RandomForestRegressor__min_samples_leaf=2, RandomForestRegressor__min_samples_split=8, RandomForestRegressor__n_estimators=100)\n",
            "_pre_test decorator: _random_mutation_operator: num_test=0 Expected n_neighbors <= n_samples,  but n_samples = 50, n_neighbors = 90.\n",
            "_pre_test decorator: _random_mutation_operator: num_test=1 Unsupported set of arguments: The combination of penalty='l2' and loss='epsilon_insensitive' are not supported when dual=False, Parameters: penalty='l2', loss='epsilon_insensitive', dual=False.\n",
            "_pre_test decorator: _random_mutation_operator: num_test=0 Found array with 0 feature(s) (shape=(50, 0)) while a minimum of 1 is required..\n",
            "_pre_test decorator: _random_mutation_operator: num_test=0 Unsupported set of arguments: The combination of penalty='l2' and loss='epsilon_insensitive' are not supported when dual=False, Parameters: penalty='l2', loss='epsilon_insensitive', dual=False.\n",
            "_pre_test decorator: _random_mutation_operator: num_test=0 Found array with 0 feature(s) (shape=(50, 0)) while a minimum of 1 is required..\n",
            "Pipeline encountered that has previously been evaluated during the optimization process. Using the score from the previous evaluation.\n",
            "Skipped pipeline #734 due to time out. Continuing to the next pipeline.\n",
            "Skipped pipeline #776 due to time out. Continuing to the next pipeline.\n",
            "Skipped pipeline #806 due to time out. Continuing to the next pipeline.\n",
            "Skipped pipeline #817 due to time out. Continuing to the next pipeline.\n",
            "\n",
            "Generation 7 - Current Pareto front scores:\n",
            "\n",
            "-1\t-20.21474600975342\tRandomForestRegressor(input_matrix, RandomForestRegressor__bootstrap=True, RandomForestRegressor__max_features=0.8, RandomForestRegressor__min_samples_leaf=2, RandomForestRegressor__min_samples_split=8, RandomForestRegressor__n_estimators=100)\n",
            "_pre_test decorator: _random_mutation_operator: num_test=0 Found array with 0 feature(s) (shape=(50, 0)) while a minimum of 1 is required..\n",
            "_pre_test decorator: _random_mutation_operator: num_test=0 X contains negative values..\n",
            "_pre_test decorator: _random_mutation_operator: num_test=0 Found array with 0 feature(s) (shape=(50, 0)) while a minimum of 1 is required..\n",
            "_pre_test decorator: _random_mutation_operator: num_test=0 Cosine affinity cannot be used when X contains zero vectors.\n",
            "Skipped pipeline #854 due to time out. Continuing to the next pipeline.\n",
            "\n",
            "Generation 8 - Current Pareto front scores:\n",
            "\n",
            "-1\t-20.21474600975342\tRandomForestRegressor(input_matrix, RandomForestRegressor__bootstrap=True, RandomForestRegressor__max_features=0.8, RandomForestRegressor__min_samples_leaf=2, RandomForestRegressor__min_samples_split=8, RandomForestRegressor__n_estimators=100)\n",
            "\n",
            "The optimized pipeline was not improved after evaluating 2 more generations. Will end the optimization process.\n",
            "\n",
            "TPOT closed prematurely. Will use the current best pipeline.\n",
            "CPU times: user 2min 8s, sys: 10.3 s, total: 2min 18s\n",
            "Wall time: 5h 57min 13s\n"
          ],
          "name": "stdout"
        },
        {
          "output_type": "execute_result",
          "data": {
            "text/plain": [
              "TPOTRegressor(config_dict=None, crossover_rate=0.1, cv=5,\n",
              "              disable_update_check=False, early_stop=2, generations=100,\n",
              "              log_file=None, max_eval_time_mins=5, max_time_mins=None,\n",
              "              memory=None, mutation_rate=0.9, n_jobs=-1, offspring_size=None,\n",
              "              periodic_checkpoint_folder=None, population_size=100,\n",
              "              random_state=7, scoring=None, subsample=1.0, template=None,\n",
              "              use_dask=False, verbosity=3, warm_start=True)"
            ]
          },
          "metadata": {
            "tags": []
          },
          "execution_count": 9
        }
      ]
    },
    {
      "cell_type": "markdown",
      "metadata": {
        "id": "59DO0MbQumMF"
      },
      "source": [
        "## パイプラインの出力"
      ]
    },
    {
      "cell_type": "code",
      "metadata": {
        "id": "3gyGdViGzZ5Q",
        "colab": {
          "base_uri": "https://localhost:8080/"
        },
        "outputId": "5f72bcff-a870-47ce-8473-7728d34dfce4"
      },
      "source": [
        "%cd /content/drive/My Drive/機械学習練習/AutoML/TPOT\n",
        "%ls"
      ],
      "execution_count": 10,
      "outputs": [
        {
          "output_type": "stream",
          "text": [
            "/content/drive/My Drive/機械学習練習/AutoML/TPOT\n",
            "\u001b[0m\u001b[01;34mexport_pipeline\u001b[0m/  \u001b[01;34mradon_dataset\u001b[0m/\n"
          ],
          "name": "stdout"
        }
      ]
    },
    {
      "cell_type": "code",
      "metadata": {
        "id": "dBEuOmomrKb5",
        "colab": {
          "base_uri": "https://localhost:8080/"
        },
        "outputId": "7a7edbd2-c25f-4290-8c8e-ad9048163fa5"
      },
      "source": [
        "%%time\n",
        "\n",
        "EXPORT_DIR =  './export_pipeline' # @param {type:'string'}\n",
        "file_prefix = 'radon-regressor_drop_country_pipeline' # @param{type:'string'}\n",
        "\n",
        "now = datetime.datetime.now().strftime('%Y%m%d_%H%m%s')\n",
        "export_file = os.path.join(EXPORT_DIR, now+'_'+file_prefix)\n",
        "\n",
        "# ベストなパイプラインのスクリプトファイル出力\n",
        "pipeline_optimizer.export(output_file_name=export_file+'.py')\n",
        "\n",
        "\n",
        "def dump_pkl(obj, path):\n",
        "    '''objをpklファイルで出力'''\n",
        "    with open(path, 'wb') as f:\n",
        "        f.write(cloudpickle.dumps(obj))\n",
        "\n",
        "# ベストなパイプラインをpklで出力\n",
        "best_pipline = pipeline_optimizer.fitted_pipeline_\n",
        "dump_pkl(best_pipline, export_file+'.pkl')\n",
        "\n",
        "%ls {EXPORT_DIR}"
      ],
      "execution_count": 11,
      "outputs": [
        {
          "output_type": "stream",
          "text": [
            "20201026_08101603700167_radon-regressor_drop_country_pipeline.pkl\n",
            "20201026_08101603700167_radon-regressor_drop_country_pipeline.py\n",
            "20201026_08101603700544_radon-regressor_pipeline.pkl\n",
            "20201026_08101603700544_radon-regressor_pipeline.py\n",
            "20201026_08101603701198_radon-regressor_pipeline.pkl\n",
            "20201026_08101603701198_radon-regressor_pipeline.py\n",
            "20201027_00101603759647_radon-regressor_drop_country_pipeline.pkl\n",
            "20201027_00101603759647_radon-regressor_drop_country_pipeline.py\n",
            "20201027_01101603761063_radon-regressor_drop_country_pipeline.pkl\n",
            "20201027_01101603761063_radon-regressor_drop_country_pipeline.py\n",
            "20201027_01101603762717_radon-regressor_drop_country_pipeline.pkl\n",
            "20201027_01101603762717_radon-regressor_drop_country_pipeline.py\n",
            "20201027_02101603767263_blood-transfusion_classification_pipeline.pkl\n",
            "20201027_02101603767263_blood-transfusion_classification_pipeline.py\n",
            "20201028_05101603862054_blood-transfusion_classification_pipeline.pkl\n",
            "20201028_05101603862054_blood-transfusion_classification_pipeline.py\n",
            "20201028_05101603863444_blood-transfusion_classification_pipeline.pkl\n",
            "20201028_05101603863444_blood-transfusion_classification_pipeline.py\n",
            "20201128_00111606523720_radon-regressor_drop_country_pipeline.pkl\n",
            "20201128_00111606523720_radon-regressor_drop_country_pipeline.py\n",
            "20201128_00111606524214_radon-regressor_drop_country_pipeline.pkl\n",
            "20201128_00111606524214_radon-regressor_drop_country_pipeline.py\n",
            "20201128_06111606545724_radon-regressor_drop_country_pipeline.pkl\n",
            "20201128_06111606545724_radon-regressor_drop_country_pipeline.py\n",
            "\u001b[0m\u001b[01;34mBK\u001b[0m/\n",
            "CPU times: user 231 ms, sys: 48.3 ms, total: 279 ms\n",
            "Wall time: 762 ms\n"
          ],
          "name": "stdout"
        }
      ]
    },
    {
      "cell_type": "markdown",
      "metadata": {
        "id": "GZlcWQe2zUUQ"
      },
      "source": [
        "## モデルの評価"
      ]
    },
    {
      "cell_type": "markdown",
      "metadata": {
        "id": "okON7VZn0Vh9"
      },
      "source": [
        "### TPOTモデルクラスの評価関数"
      ]
    },
    {
      "cell_type": "code",
      "metadata": {
        "id": "IUeyyuJgwhwb",
        "colab": {
          "base_uri": "https://localhost:8080/",
          "height": 68
        },
        "outputId": "59566529-4d34-48df-d1a1-56de24ddae4b"
      },
      "source": [
        "%%time\n",
        "score = pipeline_optimizer.score(testing_features=X_test,\n",
        "                                 testing_target=y_test)\n",
        "display(score)"
      ],
      "execution_count": 14,
      "outputs": [
        {
          "output_type": "display_data",
          "data": {
            "text/plain": [
              "-15.70453713123663"
            ]
          },
          "metadata": {
            "tags": []
          }
        },
        {
          "output_type": "stream",
          "text": [
            "CPU times: user 69.4 ms, sys: 852 µs, total: 70.2 ms\n",
            "Wall time: 74.7 ms\n"
          ],
          "name": "stdout"
        }
      ]
    },
    {
      "cell_type": "markdown",
      "metadata": {
        "id": "I4QLEqO10av1"
      },
      "source": [
        "### sklearnの評価関数"
      ]
    },
    {
      "cell_type": "code",
      "metadata": {
        "id": "40JuPQtP0cm4",
        "colab": {
          "base_uri": "https://localhost:8080/"
        },
        "outputId": "34ffd8ad-b5ea-4e76-e0d1-fd726a6734d5"
      },
      "source": [
        "%%time\n",
        "def _calc_score(y_true, y_pred, sklearn_metric):\n",
        "  '''sklearnの評価指標のスコアを計算'''\n",
        "  score = sklearn_metric(y_true=y_true, y_pred=y_pred)\n",
        "  return score\n",
        "\n",
        "\n",
        "def evaluete_sk_metrics(y_true, y_pred, sklearn_metrics):\n",
        "  '''sklearnの各種、評価関数を使用'''\n",
        "  result = {}\n",
        "  for sk_metric in sklearn_metrics:\n",
        "    result[sk_metric.__name__] = _calc_score(y_true=y_true, y_pred=y_pred, sklearn_metric=sk_metric)\n",
        "  return result\n",
        "\n",
        "\n",
        "SK_METRICS=[r2_score, explained_variance_score, mean_squared_error]\n",
        "eval_scores = {'train': {}, 'test': {}}\n",
        "\n",
        "for key, X, y_true in zip(['train', 'test'], [X_train, X_test], [y_train, y_test]):\n",
        "  y_pred = pipeline_optimizer.predict(X)\n",
        "  eval_scores[key] = evaluete_sk_metrics(y_true=y_true, y_pred=y_pred, sklearn_metrics=SK_METRICS)\n",
        "pprint.pprint(eval_scores)"
      ],
      "execution_count": 15,
      "outputs": [
        {
          "output_type": "stream",
          "text": [
            "{'test': {'explained_variance_score': 0.7761714745047242,\n",
            "          'mean_squared_error': 15.70453713123663,\n",
            "          'r2_score': 0.77615991254437},\n",
            " 'train': {'explained_variance_score': 0.8968538437730669,\n",
            "           'mean_squared_error': 9.198658485981447,\n",
            "           'r2_score': 0.8968403960178933}}\n",
            "CPU times: user 244 ms, sys: 0 ns, total: 244 ms\n",
            "Wall time: 244 ms\n"
          ],
          "name": "stdout"
        }
      ]
    }
  ]
}