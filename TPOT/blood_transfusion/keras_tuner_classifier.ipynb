{
  "nbformat": 4,
  "nbformat_minor": 0,
  "metadata": {
    "colab": {
      "name": "keras_tuner_classifier.ipynb",
      "provenance": [],
      "collapsed_sections": [],
      "mount_file_id": "1QZMQJgH0EGVz6hjfnMVaXLmNH5o_oOxd",
      "authorship_tag": "ABX9TyOzJ1gQzfjhuU9m+HxQUqzw",
      "include_colab_link": true
    },
    "kernelspec": {
      "name": "python3",
      "display_name": "Python 3"
    },
    "accelerator": "GPU"
  },
  "cells": [
    {
      "cell_type": "markdown",
      "metadata": {
        "id": "view-in-github",
        "colab_type": "text"
      },
      "source": [
        "<a href=\"https://colab.research.google.com/github/Itsuki-Hamano123/auto_ml/blob/master/TPOT/blood_transfusion/keras_tuner_classifier.ipynb\" target=\"_parent\"><img src=\"https://colab.research.google.com/assets/colab-badge.svg\" alt=\"Open In Colab\"/></a>"
      ]
    },
    {
      "cell_type": "code",
      "metadata": {
        "id": "X9avgfy440Gw",
        "outputId": "3dfc9287-e786-4c5f-cfc1-40e09084b447",
        "colab": {
          "base_uri": "https://localhost:8080/"
        }
      },
      "source": [
        "%pip install -q keras-tuner\n",
        "%pip show keras-tuner scikit-learn"
      ],
      "execution_count": 7,
      "outputs": [
        {
          "output_type": "stream",
          "text": [
            "Name: keras-tuner\n",
            "Version: 1.0.1\n",
            "Summary: Hypertuner for Keras\n",
            "Home-page: https://github.com/keras-team/keras-tuner\n",
            "Author: The Keras Tuner authors\n",
            "Author-email: kerastuner@google.com\n",
            "License: Apache License 2.0\n",
            "Location: /usr/local/lib/python3.6/dist-packages\n",
            "Requires: tqdm, numpy, scipy, scikit-learn, tabulate, colorama, terminaltables, requests, future\n",
            "Required-by: \n",
            "---\n",
            "Name: scikit-learn\n",
            "Version: 0.22.2.post1\n",
            "Summary: A set of python modules for machine learning and data mining\n",
            "Home-page: http://scikit-learn.org\n",
            "Author: None\n",
            "Author-email: None\n",
            "License: new BSD\n",
            "Location: /usr/local/lib/python3.6/dist-packages\n",
            "Requires: joblib, scipy, numpy\n",
            "Required-by: yellowbrick, umap-learn, textgenrnn, sklearn, sklearn-pandas, mlxtend, lucid, lightgbm, librosa, keras-tuner, imbalanced-learn, fancyimpute\n"
          ],
          "name": "stdout"
        }
      ]
    },
    {
      "cell_type": "markdown",
      "metadata": {
        "id": "hPW_0GuC6foJ"
      },
      "source": [
        "[輸血データセット:https://www.openml.org/d/1464](https://www.openml.org/d/1464)"
      ]
    },
    {
      "cell_type": "code",
      "metadata": {
        "id": "K9cZDbpY6vBv"
      },
      "source": [
        "import datetime, IPython, os \n",
        "\n",
        "import numpy as np\n",
        "\n",
        "from kerastuner import HyperModel, Hyperband\n",
        "from sklearn.datasets import fetch_openml\n",
        "from sklearn.model_selection import train_test_split\n",
        "from sklearn.metrics import classification_report \n",
        "from tensorflow.keras import Sequential, layers, callbacks, optimizers\n",
        "from tensorflow.keras.utils import plot_model"
      ],
      "execution_count": 21,
      "outputs": []
    },
    {
      "cell_type": "markdown",
      "metadata": {
        "id": "uWiPUEPf9Myk"
      },
      "source": [
        "# データ読み込み"
      ]
    },
    {
      "cell_type": "code",
      "metadata": {
        "id": "I0_LeqYd6b77",
        "outputId": "4707e253-93c5-4b25-acc8-f13d8da1222b",
        "colab": {
          "base_uri": "https://localhost:8080/",
          "height": 723
        }
      },
      "source": [
        "%%time\n",
        "DATA_ID = '1464' #@param{type:'string'}\n",
        "\n",
        "# データセットをフェッチ\n",
        "X, y = fetch_openml(data_id=DATA_ID, return_X_y=True, as_frame=True)\n",
        "\n",
        "def processing_y(y):\n",
        "    '''ラベルyの加工'''\n",
        "    def _convert_dtype(type='int64'):\n",
        "        '''dtype: category(文字列型)をint64に変更'''\n",
        "        return y.astype('int64')\n",
        "    \n",
        "    def _indicator_start_0():\n",
        "        '''インディケータ開始の数を0にする'''\n",
        "        return y - y[np.argmin(y)]\n",
        "\n",
        "    y = _convert_dtype()\n",
        "    y = _indicator_start_0()\n",
        "    return y\n",
        "\n",
        "y = processing_y(y)\n",
        "display(X)\n",
        "display(y)\n",
        "\n",
        "\n",
        "SEED = 7 #@param{type:'number'}\n",
        "SPLIT = 0.2 #@param{type:'number'}\n",
        "\n",
        "train_X, test_X, train_y, test_y = train_test_split(X, y,\n",
        "                                                    test_size=SPLIT,\n",
        "                                                    random_state=SEED,\n",
        "                                                    shuffle=True)\n",
        "train_X, val_X, train_y, val_y = train_test_split(train_X, train_y,\n",
        "                                                  test_size=SPLIT,\n",
        "                                                  random_state=SEED,\n",
        "                                                  shuffle=True)\n",
        "\n",
        "display('train shape:{}'.format(train_X.shape))\n",
        "display('val shape:{}'.format(val_X.shape))\n",
        "display('test shape:{}'.format(test_X.shape))"
      ],
      "execution_count": 9,
      "outputs": [
        {
          "output_type": "display_data",
          "data": {
            "text/html": [
              "<div>\n",
              "<style scoped>\n",
              "    .dataframe tbody tr th:only-of-type {\n",
              "        vertical-align: middle;\n",
              "    }\n",
              "\n",
              "    .dataframe tbody tr th {\n",
              "        vertical-align: top;\n",
              "    }\n",
              "\n",
              "    .dataframe thead th {\n",
              "        text-align: right;\n",
              "    }\n",
              "</style>\n",
              "<table border=\"1\" class=\"dataframe\">\n",
              "  <thead>\n",
              "    <tr style=\"text-align: right;\">\n",
              "      <th></th>\n",
              "      <th>V1</th>\n",
              "      <th>V2</th>\n",
              "      <th>V3</th>\n",
              "      <th>V4</th>\n",
              "    </tr>\n",
              "  </thead>\n",
              "  <tbody>\n",
              "    <tr>\n",
              "      <th>0</th>\n",
              "      <td>2.0</td>\n",
              "      <td>50.0</td>\n",
              "      <td>12500.0</td>\n",
              "      <td>98.0</td>\n",
              "    </tr>\n",
              "    <tr>\n",
              "      <th>1</th>\n",
              "      <td>0.0</td>\n",
              "      <td>13.0</td>\n",
              "      <td>3250.0</td>\n",
              "      <td>28.0</td>\n",
              "    </tr>\n",
              "    <tr>\n",
              "      <th>2</th>\n",
              "      <td>1.0</td>\n",
              "      <td>16.0</td>\n",
              "      <td>4000.0</td>\n",
              "      <td>35.0</td>\n",
              "    </tr>\n",
              "    <tr>\n",
              "      <th>3</th>\n",
              "      <td>2.0</td>\n",
              "      <td>20.0</td>\n",
              "      <td>5000.0</td>\n",
              "      <td>45.0</td>\n",
              "    </tr>\n",
              "    <tr>\n",
              "      <th>4</th>\n",
              "      <td>1.0</td>\n",
              "      <td>24.0</td>\n",
              "      <td>6000.0</td>\n",
              "      <td>77.0</td>\n",
              "    </tr>\n",
              "    <tr>\n",
              "      <th>...</th>\n",
              "      <td>...</td>\n",
              "      <td>...</td>\n",
              "      <td>...</td>\n",
              "      <td>...</td>\n",
              "    </tr>\n",
              "    <tr>\n",
              "      <th>743</th>\n",
              "      <td>23.0</td>\n",
              "      <td>2.0</td>\n",
              "      <td>500.0</td>\n",
              "      <td>38.0</td>\n",
              "    </tr>\n",
              "    <tr>\n",
              "      <th>744</th>\n",
              "      <td>21.0</td>\n",
              "      <td>2.0</td>\n",
              "      <td>500.0</td>\n",
              "      <td>52.0</td>\n",
              "    </tr>\n",
              "    <tr>\n",
              "      <th>745</th>\n",
              "      <td>23.0</td>\n",
              "      <td>3.0</td>\n",
              "      <td>750.0</td>\n",
              "      <td>62.0</td>\n",
              "    </tr>\n",
              "    <tr>\n",
              "      <th>746</th>\n",
              "      <td>39.0</td>\n",
              "      <td>1.0</td>\n",
              "      <td>250.0</td>\n",
              "      <td>39.0</td>\n",
              "    </tr>\n",
              "    <tr>\n",
              "      <th>747</th>\n",
              "      <td>72.0</td>\n",
              "      <td>1.0</td>\n",
              "      <td>250.0</td>\n",
              "      <td>72.0</td>\n",
              "    </tr>\n",
              "  </tbody>\n",
              "</table>\n",
              "<p>748 rows × 4 columns</p>\n",
              "</div>"
            ],
            "text/plain": [
              "       V1    V2       V3    V4\n",
              "0     2.0  50.0  12500.0  98.0\n",
              "1     0.0  13.0   3250.0  28.0\n",
              "2     1.0  16.0   4000.0  35.0\n",
              "3     2.0  20.0   5000.0  45.0\n",
              "4     1.0  24.0   6000.0  77.0\n",
              "..    ...   ...      ...   ...\n",
              "743  23.0   2.0    500.0  38.0\n",
              "744  21.0   2.0    500.0  52.0\n",
              "745  23.0   3.0    750.0  62.0\n",
              "746  39.0   1.0    250.0  39.0\n",
              "747  72.0   1.0    250.0  72.0\n",
              "\n",
              "[748 rows x 4 columns]"
            ]
          },
          "metadata": {
            "tags": []
          }
        },
        {
          "output_type": "display_data",
          "data": {
            "text/plain": [
              "0      1\n",
              "1      1\n",
              "2      1\n",
              "3      1\n",
              "4      0\n",
              "      ..\n",
              "743    0\n",
              "744    0\n",
              "745    0\n",
              "746    0\n",
              "747    0\n",
              "Name: Class, Length: 748, dtype: int64"
            ]
          },
          "metadata": {
            "tags": []
          }
        },
        {
          "output_type": "display_data",
          "data": {
            "application/vnd.google.colaboratory.intrinsic+json": {
              "type": "string"
            },
            "text/plain": [
              "'train shape:(478, 4)'"
            ]
          },
          "metadata": {
            "tags": []
          }
        },
        {
          "output_type": "display_data",
          "data": {
            "application/vnd.google.colaboratory.intrinsic+json": {
              "type": "string"
            },
            "text/plain": [
              "'val shape:(120, 4)'"
            ]
          },
          "metadata": {
            "tags": []
          }
        },
        {
          "output_type": "display_data",
          "data": {
            "application/vnd.google.colaboratory.intrinsic+json": {
              "type": "string"
            },
            "text/plain": [
              "'test shape:(150, 4)'"
            ]
          },
          "metadata": {
            "tags": []
          }
        },
        {
          "output_type": "stream",
          "text": [
            "CPU times: user 32 ms, sys: 8 ms, total: 40 ms\n",
            "Wall time: 39.1 ms\n"
          ],
          "name": "stdout"
        }
      ]
    },
    {
      "cell_type": "markdown",
      "metadata": {
        "id": "J5YamKo39PL8"
      },
      "source": [
        "# モデル構築"
      ]
    },
    {
      "cell_type": "code",
      "metadata": {
        "id": "nLfoAPTYkdd1"
      },
      "source": [
        "class BloodHyperModel(HyperModel):\n",
        "\n",
        "      def __init__(self, input_shape, num_classes, train_X_np):\n",
        "          self.input_shape = input_shape\n",
        "          self.num_classes = num_classes\n",
        "          self.norm_layer = self._setupNormalizationLayer(X=train_X_np)\n",
        "      \n",
        "\n",
        "      def _setupNormalizationLayer(self, X):\n",
        "          '''正規化の前処理レイヤーを初期化'''\n",
        "          norm_layer = layers.experimental.preprocessing.Normalization()\n",
        "          norm_layer.adapt(X)\n",
        "          return norm_layer\n",
        "\n",
        "\n",
        "      def build(self, hp):\n",
        "          '''モデル構造と探索空間の定義'''\n",
        "          model = Sequential()\n",
        "          model.add(layers.Input(shape=self.input_shape))\n",
        "\n",
        "          hp_processing_layer = hp.Boolean('is_processing_layer', default=False)\n",
        "          if hp_processing_layer:\n",
        "              model.add(self.norm_layer)\n",
        "            \n",
        "          for i in range(hp.Int('num_layers', min_value=2, max_value=10, step=1)):\n",
        "              units = hp.Int('units_'+str(i), min_value=16, max_value=128, step=16)\n",
        "              model.add(layers.Dense(units=units, activation='relu'))\n",
        "              model.add(layers.Dropout(rate=0.3))\n",
        "\n",
        "          model.add(layers.Dense(self.num_classes, activation='sigmoid'))\n",
        "\n",
        "          model.compile(\n",
        "              optimizer=optimizers.Adam(\n",
        "                  hp.Choice('learning_rate', [1e-1, 1e-3, 1e-4])),\n",
        "              loss='binary_crossentropy',\n",
        "              metrics=['accuracy', 'binary_crossentropy'])\n",
        "          \n",
        "          return model"
      ],
      "execution_count": 10,
      "outputs": []
    },
    {
      "cell_type": "code",
      "metadata": {
        "id": "SIueBUl57oOJ",
        "outputId": "ebd650f4-fd49-4ceb-b608-ee9bd7959bf3",
        "colab": {
          "base_uri": "https://localhost:8080/",
          "height": 53
        }
      },
      "source": [
        "input_shape = (train_X.shape[1], )\n",
        "# 2値分類のため今回は1を設定\n",
        "NUM_CLASSES = 1\n",
        "\n",
        "# Hyperbandアルゴリズムの試行回数(default:1)\n",
        "HYPERBAND_ITERATIONS = 1 #@param{type:'number'}\n",
        "# Hyperbandアルゴリズムで使用する削減率(default:3)\n",
        "FACTOR = 3 #@param{type:'number'}\n",
        "# 1つあたりのモデルのEpoch数\n",
        "MAX_EPOCHS = 10 #@param{type:'number'}\n",
        "SEED = 7\n",
        "\n",
        "\n",
        "hyper_model = BloodHyperModel(input_shape=input_shape,\n",
        "                              num_classes=NUM_CLASSES,\n",
        "                              train_X_np=train_X.values)\n",
        "display(hyper_model)\n",
        "\n",
        "tuner = Hyperband(hypermodel=hyper_model,\n",
        "                  objective='val_accuracy',\n",
        "                  hyperband_iterations=HYPERBAND_ITERATIONS,\n",
        "                  factor=FACTOR,\n",
        "                  max_epochs=MAX_EPOCHS,\n",
        "                  seed=SEED\n",
        "                  )\n",
        "display(tuner)\n",
        "\n",
        "# 早期停止コールバックの定義\n",
        "es = callbacks.EarlyStopping(monitor='val_loss',\n",
        "                             patience=2)\n",
        "\n",
        "class ClearTrainingOutput(callbacks.Callback):\n",
        "    '''Ipythonログをクリアするコールバックのクラス定義'''\n",
        "    def on_train_end(*args, **kwargs):\n",
        "        IPython.display.clear_output(wait = True)"
      ],
      "execution_count": 11,
      "outputs": [
        {
          "output_type": "display_data",
          "data": {
            "text/plain": [
              "<__main__.BloodHyperModel at 0x7f63ebc07ba8>"
            ]
          },
          "metadata": {
            "tags": []
          }
        },
        {
          "output_type": "display_data",
          "data": {
            "text/plain": [
              "<kerastuner.tuners.hyperband.Hyperband at 0x7f6390027a90>"
            ]
          },
          "metadata": {
            "tags": []
          }
        }
      ]
    },
    {
      "cell_type": "code",
      "metadata": {
        "id": "-Hw0Bf3b9u71",
        "outputId": "b4795b52-511b-4f8c-aa72-d95ac218a2b3",
        "colab": {
          "base_uri": "https://localhost:8080/",
          "height": 527
        }
      },
      "source": [
        "%%time\n",
        "tuner.search(train_X.values, train_y.values,\n",
        "             validation_data=(val_X.values, val_y.values),\n",
        "             callbacks=[es, ClearTrainingOutput()],\n",
        "             verbose=1)"
      ],
      "execution_count": 12,
      "outputs": [
        {
          "output_type": "display_data",
          "data": {
            "text/html": [
              "<span style=\"color:#4527A0\"><h1 style=\"font-size:18px\">Trial complete</h1></span>"
            ],
            "text/plain": [
              "<IPython.core.display.HTML object>"
            ]
          },
          "metadata": {
            "tags": []
          }
        },
        {
          "output_type": "display_data",
          "data": {
            "text/html": [
              "<span style=\"color:#4527A0\"><h1 style=\"font-size:18px\">Trial summary</h1></span>"
            ],
            "text/plain": [
              "<IPython.core.display.HTML object>"
            ]
          },
          "metadata": {
            "tags": []
          }
        },
        {
          "output_type": "display_data",
          "data": {
            "text/html": [
              "<span style=\"color:cyan\"> |-Trial ID: e26769c0fb9006fed05d9d26005ade05</span>"
            ],
            "text/plain": [
              "<IPython.core.display.HTML object>"
            ]
          },
          "metadata": {
            "tags": []
          }
        },
        {
          "output_type": "display_data",
          "data": {
            "text/html": [
              "<span style=\"color:cyan\"> |-Score: 0.7666666507720947</span>"
            ],
            "text/plain": [
              "<IPython.core.display.HTML object>"
            ]
          },
          "metadata": {
            "tags": []
          }
        },
        {
          "output_type": "display_data",
          "data": {
            "text/html": [
              "<span style=\"color:cyan\"> |-Best step: 0</span>"
            ],
            "text/plain": [
              "<IPython.core.display.HTML object>"
            ]
          },
          "metadata": {
            "tags": []
          }
        },
        {
          "output_type": "display_data",
          "data": {
            "text/html": [
              "<span style=\"color:#7E57C2\"><h2 style=\"font-size:16px\">Hyperparameters:</h2></span>"
            ],
            "text/plain": [
              "<IPython.core.display.HTML object>"
            ]
          },
          "metadata": {
            "tags": []
          }
        },
        {
          "output_type": "display_data",
          "data": {
            "text/html": [
              "<span style=\"color:cyan\"> |-is_processing_layer: False</span>"
            ],
            "text/plain": [
              "<IPython.core.display.HTML object>"
            ]
          },
          "metadata": {
            "tags": []
          }
        },
        {
          "output_type": "display_data",
          "data": {
            "text/html": [
              "<span style=\"color:blue\"> |-learning_rate: 0.1</span>"
            ],
            "text/plain": [
              "<IPython.core.display.HTML object>"
            ]
          },
          "metadata": {
            "tags": []
          }
        },
        {
          "output_type": "display_data",
          "data": {
            "text/html": [
              "<span style=\"color:cyan\"> |-num_layers: 10</span>"
            ],
            "text/plain": [
              "<IPython.core.display.HTML object>"
            ]
          },
          "metadata": {
            "tags": []
          }
        },
        {
          "output_type": "display_data",
          "data": {
            "text/html": [
              "<span style=\"color:blue\"> |-tuner/bracket: 0</span>"
            ],
            "text/plain": [
              "<IPython.core.display.HTML object>"
            ]
          },
          "metadata": {
            "tags": []
          }
        },
        {
          "output_type": "display_data",
          "data": {
            "text/html": [
              "<span style=\"color:cyan\"> |-tuner/epochs: 10</span>"
            ],
            "text/plain": [
              "<IPython.core.display.HTML object>"
            ]
          },
          "metadata": {
            "tags": []
          }
        },
        {
          "output_type": "display_data",
          "data": {
            "text/html": [
              "<span style=\"color:blue\"> |-tuner/initial_epoch: 0</span>"
            ],
            "text/plain": [
              "<IPython.core.display.HTML object>"
            ]
          },
          "metadata": {
            "tags": []
          }
        },
        {
          "output_type": "display_data",
          "data": {
            "text/html": [
              "<span style=\"color:cyan\"> |-tuner/round: 0</span>"
            ],
            "text/plain": [
              "<IPython.core.display.HTML object>"
            ]
          },
          "metadata": {
            "tags": []
          }
        },
        {
          "output_type": "display_data",
          "data": {
            "text/html": [
              "<span style=\"color:blue\"> |-units_0: 128</span>"
            ],
            "text/plain": [
              "<IPython.core.display.HTML object>"
            ]
          },
          "metadata": {
            "tags": []
          }
        },
        {
          "output_type": "display_data",
          "data": {
            "text/html": [
              "<span style=\"color:cyan\"> |-units_1: 32</span>"
            ],
            "text/plain": [
              "<IPython.core.display.HTML object>"
            ]
          },
          "metadata": {
            "tags": []
          }
        },
        {
          "output_type": "display_data",
          "data": {
            "text/html": [
              "<span style=\"color:blue\"> |-units_2: 64</span>"
            ],
            "text/plain": [
              "<IPython.core.display.HTML object>"
            ]
          },
          "metadata": {
            "tags": []
          }
        },
        {
          "output_type": "display_data",
          "data": {
            "text/html": [
              "<span style=\"color:cyan\"> |-units_3: 112</span>"
            ],
            "text/plain": [
              "<IPython.core.display.HTML object>"
            ]
          },
          "metadata": {
            "tags": []
          }
        },
        {
          "output_type": "display_data",
          "data": {
            "text/html": [
              "<span style=\"color:blue\"> |-units_4: 48</span>"
            ],
            "text/plain": [
              "<IPython.core.display.HTML object>"
            ]
          },
          "metadata": {
            "tags": []
          }
        },
        {
          "output_type": "display_data",
          "data": {
            "text/html": [
              "<span style=\"color:cyan\"> |-units_5: 64</span>"
            ],
            "text/plain": [
              "<IPython.core.display.HTML object>"
            ]
          },
          "metadata": {
            "tags": []
          }
        },
        {
          "output_type": "display_data",
          "data": {
            "text/html": [
              "<span style=\"color:blue\"> |-units_6: 64</span>"
            ],
            "text/plain": [
              "<IPython.core.display.HTML object>"
            ]
          },
          "metadata": {
            "tags": []
          }
        },
        {
          "output_type": "display_data",
          "data": {
            "text/html": [
              "<span style=\"color:cyan\"> |-units_7: 96</span>"
            ],
            "text/plain": [
              "<IPython.core.display.HTML object>"
            ]
          },
          "metadata": {
            "tags": []
          }
        },
        {
          "output_type": "display_data",
          "data": {
            "text/html": [
              "<span style=\"color:blue\"> |-units_8: 80</span>"
            ],
            "text/plain": [
              "<IPython.core.display.HTML object>"
            ]
          },
          "metadata": {
            "tags": []
          }
        },
        {
          "output_type": "display_data",
          "data": {
            "text/html": [
              "<span style=\"color:cyan\"> |-units_9: 16</span>"
            ],
            "text/plain": [
              "<IPython.core.display.HTML object>"
            ]
          },
          "metadata": {
            "tags": []
          }
        },
        {
          "output_type": "stream",
          "text": [
            "INFO:tensorflow:Oracle triggered exit\n",
            "CPU times: user 40.6 s, sys: 1.86 s, total: 42.5 s\n",
            "Wall time: 43.4 s\n"
          ],
          "name": "stdout"
        }
      ]
    },
    {
      "cell_type": "markdown",
      "metadata": {
        "id": "weFfG5S6PGq1"
      },
      "source": [
        "# ベストなモデルの可視化"
      ]
    },
    {
      "cell_type": "code",
      "metadata": {
        "id": "9rPFtIfgPMkd",
        "outputId": "92cdb899-dbec-4df1-e2b9-8e8670e50f43",
        "colab": {
          "base_uri": "https://localhost:8080/",
          "height": 1000
        }
      },
      "source": [
        "def display_best_model(tuner):\n",
        "    '''ベストなモデルの構造を表示'''\n",
        "    best_model = tuner.get_best_models()[0]\n",
        "    display(plot_model(best_model))\n",
        "    display(best_model.summary())\n",
        "\n",
        "\n",
        "def display_best_hp(tuner):\n",
        "    '''ベストなハイパーパラメータを表示'''\n",
        "    best_hp = tuner.get_best_hyperparameters()[0]\n",
        "    display(best_hp.get_config()['values'])\n",
        "\n",
        "\n",
        "display_best_model(tuner)\n",
        "display_best_hp(tuner)"
      ],
      "execution_count": 13,
      "outputs": [
        {
          "output_type": "display_data",
          "data": {
            "image/png": "[encoded data removed]",
            "text/plain": [
              "<IPython.core.display.Image object>"
            ]
          },
          "metadata": {
            "tags": []
          }
        },
        {
          "output_type": "stream",
          "text": [
            "Model: \"sequential\"\n",
            "_________________________________________________________________\n",
            "Layer (type)                 Output Shape              Param #   \n",
            "=================================================================\n",
            "dense (Dense)                (None, 32)                160       \n",
            "_________________________________________________________________\n",
            "dropout (Dropout)            (None, 32)                0         \n",
            "_________________________________________________________________\n",
            "dense_1 (Dense)              (None, 128)               4224      \n",
            "_________________________________________________________________\n",
            "dropout_1 (Dropout)          (None, 128)               0         \n",
            "_________________________________________________________________\n",
            "dense_2 (Dense)              (None, 80)                10320     \n",
            "_________________________________________________________________\n",
            "dropout_2 (Dropout)          (None, 80)                0         \n",
            "_________________________________________________________________\n",
            "dense_3 (Dense)              (None, 32)                2592      \n",
            "_________________________________________________________________\n",
            "dropout_3 (Dropout)          (None, 32)                0         \n",
            "_________________________________________________________________\n",
            "dense_4 (Dense)              (None, 1)                 33        \n",
            "=================================================================\n",
            "Total params: 17,329\n",
            "Trainable params: 17,329\n",
            "Non-trainable params: 0\n",
            "_________________________________________________________________\n"
          ],
          "name": "stdout"
        },
        {
          "output_type": "display_data",
          "data": {
            "text/plain": [
              "None"
            ]
          },
          "metadata": {
            "tags": []
          }
        },
        {
          "output_type": "stream",
          "text": [
            "WARNING:tensorflow:Unresolved object in checkpoint: (root).optimizer.iter\n",
            "WARNING:tensorflow:Unresolved object in checkpoint: (root).optimizer.beta_1\n",
            "WARNING:tensorflow:Unresolved object in checkpoint: (root).optimizer.beta_2\n",
            "WARNING:tensorflow:Unresolved object in checkpoint: (root).optimizer.decay\n",
            "WARNING:tensorflow:Unresolved object in checkpoint: (root).optimizer.learning_rate\n",
            "WARNING:tensorflow:A checkpoint was restored (e.g. tf.train.Checkpoint.restore or tf.keras.Model.load_weights) but not all checkpointed values were used. See above for specific issues. Use expect_partial() on the load status object, e.g. tf.train.Checkpoint.restore(...).expect_partial(), to silence these warnings, or use assert_consumed() to make the check explicit. See https://www.tensorflow.org/guide/checkpoint#loading_mechanics for details.\n"
          ],
          "name": "stdout"
        },
        {
          "output_type": "display_data",
          "data": {
            "text/plain": [
              "{'is_processing_layer': False,\n",
              " 'learning_rate': 0.001,\n",
              " 'num_layers': 4,\n",
              " 'tuner/bracket': 2,\n",
              " 'tuner/epochs': 2,\n",
              " 'tuner/initial_epoch': 0,\n",
              " 'tuner/round': 0,\n",
              " 'units_0': 32,\n",
              " 'units_1': 128,\n",
              " 'units_2': 80,\n",
              " 'units_3': 32}"
            ]
          },
          "metadata": {
            "tags": []
          }
        }
      ]
    },
    {
      "cell_type": "markdown",
      "metadata": {
        "id": "_3LKr4_8-Oog"
      },
      "source": [
        "# モデルの評価"
      ]
    },
    {
      "cell_type": "code",
      "metadata": {
        "id": "XnV-dU04RTE6"
      },
      "source": [
        "def take_best_model(tuner):\n",
        "    '''ベストなモデルを取り出し'''\n",
        "    best_model = tuner.get_best_models()[0]\n",
        "    return best_model\n",
        "\n",
        "\n",
        "model = take_best_model(tuner)   "
      ],
      "execution_count": 14,
      "outputs": []
    },
    {
      "cell_type": "markdown",
      "metadata": {
        "id": "wHY9MTb9toqk"
      },
      "source": [
        "## Kerasの組み込み評価関数"
      ]
    },
    {
      "cell_type": "code",
      "metadata": {
        "id": "_54U-ToWRHw5",
        "outputId": "73ecedf8-0ac0-4f53-82ae-1c831e345e1f",
        "colab": {
          "base_uri": "https://localhost:8080/",
          "height": 54
        }
      },
      "source": [
        "score = model.evaluate(x=test_X.values, y=test_y.values, batch_size=256)\n",
        "display('loss : {}, accuracy : {}'.format(score[0], score[1]))"
      ],
      "execution_count": 15,
      "outputs": [
        {
          "output_type": "stream",
          "text": [
            "1/1 [==============================] - 0s 5ms/step - loss: 9.7625 - accuracy: 0.7467 - binary_crossentropy: 9.7625\n"
          ],
          "name": "stdout"
        },
        {
          "output_type": "display_data",
          "data": {
            "application/vnd.google.colaboratory.intrinsic+json": {
              "type": "string"
            },
            "text/plain": [
              "'loss : 9.762469291687012, accuracy : 0.746666669845581'"
            ]
          },
          "metadata": {
            "tags": []
          }
        }
      ]
    },
    {
      "cell_type": "markdown",
      "metadata": {
        "id": "18KhQRcS-ZNh"
      },
      "source": [
        "## sklearnの評価関数"
      ]
    },
    {
      "cell_type": "code",
      "metadata": {
        "id": "W0ZrIMjb-HT0",
        "outputId": "912b458c-2c31-4361-97c3-ad0f15147806",
        "colab": {
          "base_uri": "https://localhost:8080/"
        }
      },
      "source": [
        "%%time\n",
        "def predict_binary_class_label(model, threshold=0.5):\n",
        "    '''二値分類モデルの予測結果から予測クラスを取り出し\n",
        "    TODO: 諸々の作成'''\n",
        "\n",
        "# 予測結果の取得\n",
        "train_y_pred = model.predict(train_X)\n",
        "val_y_pred = model.predict(val_X)\n",
        "test_y_pred = model.predict(test_X)\n",
        "\n",
        "train_report = classification_report (y_true=train_y, y_score=train_y_pred)\n",
        "val_report = classification_report (y_true=val_y, y_score=val_y_pred)\n",
        "test_report = roc_auc_classification_reportscore (y_true=test_y, y_score=test_y_pred)\n",
        "\n",
        "print(train_report)\n",
        "print('----- -----')\n",
        "print(val_report)\n",
        "print('----- -----')\n",
        "print(test_report)\n",
        "\n"
      ],
      "execution_count": 23,
      "outputs": [
        {
          "output_type": "stream",
          "text": [
            "0.3189524785323966\n",
            "----- -----\n",
            "0.35054347826086957\n",
            "----- -----\n",
            "0.37394266917293234\n"
          ],
          "name": "stdout"
        }
      ]
    }
  ]
}