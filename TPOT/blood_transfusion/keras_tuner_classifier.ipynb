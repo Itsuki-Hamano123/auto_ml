{
  "nbformat": 4,
  "nbformat_minor": 0,
  "metadata": {
    "colab": {
      "name": "keras_tuner_classifier.ipynb",
      "provenance": [],
      "collapsed_sections": [],
      "mount_file_id": "1QZMQJgH0EGVz6hjfnMVaXLmNH5o_oOxd",
      "authorship_tag": "ABX9TyPlpvmDIvXlag3khAOfPDsS",
      "include_colab_link": true
    },
    "kernelspec": {
      "name": "python3",
      "display_name": "Python 3"
    },
    "accelerator": "GPU"
  },
  "cells": [
    {
      "cell_type": "markdown",
      "metadata": {
        "id": "view-in-github",
        "colab_type": "text"
      },
      "source": [
        "<a href=\"https://colab.research.google.com/github/Itsuki-Hamano123/auto_ml/blob/master/TPOT/blood_transfusion/keras_tuner_classifier.ipynb\" target=\"_parent\"><img src=\"https://colab.research.google.com/assets/colab-badge.svg\" alt=\"Open In Colab\"/></a>"
      ]
    },
    {
      "cell_type": "code",
      "metadata": {
        "id": "X9avgfy440Gw",
        "outputId": "9e245e48-b65c-4599-892a-7124d31e1b38",
        "colab": {
          "base_uri": "https://localhost:8080/"
        }
      },
      "source": [
        "%pip install -q keras-tuner\n",
        "%pip show keras-tuner scikit-learn"
      ],
      "execution_count": 1,
      "outputs": [
        {
          "output_type": "stream",
          "text": [
            "\u001b[?25l\r\u001b[K     |██████                          | 10kB 18.4MB/s eta 0:00:01\r\u001b[K     |████████████                    | 20kB 3.7MB/s eta 0:00:01\r\u001b[K     |██████████████████              | 30kB 4.8MB/s eta 0:00:01\r\u001b[K     |████████████████████████        | 40kB 4.0MB/s eta 0:00:01\r\u001b[K     |██████████████████████████████  | 51kB 4.8MB/s eta 0:00:01\r\u001b[K     |████████████████████████████████| 61kB 3.4MB/s \n",
            "\u001b[?25h  Building wheel for keras-tuner (setup.py) ... \u001b[?25l\u001b[?25hdone\n",
            "  Building wheel for terminaltables (setup.py) ... \u001b[?25l\u001b[?25hdone\n",
            "Name: keras-tuner\n",
            "Version: 1.0.1\n",
            "Summary: Hypertuner for Keras\n",
            "Home-page: https://github.com/keras-team/keras-tuner\n",
            "Author: The Keras Tuner authors\n",
            "Author-email: kerastuner@google.com\n",
            "License: Apache License 2.0\n",
            "Location: /usr/local/lib/python3.6/dist-packages\n",
            "Requires: tabulate, future, tqdm, scipy, requests, colorama, scikit-learn, terminaltables, numpy\n",
            "Required-by: \n",
            "---\n",
            "Name: scikit-learn\n",
            "Version: 0.22.2.post1\n",
            "Summary: A set of python modules for machine learning and data mining\n",
            "Home-page: http://scikit-learn.org\n",
            "Author: None\n",
            "Author-email: None\n",
            "License: new BSD\n",
            "Location: /usr/local/lib/python3.6/dist-packages\n",
            "Requires: joblib, numpy, scipy\n",
            "Required-by: yellowbrick, umap-learn, textgenrnn, sklearn, sklearn-pandas, mlxtend, lucid, lightgbm, librosa, keras-tuner, imbalanced-learn, fancyimpute\n"
          ],
          "name": "stdout"
        }
      ]
    },
    {
      "cell_type": "markdown",
      "metadata": {
        "id": "hPW_0GuC6foJ"
      },
      "source": [
        "[輸血データセット:https://www.openml.org/d/1464](https://www.openml.org/d/1464)"
      ]
    },
    {
      "cell_type": "code",
      "metadata": {
        "id": "K9cZDbpY6vBv"
      },
      "source": [
        "import datetime, IPython, os \n",
        "\n",
        "import numpy as np\n",
        "\n",
        "from kerastuner import HyperModel, Hyperband\n",
        "from sklearn.datasets import fetch_openml\n",
        "from sklearn.model_selection import train_test_split\n",
        "from sklearn.metrics import classification_report \n",
        "\n",
        "from tensorflow.keras import Sequential, layers, callbacks, optimizers\n",
        "from tensorflow.keras.utils import to_categorical, plot_model"
      ],
      "execution_count": 2,
      "outputs": []
    },
    {
      "cell_type": "markdown",
      "metadata": {
        "id": "uWiPUEPf9Myk"
      },
      "source": [
        "# データ読み込み"
      ]
    },
    {
      "cell_type": "code",
      "metadata": {
        "id": "I0_LeqYd6b77",
        "outputId": "5fc48231-023d-4395-a125-10f506bce050",
        "colab": {
          "base_uri": "https://localhost:8080/",
          "height": 626
        }
      },
      "source": [
        "%%time\n",
        "DATA_ID = '1464' #@param{type:'string'}\n",
        "\n",
        "# データセットをフェッチ\n",
        "X, y = fetch_openml(data_id=DATA_ID, return_X_y=True, as_frame=True)\n",
        "\n",
        "def processing_y(y):\n",
        "    '''ラベルyの加工'''\n",
        "    def _convert_dtype(y, type='int64'):\n",
        "        '''dtype: category(文字列型)をint64に変更'''\n",
        "        return y.astype('int64')\n",
        "    \n",
        "    def _indicator_start_0(y):\n",
        "        '''インディケータ開始の数を0にする'''\n",
        "        return y - y[np.argmin(y)]\n",
        "\n",
        "    def _encode_one_hot(y, dtype=('int64')):\n",
        "        '''one-hotエンコーディング'''\n",
        "        return to_categorical(y, dtype='int64')\n",
        "\n",
        "    y = _convert_dtype(y)\n",
        "    y = _indicator_start_0(y)\n",
        "    y = _encode_one_hot(y)\n",
        "    return y\n",
        "\n",
        "\n",
        "y = processing_y(y)\n",
        "display(X)\n",
        "display(y)\n",
        "\n",
        "\n",
        "SEED = 7 #@param{type:'number'}\n",
        "SPLIT = 0.2 #@param{type:'number'}\n",
        "\n",
        "train_X, test_X, train_y, test_y = train_test_split(X, y,\n",
        "                                                    test_size=SPLIT,\n",
        "                                                    random_state=SEED,\n",
        "                                                    shuffle=True)\n",
        "train_X, val_X, train_y, val_y = train_test_split(train_X, train_y,\n",
        "                                                  test_size=SPLIT,\n",
        "                                                  random_state=SEED,\n",
        "                                                  shuffle=True)\n",
        "\n",
        "display('train shape:{}'.format(train_X.shape))\n",
        "display('val shape:{}'.format(val_X.shape))\n",
        "display('test shape:{}'.format(test_X.shape))"
      ],
      "execution_count": 3,
      "outputs": [
        {
          "output_type": "display_data",
          "data": {
            "text/html": [
              "<div>\n",
              "<style scoped>\n",
              "    .dataframe tbody tr th:only-of-type {\n",
              "        vertical-align: middle;\n",
              "    }\n",
              "\n",
              "    .dataframe tbody tr th {\n",
              "        vertical-align: top;\n",
              "    }\n",
              "\n",
              "    .dataframe thead th {\n",
              "        text-align: right;\n",
              "    }\n",
              "</style>\n",
              "<table border=\"1\" class=\"dataframe\">\n",
              "  <thead>\n",
              "    <tr style=\"text-align: right;\">\n",
              "      <th></th>\n",
              "      <th>V1</th>\n",
              "      <th>V2</th>\n",
              "      <th>V3</th>\n",
              "      <th>V4</th>\n",
              "    </tr>\n",
              "  </thead>\n",
              "  <tbody>\n",
              "    <tr>\n",
              "      <th>0</th>\n",
              "      <td>2.0</td>\n",
              "      <td>50.0</td>\n",
              "      <td>12500.0</td>\n",
              "      <td>98.0</td>\n",
              "    </tr>\n",
              "    <tr>\n",
              "      <th>1</th>\n",
              "      <td>0.0</td>\n",
              "      <td>13.0</td>\n",
              "      <td>3250.0</td>\n",
              "      <td>28.0</td>\n",
              "    </tr>\n",
              "    <tr>\n",
              "      <th>2</th>\n",
              "      <td>1.0</td>\n",
              "      <td>16.0</td>\n",
              "      <td>4000.0</td>\n",
              "      <td>35.0</td>\n",
              "    </tr>\n",
              "    <tr>\n",
              "      <th>3</th>\n",
              "      <td>2.0</td>\n",
              "      <td>20.0</td>\n",
              "      <td>5000.0</td>\n",
              "      <td>45.0</td>\n",
              "    </tr>\n",
              "    <tr>\n",
              "      <th>4</th>\n",
              "      <td>1.0</td>\n",
              "      <td>24.0</td>\n",
              "      <td>6000.0</td>\n",
              "      <td>77.0</td>\n",
              "    </tr>\n",
              "    <tr>\n",
              "      <th>...</th>\n",
              "      <td>...</td>\n",
              "      <td>...</td>\n",
              "      <td>...</td>\n",
              "      <td>...</td>\n",
              "    </tr>\n",
              "    <tr>\n",
              "      <th>743</th>\n",
              "      <td>23.0</td>\n",
              "      <td>2.0</td>\n",
              "      <td>500.0</td>\n",
              "      <td>38.0</td>\n",
              "    </tr>\n",
              "    <tr>\n",
              "      <th>744</th>\n",
              "      <td>21.0</td>\n",
              "      <td>2.0</td>\n",
              "      <td>500.0</td>\n",
              "      <td>52.0</td>\n",
              "    </tr>\n",
              "    <tr>\n",
              "      <th>745</th>\n",
              "      <td>23.0</td>\n",
              "      <td>3.0</td>\n",
              "      <td>750.0</td>\n",
              "      <td>62.0</td>\n",
              "    </tr>\n",
              "    <tr>\n",
              "      <th>746</th>\n",
              "      <td>39.0</td>\n",
              "      <td>1.0</td>\n",
              "      <td>250.0</td>\n",
              "      <td>39.0</td>\n",
              "    </tr>\n",
              "    <tr>\n",
              "      <th>747</th>\n",
              "      <td>72.0</td>\n",
              "      <td>1.0</td>\n",
              "      <td>250.0</td>\n",
              "      <td>72.0</td>\n",
              "    </tr>\n",
              "  </tbody>\n",
              "</table>\n",
              "<p>748 rows × 4 columns</p>\n",
              "</div>"
            ],
            "text/plain": [
              "       V1    V2       V3    V4\n",
              "0     2.0  50.0  12500.0  98.0\n",
              "1     0.0  13.0   3250.0  28.0\n",
              "2     1.0  16.0   4000.0  35.0\n",
              "3     2.0  20.0   5000.0  45.0\n",
              "4     1.0  24.0   6000.0  77.0\n",
              "..    ...   ...      ...   ...\n",
              "743  23.0   2.0    500.0  38.0\n",
              "744  21.0   2.0    500.0  52.0\n",
              "745  23.0   3.0    750.0  62.0\n",
              "746  39.0   1.0    250.0  39.0\n",
              "747  72.0   1.0    250.0  72.0\n",
              "\n",
              "[748 rows x 4 columns]"
            ]
          },
          "metadata": {
            "tags": []
          }
        },
        {
          "output_type": "display_data",
          "data": {
            "text/plain": [
              "array([[0, 1],\n",
              "       [0, 1],\n",
              "       [0, 1],\n",
              "       ...,\n",
              "       [1, 0],\n",
              "       [1, 0],\n",
              "       [1, 0]])"
            ]
          },
          "metadata": {
            "tags": []
          }
        },
        {
          "output_type": "display_data",
          "data": {
            "application/vnd.google.colaboratory.intrinsic+json": {
              "type": "string"
            },
            "text/plain": [
              "'train shape:(478, 4)'"
            ]
          },
          "metadata": {
            "tags": []
          }
        },
        {
          "output_type": "display_data",
          "data": {
            "application/vnd.google.colaboratory.intrinsic+json": {
              "type": "string"
            },
            "text/plain": [
              "'val shape:(120, 4)'"
            ]
          },
          "metadata": {
            "tags": []
          }
        },
        {
          "output_type": "display_data",
          "data": {
            "application/vnd.google.colaboratory.intrinsic+json": {
              "type": "string"
            },
            "text/plain": [
              "'test shape:(150, 4)'"
            ]
          },
          "metadata": {
            "tags": []
          }
        },
        {
          "output_type": "stream",
          "text": [
            "CPU times: user 70.8 ms, sys: 11.2 ms, total: 82 ms\n",
            "Wall time: 422 ms\n"
          ],
          "name": "stdout"
        }
      ]
    },
    {
      "cell_type": "markdown",
      "metadata": {
        "id": "J5YamKo39PL8"
      },
      "source": [
        "# モデル構築"
      ]
    },
    {
      "cell_type": "code",
      "metadata": {
        "id": "nLfoAPTYkdd1"
      },
      "source": [
        "class BloodHyperModel(HyperModel):\n",
        "\n",
        "      def __init__(self, input_shape, num_classes, train_X_np):\n",
        "          self.input_shape = input_shape\n",
        "          self.num_classes = num_classes\n",
        "          self.norm_layer = self._setupNormalizationLayer(X=train_X_np)\n",
        "      \n",
        "\n",
        "      def _setupNormalizationLayer(self, X):\n",
        "          '''正規化の前処理レイヤーを初期化'''\n",
        "          norm_layer = layers.experimental.preprocessing.Normalization()\n",
        "          norm_layer.adapt(X)\n",
        "          return norm_layer\n",
        "\n",
        "\n",
        "      def build(self, hp):\n",
        "          '''モデル構造と探索空間の定義'''\n",
        "          model = Sequential()\n",
        "          model.add(layers.Input(shape=self.input_shape))\n",
        "\n",
        "          hp_processing_layer = hp.Boolean('is_processing_layer', default=False)\n",
        "          if hp_processing_layer:\n",
        "              model.add(self.norm_layer)\n",
        "            \n",
        "          for i in range(hp.Int('num_layers', min_value=2, max_value=10, step=1)):\n",
        "              units = hp.Int('units_'+str(i), min_value=16, max_value=128, step=16)\n",
        "              model.add(layers.Dense(units=units, activation='relu'))\n",
        "              model.add(layers.Dropout(rate=0.3))\n",
        "\n",
        "          model.add(layers.Dense(self.num_classes, activation='softmax'))\n",
        "\n",
        "          model.compile(\n",
        "              optimizer=optimizers.Adam(\n",
        "                  hp.Choice('learning_rate', [1e-1, 1e-3, 1e-4])),\n",
        "              loss='categorical_crossentropy',\n",
        "              metrics=['accuracy', 'categorical_crossentropy'])\n",
        "          \n",
        "          return model"
      ],
      "execution_count": 4,
      "outputs": []
    },
    {
      "cell_type": "code",
      "metadata": {
        "id": "SIueBUl57oOJ",
        "outputId": "8687e2b5-817d-4a19-f081-d0fe041feb91",
        "colab": {
          "base_uri": "https://localhost:8080/",
          "height": 51
        }
      },
      "source": [
        "input_shape = (train_X.shape[1], )\n",
        "NUM_CLASSES = 2\n",
        "\n",
        "# Hyperbandアルゴリズムの試行回数(default:1)\n",
        "HYPERBAND_ITERATIONS = 2 #@param{type:'number'}\n",
        "# Hyperbandアルゴリズムで使用する削減率(default:3)\n",
        "FACTOR = 3 #@param{type:'number'}\n",
        "# 1つあたりのモデルのEpoch数\n",
        "MAX_EPOCHS = 20 #@param{type:'number'}\n",
        "SEED = 7\n",
        "\n",
        "\n",
        "hyper_model = BloodHyperModel(input_shape=input_shape,\n",
        "                              num_classes=NUM_CLASSES,\n",
        "                              train_X_np=train_X.values)\n",
        "display(hyper_model)\n",
        "\n",
        "tuner = Hyperband(hypermodel=hyper_model,\n",
        "                  objective='val_accuracy',\n",
        "                  hyperband_iterations=HYPERBAND_ITERATIONS,\n",
        "                  factor=FACTOR,\n",
        "                  max_epochs=MAX_EPOCHS,\n",
        "                  seed=SEED\n",
        "                  )\n",
        "display(tuner)\n",
        "\n",
        "# 早期停止コールバックの定義\n",
        "es = callbacks.EarlyStopping(monitor='val_loss',\n",
        "                             patience=5)\n",
        "\n",
        "class ClearTrainingOutput(callbacks.Callback):\n",
        "    '''Ipythonログをクリアするコールバックのクラス定義'''\n",
        "    def on_train_end(*args, **kwargs):\n",
        "        IPython.display.clear_output(wait = True)"
      ],
      "execution_count": 5,
      "outputs": [
        {
          "output_type": "display_data",
          "data": {
            "text/plain": [
              "<__main__.BloodHyperModel at 0x7f86c4dd4c18>"
            ]
          },
          "metadata": {
            "tags": []
          }
        },
        {
          "output_type": "display_data",
          "data": {
            "text/plain": [
              "<kerastuner.tuners.hyperband.Hyperband at 0x7f86c4d72390>"
            ]
          },
          "metadata": {
            "tags": []
          }
        }
      ]
    },
    {
      "cell_type": "code",
      "metadata": {
        "id": "-Hw0Bf3b9u71",
        "outputId": "e6f9a546-dc1b-48d7-a76f-bc048c954ecc",
        "colab": {
          "base_uri": "https://localhost:8080/",
          "height": 516
        }
      },
      "source": [
        "%%time\n",
        "tuner.search(train_X.values, train_y,\n",
        "             validation_data=(val_X.values, val_y),\n",
        "             callbacks=[es, ClearTrainingOutput()],\n",
        "             verbose=1)"
      ],
      "execution_count": 6,
      "outputs": [
        {
          "output_type": "display_data",
          "data": {
            "text/html": [
              "<span style=\"color:#4527A0\"><h1 style=\"font-size:18px\">Trial complete</h1></span>"
            ],
            "text/plain": [
              "<IPython.core.display.HTML object>"
            ]
          },
          "metadata": {
            "tags": []
          }
        },
        {
          "output_type": "display_data",
          "data": {
            "text/html": [
              "<span style=\"color:#4527A0\"><h1 style=\"font-size:18px\">Trial summary</h1></span>"
            ],
            "text/plain": [
              "<IPython.core.display.HTML object>"
            ]
          },
          "metadata": {
            "tags": []
          }
        },
        {
          "output_type": "display_data",
          "data": {
            "text/html": [
              "<span style=\"color:cyan\"> |-Trial ID: a89bfdb278f41143f1c8f1cd5e33d9e8</span>"
            ],
            "text/plain": [
              "<IPython.core.display.HTML object>"
            ]
          },
          "metadata": {
            "tags": []
          }
        },
        {
          "output_type": "display_data",
          "data": {
            "text/html": [
              "<span style=\"color:cyan\"> |-Score: 0.7916666865348816</span>"
            ],
            "text/plain": [
              "<IPython.core.display.HTML object>"
            ]
          },
          "metadata": {
            "tags": []
          }
        },
        {
          "output_type": "display_data",
          "data": {
            "text/html": [
              "<span style=\"color:cyan\"> |-Best step: 0</span>"
            ],
            "text/plain": [
              "<IPython.core.display.HTML object>"
            ]
          },
          "metadata": {
            "tags": []
          }
        },
        {
          "output_type": "display_data",
          "data": {
            "text/html": [
              "<span style=\"color:#7E57C2\"><h2 style=\"font-size:16px\">Hyperparameters:</h2></span>"
            ],
            "text/plain": [
              "<IPython.core.display.HTML object>"
            ]
          },
          "metadata": {
            "tags": []
          }
        },
        {
          "output_type": "display_data",
          "data": {
            "text/html": [
              "<span style=\"color:cyan\"> |-is_processing_layer: False</span>"
            ],
            "text/plain": [
              "<IPython.core.display.HTML object>"
            ]
          },
          "metadata": {
            "tags": []
          }
        },
        {
          "output_type": "display_data",
          "data": {
            "text/html": [
              "<span style=\"color:blue\"> |-learning_rate: 0.0001</span>"
            ],
            "text/plain": [
              "<IPython.core.display.HTML object>"
            ]
          },
          "metadata": {
            "tags": []
          }
        },
        {
          "output_type": "display_data",
          "data": {
            "text/html": [
              "<span style=\"color:cyan\"> |-num_layers: 8</span>"
            ],
            "text/plain": [
              "<IPython.core.display.HTML object>"
            ]
          },
          "metadata": {
            "tags": []
          }
        },
        {
          "output_type": "display_data",
          "data": {
            "text/html": [
              "<span style=\"color:blue\"> |-tuner/bracket: 0</span>"
            ],
            "text/plain": [
              "<IPython.core.display.HTML object>"
            ]
          },
          "metadata": {
            "tags": []
          }
        },
        {
          "output_type": "display_data",
          "data": {
            "text/html": [
              "<span style=\"color:cyan\"> |-tuner/epochs: 20</span>"
            ],
            "text/plain": [
              "<IPython.core.display.HTML object>"
            ]
          },
          "metadata": {
            "tags": []
          }
        },
        {
          "output_type": "display_data",
          "data": {
            "text/html": [
              "<span style=\"color:blue\"> |-tuner/initial_epoch: 0</span>"
            ],
            "text/plain": [
              "<IPython.core.display.HTML object>"
            ]
          },
          "metadata": {
            "tags": []
          }
        },
        {
          "output_type": "display_data",
          "data": {
            "text/html": [
              "<span style=\"color:cyan\"> |-tuner/round: 0</span>"
            ],
            "text/plain": [
              "<IPython.core.display.HTML object>"
            ]
          },
          "metadata": {
            "tags": []
          }
        },
        {
          "output_type": "display_data",
          "data": {
            "text/html": [
              "<span style=\"color:blue\"> |-units_0: 96</span>"
            ],
            "text/plain": [
              "<IPython.core.display.HTML object>"
            ]
          },
          "metadata": {
            "tags": []
          }
        },
        {
          "output_type": "display_data",
          "data": {
            "text/html": [
              "<span style=\"color:cyan\"> |-units_1: 112</span>"
            ],
            "text/plain": [
              "<IPython.core.display.HTML object>"
            ]
          },
          "metadata": {
            "tags": []
          }
        },
        {
          "output_type": "display_data",
          "data": {
            "text/html": [
              "<span style=\"color:blue\"> |-units_2: 32</span>"
            ],
            "text/plain": [
              "<IPython.core.display.HTML object>"
            ]
          },
          "metadata": {
            "tags": []
          }
        },
        {
          "output_type": "display_data",
          "data": {
            "text/html": [
              "<span style=\"color:cyan\"> |-units_3: 64</span>"
            ],
            "text/plain": [
              "<IPython.core.display.HTML object>"
            ]
          },
          "metadata": {
            "tags": []
          }
        },
        {
          "output_type": "display_data",
          "data": {
            "text/html": [
              "<span style=\"color:blue\"> |-units_4: 64</span>"
            ],
            "text/plain": [
              "<IPython.core.display.HTML object>"
            ]
          },
          "metadata": {
            "tags": []
          }
        },
        {
          "output_type": "display_data",
          "data": {
            "text/html": [
              "<span style=\"color:cyan\"> |-units_5: 32</span>"
            ],
            "text/plain": [
              "<IPython.core.display.HTML object>"
            ]
          },
          "metadata": {
            "tags": []
          }
        },
        {
          "output_type": "display_data",
          "data": {
            "text/html": [
              "<span style=\"color:blue\"> |-units_6: 96</span>"
            ],
            "text/plain": [
              "<IPython.core.display.HTML object>"
            ]
          },
          "metadata": {
            "tags": []
          }
        },
        {
          "output_type": "display_data",
          "data": {
            "text/html": [
              "<span style=\"color:cyan\"> |-units_7: 96</span>"
            ],
            "text/plain": [
              "<IPython.core.display.HTML object>"
            ]
          },
          "metadata": {
            "tags": []
          }
        },
        {
          "output_type": "display_data",
          "data": {
            "text/html": [
              "<span style=\"color:blue\"> |-units_8: 48</span>"
            ],
            "text/plain": [
              "<IPython.core.display.HTML object>"
            ]
          },
          "metadata": {
            "tags": []
          }
        },
        {
          "output_type": "display_data",
          "data": {
            "text/html": [
              "<span style=\"color:cyan\"> |-units_9: 48</span>"
            ],
            "text/plain": [
              "<IPython.core.display.HTML object>"
            ]
          },
          "metadata": {
            "tags": []
          }
        },
        {
          "output_type": "stream",
          "text": [
            "INFO:tensorflow:Oracle triggered exit\n",
            "CPU times: user 2min 2s, sys: 7.97 s, total: 2min 10s\n",
            "Wall time: 2min 10s\n"
          ],
          "name": "stdout"
        }
      ]
    },
    {
      "cell_type": "markdown",
      "metadata": {
        "id": "weFfG5S6PGq1"
      },
      "source": [
        "# ベストなモデルの可視化"
      ]
    },
    {
      "cell_type": "code",
      "metadata": {
        "id": "9rPFtIfgPMkd",
        "outputId": "b7512c53-3ad6-43eb-b08a-d10435c788e8",
        "colab": {
          "base_uri": "https://localhost:8080/",
          "height": 1000
        }
      },
      "source": [
        "def display_best_model(tuner):\n",
        "    '''ベストなモデルの構造を表示'''\n",
        "    best_model = tuner.get_best_models()[0]\n",
        "    display(plot_model(best_model))\n",
        "    display(best_model.summary())\n",
        "\n",
        "\n",
        "def display_best_hp(tuner):\n",
        "    '''ベストなハイパーパラメータを表示'''\n",
        "    best_hp = tuner.get_best_hyperparameters()[0]\n",
        "    display(best_hp.get_config()['values'])\n",
        "\n",
        "\n",
        "display_best_model(tuner)\n",
        "display_best_hp(tuner)"
      ],
      "execution_count": 7,
      "outputs": [
        {
          "output_type": "display_data",
          "data": {
            "image/png": "[encoded data removed]",
            "text/plain": [
              "<IPython.core.display.Image object>"
            ]
          },
          "metadata": {
            "tags": []
          }
        },
        {
          "output_type": "stream",
          "text": [
            "Model: \"sequential\"\n",
            "_________________________________________________________________\n",
            "Layer (type)                 Output Shape              Param #   \n",
            "=================================================================\n",
            "normalization (Normalization (None, 4)                 9         \n",
            "_________________________________________________________________\n",
            "dense (Dense)                (None, 48)                240       \n",
            "_________________________________________________________________\n",
            "dropout (Dropout)            (None, 48)                0         \n",
            "_________________________________________________________________\n",
            "dense_1 (Dense)              (None, 112)               5488      \n",
            "_________________________________________________________________\n",
            "dropout_1 (Dropout)          (None, 112)               0         \n",
            "_________________________________________________________________\n",
            "dense_2 (Dense)              (None, 96)                10848     \n",
            "_________________________________________________________________\n",
            "dropout_2 (Dropout)          (None, 96)                0         \n",
            "_________________________________________________________________\n",
            "dense_3 (Dense)              (None, 48)                4656      \n",
            "_________________________________________________________________\n",
            "dropout_3 (Dropout)          (None, 48)                0         \n",
            "_________________________________________________________________\n",
            "dense_4 (Dense)              (None, 2)                 98        \n",
            "=================================================================\n",
            "Total params: 21,339\n",
            "Trainable params: 21,330\n",
            "Non-trainable params: 9\n",
            "_________________________________________________________________\n"
          ],
          "name": "stdout"
        },
        {
          "output_type": "display_data",
          "data": {
            "text/plain": [
              "None"
            ]
          },
          "metadata": {
            "tags": []
          }
        },
        {
          "output_type": "stream",
          "text": [
            "WARNING:tensorflow:Unresolved object in checkpoint: (root).optimizer.iter\n",
            "WARNING:tensorflow:Unresolved object in checkpoint: (root).optimizer.beta_1\n",
            "WARNING:tensorflow:Unresolved object in checkpoint: (root).optimizer.beta_2\n",
            "WARNING:tensorflow:Unresolved object in checkpoint: (root).optimizer.decay\n",
            "WARNING:tensorflow:Unresolved object in checkpoint: (root).optimizer.learning_rate\n",
            "WARNING:tensorflow:A checkpoint was restored (e.g. tf.train.Checkpoint.restore or tf.keras.Model.load_weights) but not all checkpointed values were used. See above for specific issues. Use expect_partial() on the load status object, e.g. tf.train.Checkpoint.restore(...).expect_partial(), to silence these warnings, or use assert_consumed() to make the check explicit. See https://www.tensorflow.org/guide/checkpoint#loading_mechanics for details.\n"
          ],
          "name": "stdout"
        },
        {
          "output_type": "display_data",
          "data": {
            "text/plain": [
              "{'is_processing_layer': True,\n",
              " 'learning_rate': 0.001,\n",
              " 'num_layers': 4,\n",
              " 'tuner/bracket': 1,\n",
              " 'tuner/epochs': 7,\n",
              " 'tuner/initial_epoch': 0,\n",
              " 'tuner/round': 0,\n",
              " 'units_0': 48,\n",
              " 'units_1': 112,\n",
              " 'units_2': 96,\n",
              " 'units_3': 48,\n",
              " 'units_4': 128,\n",
              " 'units_5': 48,\n",
              " 'units_6': 80,\n",
              " 'units_7': 16,\n",
              " 'units_8': 96,\n",
              " 'units_9': 64}"
            ]
          },
          "metadata": {
            "tags": []
          }
        }
      ]
    },
    {
      "cell_type": "markdown",
      "metadata": {
        "id": "_3LKr4_8-Oog"
      },
      "source": [
        "# モデルの評価"
      ]
    },
    {
      "cell_type": "code",
      "metadata": {
        "id": "XnV-dU04RTE6"
      },
      "source": [
        "def take_best_model(tuner):\n",
        "    '''ベストなモデルを取り出し'''\n",
        "    best_model = tuner.get_best_models()[0]\n",
        "    return best_model\n",
        "\n",
        "\n",
        "model = take_best_model(tuner)   "
      ],
      "execution_count": 8,
      "outputs": []
    },
    {
      "cell_type": "markdown",
      "metadata": {
        "id": "wHY9MTb9toqk"
      },
      "source": [
        "## Kerasの組み込み評価関数"
      ]
    },
    {
      "cell_type": "code",
      "metadata": {
        "id": "_54U-ToWRHw5",
        "outputId": "95dad1d8-9ae1-421c-f9f8-d4894a561d2c",
        "colab": {
          "base_uri": "https://localhost:8080/",
          "height": 52
        }
      },
      "source": [
        "score = model.evaluate(x=test_X.values, y=test_y, batch_size=256)\n",
        "display('loss : {}, accuracy : {}'.format(score[0], score[1]))"
      ],
      "execution_count": 9,
      "outputs": [
        {
          "output_type": "stream",
          "text": [
            "1/1 [==============================] - 0s 11ms/step - loss: 0.4767 - accuracy: 0.7467 - categorical_crossentropy: 0.4767\n"
          ],
          "name": "stdout"
        },
        {
          "output_type": "display_data",
          "data": {
            "application/vnd.google.colaboratory.intrinsic+json": {
              "type": "string"
            },
            "text/plain": [
              "'loss : 0.4766902029514313, accuracy : 0.746666669845581'"
            ]
          },
          "metadata": {
            "tags": []
          }
        }
      ]
    },
    {
      "cell_type": "markdown",
      "metadata": {
        "id": "18KhQRcS-ZNh"
      },
      "source": [
        "## sklearnの評価関数"
      ]
    },
    {
      "cell_type": "code",
      "metadata": {
        "id": "W0ZrIMjb-HT0",
        "outputId": "ee617ec6-d86e-490e-f626-b4445d0057b7",
        "colab": {
          "base_uri": "https://localhost:8080/"
        }
      },
      "source": [
        "%%time\n",
        "def predict_classes(model, X):\n",
        "    '''クラスラベルの予測を取得'''\n",
        "    return np.argmax(model.predict(X), axis=-1)\n",
        "\n",
        "\n",
        "# 予測結果の取得\n",
        "train_y_pred = predict_classes(model, train_X.values)\n",
        "val_y_pred = predict_classes(model, val_X.values)\n",
        "test_y_pred = predict_classes(model, test_X.values)\n",
        "\n",
        "\n",
        "def encode_class_label(one_hot_vector):\n",
        "    '''one-hotベクトルをクラスラベルに変換'''\n",
        "    return np.argmax(one_hot_vector, axis=1)\n",
        "\n",
        "\n",
        "train_report = classification_report(y_true=encode_class_label(train_y), y_pred=train_y_pred)\n",
        "val_report = classification_report(y_true=encode_class_label(val_y), y_pred=val_y_pred)\n",
        "test_report = classification_report(y_true=encode_class_label(test_y), y_pred=test_y_pred)\n",
        "\n",
        "print(train_report)\n",
        "print('----- -----')\n",
        "print(val_report)\n",
        "print('----- -----')\n",
        "print(test_report)"
      ],
      "execution_count": 10,
      "outputs": [
        {
          "output_type": "stream",
          "text": [
            "              precision    recall  f1-score   support\n",
            "\n",
            "           0       0.84      0.94      0.89       366\n",
            "           1       0.68      0.41      0.51       112\n",
            "\n",
            "    accuracy                           0.82       478\n",
            "   macro avg       0.76      0.68      0.70       478\n",
            "weighted avg       0.80      0.82      0.80       478\n",
            "\n",
            "----- -----\n",
            "              precision    recall  f1-score   support\n",
            "\n",
            "           0       0.83      0.96      0.89        92\n",
            "           1       0.71      0.36      0.48        28\n",
            "\n",
            "    accuracy                           0.82       120\n",
            "   macro avg       0.77      0.66      0.68       120\n",
            "weighted avg       0.80      0.82      0.79       120\n",
            "\n",
            "----- -----\n",
            "              precision    recall  f1-score   support\n",
            "\n",
            "           0       0.78      0.91      0.84       112\n",
            "           1       0.50      0.26      0.34        38\n",
            "\n",
            "    accuracy                           0.75       150\n",
            "   macro avg       0.64      0.59      0.59       150\n",
            "weighted avg       0.71      0.75      0.72       150\n",
            "\n",
            "CPU times: user 250 ms, sys: 15.1 ms, total: 265 ms\n",
            "Wall time: 256 ms\n"
          ],
          "name": "stdout"
        }
      ]
    },
    {
      "cell_type": "code",
      "metadata": {
        "id": "c3ULOftKX1Wo"
      },
      "source": [
        ""
      ],
      "execution_count": 10,
      "outputs": []
    }
  ]
}